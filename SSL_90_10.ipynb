{
  "nbformat": 4,
  "nbformat_minor": 0,
  "metadata": {
    "colab": {
      "provenance": [],
      "gpuType": "T4"
    },
    "kernelspec": {
      "name": "python3",
      "display_name": "Python 3"
    },
    "language_info": {
      "name": "python"
    },
    "accelerator": "GPU"
  },
  "cells": [
    {
      "cell_type": "code",
      "source": [
        "import matplotlib.pyplot as plt\n",
        "import seaborn as sns\n",
        "import numpy as np\n",
        "import os\n",
        "\n",
        "from sklearn.metrics import confusion_matrix"
      ],
      "metadata": {
        "id": "LUgljOg1gTeH"
      },
      "execution_count": 46,
      "outputs": []
    },
    {
      "cell_type": "code",
      "source": [
        "\n",
        "# Neural Network imports\n",
        "import tensorflow as tf\n",
        "from tensorflow.keras.models import Sequential\n",
        "from tensorflow.keras.models import load_model\n",
        "from tensorflow.keras.layers import MaxPooling2D\n",
        "from tensorflow.keras.layers import Conv2D\n",
        "from tensorflow.keras.layers import Dense\n",
        "from tensorflow.keras.layers import Dropout\n",
        "from tensorflow.keras.layers import Flatten\n",
        "from tensorflow.keras.layers import Input\n",
        "from tensorflow.keras.optimizers import Adam"
      ],
      "metadata": {
        "id": "K87LqOqqgbz2"
      },
      "execution_count": 47,
      "outputs": []
    },
    {
      "cell_type": "code",
      "source": [
        "# Image augmentation importrs\n",
        "from tensorflow.keras.utils import load_img\n",
        "from tensorflow.keras.preprocessing import image\n",
        "from tensorflow.keras.layers import RandomRotation\n",
        "from tensorflow.keras.layers import RandomContrast\n",
        "from tensorflow.keras.layers import RandomZoom\n",
        "from tensorflow.keras.layers import RandomFlip\n",
        "from tensorflow.keras.layers import RandomTranslation"
      ],
      "metadata": {
        "id": "W1cvHyg_gcQH"
      },
      "execution_count": 48,
      "outputs": []
    },
    {
      "cell_type": "code",
      "source": [
        "\n",
        "# Training Model callbacks\n",
        "from tensorflow.keras.callbacks import ReduceLROnPlateau\n",
        "from tensorflow.keras.callbacks import ModelCheckpoint"
      ],
      "metadata": {
        "id": "kn2wnjSlgfo2"
      },
      "execution_count": 49,
      "outputs": []
    },
    {
      "cell_type": "code",
      "source": [
        "def get_data_labels(directory, shuffle=True, random_state=0):\n",
        "    from sklearn.utils import shuffle\n",
        "    data_path = []\n",
        "    data_index = []\n",
        "    label_dict = {label: index for index, label in enumerate(sorted(os.listdir(directory)))}\n",
        "\n",
        "    for label, index in label_dict.items():\n",
        "        label_dir = os.path.join(directory, label)\n",
        "        for image in os.listdir(label_dir):\n",
        "            image_path = os.path.join(label_dir, image)\n",
        "            data_path.append(image_path)\n",
        "            data_index.append(index)\n",
        "\n",
        "    if shuffle:\n",
        "        data_path, data_index = shuffle(data_path, data_index, random_state=random_state)\n",
        "\n",
        "    return data_path, data_index\n",
        "\n",
        "def parse_function(filename, label, image_size, n_channels):\n",
        "    image_string = tf.io.read_file(filename)\n",
        "    image = tf.image.decode_jpeg(image_string, n_channels)\n",
        "    image = tf.image.resize(image, image_size)\n",
        "    return image, label\n",
        "\n",
        "def get_dataset(paths, labels, image_size, n_channels=1, num_classes=4, batch_size=32):\n",
        "    path_ds = tf.data.Dataset.from_tensor_slices((paths, labels))\n",
        "    image_label_ds = path_ds.map(lambda path, label: parse_function(path, label, image_size, n_channels),\n",
        "                                 num_parallel_calls=tf.data.AUTOTUNE)\n",
        "    return image_label_ds.batch(batch_size).prefetch(buffer_size=tf.data.AUTOTUNE)"
      ],
      "metadata": {
        "id": "n-XtEkqKghZX"
      },
      "execution_count": 50,
      "outputs": []
    },
    {
      "cell_type": "code",
      "source": [
        "import os\n",
        "import tensorflow as tf\n",
        "\n",
        "\n",
        "train_paths = 'BT100/Training'\n",
        "test_paths = 'BT100/Testing'\n",
        "\n",
        "\n",
        "train_image_paths, train_index = get_data_labels(train_paths)\n",
        "\n",
        "test_image_paths, test_index = get_data_labels(test_paths)\n",
        "\n",
        "\n",
        "batch_size = 32\n",
        "image_dim = (168, 168)\n",
        "train_ds = get_dataset(train_image_paths, train_index, image_dim, n_channels=1, num_classes=4, batch_size=batch_size)\n",
        "test_ds = get_dataset(test_image_paths, test_index, image_dim, n_channels=1, num_classes=4, batch_size=batch_size)\n",
        ""
      ],
      "metadata": {
        "id": "HPIPa5e8gnWW"
      },
      "execution_count": 52,
      "outputs": []
    },
    {
      "cell_type": "code",
      "source": [
        "class_mappings = {'Glioma': 0, 'Meninigioma': 1, 'Notumor': 2, 'Pituitary': 3}\n",
        "inv_class_mappings = {v: k for k, v in class_mappings.items()}\n",
        "class_names = list(class_mappings.keys())"
      ],
      "metadata": {
        "id": "gygH5NVJgty3"
      },
      "execution_count": 53,
      "outputs": []
    },
    {
      "cell_type": "code",
      "source": [
        "# Printing traing and testing sample sizes\n",
        "print('Training')\n",
        "# print(f'Number of Paths: {len(train_paths)}')\n",
        "print(f'Number of Labels: {len(train_index)}')\n",
        "print('\\nTesting')\n",
        "# print(f'Number of Paths: {len(test_paths)}')\n",
        "print(f'Number of Labels: {len(test_index)}')"
      ],
      "metadata": {
        "colab": {
          "base_uri": "https://localhost:8080/"
        },
        "id": "MiNfy854gxqn",
        "outputId": "04db24e7-3008-4f46-975f-fba43c181315"
      },
      "execution_count": 55,
      "outputs": [
        {
          "output_type": "stream",
          "name": "stdout",
          "text": [
            "Training\n",
            "Number of Labels: 5143\n",
            "\n",
            "Testing\n",
            "Number of Labels: 1311\n"
          ]
        }
      ]
    },
    {
      "cell_type": "code",
      "source": [
        "# Dta augmentation sequential model\n",
        "data_augmentation = Sequential([\n",
        "    RandomFlip(\"horizontal\"),\n",
        "    RandomRotation(0.02, fill_mode='constant'),\n",
        "    RandomContrast(0.1),\n",
        "    RandomZoom(height_factor=0.01, width_factor=0.05),\n",
        "    RandomTranslation(height_factor=0.0015, width_factor=0.0015, fill_mode='constant'),\n",
        "])\n",
        "\n",
        "# Training augmentation and nornalization\n",
        "def preprocess_train(image, label):\n",
        "    # Apply data augmentation and Normalize\n",
        "    image = data_augmentation(image) / 255.0\n",
        "    return image, label\n",
        "\n",
        "\n",
        "\n",
        "\n",
        "# For test dataset only appying normalization\n",
        "def preprocess_test(image, label):\n",
        "    return image / 255.0, label\n",
        "\n",
        "\n",
        "\n",
        "\n",
        "# Apply transformation to training and testing datasets\n",
        "train_ds_preprocessed = train_ds.map(preprocess_train, num_parallel_calls=tf.data.AUTOTUNE)\n",
        "test_ds_preprocessed = test_ds.map(preprocess_test, num_parallel_calls=tf.data.AUTOTUNE)"
      ],
      "metadata": {
        "id": "W1XGYrQkg7o2"
      },
      "execution_count": 56,
      "outputs": []
    },
    {
      "cell_type": "code",
      "source": [
        "num_classes = len(class_mappings.keys())\n",
        "image_shape = (image_dim[0], image_dim[1], 1)\n",
        "\n",
        "# Training epochs and batch size\n",
        "epochs = 50\n",
        "print(f'Number of Classes: {num_classes}')\n",
        "print(f'Image shape: {image_shape}')\n",
        "print(f'Epochs: {epochs}')\n",
        "print(f'Batch size: {batch_size}')\n",
        "\n",
        "def encode_labels(image, label):\n",
        "    return image, tf.one_hot(label, depth=num_classes)\n",
        "\n",
        "train_ds_preprocessed = train_ds_preprocessed.map(encode_labels, num_parallel_calls=tf.data.AUTOTUNE)\n",
        "test_ds_preprocessed = test_ds_preprocessed.map(encode_labels, num_parallel_calls=tf.data.AUTOTUNE)\n",
        ""
      ],
      "metadata": {
        "colab": {
          "base_uri": "https://localhost:8080/"
        },
        "id": "KEgvH4neg74X",
        "outputId": "92e10436-f7fc-40be-8c49-cc8630c4ee54"
      },
      "execution_count": 57,
      "outputs": [
        {
          "output_type": "stream",
          "name": "stdout",
          "text": [
            "Number of Classes: 4\n",
            "Image shape: (168, 168, 1)\n",
            "Epochs: 50\n",
            "Batch size: 32\n"
          ]
        }
      ]
    },
    {
      "cell_type": "code",
      "source": [
        "model = Sequential([\n",
        "    # Input tensor shape\n",
        "    Input(shape=image_shape),\n",
        "\n",
        "    # Convolutional layer 1\n",
        "    Conv2D(64, (5, 5), activation=\"relu\"),\n",
        "    MaxPooling2D(pool_size=(3, 3)),\n",
        "\n",
        "    # Convolutional layer 2\n",
        "    Conv2D(64, (5, 5), activation=\"relu\"),\n",
        "    MaxPooling2D(pool_size=(3, 3)),\n",
        "\n",
        "    # Convolutional layer 3\n",
        "    Conv2D(128, (4, 4), activation=\"relu\"),\n",
        "    MaxPooling2D(pool_size=(2, 2)),\n",
        "\n",
        "    # Convolutional layer 4\n",
        "    Conv2D(128, (4, 4), activation=\"relu\"),\n",
        "    MaxPooling2D(pool_size=(2, 2)),\n",
        "    Flatten(),\n",
        "\n",
        "    # Dense layers\n",
        "    Dense(512, activation=\"relu\"),\n",
        "    Dense(num_classes, activation=\"softmax\")\n",
        "])\n",
        "\n",
        "# Model summary\n",
        "model.summary()\n",
        "\n",
        "# COompilng model with Adam optimizer\n",
        "optimizer = Adam(learning_rate=0.001, beta_1=0.85, beta_2=0.9925)\n",
        "model.compile(optimizer=optimizer, loss='categorical_crossentropy', metrics= ['accuracy'])"
      ],
      "metadata": {
        "colab": {
          "base_uri": "https://localhost:8080/",
          "height": 481
        },
        "id": "uziUlagohAEn",
        "outputId": "b2a18a2c-9a64-4333-b18b-55417642c175"
      },
      "execution_count": 58,
      "outputs": [
        {
          "output_type": "display_data",
          "data": {
            "text/plain": [
              "\u001b[1mModel: \"sequential_3\"\u001b[0m\n"
            ],
            "text/html": [
              "<pre style=\"white-space:pre;overflow-x:auto;line-height:normal;font-family:Menlo,'DejaVu Sans Mono',consolas,'Courier New',monospace\"><span style=\"font-weight: bold\">Model: \"sequential_3\"</span>\n",
              "</pre>\n"
            ]
          },
          "metadata": {}
        },
        {
          "output_type": "display_data",
          "data": {
            "text/plain": [
              "┏━━━━━━━━━━━━━━━━━━━━━━━━━━━━━━━━━━━━━━┳━━━━━━━━━━━━━━━━━━━━━━━━━━━━━┳━━━━━━━━━━━━━━━━━┓\n",
              "┃\u001b[1m \u001b[0m\u001b[1mLayer (type)                        \u001b[0m\u001b[1m \u001b[0m┃\u001b[1m \u001b[0m\u001b[1mOutput Shape               \u001b[0m\u001b[1m \u001b[0m┃\u001b[1m \u001b[0m\u001b[1m        Param #\u001b[0m\u001b[1m \u001b[0m┃\n",
              "┡━━━━━━━━━━━━━━━━━━━━━━━━━━━━━━━━━━━━━━╇━━━━━━━━━━━━━━━━━━━━━━━━━━━━━╇━━━━━━━━━━━━━━━━━┩\n",
              "│ conv2d_4 (\u001b[38;5;33mConv2D\u001b[0m)                    │ (\u001b[38;5;45mNone\u001b[0m, \u001b[38;5;34m164\u001b[0m, \u001b[38;5;34m164\u001b[0m, \u001b[38;5;34m64\u001b[0m)        │           \u001b[38;5;34m1,664\u001b[0m │\n",
              "├──────────────────────────────────────┼─────────────────────────────┼─────────────────┤\n",
              "│ max_pooling2d_4 (\u001b[38;5;33mMaxPooling2D\u001b[0m)       │ (\u001b[38;5;45mNone\u001b[0m, \u001b[38;5;34m54\u001b[0m, \u001b[38;5;34m54\u001b[0m, \u001b[38;5;34m64\u001b[0m)          │               \u001b[38;5;34m0\u001b[0m │\n",
              "├──────────────────────────────────────┼─────────────────────────────┼─────────────────┤\n",
              "│ conv2d_5 (\u001b[38;5;33mConv2D\u001b[0m)                    │ (\u001b[38;5;45mNone\u001b[0m, \u001b[38;5;34m50\u001b[0m, \u001b[38;5;34m50\u001b[0m, \u001b[38;5;34m64\u001b[0m)          │         \u001b[38;5;34m102,464\u001b[0m │\n",
              "├──────────────────────────────────────┼─────────────────────────────┼─────────────────┤\n",
              "│ max_pooling2d_5 (\u001b[38;5;33mMaxPooling2D\u001b[0m)       │ (\u001b[38;5;45mNone\u001b[0m, \u001b[38;5;34m16\u001b[0m, \u001b[38;5;34m16\u001b[0m, \u001b[38;5;34m64\u001b[0m)          │               \u001b[38;5;34m0\u001b[0m │\n",
              "├──────────────────────────────────────┼─────────────────────────────┼─────────────────┤\n",
              "│ conv2d_6 (\u001b[38;5;33mConv2D\u001b[0m)                    │ (\u001b[38;5;45mNone\u001b[0m, \u001b[38;5;34m13\u001b[0m, \u001b[38;5;34m13\u001b[0m, \u001b[38;5;34m128\u001b[0m)         │         \u001b[38;5;34m131,200\u001b[0m │\n",
              "├──────────────────────────────────────┼─────────────────────────────┼─────────────────┤\n",
              "│ max_pooling2d_6 (\u001b[38;5;33mMaxPooling2D\u001b[0m)       │ (\u001b[38;5;45mNone\u001b[0m, \u001b[38;5;34m6\u001b[0m, \u001b[38;5;34m6\u001b[0m, \u001b[38;5;34m128\u001b[0m)           │               \u001b[38;5;34m0\u001b[0m │\n",
              "├──────────────────────────────────────┼─────────────────────────────┼─────────────────┤\n",
              "│ conv2d_7 (\u001b[38;5;33mConv2D\u001b[0m)                    │ (\u001b[38;5;45mNone\u001b[0m, \u001b[38;5;34m3\u001b[0m, \u001b[38;5;34m3\u001b[0m, \u001b[38;5;34m128\u001b[0m)           │         \u001b[38;5;34m262,272\u001b[0m │\n",
              "├──────────────────────────────────────┼─────────────────────────────┼─────────────────┤\n",
              "│ max_pooling2d_7 (\u001b[38;5;33mMaxPooling2D\u001b[0m)       │ (\u001b[38;5;45mNone\u001b[0m, \u001b[38;5;34m1\u001b[0m, \u001b[38;5;34m1\u001b[0m, \u001b[38;5;34m128\u001b[0m)           │               \u001b[38;5;34m0\u001b[0m │\n",
              "├──────────────────────────────────────┼─────────────────────────────┼─────────────────┤\n",
              "│ flatten_1 (\u001b[38;5;33mFlatten\u001b[0m)                  │ (\u001b[38;5;45mNone\u001b[0m, \u001b[38;5;34m128\u001b[0m)                 │               \u001b[38;5;34m0\u001b[0m │\n",
              "├──────────────────────────────────────┼─────────────────────────────┼─────────────────┤\n",
              "│ dense_2 (\u001b[38;5;33mDense\u001b[0m)                      │ (\u001b[38;5;45mNone\u001b[0m, \u001b[38;5;34m512\u001b[0m)                 │          \u001b[38;5;34m66,048\u001b[0m │\n",
              "├──────────────────────────────────────┼─────────────────────────────┼─────────────────┤\n",
              "│ dense_3 (\u001b[38;5;33mDense\u001b[0m)                      │ (\u001b[38;5;45mNone\u001b[0m, \u001b[38;5;34m4\u001b[0m)                   │           \u001b[38;5;34m2,052\u001b[0m │\n",
              "└──────────────────────────────────────┴─────────────────────────────┴─────────────────┘\n"
            ],
            "text/html": [
              "<pre style=\"white-space:pre;overflow-x:auto;line-height:normal;font-family:Menlo,'DejaVu Sans Mono',consolas,'Courier New',monospace\">┏━━━━━━━━━━━━━━━━━━━━━━━━━━━━━━━━━━━━━━┳━━━━━━━━━━━━━━━━━━━━━━━━━━━━━┳━━━━━━━━━━━━━━━━━┓\n",
              "┃<span style=\"font-weight: bold\"> Layer (type)                         </span>┃<span style=\"font-weight: bold\"> Output Shape                </span>┃<span style=\"font-weight: bold\">         Param # </span>┃\n",
              "┡━━━━━━━━━━━━━━━━━━━━━━━━━━━━━━━━━━━━━━╇━━━━━━━━━━━━━━━━━━━━━━━━━━━━━╇━━━━━━━━━━━━━━━━━┩\n",
              "│ conv2d_4 (<span style=\"color: #0087ff; text-decoration-color: #0087ff\">Conv2D</span>)                    │ (<span style=\"color: #00d7ff; text-decoration-color: #00d7ff\">None</span>, <span style=\"color: #00af00; text-decoration-color: #00af00\">164</span>, <span style=\"color: #00af00; text-decoration-color: #00af00\">164</span>, <span style=\"color: #00af00; text-decoration-color: #00af00\">64</span>)        │           <span style=\"color: #00af00; text-decoration-color: #00af00\">1,664</span> │\n",
              "├──────────────────────────────────────┼─────────────────────────────┼─────────────────┤\n",
              "│ max_pooling2d_4 (<span style=\"color: #0087ff; text-decoration-color: #0087ff\">MaxPooling2D</span>)       │ (<span style=\"color: #00d7ff; text-decoration-color: #00d7ff\">None</span>, <span style=\"color: #00af00; text-decoration-color: #00af00\">54</span>, <span style=\"color: #00af00; text-decoration-color: #00af00\">54</span>, <span style=\"color: #00af00; text-decoration-color: #00af00\">64</span>)          │               <span style=\"color: #00af00; text-decoration-color: #00af00\">0</span> │\n",
              "├──────────────────────────────────────┼─────────────────────────────┼─────────────────┤\n",
              "│ conv2d_5 (<span style=\"color: #0087ff; text-decoration-color: #0087ff\">Conv2D</span>)                    │ (<span style=\"color: #00d7ff; text-decoration-color: #00d7ff\">None</span>, <span style=\"color: #00af00; text-decoration-color: #00af00\">50</span>, <span style=\"color: #00af00; text-decoration-color: #00af00\">50</span>, <span style=\"color: #00af00; text-decoration-color: #00af00\">64</span>)          │         <span style=\"color: #00af00; text-decoration-color: #00af00\">102,464</span> │\n",
              "├──────────────────────────────────────┼─────────────────────────────┼─────────────────┤\n",
              "│ max_pooling2d_5 (<span style=\"color: #0087ff; text-decoration-color: #0087ff\">MaxPooling2D</span>)       │ (<span style=\"color: #00d7ff; text-decoration-color: #00d7ff\">None</span>, <span style=\"color: #00af00; text-decoration-color: #00af00\">16</span>, <span style=\"color: #00af00; text-decoration-color: #00af00\">16</span>, <span style=\"color: #00af00; text-decoration-color: #00af00\">64</span>)          │               <span style=\"color: #00af00; text-decoration-color: #00af00\">0</span> │\n",
              "├──────────────────────────────────────┼─────────────────────────────┼─────────────────┤\n",
              "│ conv2d_6 (<span style=\"color: #0087ff; text-decoration-color: #0087ff\">Conv2D</span>)                    │ (<span style=\"color: #00d7ff; text-decoration-color: #00d7ff\">None</span>, <span style=\"color: #00af00; text-decoration-color: #00af00\">13</span>, <span style=\"color: #00af00; text-decoration-color: #00af00\">13</span>, <span style=\"color: #00af00; text-decoration-color: #00af00\">128</span>)         │         <span style=\"color: #00af00; text-decoration-color: #00af00\">131,200</span> │\n",
              "├──────────────────────────────────────┼─────────────────────────────┼─────────────────┤\n",
              "│ max_pooling2d_6 (<span style=\"color: #0087ff; text-decoration-color: #0087ff\">MaxPooling2D</span>)       │ (<span style=\"color: #00d7ff; text-decoration-color: #00d7ff\">None</span>, <span style=\"color: #00af00; text-decoration-color: #00af00\">6</span>, <span style=\"color: #00af00; text-decoration-color: #00af00\">6</span>, <span style=\"color: #00af00; text-decoration-color: #00af00\">128</span>)           │               <span style=\"color: #00af00; text-decoration-color: #00af00\">0</span> │\n",
              "├──────────────────────────────────────┼─────────────────────────────┼─────────────────┤\n",
              "│ conv2d_7 (<span style=\"color: #0087ff; text-decoration-color: #0087ff\">Conv2D</span>)                    │ (<span style=\"color: #00d7ff; text-decoration-color: #00d7ff\">None</span>, <span style=\"color: #00af00; text-decoration-color: #00af00\">3</span>, <span style=\"color: #00af00; text-decoration-color: #00af00\">3</span>, <span style=\"color: #00af00; text-decoration-color: #00af00\">128</span>)           │         <span style=\"color: #00af00; text-decoration-color: #00af00\">262,272</span> │\n",
              "├──────────────────────────────────────┼─────────────────────────────┼─────────────────┤\n",
              "│ max_pooling2d_7 (<span style=\"color: #0087ff; text-decoration-color: #0087ff\">MaxPooling2D</span>)       │ (<span style=\"color: #00d7ff; text-decoration-color: #00d7ff\">None</span>, <span style=\"color: #00af00; text-decoration-color: #00af00\">1</span>, <span style=\"color: #00af00; text-decoration-color: #00af00\">1</span>, <span style=\"color: #00af00; text-decoration-color: #00af00\">128</span>)           │               <span style=\"color: #00af00; text-decoration-color: #00af00\">0</span> │\n",
              "├──────────────────────────────────────┼─────────────────────────────┼─────────────────┤\n",
              "│ flatten_1 (<span style=\"color: #0087ff; text-decoration-color: #0087ff\">Flatten</span>)                  │ (<span style=\"color: #00d7ff; text-decoration-color: #00d7ff\">None</span>, <span style=\"color: #00af00; text-decoration-color: #00af00\">128</span>)                 │               <span style=\"color: #00af00; text-decoration-color: #00af00\">0</span> │\n",
              "├──────────────────────────────────────┼─────────────────────────────┼─────────────────┤\n",
              "│ dense_2 (<span style=\"color: #0087ff; text-decoration-color: #0087ff\">Dense</span>)                      │ (<span style=\"color: #00d7ff; text-decoration-color: #00d7ff\">None</span>, <span style=\"color: #00af00; text-decoration-color: #00af00\">512</span>)                 │          <span style=\"color: #00af00; text-decoration-color: #00af00\">66,048</span> │\n",
              "├──────────────────────────────────────┼─────────────────────────────┼─────────────────┤\n",
              "│ dense_3 (<span style=\"color: #0087ff; text-decoration-color: #0087ff\">Dense</span>)                      │ (<span style=\"color: #00d7ff; text-decoration-color: #00d7ff\">None</span>, <span style=\"color: #00af00; text-decoration-color: #00af00\">4</span>)                   │           <span style=\"color: #00af00; text-decoration-color: #00af00\">2,052</span> │\n",
              "└──────────────────────────────────────┴─────────────────────────────┴─────────────────┘\n",
              "</pre>\n"
            ]
          },
          "metadata": {}
        },
        {
          "output_type": "display_data",
          "data": {
            "text/plain": [
              "\u001b[1m Total params: \u001b[0m\u001b[38;5;34m565,700\u001b[0m (2.16 MB)\n"
            ],
            "text/html": [
              "<pre style=\"white-space:pre;overflow-x:auto;line-height:normal;font-family:Menlo,'DejaVu Sans Mono',consolas,'Courier New',monospace\"><span style=\"font-weight: bold\"> Total params: </span><span style=\"color: #00af00; text-decoration-color: #00af00\">565,700</span> (2.16 MB)\n",
              "</pre>\n"
            ]
          },
          "metadata": {}
        },
        {
          "output_type": "display_data",
          "data": {
            "text/plain": [
              "\u001b[1m Trainable params: \u001b[0m\u001b[38;5;34m565,700\u001b[0m (2.16 MB)\n"
            ],
            "text/html": [
              "<pre style=\"white-space:pre;overflow-x:auto;line-height:normal;font-family:Menlo,'DejaVu Sans Mono',consolas,'Courier New',monospace\"><span style=\"font-weight: bold\"> Trainable params: </span><span style=\"color: #00af00; text-decoration-color: #00af00\">565,700</span> (2.16 MB)\n",
              "</pre>\n"
            ]
          },
          "metadata": {}
        },
        {
          "output_type": "display_data",
          "data": {
            "text/plain": [
              "\u001b[1m Non-trainable params: \u001b[0m\u001b[38;5;34m0\u001b[0m (0.00 B)\n"
            ],
            "text/html": [
              "<pre style=\"white-space:pre;overflow-x:auto;line-height:normal;font-family:Menlo,'DejaVu Sans Mono',consolas,'Courier New',monospace\"><span style=\"font-weight: bold\"> Non-trainable params: </span><span style=\"color: #00af00; text-decoration-color: #00af00\">0</span> (0.00 B)\n",
              "</pre>\n"
            ]
          },
          "metadata": {}
        }
      ]
    },
    {
      "cell_type": "code",
      "source": [
        "class ReduceLROnMultipleAccuracies(tf.keras.callbacks.Callback):\n",
        "    def __init__(self, thresholds, factor, monitor='val_accuracy', verbose=1):\n",
        "        super(ReduceLROnMultipleAccuracies, self).__init__()\n",
        "        self.thresholds = thresholds  # List of accuracy thresholds\n",
        "        self.factor = factor  # Factor to reduce the learning rate\n",
        "        self.monitor = monitor\n",
        "        self.verbose = verbose\n",
        "        self.thresholds_reached = [False] * len(thresholds)  # Track each threshold\n",
        "\n",
        "    def on_epoch_end(self, epoch, logs=None):\n",
        "        current_accuracy = logs.get(self.monitor)\n",
        "        for i, threshold in enumerate(self.thresholds):\n",
        "            if current_accuracy >= threshold and not self.thresholds_reached[i]:\n",
        "                optimizer = self.model.optimizer\n",
        "                old_lr = optimizer.learning_rate.numpy()\n",
        "                new_lr = old_lr * self.factor\n",
        "                optimizer.learning_rate.assign(new_lr)\n",
        "                self.thresholds_reached[i] = True  # Mark this threshold as reached\n",
        "                if self.verbose > 0:\n",
        "                    print(f\"\\nEpoch {epoch+1}: {self.monitor} reached {threshold}. Reducing learning rate from {old_lr} to {new_lr}.\")\n",
        "\n",
        "# Try a custom callback\n",
        "thresholds = [0.96, 0.99, 0.9935]\n",
        "lr_callback = ReduceLROnMultipleAccuracies(thresholds=thresholds, factor=0.75, monitor='val_accuracy', verbose=False)"
      ],
      "metadata": {
        "id": "JBW_dmJqhFvG"
      },
      "execution_count": 59,
      "outputs": []
    },
    {
      "cell_type": "code",
      "source": [
        "model_rlr = ReduceLROnPlateau(monitor='val_loss', factor=0.8, min_lr=1e-4, patience=4, verbose=False)\n",
        "model_mc = ModelCheckpoint('model.keras', monitor='val_accuracy', mode='max', save_best_only=True, verbose=False)\n",
        "\n",
        "# Training the model\n",
        "history = model.fit(\n",
        "    train_ds_preprocessed,\n",
        "    epochs=epochs,\n",
        "    validation_data=test_ds_preprocessed,\n",
        "    callbacks=[model_rlr, model_mc],\n",
        "    verbose=True\n",
        ")"
      ],
      "metadata": {
        "colab": {
          "base_uri": "https://localhost:8080/"
        },
        "id": "-IISRtUuhKxX",
        "outputId": "62501b14-af6d-4119-f9d2-c87550c6eb76"
      },
      "execution_count": 60,
      "outputs": [
        {
          "output_type": "stream",
          "name": "stdout",
          "text": [
            "Epoch 1/50\n",
            "\u001b[1m161/161\u001b[0m \u001b[32m━━━━━━━━━━━━━━━━━━━━\u001b[0m\u001b[37m\u001b[0m \u001b[1m22s\u001b[0m 111ms/step - accuracy: 0.4725 - loss: 1.1062 - val_accuracy: 0.6789 - val_loss: 0.8272 - learning_rate: 0.0010\n",
            "Epoch 2/50\n",
            "\u001b[1m161/161\u001b[0m \u001b[32m━━━━━━━━━━━━━━━━━━━━\u001b[0m\u001b[37m\u001b[0m \u001b[1m18s\u001b[0m 107ms/step - accuracy: 0.7968 - loss: 0.5308 - val_accuracy: 0.7574 - val_loss: 0.5703 - learning_rate: 0.0010\n",
            "Epoch 3/50\n",
            "\u001b[1m161/161\u001b[0m \u001b[32m━━━━━━━━━━━━━━━━━━━━\u001b[0m\u001b[37m\u001b[0m \u001b[1m16s\u001b[0m 101ms/step - accuracy: 0.8586 - loss: 0.3728 - val_accuracy: 0.8444 - val_loss: 0.4357 - learning_rate: 0.0010\n",
            "Epoch 4/50\n",
            "\u001b[1m161/161\u001b[0m \u001b[32m━━━━━━━━━━━━━━━━━━━━\u001b[0m\u001b[37m\u001b[0m \u001b[1m17s\u001b[0m 101ms/step - accuracy: 0.8983 - loss: 0.2845 - val_accuracy: 0.8841 - val_loss: 0.3250 - learning_rate: 0.0010\n",
            "Epoch 5/50\n",
            "\u001b[1m161/161\u001b[0m \u001b[32m━━━━━━━━━━━━━━━━━━━━\u001b[0m\u001b[37m\u001b[0m \u001b[1m20s\u001b[0m 101ms/step - accuracy: 0.9198 - loss: 0.2175 - val_accuracy: 0.8993 - val_loss: 0.2765 - learning_rate: 0.0010\n",
            "Epoch 6/50\n",
            "\u001b[1m161/161\u001b[0m \u001b[32m━━━━━━━━━━━━━━━━━━━━\u001b[0m\u001b[37m\u001b[0m \u001b[1m20s\u001b[0m 99ms/step - accuracy: 0.9406 - loss: 0.1736 - val_accuracy: 0.9268 - val_loss: 0.2071 - learning_rate: 0.0010\n",
            "Epoch 7/50\n",
            "\u001b[1m161/161\u001b[0m \u001b[32m━━━━━━━━━━━━━━━━━━━━\u001b[0m\u001b[37m\u001b[0m \u001b[1m17s\u001b[0m 103ms/step - accuracy: 0.9490 - loss: 0.1371 - val_accuracy: 0.9443 - val_loss: 0.1823 - learning_rate: 0.0010\n",
            "Epoch 8/50\n",
            "\u001b[1m161/161\u001b[0m \u001b[32m━━━━━━━━━━━━━━━━━━━━\u001b[0m\u001b[37m\u001b[0m \u001b[1m17s\u001b[0m 104ms/step - accuracy: 0.9563 - loss: 0.1128 - val_accuracy: 0.9344 - val_loss: 0.1783 - learning_rate: 0.0010\n",
            "Epoch 9/50\n",
            "\u001b[1m161/161\u001b[0m \u001b[32m━━━━━━━━━━━━━━━━━━━━\u001b[0m\u001b[37m\u001b[0m \u001b[1m16s\u001b[0m 99ms/step - accuracy: 0.9569 - loss: 0.1097 - val_accuracy: 0.9497 - val_loss: 0.1428 - learning_rate: 0.0010\n",
            "Epoch 10/50\n",
            "\u001b[1m161/161\u001b[0m \u001b[32m━━━━━━━━━━━━━━━━━━━━\u001b[0m\u001b[37m\u001b[0m \u001b[1m16s\u001b[0m 98ms/step - accuracy: 0.9747 - loss: 0.0787 - val_accuracy: 0.9252 - val_loss: 0.2213 - learning_rate: 0.0010\n",
            "Epoch 11/50\n",
            "\u001b[1m161/161\u001b[0m \u001b[32m━━━━━━━━━━━━━━━━━━━━\u001b[0m\u001b[37m\u001b[0m \u001b[1m20s\u001b[0m 97ms/step - accuracy: 0.9677 - loss: 0.0970 - val_accuracy: 0.9428 - val_loss: 0.1820 - learning_rate: 0.0010\n",
            "Epoch 12/50\n",
            "\u001b[1m161/161\u001b[0m \u001b[32m━━━━━━━━━━━━━━━━━━━━\u001b[0m\u001b[37m\u001b[0m \u001b[1m16s\u001b[0m 99ms/step - accuracy: 0.9774 - loss: 0.0638 - val_accuracy: 0.9550 - val_loss: 0.1265 - learning_rate: 0.0010\n",
            "Epoch 13/50\n",
            "\u001b[1m161/161\u001b[0m \u001b[32m━━━━━━━━━━━━━━━━━━━━\u001b[0m\u001b[37m\u001b[0m \u001b[1m17s\u001b[0m 103ms/step - accuracy: 0.9795 - loss: 0.0615 - val_accuracy: 0.9634 - val_loss: 0.1155 - learning_rate: 0.0010\n",
            "Epoch 14/50\n",
            "\u001b[1m161/161\u001b[0m \u001b[32m━━━━━━━━━━━━━━━━━━━━\u001b[0m\u001b[37m\u001b[0m \u001b[1m20s\u001b[0m 101ms/step - accuracy: 0.9828 - loss: 0.0518 - val_accuracy: 0.9703 - val_loss: 0.0860 - learning_rate: 0.0010\n",
            "Epoch 15/50\n",
            "\u001b[1m161/161\u001b[0m \u001b[32m━━━━━━━━━━━━━━━━━━━━\u001b[0m\u001b[37m\u001b[0m \u001b[1m17s\u001b[0m 103ms/step - accuracy: 0.9888 - loss: 0.0354 - val_accuracy: 0.9680 - val_loss: 0.1147 - learning_rate: 0.0010\n",
            "Epoch 16/50\n",
            "\u001b[1m161/161\u001b[0m \u001b[32m━━━━━━━━━━━━━━━━━━━━\u001b[0m\u001b[37m\u001b[0m \u001b[1m20s\u001b[0m 99ms/step - accuracy: 0.9858 - loss: 0.0387 - val_accuracy: 0.9275 - val_loss: 0.2179 - learning_rate: 0.0010\n",
            "Epoch 17/50\n",
            "\u001b[1m161/161\u001b[0m \u001b[32m━━━━━━━━━━━━━━━━━━━━\u001b[0m\u001b[37m\u001b[0m \u001b[1m21s\u001b[0m 101ms/step - accuracy: 0.9895 - loss: 0.0392 - val_accuracy: 0.9680 - val_loss: 0.0981 - learning_rate: 0.0010\n",
            "Epoch 18/50\n",
            "\u001b[1m161/161\u001b[0m \u001b[32m━━━━━━━━━━━━━━━━━━━━\u001b[0m\u001b[37m\u001b[0m \u001b[1m16s\u001b[0m 100ms/step - accuracy: 0.9896 - loss: 0.0322 - val_accuracy: 0.9611 - val_loss: 0.1257 - learning_rate: 0.0010\n",
            "Epoch 19/50\n",
            "\u001b[1m161/161\u001b[0m \u001b[32m━━━━━━━━━━━━━━━━━━━━\u001b[0m\u001b[37m\u001b[0m \u001b[1m21s\u001b[0m 101ms/step - accuracy: 0.9842 - loss: 0.0526 - val_accuracy: 0.9641 - val_loss: 0.1260 - learning_rate: 8.0000e-04\n",
            "Epoch 20/50\n",
            "\u001b[1m161/161\u001b[0m \u001b[32m━━━━━━━━━━━━━━━━━━━━\u001b[0m\u001b[37m\u001b[0m \u001b[1m16s\u001b[0m 98ms/step - accuracy: 0.9917 - loss: 0.0247 - val_accuracy: 0.9687 - val_loss: 0.1054 - learning_rate: 8.0000e-04\n",
            "Epoch 21/50\n",
            "\u001b[1m161/161\u001b[0m \u001b[32m━━━━━━━━━━━━━━━━━━━━\u001b[0m\u001b[37m\u001b[0m \u001b[1m17s\u001b[0m 102ms/step - accuracy: 0.9876 - loss: 0.0333 - val_accuracy: 0.9573 - val_loss: 0.1479 - learning_rate: 8.0000e-04\n",
            "Epoch 22/50\n",
            "\u001b[1m161/161\u001b[0m \u001b[32m━━━━━━━━━━━━━━━━━━━━\u001b[0m\u001b[37m\u001b[0m \u001b[1m16s\u001b[0m 98ms/step - accuracy: 0.9916 - loss: 0.0289 - val_accuracy: 0.9725 - val_loss: 0.0843 - learning_rate: 8.0000e-04\n",
            "Epoch 23/50\n",
            "\u001b[1m161/161\u001b[0m \u001b[32m━━━━━━━━━━━━━━━━━━━━\u001b[0m\u001b[37m\u001b[0m \u001b[1m21s\u001b[0m 103ms/step - accuracy: 0.9923 - loss: 0.0216 - val_accuracy: 0.9817 - val_loss: 0.0632 - learning_rate: 8.0000e-04\n",
            "Epoch 24/50\n",
            "\u001b[1m161/161\u001b[0m \u001b[32m━━━━━━━━━━━━━━━━━━━━\u001b[0m\u001b[37m\u001b[0m \u001b[1m16s\u001b[0m 97ms/step - accuracy: 0.9930 - loss: 0.0170 - val_accuracy: 0.9664 - val_loss: 0.1358 - learning_rate: 8.0000e-04\n",
            "Epoch 25/50\n",
            "\u001b[1m161/161\u001b[0m \u001b[32m━━━━━━━━━━━━━━━━━━━━\u001b[0m\u001b[37m\u001b[0m \u001b[1m22s\u001b[0m 105ms/step - accuracy: 0.9912 - loss: 0.0210 - val_accuracy: 0.9771 - val_loss: 0.0776 - learning_rate: 8.0000e-04\n",
            "Epoch 26/50\n",
            "\u001b[1m161/161\u001b[0m \u001b[32m━━━━━━━━━━━━━━━━━━━━\u001b[0m\u001b[37m\u001b[0m \u001b[1m20s\u001b[0m 101ms/step - accuracy: 0.9933 - loss: 0.0177 - val_accuracy: 0.9519 - val_loss: 0.1851 - learning_rate: 8.0000e-04\n",
            "Epoch 27/50\n",
            "\u001b[1m161/161\u001b[0m \u001b[32m━━━━━━━━━━━━━━━━━━━━\u001b[0m\u001b[37m\u001b[0m \u001b[1m17s\u001b[0m 103ms/step - accuracy: 0.9919 - loss: 0.0257 - val_accuracy: 0.9779 - val_loss: 0.0813 - learning_rate: 8.0000e-04\n",
            "Epoch 28/50\n",
            "\u001b[1m161/161\u001b[0m \u001b[32m━━━━━━━━━━━━━━━━━━━━\u001b[0m\u001b[37m\u001b[0m \u001b[1m16s\u001b[0m 97ms/step - accuracy: 0.9924 - loss: 0.0251 - val_accuracy: 0.9817 - val_loss: 0.0952 - learning_rate: 6.4000e-04\n",
            "Epoch 29/50\n",
            "\u001b[1m161/161\u001b[0m \u001b[32m━━━━━━━━━━━━━━━━━━━━\u001b[0m\u001b[37m\u001b[0m \u001b[1m16s\u001b[0m 100ms/step - accuracy: 0.9959 - loss: 0.0100 - val_accuracy: 0.9664 - val_loss: 0.1415 - learning_rate: 6.4000e-04\n",
            "Epoch 30/50\n",
            "\u001b[1m161/161\u001b[0m \u001b[32m━━━━━━━━━━━━━━━━━━━━\u001b[0m\u001b[37m\u001b[0m \u001b[1m20s\u001b[0m 100ms/step - accuracy: 0.9948 - loss: 0.0145 - val_accuracy: 0.9847 - val_loss: 0.0743 - learning_rate: 6.4000e-04\n",
            "Epoch 31/50\n",
            "\u001b[1m161/161\u001b[0m \u001b[32m━━━━━━━━━━━━━━━━━━━━\u001b[0m\u001b[37m\u001b[0m \u001b[1m16s\u001b[0m 96ms/step - accuracy: 0.9962 - loss: 0.0086 - val_accuracy: 0.9771 - val_loss: 0.1148 - learning_rate: 6.4000e-04\n",
            "Epoch 32/50\n",
            "\u001b[1m161/161\u001b[0m \u001b[32m━━━━━━━━━━━━━━━━━━━━\u001b[0m\u001b[37m\u001b[0m \u001b[1m17s\u001b[0m 103ms/step - accuracy: 0.9956 - loss: 0.0133 - val_accuracy: 0.9733 - val_loss: 0.1279 - learning_rate: 5.1200e-04\n",
            "Epoch 33/50\n",
            "\u001b[1m161/161\u001b[0m \u001b[32m━━━━━━━━━━━━━━━━━━━━\u001b[0m\u001b[37m\u001b[0m \u001b[1m20s\u001b[0m 97ms/step - accuracy: 0.9965 - loss: 0.0062 - val_accuracy: 0.9710 - val_loss: 0.1220 - learning_rate: 5.1200e-04\n",
            "Epoch 34/50\n",
            "\u001b[1m161/161\u001b[0m \u001b[32m━━━━━━━━━━━━━━━━━━━━\u001b[0m\u001b[37m\u001b[0m \u001b[1m18s\u001b[0m 109ms/step - accuracy: 0.9965 - loss: 0.0102 - val_accuracy: 0.9794 - val_loss: 0.1183 - learning_rate: 5.1200e-04\n",
            "Epoch 35/50\n",
            "\u001b[1m161/161\u001b[0m \u001b[32m━━━━━━━━━━━━━━━━━━━━\u001b[0m\u001b[37m\u001b[0m \u001b[1m16s\u001b[0m 96ms/step - accuracy: 0.9976 - loss: 0.0053 - val_accuracy: 0.9832 - val_loss: 0.0844 - learning_rate: 5.1200e-04\n",
            "Epoch 36/50\n",
            "\u001b[1m161/161\u001b[0m \u001b[32m━━━━━━━━━━━━━━━━━━━━\u001b[0m\u001b[37m\u001b[0m \u001b[1m16s\u001b[0m 97ms/step - accuracy: 0.9964 - loss: 0.0164 - val_accuracy: 0.9863 - val_loss: 0.0680 - learning_rate: 4.0960e-04\n",
            "Epoch 37/50\n",
            "\u001b[1m161/161\u001b[0m \u001b[32m━━━━━━━━━━━━━━━━━━━━\u001b[0m\u001b[37m\u001b[0m \u001b[1m21s\u001b[0m 100ms/step - accuracy: 0.9991 - loss: 0.0023 - val_accuracy: 0.9870 - val_loss: 0.0922 - learning_rate: 4.0960e-04\n",
            "Epoch 38/50\n",
            "\u001b[1m161/161\u001b[0m \u001b[32m━━━━━━━━━━━━━━━━━━━━\u001b[0m\u001b[37m\u001b[0m \u001b[1m16s\u001b[0m 97ms/step - accuracy: 0.9994 - loss: 0.0016 - val_accuracy: 0.9794 - val_loss: 0.1126 - learning_rate: 4.0960e-04\n",
            "Epoch 39/50\n",
            "\u001b[1m161/161\u001b[0m \u001b[32m━━━━━━━━━━━━━━━━━━━━\u001b[0m\u001b[37m\u001b[0m \u001b[1m21s\u001b[0m 101ms/step - accuracy: 0.9958 - loss: 0.0123 - val_accuracy: 0.9809 - val_loss: 0.1223 - learning_rate: 4.0960e-04\n",
            "Epoch 40/50\n",
            "\u001b[1m161/161\u001b[0m \u001b[32m━━━━━━━━━━━━━━━━━━━━\u001b[0m\u001b[37m\u001b[0m \u001b[1m16s\u001b[0m 101ms/step - accuracy: 0.9976 - loss: 0.0092 - val_accuracy: 0.9840 - val_loss: 0.0923 - learning_rate: 3.2768e-04\n",
            "Epoch 41/50\n",
            "\u001b[1m161/161\u001b[0m \u001b[32m━━━━━━━━━━━━━━━━━━━━\u001b[0m\u001b[37m\u001b[0m \u001b[1m20s\u001b[0m 99ms/step - accuracy: 0.9989 - loss: 0.0018 - val_accuracy: 0.9840 - val_loss: 0.0619 - learning_rate: 3.2768e-04\n",
            "Epoch 42/50\n",
            "\u001b[1m161/161\u001b[0m \u001b[32m━━━━━━━━━━━━━━━━━━━━\u001b[0m\u001b[37m\u001b[0m \u001b[1m21s\u001b[0m 100ms/step - accuracy: 0.9990 - loss: 0.0015 - val_accuracy: 0.9893 - val_loss: 0.0599 - learning_rate: 3.2768e-04\n",
            "Epoch 43/50\n",
            "\u001b[1m161/161\u001b[0m \u001b[32m━━━━━━━━━━━━━━━━━━━━\u001b[0m\u001b[37m\u001b[0m \u001b[1m16s\u001b[0m 98ms/step - accuracy: 0.9982 - loss: 0.0029 - val_accuracy: 0.9794 - val_loss: 0.1317 - learning_rate: 3.2768e-04\n",
            "Epoch 44/50\n",
            "\u001b[1m161/161\u001b[0m \u001b[32m━━━━━━━━━━━━━━━━━━━━\u001b[0m\u001b[37m\u001b[0m \u001b[1m16s\u001b[0m 100ms/step - accuracy: 0.9978 - loss: 0.0048 - val_accuracy: 0.9855 - val_loss: 0.0997 - learning_rate: 3.2768e-04\n",
            "Epoch 45/50\n",
            "\u001b[1m161/161\u001b[0m \u001b[32m━━━━━━━━━━━━━━━━━━━━\u001b[0m\u001b[37m\u001b[0m \u001b[1m20s\u001b[0m 101ms/step - accuracy: 0.9977 - loss: 0.0032 - val_accuracy: 0.9802 - val_loss: 0.1402 - learning_rate: 3.2768e-04\n",
            "Epoch 46/50\n",
            "\u001b[1m161/161\u001b[0m \u001b[32m━━━━━━━━━━━━━━━━━━━━\u001b[0m\u001b[37m\u001b[0m \u001b[1m20s\u001b[0m 98ms/step - accuracy: 0.9981 - loss: 0.0032 - val_accuracy: 0.9863 - val_loss: 0.1041 - learning_rate: 3.2768e-04\n",
            "Epoch 47/50\n",
            "\u001b[1m161/161\u001b[0m \u001b[32m━━━━━━━━━━━━━━━━━━━━\u001b[0m\u001b[37m\u001b[0m \u001b[1m16s\u001b[0m 101ms/step - accuracy: 0.9980 - loss: 0.0040 - val_accuracy: 0.9870 - val_loss: 0.1040 - learning_rate: 2.6214e-04\n",
            "Epoch 48/50\n",
            "\u001b[1m161/161\u001b[0m \u001b[32m━━━━━━━━━━━━━━━━━━━━\u001b[0m\u001b[37m\u001b[0m \u001b[1m18s\u001b[0m 109ms/step - accuracy: 0.9992 - loss: 9.4653e-04 - val_accuracy: 0.9878 - val_loss: 0.1011 - learning_rate: 2.6214e-04\n",
            "Epoch 49/50\n",
            "\u001b[1m161/161\u001b[0m \u001b[32m━━━━━━━━━━━━━━━━━━━━\u001b[0m\u001b[37m\u001b[0m \u001b[1m16s\u001b[0m 99ms/step - accuracy: 0.9984 - loss: 0.0048 - val_accuracy: 0.9878 - val_loss: 0.0963 - learning_rate: 2.6214e-04\n",
            "Epoch 50/50\n",
            "\u001b[1m161/161\u001b[0m \u001b[32m━━━━━━━━━━━━━━━━━━━━\u001b[0m\u001b[37m\u001b[0m \u001b[1m16s\u001b[0m 98ms/step - accuracy: 0.9990 - loss: 0.0014 - val_accuracy: 0.9855 - val_loss: 0.1197 - learning_rate: 2.6214e-04\n"
          ]
        }
      ]
    },
    {
      "cell_type": "code",
      "source": [
        "test_loss, test_acc = model.evaluate(test_ds_preprocessed)\n",
        "print(f\"Test accuracy: {test_acc*100:0.4f}%\")"
      ],
      "metadata": {
        "colab": {
          "base_uri": "https://localhost:8080/"
        },
        "id": "QRG0F6uZhN13",
        "outputId": "e2507750-bba7-46a0-d3b0-98e918824647"
      },
      "execution_count": 61,
      "outputs": [
        {
          "output_type": "stream",
          "name": "stdout",
          "text": [
            "\u001b[1m41/41\u001b[0m \u001b[32m━━━━━━━━━━━━━━━━━━━━\u001b[0m\u001b[37m\u001b[0m \u001b[1m1s\u001b[0m 20ms/step - accuracy: 0.9852 - loss: 0.1303\n",
            "Test accuracy: 98.5507%\n"
          ]
        }
      ]
    },
    {
      "cell_type": "code",
      "source": [
        "from sklearn.metrics import classification_report\n",
        "\n",
        "y_pred = model.predict(test_ds_preprocessed)\n",
        "y_pred_classes = np.argmax(y_pred, axis=1)\n",
        "# Get true labels as class indices instead of one-hot encoded vectors\n",
        "true_labels = np.concatenate([np.argmax(y.numpy(), axis=-1) for x, y in test_ds_preprocessed], axis=0)\n",
        "print(classification_report(true_labels, y_pred_classes))"
      ],
      "metadata": {
        "colab": {
          "base_uri": "https://localhost:8080/"
        },
        "id": "ZxlgXwivlB3W",
        "outputId": "2c1cbc5a-d16c-4382-bedd-cd66878b6c99"
      },
      "execution_count": 62,
      "outputs": [
        {
          "output_type": "stream",
          "name": "stdout",
          "text": [
            "\u001b[1m41/41\u001b[0m \u001b[32m━━━━━━━━━━━━━━━━━━━━\u001b[0m\u001b[37m\u001b[0m \u001b[1m1s\u001b[0m 27ms/step\n",
            "              precision    recall  f1-score   support\n",
            "\n",
            "           0       1.00      0.97      0.99       300\n",
            "           1       0.98      0.97      0.97       306\n",
            "           2       0.98      1.00      0.99       405\n",
            "           3       0.99      1.00      0.99       300\n",
            "\n",
            "    accuracy                           0.99      1311\n",
            "   macro avg       0.99      0.98      0.99      1311\n",
            "weighted avg       0.99      0.99      0.99      1311\n",
            "\n"
          ]
        }
      ]
    },
    {
      "cell_type": "code",
      "source": [
        "from sklearn.metrics import confusion_matrix\n",
        "import seaborn as sns\n",
        "import matplotlib.pyplot as plt\n",
        "\n",
        "cm = confusion_matrix(true_labels, y_pred_classes)\n",
        "\n",
        "plt.figure(figsize=(8, 6))\n",
        "sns.heatmap(cm, annot=True, fmt='d', cmap='Blues', xticklabels=class_names, yticklabels=class_names)\n",
        "plt.xlabel('Predicted')\n",
        "plt.ylabel('True')\n",
        "plt.title('Confusion Matrix')\n",
        "plt.show()\n",
        ""
      ],
      "metadata": {
        "colab": {
          "base_uri": "https://localhost:8080/",
          "height": 564
        },
        "id": "2A4H4l9Bk2jG",
        "outputId": "80829f6d-3077-4c8e-debb-4f5558705ce4"
      },
      "execution_count": 63,
      "outputs": [
        {
          "output_type": "display_data",
          "data": {
            "text/plain": [
              "<Figure size 800x600 with 2 Axes>"
            ],
            "image/png": "[encoded data removed]"
          },
          "metadata": {}
        }
      ]
    },
    {
      "cell_type": "code",
      "source": [
        "model.save('SSL_90-50.h5')"
      ],
      "metadata": {
        "colab": {
          "base_uri": "https://localhost:8080/"
        },
        "id": "JsTmH9PslAzW",
        "outputId": "43bec2d6-4479-4be7-93c5-9974a4920367"
      },
      "execution_count": 64,
      "outputs": [
        {
          "output_type": "stream",
          "name": "stderr",
          "text": [
            "WARNING:absl:You are saving your model as an HDF5 file via `model.save()` or `keras.saving.save_model(model)`. This file format is considered legacy. We recommend using instead the native Keras format, e.g. `model.save('my_model.keras')` or `keras.saving.save_model(model, 'my_model.keras')`. \n"
          ]
        }
      ]
    },
    {
      "cell_type": "code",
      "source": [
        "import os\n",
        "import numpy as np\n",
        "import tensorflow as tf\n",
        "from tensorflow.keras.preprocessing.image import load_img, img_to_array\n",
        "from tqdm import tqdm\n",
        "from datetime import datetime\n",
        "\n",
        "# Define paths\n",
        "MODEL_PATH = \"SSL_90-50.h5\"  # Update with actual model path\n",
        "UNLABELED_DATASET_PATH = \"BT100/unlabelled\"  # Update with actual dataset path\n",
        "OUTPUT_FOLDER = \"BT100/Training\"\n",
        "CONFIDENCE_THRESHOLD = 0.98\n",
        "IMG_SIZE = (168, 168)  # Use the same image size as during training\n",
        "\n",
        "# Define class names\n",
        "CLASS_NAMES = [\"glioma\", \"meningioma\", \"notumor\", \"pituitary\"]  # Update with actual class names\n",
        "\n",
        "# Load trained model\n",
        "model = tf.keras.models.load_model(MODEL_PATH)\n",
        "\n",
        "# Ensure output folders exist\n",
        "for class_name in CLASS_NAMES:\n",
        "    os.makedirs(os.path.join(OUTPUT_FOLDER, class_name), exist_ok=True)\n",
        "\n",
        "# Get list of image files\n",
        "image_files = [f for f in os.listdir(UNLABELED_DATASET_PATH) if f.endswith(('png', 'jpg', 'jpeg'))]\n",
        "\n",
        "for img_file in tqdm(image_files):\n",
        "    img_path = os.path.join(UNLABELED_DATASET_PATH, img_file)\n",
        "\n",
        "    # Load and preprocess image\n",
        "    img = load_img(img_path, target_size=IMG_SIZE, color_mode='grayscale')  # Load as grayscale\n",
        "    img_array = img_to_array(img) / 255.0  # Normalize\n",
        "    img_array = np.expand_dims(img_array, axis=0)  # Add batch dimension\n",
        "\n",
        "    # Get predictions\n",
        "    predictions = model.predict(img_array)\n",
        "    class_id = np.argmax(predictions)\n",
        "    confidence = np.max(predictions)\n",
        "\n",
        "    # Debugging print statements\n",
        "    print(f\"{img_file} -> Class: {CLASS_NAMES[class_id]}, Confidence: {confidence:.2f}\")\n",
        "\n",
        "    # Save pseudo-labeled image if confidence is above threshold\n",
        "    if confidence >= CONFIDENCE_THRESHOLD:\n",
        "        class_folder = os.path.join(OUTPUT_FOLDER, CLASS_NAMES[class_id])\n",
        "\n",
        "        # Ensure unique filenames to prevent overwriting\n",
        "        unique_filename = f\"{datetime.now().strftime('%Y%m%d_%H%M%S')}_{img_file}\"\n",
        "        output_path = os.path.join(class_folder, unique_filename)\n",
        "\n",
        "        print(f\"Saving {img_file} to {output_path}\")\n",
        "        img.save(output_path)\n",
        "\n",
        "print(\"✅ Pseudo-labeling completed. Check the output folder for labeled images.\")\n"
      ],
      "metadata": {
        "colab": {
          "base_uri": "https://localhost:8080/"
        },
        "id": "2nVBWF0pmSok",
        "outputId": "5f0f5a13-8f27-4634-bf25-6fde288a9146"
      },
      "execution_count": 65,
      "outputs": [
        {
          "output_type": "stream",
          "name": "stderr",
          "text": [
            "WARNING:absl:Compiled the loaded model, but the compiled metrics have yet to be built. `model.compile_metrics` will be empty until you train or evaluate the model.\n",
            "  0%|          | 0/569 [00:00<?, ?it/s]"
          ]
        },
        {
          "output_type": "stream",
          "name": "stdout",
          "text": [
            "\u001b[1m1/1\u001b[0m \u001b[32m━━━━━━━━━━━━━━━━━━━━\u001b[0m\u001b[37m\u001b[0m \u001b[1m0s\u001b[0m 319ms/step\n"
          ]
        },
        {
          "output_type": "stream",
          "name": "stderr",
          "text": [
            "\r  0%|          | 1/569 [00:00<06:22,  1.49it/s]"
          ]
        },
        {
          "output_type": "stream",
          "name": "stdout",
          "text": [
            "Tr-pi_1149.jpg -> Class: pituitary, Confidence: 1.00\n",
            "Saving Tr-pi_1149.jpg to BT100/Training/pituitary/20250328_215836_Tr-pi_1149.jpg\n",
            "\u001b[1m1/1\u001b[0m \u001b[32m━━━━━━━━━━━━━━━━━━━━\u001b[0m\u001b[37m\u001b[0m \u001b[1m0s\u001b[0m 29ms/step\n",
            "Tr-me_1169.jpg -> Class: meningioma, Confidence: 1.00\n",
            "Saving Tr-me_1169.jpg to BT100/Training/meningioma/20250328_215836_Tr-me_1169.jpg\n",
            "\u001b[1m1/1\u001b[0m \u001b[32m━━━━━━━━━━━━━━━━━━━━\u001b[0m\u001b[37m\u001b[0m \u001b[1m0s\u001b[0m 28ms/step\n"
          ]
        },
        {
          "output_type": "stream",
          "name": "stderr",
          "text": [
            "\r  1%|          | 3/569 [00:00<02:07,  4.45it/s]"
          ]
        },
        {
          "output_type": "stream",
          "name": "stdout",
          "text": [
            "Tr-gl_0648.jpg -> Class: glioma, Confidence: 1.00\n",
            "Saving Tr-gl_0648.jpg to BT100/Training/glioma/20250328_215836_Tr-gl_0648.jpg\n",
            "\u001b[1m1/1\u001b[0m \u001b[32m━━━━━━━━━━━━━━━━━━━━\u001b[0m\u001b[37m\u001b[0m \u001b[1m0s\u001b[0m 35ms/step\n",
            "Tr-pi_0297.jpg -> Class: pituitary, Confidence: 1.00\n",
            "Saving Tr-pi_0297.jpg to BT100/Training/pituitary/20250328_215836_Tr-pi_0297.jpg\n",
            "\u001b[1m1/1\u001b[0m \u001b[32m━━━━━━━━━━━━━━━━━━━━\u001b[0m\u001b[37m\u001b[0m \u001b[1m0s\u001b[0m 29ms/step\n"
          ]
        },
        {
          "output_type": "stream",
          "name": "stderr",
          "text": [
            "\r  1%|          | 5/569 [00:00<01:23,  6.78it/s]"
          ]
        },
        {
          "output_type": "stream",
          "name": "stdout",
          "text": [
            "Tr-me_1217.jpg -> Class: meningioma, Confidence: 1.00\n",
            "Saving Tr-me_1217.jpg to BT100/Training/meningioma/20250328_215836_Tr-me_1217.jpg\n",
            "\u001b[1m1/1\u001b[0m \u001b[32m━━━━━━━━━━━━━━━━━━━━\u001b[0m\u001b[37m\u001b[0m \u001b[1m0s\u001b[0m 29ms/step\n",
            "Tr-no_1338.jpg -> Class: notumor, Confidence: 1.00\n",
            "Saving Tr-no_1338.jpg to BT100/Training/notumor/20250328_215836_Tr-no_1338.jpg\n",
            "\u001b[1m1/1\u001b[0m \u001b[32m━━━━━━━━━━━━━━━━━━━━\u001b[0m\u001b[37m\u001b[0m \u001b[1m0s\u001b[0m 28ms/step\n"
          ]
        },
        {
          "output_type": "stream",
          "name": "stderr",
          "text": [
            "\r  1%|          | 7/569 [00:01<01:04,  8.75it/s]"
          ]
        },
        {
          "output_type": "stream",
          "name": "stdout",
          "text": [
            "Tr-gl_0119.jpg -> Class: glioma, Confidence: 1.00\n",
            "Saving Tr-gl_0119.jpg to BT100/Training/glioma/20250328_215837_Tr-gl_0119.jpg\n",
            "\u001b[1m1/1\u001b[0m \u001b[32m━━━━━━━━━━━━━━━━━━━━\u001b[0m\u001b[37m\u001b[0m \u001b[1m0s\u001b[0m 31ms/step\n",
            "Tr-pi_0738.jpg -> Class: pituitary, Confidence: 1.00\n",
            "Saving Tr-pi_0738.jpg to BT100/Training/pituitary/20250328_215837_Tr-pi_0738.jpg\n",
            "\u001b[1m1/1\u001b[0m \u001b[32m━━━━━━━━━━━━━━━━━━━━\u001b[0m\u001b[37m\u001b[0m \u001b[1m0s\u001b[0m 28ms/step\n"
          ]
        },
        {
          "output_type": "stream",
          "name": "stderr",
          "text": [
            "\r  2%|▏         | 9/569 [00:01<00:53, 10.37it/s]"
          ]
        },
        {
          "output_type": "stream",
          "name": "stdout",
          "text": [
            "Tr-gl_0729.jpg -> Class: glioma, Confidence: 1.00\n",
            "Saving Tr-gl_0729.jpg to BT100/Training/glioma/20250328_215837_Tr-gl_0729.jpg\n",
            "\u001b[1m1/1\u001b[0m \u001b[32m━━━━━━━━━━━━━━━━━━━━\u001b[0m\u001b[37m\u001b[0m \u001b[1m0s\u001b[0m 27ms/step\n",
            "Tr-me_0121.jpg -> Class: meningioma, Confidence: 1.00\n",
            "Saving Tr-me_0121.jpg to BT100/Training/meningioma/20250328_215837_Tr-me_0121.jpg\n",
            "\u001b[1m1/1\u001b[0m \u001b[32m━━━━━━━━━━━━━━━━━━━━\u001b[0m\u001b[37m\u001b[0m \u001b[1m0s\u001b[0m 27ms/step\n"
          ]
        },
        {
          "output_type": "stream",
          "name": "stderr",
          "text": [
            "\r  2%|▏         | 11/569 [00:01<00:47, 11.76it/s]"
          ]
        },
        {
          "output_type": "stream",
          "name": "stdout",
          "text": [
            "Tr-pi_1004.jpg -> Class: pituitary, Confidence: 1.00\n",
            "Saving Tr-pi_1004.jpg to BT100/Training/pituitary/20250328_215837_Tr-pi_1004.jpg\n",
            "\u001b[1m1/1\u001b[0m \u001b[32m━━━━━━━━━━━━━━━━━━━━\u001b[0m\u001b[37m\u001b[0m \u001b[1m0s\u001b[0m 32ms/step\n",
            "Tr-gl_0372.jpg -> Class: glioma, Confidence: 1.00\n",
            "Saving Tr-gl_0372.jpg to BT100/Training/glioma/20250328_215837_Tr-gl_0372.jpg\n",
            "\u001b[1m1/1\u001b[0m \u001b[32m━━━━━━━━━━━━━━━━━━━━\u001b[0m\u001b[37m\u001b[0m \u001b[1m0s\u001b[0m 28ms/step\n"
          ]
        },
        {
          "output_type": "stream",
          "name": "stderr",
          "text": [
            "\r  2%|▏         | 13/569 [00:01<00:47, 11.61it/s]"
          ]
        },
        {
          "output_type": "stream",
          "name": "stdout",
          "text": [
            "Tr-me_0019.jpg -> Class: meningioma, Confidence: 1.00\n",
            "Saving Tr-me_0019.jpg to BT100/Training/meningioma/20250328_215837_Tr-me_0019.jpg\n",
            "\u001b[1m1/1\u001b[0m \u001b[32m━━━━━━━━━━━━━━━━━━━━\u001b[0m\u001b[37m\u001b[0m \u001b[1m0s\u001b[0m 38ms/step\n",
            "Tr-me_0701.jpg -> Class: meningioma, Confidence: 1.00\n",
            "Saving Tr-me_0701.jpg to BT100/Training/meningioma/20250328_215837_Tr-me_0701.jpg\n",
            "\u001b[1m1/1\u001b[0m \u001b[32m━━━━━━━━━━━━━━━━━━━━\u001b[0m\u001b[37m\u001b[0m \u001b[1m0s\u001b[0m 44ms/step\n"
          ]
        },
        {
          "output_type": "stream",
          "name": "stderr",
          "text": [
            "\r  3%|▎         | 15/569 [00:01<00:53, 10.39it/s]"
          ]
        },
        {
          "output_type": "stream",
          "name": "stdout",
          "text": [
            "Tr-gl_0060.jpg -> Class: glioma, Confidence: 1.00\n",
            "Saving Tr-gl_0060.jpg to BT100/Training/glioma/20250328_215837_Tr-gl_0060.jpg\n",
            "\u001b[1m1/1\u001b[0m \u001b[32m━━━━━━━━━━━━━━━━━━━━\u001b[0m\u001b[37m\u001b[0m \u001b[1m0s\u001b[0m 47ms/step\n",
            "Tr-pi_0559.jpg -> Class: pituitary, Confidence: 1.00\n",
            "Saving Tr-pi_0559.jpg to BT100/Training/pituitary/20250328_215837_Tr-pi_0559.jpg\n",
            "\u001b[1m1/1\u001b[0m \u001b[32m━━━━━━━━━━━━━━━━━━━━\u001b[0m\u001b[37m\u001b[0m \u001b[1m0s\u001b[0m 42ms/step\n"
          ]
        },
        {
          "output_type": "stream",
          "name": "stderr",
          "text": [
            "\r  3%|▎         | 17/569 [00:01<00:56,  9.79it/s]"
          ]
        },
        {
          "output_type": "stream",
          "name": "stdout",
          "text": [
            "Tr-me_1216.jpg -> Class: meningioma, Confidence: 1.00\n",
            "Saving Tr-me_1216.jpg to BT100/Training/meningioma/20250328_215837_Tr-me_1216.jpg\n",
            "\u001b[1m1/1\u001b[0m \u001b[32m━━━━━━━━━━━━━━━━━━━━\u001b[0m\u001b[37m\u001b[0m \u001b[1m0s\u001b[0m 42ms/step\n",
            "Tr-me_0838.jpg -> Class: meningioma, Confidence: 1.00\n",
            "Saving Tr-me_0838.jpg to BT100/Training/meningioma/20250328_215838_Tr-me_0838.jpg\n",
            "\u001b[1m1/1\u001b[0m \u001b[32m━━━━━━━━━━━━━━━━━━━━\u001b[0m\u001b[37m\u001b[0m \u001b[1m0s\u001b[0m 43ms/step\n"
          ]
        },
        {
          "output_type": "stream",
          "name": "stderr",
          "text": [
            "\r  3%|▎         | 19/569 [00:02<00:53, 10.21it/s]"
          ]
        },
        {
          "output_type": "stream",
          "name": "stdout",
          "text": [
            "Tr-pi_0922.jpg -> Class: pituitary, Confidence: 1.00\n",
            "Saving Tr-pi_0922.jpg to BT100/Training/pituitary/20250328_215838_Tr-pi_0922.jpg\n",
            "\u001b[1m1/1\u001b[0m \u001b[32m━━━━━━━━━━━━━━━━━━━━\u001b[0m\u001b[37m\u001b[0m \u001b[1m0s\u001b[0m 43ms/step\n",
            "Tr-me_1110.jpg -> Class: meningioma, Confidence: 1.00\n",
            "Saving Tr-me_1110.jpg to BT100/Training/meningioma/20250328_215838_Tr-me_1110.jpg\n",
            "\u001b[1m1/1\u001b[0m \u001b[32m━━━━━━━━━━━━━━━━━━━━\u001b[0m\u001b[37m\u001b[0m \u001b[1m0s\u001b[0m 43ms/step\n"
          ]
        },
        {
          "output_type": "stream",
          "name": "stderr",
          "text": [
            "\r  4%|▎         | 21/569 [00:02<00:55,  9.79it/s]"
          ]
        },
        {
          "output_type": "stream",
          "name": "stdout",
          "text": [
            "Tr-no_0287.jpg -> Class: notumor, Confidence: 1.00\n",
            "Saving Tr-no_0287.jpg to BT100/Training/notumor/20250328_215838_Tr-no_0287.jpg\n",
            "\u001b[1m1/1\u001b[0m \u001b[32m━━━━━━━━━━━━━━━━━━━━\u001b[0m\u001b[37m\u001b[0m \u001b[1m0s\u001b[0m 51ms/step\n",
            "Tr-no_0241.jpg -> Class: notumor, Confidence: 1.00\n",
            "Saving Tr-no_0241.jpg to BT100/Training/notumor/20250328_215838_Tr-no_0241.jpg\n",
            "\u001b[1m1/1\u001b[0m \u001b[32m━━━━━━━━━━━━━━━━━━━━\u001b[0m\u001b[37m\u001b[0m \u001b[1m0s\u001b[0m 41ms/step\n"
          ]
        },
        {
          "output_type": "stream",
          "name": "stderr",
          "text": [
            "\r  4%|▍         | 23/569 [00:02<01:01,  8.85it/s]"
          ]
        },
        {
          "output_type": "stream",
          "name": "stdout",
          "text": [
            "Tr-me_1131.jpg -> Class: meningioma, Confidence: 1.00\n",
            "Saving Tr-me_1131.jpg to BT100/Training/meningioma/20250328_215838_Tr-me_1131.jpg\n",
            "\u001b[1m1/1\u001b[0m \u001b[32m━━━━━━━━━━━━━━━━━━━━\u001b[0m\u001b[37m\u001b[0m \u001b[1m0s\u001b[0m 41ms/step\n"
          ]
        },
        {
          "output_type": "stream",
          "name": "stderr",
          "text": [
            "\r  4%|▍         | 24/569 [00:02<01:02,  8.70it/s]"
          ]
        },
        {
          "output_type": "stream",
          "name": "stdout",
          "text": [
            "Tr-me_1265.jpg -> Class: notumor, Confidence: 1.00\n",
            "Saving Tr-me_1265.jpg to BT100/Training/notumor/20250328_215838_Tr-me_1265.jpg\n",
            "\u001b[1m1/1\u001b[0m \u001b[32m━━━━━━━━━━━━━━━━━━━━\u001b[0m\u001b[37m\u001b[0m \u001b[1m0s\u001b[0m 43ms/step\n"
          ]
        },
        {
          "output_type": "stream",
          "name": "stderr",
          "text": [
            "\r  4%|▍         | 25/569 [00:02<01:04,  8.45it/s]"
          ]
        },
        {
          "output_type": "stream",
          "name": "stdout",
          "text": [
            "Tr-gl_0831.jpg -> Class: glioma, Confidence: 1.00\n",
            "Saving Tr-gl_0831.jpg to BT100/Training/glioma/20250328_215838_Tr-gl_0831.jpg\n",
            "\u001b[1m1/1\u001b[0m \u001b[32m━━━━━━━━━━━━━━━━━━━━\u001b[0m\u001b[37m\u001b[0m \u001b[1m0s\u001b[0m 41ms/step\n"
          ]
        },
        {
          "output_type": "stream",
          "name": "stderr",
          "text": [
            "\r  5%|▍         | 26/569 [00:03<01:05,  8.30it/s]"
          ]
        },
        {
          "output_type": "stream",
          "name": "stdout",
          "text": [
            "Tr-gl_0460.jpg -> Class: glioma, Confidence: 1.00\n",
            "Saving Tr-gl_0460.jpg to BT100/Training/glioma/20250328_215839_Tr-gl_0460.jpg\n",
            "\u001b[1m1/1\u001b[0m \u001b[32m━━━━━━━━━━━━━━━━━━━━\u001b[0m\u001b[37m\u001b[0m \u001b[1m0s\u001b[0m 49ms/step\n"
          ]
        },
        {
          "output_type": "stream",
          "name": "stderr",
          "text": [
            "\r  5%|▍         | 27/569 [00:03<01:07,  7.98it/s]"
          ]
        },
        {
          "output_type": "stream",
          "name": "stdout",
          "text": [
            "Tr-me_1142.jpg -> Class: glioma, Confidence: 1.00\n",
            "Saving Tr-me_1142.jpg to BT100/Training/glioma/20250328_215839_Tr-me_1142.jpg\n",
            "\u001b[1m1/1\u001b[0m \u001b[32m━━━━━━━━━━━━━━━━━━━━\u001b[0m\u001b[37m\u001b[0m \u001b[1m0s\u001b[0m 48ms/step\n"
          ]
        },
        {
          "output_type": "stream",
          "name": "stderr",
          "text": [
            "\r  5%|▍         | 28/569 [00:03<01:08,  7.84it/s]"
          ]
        },
        {
          "output_type": "stream",
          "name": "stdout",
          "text": [
            "Tr-no_0721.jpg -> Class: notumor, Confidence: 1.00\n",
            "Saving Tr-no_0721.jpg to BT100/Training/notumor/20250328_215839_Tr-no_0721.jpg\n",
            "\u001b[1m1/1\u001b[0m \u001b[32m━━━━━━━━━━━━━━━━━━━━\u001b[0m\u001b[37m\u001b[0m \u001b[1m0s\u001b[0m 55ms/step\n"
          ]
        },
        {
          "output_type": "stream",
          "name": "stderr",
          "text": [
            "\r  5%|▌         | 29/569 [00:03<01:11,  7.52it/s]"
          ]
        },
        {
          "output_type": "stream",
          "name": "stdout",
          "text": [
            "Tr-gl_0733.jpg -> Class: glioma, Confidence: 1.00\n",
            "Saving Tr-gl_0733.jpg to BT100/Training/glioma/20250328_215839_Tr-gl_0733.jpg\n",
            "\u001b[1m1/1\u001b[0m \u001b[32m━━━━━━━━━━━━━━━━━━━━\u001b[0m\u001b[37m\u001b[0m \u001b[1m0s\u001b[0m 29ms/step\n",
            "Tr-no_0469.jpg -> Class: notumor, Confidence: 1.00\n",
            "Saving Tr-no_0469.jpg to BT100/Training/notumor/20250328_215839_Tr-no_0469.jpg\n",
            "\u001b[1m1/1\u001b[0m \u001b[32m━━━━━━━━━━━━━━━━━━━━\u001b[0m\u001b[37m\u001b[0m \u001b[1m0s\u001b[0m 31ms/step\n"
          ]
        },
        {
          "output_type": "stream",
          "name": "stderr",
          "text": [
            "\r  5%|▌         | 31/569 [00:03<00:56,  9.55it/s]"
          ]
        },
        {
          "output_type": "stream",
          "name": "stdout",
          "text": [
            "Tr-me_0013.jpg -> Class: meningioma, Confidence: 1.00\n",
            "Saving Tr-me_0013.jpg to BT100/Training/meningioma/20250328_215839_Tr-me_0013.jpg\n",
            "\u001b[1m1/1\u001b[0m \u001b[32m━━━━━━━━━━━━━━━━━━━━\u001b[0m\u001b[37m\u001b[0m \u001b[1m0s\u001b[0m 29ms/step\n",
            "Tr-no_1148.jpg -> Class: notumor, Confidence: 1.00\n",
            "Saving Tr-no_1148.jpg to BT100/Training/notumor/20250328_215839_Tr-no_1148.jpg\n",
            "\u001b[1m1/1\u001b[0m \u001b[32m━━━━━━━━━━━━━━━━━━━━\u001b[0m\u001b[37m\u001b[0m \u001b[1m0s\u001b[0m 31ms/step\n"
          ]
        },
        {
          "output_type": "stream",
          "name": "stderr",
          "text": [
            "\r  6%|▌         | 33/569 [00:03<00:49, 10.94it/s]"
          ]
        },
        {
          "output_type": "stream",
          "name": "stdout",
          "text": [
            "Tr-gl_0560.jpg -> Class: glioma, Confidence: 1.00\n",
            "Saving Tr-gl_0560.jpg to BT100/Training/glioma/20250328_215839_Tr-gl_0560.jpg\n",
            "\u001b[1m1/1\u001b[0m \u001b[32m━━━━━━━━━━━━━━━━━━━━\u001b[0m\u001b[37m\u001b[0m \u001b[1m0s\u001b[0m 28ms/step\n",
            "Tr-me_0905.jpg -> Class: meningioma, Confidence: 1.00\n",
            "Saving Tr-me_0905.jpg to BT100/Training/meningioma/20250328_215839_Tr-me_0905.jpg\n",
            "\u001b[1m1/1\u001b[0m \u001b[32m━━━━━━━━━━━━━━━━━━━━\u001b[0m\u001b[37m\u001b[0m \u001b[1m0s\u001b[0m 30ms/step\n"
          ]
        },
        {
          "output_type": "stream",
          "name": "stderr",
          "text": [
            "\r  6%|▌         | 35/569 [00:03<00:43, 12.19it/s]"
          ]
        },
        {
          "output_type": "stream",
          "name": "stdout",
          "text": [
            "Tr-me_0258.jpg -> Class: meningioma, Confidence: 0.92\n",
            "\u001b[1m1/1\u001b[0m \u001b[32m━━━━━━━━━━━━━━━━━━━━\u001b[0m\u001b[37m\u001b[0m \u001b[1m0s\u001b[0m 38ms/step\n",
            "Tr-me_0181.jpg -> Class: meningioma, Confidence: 1.00\n",
            "Saving Tr-me_0181.jpg to BT100/Training/meningioma/20250328_215839_Tr-me_0181.jpg\n",
            "\u001b[1m1/1\u001b[0m \u001b[32m━━━━━━━━━━━━━━━━━━━━\u001b[0m\u001b[37m\u001b[0m \u001b[1m0s\u001b[0m 28ms/step\n"
          ]
        },
        {
          "output_type": "stream",
          "name": "stderr",
          "text": [
            "\r  7%|▋         | 37/569 [00:04<00:42, 12.66it/s]"
          ]
        },
        {
          "output_type": "stream",
          "name": "stdout",
          "text": [
            "Tr-no_0487.jpg -> Class: notumor, Confidence: 1.00\n",
            "Saving Tr-no_0487.jpg to BT100/Training/notumor/20250328_215839_Tr-no_0487.jpg\n",
            "\u001b[1m1/1\u001b[0m \u001b[32m━━━━━━━━━━━━━━━━━━━━\u001b[0m\u001b[37m\u001b[0m \u001b[1m0s\u001b[0m 28ms/step\n",
            "Tr-me_0424.jpg -> Class: meningioma, Confidence: 1.00\n",
            "Saving Tr-me_0424.jpg to BT100/Training/meningioma/20250328_215840_Tr-me_0424.jpg\n",
            "\u001b[1m1/1\u001b[0m \u001b[32m━━━━━━━━━━━━━━━━━━━━\u001b[0m\u001b[37m\u001b[0m \u001b[1m0s\u001b[0m 29ms/step\n"
          ]
        },
        {
          "output_type": "stream",
          "name": "stderr",
          "text": [
            "\r  7%|▋         | 39/569 [00:04<00:39, 13.38it/s]"
          ]
        },
        {
          "output_type": "stream",
          "name": "stdout",
          "text": [
            "Tr-me_1113.jpg -> Class: meningioma, Confidence: 1.00\n",
            "Saving Tr-me_1113.jpg to BT100/Training/meningioma/20250328_215840_Tr-me_1113.jpg\n",
            "\u001b[1m1/1\u001b[0m \u001b[32m━━━━━━━━━━━━━━━━━━━━\u001b[0m\u001b[37m\u001b[0m \u001b[1m0s\u001b[0m 29ms/step\n",
            "Tr-no_1267.jpg -> Class: notumor, Confidence: 1.00\n",
            "Saving Tr-no_1267.jpg to BT100/Training/notumor/20250328_215840_Tr-no_1267.jpg\n",
            "\u001b[1m1/1\u001b[0m \u001b[32m━━━━━━━━━━━━━━━━━━━━\u001b[0m\u001b[37m\u001b[0m \u001b[1m0s\u001b[0m 28ms/step\n"
          ]
        },
        {
          "output_type": "stream",
          "name": "stderr",
          "text": [
            "\r  7%|▋         | 41/569 [00:04<00:38, 13.85it/s]"
          ]
        },
        {
          "output_type": "stream",
          "name": "stdout",
          "text": [
            "Tr-gl_1010.jpg -> Class: glioma, Confidence: 1.00\n",
            "Saving Tr-gl_1010.jpg to BT100/Training/glioma/20250328_215840_Tr-gl_1010.jpg\n",
            "\u001b[1m1/1\u001b[0m \u001b[32m━━━━━━━━━━━━━━━━━━━━\u001b[0m\u001b[37m\u001b[0m \u001b[1m0s\u001b[0m 28ms/step\n",
            "Tr-no_0468.jpg -> Class: notumor, Confidence: 1.00\n",
            "Saving Tr-no_0468.jpg to BT100/Training/notumor/20250328_215840_Tr-no_0468.jpg\n",
            "\u001b[1m1/1\u001b[0m \u001b[32m━━━━━━━━━━━━━━━━━━━━\u001b[0m\u001b[37m\u001b[0m \u001b[1m0s\u001b[0m 35ms/step\n",
            "Tr-me_0894.jpg -> Class: meningioma, Confidence: 1.00"
          ]
        },
        {
          "output_type": "stream",
          "name": "stderr",
          "text": [
            "\r  8%|▊         | 43/569 [00:04<00:37, 14.00it/s]"
          ]
        },
        {
          "output_type": "stream",
          "name": "stdout",
          "text": [
            "\n",
            "Saving Tr-me_0894.jpg to BT100/Training/meningioma/20250328_215840_Tr-me_0894.jpg\n",
            "\u001b[1m1/1\u001b[0m \u001b[32m━━━━━━━━━━━━━━━━━━━━\u001b[0m\u001b[37m\u001b[0m \u001b[1m0s\u001b[0m 34ms/step\n",
            "Tr-no_0882.jpg -> Class: notumor, Confidence: 1.00\n",
            "Saving Tr-no_0882.jpg to BT100/Training/notumor/20250328_215840_Tr-no_0882.jpg\n",
            "\u001b[1m1/1\u001b[0m \u001b[32m━━━━━━━━━━━━━━━━━━━━\u001b[0m\u001b[37m\u001b[0m \u001b[1m0s\u001b[0m 29ms/step\n"
          ]
        },
        {
          "output_type": "stream",
          "name": "stderr",
          "text": [
            "\r  8%|▊         | 45/569 [00:04<00:38, 13.66it/s]"
          ]
        },
        {
          "output_type": "stream",
          "name": "stdout",
          "text": [
            "Tr-no_0460.jpg -> Class: notumor, Confidence: 1.00\n",
            "Saving Tr-no_0460.jpg to BT100/Training/notumor/20250328_215840_Tr-no_0460.jpg\n",
            "\u001b[1m1/1\u001b[0m \u001b[32m━━━━━━━━━━━━━━━━━━━━\u001b[0m\u001b[37m\u001b[0m \u001b[1m0s\u001b[0m 28ms/step\n",
            "Tr-no_0125.jpg -> Class: notumor, Confidence: 1.00\n",
            "Saving Tr-no_0125.jpg to BT100/Training/notumor/20250328_215840_Tr-no_0125.jpg\n",
            "\u001b[1m1/1\u001b[0m \u001b[32m━━━━━━━━━━━━━━━━━━━━\u001b[0m\u001b[37m\u001b[0m \u001b[1m0s\u001b[0m 29ms/step\n"
          ]
        },
        {
          "output_type": "stream",
          "name": "stderr",
          "text": [
            "\r  8%|▊         | 47/569 [00:04<00:36, 14.13it/s]"
          ]
        },
        {
          "output_type": "stream",
          "name": "stdout",
          "text": [
            "Tr-gl_0188.jpg -> Class: glioma, Confidence: 1.00\n",
            "Saving Tr-gl_0188.jpg to BT100/Training/glioma/20250328_215840_Tr-gl_0188.jpg\n",
            "\u001b[1m1/1\u001b[0m \u001b[32m━━━━━━━━━━━━━━━━━━━━\u001b[0m\u001b[37m\u001b[0m \u001b[1m0s\u001b[0m 28ms/step\n",
            "Tr-me_0284.jpg -> Class: meningioma, Confidence: 0.96\n",
            "\u001b[1m1/1\u001b[0m \u001b[32m━━━━━━━━━━━━━━━━━━━━\u001b[0m\u001b[37m\u001b[0m \u001b[1m0s\u001b[0m 29ms/step\n",
            "Tr-gl_1054.jpg -> Class: glioma, Confidence: 1.00\n",
            "Saving Tr-gl_1054.jpg to BT100/Training/glioma/20250328_215840_Tr-gl_1054.jpg\n"
          ]
        },
        {
          "output_type": "stream",
          "name": "stderr",
          "text": [
            "\r  9%|▊         | 49/569 [00:04<00:36, 14.32it/s]"
          ]
        },
        {
          "output_type": "stream",
          "name": "stdout",
          "text": [
            "\u001b[1m1/1\u001b[0m \u001b[32m━━━━━━━━━━━━━━━━━━━━\u001b[0m\u001b[37m\u001b[0m \u001b[1m0s\u001b[0m 28ms/step\n",
            "Tr-me_0102.jpg -> Class: meningioma, Confidence: 1.00\n",
            "Saving Tr-me_0102.jpg to BT100/Training/meningioma/20250328_215840_Tr-me_0102.jpg\n",
            "\u001b[1m1/1\u001b[0m \u001b[32m━━━━━━━━━━━━━━━━━━━━\u001b[0m\u001b[37m\u001b[0m \u001b[1m0s\u001b[0m 34ms/step\n"
          ]
        },
        {
          "output_type": "stream",
          "name": "stderr",
          "text": [
            "\r  9%|▉         | 51/569 [00:04<00:36, 14.28it/s]"
          ]
        },
        {
          "output_type": "stream",
          "name": "stdout",
          "text": [
            "Tr-no_0327.jpg -> Class: notumor, Confidence: 1.00\n",
            "Saving Tr-no_0327.jpg to BT100/Training/notumor/20250328_215840_Tr-no_0327.jpg\n",
            "\u001b[1m1/1\u001b[0m \u001b[32m━━━━━━━━━━━━━━━━━━━━\u001b[0m\u001b[37m\u001b[0m \u001b[1m0s\u001b[0m 29ms/step\n",
            "Tr-gl_0216.jpg -> Class: glioma, Confidence: 1.00\n",
            "Saving Tr-gl_0216.jpg to BT100/Training/glioma/20250328_215841_Tr-gl_0216.jpg\n",
            "\u001b[1m1/1\u001b[0m \u001b[32m━━━━━━━━━━━━━━━━━━━━\u001b[0m\u001b[37m\u001b[0m \u001b[1m0s\u001b[0m 30ms/step\n"
          ]
        },
        {
          "output_type": "stream",
          "name": "stderr",
          "text": [
            "\r  9%|▉         | 53/569 [00:05<00:35, 14.61it/s]"
          ]
        },
        {
          "output_type": "stream",
          "name": "stdout",
          "text": [
            "Tr-no_1337.jpg -> Class: notumor, Confidence: 1.00\n",
            "Saving Tr-no_1337.jpg to BT100/Training/notumor/20250328_215841_Tr-no_1337.jpg\n",
            "\u001b[1m1/1\u001b[0m \u001b[32m━━━━━━━━━━━━━━━━━━━━\u001b[0m\u001b[37m\u001b[0m \u001b[1m0s\u001b[0m 36ms/step\n",
            "Tr-gl_0684.jpg -> Class: glioma, Confidence: 1.00\n",
            "Saving Tr-gl_0684.jpg to BT100/Training/glioma/20250328_215841_Tr-gl_0684.jpg\n",
            "\u001b[1m1/1\u001b[0m \u001b[32m━━━━━━━━━━━━━━━━━━━━\u001b[0m\u001b[37m\u001b[0m \u001b[1m0s\u001b[0m 30ms/step\n"
          ]
        },
        {
          "output_type": "stream",
          "name": "stderr",
          "text": [
            "\r 10%|▉         | 55/569 [00:05<00:38, 13.34it/s]"
          ]
        },
        {
          "output_type": "stream",
          "name": "stdout",
          "text": [
            "Tr-me_0226.jpg -> Class: notumor, Confidence: 1.00\n",
            "Saving Tr-me_0226.jpg to BT100/Training/notumor/20250328_215841_Tr-me_0226.jpg\n",
            "\u001b[1m1/1\u001b[0m \u001b[32m━━━━━━━━━━━━━━━━━━━━\u001b[0m\u001b[37m\u001b[0m \u001b[1m0s\u001b[0m 29ms/step\n",
            "Tr-no_0330.jpg -> Class: notumor, Confidence: 1.00\n",
            "Saving Tr-no_0330.jpg to BT100/Training/notumor/20250328_215841_Tr-no_0330.jpg\n",
            "\u001b[1m1/1\u001b[0m \u001b[32m━━━━━━━━━━━━━━━━━━━━\u001b[0m\u001b[37m\u001b[0m \u001b[1m0s\u001b[0m 37ms/step\n"
          ]
        },
        {
          "output_type": "stream",
          "name": "stderr",
          "text": [
            "\r 10%|█         | 57/569 [00:05<00:38, 13.30it/s]"
          ]
        },
        {
          "output_type": "stream",
          "name": "stdout",
          "text": [
            "Tr-no_0675.jpg -> Class: notumor, Confidence: 1.00\n",
            "Saving Tr-no_0675.jpg to BT100/Training/notumor/20250328_215841_Tr-no_0675.jpg\n",
            "\u001b[1m1/1\u001b[0m \u001b[32m━━━━━━━━━━━━━━━━━━━━\u001b[0m\u001b[37m\u001b[0m \u001b[1m0s\u001b[0m 34ms/step\n",
            "Tr-pi_0236.jpg -> Class: pituitary, Confidence: 1.00\n",
            "Saving Tr-pi_0236.jpg to BT100/Training/pituitary/20250328_215841_Tr-pi_0236.jpg\n",
            "\u001b[1m1/1\u001b[0m \u001b[32m━━━━━━━━━━━━━━━━━━━━\u001b[0m\u001b[37m\u001b[0m \u001b[1m0s\u001b[0m 30ms/step\n"
          ]
        },
        {
          "output_type": "stream",
          "name": "stderr",
          "text": [
            "\r 10%|█         | 59/569 [00:05<00:38, 13.33it/s]"
          ]
        },
        {
          "output_type": "stream",
          "name": "stdout",
          "text": [
            "Tr-pi_1062.jpg -> Class: pituitary, Confidence: 1.00\n",
            "Saving Tr-pi_1062.jpg to BT100/Training/pituitary/20250328_215841_Tr-pi_1062.jpg\n",
            "\u001b[1m1/1\u001b[0m \u001b[32m━━━━━━━━━━━━━━━━━━━━\u001b[0m\u001b[37m\u001b[0m \u001b[1m0s\u001b[0m 29ms/step\n",
            "Tr-pi_1226.jpg -> Class: pituitary, Confidence: 1.00\n",
            "Saving Tr-pi_1226.jpg to BT100/Training/pituitary/20250328_215841_Tr-pi_1226.jpg\n",
            "\u001b[1m1/1\u001b[0m \u001b[32m━━━━━━━━━━━━━━━━━━━━\u001b[0m\u001b[37m\u001b[0m \u001b[1m0s\u001b[0m 33ms/step\n"
          ]
        },
        {
          "output_type": "stream",
          "name": "stderr",
          "text": [
            "\r 11%|█         | 61/569 [00:05<00:37, 13.58it/s]"
          ]
        },
        {
          "output_type": "stream",
          "name": "stdout",
          "text": [
            "Tr-me_1086.jpg -> Class: meningioma, Confidence: 1.00\n",
            "Saving Tr-me_1086.jpg to BT100/Training/meningioma/20250328_215841_Tr-me_1086.jpg\n",
            "\u001b[1m1/1\u001b[0m \u001b[32m━━━━━━━━━━━━━━━━━━━━\u001b[0m\u001b[37m\u001b[0m \u001b[1m0s\u001b[0m 30ms/step\n",
            "Tr-me_0028.jpg -> Class: meningioma, Confidence: 1.00\n",
            "Saving Tr-me_0028.jpg to BT100/Training/meningioma/20250328_215841_Tr-me_0028.jpg\n",
            "\u001b[1m1/1\u001b[0m \u001b[32m━━━━━━━━━━━━━━━━━━━━\u001b[0m\u001b[37m\u001b[0m \u001b[1m0s\u001b[0m 30ms/step\n"
          ]
        },
        {
          "output_type": "stream",
          "name": "stderr",
          "text": [
            "\r 11%|█         | 63/569 [00:05<00:36, 13.85it/s]"
          ]
        },
        {
          "output_type": "stream",
          "name": "stdout",
          "text": [
            "Tr-no_0388.jpg -> Class: notumor, Confidence: 1.00\n",
            "Saving Tr-no_0388.jpg to BT100/Training/notumor/20250328_215841_Tr-no_0388.jpg\n",
            "\u001b[1m1/1\u001b[0m \u001b[32m━━━━━━━━━━━━━━━━━━━━\u001b[0m\u001b[37m\u001b[0m \u001b[1m0s\u001b[0m 30ms/step\n",
            "Tr-gl_0120.jpg -> Class: glioma, Confidence: 1.00\n",
            "Saving Tr-gl_0120.jpg to BT100/Training/glioma/20250328_215841_Tr-gl_0120.jpg\n",
            "\u001b[1m1/1\u001b[0m \u001b[32m━━━━━━━━━━━━━━━━━━━━\u001b[0m\u001b[37m\u001b[0m \u001b[1m0s\u001b[0m 32ms/step\n"
          ]
        },
        {
          "output_type": "stream",
          "name": "stderr",
          "text": [
            "\r 11%|█▏        | 65/569 [00:06<00:36, 13.89it/s]"
          ]
        },
        {
          "output_type": "stream",
          "name": "stdout",
          "text": [
            "Tr-no_0816.jpg -> Class: notumor, Confidence: 1.00\n",
            "Saving Tr-no_0816.jpg to BT100/Training/notumor/20250328_215841_Tr-no_0816.jpg\n",
            "\u001b[1m1/1\u001b[0m \u001b[32m━━━━━━━━━━━━━━━━━━━━\u001b[0m\u001b[37m\u001b[0m \u001b[1m0s\u001b[0m 29ms/step\n",
            "Tr-no_0809.jpg -> Class: notumor, Confidence: 1.00\n",
            "Saving Tr-no_0809.jpg to BT100/Training/notumor/20250328_215842_Tr-no_0809.jpg\n",
            "\u001b[1m1/1\u001b[0m \u001b[32m━━━━━━━━━━━━━━━━━━━━\u001b[0m\u001b[37m\u001b[0m \u001b[1m0s\u001b[0m 30ms/step\n"
          ]
        },
        {
          "output_type": "stream",
          "name": "stderr",
          "text": [
            "\r 12%|█▏        | 67/569 [00:06<00:35, 14.16it/s]"
          ]
        },
        {
          "output_type": "stream",
          "name": "stdout",
          "text": [
            "Tr-no_0346.jpg -> Class: notumor, Confidence: 1.00\n",
            "Saving Tr-no_0346.jpg to BT100/Training/notumor/20250328_215842_Tr-no_0346.jpg\n",
            "\u001b[1m1/1\u001b[0m \u001b[32m━━━━━━━━━━━━━━━━━━━━\u001b[0m\u001b[37m\u001b[0m \u001b[1m0s\u001b[0m 31ms/step\n",
            "Tr-gl_0277.jpg -> Class: glioma, Confidence: 1.00\n",
            "Saving Tr-gl_0277.jpg to BT100/Training/glioma/20250328_215842_Tr-gl_0277.jpg\n",
            "\u001b[1m1/1\u001b[0m \u001b[32m━━━━━━━━━━━━━━━━━━━━\u001b[0m\u001b[37m\u001b[0m \u001b[1m0s\u001b[0m 32ms/step\n"
          ]
        },
        {
          "output_type": "stream",
          "name": "stderr",
          "text": [
            "\r 12%|█▏        | 69/569 [00:06<00:38, 13.02it/s]"
          ]
        },
        {
          "output_type": "stream",
          "name": "stdout",
          "text": [
            "Tr-gl_1292.jpg -> Class: glioma, Confidence: 1.00\n",
            "Saving Tr-gl_1292.jpg to BT100/Training/glioma/20250328_215842_Tr-gl_1292.jpg\n",
            "\u001b[1m1/1\u001b[0m \u001b[32m━━━━━━━━━━━━━━━━━━━━\u001b[0m\u001b[37m\u001b[0m \u001b[1m0s\u001b[0m 37ms/step\n",
            "Tr-no_0574.jpg -> Class: notumor, Confidence: 1.00\n",
            "Saving Tr-no_0574.jpg to BT100/Training/notumor/20250328_215842_Tr-no_0574.jpg\n",
            "\u001b[1m1/1\u001b[0m \u001b[32m━━━━━━━━━━━━━━━━━━━━\u001b[0m\u001b[37m\u001b[0m \u001b[1m0s\u001b[0m 29ms/step\n"
          ]
        },
        {
          "output_type": "stream",
          "name": "stderr",
          "text": [
            "\r 12%|█▏        | 71/569 [00:06<00:40, 12.20it/s]"
          ]
        },
        {
          "output_type": "stream",
          "name": "stdout",
          "text": [
            "Tr-pi_1300.jpg -> Class: pituitary, Confidence: 1.00\n",
            "Saving Tr-pi_1300.jpg to BT100/Training/pituitary/20250328_215842_Tr-pi_1300.jpg\n",
            "\u001b[1m1/1\u001b[0m \u001b[32m━━━━━━━━━━━━━━━━━━━━\u001b[0m\u001b[37m\u001b[0m \u001b[1m0s\u001b[0m 30ms/step\n",
            "Tr-gl_1264.jpg -> Class: glioma, Confidence: 1.00\n",
            "Saving Tr-gl_1264.jpg to BT100/Training/glioma/20250328_215842_Tr-gl_1264.jpg\n",
            "\u001b[1m1/1\u001b[0m \u001b[32m━━━━━━━━━━━━━━━━━━━━\u001b[0m\u001b[37m\u001b[0m \u001b[1m0s\u001b[0m 29ms/step\n"
          ]
        },
        {
          "output_type": "stream",
          "name": "stderr",
          "text": [
            "\r 13%|█▎        | 73/569 [00:06<00:38, 12.83it/s]"
          ]
        },
        {
          "output_type": "stream",
          "name": "stdout",
          "text": [
            "Tr-pi_0422.jpg -> Class: pituitary, Confidence: 1.00\n",
            "Saving Tr-pi_0422.jpg to BT100/Training/pituitary/20250328_215842_Tr-pi_0422.jpg\n",
            "\u001b[1m1/1\u001b[0m \u001b[32m━━━━━━━━━━━━━━━━━━━━\u001b[0m\u001b[37m\u001b[0m \u001b[1m0s\u001b[0m 30ms/step\n",
            "Tr-pi_0920.jpg -> Class: pituitary, Confidence: 1.00\n",
            "Saving Tr-pi_0920.jpg to BT100/Training/pituitary/20250328_215842_Tr-pi_0920.jpg\n",
            "\u001b[1m1/1\u001b[0m \u001b[32m━━━━━━━━━━━━━━━━━━━━\u001b[0m\u001b[37m\u001b[0m \u001b[1m0s\u001b[0m 29ms/step\n"
          ]
        },
        {
          "output_type": "stream",
          "name": "stderr",
          "text": [
            "\r 13%|█▎        | 75/569 [00:06<00:36, 13.39it/s]"
          ]
        },
        {
          "output_type": "stream",
          "name": "stdout",
          "text": [
            "Tr-me_0402.jpg -> Class: meningioma, Confidence: 1.00\n",
            "Saving Tr-me_0402.jpg to BT100/Training/meningioma/20250328_215842_Tr-me_0402.jpg\n",
            "\u001b[1m1/1\u001b[0m \u001b[32m━━━━━━━━━━━━━━━━━━━━\u001b[0m\u001b[37m\u001b[0m \u001b[1m0s\u001b[0m 30ms/step\n",
            "Tr-me_0389.jpg -> Class: meningioma, Confidence: 1.00\n",
            "Saving Tr-me_0389.jpg to BT100/Training/meningioma/20250328_215842_Tr-me_0389.jpg\n",
            "\u001b[1m1/1\u001b[0m \u001b[32m━━━━━━━━━━━━━━━━━━━━\u001b[0m\u001b[37m\u001b[0m \u001b[1m0s\u001b[0m 29ms/step\n"
          ]
        },
        {
          "output_type": "stream",
          "name": "stderr",
          "text": [
            "\r 14%|█▎        | 77/569 [00:06<00:35, 13.85it/s]"
          ]
        },
        {
          "output_type": "stream",
          "name": "stdout",
          "text": [
            "Tr-gl_0077.jpg -> Class: glioma, Confidence: 1.00\n",
            "Saving Tr-gl_0077.jpg to BT100/Training/glioma/20250328_215842_Tr-gl_0077.jpg\n",
            "\u001b[1m1/1\u001b[0m \u001b[32m━━━━━━━━━━━━━━━━━━━━\u001b[0m\u001b[37m\u001b[0m \u001b[1m0s\u001b[0m 35ms/step\n",
            "Tr-pi_0812.jpg -> Class: pituitary, Confidence: 1.00\n",
            "Saving Tr-pi_0812.jpg to BT100/Training/pituitary/20250328_215843_Tr-pi_0812.jpg\n",
            "\u001b[1m1/1\u001b[0m \u001b[32m━━━━━━━━━━━━━━━━━━━━\u001b[0m\u001b[37m\u001b[0m \u001b[1m0s\u001b[0m 28ms/step\n"
          ]
        },
        {
          "output_type": "stream",
          "name": "stderr",
          "text": [
            "\r 14%|█▍        | 79/569 [00:07<00:37, 12.95it/s]"
          ]
        },
        {
          "output_type": "stream",
          "name": "stdout",
          "text": [
            "Tr-pi_1073.jpg -> Class: pituitary, Confidence: 1.00\n",
            "Saving Tr-pi_1073.jpg to BT100/Training/pituitary/20250328_215843_Tr-pi_1073.jpg\n",
            "\u001b[1m1/1\u001b[0m \u001b[32m━━━━━━━━━━━━━━━━━━━━\u001b[0m\u001b[37m\u001b[0m \u001b[1m0s\u001b[0m 29ms/step\n",
            "Tr-gl_0862.jpg -> Class: glioma, Confidence: 1.00\n",
            "Saving Tr-gl_0862.jpg to BT100/Training/glioma/20250328_215843_Tr-gl_0862.jpg\n",
            "\u001b[1m1/1\u001b[0m \u001b[32m━━━━━━━━━━━━━━━━━━━━\u001b[0m\u001b[37m\u001b[0m \u001b[1m0s\u001b[0m 29ms/step\n"
          ]
        },
        {
          "output_type": "stream",
          "name": "stderr",
          "text": [
            "\r 14%|█▍        | 81/569 [00:07<00:36, 13.25it/s]"
          ]
        },
        {
          "output_type": "stream",
          "name": "stdout",
          "text": [
            "Tr-no_1483.jpg -> Class: notumor, Confidence: 1.00\n",
            "Saving Tr-no_1483.jpg to BT100/Training/notumor/20250328_215843_Tr-no_1483.jpg\n",
            "\u001b[1m1/1\u001b[0m \u001b[32m━━━━━━━━━━━━━━━━━━━━\u001b[0m\u001b[37m\u001b[0m \u001b[1m0s\u001b[0m 31ms/step\n",
            "Tr-pi_0423.jpg -> Class: pituitary, Confidence: 1.00\n",
            "Saving Tr-pi_0423.jpg to BT100/Training/pituitary/20250328_215843_Tr-pi_0423.jpg\n",
            "\u001b[1m1/1\u001b[0m \u001b[32m━━━━━━━━━━━━━━━━━━━━\u001b[0m\u001b[37m\u001b[0m \u001b[1m0s\u001b[0m 29ms/step\n"
          ]
        },
        {
          "output_type": "stream",
          "name": "stderr",
          "text": [
            "\r 15%|█▍        | 83/569 [00:07<00:35, 13.72it/s]"
          ]
        },
        {
          "output_type": "stream",
          "name": "stdout",
          "text": [
            "Tr-gl_0715.jpg -> Class: glioma, Confidence: 1.00\n",
            "Saving Tr-gl_0715.jpg to BT100/Training/glioma/20250328_215843_Tr-gl_0715.jpg\n",
            "\u001b[1m1/1\u001b[0m \u001b[32m━━━━━━━━━━━━━━━━━━━━\u001b[0m\u001b[37m\u001b[0m \u001b[1m0s\u001b[0m 36ms/step\n",
            "Tr-gl_0324.jpg -> Class: glioma, Confidence: 1.00\n",
            "Saving Tr-gl_0324.jpg to BT100/Training/glioma/20250328_215843_Tr-gl_0324.jpg\n",
            "\u001b[1m1/1\u001b[0m \u001b[32m━━━━━━━━━━━━━━━━━━━━\u001b[0m\u001b[37m\u001b[0m \u001b[1m0s\u001b[0m 28ms/step\n"
          ]
        },
        {
          "output_type": "stream",
          "name": "stderr",
          "text": [
            "\r 15%|█▍        | 85/569 [00:07<00:38, 12.73it/s]"
          ]
        },
        {
          "output_type": "stream",
          "name": "stdout",
          "text": [
            "Tr-gl_0623.jpg -> Class: glioma, Confidence: 1.00\n",
            "Saving Tr-gl_0623.jpg to BT100/Training/glioma/20250328_215843_Tr-gl_0623.jpg\n",
            "\u001b[1m1/1\u001b[0m \u001b[32m━━━━━━━━━━━━━━━━━━━━\u001b[0m\u001b[37m\u001b[0m \u001b[1m0s\u001b[0m 32ms/step\n",
            "Tr-pi_0999.jpg -> Class: pituitary, Confidence: 1.00\n",
            "Saving Tr-pi_0999.jpg to BT100/Training/pituitary/20250328_215843_Tr-pi_0999.jpg\n",
            "\u001b[1m1/1\u001b[0m \u001b[32m━━━━━━━━━━━━━━━━━━━━\u001b[0m\u001b[37m\u001b[0m \u001b[1m0s\u001b[0m 29ms/step\n"
          ]
        },
        {
          "output_type": "stream",
          "name": "stderr",
          "text": [
            "\r 15%|█▌        | 87/569 [00:07<00:37, 12.95it/s]"
          ]
        },
        {
          "output_type": "stream",
          "name": "stdout",
          "text": [
            "Tr-pi_1147.jpg -> Class: pituitary, Confidence: 1.00\n",
            "Saving Tr-pi_1147.jpg to BT100/Training/pituitary/20250328_215843_Tr-pi_1147.jpg\n",
            "\u001b[1m1/1\u001b[0m \u001b[32m━━━━━━━━━━━━━━━━━━━━\u001b[0m\u001b[37m\u001b[0m \u001b[1m0s\u001b[0m 31ms/step\n",
            "Tr-pi_0634.jpg -> Class: pituitary, Confidence: 1.00\n",
            "Saving Tr-pi_0634.jpg to BT100/Training/pituitary/20250328_215843_Tr-pi_0634.jpg\n",
            "\u001b[1m1/1\u001b[0m \u001b[32m━━━━━━━━━━━━━━━━━━━━\u001b[0m\u001b[37m\u001b[0m \u001b[1m0s\u001b[0m 32ms/step\n"
          ]
        },
        {
          "output_type": "stream",
          "name": "stderr",
          "text": [
            "\r 16%|█▌        | 89/569 [00:07<00:36, 13.31it/s]"
          ]
        },
        {
          "output_type": "stream",
          "name": "stdout",
          "text": [
            "Tr-me_0661.jpg -> Class: meningioma, Confidence: 1.00\n",
            "Saving Tr-me_0661.jpg to BT100/Training/meningioma/20250328_215843_Tr-me_0661.jpg\n",
            "\u001b[1m1/1\u001b[0m \u001b[32m━━━━━━━━━━━━━━━━━━━━\u001b[0m\u001b[37m\u001b[0m \u001b[1m0s\u001b[0m 30ms/step\n",
            "Tr-no_0592.jpg -> Class: notumor, Confidence: 1.00\n",
            "Saving Tr-no_0592.jpg to BT100/Training/notumor/20250328_215843_Tr-no_0592.jpg\n",
            "\u001b[1m1/1\u001b[0m \u001b[32m━━━━━━━━━━━━━━━━━━━━\u001b[0m\u001b[37m\u001b[0m \u001b[1m0s\u001b[0m 31ms/step\n"
          ]
        },
        {
          "output_type": "stream",
          "name": "stderr",
          "text": [
            "\r 16%|█▌        | 91/569 [00:08<00:34, 13.66it/s]"
          ]
        },
        {
          "output_type": "stream",
          "name": "stdout",
          "text": [
            "Tr-gl_0227.jpg -> Class: glioma, Confidence: 1.00\n",
            "Saving Tr-gl_0227.jpg to BT100/Training/glioma/20250328_215843_Tr-gl_0227.jpg\n",
            "\u001b[1m1/1\u001b[0m \u001b[32m━━━━━━━━━━━━━━━━━━━━\u001b[0m\u001b[37m\u001b[0m \u001b[1m0s\u001b[0m 32ms/step\n",
            "Tr-pi_1165.jpg -> Class: pituitary, Confidence: 1.00\n",
            "Saving Tr-pi_1165.jpg to BT100/Training/pituitary/20250328_215844_Tr-pi_1165.jpg\n",
            "\u001b[1m1/1\u001b[0m \u001b[32m━━━━━━━━━━━━━━━━━━━━\u001b[0m\u001b[37m\u001b[0m \u001b[1m0s\u001b[0m 31ms/step\n"
          ]
        },
        {
          "output_type": "stream",
          "name": "stderr",
          "text": [
            "\r 16%|█▋        | 93/569 [00:08<00:35, 13.36it/s]"
          ]
        },
        {
          "output_type": "stream",
          "name": "stdout",
          "text": [
            "Tr-no_1494.jpg -> Class: notumor, Confidence: 1.00\n",
            "Saving Tr-no_1494.jpg to BT100/Training/notumor/20250328_215844_Tr-no_1494.jpg\n",
            "\u001b[1m1/1\u001b[0m \u001b[32m━━━━━━━━━━━━━━━━━━━━\u001b[0m\u001b[37m\u001b[0m \u001b[1m0s\u001b[0m 33ms/step\n",
            "Tr-gl_0524.jpg -> Class: glioma, Confidence: 1.00\n",
            "Saving Tr-gl_0524.jpg to BT100/Training/glioma/20250328_215844_Tr-gl_0524.jpg\n",
            "\u001b[1m1/1\u001b[0m \u001b[32m━━━━━━━━━━━━━━━━━━━━\u001b[0m\u001b[37m\u001b[0m \u001b[1m0s\u001b[0m 32ms/step\n"
          ]
        },
        {
          "output_type": "stream",
          "name": "stderr",
          "text": [
            "\r 17%|█▋        | 95/569 [00:08<00:35, 13.41it/s]"
          ]
        },
        {
          "output_type": "stream",
          "name": "stdout",
          "text": [
            "Tr-no_0787.jpg -> Class: notumor, Confidence: 1.00\n",
            "Saving Tr-no_0787.jpg to BT100/Training/notumor/20250328_215844_Tr-no_0787.jpg\n",
            "\u001b[1m1/1\u001b[0m \u001b[32m━━━━━━━━━━━━━━━━━━━━\u001b[0m\u001b[37m\u001b[0m \u001b[1m0s\u001b[0m 32ms/step\n",
            "Tr-me_0325.jpg -> Class: meningioma, Confidence: 1.00\n",
            "Saving Tr-me_0325.jpg to BT100/Training/meningioma/20250328_215844_Tr-me_0325.jpg\n",
            "\u001b[1m1/1\u001b[0m \u001b[32m━━━━━━━━━━━━━━━━━━━━\u001b[0m\u001b[37m\u001b[0m \u001b[1m0s\u001b[0m 37ms/step\n"
          ]
        },
        {
          "output_type": "stream",
          "name": "stderr",
          "text": [
            "\r 17%|█▋        | 97/569 [00:08<00:38, 12.26it/s]"
          ]
        },
        {
          "output_type": "stream",
          "name": "stdout",
          "text": [
            "Tr-me_1313.jpg -> Class: meningioma, Confidence: 1.00\n",
            "Saving Tr-me_1313.jpg to BT100/Training/meningioma/20250328_215844_Tr-me_1313.jpg\n",
            "\u001b[1m1/1\u001b[0m \u001b[32m━━━━━━━━━━━━━━━━━━━━\u001b[0m\u001b[37m\u001b[0m \u001b[1m0s\u001b[0m 29ms/step\n",
            "Tr-no_0561.jpg -> Class: notumor, Confidence: 1.00\n",
            "Saving Tr-no_0561.jpg to BT100/Training/notumor/20250328_215844_Tr-no_0561.jpg\n",
            "\u001b[1m1/1\u001b[0m \u001b[32m━━━━━━━━━━━━━━━━━━━━\u001b[0m\u001b[37m\u001b[0m \u001b[1m0s\u001b[0m 29ms/step\n"
          ]
        },
        {
          "output_type": "stream",
          "name": "stderr",
          "text": [
            "\r 17%|█▋        | 99/569 [00:08<00:36, 12.87it/s]"
          ]
        },
        {
          "output_type": "stream",
          "name": "stdout",
          "text": [
            "Tr-gl_0388.jpg -> Class: glioma, Confidence: 1.00\n",
            "Saving Tr-gl_0388.jpg to BT100/Training/glioma/20250328_215844_Tr-gl_0388.jpg\n",
            "\u001b[1m1/1\u001b[0m \u001b[32m━━━━━━━━━━━━━━━━━━━━\u001b[0m\u001b[37m\u001b[0m \u001b[1m0s\u001b[0m 28ms/step\n",
            "Tr-pi_0832.jpg -> Class: pituitary, Confidence: 1.00\n",
            "Saving Tr-pi_0832.jpg to BT100/Training/pituitary/20250328_215844_Tr-pi_0832.jpg\n",
            "\u001b[1m1/1\u001b[0m \u001b[32m━━━━━━━━━━━━━━━━━━━━\u001b[0m\u001b[37m\u001b[0m \u001b[1m0s\u001b[0m 29ms/step\n"
          ]
        },
        {
          "output_type": "stream",
          "name": "stderr",
          "text": [
            "\r 18%|█▊        | 101/569 [00:08<00:34, 13.42it/s]"
          ]
        },
        {
          "output_type": "stream",
          "name": "stdout",
          "text": [
            "Tr-gl_0448.jpg -> Class: glioma, Confidence: 1.00\n",
            "Saving Tr-gl_0448.jpg to BT100/Training/glioma/20250328_215844_Tr-gl_0448.jpg\n",
            "\u001b[1m1/1\u001b[0m \u001b[32m━━━━━━━━━━━━━━━━━━━━\u001b[0m\u001b[37m\u001b[0m \u001b[1m0s\u001b[0m 30ms/step\n",
            "Tr-no_0351.jpg -> Class: notumor, Confidence: 1.00\n",
            "Saving Tr-no_0351.jpg to BT100/Training/notumor/20250328_215844_Tr-no_0351.jpg\n",
            "\u001b[1m1/1\u001b[0m \u001b[32m━━━━━━━━━━━━━━━━━━━━\u001b[0m\u001b[37m\u001b[0m \u001b[1m0s\u001b[0m 31ms/step\n"
          ]
        },
        {
          "output_type": "stream",
          "name": "stderr",
          "text": [
            "\r 18%|█▊        | 103/569 [00:08<00:34, 13.69it/s]"
          ]
        },
        {
          "output_type": "stream",
          "name": "stdout",
          "text": [
            "Tr-no_0270.jpg -> Class: notumor, Confidence: 1.00\n",
            "Saving Tr-no_0270.jpg to BT100/Training/notumor/20250328_215844_Tr-no_0270.jpg\n",
            "\u001b[1m1/1\u001b[0m \u001b[32m━━━━━━━━━━━━━━━━━━━━\u001b[0m\u001b[37m\u001b[0m \u001b[1m0s\u001b[0m 31ms/step\n",
            "Tr-pi_0368.jpg -> Class: pituitary, Confidence: 1.00\n",
            "Saving Tr-pi_0368.jpg to BT100/Training/pituitary/20250328_215844_Tr-pi_0368.jpg\n",
            "\u001b[1m1/1\u001b[0m \u001b[32m━━━━━━━━━━━━━━━━━━━━\u001b[0m\u001b[37m\u001b[0m \u001b[1m0s\u001b[0m 39ms/step\n",
            "Tr-me_0469.jpg -> Class: meningioma, Confidence: 1.00\n",
            "Saving Tr-me_0469.jpg to BT100/Training/meningioma/20250328_215845_Tr-me_0469.jpg\n"
          ]
        },
        {
          "output_type": "stream",
          "name": "stderr",
          "text": [
            "\r 18%|█▊        | 105/569 [00:09<00:36, 12.70it/s]"
          ]
        },
        {
          "output_type": "stream",
          "name": "stdout",
          "text": [
            "\u001b[1m1/1\u001b[0m \u001b[32m━━━━━━━━━━━━━━━━━━━━\u001b[0m\u001b[37m\u001b[0m \u001b[1m0s\u001b[0m 29ms/step\n",
            "Tr-no_1531.jpg -> Class: notumor, Confidence: 1.00\n",
            "Saving Tr-no_1531.jpg to BT100/Training/notumor/20250328_215845_Tr-no_1531.jpg\n",
            "\u001b[1m1/1\u001b[0m \u001b[32m━━━━━━━━━━━━━━━━━━━━\u001b[0m\u001b[37m\u001b[0m \u001b[1m0s\u001b[0m 29ms/step\n"
          ]
        },
        {
          "output_type": "stream",
          "name": "stderr",
          "text": [
            "\r 19%|█▉        | 107/569 [00:09<00:35, 13.19it/s]"
          ]
        },
        {
          "output_type": "stream",
          "name": "stdout",
          "text": [
            "Tr-pi_0209.jpg -> Class: pituitary, Confidence: 1.00\n",
            "Saving Tr-pi_0209.jpg to BT100/Training/pituitary/20250328_215845_Tr-pi_0209.jpg\n",
            "\u001b[1m1/1\u001b[0m \u001b[32m━━━━━━━━━━━━━━━━━━━━\u001b[0m\u001b[37m\u001b[0m \u001b[1m0s\u001b[0m 30ms/step\n",
            "Tr-me_0367.jpg -> Class: meningioma, Confidence: 1.00\n",
            "Saving Tr-me_0367.jpg to BT100/Training/meningioma/20250328_215845_Tr-me_0367.jpg\n",
            "\u001b[1m1/1\u001b[0m \u001b[32m━━━━━━━━━━━━━━━━━━━━\u001b[0m\u001b[37m\u001b[0m \u001b[1m0s\u001b[0m 30ms/step\n"
          ]
        },
        {
          "output_type": "stream",
          "name": "stderr",
          "text": [
            "\r 19%|█▉        | 109/569 [00:09<00:33, 13.59it/s]"
          ]
        },
        {
          "output_type": "stream",
          "name": "stdout",
          "text": [
            "Tr-no_0478.jpg -> Class: notumor, Confidence: 1.00\n",
            "Saving Tr-no_0478.jpg to BT100/Training/notumor/20250328_215845_Tr-no_0478.jpg\n",
            "\u001b[1m1/1\u001b[0m \u001b[32m━━━━━━━━━━━━━━━━━━━━\u001b[0m\u001b[37m\u001b[0m \u001b[1m0s\u001b[0m 35ms/step\n",
            "Tr-gl_0083.jpg -> Class: glioma, Confidence: 1.00\n",
            "Saving Tr-gl_0083.jpg to BT100/Training/glioma/20250328_215845_Tr-gl_0083.jpg\n",
            "\u001b[1m1/1\u001b[0m \u001b[32m━━━━━━━━━━━━━━━━━━━━\u001b[0m\u001b[37m\u001b[0m \u001b[1m0s\u001b[0m 29ms/step\n"
          ]
        },
        {
          "output_type": "stream",
          "name": "stderr",
          "text": [
            "\r 20%|█▉        | 111/569 [00:09<00:36, 12.55it/s]"
          ]
        },
        {
          "output_type": "stream",
          "name": "stdout",
          "text": [
            "Tr-gl_0321.jpg -> Class: glioma, Confidence: 1.00\n",
            "Saving Tr-gl_0321.jpg to BT100/Training/glioma/20250328_215845_Tr-gl_0321.jpg\n",
            "\u001b[1m1/1\u001b[0m \u001b[32m━━━━━━━━━━━━━━━━━━━━\u001b[0m\u001b[37m\u001b[0m \u001b[1m0s\u001b[0m 29ms/step\n",
            "Tr-no_1253.jpg -> Class: notumor, Confidence: 1.00\n",
            "Saving Tr-no_1253.jpg to BT100/Training/notumor/20250328_215845_Tr-no_1253.jpg\n",
            "\u001b[1m1/1\u001b[0m \u001b[32m━━━━━━━━━━━━━━━━━━━━\u001b[0m\u001b[37m\u001b[0m \u001b[1m0s\u001b[0m 28ms/step\n"
          ]
        },
        {
          "output_type": "stream",
          "name": "stderr",
          "text": [
            "\r 20%|█▉        | 113/569 [00:09<00:35, 12.96it/s]"
          ]
        },
        {
          "output_type": "stream",
          "name": "stdout",
          "text": [
            "Tr-me_0653.jpg -> Class: meningioma, Confidence: 0.99\n",
            "Saving Tr-me_0653.jpg to BT100/Training/meningioma/20250328_215845_Tr-me_0653.jpg\n",
            "\u001b[1m1/1\u001b[0m \u001b[32m━━━━━━━━━━━━━━━━━━━━\u001b[0m\u001b[37m\u001b[0m \u001b[1m0s\u001b[0m 30ms/step\n",
            "Tr-pi_0444.jpg -> Class: pituitary, Confidence: 1.00\n",
            "Saving Tr-pi_0444.jpg to BT100/Training/pituitary/20250328_215845_Tr-pi_0444.jpg\n",
            "\u001b[1m1/1\u001b[0m \u001b[32m━━━━━━━━━━━━━━━━━━━━\u001b[0m\u001b[37m\u001b[0m \u001b[1m0s\u001b[0m 30ms/step\n"
          ]
        },
        {
          "output_type": "stream",
          "name": "stderr",
          "text": [
            "\r 20%|██        | 115/569 [00:09<00:33, 13.49it/s]"
          ]
        },
        {
          "output_type": "stream",
          "name": "stdout",
          "text": [
            "Tr-no_1418.jpg -> Class: notumor, Confidence: 1.00\n",
            "Saving Tr-no_1418.jpg to BT100/Training/notumor/20250328_215845_Tr-no_1418.jpg\n",
            "\u001b[1m1/1\u001b[0m \u001b[32m━━━━━━━━━━━━━━━━━━━━\u001b[0m\u001b[37m\u001b[0m \u001b[1m0s\u001b[0m 31ms/step\n",
            "Tr-no_1443.jpg -> Class: notumor, Confidence: 1.00\n",
            "Saving Tr-no_1443.jpg to BT100/Training/notumor/20250328_215845_Tr-no_1443.jpg\n",
            "\u001b[1m1/1\u001b[0m \u001b[32m━━━━━━━━━━━━━━━━━━━━\u001b[0m\u001b[37m\u001b[0m \u001b[1m0s\u001b[0m 32ms/step\n"
          ]
        },
        {
          "output_type": "stream",
          "name": "stderr",
          "text": [
            "\r 21%|██        | 117/569 [00:09<00:33, 13.59it/s]"
          ]
        },
        {
          "output_type": "stream",
          "name": "stdout",
          "text": [
            "Tr-pi_0529.jpg -> Class: pituitary, Confidence: 1.00\n",
            "Saving Tr-pi_0529.jpg to BT100/Training/pituitary/20250328_215845_Tr-pi_0529.jpg\n",
            "\u001b[1m1/1\u001b[0m \u001b[32m━━━━━━━━━━━━━━━━━━━━\u001b[0m\u001b[37m\u001b[0m \u001b[1m0s\u001b[0m 32ms/step\n",
            "Tr-me_0893.jpg -> Class: meningioma, Confidence: 1.00\n",
            "Saving Tr-me_0893.jpg to BT100/Training/meningioma/20250328_215846_Tr-me_0893.jpg\n",
            "\u001b[1m1/1\u001b[0m \u001b[32m━━━━━━━━━━━━━━━━━━━━\u001b[0m\u001b[37m\u001b[0m \u001b[1m0s\u001b[0m 30ms/step\n"
          ]
        },
        {
          "output_type": "stream",
          "name": "stderr",
          "text": [
            "\r 21%|██        | 119/569 [00:10<00:33, 13.56it/s]"
          ]
        },
        {
          "output_type": "stream",
          "name": "stdout",
          "text": [
            "Tr-pi_0755.jpg -> Class: pituitary, Confidence: 1.00\n",
            "Saving Tr-pi_0755.jpg to BT100/Training/pituitary/20250328_215846_Tr-pi_0755.jpg\n",
            "\u001b[1m1/1\u001b[0m \u001b[32m━━━━━━━━━━━━━━━━━━━━\u001b[0m\u001b[37m\u001b[0m \u001b[1m0s\u001b[0m 30ms/step\n",
            "Tr-me_0704.jpg -> Class: meningioma, Confidence: 1.00\n",
            "Saving Tr-me_0704.jpg to BT100/Training/meningioma/20250328_215846_Tr-me_0704.jpg\n",
            "\u001b[1m1/1\u001b[0m \u001b[32m━━━━━━━━━━━━━━━━━━━━\u001b[0m\u001b[37m\u001b[0m \u001b[1m0s\u001b[0m 30ms/step\n"
          ]
        },
        {
          "output_type": "stream",
          "name": "stderr",
          "text": [
            "\r 21%|██▏       | 121/569 [00:10<00:32, 13.75it/s]"
          ]
        },
        {
          "output_type": "stream",
          "name": "stdout",
          "text": [
            "Tr-no_1248.jpg -> Class: notumor, Confidence: 1.00\n",
            "Saving Tr-no_1248.jpg to BT100/Training/notumor/20250328_215846_Tr-no_1248.jpg\n",
            "\u001b[1m1/1\u001b[0m \u001b[32m━━━━━━━━━━━━━━━━━━━━\u001b[0m\u001b[37m\u001b[0m \u001b[1m0s\u001b[0m 31ms/step\n",
            "Tr-no_1506.jpg -> Class: notumor, Confidence: 1.00\n",
            "Saving Tr-no_1506.jpg to BT100/Training/notumor/20250328_215846_Tr-no_1506.jpg\n",
            "\u001b[1m1/1\u001b[0m \u001b[32m━━━━━━━━━━━━━━━━━━━━\u001b[0m\u001b[37m\u001b[0m \u001b[1m0s\u001b[0m 31ms/step\n"
          ]
        },
        {
          "output_type": "stream",
          "name": "stderr",
          "text": [
            "\r 22%|██▏       | 123/569 [00:10<00:34, 12.85it/s]"
          ]
        },
        {
          "output_type": "stream",
          "name": "stdout",
          "text": [
            "Tr-pi_0107.jpg -> Class: pituitary, Confidence: 1.00\n",
            "Saving Tr-pi_0107.jpg to BT100/Training/pituitary/20250328_215846_Tr-pi_0107.jpg\n",
            "\u001b[1m1/1\u001b[0m \u001b[32m━━━━━━━━━━━━━━━━━━━━\u001b[0m\u001b[37m\u001b[0m \u001b[1m0s\u001b[0m 30ms/step\n",
            "Tr-no_0428.jpg -> Class: notumor, Confidence: 1.00\n",
            "Saving Tr-no_0428.jpg to BT100/Training/notumor/20250328_215846_Tr-no_0428.jpg\n",
            "\u001b[1m1/1\u001b[0m \u001b[32m━━━━━━━━━━━━━━━━━━━━\u001b[0m\u001b[37m\u001b[0m \u001b[1m0s\u001b[0m 29ms/step\n"
          ]
        },
        {
          "output_type": "stream",
          "name": "stderr",
          "text": [
            "\r 22%|██▏       | 125/569 [00:10<00:33, 13.15it/s]"
          ]
        },
        {
          "output_type": "stream",
          "name": "stdout",
          "text": [
            "Tr-me_0261.jpg -> Class: meningioma, Confidence: 1.00\n",
            "Saving Tr-me_0261.jpg to BT100/Training/meningioma/20250328_215846_Tr-me_0261.jpg\n",
            "\u001b[1m1/1\u001b[0m \u001b[32m━━━━━━━━━━━━━━━━━━━━\u001b[0m\u001b[37m\u001b[0m \u001b[1m0s\u001b[0m 28ms/step\n",
            "Tr-no_1476.jpg -> Class: notumor, Confidence: 1.00\n",
            "Saving Tr-no_1476.jpg to BT100/Training/notumor/20250328_215846_Tr-no_1476.jpg\n",
            "\u001b[1m1/1\u001b[0m \u001b[32m━━━━━━━━━━━━━━━━━━━━\u001b[0m\u001b[37m\u001b[0m \u001b[1m0s\u001b[0m 28ms/step\n"
          ]
        },
        {
          "output_type": "stream",
          "name": "stderr",
          "text": [
            "\r 22%|██▏       | 127/569 [00:10<00:32, 13.69it/s]"
          ]
        },
        {
          "output_type": "stream",
          "name": "stdout",
          "text": [
            "Tr-gl_0821.jpg -> Class: glioma, Confidence: 1.00\n",
            "Saving Tr-gl_0821.jpg to BT100/Training/glioma/20250328_215846_Tr-gl_0821.jpg\n",
            "\u001b[1m1/1\u001b[0m \u001b[32m━━━━━━━━━━━━━━━━━━━━\u001b[0m\u001b[37m\u001b[0m \u001b[1m0s\u001b[0m 29ms/step\n",
            "Tr-pi_1388.jpg -> Class: pituitary, Confidence: 1.00\n",
            "Saving Tr-pi_1388.jpg to BT100/Training/pituitary/20250328_215846_Tr-pi_1388.jpg\n",
            "\u001b[1m1/1\u001b[0m \u001b[32m━━━━━━━━━━━━━━━━━━━━\u001b[0m\u001b[37m\u001b[0m \u001b[1m0s\u001b[0m 32ms/step\n"
          ]
        },
        {
          "output_type": "stream",
          "name": "stderr",
          "text": [
            "\r 23%|██▎       | 129/569 [00:10<00:31, 13.77it/s]"
          ]
        },
        {
          "output_type": "stream",
          "name": "stdout",
          "text": [
            "Tr-me_1242.jpg -> Class: meningioma, Confidence: 1.00\n",
            "Saving Tr-me_1242.jpg to BT100/Training/meningioma/20250328_215846_Tr-me_1242.jpg\n",
            "\u001b[1m1/1\u001b[0m \u001b[32m━━━━━━━━━━━━━━━━━━━━\u001b[0m\u001b[37m\u001b[0m \u001b[1m0s\u001b[0m 29ms/step\n",
            "Tr-me_0322.jpg -> Class: meningioma, Confidence: 0.97\n",
            "\u001b[1m1/1\u001b[0m \u001b[32m━━━━━━━━━━━━━━━━━━━━\u001b[0m\u001b[37m\u001b[0m \u001b[1m0s\u001b[0m 29ms/step\n"
          ]
        },
        {
          "output_type": "stream",
          "name": "stderr",
          "text": [
            "\r 23%|██▎       | 131/569 [00:11<00:30, 14.15it/s]"
          ]
        },
        {
          "output_type": "stream",
          "name": "stdout",
          "text": [
            "Tr-pi_0245.jpg -> Class: pituitary, Confidence: 1.00\n",
            "Saving Tr-pi_0245.jpg to BT100/Training/pituitary/20250328_215846_Tr-pi_0245.jpg\n",
            "\u001b[1m1/1\u001b[0m \u001b[32m━━━━━━━━━━━━━━━━━━━━\u001b[0m\u001b[37m\u001b[0m \u001b[1m0s\u001b[0m 29ms/step\n",
            "Tr-pi_0139.jpg -> Class: pituitary, Confidence: 1.00\n",
            "Saving Tr-pi_0139.jpg to BT100/Training/pituitary/20250328_215847_Tr-pi_0139.jpg\n",
            "\u001b[1m1/1\u001b[0m \u001b[32m━━━━━━━━━━━━━━━━━━━━\u001b[0m\u001b[37m\u001b[0m \u001b[1m0s\u001b[0m 35ms/step\n"
          ]
        },
        {
          "output_type": "stream",
          "name": "stderr",
          "text": [
            "\r 23%|██▎       | 133/569 [00:11<00:31, 13.68it/s]"
          ]
        },
        {
          "output_type": "stream",
          "name": "stdout",
          "text": [
            "Tr-gl_0489.jpg -> Class: glioma, Confidence: 1.00\n",
            "Saving Tr-gl_0489.jpg to BT100/Training/glioma/20250328_215847_Tr-gl_0489.jpg\n",
            "\u001b[1m1/1\u001b[0m \u001b[32m━━━━━━━━━━━━━━━━━━━━\u001b[0m\u001b[37m\u001b[0m \u001b[1m0s\u001b[0m 30ms/step\n",
            "Tr-me_0959.jpg -> Class: meningioma, Confidence: 1.00\n",
            "Saving Tr-me_0959.jpg to BT100/Training/meningioma/20250328_215847_Tr-me_0959.jpg\n",
            "\u001b[1m1/1\u001b[0m \u001b[32m━━━━━━━━━━━━━━━━━━━━\u001b[0m\u001b[37m\u001b[0m \u001b[1m0s\u001b[0m 29ms/step\n"
          ]
        },
        {
          "output_type": "stream",
          "name": "stderr",
          "text": [
            "\r 24%|██▎       | 135/569 [00:11<00:30, 14.10it/s]"
          ]
        },
        {
          "output_type": "stream",
          "name": "stdout",
          "text": [
            "Tr-gl_1186.jpg -> Class: meningioma, Confidence: 0.86\n",
            "\u001b[1m1/1\u001b[0m \u001b[32m━━━━━━━━━━━━━━━━━━━━\u001b[0m\u001b[37m\u001b[0m \u001b[1m0s\u001b[0m 28ms/step\n",
            "Tr-me_0746.jpg -> Class: meningioma, Confidence: 1.00\n",
            "Saving Tr-me_0746.jpg to BT100/Training/meningioma/20250328_215847_Tr-me_0746.jpg\n",
            "\u001b[1m1/1\u001b[0m \u001b[32m━━━━━━━━━━━━━━━━━━━━\u001b[0m\u001b[37m\u001b[0m \u001b[1m0s\u001b[0m 39ms/step\n"
          ]
        },
        {
          "output_type": "stream",
          "name": "stderr",
          "text": [
            "\r 24%|██▍       | 137/569 [00:11<00:30, 13.97it/s]"
          ]
        },
        {
          "output_type": "stream",
          "name": "stdout",
          "text": [
            "Tr-me_0525.jpg -> Class: meningioma, Confidence: 1.00\n",
            "Saving Tr-me_0525.jpg to BT100/Training/meningioma/20250328_215847_Tr-me_0525.jpg\n",
            "\u001b[1m1/1\u001b[0m \u001b[32m━━━━━━━━━━━━━━━━━━━━\u001b[0m\u001b[37m\u001b[0m \u001b[1m0s\u001b[0m 33ms/step\n",
            "Tr-no_1495.jpg -> Class: notumor, Confidence: 1.00\n",
            "Saving Tr-no_1495.jpg to BT100/Training/notumor/20250328_215847_Tr-no_1495.jpg\n",
            "\u001b[1m1/1\u001b[0m \u001b[32m━━━━━━━━━━━━━━━━━━━━\u001b[0m\u001b[37m\u001b[0m \u001b[1m0s\u001b[0m 30ms/step\n"
          ]
        },
        {
          "output_type": "stream",
          "name": "stderr",
          "text": [
            "\r 24%|██▍       | 139/569 [00:11<00:31, 13.84it/s]"
          ]
        },
        {
          "output_type": "stream",
          "name": "stdout",
          "text": [
            "Tr-no_0639.jpg -> Class: notumor, Confidence: 1.00\n",
            "Saving Tr-no_0639.jpg to BT100/Training/notumor/20250328_215847_Tr-no_0639.jpg\n",
            "\u001b[1m1/1\u001b[0m \u001b[32m━━━━━━━━━━━━━━━━━━━━\u001b[0m\u001b[37m\u001b[0m \u001b[1m0s\u001b[0m 30ms/step\n",
            "Tr-pi_0468.jpg -> Class: pituitary, Confidence: 1.00\n",
            "Saving Tr-pi_0468.jpg to BT100/Training/pituitary/20250328_215847_Tr-pi_0468.jpg\n",
            "\u001b[1m1/1\u001b[0m \u001b[32m━━━━━━━━━━━━━━━━━━━━\u001b[0m\u001b[37m\u001b[0m \u001b[1m0s\u001b[0m 31ms/step\n",
            "Tr-no_1184.jpg -> Class: notumor, Confidence: 1.00\n",
            "Saving Tr-no_1184.jpg to BT100/Training/notumor/20250328_215847_Tr-no_1184.jpg\n"
          ]
        },
        {
          "output_type": "stream",
          "name": "stderr",
          "text": [
            "\r 25%|██▍       | 141/569 [00:11<00:33, 12.84it/s]"
          ]
        },
        {
          "output_type": "stream",
          "name": "stdout",
          "text": [
            "\u001b[1m1/1\u001b[0m \u001b[32m━━━━━━━━━━━━━━━━━━━━\u001b[0m\u001b[37m\u001b[0m \u001b[1m0s\u001b[0m 29ms/step\n",
            "Tr-gl_0053.jpg -> Class: glioma, Confidence: 1.00\n",
            "Saving Tr-gl_0053.jpg to BT100/Training/glioma/20250328_215847_Tr-gl_0053.jpg\n",
            "\u001b[1m1/1\u001b[0m \u001b[32m━━━━━━━━━━━━━━━━━━━━\u001b[0m\u001b[37m\u001b[0m \u001b[1m0s\u001b[0m 30ms/step\n"
          ]
        },
        {
          "output_type": "stream",
          "name": "stderr",
          "text": [
            "\r 25%|██▌       | 143/569 [00:11<00:32, 13.22it/s]"
          ]
        },
        {
          "output_type": "stream",
          "name": "stdout",
          "text": [
            "Tr-me_1052.jpg -> Class: meningioma, Confidence: 1.00\n",
            "Saving Tr-me_1052.jpg to BT100/Training/meningioma/20250328_215847_Tr-me_1052.jpg\n",
            "\u001b[1m1/1\u001b[0m \u001b[32m━━━━━━━━━━━━━━━━━━━━\u001b[0m\u001b[37m\u001b[0m \u001b[1m0s\u001b[0m 30ms/step\n",
            "Tr-no_1135.jpg -> Class: notumor, Confidence: 1.00\n",
            "Saving Tr-no_1135.jpg to BT100/Training/notumor/20250328_215847_Tr-no_1135.jpg\n",
            "\u001b[1m1/1\u001b[0m \u001b[32m━━━━━━━━━━━━━━━━━━━━\u001b[0m\u001b[37m\u001b[0m \u001b[1m0s\u001b[0m 32ms/step\n"
          ]
        },
        {
          "output_type": "stream",
          "name": "stderr",
          "text": [
            "\r 25%|██▌       | 145/569 [00:12<00:31, 13.41it/s]"
          ]
        },
        {
          "output_type": "stream",
          "name": "stdout",
          "text": [
            "Tr-no_1536.jpg -> Class: notumor, Confidence: 1.00\n",
            "Saving Tr-no_1536.jpg to BT100/Training/notumor/20250328_215848_Tr-no_1536.jpg\n",
            "\u001b[1m1/1\u001b[0m \u001b[32m━━━━━━━━━━━━━━━━━━━━\u001b[0m\u001b[37m\u001b[0m \u001b[1m0s\u001b[0m 32ms/step\n",
            "Tr-pi_0397.jpg -> Class: pituitary, Confidence: 1.00\n",
            "Saving Tr-pi_0397.jpg to BT100/Training/pituitary/20250328_215848_Tr-pi_0397.jpg\n",
            "\u001b[1m1/1\u001b[0m \u001b[32m━━━━━━━━━━━━━━━━━━━━\u001b[0m\u001b[37m\u001b[0m \u001b[1m0s\u001b[0m 31ms/step\n"
          ]
        },
        {
          "output_type": "stream",
          "name": "stderr",
          "text": [
            "\r 26%|██▌       | 147/569 [00:12<00:31, 13.43it/s]"
          ]
        },
        {
          "output_type": "stream",
          "name": "stdout",
          "text": [
            "Tr-pi_1010.jpg -> Class: pituitary, Confidence: 1.00\n",
            "Saving Tr-pi_1010.jpg to BT100/Training/pituitary/20250328_215848_Tr-pi_1010.jpg\n",
            "\u001b[1m1/1\u001b[0m \u001b[32m━━━━━━━━━━━━━━━━━━━━\u001b[0m\u001b[37m\u001b[0m \u001b[1m0s\u001b[0m 29ms/step\n",
            "Tr-pi_1324.jpg -> Class: pituitary, Confidence: 1.00\n",
            "Saving Tr-pi_1324.jpg to BT100/Training/pituitary/20250328_215848_Tr-pi_1324.jpg\n",
            "\u001b[1m1/1\u001b[0m \u001b[32m━━━━━━━━━━━━━━━━━━━━\u001b[0m\u001b[37m\u001b[0m \u001b[1m0s\u001b[0m 34ms/step\n"
          ]
        },
        {
          "output_type": "stream",
          "name": "stderr",
          "text": [
            "\r 26%|██▌       | 149/569 [00:12<00:30, 13.67it/s]"
          ]
        },
        {
          "output_type": "stream",
          "name": "stdout",
          "text": [
            "Tr-no_0652.jpg -> Class: notumor, Confidence: 1.00\n",
            "Saving Tr-no_0652.jpg to BT100/Training/notumor/20250328_215848_Tr-no_0652.jpg\n",
            "\u001b[1m1/1\u001b[0m \u001b[32m━━━━━━━━━━━━━━━━━━━━\u001b[0m\u001b[37m\u001b[0m \u001b[1m0s\u001b[0m 31ms/step\n",
            "Tr-pi_0896.jpg -> Class: pituitary, Confidence: 1.00\n",
            "Saving Tr-pi_0896.jpg to BT100/Training/pituitary/20250328_215848_Tr-pi_0896.jpg\n",
            "\u001b[1m1/1\u001b[0m \u001b[32m━━━━━━━━━━━━━━━━━━━━\u001b[0m\u001b[37m\u001b[0m \u001b[1m0s\u001b[0m 31ms/step\n"
          ]
        },
        {
          "output_type": "stream",
          "name": "stderr",
          "text": [
            "\r 27%|██▋       | 151/569 [00:12<00:32, 12.67it/s]"
          ]
        },
        {
          "output_type": "stream",
          "name": "stdout",
          "text": [
            "Tr-gl_0858.jpg -> Class: glioma, Confidence: 1.00\n",
            "Saving Tr-gl_0858.jpg to BT100/Training/glioma/20250328_215848_Tr-gl_0858.jpg\n",
            "\u001b[1m1/1\u001b[0m \u001b[32m━━━━━━━━━━━━━━━━━━━━\u001b[0m\u001b[37m\u001b[0m \u001b[1m0s\u001b[0m 30ms/step\n",
            "Tr-gl_0751.jpg -> Class: glioma, Confidence: 1.00\n",
            "Saving Tr-gl_0751.jpg to BT100/Training/glioma/20250328_215848_Tr-gl_0751.jpg\n",
            "\u001b[1m1/1\u001b[0m \u001b[32m━━━━━━━━━━━━━━━━━━━━\u001b[0m\u001b[37m\u001b[0m \u001b[1m0s\u001b[0m 29ms/step\n"
          ]
        },
        {
          "output_type": "stream",
          "name": "stderr",
          "text": [
            "\r 27%|██▋       | 153/569 [00:12<00:31, 13.03it/s]"
          ]
        },
        {
          "output_type": "stream",
          "name": "stdout",
          "text": [
            "Tr-no_0957.jpg -> Class: notumor, Confidence: 1.00\n",
            "Saving Tr-no_0957.jpg to BT100/Training/notumor/20250328_215848_Tr-no_0957.jpg\n",
            "\u001b[1m1/1\u001b[0m \u001b[32m━━━━━━━━━━━━━━━━━━━━\u001b[0m\u001b[37m\u001b[0m \u001b[1m0s\u001b[0m 32ms/step\n",
            "Tr-no_0485.jpg -> Class: notumor, Confidence: 1.00\n",
            "Saving Tr-no_0485.jpg to BT100/Training/notumor/20250328_215848_Tr-no_0485.jpg\n",
            "\u001b[1m1/1\u001b[0m \u001b[32m━━━━━━━━━━━━━━━━━━━━\u001b[0m\u001b[37m\u001b[0m \u001b[1m0s\u001b[0m 30ms/step\n"
          ]
        },
        {
          "output_type": "stream",
          "name": "stderr",
          "text": [
            "\r 27%|██▋       | 155/569 [00:12<00:30, 13.51it/s]"
          ]
        },
        {
          "output_type": "stream",
          "name": "stdout",
          "text": [
            "Tr-no_1075.jpg -> Class: notumor, Confidence: 1.00\n",
            "Saving Tr-no_1075.jpg to BT100/Training/notumor/20250328_215848_Tr-no_1075.jpg\n",
            "\u001b[1m1/1\u001b[0m \u001b[32m━━━━━━━━━━━━━━━━━━━━\u001b[0m\u001b[37m\u001b[0m \u001b[1m0s\u001b[0m 30ms/step\n",
            "Tr-no_1221.jpg -> Class: notumor, Confidence: 1.00\n",
            "Saving Tr-no_1221.jpg to BT100/Training/notumor/20250328_215848_Tr-no_1221.jpg\n",
            "\u001b[1m1/1\u001b[0m \u001b[32m━━━━━━━━━━━━━━━━━━━━\u001b[0m\u001b[37m\u001b[0m \u001b[1m0s\u001b[0m 30ms/step\n"
          ]
        },
        {
          "output_type": "stream",
          "name": "stderr",
          "text": [
            "\r 28%|██▊       | 157/569 [00:12<00:29, 13.80it/s]"
          ]
        },
        {
          "output_type": "stream",
          "name": "stdout",
          "text": [
            "Tr-pi_0708.jpg -> Class: pituitary, Confidence: 1.00\n",
            "Saving Tr-pi_0708.jpg to BT100/Training/pituitary/20250328_215848_Tr-pi_0708.jpg\n",
            "\u001b[1m1/1\u001b[0m \u001b[32m━━━━━━━━━━━━━━━━━━━━\u001b[0m\u001b[37m\u001b[0m \u001b[1m0s\u001b[0m 31ms/step\n",
            "Tr-no_1484.jpg -> Class: notumor, Confidence: 1.00\n",
            "Saving Tr-no_1484.jpg to BT100/Training/notumor/20250328_215848_Tr-no_1484.jpg\n",
            "\u001b[1m1/1\u001b[0m \u001b[32m━━━━━━━━━━━━━━━━━━━━\u001b[0m\u001b[37m\u001b[0m \u001b[1m0s\u001b[0m 31ms/step\n"
          ]
        },
        {
          "output_type": "stream",
          "name": "stderr",
          "text": [
            "\r 28%|██▊       | 159/569 [00:13<00:29, 13.94it/s]"
          ]
        },
        {
          "output_type": "stream",
          "name": "stdout",
          "text": [
            "Tr-pi_0312.jpg -> Class: pituitary, Confidence: 1.00\n",
            "Saving Tr-pi_0312.jpg to BT100/Training/pituitary/20250328_215849_Tr-pi_0312.jpg\n",
            "\u001b[1m1/1\u001b[0m \u001b[32m━━━━━━━━━━━━━━━━━━━━\u001b[0m\u001b[37m\u001b[0m \u001b[1m0s\u001b[0m 31ms/step\n",
            "Tr-me_1261.jpg -> Class: meningioma, Confidence: 1.00\n",
            "Saving Tr-me_1261.jpg to BT100/Training/meningioma/20250328_215849_Tr-me_1261.jpg\n",
            "\u001b[1m1/1\u001b[0m \u001b[32m━━━━━━━━━━━━━━━━━━━━\u001b[0m\u001b[37m\u001b[0m \u001b[1m0s\u001b[0m 29ms/step\n"
          ]
        },
        {
          "output_type": "stream",
          "name": "stderr",
          "text": [
            "\r 28%|██▊       | 161/569 [00:13<00:29, 13.82it/s]"
          ]
        },
        {
          "output_type": "stream",
          "name": "stdout",
          "text": [
            "Tr-no_0439.jpg -> Class: notumor, Confidence: 1.00\n",
            "Saving Tr-no_0439.jpg to BT100/Training/notumor/20250328_215849_Tr-no_0439.jpg\n",
            "\u001b[1m1/1\u001b[0m \u001b[32m━━━━━━━━━━━━━━━━━━━━\u001b[0m\u001b[37m\u001b[0m \u001b[1m0s\u001b[0m 30ms/step\n",
            "Tr-no_1277.jpg -> Class: notumor, Confidence: 1.00\n",
            "Saving Tr-no_1277.jpg to BT100/Training/notumor/20250328_215849_Tr-no_1277.jpg\n",
            "\u001b[1m1/1\u001b[0m \u001b[32m━━━━━━━━━━━━━━━━━━━━\u001b[0m\u001b[37m\u001b[0m \u001b[1m0s\u001b[0m 32ms/step\n"
          ]
        },
        {
          "output_type": "stream",
          "name": "stderr",
          "text": [
            "\r 29%|██▊       | 163/569 [00:13<00:28, 14.11it/s]"
          ]
        },
        {
          "output_type": "stream",
          "name": "stdout",
          "text": [
            "Tr-pi_1173.jpg -> Class: pituitary, Confidence: 1.00\n",
            "Saving Tr-pi_1173.jpg to BT100/Training/pituitary/20250328_215849_Tr-pi_1173.jpg\n",
            "\u001b[1m1/1\u001b[0m \u001b[32m━━━━━━━━━━━━━━━━━━━━\u001b[0m\u001b[37m\u001b[0m \u001b[1m0s\u001b[0m 41ms/step\n",
            "Tr-pi_1407.jpg -> Class: pituitary, Confidence: 1.00\n",
            "Saving Tr-pi_1407.jpg to BT100/Training/pituitary/20250328_215849_Tr-pi_1407.jpg\n",
            "\u001b[1m1/1\u001b[0m \u001b[32m━━━━━━━━━━━━━━━━━━━━\u001b[0m\u001b[37m\u001b[0m \u001b[1m0s\u001b[0m 49ms/step\n"
          ]
        },
        {
          "output_type": "stream",
          "name": "stderr",
          "text": [
            "\r 29%|██▉       | 165/569 [00:13<00:35, 11.25it/s]"
          ]
        },
        {
          "output_type": "stream",
          "name": "stdout",
          "text": [
            "Tr-pi_1128.jpg -> Class: pituitary, Confidence: 1.00\n",
            "Saving Tr-pi_1128.jpg to BT100/Training/pituitary/20250328_215849_Tr-pi_1128.jpg\n",
            "\u001b[1m1/1\u001b[0m \u001b[32m━━━━━━━━━━━━━━━━━━━━\u001b[0m\u001b[37m\u001b[0m \u001b[1m0s\u001b[0m 47ms/step\n",
            "Tr-gl_0437.jpg -> Class: glioma, Confidence: 1.00\n",
            "Saving Tr-gl_0437.jpg to BT100/Training/glioma/20250328_215849_Tr-gl_0437.jpg\n",
            "\u001b[1m1/1\u001b[0m \u001b[32m━━━━━━━━━━━━━━━━━━━━\u001b[0m\u001b[37m\u001b[0m \u001b[1m0s\u001b[0m 43ms/step\n"
          ]
        },
        {
          "output_type": "stream",
          "name": "stderr",
          "text": [
            "\r 29%|██▉       | 167/569 [00:13<00:39, 10.07it/s]"
          ]
        },
        {
          "output_type": "stream",
          "name": "stdout",
          "text": [
            "Tr-me_0044.jpg -> Class: meningioma, Confidence: 1.00\n",
            "Saving Tr-me_0044.jpg to BT100/Training/meningioma/20250328_215849_Tr-me_0044.jpg\n",
            "\u001b[1m1/1\u001b[0m \u001b[32m━━━━━━━━━━━━━━━━━━━━\u001b[0m\u001b[37m\u001b[0m \u001b[1m0s\u001b[0m 43ms/step\n",
            "Tr-pi_0528.jpg -> Class: pituitary, Confidence: 1.00\n",
            "Saving Tr-pi_0528.jpg to BT100/Training/pituitary/20250328_215849_Tr-pi_0528.jpg\n",
            "\u001b[1m1/1\u001b[0m \u001b[32m━━━━━━━━━━━━━━━━━━━━\u001b[0m\u001b[37m\u001b[0m \u001b[1m0s\u001b[0m 43ms/step\n"
          ]
        },
        {
          "output_type": "stream",
          "name": "stderr",
          "text": [
            "\r 30%|██▉       | 169/569 [00:14<00:41,  9.72it/s]"
          ]
        },
        {
          "output_type": "stream",
          "name": "stdout",
          "text": [
            "Tr-no_0452.jpg -> Class: notumor, Confidence: 1.00\n",
            "Saving Tr-no_0452.jpg to BT100/Training/notumor/20250328_215850_Tr-no_0452.jpg\n",
            "\u001b[1m1/1\u001b[0m \u001b[32m━━━━━━━━━━━━━━━━━━━━\u001b[0m\u001b[37m\u001b[0m \u001b[1m0s\u001b[0m 43ms/step\n",
            "Tr-no_0794.jpg -> Class: notumor, Confidence: 1.00\n",
            "Saving Tr-no_0794.jpg to BT100/Training/notumor/20250328_215850_Tr-no_0794.jpg\n",
            "\u001b[1m1/1\u001b[0m \u001b[32m━━━━━━━━━━━━━━━━━━━━\u001b[0m\u001b[37m\u001b[0m \u001b[1m0s\u001b[0m 40ms/step\n"
          ]
        },
        {
          "output_type": "stream",
          "name": "stderr",
          "text": [
            "\r 30%|███       | 171/569 [00:14<00:42,  9.40it/s]"
          ]
        },
        {
          "output_type": "stream",
          "name": "stdout",
          "text": [
            "Tr-no_0264.jpg -> Class: notumor, Confidence: 1.00\n",
            "Saving Tr-no_0264.jpg to BT100/Training/notumor/20250328_215850_Tr-no_0264.jpg\n",
            "\u001b[1m1/1\u001b[0m \u001b[32m━━━━━━━━━━━━━━━━━━━━\u001b[0m\u001b[37m\u001b[0m \u001b[1m0s\u001b[0m 40ms/step\n"
          ]
        },
        {
          "output_type": "stream",
          "name": "stderr",
          "text": [
            "\r 30%|███       | 172/569 [00:14<00:43,  9.11it/s]"
          ]
        },
        {
          "output_type": "stream",
          "name": "stdout",
          "text": [
            "Tr-gl_0308.jpg -> Class: glioma, Confidence: 1.00\n",
            "Saving Tr-gl_0308.jpg to BT100/Training/glioma/20250328_215850_Tr-gl_0308.jpg\n",
            "\u001b[1m1/1\u001b[0m \u001b[32m━━━━━━━━━━━━━━━━━━━━\u001b[0m\u001b[37m\u001b[0m \u001b[1m0s\u001b[0m 42ms/step\n",
            "Tr-gl_0023.jpg -> Class: glioma, Confidence: 1.00\n",
            "Saving Tr-gl_0023.jpg to BT100/Training/glioma/20250328_215850_Tr-gl_0023.jpg\n",
            "\u001b[1m1/1\u001b[0m \u001b[32m━━━━━━━━━━━━━━━━━━━━\u001b[0m\u001b[37m\u001b[0m \u001b[1m0s\u001b[0m 41ms/step\n"
          ]
        },
        {
          "output_type": "stream",
          "name": "stderr",
          "text": [
            "\r 31%|███       | 174/569 [00:14<00:43,  9.07it/s]"
          ]
        },
        {
          "output_type": "stream",
          "name": "stdout",
          "text": [
            "Tr-pi_0401.jpg -> Class: pituitary, Confidence: 1.00\n",
            "Saving Tr-pi_0401.jpg to BT100/Training/pituitary/20250328_215850_Tr-pi_0401.jpg\n",
            "\u001b[1m1/1\u001b[0m \u001b[32m━━━━━━━━━━━━━━━━━━━━\u001b[0m\u001b[37m\u001b[0m \u001b[1m0s\u001b[0m 47ms/step\n"
          ]
        },
        {
          "output_type": "stream",
          "name": "stderr",
          "text": [
            "\r 31%|███       | 175/569 [00:14<00:45,  8.68it/s]"
          ]
        },
        {
          "output_type": "stream",
          "name": "stdout",
          "text": [
            "Tr-me_1168.jpg -> Class: meningioma, Confidence: 1.00\n",
            "Saving Tr-me_1168.jpg to BT100/Training/meningioma/20250328_215850_Tr-me_1168.jpg\n",
            "\u001b[1m1/1\u001b[0m \u001b[32m━━━━━━━━━━━━━━━━━━━━\u001b[0m\u001b[37m\u001b[0m \u001b[1m0s\u001b[0m 43ms/step\n"
          ]
        },
        {
          "output_type": "stream",
          "name": "stderr",
          "text": [
            "\r 31%|███       | 176/569 [00:14<00:47,  8.25it/s]"
          ]
        },
        {
          "output_type": "stream",
          "name": "stdout",
          "text": [
            "Tr-no_1590.jpg -> Class: notumor, Confidence: 1.00\n",
            "Saving Tr-no_1590.jpg to BT100/Training/notumor/20250328_215850_Tr-no_1590.jpg\n",
            "\u001b[1m1/1\u001b[0m \u001b[32m━━━━━━━━━━━━━━━━━━━━\u001b[0m\u001b[37m\u001b[0m \u001b[1m0s\u001b[0m 55ms/step\n"
          ]
        },
        {
          "output_type": "stream",
          "name": "stderr",
          "text": [
            "\r 31%|███       | 177/569 [00:15<00:47,  8.32it/s]"
          ]
        },
        {
          "output_type": "stream",
          "name": "stdout",
          "text": [
            "Tr-no_0057.jpg -> Class: notumor, Confidence: 1.00\n",
            "Saving Tr-no_0057.jpg to BT100/Training/notumor/20250328_215851_Tr-no_0057.jpg\n",
            "\u001b[1m1/1\u001b[0m \u001b[32m━━━━━━━━━━━━━━━━━━━━\u001b[0m\u001b[37m\u001b[0m \u001b[1m0s\u001b[0m 47ms/step\n"
          ]
        },
        {
          "output_type": "stream",
          "name": "stderr",
          "text": [
            "\r 31%|███▏      | 178/569 [00:15<00:48,  8.08it/s]"
          ]
        },
        {
          "output_type": "stream",
          "name": "stdout",
          "text": [
            "Tr-gl_0741.jpg -> Class: glioma, Confidence: 1.00\n",
            "Saving Tr-gl_0741.jpg to BT100/Training/glioma/20250328_215851_Tr-gl_0741.jpg\n",
            "\u001b[1m1/1\u001b[0m \u001b[32m━━━━━━━━━━━━━━━━━━━━\u001b[0m\u001b[37m\u001b[0m \u001b[1m0s\u001b[0m 46ms/step\n"
          ]
        },
        {
          "output_type": "stream",
          "name": "stderr",
          "text": [
            "\r 31%|███▏      | 179/569 [00:15<00:50,  7.78it/s]"
          ]
        },
        {
          "output_type": "stream",
          "name": "stdout",
          "text": [
            "Tr-pi_1067.jpg -> Class: pituitary, Confidence: 1.00\n",
            "Saving Tr-pi_1067.jpg to BT100/Training/pituitary/20250328_215851_Tr-pi_1067.jpg\n",
            "\u001b[1m1/1\u001b[0m \u001b[32m━━━━━━━━━━━━━━━━━━━━\u001b[0m\u001b[37m\u001b[0m \u001b[1m0s\u001b[0m 34ms/step\n"
          ]
        },
        {
          "output_type": "stream",
          "name": "stderr",
          "text": [
            "\r 32%|███▏      | 180/569 [00:15<00:49,  7.87it/s]"
          ]
        },
        {
          "output_type": "stream",
          "name": "stdout",
          "text": [
            "Tr-gl_0884.jpg -> Class: glioma, Confidence: 1.00\n",
            "Saving Tr-gl_0884.jpg to BT100/Training/glioma/20250328_215851_Tr-gl_0884.jpg\n",
            "\u001b[1m1/1\u001b[0m \u001b[32m━━━━━━━━━━━━━━━━━━━━\u001b[0m\u001b[37m\u001b[0m \u001b[1m0s\u001b[0m 31ms/step\n",
            "Tr-pi_0031.jpg -> Class: notumor, Confidence: 1.00\n",
            "Saving Tr-pi_0031.jpg to BT100/Training/notumor/20250328_215851_Tr-pi_0031.jpg\n",
            "\u001b[1m1/1\u001b[0m \u001b[32m━━━━━━━━━━━━━━━━━━━━\u001b[0m\u001b[37m\u001b[0m \u001b[1m0s\u001b[0m 31ms/step\n"
          ]
        },
        {
          "output_type": "stream",
          "name": "stderr",
          "text": [
            "\r 32%|███▏      | 182/569 [00:15<00:39,  9.78it/s]"
          ]
        },
        {
          "output_type": "stream",
          "name": "stdout",
          "text": [
            "Tr-gl_0344.jpg -> Class: glioma, Confidence: 1.00\n",
            "Saving Tr-gl_0344.jpg to BT100/Training/glioma/20250328_215851_Tr-gl_0344.jpg\n",
            "\u001b[1m1/1\u001b[0m \u001b[32m━━━━━━━━━━━━━━━━━━━━\u001b[0m\u001b[37m\u001b[0m \u001b[1m0s\u001b[0m 31ms/step\n",
            "Tr-no_0998.jpg -> Class: notumor, Confidence: 1.00\n",
            "Saving Tr-no_0998.jpg to BT100/Training/notumor/20250328_215851_Tr-no_0998.jpg\n",
            "\u001b[1m1/1\u001b[0m \u001b[32m━━━━━━━━━━━━━━━━━━━━\u001b[0m\u001b[37m\u001b[0m \u001b[1m0s\u001b[0m 34ms/step\n"
          ]
        },
        {
          "output_type": "stream",
          "name": "stderr",
          "text": [
            "\r 32%|███▏      | 184/569 [00:15<00:34, 11.06it/s]"
          ]
        },
        {
          "output_type": "stream",
          "name": "stdout",
          "text": [
            "Tr-pi_1260.jpg -> Class: pituitary, Confidence: 1.00\n",
            "Saving Tr-pi_1260.jpg to BT100/Training/pituitary/20250328_215851_Tr-pi_1260.jpg\n",
            "\u001b[1m1/1\u001b[0m \u001b[32m━━━━━━━━━━━━━━━━━━━━\u001b[0m\u001b[37m\u001b[0m \u001b[1m0s\u001b[0m 31ms/step\n",
            "Tr-gl_0173.jpg -> Class: glioma, Confidence: 1.00\n",
            "Saving Tr-gl_0173.jpg to BT100/Training/glioma/20250328_215851_Tr-gl_0173.jpg\n",
            "\u001b[1m1/1\u001b[0m \u001b[32m━━━━━━━━━━━━━━━━━━━━\u001b[0m\u001b[37m\u001b[0m \u001b[1m0s\u001b[0m 31ms/step\n"
          ]
        },
        {
          "output_type": "stream",
          "name": "stderr",
          "text": [
            "\r 33%|███▎      | 186/569 [00:15<00:31, 12.09it/s]"
          ]
        },
        {
          "output_type": "stream",
          "name": "stdout",
          "text": [
            "Tr-gl_0115.jpg -> Class: glioma, Confidence: 1.00\n",
            "Saving Tr-gl_0115.jpg to BT100/Training/glioma/20250328_215851_Tr-gl_0115.jpg\n",
            "\u001b[1m1/1\u001b[0m \u001b[32m━━━━━━━━━━━━━━━━━━━━\u001b[0m\u001b[37m\u001b[0m \u001b[1m0s\u001b[0m 30ms/step\n",
            "Tr-no_1567.jpg -> Class: notumor, Confidence: 1.00\n",
            "Saving Tr-no_1567.jpg to BT100/Training/notumor/20250328_215851_Tr-no_1567.jpg\n",
            "\u001b[1m1/1\u001b[0m \u001b[32m━━━━━━━━━━━━━━━━━━━━\u001b[0m\u001b[37m\u001b[0m \u001b[1m0s\u001b[0m 32ms/step\n"
          ]
        },
        {
          "output_type": "stream",
          "name": "stderr",
          "text": [
            "\r 33%|███▎      | 188/569 [00:16<00:29, 12.72it/s]"
          ]
        },
        {
          "output_type": "stream",
          "name": "stdout",
          "text": [
            "Tr-gl_1142.jpg -> Class: glioma, Confidence: 1.00\n",
            "Saving Tr-gl_1142.jpg to BT100/Training/glioma/20250328_215851_Tr-gl_1142.jpg\n",
            "\u001b[1m1/1\u001b[0m \u001b[32m━━━━━━━━━━━━━━━━━━━━\u001b[0m\u001b[37m\u001b[0m \u001b[1m0s\u001b[0m 33ms/step\n",
            "Tr-no_0534.jpg -> Class: notumor, Confidence: 1.00\n",
            "Saving Tr-no_0534.jpg to BT100/Training/notumor/20250328_215852_Tr-no_0534.jpg\n",
            "\u001b[1m1/1\u001b[0m \u001b[32m━━━━━━━━━━━━━━━━━━━━\u001b[0m\u001b[37m\u001b[0m \u001b[1m0s\u001b[0m 37ms/step\n"
          ]
        },
        {
          "output_type": "stream",
          "name": "stderr",
          "text": [
            "\r 33%|███▎      | 190/569 [00:16<00:29, 13.04it/s]"
          ]
        },
        {
          "output_type": "stream",
          "name": "stdout",
          "text": [
            "Tr-no_1347.jpg -> Class: notumor, Confidence: 1.00\n",
            "Saving Tr-no_1347.jpg to BT100/Training/notumor/20250328_215852_Tr-no_1347.jpg\n",
            "\u001b[1m1/1\u001b[0m \u001b[32m━━━━━━━━━━━━━━━━━━━━\u001b[0m\u001b[37m\u001b[0m \u001b[1m0s\u001b[0m 32ms/step\n",
            "Tr-pi_1044.jpg -> Class: pituitary, Confidence: 1.00\n",
            "Saving Tr-pi_1044.jpg to BT100/Training/pituitary/20250328_215852_Tr-pi_1044.jpg\n",
            "\u001b[1m1/1\u001b[0m \u001b[32m━━━━━━━━━━━━━━━━━━━━\u001b[0m\u001b[37m\u001b[0m \u001b[1m0s\u001b[0m 30ms/step\n"
          ]
        },
        {
          "output_type": "stream",
          "name": "stderr",
          "text": [
            "\r 34%|███▎      | 192/569 [00:16<00:28, 13.12it/s]"
          ]
        },
        {
          "output_type": "stream",
          "name": "stdout",
          "text": [
            "Tr-no_0567.jpg -> Class: notumor, Confidence: 1.00\n",
            "Saving Tr-no_0567.jpg to BT100/Training/notumor/20250328_215852_Tr-no_0567.jpg\n",
            "\u001b[1m1/1\u001b[0m \u001b[32m━━━━━━━━━━━━━━━━━━━━\u001b[0m\u001b[37m\u001b[0m \u001b[1m0s\u001b[0m 29ms/step\n",
            "Tr-gl_1240.jpg -> Class: glioma, Confidence: 1.00\n",
            "Saving Tr-gl_1240.jpg to BT100/Training/glioma/20250328_215852_Tr-gl_1240.jpg\n",
            "\u001b[1m1/1\u001b[0m \u001b[32m━━━━━━━━━━━━━━━━━━━━\u001b[0m\u001b[37m\u001b[0m \u001b[1m0s\u001b[0m 42ms/step\n"
          ]
        },
        {
          "output_type": "stream",
          "name": "stderr",
          "text": [
            "\r 34%|███▍      | 194/569 [00:16<00:30, 12.18it/s]"
          ]
        },
        {
          "output_type": "stream",
          "name": "stdout",
          "text": [
            "Tr-pi_1211.jpg -> Class: pituitary, Confidence: 1.00\n",
            "Saving Tr-pi_1211.jpg to BT100/Training/pituitary/20250328_215852_Tr-pi_1211.jpg\n",
            "\u001b[1m1/1\u001b[0m \u001b[32m━━━━━━━━━━━━━━━━━━━━\u001b[0m\u001b[37m\u001b[0m \u001b[1m0s\u001b[0m 29ms/step\n",
            "Tr-no_0662.jpg -> Class: notumor, Confidence: 1.00\n",
            "Saving Tr-no_0662.jpg to BT100/Training/notumor/20250328_215852_Tr-no_0662.jpg\n",
            "\u001b[1m1/1\u001b[0m \u001b[32m━━━━━━━━━━━━━━━━━━━━\u001b[0m\u001b[37m\u001b[0m \u001b[1m0s\u001b[0m 28ms/step\n"
          ]
        },
        {
          "output_type": "stream",
          "name": "stderr",
          "text": [
            "\r 34%|███▍      | 196/569 [00:16<00:28, 12.88it/s]"
          ]
        },
        {
          "output_type": "stream",
          "name": "stdout",
          "text": [
            "Tr-gl_0932.jpg -> Class: glioma, Confidence: 1.00\n",
            "Saving Tr-gl_0932.jpg to BT100/Training/glioma/20250328_215852_Tr-gl_0932.jpg\n",
            "\u001b[1m1/1\u001b[0m \u001b[32m━━━━━━━━━━━━━━━━━━━━\u001b[0m\u001b[37m\u001b[0m \u001b[1m0s\u001b[0m 28ms/step\n",
            "Tr-gl_0830.jpg -> Class: glioma, Confidence: 1.00\n",
            "Saving Tr-gl_0830.jpg to BT100/Training/glioma/20250328_215852_Tr-gl_0830.jpg\n",
            "\u001b[1m1/1\u001b[0m \u001b[32m━━━━━━━━━━━━━━━━━━━━\u001b[0m\u001b[37m\u001b[0m \u001b[1m0s\u001b[0m 28ms/step\n"
          ]
        },
        {
          "output_type": "stream",
          "name": "stderr",
          "text": [
            "\r 35%|███▍      | 198/569 [00:16<00:27, 13.50it/s]"
          ]
        },
        {
          "output_type": "stream",
          "name": "stdout",
          "text": [
            "Tr-no_0908.jpg -> Class: notumor, Confidence: 1.00\n",
            "Saving Tr-no_0908.jpg to BT100/Training/notumor/20250328_215852_Tr-no_0908.jpg\n",
            "\u001b[1m1/1\u001b[0m \u001b[32m━━━━━━━━━━━━━━━━━━━━\u001b[0m\u001b[37m\u001b[0m \u001b[1m0s\u001b[0m 29ms/step\n",
            "Tr-no_1392.jpg -> Class: notumor, Confidence: 1.00\n",
            "Saving Tr-no_1392.jpg to BT100/Training/notumor/20250328_215852_Tr-no_1392.jpg\n",
            "\u001b[1m1/1\u001b[0m \u001b[32m━━━━━━━━━━━━━━━━━━━━\u001b[0m\u001b[37m\u001b[0m \u001b[1m0s\u001b[0m 31ms/step\n"
          ]
        },
        {
          "output_type": "stream",
          "name": "stderr",
          "text": [
            "\r 35%|███▌      | 200/569 [00:16<00:27, 13.66it/s]"
          ]
        },
        {
          "output_type": "stream",
          "name": "stdout",
          "text": [
            "Tr-gl_0058.jpg -> Class: glioma, Confidence: 1.00\n",
            "Saving Tr-gl_0058.jpg to BT100/Training/glioma/20250328_215852_Tr-gl_0058.jpg\n",
            "\u001b[1m1/1\u001b[0m \u001b[32m━━━━━━━━━━━━━━━━━━━━\u001b[0m\u001b[37m\u001b[0m \u001b[1m0s\u001b[0m 29ms/step\n",
            "Tr-pi_0798.jpg -> Class: pituitary, Confidence: 1.00\n",
            "Saving Tr-pi_0798.jpg to BT100/Training/pituitary/20250328_215852_Tr-pi_0798.jpg\n",
            "\u001b[1m1/1\u001b[0m \u001b[32m━━━━━━━━━━━━━━━━━━━━\u001b[0m\u001b[37m\u001b[0m \u001b[1m0s\u001b[0m 32ms/step\n"
          ]
        },
        {
          "output_type": "stream",
          "name": "stderr",
          "text": [
            "\r 36%|███▌      | 202/569 [00:17<00:26, 13.91it/s]"
          ]
        },
        {
          "output_type": "stream",
          "name": "stdout",
          "text": [
            "Tr-me_0743.jpg -> Class: meningioma, Confidence: 1.00\n",
            "Saving Tr-me_0743.jpg to BT100/Training/meningioma/20250328_215853_Tr-me_0743.jpg\n",
            "\u001b[1m1/1\u001b[0m \u001b[32m━━━━━━━━━━━━━━━━━━━━\u001b[0m\u001b[37m\u001b[0m \u001b[1m0s\u001b[0m 32ms/step\n",
            "Tr-gl_0467.jpg -> Class: glioma, Confidence: 1.00\n",
            "Saving Tr-gl_0467.jpg to BT100/Training/glioma/20250328_215853_Tr-gl_0467.jpg\n",
            "\u001b[1m1/1\u001b[0m \u001b[32m━━━━━━━━━━━━━━━━━━━━\u001b[0m\u001b[37m\u001b[0m \u001b[1m0s\u001b[0m 30ms/step\n"
          ]
        },
        {
          "output_type": "stream",
          "name": "stderr",
          "text": [
            "\r 36%|███▌      | 204/569 [00:17<00:28, 12.83it/s]"
          ]
        },
        {
          "output_type": "stream",
          "name": "stdout",
          "text": [
            "Tr-gl_0783.jpg -> Class: glioma, Confidence: 1.00\n",
            "Saving Tr-gl_0783.jpg to BT100/Training/glioma/20250328_215853_Tr-gl_0783.jpg\n",
            "\u001b[1m1/1\u001b[0m \u001b[32m━━━━━━━━━━━━━━━━━━━━\u001b[0m\u001b[37m\u001b[0m \u001b[1m0s\u001b[0m 35ms/step\n",
            "Tr-pi_0311.jpg -> Class: pituitary, Confidence: 1.00\n",
            "Saving Tr-pi_0311.jpg to BT100/Training/pituitary/20250328_215853_Tr-pi_0311.jpg\n",
            "\u001b[1m1/1\u001b[0m \u001b[32m━━━━━━━━━━━━━━━━━━━━\u001b[0m\u001b[37m\u001b[0m \u001b[1m0s\u001b[0m 30ms/step\n"
          ]
        },
        {
          "output_type": "stream",
          "name": "stderr",
          "text": [
            "\r 36%|███▌      | 206/569 [00:17<00:27, 13.01it/s]"
          ]
        },
        {
          "output_type": "stream",
          "name": "stdout",
          "text": [
            "Tr-pi_0816.jpg -> Class: pituitary, Confidence: 1.00\n",
            "Saving Tr-pi_0816.jpg to BT100/Training/pituitary/20250328_215853_Tr-pi_0816.jpg\n",
            "\u001b[1m1/1\u001b[0m \u001b[32m━━━━━━━━━━━━━━━━━━━━\u001b[0m\u001b[37m\u001b[0m \u001b[1m0s\u001b[0m 40ms/step\n",
            "Tr-gl_0415.jpg -> Class: glioma, Confidence: 1.00\n",
            "Saving Tr-gl_0415.jpg to BT100/Training/glioma/20250328_215853_Tr-gl_0415.jpg\n",
            "\u001b[1m1/1\u001b[0m \u001b[32m━━━━━━━━━━━━━━━━━━━━\u001b[0m\u001b[37m\u001b[0m \u001b[1m0s\u001b[0m 30ms/step\n"
          ]
        },
        {
          "output_type": "stream",
          "name": "stderr",
          "text": [
            "\r 37%|███▋      | 208/569 [00:17<00:28, 12.73it/s]"
          ]
        },
        {
          "output_type": "stream",
          "name": "stdout",
          "text": [
            "Tr-gl_1163.jpg -> Class: glioma, Confidence: 1.00\n",
            "Saving Tr-gl_1163.jpg to BT100/Training/glioma/20250328_215853_Tr-gl_1163.jpg\n",
            "\u001b[1m1/1\u001b[0m \u001b[32m━━━━━━━━━━━━━━━━━━━━\u001b[0m\u001b[37m\u001b[0m \u001b[1m0s\u001b[0m 28ms/step\n",
            "Tr-pi_0486.jpg -> Class: pituitary, Confidence: 1.00\n",
            "Saving Tr-pi_0486.jpg to BT100/Training/pituitary/20250328_215853_Tr-pi_0486.jpg\n",
            "\u001b[1m1/1\u001b[0m \u001b[32m━━━━━━━━━━━━━━━━━━━━\u001b[0m\u001b[37m\u001b[0m \u001b[1m0s\u001b[0m 28ms/step\n"
          ]
        },
        {
          "output_type": "stream",
          "name": "stderr",
          "text": [
            "\r 37%|███▋      | 210/569 [00:17<00:27, 13.09it/s]"
          ]
        },
        {
          "output_type": "stream",
          "name": "stdout",
          "text": [
            "Tr-me_1182.jpg -> Class: meningioma, Confidence: 1.00\n",
            "Saving Tr-me_1182.jpg to BT100/Training/meningioma/20250328_215853_Tr-me_1182.jpg\n",
            "\u001b[1m1/1\u001b[0m \u001b[32m━━━━━━━━━━━━━━━━━━━━\u001b[0m\u001b[37m\u001b[0m \u001b[1m0s\u001b[0m 30ms/step\n",
            "Tr-me_1195.jpg -> Class: meningioma, Confidence: 1.00\n",
            "Saving Tr-me_1195.jpg to BT100/Training/meningioma/20250328_215853_Tr-me_1195.jpg\n",
            "\u001b[1m1/1\u001b[0m \u001b[32m━━━━━━━━━━━━━━━━━━━━\u001b[0m\u001b[37m\u001b[0m \u001b[1m0s\u001b[0m 31ms/step\n"
          ]
        },
        {
          "output_type": "stream",
          "name": "stderr",
          "text": [
            "\r 37%|███▋      | 212/569 [00:17<00:26, 13.29it/s]"
          ]
        },
        {
          "output_type": "stream",
          "name": "stdout",
          "text": [
            "Tr-gl_0328.jpg -> Class: glioma, Confidence: 1.00\n",
            "Saving Tr-gl_0328.jpg to BT100/Training/glioma/20250328_215853_Tr-gl_0328.jpg\n",
            "\u001b[1m1/1\u001b[0m \u001b[32m━━━━━━━━━━━━━━━━━━━━\u001b[0m\u001b[37m\u001b[0m \u001b[1m0s\u001b[0m 32ms/step\n",
            "Tr-pi_0657.jpg -> Class: pituitary, Confidence: 1.00\n",
            "Saving Tr-pi_0657.jpg to BT100/Training/pituitary/20250328_215853_Tr-pi_0657.jpg\n",
            "\u001b[1m1/1\u001b[0m \u001b[32m━━━━━━━━━━━━━━━━━━━━\u001b[0m\u001b[37m\u001b[0m \u001b[1m0s\u001b[0m 36ms/step\n"
          ]
        },
        {
          "output_type": "stream",
          "name": "stderr",
          "text": [
            "\r 38%|███▊      | 214/569 [00:17<00:26, 13.46it/s]"
          ]
        },
        {
          "output_type": "stream",
          "name": "stdout",
          "text": [
            "Tr-no_0884.jpg -> Class: notumor, Confidence: 1.00\n",
            "Saving Tr-no_0884.jpg to BT100/Training/notumor/20250328_215853_Tr-no_0884.jpg\n",
            "\u001b[1m1/1\u001b[0m \u001b[32m━━━━━━━━━━━━━━━━━━━━\u001b[0m\u001b[37m\u001b[0m \u001b[1m0s\u001b[0m 35ms/step\n",
            "Tr-me_0063.jpg -> Class: meningioma, Confidence: 1.00\n",
            "Saving Tr-me_0063.jpg to BT100/Training/meningioma/20250328_215854_Tr-me_0063.jpg\n",
            "\u001b[1m1/1\u001b[0m \u001b[32m━━━━━━━━━━━━━━━━━━━━\u001b[0m\u001b[37m\u001b[0m \u001b[1m0s\u001b[0m 31ms/step\n"
          ]
        },
        {
          "output_type": "stream",
          "name": "stderr",
          "text": [
            "\r 38%|███▊      | 216/569 [00:18<00:26, 13.51it/s]"
          ]
        },
        {
          "output_type": "stream",
          "name": "stdout",
          "text": [
            "Tr-no_0628.jpg -> Class: notumor, Confidence: 1.00\n",
            "Saving Tr-no_0628.jpg to BT100/Training/notumor/20250328_215854_Tr-no_0628.jpg\n",
            "\u001b[1m1/1\u001b[0m \u001b[32m━━━━━━━━━━━━━━━━━━━━\u001b[0m\u001b[37m\u001b[0m \u001b[1m0s\u001b[0m 32ms/step\n",
            "Tr-no_0263.jpg -> Class: notumor, Confidence: 1.00\n",
            "Saving Tr-no_0263.jpg to BT100/Training/notumor/20250328_215854_Tr-no_0263.jpg\n",
            "\u001b[1m1/1\u001b[0m \u001b[32m━━━━━━━━━━━━━━━━━━━━\u001b[0m\u001b[37m\u001b[0m \u001b[1m0s\u001b[0m 32ms/step\n"
          ]
        },
        {
          "output_type": "stream",
          "name": "stderr",
          "text": [
            "\r 38%|███▊      | 218/569 [00:18<00:25, 13.80it/s]"
          ]
        },
        {
          "output_type": "stream",
          "name": "stdout",
          "text": [
            "Tr-no_1366.jpg -> Class: notumor, Confidence: 1.00\n",
            "Saving Tr-no_1366.jpg to BT100/Training/notumor/20250328_215854_Tr-no_1366.jpg\n",
            "\u001b[1m1/1\u001b[0m \u001b[32m━━━━━━━━━━━━━━━━━━━━\u001b[0m\u001b[37m\u001b[0m \u001b[1m0s\u001b[0m 34ms/step\n",
            "Tr-me_0900.jpg -> Class: meningioma, Confidence: 1.00\n",
            "Saving Tr-me_0900.jpg to BT100/Training/meningioma/20250328_215854_Tr-me_0900.jpg\n",
            "\u001b[1m1/1\u001b[0m \u001b[32m━━━━━━━━━━━━━━━━━━━━\u001b[0m\u001b[37m\u001b[0m \u001b[1m0s\u001b[0m 38ms/step\n"
          ]
        },
        {
          "output_type": "stream",
          "name": "stderr",
          "text": [
            "\r 39%|███▊      | 220/569 [00:18<00:27, 12.47it/s]"
          ]
        },
        {
          "output_type": "stream",
          "name": "stdout",
          "text": [
            "Tr-pi_1140.jpg -> Class: pituitary, Confidence: 1.00\n",
            "Saving Tr-pi_1140.jpg to BT100/Training/pituitary/20250328_215854_Tr-pi_1140.jpg\n",
            "\u001b[1m1/1\u001b[0m \u001b[32m━━━━━━━━━━━━━━━━━━━━\u001b[0m\u001b[37m\u001b[0m \u001b[1m0s\u001b[0m 29ms/step\n",
            "Tr-no_0965.jpg -> Class: notumor, Confidence: 1.00\n",
            "Saving Tr-no_0965.jpg to BT100/Training/notumor/20250328_215854_Tr-no_0965.jpg\n",
            "\u001b[1m1/1\u001b[0m \u001b[32m━━━━━━━━━━━━━━━━━━━━\u001b[0m\u001b[37m\u001b[0m \u001b[1m0s\u001b[0m 30ms/step\n"
          ]
        },
        {
          "output_type": "stream",
          "name": "stderr",
          "text": [
            "\r 39%|███▉      | 222/569 [00:18<00:26, 12.91it/s]"
          ]
        },
        {
          "output_type": "stream",
          "name": "stdout",
          "text": [
            "Tr-no_1411.jpg -> Class: notumor, Confidence: 1.00\n",
            "Saving Tr-no_1411.jpg to BT100/Training/notumor/20250328_215854_Tr-no_1411.jpg\n",
            "\u001b[1m1/1\u001b[0m \u001b[32m━━━━━━━━━━━━━━━━━━━━\u001b[0m\u001b[37m\u001b[0m \u001b[1m0s\u001b[0m 29ms/step\n",
            "Tr-gl_0851.jpg -> Class: glioma, Confidence: 1.00\n",
            "Saving Tr-gl_0851.jpg to BT100/Training/glioma/20250328_215854_Tr-gl_0851.jpg\n",
            "\u001b[1m1/1\u001b[0m \u001b[32m━━━━━━━━━━━━━━━━━━━━\u001b[0m\u001b[37m\u001b[0m \u001b[1m0s\u001b[0m 32ms/step\n"
          ]
        },
        {
          "output_type": "stream",
          "name": "stderr",
          "text": [
            "\r 39%|███▉      | 224/569 [00:18<00:26, 13.23it/s]"
          ]
        },
        {
          "output_type": "stream",
          "name": "stdout",
          "text": [
            "Tr-gl_0892.jpg -> Class: glioma, Confidence: 1.00\n",
            "Saving Tr-gl_0892.jpg to BT100/Training/glioma/20250328_215854_Tr-gl_0892.jpg\n",
            "\u001b[1m1/1\u001b[0m \u001b[32m━━━━━━━━━━━━━━━━━━━━\u001b[0m\u001b[37m\u001b[0m \u001b[1m0s\u001b[0m 32ms/step\n",
            "Tr-no_0037.jpg -> Class: notumor, Confidence: 1.00\n",
            "Saving Tr-no_0037.jpg to BT100/Training/notumor/20250328_215854_Tr-no_0037.jpg\n",
            "\u001b[1m1/1\u001b[0m \u001b[32m━━━━━━━━━━━━━━━━━━━━\u001b[0m\u001b[37m\u001b[0m \u001b[1m0s\u001b[0m 34ms/step\n"
          ]
        },
        {
          "output_type": "stream",
          "name": "stderr",
          "text": [
            "\r 40%|███▉      | 226/569 [00:18<00:25, 13.42it/s]"
          ]
        },
        {
          "output_type": "stream",
          "name": "stdout",
          "text": [
            "Tr-no_0750.jpg -> Class: notumor, Confidence: 1.00\n",
            "Saving Tr-no_0750.jpg to BT100/Training/notumor/20250328_215854_Tr-no_0750.jpg\n",
            "\u001b[1m1/1\u001b[0m \u001b[32m━━━━━━━━━━━━━━━━━━━━\u001b[0m\u001b[37m\u001b[0m \u001b[1m0s\u001b[0m 33ms/step\n",
            "Tr-no_1261.jpg -> Class: notumor, Confidence: 1.00\n",
            "Saving Tr-no_1261.jpg to BT100/Training/notumor/20250328_215854_Tr-no_1261.jpg\n",
            "\u001b[1m1/1\u001b[0m \u001b[32m━━━━━━━━━━━━━━━━━━━━\u001b[0m\u001b[37m\u001b[0m \u001b[1m0s\u001b[0m 32ms/step\n"
          ]
        },
        {
          "output_type": "stream",
          "name": "stderr",
          "text": [
            "\r 40%|████      | 228/569 [00:19<00:25, 13.54it/s]"
          ]
        },
        {
          "output_type": "stream",
          "name": "stdout",
          "text": [
            "Tr-no_1282.jpg -> Class: notumor, Confidence: 1.00\n",
            "Saving Tr-no_1282.jpg to BT100/Training/notumor/20250328_215855_Tr-no_1282.jpg\n",
            "\u001b[1m1/1\u001b[0m \u001b[32m━━━━━━━━━━━━━━━━━━━━\u001b[0m\u001b[37m\u001b[0m \u001b[1m0s\u001b[0m 33ms/step\n",
            "Tr-no_0800.jpg -> Class: notumor, Confidence: 1.00\n",
            "Saving Tr-no_0800.jpg to BT100/Training/notumor/20250328_215855_Tr-no_0800.jpg\n",
            "\u001b[1m1/1\u001b[0m \u001b[32m━━━━━━━━━━━━━━━━━━━━\u001b[0m\u001b[37m\u001b[0m \u001b[1m0s\u001b[0m 37ms/step\n"
          ]
        },
        {
          "output_type": "stream",
          "name": "stderr",
          "text": [
            "\r 40%|████      | 230/569 [00:19<00:25, 13.53it/s]"
          ]
        },
        {
          "output_type": "stream",
          "name": "stdout",
          "text": [
            "Tr-gl_0248.jpg -> Class: glioma, Confidence: 1.00\n",
            "Saving Tr-gl_0248.jpg to BT100/Training/glioma/20250328_215855_Tr-gl_0248.jpg\n",
            "\u001b[1m1/1\u001b[0m \u001b[32m━━━━━━━━━━━━━━━━━━━━\u001b[0m\u001b[37m\u001b[0m \u001b[1m0s\u001b[0m 33ms/step\n",
            "Tr-pi_1267.jpg -> Class: pituitary, Confidence: 1.00\n",
            "Saving Tr-pi_1267.jpg to BT100/Training/pituitary/20250328_215855_Tr-pi_1267.jpg\n",
            "\u001b[1m1/1\u001b[0m \u001b[32m━━━━━━━━━━━━━━━━━━━━\u001b[0m\u001b[37m\u001b[0m \u001b[1m0s\u001b[0m 36ms/step\n"
          ]
        },
        {
          "output_type": "stream",
          "name": "stderr",
          "text": [
            "\r 41%|████      | 232/569 [00:19<00:26, 12.49it/s]"
          ]
        },
        {
          "output_type": "stream",
          "name": "stdout",
          "text": [
            "Tr-me_0965.jpg -> Class: meningioma, Confidence: 1.00\n",
            "Saving Tr-me_0965.jpg to BT100/Training/meningioma/20250328_215855_Tr-me_0965.jpg\n",
            "\u001b[1m1/1\u001b[0m \u001b[32m━━━━━━━━━━━━━━━━━━━━\u001b[0m\u001b[37m\u001b[0m \u001b[1m0s\u001b[0m 36ms/step\n",
            "Tr-gl_1298.jpg -> Class: glioma, Confidence: 0.99\n",
            "Saving Tr-gl_1298.jpg to BT100/Training/glioma/20250328_215855_Tr-gl_1298.jpg\n",
            "\u001b[1m1/1\u001b[0m \u001b[32m━━━━━━━━━━━━━━━━━━━━\u001b[0m\u001b[37m\u001b[0m \u001b[1m0s\u001b[0m 32ms/step\n"
          ]
        },
        {
          "output_type": "stream",
          "name": "stderr",
          "text": [
            "\r 41%|████      | 234/569 [00:19<00:28, 11.69it/s]"
          ]
        },
        {
          "output_type": "stream",
          "name": "stdout",
          "text": [
            "Tr-pi_0870.jpg -> Class: pituitary, Confidence: 1.00\n",
            "Saving Tr-pi_0870.jpg to BT100/Training/pituitary/20250328_215855_Tr-pi_0870.jpg\n",
            "\u001b[1m1/1\u001b[0m \u001b[32m━━━━━━━━━━━━━━━━━━━━\u001b[0m\u001b[37m\u001b[0m \u001b[1m0s\u001b[0m 29ms/step\n",
            "Tr-pi_0270.jpg -> Class: pituitary, Confidence: 1.00\n",
            "Saving Tr-pi_0270.jpg to BT100/Training/pituitary/20250328_215855_Tr-pi_0270.jpg\n",
            "\u001b[1m1/1\u001b[0m \u001b[32m━━━━━━━━━━━━━━━━━━━━\u001b[0m\u001b[37m\u001b[0m \u001b[1m0s\u001b[0m 31ms/step\n"
          ]
        },
        {
          "output_type": "stream",
          "name": "stderr",
          "text": [
            "\r 41%|████▏     | 236/569 [00:19<00:27, 12.17it/s]"
          ]
        },
        {
          "output_type": "stream",
          "name": "stdout",
          "text": [
            "Tr-gl_1067.jpg -> Class: glioma, Confidence: 1.00\n",
            "Saving Tr-gl_1067.jpg to BT100/Training/glioma/20250328_215855_Tr-gl_1067.jpg\n",
            "\u001b[1m1/1\u001b[0m \u001b[32m━━━━━━━━━━━━━━━━━━━━\u001b[0m\u001b[37m\u001b[0m \u001b[1m0s\u001b[0m 31ms/step\n",
            "Tr-me_1018.jpg -> Class: meningioma, Confidence: 1.00\n",
            "Saving Tr-me_1018.jpg to BT100/Training/meningioma/20250328_215855_Tr-me_1018.jpg\n",
            "\u001b[1m1/1\u001b[0m \u001b[32m━━━━━━━━━━━━━━━━━━━━\u001b[0m\u001b[37m\u001b[0m \u001b[1m0s\u001b[0m 34ms/step\n"
          ]
        },
        {
          "output_type": "stream",
          "name": "stderr",
          "text": [
            "\r 42%|████▏     | 238/569 [00:19<00:26, 12.68it/s]"
          ]
        },
        {
          "output_type": "stream",
          "name": "stdout",
          "text": [
            "Tr-gl_0930.jpg -> Class: glioma, Confidence: 1.00\n",
            "Saving Tr-gl_0930.jpg to BT100/Training/glioma/20250328_215855_Tr-gl_0930.jpg\n",
            "\u001b[1m1/1\u001b[0m \u001b[32m━━━━━━━━━━━━━━━━━━━━\u001b[0m\u001b[37m\u001b[0m \u001b[1m0s\u001b[0m 31ms/step\n",
            "Tr-me_1177.jpg -> Class: meningioma, Confidence: 1.00\n",
            "Saving Tr-me_1177.jpg to BT100/Training/meningioma/20250328_215855_Tr-me_1177.jpg\n",
            "\u001b[1m1/1\u001b[0m \u001b[32m━━━━━━━━━━━━━━━━━━━━\u001b[0m\u001b[37m\u001b[0m \u001b[1m0s\u001b[0m 33ms/step\n"
          ]
        },
        {
          "output_type": "stream",
          "name": "stderr",
          "text": [
            "\r 42%|████▏     | 240/569 [00:20<00:25, 13.12it/s]"
          ]
        },
        {
          "output_type": "stream",
          "name": "stdout",
          "text": [
            "Tr-pi_0947.jpg -> Class: pituitary, Confidence: 1.00\n",
            "Saving Tr-pi_0947.jpg to BT100/Training/pituitary/20250328_215855_Tr-pi_0947.jpg\n",
            "\u001b[1m1/1\u001b[0m \u001b[32m━━━━━━━━━━━━━━━━━━━━\u001b[0m\u001b[37m\u001b[0m \u001b[1m0s\u001b[0m 35ms/step\n",
            "Tr-me_0873.jpg -> Class: glioma, Confidence: 0.85\n",
            "\u001b[1m1/1\u001b[0m \u001b[32m━━━━━━━━━━━━━━━━━━━━\u001b[0m\u001b[37m\u001b[0m \u001b[1m0s\u001b[0m 30ms/step\n"
          ]
        },
        {
          "output_type": "stream",
          "name": "stderr",
          "text": [
            "\r 43%|████▎     | 242/569 [00:20<00:26, 12.25it/s]"
          ]
        },
        {
          "output_type": "stream",
          "name": "stdout",
          "text": [
            "Tr-pi_0476.jpg -> Class: pituitary, Confidence: 1.00\n",
            "Saving Tr-pi_0476.jpg to BT100/Training/pituitary/20250328_215856_Tr-pi_0476.jpg\n",
            "\u001b[1m1/1\u001b[0m \u001b[32m━━━━━━━━━━━━━━━━━━━━\u001b[0m\u001b[37m\u001b[0m \u001b[1m0s\u001b[0m 30ms/step\n",
            "Tr-gl_0612.jpg -> Class: glioma, Confidence: 1.00\n",
            "Saving Tr-gl_0612.jpg to BT100/Training/glioma/20250328_215856_Tr-gl_0612.jpg\n",
            "\u001b[1m1/1\u001b[0m \u001b[32m━━━━━━━━━━━━━━━━━━━━\u001b[0m\u001b[37m\u001b[0m \u001b[1m0s\u001b[0m 30ms/step\n"
          ]
        },
        {
          "output_type": "stream",
          "name": "stderr",
          "text": [
            "\r 43%|████▎     | 244/569 [00:20<00:25, 12.69it/s]"
          ]
        },
        {
          "output_type": "stream",
          "name": "stdout",
          "text": [
            "Tr-pi_0813.jpg -> Class: pituitary, Confidence: 1.00\n",
            "Saving Tr-pi_0813.jpg to BT100/Training/pituitary/20250328_215856_Tr-pi_0813.jpg\n",
            "\u001b[1m1/1\u001b[0m \u001b[32m━━━━━━━━━━━━━━━━━━━━\u001b[0m\u001b[37m\u001b[0m \u001b[1m0s\u001b[0m 37ms/step\n",
            "Tr-me_0788.jpg -> Class: meningioma, Confidence: 1.00\n",
            "Saving Tr-me_0788.jpg to BT100/Training/meningioma/20250328_215856_Tr-me_0788.jpg\n",
            "\u001b[1m1/1\u001b[0m \u001b[32m━━━━━━━━━━━━━━━━━━━━\u001b[0m\u001b[37m\u001b[0m \u001b[1m0s\u001b[0m 35ms/step\n"
          ]
        },
        {
          "output_type": "stream",
          "name": "stderr",
          "text": [
            "\r 43%|████▎     | 246/569 [00:20<00:28, 11.48it/s]"
          ]
        },
        {
          "output_type": "stream",
          "name": "stdout",
          "text": [
            "Tr-pi_0624.jpg -> Class: pituitary, Confidence: 1.00\n",
            "Saving Tr-pi_0624.jpg to BT100/Training/pituitary/20250328_215856_Tr-pi_0624.jpg\n",
            "\u001b[1m1/1\u001b[0m \u001b[32m━━━━━━━━━━━━━━━━━━━━\u001b[0m\u001b[37m\u001b[0m \u001b[1m0s\u001b[0m 30ms/step\n",
            "Tr-pi_1023.jpg -> Class: pituitary, Confidence: 1.00\n",
            "Saving Tr-pi_1023.jpg to BT100/Training/pituitary/20250328_215856_Tr-pi_1023.jpg\n",
            "\u001b[1m1/1\u001b[0m \u001b[32m━━━━━━━━━━━━━━━━━━━━\u001b[0m\u001b[37m\u001b[0m \u001b[1m0s\u001b[0m 30ms/step\n"
          ]
        },
        {
          "output_type": "stream",
          "name": "stderr",
          "text": [
            "\r 44%|████▎     | 248/569 [00:20<00:26, 12.06it/s]"
          ]
        },
        {
          "output_type": "stream",
          "name": "stdout",
          "text": [
            "Tr-me_1270.jpg -> Class: meningioma, Confidence: 1.00\n",
            "Saving Tr-me_1270.jpg to BT100/Training/meningioma/20250328_215856_Tr-me_1270.jpg\n",
            "\u001b[1m1/1\u001b[0m \u001b[32m━━━━━━━━━━━━━━━━━━━━\u001b[0m\u001b[37m\u001b[0m \u001b[1m0s\u001b[0m 30ms/step\n",
            "Tr-gl_0581.jpg -> Class: glioma, Confidence: 1.00\n",
            "Saving Tr-gl_0581.jpg to BT100/Training/glioma/20250328_215856_Tr-gl_0581.jpg\n",
            "\u001b[1m1/1\u001b[0m \u001b[32m━━━━━━━━━━━━━━━━━━━━\u001b[0m\u001b[37m\u001b[0m \u001b[1m0s\u001b[0m 31ms/step\n"
          ]
        },
        {
          "output_type": "stream",
          "name": "stderr",
          "text": [
            "\r 44%|████▍     | 250/569 [00:20<00:26, 11.82it/s]"
          ]
        },
        {
          "output_type": "stream",
          "name": "stdout",
          "text": [
            "Tr-no_1385.jpg -> Class: notumor, Confidence: 1.00\n",
            "Saving Tr-no_1385.jpg to BT100/Training/notumor/20250328_215856_Tr-no_1385.jpg\n",
            "\u001b[1m1/1\u001b[0m \u001b[32m━━━━━━━━━━━━━━━━━━━━\u001b[0m\u001b[37m\u001b[0m \u001b[1m0s\u001b[0m 31ms/step\n",
            "Tr-pi_0960.jpg -> Class: pituitary, Confidence: 1.00\n",
            "Saving Tr-pi_0960.jpg to BT100/Training/pituitary/20250328_215856_Tr-pi_0960.jpg\n",
            "\u001b[1m1/1\u001b[0m \u001b[32m━━━━━━━━━━━━━━━━━━━━\u001b[0m\u001b[37m\u001b[0m \u001b[1m0s\u001b[0m 31ms/step\n"
          ]
        },
        {
          "output_type": "stream",
          "name": "stderr",
          "text": [
            "\r 44%|████▍     | 252/569 [00:21<00:25, 12.35it/s]"
          ]
        },
        {
          "output_type": "stream",
          "name": "stdout",
          "text": [
            "Tr-pi_0826.jpg -> Class: pituitary, Confidence: 1.00\n",
            "Saving Tr-pi_0826.jpg to BT100/Training/pituitary/20250328_215856_Tr-pi_0826.jpg\n",
            "\u001b[1m1/1\u001b[0m \u001b[32m━━━━━━━━━━━━━━━━━━━━\u001b[0m\u001b[37m\u001b[0m \u001b[1m0s\u001b[0m 31ms/step\n",
            "Tr-gl_1092.jpg -> Class: glioma, Confidence: 1.00\n",
            "Saving Tr-gl_1092.jpg to BT100/Training/glioma/20250328_215857_Tr-gl_1092.jpg\n",
            "\u001b[1m1/1\u001b[0m \u001b[32m━━━━━━━━━━━━━━━━━━━━\u001b[0m\u001b[37m\u001b[0m \u001b[1m0s\u001b[0m 43ms/step\n"
          ]
        },
        {
          "output_type": "stream",
          "name": "stderr",
          "text": [
            "\r 45%|████▍     | 254/569 [00:21<00:26, 11.87it/s]"
          ]
        },
        {
          "output_type": "stream",
          "name": "stdout",
          "text": [
            "Tr-me_0779.jpg -> Class: meningioma, Confidence: 1.00\n",
            "Saving Tr-me_0779.jpg to BT100/Training/meningioma/20250328_215857_Tr-me_0779.jpg\n",
            "\u001b[1m1/1\u001b[0m \u001b[32m━━━━━━━━━━━━━━━━━━━━\u001b[0m\u001b[37m\u001b[0m \u001b[1m0s\u001b[0m 36ms/step\n",
            "Tr-pi_0152.jpg -> Class: pituitary, Confidence: 1.00\n",
            "Saving Tr-pi_0152.jpg to BT100/Training/pituitary/20250328_215857_Tr-pi_0152.jpg\n",
            "\u001b[1m1/1\u001b[0m \u001b[32m━━━━━━━━━━━━━━━━━━━━\u001b[0m\u001b[37m\u001b[0m \u001b[1m0s\u001b[0m 30ms/step\n"
          ]
        },
        {
          "output_type": "stream",
          "name": "stderr",
          "text": [
            "\r 45%|████▍     | 256/569 [00:21<00:25, 12.22it/s]"
          ]
        },
        {
          "output_type": "stream",
          "name": "stdout",
          "text": [
            "Tr-gl_0190.jpg -> Class: glioma, Confidence: 1.00\n",
            "Saving Tr-gl_0190.jpg to BT100/Training/glioma/20250328_215857_Tr-gl_0190.jpg\n",
            "\u001b[1m1/1\u001b[0m \u001b[32m━━━━━━━━━━━━━━━━━━━━\u001b[0m\u001b[37m\u001b[0m \u001b[1m0s\u001b[0m 35ms/step\n",
            "Tr-pi_1256.jpg -> Class: pituitary, Confidence: 1.00\n",
            "Saving Tr-pi_1256.jpg to BT100/Training/pituitary/20250328_215857_Tr-pi_1256.jpg\n",
            "\u001b[1m1/1\u001b[0m \u001b[32m━━━━━━━━━━━━━━━━━━━━\u001b[0m\u001b[37m\u001b[0m \u001b[1m0s\u001b[0m 34ms/step\n"
          ]
        },
        {
          "output_type": "stream",
          "name": "stderr",
          "text": [
            "\r 45%|████▌     | 258/569 [00:21<00:25, 12.03it/s]"
          ]
        },
        {
          "output_type": "stream",
          "name": "stdout",
          "text": [
            "Tr-gl_1257.jpg -> Class: glioma, Confidence: 1.00\n",
            "Saving Tr-gl_1257.jpg to BT100/Training/glioma/20250328_215857_Tr-gl_1257.jpg\n",
            "\u001b[1m1/1\u001b[0m \u001b[32m━━━━━━━━━━━━━━━━━━━━\u001b[0m\u001b[37m\u001b[0m \u001b[1m0s\u001b[0m 31ms/step\n",
            "Tr-gl_0235.jpg -> Class: glioma, Confidence: 1.00\n",
            "Saving Tr-gl_0235.jpg to BT100/Training/glioma/20250328_215857_Tr-gl_0235.jpg\n",
            "\u001b[1m1/1\u001b[0m \u001b[32m━━━━━━━━━━━━━━━━━━━━\u001b[0m\u001b[37m\u001b[0m \u001b[1m0s\u001b[0m 32ms/step\n"
          ]
        },
        {
          "output_type": "stream",
          "name": "stderr",
          "text": [
            "\r 46%|████▌     | 260/569 [00:21<00:24, 12.41it/s]"
          ]
        },
        {
          "output_type": "stream",
          "name": "stdout",
          "text": [
            "Tr-no_0281.jpg -> Class: notumor, Confidence: 1.00\n",
            "Saving Tr-no_0281.jpg to BT100/Training/notumor/20250328_215857_Tr-no_0281.jpg\n",
            "\u001b[1m1/1\u001b[0m \u001b[32m━━━━━━━━━━━━━━━━━━━━\u001b[0m\u001b[37m\u001b[0m \u001b[1m0s\u001b[0m 32ms/step\n",
            "Tr-me_0245.jpg -> Class: meningioma, Confidence: 1.00\n",
            "Saving Tr-me_0245.jpg to BT100/Training/meningioma/20250328_215857_Tr-me_0245.jpg\n",
            "\u001b[1m1/1\u001b[0m \u001b[32m━━━━━━━━━━━━━━━━━━━━\u001b[0m\u001b[37m\u001b[0m \u001b[1m0s\u001b[0m 30ms/step\n"
          ]
        },
        {
          "output_type": "stream",
          "name": "stderr",
          "text": [
            "\r 46%|████▌     | 262/569 [00:21<00:24, 12.64it/s]"
          ]
        },
        {
          "output_type": "stream",
          "name": "stdout",
          "text": [
            "Tr-pi_0313.jpg -> Class: pituitary, Confidence: 1.00\n",
            "Saving Tr-pi_0313.jpg to BT100/Training/pituitary/20250328_215857_Tr-pi_0313.jpg\n",
            "\u001b[1m1/1\u001b[0m \u001b[32m━━━━━━━━━━━━━━━━━━━━\u001b[0m\u001b[37m\u001b[0m \u001b[1m0s\u001b[0m 31ms/step\n",
            "Tr-pi_0876.jpg -> Class: pituitary, Confidence: 1.00\n",
            "Saving Tr-pi_0876.jpg to BT100/Training/pituitary/20250328_215857_Tr-pi_0876.jpg\n",
            "\u001b[1m1/1\u001b[0m \u001b[32m━━━━━━━━━━━━━━━━━━━━\u001b[0m\u001b[37m\u001b[0m \u001b[1m0s\u001b[0m 38ms/step\n"
          ]
        },
        {
          "output_type": "stream",
          "name": "stderr",
          "text": [
            "\r 46%|████▋     | 264/569 [00:21<00:23, 13.02it/s]"
          ]
        },
        {
          "output_type": "stream",
          "name": "stdout",
          "text": [
            "Tr-gl_0366.jpg -> Class: glioma, Confidence: 1.00\n",
            "Saving Tr-gl_0366.jpg to BT100/Training/glioma/20250328_215857_Tr-gl_0366.jpg\n",
            "\u001b[1m1/1\u001b[0m \u001b[32m━━━━━━━━━━━━━━━━━━━━\u001b[0m\u001b[37m\u001b[0m \u001b[1m0s\u001b[0m 33ms/step\n",
            "Tr-pi_0060.jpg -> Class: pituitary, Confidence: 1.00\n",
            "Saving Tr-pi_0060.jpg to BT100/Training/pituitary/20250328_215858_Tr-pi_0060.jpg\n",
            "\u001b[1m1/1\u001b[0m \u001b[32m━━━━━━━━━━━━━━━━━━━━\u001b[0m\u001b[37m\u001b[0m \u001b[1m0s\u001b[0m 33ms/step\n"
          ]
        },
        {
          "output_type": "stream",
          "name": "stderr",
          "text": [
            "\r 47%|████▋     | 266/569 [00:22<00:22, 13.22it/s]"
          ]
        },
        {
          "output_type": "stream",
          "name": "stdout",
          "text": [
            "Tr-pi_0800.jpg -> Class: pituitary, Confidence: 1.00\n",
            "Saving Tr-pi_0800.jpg to BT100/Training/pituitary/20250328_215858_Tr-pi_0800.jpg\n",
            "\u001b[1m1/1\u001b[0m \u001b[32m━━━━━━━━━━━━━━━━━━━━\u001b[0m\u001b[37m\u001b[0m \u001b[1m0s\u001b[0m 34ms/step\n",
            "Tr-gl_0691.jpg -> Class: glioma, Confidence: 1.00\n",
            "Saving Tr-gl_0691.jpg to BT100/Training/glioma/20250328_215858_Tr-gl_0691.jpg\n",
            "\u001b[1m1/1\u001b[0m \u001b[32m━━━━━━━━━━━━━━━━━━━━\u001b[0m\u001b[37m\u001b[0m \u001b[1m0s\u001b[0m 33ms/step\n"
          ]
        },
        {
          "output_type": "stream",
          "name": "stderr",
          "text": [
            "\r 47%|████▋     | 268/569 [00:22<00:22, 13.44it/s]"
          ]
        },
        {
          "output_type": "stream",
          "name": "stdout",
          "text": [
            "Tr-no_0636.jpg -> Class: notumor, Confidence: 1.00\n",
            "Saving Tr-no_0636.jpg to BT100/Training/notumor/20250328_215858_Tr-no_0636.jpg\n",
            "\u001b[1m1/1\u001b[0m \u001b[32m━━━━━━━━━━━━━━━━━━━━\u001b[0m\u001b[37m\u001b[0m \u001b[1m0s\u001b[0m 33ms/step\n",
            "Tr-gl_1201.jpg -> Class: glioma, Confidence: 0.99\n",
            "Saving Tr-gl_1201.jpg to BT100/Training/glioma/20250328_215858_Tr-gl_1201.jpg\n",
            "\u001b[1m1/1\u001b[0m \u001b[32m━━━━━━━━━━━━━━━━━━━━\u001b[0m\u001b[37m\u001b[0m \u001b[1m0s\u001b[0m 32ms/step\n"
          ]
        },
        {
          "output_type": "stream",
          "name": "stderr",
          "text": [
            "\r 47%|████▋     | 270/569 [00:22<00:23, 12.66it/s]"
          ]
        },
        {
          "output_type": "stream",
          "name": "stdout",
          "text": [
            "Tr-pi_0778.jpg -> Class: pituitary, Confidence: 1.00\n",
            "Saving Tr-pi_0778.jpg to BT100/Training/pituitary/20250328_215858_Tr-pi_0778.jpg\n",
            "\u001b[1m1/1\u001b[0m \u001b[32m━━━━━━━━━━━━━━━━━━━━\u001b[0m\u001b[37m\u001b[0m \u001b[1m0s\u001b[0m 34ms/step\n",
            "Tr-gl_0331.jpg -> Class: glioma, Confidence: 1.00\n",
            "Saving Tr-gl_0331.jpg to BT100/Training/glioma/20250328_215858_Tr-gl_0331.jpg\n",
            "\u001b[1m1/1\u001b[0m \u001b[32m━━━━━━━━━━━━━━━━━━━━\u001b[0m\u001b[37m\u001b[0m \u001b[1m0s\u001b[0m 33ms/step\n"
          ]
        },
        {
          "output_type": "stream",
          "name": "stderr",
          "text": [
            "\r 48%|████▊     | 272/569 [00:22<00:25, 11.76it/s]"
          ]
        },
        {
          "output_type": "stream",
          "name": "stdout",
          "text": [
            "Tr-me_0501.jpg -> Class: meningioma, Confidence: 1.00\n",
            "Saving Tr-me_0501.jpg to BT100/Training/meningioma/20250328_215858_Tr-me_0501.jpg\n",
            "\u001b[1m1/1\u001b[0m \u001b[32m━━━━━━━━━━━━━━━━━━━━\u001b[0m\u001b[37m\u001b[0m \u001b[1m0s\u001b[0m 31ms/step\n",
            "Tr-me_0120.jpg -> Class: meningioma, Confidence: 1.00\n",
            "Saving Tr-me_0120.jpg to BT100/Training/meningioma/20250328_215858_Tr-me_0120.jpg\n",
            "\u001b[1m1/1\u001b[0m \u001b[32m━━━━━━━━━━━━━━━━━━━━\u001b[0m\u001b[37m\u001b[0m \u001b[1m0s\u001b[0m 30ms/step\n"
          ]
        },
        {
          "output_type": "stream",
          "name": "stderr",
          "text": [
            "\r 48%|████▊     | 274/569 [00:22<00:24, 12.22it/s]"
          ]
        },
        {
          "output_type": "stream",
          "name": "stdout",
          "text": [
            "Tr-me_0979.jpg -> Class: meningioma, Confidence: 1.00\n",
            "Saving Tr-me_0979.jpg to BT100/Training/meningioma/20250328_215858_Tr-me_0979.jpg\n",
            "\u001b[1m1/1\u001b[0m \u001b[32m━━━━━━━━━━━━━━━━━━━━\u001b[0m\u001b[37m\u001b[0m \u001b[1m0s\u001b[0m 30ms/step\n",
            "Tr-pi_1239.jpg -> Class: pituitary, Confidence: 1.00\n",
            "Saving Tr-pi_1239.jpg to BT100/Training/pituitary/20250328_215858_Tr-pi_1239.jpg\n",
            "\u001b[1m1/1\u001b[0m \u001b[32m━━━━━━━━━━━━━━━━━━━━\u001b[0m\u001b[37m\u001b[0m \u001b[1m0s\u001b[0m 30ms/step\n"
          ]
        },
        {
          "output_type": "stream",
          "name": "stderr",
          "text": [
            "\r 49%|████▊     | 276/569 [00:22<00:23, 12.60it/s]"
          ]
        },
        {
          "output_type": "stream",
          "name": "stdout",
          "text": [
            "Tr-gl_1085.jpg -> Class: glioma, Confidence: 1.00\n",
            "Saving Tr-gl_1085.jpg to BT100/Training/glioma/20250328_215858_Tr-gl_1085.jpg\n",
            "\u001b[1m1/1\u001b[0m \u001b[32m━━━━━━━━━━━━━━━━━━━━\u001b[0m\u001b[37m\u001b[0m \u001b[1m0s\u001b[0m 33ms/step\n",
            "Tr-pi_0332.jpg -> Class: pituitary, Confidence: 1.00\n",
            "Saving Tr-pi_0332.jpg to BT100/Training/pituitary/20250328_215858_Tr-pi_0332.jpg\n",
            "\u001b[1m1/1\u001b[0m \u001b[32m━━━━━━━━━━━━━━━━━━━━\u001b[0m\u001b[37m\u001b[0m \u001b[1m0s\u001b[0m 30ms/step\n"
          ]
        },
        {
          "output_type": "stream",
          "name": "stderr",
          "text": [
            "\r 49%|████▉     | 278/569 [00:23<00:22, 12.93it/s]"
          ]
        },
        {
          "output_type": "stream",
          "name": "stdout",
          "text": [
            "Tr-me_0855.jpg -> Class: meningioma, Confidence: 1.00\n",
            "Saving Tr-me_0855.jpg to BT100/Training/meningioma/20250328_215859_Tr-me_0855.jpg\n",
            "\u001b[1m1/1\u001b[0m \u001b[32m━━━━━━━━━━━━━━━━━━━━\u001b[0m\u001b[37m\u001b[0m \u001b[1m0s\u001b[0m 31ms/step\n",
            "Tr-gl_0557.jpg -> Class: glioma, Confidence: 1.00\n",
            "Saving Tr-gl_0557.jpg to BT100/Training/glioma/20250328_215859_Tr-gl_0557.jpg\n",
            "\u001b[1m1/1\u001b[0m \u001b[32m━━━━━━━━━━━━━━━━━━━━\u001b[0m\u001b[37m\u001b[0m \u001b[1m0s\u001b[0m 32ms/step\n"
          ]
        },
        {
          "output_type": "stream",
          "name": "stderr",
          "text": [
            "\r 49%|████▉     | 280/569 [00:23<00:21, 13.14it/s]"
          ]
        },
        {
          "output_type": "stream",
          "name": "stdout",
          "text": [
            "Tr-gl_1079.jpg -> Class: glioma, Confidence: 1.00\n",
            "Saving Tr-gl_1079.jpg to BT100/Training/glioma/20250328_215859_Tr-gl_1079.jpg\n",
            "\u001b[1m1/1\u001b[0m \u001b[32m━━━━━━━━━━━━━━━━━━━━\u001b[0m\u001b[37m\u001b[0m \u001b[1m0s\u001b[0m 30ms/step\n",
            "Tr-pi_1281.jpg -> Class: pituitary, Confidence: 1.00\n",
            "Saving Tr-pi_1281.jpg to BT100/Training/pituitary/20250328_215859_Tr-pi_1281.jpg\n",
            "\u001b[1m1/1\u001b[0m \u001b[32m━━━━━━━━━━━━━━━━━━━━\u001b[0m\u001b[37m\u001b[0m \u001b[1m0s\u001b[0m 32ms/step\n"
          ]
        },
        {
          "output_type": "stream",
          "name": "stderr",
          "text": [
            "\r 50%|████▉     | 282/569 [00:23<00:21, 13.45it/s]"
          ]
        },
        {
          "output_type": "stream",
          "name": "stdout",
          "text": [
            "Tr-me_0369.jpg -> Class: meningioma, Confidence: 1.00\n",
            "Saving Tr-me_0369.jpg to BT100/Training/meningioma/20250328_215859_Tr-me_0369.jpg\n",
            "\u001b[1m1/1\u001b[0m \u001b[32m━━━━━━━━━━━━━━━━━━━━\u001b[0m\u001b[37m\u001b[0m \u001b[1m0s\u001b[0m 47ms/step\n",
            "Tr-pi_0408.jpg -> Class: pituitary, Confidence: 1.00\n",
            "Saving Tr-pi_0408.jpg to BT100/Training/pituitary/20250328_215859_Tr-pi_0408.jpg\n",
            "\u001b[1m1/1\u001b[0m \u001b[32m━━━━━━━━━━━━━━━━━━━━\u001b[0m\u001b[37m\u001b[0m \u001b[1m0s\u001b[0m 32ms/step\n"
          ]
        },
        {
          "output_type": "stream",
          "name": "stderr",
          "text": [
            "\r 50%|████▉     | 284/569 [00:23<00:22, 12.40it/s]"
          ]
        },
        {
          "output_type": "stream",
          "name": "stdout",
          "text": [
            "Tr-gl_0217.jpg -> Class: glioma, Confidence: 1.00\n",
            "Saving Tr-gl_0217.jpg to BT100/Training/glioma/20250328_215859_Tr-gl_0217.jpg\n",
            "\u001b[1m1/1\u001b[0m \u001b[32m━━━━━━━━━━━━━━━━━━━━\u001b[0m\u001b[37m\u001b[0m \u001b[1m0s\u001b[0m 32ms/step\n",
            "Tr-gl_0204.jpg -> Class: glioma, Confidence: 1.00\n",
            "Saving Tr-gl_0204.jpg to BT100/Training/glioma/20250328_215859_Tr-gl_0204.jpg\n",
            "\u001b[1m1/1\u001b[0m \u001b[32m━━━━━━━━━━━━━━━━━━━━\u001b[0m\u001b[37m\u001b[0m \u001b[1m0s\u001b[0m 32ms/step\n"
          ]
        },
        {
          "output_type": "stream",
          "name": "stderr",
          "text": [
            "\r 50%|█████     | 286/569 [00:23<00:22, 12.60it/s]"
          ]
        },
        {
          "output_type": "stream",
          "name": "stdout",
          "text": [
            "Tr-me_1148.jpg -> Class: meningioma, Confidence: 1.00\n",
            "Saving Tr-me_1148.jpg to BT100/Training/meningioma/20250328_215859_Tr-me_1148.jpg\n",
            "\u001b[1m1/1\u001b[0m \u001b[32m━━━━━━━━━━━━━━━━━━━━\u001b[0m\u001b[37m\u001b[0m \u001b[1m0s\u001b[0m 32ms/step\n",
            "Tr-me_0610.jpg -> Class: meningioma, Confidence: 1.00\n",
            "Saving Tr-me_0610.jpg to BT100/Training/meningioma/20250328_215859_Tr-me_0610.jpg\n",
            "\u001b[1m1/1\u001b[0m \u001b[32m━━━━━━━━━━━━━━━━━━━━\u001b[0m\u001b[37m\u001b[0m \u001b[1m0s\u001b[0m 30ms/step\n"
          ]
        },
        {
          "output_type": "stream",
          "name": "stderr",
          "text": [
            "\r 51%|█████     | 288/569 [00:23<00:21, 12.95it/s]"
          ]
        },
        {
          "output_type": "stream",
          "name": "stdout",
          "text": [
            "Tr-no_0482.jpg -> Class: notumor, Confidence: 1.00\n",
            "Saving Tr-no_0482.jpg to BT100/Training/notumor/20250328_215859_Tr-no_0482.jpg\n",
            "\u001b[1m1/1\u001b[0m \u001b[32m━━━━━━━━━━━━━━━━━━━━\u001b[0m\u001b[37m\u001b[0m \u001b[1m0s\u001b[0m 31ms/step\n",
            "Tr-pi_0680.jpg -> Class: pituitary, Confidence: 1.00\n",
            "Saving Tr-pi_0680.jpg to BT100/Training/pituitary/20250328_215859_Tr-pi_0680.jpg\n",
            "\u001b[1m1/1\u001b[0m \u001b[32m━━━━━━━━━━━━━━━━━━━━\u001b[0m\u001b[37m\u001b[0m \u001b[1m0s\u001b[0m 31ms/step\n"
          ]
        },
        {
          "output_type": "stream",
          "name": "stderr",
          "text": [
            "\r 51%|█████     | 290/569 [00:24<00:21, 13.26it/s]"
          ]
        },
        {
          "output_type": "stream",
          "name": "stdout",
          "text": [
            "Tr-no_0520.jpg -> Class: notumor, Confidence: 1.00\n",
            "Saving Tr-no_0520.jpg to BT100/Training/notumor/20250328_215859_Tr-no_0520.jpg\n",
            "\u001b[1m1/1\u001b[0m \u001b[32m━━━━━━━━━━━━━━━━━━━━\u001b[0m\u001b[37m\u001b[0m \u001b[1m0s\u001b[0m 34ms/step\n",
            "Tr-no_0144.jpg -> Class: notumor, Confidence: 1.00\n",
            "Saving Tr-no_0144.jpg to BT100/Training/notumor/20250328_215900_Tr-no_0144.jpg\n",
            "\u001b[1m1/1\u001b[0m \u001b[32m━━━━━━━━━━━━━━━━━━━━\u001b[0m\u001b[37m\u001b[0m \u001b[1m0s\u001b[0m 32ms/step\n"
          ]
        },
        {
          "output_type": "stream",
          "name": "stderr",
          "text": [
            "\r 51%|█████▏    | 292/569 [00:24<00:20, 13.48it/s]"
          ]
        },
        {
          "output_type": "stream",
          "name": "stdout",
          "text": [
            "Tr-pi_0607.jpg -> Class: pituitary, Confidence: 1.00\n",
            "Saving Tr-pi_0607.jpg to BT100/Training/pituitary/20250328_215900_Tr-pi_0607.jpg\n",
            "\u001b[1m1/1\u001b[0m \u001b[32m━━━━━━━━━━━━━━━━━━━━\u001b[0m\u001b[37m\u001b[0m \u001b[1m0s\u001b[0m 32ms/step\n",
            "Tr-pi_0257.jpg -> Class: pituitary, Confidence: 1.00\n",
            "Saving Tr-pi_0257.jpg to BT100/Training/pituitary/20250328_215900_Tr-pi_0257.jpg\n",
            "\u001b[1m1/1\u001b[0m \u001b[32m━━━━━━━━━━━━━━━━━━━━\u001b[0m\u001b[37m\u001b[0m \u001b[1m0s\u001b[0m 29ms/step\n"
          ]
        },
        {
          "output_type": "stream",
          "name": "stderr",
          "text": [
            "\r 52%|█████▏    | 294/569 [00:24<00:20, 13.28it/s]"
          ]
        },
        {
          "output_type": "stream",
          "name": "stdout",
          "text": [
            "Tr-me_0585.jpg -> Class: notumor, Confidence: 0.78\n",
            "\u001b[1m1/1\u001b[0m \u001b[32m━━━━━━━━━━━━━━━━━━━━\u001b[0m\u001b[37m\u001b[0m \u001b[1m0s\u001b[0m 30ms/step\n",
            "Tr-me_0951.jpg -> Class: meningioma, Confidence: 1.00\n",
            "Saving Tr-me_0951.jpg to BT100/Training/meningioma/20250328_215900_Tr-me_0951.jpg\n",
            "\u001b[1m1/1\u001b[0m \u001b[32m━━━━━━━━━━━━━━━━━━━━\u001b[0m\u001b[37m\u001b[0m \u001b[1m0s\u001b[0m 39ms/step\n"
          ]
        },
        {
          "output_type": "stream",
          "name": "stderr",
          "text": [
            "\r 52%|█████▏    | 296/569 [00:24<00:21, 12.78it/s]"
          ]
        },
        {
          "output_type": "stream",
          "name": "stdout",
          "text": [
            "Tr-no_0627.jpg -> Class: notumor, Confidence: 1.00\n",
            "Saving Tr-no_0627.jpg to BT100/Training/notumor/20250328_215900_Tr-no_0627.jpg\n",
            "\u001b[1m1/1\u001b[0m \u001b[32m━━━━━━━━━━━━━━━━━━━━\u001b[0m\u001b[37m\u001b[0m \u001b[1m0s\u001b[0m 30ms/step\n",
            "Tr-pi_0903.jpg -> Class: pituitary, Confidence: 1.00\n",
            "Saving Tr-pi_0903.jpg to BT100/Training/pituitary/20250328_215900_Tr-pi_0903.jpg\n",
            "\u001b[1m1/1\u001b[0m \u001b[32m━━━━━━━━━━━━━━━━━━━━\u001b[0m\u001b[37m\u001b[0m \u001b[1m0s\u001b[0m 30ms/step\n"
          ]
        },
        {
          "output_type": "stream",
          "name": "stderr",
          "text": [
            "\r 52%|█████▏    | 298/569 [00:24<00:21, 12.80it/s]"
          ]
        },
        {
          "output_type": "stream",
          "name": "stdout",
          "text": [
            "Tr-me_0963.jpg -> Class: meningioma, Confidence: 1.00\n",
            "Saving Tr-me_0963.jpg to BT100/Training/meningioma/20250328_215900_Tr-me_0963.jpg\n",
            "\u001b[1m1/1\u001b[0m \u001b[32m━━━━━━━━━━━━━━━━━━━━\u001b[0m\u001b[37m\u001b[0m \u001b[1m0s\u001b[0m 30ms/step\n",
            "Tr-me_1326.jpg -> Class: meningioma, Confidence: 1.00\n",
            "Saving Tr-me_1326.jpg to BT100/Training/meningioma/20250328_215900_Tr-me_1326.jpg\n",
            "\u001b[1m1/1\u001b[0m \u001b[32m━━━━━━━━━━━━━━━━━━━━\u001b[0m\u001b[37m\u001b[0m \u001b[1m0s\u001b[0m 33ms/step\n"
          ]
        },
        {
          "output_type": "stream",
          "name": "stderr",
          "text": [
            "\r 53%|█████▎    | 300/569 [00:24<00:20, 13.11it/s]"
          ]
        },
        {
          "output_type": "stream",
          "name": "stdout",
          "text": [
            "Tr-pi_0381.jpg -> Class: pituitary, Confidence: 1.00\n",
            "Saving Tr-pi_0381.jpg to BT100/Training/pituitary/20250328_215900_Tr-pi_0381.jpg\n",
            "\u001b[1m1/1\u001b[0m \u001b[32m━━━━━━━━━━━━━━━━━━━━\u001b[0m\u001b[37m\u001b[0m \u001b[1m0s\u001b[0m 34ms/step\n",
            "Tr-no_0756.jpg -> Class: notumor, Confidence: 1.00\n",
            "Saving Tr-no_0756.jpg to BT100/Training/notumor/20250328_215900_Tr-no_0756.jpg\n",
            "\u001b[1m1/1\u001b[0m \u001b[32m━━━━━━━━━━━━━━━━━━━━\u001b[0m\u001b[37m\u001b[0m \u001b[1m0s\u001b[0m 34ms/step\n"
          ]
        },
        {
          "output_type": "stream",
          "name": "stderr",
          "text": [
            "\r 53%|█████▎    | 302/569 [00:24<00:19, 13.37it/s]"
          ]
        },
        {
          "output_type": "stream",
          "name": "stdout",
          "text": [
            "Tr-me_0407.jpg -> Class: meningioma, Confidence: 1.00\n",
            "Saving Tr-me_0407.jpg to BT100/Training/meningioma/20250328_215900_Tr-me_0407.jpg\n",
            "\u001b[1m1/1\u001b[0m \u001b[32m━━━━━━━━━━━━━━━━━━━━\u001b[0m\u001b[37m\u001b[0m \u001b[1m0s\u001b[0m 31ms/step\n",
            "Tr-me_0177.jpg -> Class: meningioma, Confidence: 0.78\n",
            "\u001b[1m1/1\u001b[0m \u001b[32m━━━━━━━━━━━━━━━━━━━━\u001b[0m\u001b[37m\u001b[0m \u001b[1m0s\u001b[0m 32ms/step\n"
          ]
        },
        {
          "output_type": "stream",
          "name": "stderr",
          "text": [
            "\r 53%|█████▎    | 304/569 [00:25<00:19, 13.50it/s]"
          ]
        },
        {
          "output_type": "stream",
          "name": "stdout",
          "text": [
            "Tr-no_0703.jpg -> Class: notumor, Confidence: 1.00\n",
            "Saving Tr-no_0703.jpg to BT100/Training/notumor/20250328_215901_Tr-no_0703.jpg\n",
            "\u001b[1m1/1\u001b[0m \u001b[32m━━━━━━━━━━━━━━━━━━━━\u001b[0m\u001b[37m\u001b[0m \u001b[1m0s\u001b[0m 31ms/step\n",
            "Tr-pi_0166.jpg -> Class: pituitary, Confidence: 1.00\n",
            "Saving Tr-pi_0166.jpg to BT100/Training/pituitary/20250328_215901_Tr-pi_0166.jpg\n",
            "\u001b[1m1/1\u001b[0m \u001b[32m━━━━━━━━━━━━━━━━━━━━\u001b[0m\u001b[37m\u001b[0m \u001b[1m0s\u001b[0m 30ms/step\n"
          ]
        },
        {
          "output_type": "stream",
          "name": "stderr",
          "text": [
            "\r 54%|█████▍    | 306/569 [00:25<00:21, 12.41it/s]"
          ]
        },
        {
          "output_type": "stream",
          "name": "stdout",
          "text": [
            "Tr-no_0014.jpg -> Class: notumor, Confidence: 1.00\n",
            "Saving Tr-no_0014.jpg to BT100/Training/notumor/20250328_215901_Tr-no_0014.jpg\n",
            "\u001b[1m1/1\u001b[0m \u001b[32m━━━━━━━━━━━━━━━━━━━━\u001b[0m\u001b[37m\u001b[0m \u001b[1m0s\u001b[0m 28ms/step\n",
            "Tr-gl_0788.jpg -> Class: glioma, Confidence: 1.00\n",
            "Saving Tr-gl_0788.jpg to BT100/Training/glioma/20250328_215901_Tr-gl_0788.jpg\n",
            "\u001b[1m1/1\u001b[0m \u001b[32m━━━━━━━━━━━━━━━━━━━━\u001b[0m\u001b[37m\u001b[0m \u001b[1m0s\u001b[0m 40ms/step\n"
          ]
        },
        {
          "output_type": "stream",
          "name": "stderr",
          "text": [
            "\r 54%|█████▍    | 308/569 [00:25<00:21, 11.90it/s]"
          ]
        },
        {
          "output_type": "stream",
          "name": "stdout",
          "text": [
            "Tr-gl_0112.jpg -> Class: glioma, Confidence: 1.00\n",
            "Saving Tr-gl_0112.jpg to BT100/Training/glioma/20250328_215901_Tr-gl_0112.jpg\n",
            "\u001b[1m1/1\u001b[0m \u001b[32m━━━━━━━━━━━━━━━━━━━━\u001b[0m\u001b[37m\u001b[0m \u001b[1m0s\u001b[0m 77ms/step\n",
            "Tr-me_1116.jpg -> Class: meningioma, Confidence: 1.00\n",
            "Saving Tr-me_1116.jpg to BT100/Training/meningioma/20250328_215901_Tr-me_1116.jpg\n",
            "\u001b[1m1/1\u001b[0m \u001b[32m━━━━━━━━━━━━━━━━━━━━\u001b[0m\u001b[37m\u001b[0m \u001b[1m0s\u001b[0m 47ms/step\n"
          ]
        },
        {
          "output_type": "stream",
          "name": "stderr",
          "text": [
            "\r 54%|█████▍    | 310/569 [00:25<00:26,  9.72it/s]"
          ]
        },
        {
          "output_type": "stream",
          "name": "stdout",
          "text": [
            "Tr-gl_0203.jpg -> Class: glioma, Confidence: 1.00\n",
            "Saving Tr-gl_0203.jpg to BT100/Training/glioma/20250328_215901_Tr-gl_0203.jpg\n",
            "\u001b[1m1/1\u001b[0m \u001b[32m━━━━━━━━━━━━━━━━━━━━\u001b[0m\u001b[37m\u001b[0m \u001b[1m0s\u001b[0m 46ms/step\n",
            "Tr-gl_0247.jpg -> Class: glioma, Confidence: 1.00\n",
            "Saving Tr-gl_0247.jpg to BT100/Training/glioma/20250328_215901_Tr-gl_0247.jpg\n",
            "\u001b[1m1/1\u001b[0m \u001b[32m━━━━━━━━━━━━━━━━━━━━\u001b[0m\u001b[37m\u001b[0m \u001b[1m0s\u001b[0m 49ms/step\n"
          ]
        },
        {
          "output_type": "stream",
          "name": "stderr",
          "text": [
            "\r 55%|█████▍    | 312/569 [00:25<00:26,  9.62it/s]"
          ]
        },
        {
          "output_type": "stream",
          "name": "stdout",
          "text": [
            "Tr-no_0833.jpg -> Class: notumor, Confidence: 1.00\n",
            "Saving Tr-no_0833.jpg to BT100/Training/notumor/20250328_215901_Tr-no_0833.jpg\n",
            "\u001b[1m1/1\u001b[0m \u001b[32m━━━━━━━━━━━━━━━━━━━━\u001b[0m\u001b[37m\u001b[0m \u001b[1m0s\u001b[0m 62ms/step\n",
            "Tr-no_0815.jpg -> Class: notumor, Confidence: 1.00\n",
            "Saving Tr-no_0815.jpg to BT100/Training/notumor/20250328_215902_Tr-no_0815.jpg\n",
            "\u001b[1m1/1\u001b[0m \u001b[32m━━━━━━━━━━━━━━━━━━━━\u001b[0m\u001b[37m\u001b[0m \u001b[1m0s\u001b[0m 55ms/step\n"
          ]
        },
        {
          "output_type": "stream",
          "name": "stderr",
          "text": [
            "\r 55%|█████▌    | 314/569 [00:26<00:28,  8.90it/s]"
          ]
        },
        {
          "output_type": "stream",
          "name": "stdout",
          "text": [
            "Tr-gl_0908.jpg -> Class: glioma, Confidence: 1.00\n",
            "Saving Tr-gl_0908.jpg to BT100/Training/glioma/20250328_215902_Tr-gl_0908.jpg\n",
            "\u001b[1m1/1\u001b[0m \u001b[32m━━━━━━━━━━━━━━━━━━━━\u001b[0m\u001b[37m\u001b[0m \u001b[1m0s\u001b[0m 43ms/step\n"
          ]
        },
        {
          "output_type": "stream",
          "name": "stderr",
          "text": [
            "\r 55%|█████▌    | 315/569 [00:26<00:28,  8.92it/s]"
          ]
        },
        {
          "output_type": "stream",
          "name": "stdout",
          "text": [
            "Tr-pi_0134.jpg -> Class: pituitary, Confidence: 1.00\n",
            "Saving Tr-pi_0134.jpg to BT100/Training/pituitary/20250328_215902_Tr-pi_0134.jpg\n",
            "\u001b[1m1/1\u001b[0m \u001b[32m━━━━━━━━━━━━━━━━━━━━\u001b[0m\u001b[37m\u001b[0m \u001b[1m0s\u001b[0m 61ms/step\n"
          ]
        },
        {
          "output_type": "stream",
          "name": "stderr",
          "text": [
            "\r 56%|█████▌    | 316/569 [00:26<00:29,  8.56it/s]"
          ]
        },
        {
          "output_type": "stream",
          "name": "stdout",
          "text": [
            "Tr-gl_1265.jpg -> Class: meningioma, Confidence: 0.80\n",
            "\u001b[1m1/1\u001b[0m \u001b[32m━━━━━━━━━━━━━━━━━━━━\u001b[0m\u001b[37m\u001b[0m \u001b[1m0s\u001b[0m 48ms/step\n"
          ]
        },
        {
          "output_type": "stream",
          "name": "stderr",
          "text": [
            "\r 56%|█████▌    | 317/569 [00:26<00:29,  8.61it/s]"
          ]
        },
        {
          "output_type": "stream",
          "name": "stdout",
          "text": [
            "Tr-no_0202.jpg -> Class: notumor, Confidence: 1.00\n",
            "Saving Tr-no_0202.jpg to BT100/Training/notumor/20250328_215902_Tr-no_0202.jpg\n",
            "\u001b[1m1/1\u001b[0m \u001b[32m━━━━━━━━━━━━━━━━━━━━\u001b[0m\u001b[37m\u001b[0m \u001b[1m0s\u001b[0m 47ms/step\n"
          ]
        },
        {
          "output_type": "stream",
          "name": "stderr",
          "text": [
            "\r 56%|█████▌    | 318/569 [00:26<00:31,  7.99it/s]"
          ]
        },
        {
          "output_type": "stream",
          "name": "stdout",
          "text": [
            "Tr-me_0869.jpg -> Class: meningioma, Confidence: 1.00\n",
            "Saving Tr-me_0869.jpg to BT100/Training/meningioma/20250328_215902_Tr-me_0869.jpg\n",
            "\u001b[1m1/1\u001b[0m \u001b[32m━━━━━━━━━━━━━━━━━━━━\u001b[0m\u001b[37m\u001b[0m \u001b[1m0s\u001b[0m 47ms/step\n"
          ]
        },
        {
          "output_type": "stream",
          "name": "stderr",
          "text": [
            "\r 56%|█████▌    | 319/569 [00:26<00:32,  7.77it/s]"
          ]
        },
        {
          "output_type": "stream",
          "name": "stdout",
          "text": [
            "Tr-no_1326.jpg -> Class: notumor, Confidence: 1.00\n",
            "Saving Tr-no_1326.jpg to BT100/Training/notumor/20250328_215902_Tr-no_1326.jpg\n",
            "\u001b[1m1/1\u001b[0m \u001b[32m━━━━━━━━━━━━━━━━━━━━\u001b[0m\u001b[37m\u001b[0m \u001b[1m0s\u001b[0m 51ms/step\n",
            "Tr-me_1017.jpg -> Class: meningioma, Confidence: 1.00\n",
            "Saving Tr-me_1017.jpg to BT100/Training/meningioma/20250328_215902_Tr-me_1017.jpg\n"
          ]
        },
        {
          "output_type": "stream",
          "name": "stderr",
          "text": [
            "\r 56%|█████▌    | 320/569 [00:26<00:32,  7.59it/s]"
          ]
        },
        {
          "output_type": "stream",
          "name": "stdout",
          "text": [
            "\u001b[1m1/1\u001b[0m \u001b[32m━━━━━━━━━━━━━━━━━━━━\u001b[0m\u001b[37m\u001b[0m \u001b[1m0s\u001b[0m 57ms/step\n"
          ]
        },
        {
          "output_type": "stream",
          "name": "stderr",
          "text": [
            "\r 56%|█████▋    | 321/569 [00:27<00:33,  7.37it/s]"
          ]
        },
        {
          "output_type": "stream",
          "name": "stdout",
          "text": [
            "Tr-no_0542.jpg -> Class: notumor, Confidence: 1.00\n",
            "Saving Tr-no_0542.jpg to BT100/Training/notumor/20250328_215903_Tr-no_0542.jpg\n",
            "\u001b[1m1/1\u001b[0m \u001b[32m━━━━━━━━━━━━━━━━━━━━\u001b[0m\u001b[37m\u001b[0m \u001b[1m0s\u001b[0m 57ms/step\n"
          ]
        },
        {
          "output_type": "stream",
          "name": "stderr",
          "text": [
            "\r 57%|█████▋    | 322/569 [00:27<00:32,  7.54it/s]"
          ]
        },
        {
          "output_type": "stream",
          "name": "stdout",
          "text": [
            "Tr-pi_0062.jpg -> Class: pituitary, Confidence: 1.00\n",
            "Saving Tr-pi_0062.jpg to BT100/Training/pituitary/20250328_215903_Tr-pi_0062.jpg\n",
            "\u001b[1m1/1\u001b[0m \u001b[32m━━━━━━━━━━━━━━━━━━━━\u001b[0m\u001b[37m\u001b[0m \u001b[1m0s\u001b[0m 61ms/step\n"
          ]
        },
        {
          "output_type": "stream",
          "name": "stderr",
          "text": [
            "\r 57%|█████▋    | 323/569 [00:27<00:32,  7.57it/s]"
          ]
        },
        {
          "output_type": "stream",
          "name": "stdout",
          "text": [
            "Tr-gl_1029.jpg -> Class: glioma, Confidence: 1.00\n",
            "Saving Tr-gl_1029.jpg to BT100/Training/glioma/20250328_215903_Tr-gl_1029.jpg\n",
            "\u001b[1m1/1\u001b[0m \u001b[32m━━━━━━━━━━━━━━━━━━━━\u001b[0m\u001b[37m\u001b[0m \u001b[1m0s\u001b[0m 39ms/step\n"
          ]
        },
        {
          "output_type": "stream",
          "name": "stderr",
          "text": [
            "\r 57%|█████▋    | 324/569 [00:27<00:30,  8.04it/s]"
          ]
        },
        {
          "output_type": "stream",
          "name": "stdout",
          "text": [
            "Tr-me_1081.jpg -> Class: meningioma, Confidence: 1.00\n",
            "Saving Tr-me_1081.jpg to BT100/Training/meningioma/20250328_215903_Tr-me_1081.jpg\n",
            "\u001b[1m1/1\u001b[0m \u001b[32m━━━━━━━━━━━━━━━━━━━━\u001b[0m\u001b[37m\u001b[0m \u001b[1m0s\u001b[0m 30ms/step\n",
            "Tr-no_0092.jpg -> Class: notumor, Confidence: 1.00\n",
            "Saving Tr-no_0092.jpg to BT100/Training/notumor/20250328_215903_Tr-no_0092.jpg\n",
            "\u001b[1m1/1\u001b[0m \u001b[32m━━━━━━━━━━━━━━━━━━━━\u001b[0m\u001b[37m\u001b[0m \u001b[1m0s\u001b[0m 30ms/step\n"
          ]
        },
        {
          "output_type": "stream",
          "name": "stderr",
          "text": [
            "\r 57%|█████▋    | 326/569 [00:27<00:24,  9.96it/s]"
          ]
        },
        {
          "output_type": "stream",
          "name": "stdout",
          "text": [
            "Tr-no_1491.jpg -> Class: notumor, Confidence: 1.00\n",
            "Saving Tr-no_1491.jpg to BT100/Training/notumor/20250328_215903_Tr-no_1491.jpg\n",
            "\u001b[1m1/1\u001b[0m \u001b[32m━━━━━━━━━━━━━━━━━━━━\u001b[0m\u001b[37m\u001b[0m \u001b[1m0s\u001b[0m 34ms/step\n",
            "Tr-gl_1237.jpg -> Class: glioma, Confidence: 1.00\n",
            "Saving Tr-gl_1237.jpg to BT100/Training/glioma/20250328_215903_Tr-gl_1237.jpg\n",
            "\u001b[1m1/1\u001b[0m \u001b[32m━━━━━━━━━━━━━━━━━━━━\u001b[0m\u001b[37m\u001b[0m \u001b[1m0s\u001b[0m 31ms/step\n"
          ]
        },
        {
          "output_type": "stream",
          "name": "stderr",
          "text": [
            "\r 58%|█████▊    | 328/569 [00:27<00:21, 10.98it/s]"
          ]
        },
        {
          "output_type": "stream",
          "name": "stdout",
          "text": [
            "Tr-pi_0897.jpg -> Class: pituitary, Confidence: 1.00\n",
            "Saving Tr-pi_0897.jpg to BT100/Training/pituitary/20250328_215903_Tr-pi_0897.jpg\n",
            "\u001b[1m1/1\u001b[0m \u001b[32m━━━━━━━━━━━━━━━━━━━━\u001b[0m\u001b[37m\u001b[0m \u001b[1m0s\u001b[0m 30ms/step\n",
            "Tr-me_1298.jpg -> Class: meningioma, Confidence: 1.00\n",
            "Saving Tr-me_1298.jpg to BT100/Training/meningioma/20250328_215903_Tr-me_1298.jpg\n",
            "\u001b[1m1/1\u001b[0m \u001b[32m━━━━━━━━━━━━━━━━━━━━\u001b[0m\u001b[37m\u001b[0m \u001b[1m0s\u001b[0m 31ms/step\n"
          ]
        },
        {
          "output_type": "stream",
          "name": "stderr",
          "text": [
            "\r 58%|█████▊    | 330/569 [00:27<00:19, 12.00it/s]"
          ]
        },
        {
          "output_type": "stream",
          "name": "stdout",
          "text": [
            "Tr-no_1318.jpg -> Class: notumor, Confidence: 1.00\n",
            "Saving Tr-no_1318.jpg to BT100/Training/notumor/20250328_215903_Tr-no_1318.jpg\n",
            "\u001b[1m1/1\u001b[0m \u001b[32m━━━━━━━━━━━━━━━━━━━━\u001b[0m\u001b[37m\u001b[0m \u001b[1m0s\u001b[0m 31ms/step\n",
            "Tr-no_0739.jpg -> Class: notumor, Confidence: 1.00\n",
            "Saving Tr-no_0739.jpg to BT100/Training/notumor/20250328_215903_Tr-no_0739.jpg\n",
            "\u001b[1m1/1\u001b[0m \u001b[32m━━━━━━━━━━━━━━━━━━━━\u001b[0m\u001b[37m\u001b[0m \u001b[1m0s\u001b[0m 34ms/step\n"
          ]
        },
        {
          "output_type": "stream",
          "name": "stderr",
          "text": [
            "\r 58%|█████▊    | 332/569 [00:28<00:18, 12.48it/s]"
          ]
        },
        {
          "output_type": "stream",
          "name": "stdout",
          "text": [
            "Tr-me_1231.jpg -> Class: meningioma, Confidence: 1.00\n",
            "Saving Tr-me_1231.jpg to BT100/Training/meningioma/20250328_215904_Tr-me_1231.jpg\n",
            "\u001b[1m1/1\u001b[0m \u001b[32m━━━━━━━━━━━━━━━━━━━━\u001b[0m\u001b[37m\u001b[0m \u001b[1m0s\u001b[0m 31ms/step\n",
            "Tr-gl_0075.jpg -> Class: glioma, Confidence: 1.00\n",
            "Saving Tr-gl_0075.jpg to BT100/Training/glioma/20250328_215904_Tr-gl_0075.jpg\n",
            "\u001b[1m1/1\u001b[0m \u001b[32m━━━━━━━━━━━━━━━━━━━━\u001b[0m\u001b[37m\u001b[0m \u001b[1m0s\u001b[0m 31ms/step\n"
          ]
        },
        {
          "output_type": "stream",
          "name": "stderr",
          "text": [
            "\r 59%|█████▊    | 334/569 [00:28<00:18, 12.78it/s]"
          ]
        },
        {
          "output_type": "stream",
          "name": "stdout",
          "text": [
            "Tr-no_0399.jpg -> Class: notumor, Confidence: 1.00\n",
            "Saving Tr-no_0399.jpg to BT100/Training/notumor/20250328_215904_Tr-no_0399.jpg\n",
            "\u001b[1m1/1\u001b[0m \u001b[32m━━━━━━━━━━━━━━━━━━━━\u001b[0m\u001b[37m\u001b[0m \u001b[1m0s\u001b[0m 33ms/step\n",
            "Tr-pi_0162.jpg -> Class: pituitary, Confidence: 1.00\n",
            "Saving Tr-pi_0162.jpg to BT100/Training/pituitary/20250328_215904_Tr-pi_0162.jpg\n",
            "\u001b[1m1/1\u001b[0m \u001b[32m━━━━━━━━━━━━━━━━━━━━\u001b[0m\u001b[37m\u001b[0m \u001b[1m0s\u001b[0m 36ms/step\n"
          ]
        },
        {
          "output_type": "stream",
          "name": "stderr",
          "text": [
            "\r 59%|█████▉    | 336/569 [00:28<00:19, 12.05it/s]"
          ]
        },
        {
          "output_type": "stream",
          "name": "stdout",
          "text": [
            "Tr-me_1075.jpg -> Class: meningioma, Confidence: 1.00\n",
            "Saving Tr-me_1075.jpg to BT100/Training/meningioma/20250328_215904_Tr-me_1075.jpg\n",
            "\u001b[1m1/1\u001b[0m \u001b[32m━━━━━━━━━━━━━━━━━━━━\u001b[0m\u001b[37m\u001b[0m \u001b[1m0s\u001b[0m 36ms/step\n",
            "Tr-gl_1204.jpg -> Class: glioma, Confidence: 1.00\n",
            "Saving Tr-gl_1204.jpg to BT100/Training/glioma/20250328_215904_Tr-gl_1204.jpg\n",
            "\u001b[1m1/1\u001b[0m \u001b[32m━━━━━━━━━━━━━━━━━━━━\u001b[0m\u001b[37m\u001b[0m \u001b[1m0s\u001b[0m 31ms/step\n"
          ]
        },
        {
          "output_type": "stream",
          "name": "stderr",
          "text": [
            "\r 59%|█████▉    | 338/569 [00:28<00:20, 11.39it/s]"
          ]
        },
        {
          "output_type": "stream",
          "name": "stdout",
          "text": [
            "Tr-no_0894.jpg -> Class: notumor, Confidence: 1.00\n",
            "Saving Tr-no_0894.jpg to BT100/Training/notumor/20250328_215904_Tr-no_0894.jpg\n",
            "\u001b[1m1/1\u001b[0m \u001b[32m━━━━━━━━━━━━━━━━━━━━\u001b[0m\u001b[37m\u001b[0m \u001b[1m0s\u001b[0m 38ms/step\n",
            "Tr-no_1017.jpg -> Class: notumor, Confidence: 1.00\n",
            "Saving Tr-no_1017.jpg to BT100/Training/notumor/20250328_215904_Tr-no_1017.jpg\n",
            "\u001b[1m1/1\u001b[0m \u001b[32m━━━━━━━━━━━━━━━━━━━━\u001b[0m\u001b[37m\u001b[0m \u001b[1m0s\u001b[0m 31ms/step\n"
          ]
        },
        {
          "output_type": "stream",
          "name": "stderr",
          "text": [
            "\r 60%|█████▉    | 340/569 [00:28<00:20, 11.15it/s]"
          ]
        },
        {
          "output_type": "stream",
          "name": "stdout",
          "text": [
            "Tr-gl_0170.jpg -> Class: glioma, Confidence: 1.00\n",
            "Saving Tr-gl_0170.jpg to BT100/Training/glioma/20250328_215904_Tr-gl_0170.jpg\n",
            "\u001b[1m1/1\u001b[0m \u001b[32m━━━━━━━━━━━━━━━━━━━━\u001b[0m\u001b[37m\u001b[0m \u001b[1m0s\u001b[0m 29ms/step\n",
            "Tr-me_0472.jpg -> Class: meningioma, Confidence: 1.00\n",
            "Saving Tr-me_0472.jpg to BT100/Training/meningioma/20250328_215904_Tr-me_0472.jpg\n",
            "\u001b[1m1/1\u001b[0m \u001b[32m━━━━━━━━━━━━━━━━━━━━\u001b[0m\u001b[37m\u001b[0m \u001b[1m0s\u001b[0m 29ms/step\n"
          ]
        },
        {
          "output_type": "stream",
          "name": "stderr",
          "text": [
            "\r 60%|██████    | 342/569 [00:28<00:18, 11.97it/s]"
          ]
        },
        {
          "output_type": "stream",
          "name": "stdout",
          "text": [
            "Tr-pi_0873.jpg -> Class: pituitary, Confidence: 1.00\n",
            "Saving Tr-pi_0873.jpg to BT100/Training/pituitary/20250328_215904_Tr-pi_0873.jpg\n",
            "\u001b[1m1/1\u001b[0m \u001b[32m━━━━━━━━━━━━━━━━━━━━\u001b[0m\u001b[37m\u001b[0m \u001b[1m0s\u001b[0m 32ms/step\n",
            "Tr-pi_0150.jpg -> Class: pituitary, Confidence: 1.00\n",
            "Saving Tr-pi_0150.jpg to BT100/Training/pituitary/20250328_215904_Tr-pi_0150.jpg\n",
            "\u001b[1m1/1\u001b[0m \u001b[32m━━━━━━━━━━━━━━━━━━━━\u001b[0m\u001b[37m\u001b[0m \u001b[1m0s\u001b[0m 34ms/step\n"
          ]
        },
        {
          "output_type": "stream",
          "name": "stderr",
          "text": [
            "\r 60%|██████    | 344/569 [00:29<00:17, 12.55it/s]"
          ]
        },
        {
          "output_type": "stream",
          "name": "stdout",
          "text": [
            "Tr-gl_1078.jpg -> Class: glioma, Confidence: 1.00\n",
            "Saving Tr-gl_1078.jpg to BT100/Training/glioma/20250328_215905_Tr-gl_1078.jpg\n",
            "\u001b[1m1/1\u001b[0m \u001b[32m━━━━━━━━━━━━━━━━━━━━\u001b[0m\u001b[37m\u001b[0m \u001b[1m0s\u001b[0m 35ms/step\n",
            "Tr-no_0798.jpg -> Class: notumor, Confidence: 1.00\n",
            "Saving Tr-no_0798.jpg to BT100/Training/notumor/20250328_215905_Tr-no_0798.jpg\n",
            "\u001b[1m1/1\u001b[0m \u001b[32m━━━━━━━━━━━━━━━━━━━━\u001b[0m\u001b[37m\u001b[0m \u001b[1m0s\u001b[0m 32ms/step\n"
          ]
        },
        {
          "output_type": "stream",
          "name": "stderr",
          "text": [
            "\r 61%|██████    | 346/569 [00:29<00:18, 11.96it/s]"
          ]
        },
        {
          "output_type": "stream",
          "name": "stdout",
          "text": [
            "Tr-pi_0058.jpg -> Class: pituitary, Confidence: 1.00\n",
            "Saving Tr-pi_0058.jpg to BT100/Training/pituitary/20250328_215905_Tr-pi_0058.jpg\n",
            "\u001b[1m1/1\u001b[0m \u001b[32m━━━━━━━━━━━━━━━━━━━━\u001b[0m\u001b[37m\u001b[0m \u001b[1m0s\u001b[0m 32ms/step\n",
            "Tr-pi_0037.jpg -> Class: notumor, Confidence: 1.00\n",
            "Saving Tr-pi_0037.jpg to BT100/Training/notumor/20250328_215905_Tr-pi_0037.jpg\n",
            "\u001b[1m1/1\u001b[0m \u001b[32m━━━━━━━━━━━━━━━━━━━━\u001b[0m\u001b[37m\u001b[0m \u001b[1m0s\u001b[0m 42ms/step\n",
            "Tr-no_1096.jpg -> Class: notumor, Confidence: 1.00\n",
            "Saving Tr-no_1096.jpg to BT100/Training/notumor/20250328_215905_Tr-no_1096.jpg\n"
          ]
        },
        {
          "output_type": "stream",
          "name": "stderr",
          "text": [
            "\r 61%|██████    | 348/569 [00:29<00:19, 11.28it/s]"
          ]
        },
        {
          "output_type": "stream",
          "name": "stdout",
          "text": [
            "\u001b[1m1/1\u001b[0m \u001b[32m━━━━━━━━━━━━━━━━━━━━\u001b[0m\u001b[37m\u001b[0m \u001b[1m0s\u001b[0m 34ms/step\n",
            "Tr-me_1228.jpg -> Class: meningioma, Confidence: 1.00\n",
            "Saving Tr-me_1228.jpg to BT100/Training/meningioma/20250328_215905_Tr-me_1228.jpg\n",
            "\u001b[1m1/1\u001b[0m \u001b[32m━━━━━━━━━━━━━━━━━━━━\u001b[0m\u001b[37m\u001b[0m \u001b[1m0s\u001b[0m 32ms/step\n"
          ]
        },
        {
          "output_type": "stream",
          "name": "stderr",
          "text": [
            "\r 62%|██████▏   | 350/569 [00:29<00:18, 11.82it/s]"
          ]
        },
        {
          "output_type": "stream",
          "name": "stdout",
          "text": [
            "Tr-me_0589.jpg -> Class: notumor, Confidence: 1.00\n",
            "Saving Tr-me_0589.jpg to BT100/Training/notumor/20250328_215905_Tr-me_0589.jpg\n",
            "\u001b[1m1/1\u001b[0m \u001b[32m━━━━━━━━━━━━━━━━━━━━\u001b[0m\u001b[37m\u001b[0m \u001b[1m0s\u001b[0m 31ms/step\n",
            "Tr-me_0679.jpg -> Class: meningioma, Confidence: 1.00\n",
            "Saving Tr-me_0679.jpg to BT100/Training/meningioma/20250328_215905_Tr-me_0679.jpg\n",
            "\u001b[1m1/1\u001b[0m \u001b[32m━━━━━━━━━━━━━━━━━━━━\u001b[0m\u001b[37m\u001b[0m \u001b[1m0s\u001b[0m 33ms/step\n"
          ]
        },
        {
          "output_type": "stream",
          "name": "stderr",
          "text": [
            "\r 62%|██████▏   | 352/569 [00:29<00:17, 12.08it/s]"
          ]
        },
        {
          "output_type": "stream",
          "name": "stdout",
          "text": [
            "Tr-no_0671.jpg -> Class: notumor, Confidence: 1.00\n",
            "Saving Tr-no_0671.jpg to BT100/Training/notumor/20250328_215905_Tr-no_0671.jpg\n",
            "\u001b[1m1/1\u001b[0m \u001b[32m━━━━━━━━━━━━━━━━━━━━\u001b[0m\u001b[37m\u001b[0m \u001b[1m0s\u001b[0m 30ms/step\n",
            "Tr-me_0772.jpg -> Class: meningioma, Confidence: 1.00\n",
            "Saving Tr-me_0772.jpg to BT100/Training/meningioma/20250328_215905_Tr-me_0772.jpg\n",
            "\u001b[1m1/1\u001b[0m \u001b[32m━━━━━━━━━━━━━━━━━━━━\u001b[0m\u001b[37m\u001b[0m \u001b[1m0s\u001b[0m 30ms/step\n"
          ]
        },
        {
          "output_type": "stream",
          "name": "stderr",
          "text": [
            "\r 62%|██████▏   | 354/569 [00:29<00:17, 12.49it/s]"
          ]
        },
        {
          "output_type": "stream",
          "name": "stdout",
          "text": [
            "Tr-me_1129.jpg -> Class: meningioma, Confidence: 1.00\n",
            "Saving Tr-me_1129.jpg to BT100/Training/meningioma/20250328_215905_Tr-me_1129.jpg\n",
            "\u001b[1m1/1\u001b[0m \u001b[32m━━━━━━━━━━━━━━━━━━━━\u001b[0m\u001b[37m\u001b[0m \u001b[1m0s\u001b[0m 31ms/step\n",
            "Tr-no_0558.jpg -> Class: notumor, Confidence: 1.00\n",
            "Saving Tr-no_0558.jpg to BT100/Training/notumor/20250328_215905_Tr-no_0558.jpg\n",
            "\u001b[1m1/1\u001b[0m \u001b[32m━━━━━━━━━━━━━━━━━━━━\u001b[0m\u001b[37m\u001b[0m \u001b[1m0s\u001b[0m 36ms/step\n"
          ]
        },
        {
          "output_type": "stream",
          "name": "stderr",
          "text": [
            "\r 63%|██████▎   | 356/569 [00:30<00:18, 11.80it/s]"
          ]
        },
        {
          "output_type": "stream",
          "name": "stdout",
          "text": [
            "Tr-gl_1035.jpg -> Class: glioma, Confidence: 1.00\n",
            "Saving Tr-gl_1035.jpg to BT100/Training/glioma/20250328_215906_Tr-gl_1035.jpg\n",
            "\u001b[1m1/1\u001b[0m \u001b[32m━━━━━━━━━━━━━━━━━━━━\u001b[0m\u001b[37m\u001b[0m \u001b[1m0s\u001b[0m 33ms/step\n",
            "Tr-me_0781.jpg -> Class: meningioma, Confidence: 1.00\n",
            "Saving Tr-me_0781.jpg to BT100/Training/meningioma/20250328_215906_Tr-me_0781.jpg\n",
            "\u001b[1m1/1\u001b[0m \u001b[32m━━━━━━━━━━━━━━━━━━━━\u001b[0m\u001b[37m\u001b[0m \u001b[1m0s\u001b[0m 31ms/step\n"
          ]
        },
        {
          "output_type": "stream",
          "name": "stderr",
          "text": [
            "\r 63%|██████▎   | 358/569 [00:30<00:18, 11.42it/s]"
          ]
        },
        {
          "output_type": "stream",
          "name": "stdout",
          "text": [
            "Tr-me_0914.jpg -> Class: meningioma, Confidence: 1.00\n",
            "Saving Tr-me_0914.jpg to BT100/Training/meningioma/20250328_215906_Tr-me_0914.jpg\n",
            "\u001b[1m1/1\u001b[0m \u001b[32m━━━━━━━━━━━━━━━━━━━━\u001b[0m\u001b[37m\u001b[0m \u001b[1m0s\u001b[0m 32ms/step\n",
            "Tr-no_0766.jpg -> Class: notumor, Confidence: 1.00\n",
            "Saving Tr-no_0766.jpg to BT100/Training/notumor/20250328_215906_Tr-no_0766.jpg\n",
            "\u001b[1m1/1\u001b[0m \u001b[32m━━━━━━━━━━━━━━━━━━━━\u001b[0m\u001b[37m\u001b[0m \u001b[1m0s\u001b[0m 39ms/step\n",
            "Tr-pi_0946.jpg -> Class: pituitary, Confidence: 1.00"
          ]
        },
        {
          "output_type": "stream",
          "name": "stderr",
          "text": [
            "\r 63%|██████▎   | 360/569 [00:30<00:19, 10.94it/s]"
          ]
        },
        {
          "output_type": "stream",
          "name": "stdout",
          "text": [
            "\n",
            "Saving Tr-pi_0946.jpg to BT100/Training/pituitary/20250328_215906_Tr-pi_0946.jpg\n",
            "\u001b[1m1/1\u001b[0m \u001b[32m━━━━━━━━━━━━━━━━━━━━\u001b[0m\u001b[37m\u001b[0m \u001b[1m0s\u001b[0m 37ms/step\n",
            "Tr-no_0169.jpg -> Class: notumor, Confidence: 1.00\n",
            "Saving Tr-no_0169.jpg to BT100/Training/notumor/20250328_215906_Tr-no_0169.jpg\n",
            "\u001b[1m1/1\u001b[0m \u001b[32m━━━━━━━━━━━━━━━━━━━━\u001b[0m\u001b[37m\u001b[0m \u001b[1m0s\u001b[0m 30ms/step\n"
          ]
        },
        {
          "output_type": "stream",
          "name": "stderr",
          "text": [
            "\r 64%|██████▎   | 362/569 [00:30<00:19, 10.79it/s]"
          ]
        },
        {
          "output_type": "stream",
          "name": "stdout",
          "text": [
            "Tr-pi_0226.jpg -> Class: pituitary, Confidence: 1.00\n",
            "Saving Tr-pi_0226.jpg to BT100/Training/pituitary/20250328_215906_Tr-pi_0226.jpg\n",
            "\u001b[1m1/1\u001b[0m \u001b[32m━━━━━━━━━━━━━━━━━━━━\u001b[0m\u001b[37m\u001b[0m \u001b[1m0s\u001b[0m 42ms/step\n",
            "Tr-gl_1272.jpg -> Class: glioma, Confidence: 1.00\n",
            "Saving Tr-gl_1272.jpg to BT100/Training/glioma/20250328_215906_Tr-gl_1272.jpg\n",
            "\u001b[1m1/1\u001b[0m \u001b[32m━━━━━━━━━━━━━━━━━━━━\u001b[0m\u001b[37m\u001b[0m \u001b[1m0s\u001b[0m 29ms/step\n"
          ]
        },
        {
          "output_type": "stream",
          "name": "stderr",
          "text": [
            "\r 64%|██████▍   | 364/569 [00:30<00:18, 11.26it/s]"
          ]
        },
        {
          "output_type": "stream",
          "name": "stdout",
          "text": [
            "Tr-me_1152.jpg -> Class: meningioma, Confidence: 1.00\n",
            "Saving Tr-me_1152.jpg to BT100/Training/meningioma/20250328_215906_Tr-me_1152.jpg\n",
            "\u001b[1m1/1\u001b[0m \u001b[32m━━━━━━━━━━━━━━━━━━━━\u001b[0m\u001b[37m\u001b[0m \u001b[1m0s\u001b[0m 33ms/step\n",
            "Tr-gl_0396.jpg -> Class: glioma, Confidence: 1.00\n",
            "Saving Tr-gl_0396.jpg to BT100/Training/glioma/20250328_215906_Tr-gl_0396.jpg\n",
            "\u001b[1m1/1\u001b[0m \u001b[32m━━━━━━━━━━━━━━━━━━━━\u001b[0m\u001b[37m\u001b[0m \u001b[1m0s\u001b[0m 35ms/step\n"
          ]
        },
        {
          "output_type": "stream",
          "name": "stderr",
          "text": [
            "\r 64%|██████▍   | 366/569 [00:31<00:17, 11.94it/s]"
          ]
        },
        {
          "output_type": "stream",
          "name": "stdout",
          "text": [
            "Tr-me_0729.jpg -> Class: meningioma, Confidence: 1.00\n",
            "Saving Tr-me_0729.jpg to BT100/Training/meningioma/20250328_215906_Tr-me_0729.jpg\n",
            "\u001b[1m1/1\u001b[0m \u001b[32m━━━━━━━━━━━━━━━━━━━━\u001b[0m\u001b[37m\u001b[0m \u001b[1m0s\u001b[0m 34ms/step\n",
            "Tr-gl_0042.jpg -> Class: glioma, Confidence: 1.00\n",
            "Saving Tr-gl_0042.jpg to BT100/Training/glioma/20250328_215907_Tr-gl_0042.jpg\n",
            "\u001b[1m1/1\u001b[0m \u001b[32m━━━━━━━━━━━━━━━━━━━━\u001b[0m\u001b[37m\u001b[0m \u001b[1m0s\u001b[0m 33ms/step\n"
          ]
        },
        {
          "output_type": "stream",
          "name": "stderr",
          "text": [
            "\r 65%|██████▍   | 368/569 [00:31<00:16, 12.16it/s]"
          ]
        },
        {
          "output_type": "stream",
          "name": "stdout",
          "text": [
            "Tr-gl_0918.jpg -> Class: glioma, Confidence: 1.00\n",
            "Saving Tr-gl_0918.jpg to BT100/Training/glioma/20250328_215907_Tr-gl_0918.jpg\n",
            "\u001b[1m1/1\u001b[0m \u001b[32m━━━━━━━━━━━━━━━━━━━━\u001b[0m\u001b[37m\u001b[0m \u001b[1m0s\u001b[0m 32ms/step\n",
            "Tr-me_1005.jpg -> Class: meningioma, Confidence: 1.00\n",
            "Saving Tr-me_1005.jpg to BT100/Training/meningioma/20250328_215907_Tr-me_1005.jpg\n",
            "\u001b[1m1/1\u001b[0m \u001b[32m━━━━━━━━━━━━━━━━━━━━\u001b[0m\u001b[37m\u001b[0m \u001b[1m0s\u001b[0m 35ms/step\n"
          ]
        },
        {
          "output_type": "stream",
          "name": "stderr",
          "text": [
            "\r 65%|██████▌   | 370/569 [00:31<00:17, 11.54it/s]"
          ]
        },
        {
          "output_type": "stream",
          "name": "stdout",
          "text": [
            "Tr-me_0910.jpg -> Class: glioma, Confidence: 1.00\n",
            "Saving Tr-me_0910.jpg to BT100/Training/glioma/20250328_215907_Tr-me_0910.jpg\n",
            "\u001b[1m1/1\u001b[0m \u001b[32m━━━━━━━━━━━━━━━━━━━━\u001b[0m\u001b[37m\u001b[0m \u001b[1m0s\u001b[0m 43ms/step\n",
            "Tr-pi_1071.jpg -> Class: pituitary, Confidence: 1.00\n",
            "Saving Tr-pi_1071.jpg to BT100/Training/pituitary/20250328_215907_Tr-pi_1071.jpg\n",
            "\u001b[1m1/1\u001b[0m \u001b[32m━━━━━━━━━━━━━━━━━━━━\u001b[0m\u001b[37m\u001b[0m \u001b[1m0s\u001b[0m 35ms/step\n"
          ]
        },
        {
          "output_type": "stream",
          "name": "stderr",
          "text": [
            "\r 65%|██████▌   | 372/569 [00:31<00:18, 10.91it/s]"
          ]
        },
        {
          "output_type": "stream",
          "name": "stdout",
          "text": [
            "Tr-no_0868.jpg -> Class: notumor, Confidence: 1.00\n",
            "Saving Tr-no_0868.jpg to BT100/Training/notumor/20250328_215907_Tr-no_0868.jpg\n",
            "\u001b[1m1/1\u001b[0m \u001b[32m━━━━━━━━━━━━━━━━━━━━\u001b[0m\u001b[37m\u001b[0m \u001b[1m0s\u001b[0m 31ms/step\n",
            "Tr-me_1219.jpg -> Class: meningioma, Confidence: 1.00\n",
            "Saving Tr-me_1219.jpg to BT100/Training/meningioma/20250328_215907_Tr-me_1219.jpg\n",
            "\u001b[1m1/1\u001b[0m \u001b[32m━━━━━━━━━━━━━━━━━━━━\u001b[0m\u001b[37m\u001b[0m \u001b[1m0s\u001b[0m 32ms/step\n"
          ]
        },
        {
          "output_type": "stream",
          "name": "stderr",
          "text": [
            "\r 66%|██████▌   | 374/569 [00:31<00:16, 11.66it/s]"
          ]
        },
        {
          "output_type": "stream",
          "name": "stdout",
          "text": [
            "Tr-pi_1416.jpg -> Class: pituitary, Confidence: 1.00\n",
            "Saving Tr-pi_1416.jpg to BT100/Training/pituitary/20250328_215907_Tr-pi_1416.jpg\n",
            "\u001b[1m1/1\u001b[0m \u001b[32m━━━━━━━━━━━━━━━━━━━━\u001b[0m\u001b[37m\u001b[0m \u001b[1m0s\u001b[0m 41ms/step\n",
            "Tr-gl_0172.jpg -> Class: glioma, Confidence: 1.00\n",
            "Saving Tr-gl_0172.jpg to BT100/Training/glioma/20250328_215907_Tr-gl_0172.jpg\n",
            "\u001b[1m1/1\u001b[0m \u001b[32m━━━━━━━━━━━━━━━━━━━━\u001b[0m\u001b[37m\u001b[0m \u001b[1m0s\u001b[0m 33ms/step\n"
          ]
        },
        {
          "output_type": "stream",
          "name": "stderr",
          "text": [
            "\r 66%|██████▌   | 376/569 [00:31<00:16, 11.90it/s]"
          ]
        },
        {
          "output_type": "stream",
          "name": "stdout",
          "text": [
            "Tr-me_0825.jpg -> Class: meningioma, Confidence: 1.00\n",
            "Saving Tr-me_0825.jpg to BT100/Training/meningioma/20250328_215907_Tr-me_0825.jpg\n",
            "\u001b[1m1/1\u001b[0m \u001b[32m━━━━━━━━━━━━━━━━━━━━\u001b[0m\u001b[37m\u001b[0m \u001b[1m0s\u001b[0m 30ms/step\n",
            "Tr-no_1039.jpg -> Class: notumor, Confidence: 1.00\n",
            "Saving Tr-no_1039.jpg to BT100/Training/notumor/20250328_215907_Tr-no_1039.jpg\n",
            "\u001b[1m1/1\u001b[0m \u001b[32m━━━━━━━━━━━━━━━━━━━━\u001b[0m\u001b[37m\u001b[0m \u001b[1m0s\u001b[0m 31ms/step\n"
          ]
        },
        {
          "output_type": "stream",
          "name": "stderr",
          "text": [
            "\r 66%|██████▋   | 378/569 [00:32<00:15, 12.36it/s]"
          ]
        },
        {
          "output_type": "stream",
          "name": "stdout",
          "text": [
            "Tr-gl_0442.jpg -> Class: glioma, Confidence: 1.00\n",
            "Saving Tr-gl_0442.jpg to BT100/Training/glioma/20250328_215907_Tr-gl_0442.jpg\n",
            "\u001b[1m1/1\u001b[0m \u001b[32m━━━━━━━━━━━━━━━━━━━━\u001b[0m\u001b[37m\u001b[0m \u001b[1m0s\u001b[0m 34ms/step\n",
            "Tr-no_0373.jpg -> Class: notumor, Confidence: 1.00\n",
            "Saving Tr-no_0373.jpg to BT100/Training/notumor/20250328_215908_Tr-no_0373.jpg\n",
            "\u001b[1m1/1\u001b[0m \u001b[32m━━━━━━━━━━━━━━━━━━━━\u001b[0m\u001b[37m\u001b[0m \u001b[1m0s\u001b[0m 31ms/step\n"
          ]
        },
        {
          "output_type": "stream",
          "name": "stderr",
          "text": [
            "\r 67%|██████▋   | 380/569 [00:32<00:16, 11.70it/s]"
          ]
        },
        {
          "output_type": "stream",
          "name": "stdout",
          "text": [
            "Tr-me_0997.jpg -> Class: meningioma, Confidence: 1.00\n",
            "Saving Tr-me_0997.jpg to BT100/Training/meningioma/20250328_215908_Tr-me_0997.jpg\n",
            "\u001b[1m1/1\u001b[0m \u001b[32m━━━━━━━━━━━━━━━━━━━━\u001b[0m\u001b[37m\u001b[0m \u001b[1m0s\u001b[0m 31ms/step\n",
            "Tr-me_0985.jpg -> Class: meningioma, Confidence: 1.00\n",
            "Saving Tr-me_0985.jpg to BT100/Training/meningioma/20250328_215908_Tr-me_0985.jpg\n",
            "\u001b[1m1/1\u001b[0m \u001b[32m━━━━━━━━━━━━━━━━━━━━\u001b[0m\u001b[37m\u001b[0m \u001b[1m0s\u001b[0m 35ms/step\n"
          ]
        },
        {
          "output_type": "stream",
          "name": "stderr",
          "text": [
            "\r 67%|██████▋   | 382/569 [00:32<00:16, 11.37it/s]"
          ]
        },
        {
          "output_type": "stream",
          "name": "stdout",
          "text": [
            "Tr-gl_1005.jpg -> Class: glioma, Confidence: 1.00\n",
            "Saving Tr-gl_1005.jpg to BT100/Training/glioma/20250328_215908_Tr-gl_1005.jpg\n",
            "\u001b[1m1/1\u001b[0m \u001b[32m━━━━━━━━━━━━━━━━━━━━\u001b[0m\u001b[37m\u001b[0m \u001b[1m0s\u001b[0m 37ms/step\n",
            "Tr-pi_0323.jpg -> Class: pituitary, Confidence: 1.00\n",
            "Saving Tr-pi_0323.jpg to BT100/Training/pituitary/20250328_215908_Tr-pi_0323.jpg\n",
            "\u001b[1m1/1\u001b[0m \u001b[32m━━━━━━━━━━━━━━━━━━━━\u001b[0m\u001b[37m\u001b[0m \u001b[1m0s\u001b[0m 31ms/step\n"
          ]
        },
        {
          "output_type": "stream",
          "name": "stderr",
          "text": [
            "\r 67%|██████▋   | 384/569 [00:32<00:16, 10.97it/s]"
          ]
        },
        {
          "output_type": "stream",
          "name": "stdout",
          "text": [
            "Tr-pi_0579.jpg -> Class: pituitary, Confidence: 1.00\n",
            "Saving Tr-pi_0579.jpg to BT100/Training/pituitary/20250328_215908_Tr-pi_0579.jpg\n",
            "\u001b[1m1/1\u001b[0m \u001b[32m━━━━━━━━━━━━━━━━━━━━\u001b[0m\u001b[37m\u001b[0m \u001b[1m0s\u001b[0m 31ms/step\n",
            "Tr-me_0763.jpg -> Class: meningioma, Confidence: 1.00\n",
            "Saving Tr-me_0763.jpg to BT100/Training/meningioma/20250328_215908_Tr-me_0763.jpg\n",
            "\u001b[1m1/1\u001b[0m \u001b[32m━━━━━━━━━━━━━━━━━━━━\u001b[0m\u001b[37m\u001b[0m \u001b[1m0s\u001b[0m 30ms/step\n"
          ]
        },
        {
          "output_type": "stream",
          "name": "stderr",
          "text": [
            "\r 68%|██████▊   | 386/569 [00:32<00:15, 11.57it/s]"
          ]
        },
        {
          "output_type": "stream",
          "name": "stdout",
          "text": [
            "Tr-pi_0330.jpg -> Class: pituitary, Confidence: 1.00\n",
            "Saving Tr-pi_0330.jpg to BT100/Training/pituitary/20250328_215908_Tr-pi_0330.jpg\n",
            "\u001b[1m1/1\u001b[0m \u001b[32m━━━━━━━━━━━━━━━━━━━━\u001b[0m\u001b[37m\u001b[0m \u001b[1m0s\u001b[0m 37ms/step\n",
            "Tr-no_0299.jpg -> Class: notumor, Confidence: 1.00\n",
            "Saving Tr-no_0299.jpg to BT100/Training/notumor/20250328_215908_Tr-no_0299.jpg\n",
            "\u001b[1m1/1\u001b[0m \u001b[32m━━━━━━━━━━━━━━━━━━━━\u001b[0m\u001b[37m\u001b[0m \u001b[1m0s\u001b[0m 31ms/step\n"
          ]
        },
        {
          "output_type": "stream",
          "name": "stderr",
          "text": [
            "\r 68%|██████▊   | 388/569 [00:32<00:15, 11.96it/s]"
          ]
        },
        {
          "output_type": "stream",
          "name": "stdout",
          "text": [
            "Tr-pi_1430.jpg -> Class: pituitary, Confidence: 1.00\n",
            "Saving Tr-pi_1430.jpg to BT100/Training/pituitary/20250328_215908_Tr-pi_1430.jpg\n",
            "\u001b[1m1/1\u001b[0m \u001b[32m━━━━━━━━━━━━━━━━━━━━\u001b[0m\u001b[37m\u001b[0m \u001b[1m0s\u001b[0m 30ms/step\n",
            "Tr-no_0919.jpg -> Class: notumor, Confidence: 1.00\n",
            "Saving Tr-no_0919.jpg to BT100/Training/notumor/20250328_215908_Tr-no_0919.jpg\n",
            "\u001b[1m1/1\u001b[0m \u001b[32m━━━━━━━━━━━━━━━━━━━━\u001b[0m\u001b[37m\u001b[0m \u001b[1m0s\u001b[0m 33ms/step\n"
          ]
        },
        {
          "output_type": "stream",
          "name": "stderr",
          "text": [
            "\r 69%|██████▊   | 390/569 [00:33<00:14, 12.47it/s]"
          ]
        },
        {
          "output_type": "stream",
          "name": "stdout",
          "text": [
            "Tr-no_1449.jpg -> Class: notumor, Confidence: 1.00\n",
            "Saving Tr-no_1449.jpg to BT100/Training/notumor/20250328_215909_Tr-no_1449.jpg\n",
            "\u001b[1m1/1\u001b[0m \u001b[32m━━━━━━━━━━━━━━━━━━━━\u001b[0m\u001b[37m\u001b[0m \u001b[1m0s\u001b[0m 34ms/step\n",
            "Tr-gl_0402.jpg -> Class: glioma, Confidence: 1.00\n",
            "Saving Tr-gl_0402.jpg to BT100/Training/glioma/20250328_215909_Tr-gl_0402.jpg\n",
            "\u001b[1m1/1\u001b[0m \u001b[32m━━━━━━━━━━━━━━━━━━━━\u001b[0m\u001b[37m\u001b[0m \u001b[1m0s\u001b[0m 32ms/step\n"
          ]
        },
        {
          "output_type": "stream",
          "name": "stderr",
          "text": [
            "\r 69%|██████▉   | 392/569 [00:33<00:13, 12.83it/s]"
          ]
        },
        {
          "output_type": "stream",
          "name": "stdout",
          "text": [
            "Tr-pi_1052.jpg -> Class: pituitary, Confidence: 1.00\n",
            "Saving Tr-pi_1052.jpg to BT100/Training/pituitary/20250328_215909_Tr-pi_1052.jpg\n",
            "\u001b[1m1/1\u001b[0m \u001b[32m━━━━━━━━━━━━━━━━━━━━\u001b[0m\u001b[37m\u001b[0m \u001b[1m0s\u001b[0m 34ms/step\n",
            "Tr-me_1100.jpg -> Class: meningioma, Confidence: 1.00\n",
            "Saving Tr-me_1100.jpg to BT100/Training/meningioma/20250328_215909_Tr-me_1100.jpg\n",
            "\u001b[1m1/1\u001b[0m \u001b[32m━━━━━━━━━━━━━━━━━━━━\u001b[0m\u001b[37m\u001b[0m \u001b[1m0s\u001b[0m 34ms/step\n"
          ]
        },
        {
          "output_type": "stream",
          "name": "stderr",
          "text": [
            "\r 69%|██████▉   | 394/569 [00:33<00:13, 13.16it/s]"
          ]
        },
        {
          "output_type": "stream",
          "name": "stdout",
          "text": [
            "Tr-me_0728.jpg -> Class: meningioma, Confidence: 1.00\n",
            "Saving Tr-me_0728.jpg to BT100/Training/meningioma/20250328_215909_Tr-me_0728.jpg\n",
            "\u001b[1m1/1\u001b[0m \u001b[32m━━━━━━━━━━━━━━━━━━━━\u001b[0m\u001b[37m\u001b[0m \u001b[1m0s\u001b[0m 35ms/step\n",
            "Tr-no_0778.jpg -> Class: notumor, Confidence: 1.00\n",
            "Saving Tr-no_0778.jpg to BT100/Training/notumor/20250328_215909_Tr-no_0778.jpg\n",
            "\u001b[1m1/1\u001b[0m \u001b[32m━━━━━━━━━━━━━━━━━━━━\u001b[0m\u001b[37m\u001b[0m \u001b[1m0s\u001b[0m 37ms/step\n"
          ]
        },
        {
          "output_type": "stream",
          "name": "stderr",
          "text": [
            "\r 70%|██████▉   | 396/569 [00:33<00:14, 11.98it/s]"
          ]
        },
        {
          "output_type": "stream",
          "name": "stdout",
          "text": [
            "Tr-no_1507.jpg -> Class: notumor, Confidence: 1.00\n",
            "Saving Tr-no_1507.jpg to BT100/Training/notumor/20250328_215909_Tr-no_1507.jpg\n",
            "\u001b[1m1/1\u001b[0m \u001b[32m━━━━━━━━━━━━━━━━━━━━\u001b[0m\u001b[37m\u001b[0m \u001b[1m0s\u001b[0m 33ms/step\n",
            "Tr-no_0697.jpg -> Class: notumor, Confidence: 1.00\n",
            "Saving Tr-no_0697.jpg to BT100/Training/notumor/20250328_215909_Tr-no_0697.jpg\n",
            "\u001b[1m1/1\u001b[0m \u001b[32m━━━━━━━━━━━━━━━━━━━━\u001b[0m\u001b[37m\u001b[0m \u001b[1m0s\u001b[0m 35ms/step\n"
          ]
        },
        {
          "output_type": "stream",
          "name": "stderr",
          "text": [
            "\r 70%|██████▉   | 398/569 [00:33<00:15, 10.93it/s]"
          ]
        },
        {
          "output_type": "stream",
          "name": "stdout",
          "text": [
            "Tr-gl_0594.jpg -> Class: glioma, Confidence: 1.00\n",
            "Saving Tr-gl_0594.jpg to BT100/Training/glioma/20250328_215909_Tr-gl_0594.jpg\n",
            "\u001b[1m1/1\u001b[0m \u001b[32m━━━━━━━━━━━━━━━━━━━━\u001b[0m\u001b[37m\u001b[0m \u001b[1m0s\u001b[0m 35ms/step\n",
            "Tr-gl_1221.jpg -> Class: glioma, Confidence: 0.53\n",
            "\u001b[1m1/1\u001b[0m \u001b[32m━━━━━━━━━━━━━━━━━━━━\u001b[0m\u001b[37m\u001b[0m \u001b[1m0s\u001b[0m 33ms/step\n"
          ]
        },
        {
          "output_type": "stream",
          "name": "stderr",
          "text": [
            "\r 70%|███████   | 400/569 [00:33<00:15, 10.90it/s]"
          ]
        },
        {
          "output_type": "stream",
          "name": "stdout",
          "text": [
            "Tr-me_1007.jpg -> Class: meningioma, Confidence: 1.00\n",
            "Saving Tr-me_1007.jpg to BT100/Training/meningioma/20250328_215909_Tr-me_1007.jpg\n",
            "\u001b[1m1/1\u001b[0m \u001b[32m━━━━━━━━━━━━━━━━━━━━\u001b[0m\u001b[37m\u001b[0m \u001b[1m0s\u001b[0m 32ms/step\n",
            "Tr-pi_1026.jpg -> Class: pituitary, Confidence: 1.00\n",
            "Saving Tr-pi_1026.jpg to BT100/Training/pituitary/20250328_215909_Tr-pi_1026.jpg\n",
            "\u001b[1m1/1\u001b[0m \u001b[32m━━━━━━━━━━━━━━━━━━━━\u001b[0m\u001b[37m\u001b[0m \u001b[1m0s\u001b[0m 30ms/step\n"
          ]
        },
        {
          "output_type": "stream",
          "name": "stderr",
          "text": [
            "\r 71%|███████   | 402/569 [00:34<00:14, 11.57it/s]"
          ]
        },
        {
          "output_type": "stream",
          "name": "stdout",
          "text": [
            "Tr-pi_0987.jpg -> Class: pituitary, Confidence: 1.00\n",
            "Saving Tr-pi_0987.jpg to BT100/Training/pituitary/20250328_215910_Tr-pi_0987.jpg\n",
            "\u001b[1m1/1\u001b[0m \u001b[32m━━━━━━━━━━━━━━━━━━━━\u001b[0m\u001b[37m\u001b[0m \u001b[1m0s\u001b[0m 29ms/step\n",
            "Tr-no_0725.jpg -> Class: notumor, Confidence: 1.00\n",
            "Saving Tr-no_0725.jpg to BT100/Training/notumor/20250328_215910_Tr-no_0725.jpg\n",
            "\u001b[1m1/1\u001b[0m \u001b[32m━━━━━━━━━━━━━━━━━━━━\u001b[0m\u001b[37m\u001b[0m \u001b[1m0s\u001b[0m 33ms/step\n"
          ]
        },
        {
          "output_type": "stream",
          "name": "stderr",
          "text": [
            "\r 71%|███████   | 404/569 [00:34<00:14, 11.23it/s]"
          ]
        },
        {
          "output_type": "stream",
          "name": "stdout",
          "text": [
            "Tr-no_1215.jpg -> Class: notumor, Confidence: 1.00\n",
            "Saving Tr-no_1215.jpg to BT100/Training/notumor/20250328_215910_Tr-no_1215.jpg\n",
            "\u001b[1m1/1\u001b[0m \u001b[32m━━━━━━━━━━━━━━━━━━━━\u001b[0m\u001b[37m\u001b[0m \u001b[1m0s\u001b[0m 35ms/step\n",
            "Tr-no_1403.jpg -> Class: notumor, Confidence: 1.00\n",
            "Saving Tr-no_1403.jpg to BT100/Training/notumor/20250328_215910_Tr-no_1403.jpg\n",
            "\u001b[1m1/1\u001b[0m \u001b[32m━━━━━━━━━━━━━━━━━━━━\u001b[0m\u001b[37m\u001b[0m \u001b[1m0s\u001b[0m 44ms/step\n"
          ]
        },
        {
          "output_type": "stream",
          "name": "stderr",
          "text": [
            "\r 71%|███████▏  | 406/569 [00:34<00:14, 11.44it/s]"
          ]
        },
        {
          "output_type": "stream",
          "name": "stdout",
          "text": [
            "Tr-pi_0329.jpg -> Class: pituitary, Confidence: 1.00\n",
            "Saving Tr-pi_0329.jpg to BT100/Training/pituitary/20250328_215910_Tr-pi_0329.jpg\n",
            "\u001b[1m1/1\u001b[0m \u001b[32m━━━━━━━━━━━━━━━━━━━━\u001b[0m\u001b[37m\u001b[0m \u001b[1m0s\u001b[0m 32ms/step\n",
            "Tr-pi_0794.jpg -> Class: pituitary, Confidence: 1.00\n",
            "Saving Tr-pi_0794.jpg to BT100/Training/pituitary/20250328_215910_Tr-pi_0794.jpg\n",
            "\u001b[1m1/1\u001b[0m \u001b[32m━━━━━━━━━━━━━━━━━━━━\u001b[0m\u001b[37m\u001b[0m \u001b[1m0s\u001b[0m 32ms/step\n"
          ]
        },
        {
          "output_type": "stream",
          "name": "stderr",
          "text": [
            "\r 72%|███████▏  | 408/569 [00:34<00:14, 11.05it/s]"
          ]
        },
        {
          "output_type": "stream",
          "name": "stdout",
          "text": [
            "Tr-gl_1253.jpg -> Class: glioma, Confidence: 1.00\n",
            "Saving Tr-gl_1253.jpg to BT100/Training/glioma/20250328_215910_Tr-gl_1253.jpg\n",
            "\u001b[1m1/1\u001b[0m \u001b[32m━━━━━━━━━━━━━━━━━━━━\u001b[0m\u001b[37m\u001b[0m \u001b[1m0s\u001b[0m 34ms/step\n",
            "Tr-me_0040.jpg -> Class: meningioma, Confidence: 1.00\n",
            "Saving Tr-me_0040.jpg to BT100/Training/meningioma/20250328_215910_Tr-me_0040.jpg\n",
            "\u001b[1m1/1\u001b[0m \u001b[32m━━━━━━━━━━━━━━━━━━━━\u001b[0m\u001b[37m\u001b[0m \u001b[1m0s\u001b[0m 30ms/step\n"
          ]
        },
        {
          "output_type": "stream",
          "name": "stderr",
          "text": [
            "\r 72%|███████▏  | 410/569 [00:34<00:14, 10.95it/s]"
          ]
        },
        {
          "output_type": "stream",
          "name": "stdout",
          "text": [
            "Tr-me_0540.jpg -> Class: glioma, Confidence: 0.99\n",
            "Saving Tr-me_0540.jpg to BT100/Training/glioma/20250328_215910_Tr-me_0540.jpg\n",
            "\u001b[1m1/1\u001b[0m \u001b[32m━━━━━━━━━━━━━━━━━━━━\u001b[0m\u001b[37m\u001b[0m \u001b[1m0s\u001b[0m 30ms/step\n",
            "Tr-gl_0475.jpg -> Class: glioma, Confidence: 1.00\n",
            "Saving Tr-gl_0475.jpg to BT100/Training/glioma/20250328_215910_Tr-gl_0475.jpg\n",
            "\u001b[1m1/1\u001b[0m \u001b[32m━━━━━━━━━━━━━━━━━━━━\u001b[0m\u001b[37m\u001b[0m \u001b[1m0s\u001b[0m 29ms/step\n"
          ]
        },
        {
          "output_type": "stream",
          "name": "stderr",
          "text": [
            "\r 72%|███████▏  | 412/569 [00:34<00:13, 11.51it/s]"
          ]
        },
        {
          "output_type": "stream",
          "name": "stdout",
          "text": [
            "Tr-me_0024.jpg -> Class: meningioma, Confidence: 1.00\n",
            "Saving Tr-me_0024.jpg to BT100/Training/meningioma/20250328_215910_Tr-me_0024.jpg\n",
            "\u001b[1m1/1\u001b[0m \u001b[32m━━━━━━━━━━━━━━━━━━━━\u001b[0m\u001b[37m\u001b[0m \u001b[1m0s\u001b[0m 30ms/step\n",
            "Tr-no_1179.jpg -> Class: notumor, Confidence: 1.00\n",
            "Saving Tr-no_1179.jpg to BT100/Training/notumor/20250328_215911_Tr-no_1179.jpg\n",
            "\u001b[1m1/1\u001b[0m \u001b[32m━━━━━━━━━━━━━━━━━━━━\u001b[0m\u001b[37m\u001b[0m \u001b[1m0s\u001b[0m 36ms/step\n"
          ]
        },
        {
          "output_type": "stream",
          "name": "stderr",
          "text": [
            "\r 73%|███████▎  | 414/569 [00:35<00:12, 12.11it/s]"
          ]
        },
        {
          "output_type": "stream",
          "name": "stdout",
          "text": [
            "Tr-pi_1313.jpg -> Class: pituitary, Confidence: 1.00\n",
            "Saving Tr-pi_1313.jpg to BT100/Training/pituitary/20250328_215911_Tr-pi_1313.jpg\n",
            "\u001b[1m1/1\u001b[0m \u001b[32m━━━━━━━━━━━━━━━━━━━━\u001b[0m\u001b[37m\u001b[0m \u001b[1m0s\u001b[0m 34ms/step\n",
            "Tr-pi_0190.jpg -> Class: pituitary, Confidence: 1.00\n",
            "Saving Tr-pi_0190.jpg to BT100/Training/pituitary/20250328_215911_Tr-pi_0190.jpg\n",
            "\u001b[1m1/1\u001b[0m \u001b[32m━━━━━━━━━━━━━━━━━━━━\u001b[0m\u001b[37m\u001b[0m \u001b[1m0s\u001b[0m 41ms/step\n"
          ]
        },
        {
          "output_type": "stream",
          "name": "stderr",
          "text": [
            "\r 73%|███████▎  | 416/569 [00:35<00:13, 11.52it/s]"
          ]
        },
        {
          "output_type": "stream",
          "name": "stdout",
          "text": [
            "Tr-pi_0996.jpg -> Class: pituitary, Confidence: 1.00\n",
            "Saving Tr-pi_0996.jpg to BT100/Training/pituitary/20250328_215911_Tr-pi_0996.jpg\n",
            "\u001b[1m1/1\u001b[0m \u001b[32m━━━━━━━━━━━━━━━━━━━━\u001b[0m\u001b[37m\u001b[0m \u001b[1m0s\u001b[0m 32ms/step\n",
            "Tr-no_1565.jpg -> Class: notumor, Confidence: 1.00\n",
            "Saving Tr-no_1565.jpg to BT100/Training/notumor/20250328_215911_Tr-no_1565.jpg\n",
            "\u001b[1m1/1\u001b[0m \u001b[32m━━━━━━━━━━━━━━━━━━━━\u001b[0m\u001b[37m\u001b[0m \u001b[1m0s\u001b[0m 56ms/step\n"
          ]
        },
        {
          "output_type": "stream",
          "name": "stderr",
          "text": [
            "\r 73%|███████▎  | 418/569 [00:35<00:13, 10.92it/s]"
          ]
        },
        {
          "output_type": "stream",
          "name": "stdout",
          "text": [
            "Tr-me_0335.jpg -> Class: notumor, Confidence: 1.00\n",
            "Saving Tr-me_0335.jpg to BT100/Training/notumor/20250328_215911_Tr-me_0335.jpg\n",
            "\u001b[1m1/1\u001b[0m \u001b[32m━━━━━━━━━━━━━━━━━━━━\u001b[0m\u001b[37m\u001b[0m \u001b[1m0s\u001b[0m 35ms/step\n",
            "Tr-gl_0019.jpg -> Class: glioma, Confidence: 1.00\n",
            "Saving Tr-gl_0019.jpg to BT100/Training/glioma/20250328_215911_Tr-gl_0019.jpg\n",
            "\u001b[1m1/1\u001b[0m \u001b[32m━━━━━━━━━━━━━━━━━━━━\u001b[0m\u001b[37m\u001b[0m \u001b[1m0s\u001b[0m 30ms/step\n"
          ]
        },
        {
          "output_type": "stream",
          "name": "stderr",
          "text": [
            "\r 74%|███████▍  | 420/569 [00:35<00:13, 10.79it/s]"
          ]
        },
        {
          "output_type": "stream",
          "name": "stdout",
          "text": [
            "Tr-pi_1193.jpg -> Class: pituitary, Confidence: 1.00\n",
            "Saving Tr-pi_1193.jpg to BT100/Training/pituitary/20250328_215911_Tr-pi_1193.jpg\n",
            "\u001b[1m1/1\u001b[0m \u001b[32m━━━━━━━━━━━━━━━━━━━━\u001b[0m\u001b[37m\u001b[0m \u001b[1m0s\u001b[0m 30ms/step\n",
            "Tr-gl_0601.jpg -> Class: glioma, Confidence: 1.00\n",
            "Saving Tr-gl_0601.jpg to BT100/Training/glioma/20250328_215911_Tr-gl_0601.jpg\n",
            "\u001b[1m1/1\u001b[0m \u001b[32m━━━━━━━━━━━━━━━━━━━━\u001b[0m\u001b[37m\u001b[0m \u001b[1m0s\u001b[0m 30ms/step\n"
          ]
        },
        {
          "output_type": "stream",
          "name": "stderr",
          "text": [
            "\r 74%|███████▍  | 422/569 [00:35<00:12, 11.64it/s]"
          ]
        },
        {
          "output_type": "stream",
          "name": "stdout",
          "text": [
            "Tr-gl_0957.jpg -> Class: glioma, Confidence: 1.00\n",
            "Saving Tr-gl_0957.jpg to BT100/Training/glioma/20250328_215911_Tr-gl_0957.jpg\n",
            "\u001b[1m1/1\u001b[0m \u001b[32m━━━━━━━━━━━━━━━━━━━━\u001b[0m\u001b[37m\u001b[0m \u001b[1m0s\u001b[0m 34ms/step\n",
            "Tr-pi_0923.jpg -> Class: pituitary, Confidence: 1.00\n",
            "Saving Tr-pi_0923.jpg to BT100/Training/pituitary/20250328_215911_Tr-pi_0923.jpg\n",
            "\u001b[1m1/1\u001b[0m \u001b[32m━━━━━━━━━━━━━━━━━━━━\u001b[0m\u001b[37m\u001b[0m \u001b[1m0s\u001b[0m 34ms/step\n"
          ]
        },
        {
          "output_type": "stream",
          "name": "stderr",
          "text": [
            "\r 75%|███████▍  | 424/569 [00:36<00:12, 12.00it/s]"
          ]
        },
        {
          "output_type": "stream",
          "name": "stdout",
          "text": [
            "Tr-pi_0599.jpg -> Class: pituitary, Confidence: 1.00\n",
            "Saving Tr-pi_0599.jpg to BT100/Training/pituitary/20250328_215911_Tr-pi_0599.jpg\n",
            "\u001b[1m1/1\u001b[0m \u001b[32m━━━━━━━━━━━━━━━━━━━━\u001b[0m\u001b[37m\u001b[0m \u001b[1m0s\u001b[0m 30ms/step\n",
            "Tr-gl_0358.jpg -> Class: notumor, Confidence: 0.91\n",
            "\u001b[1m1/1\u001b[0m \u001b[32m━━━━━━━━━━━━━━━━━━━━\u001b[0m\u001b[37m\u001b[0m \u001b[1m0s\u001b[0m 31ms/step\n"
          ]
        },
        {
          "output_type": "stream",
          "name": "stderr",
          "text": [
            "\r 75%|███████▍  | 426/569 [00:36<00:11, 12.45it/s]"
          ]
        },
        {
          "output_type": "stream",
          "name": "stdout",
          "text": [
            "Tr-piTr_0003.jpg -> Class: pituitary, Confidence: 1.00\n",
            "Saving Tr-piTr_0003.jpg to BT100/Training/pituitary/20250328_215912_Tr-piTr_0003.jpg\n",
            "\u001b[1m1/1\u001b[0m \u001b[32m━━━━━━━━━━━━━━━━━━━━\u001b[0m\u001b[37m\u001b[0m \u001b[1m0s\u001b[0m 33ms/step\n",
            "Tr-me_0189.jpg -> Class: meningioma, Confidence: 1.00\n",
            "Saving Tr-me_0189.jpg to BT100/Training/meningioma/20250328_215912_Tr-me_0189.jpg\n",
            "\u001b[1m1/1\u001b[0m \u001b[32m━━━━━━━━━━━━━━━━━━━━\u001b[0m\u001b[37m\u001b[0m \u001b[1m0s\u001b[0m 35ms/step\n",
            "Tr-me_0362.jpg -> Class: meningioma, Confidence: 1.00\n",
            "Saving Tr-me_0362.jpg to BT100/Training/meningioma/20250328_215912_Tr-me_0362.jpg\n"
          ]
        },
        {
          "output_type": "stream",
          "name": "stderr",
          "text": [
            "\r 75%|███████▌  | 428/569 [00:36<00:12, 11.54it/s]"
          ]
        },
        {
          "output_type": "stream",
          "name": "stdout",
          "text": [
            "\u001b[1m1/1\u001b[0m \u001b[32m━━━━━━━━━━━━━━━━━━━━\u001b[0m\u001b[37m\u001b[0m \u001b[1m0s\u001b[0m 42ms/step\n",
            "Tr-me_0439.jpg -> Class: meningioma, Confidence: 1.00\n",
            "Saving Tr-me_0439.jpg to BT100/Training/meningioma/20250328_215912_Tr-me_0439.jpg\n",
            "\u001b[1m1/1\u001b[0m \u001b[32m━━━━━━━━━━━━━━━━━━━━\u001b[0m\u001b[37m\u001b[0m \u001b[1m0s\u001b[0m 34ms/step\n"
          ]
        },
        {
          "output_type": "stream",
          "name": "stderr",
          "text": [
            "\r 76%|███████▌  | 430/569 [00:36<00:13, 10.39it/s]"
          ]
        },
        {
          "output_type": "stream",
          "name": "stdout",
          "text": [
            "Tr-gl_0917.jpg -> Class: glioma, Confidence: 1.00\n",
            "Saving Tr-gl_0917.jpg to BT100/Training/glioma/20250328_215912_Tr-gl_0917.jpg\n",
            "\u001b[1m1/1\u001b[0m \u001b[32m━━━━━━━━━━━━━━━━━━━━\u001b[0m\u001b[37m\u001b[0m \u001b[1m0s\u001b[0m 35ms/step\n",
            "Tr-no_0296.jpg -> Class: notumor, Confidence: 1.00\n",
            "Saving Tr-no_0296.jpg to BT100/Training/notumor/20250328_215912_Tr-no_0296.jpg\n",
            "\u001b[1m1/1\u001b[0m \u001b[32m━━━━━━━━━━━━━━━━━━━━\u001b[0m\u001b[37m\u001b[0m \u001b[1m0s\u001b[0m 36ms/step\n"
          ]
        },
        {
          "output_type": "stream",
          "name": "stderr",
          "text": [
            "\r 76%|███████▌  | 432/569 [00:36<00:14,  9.77it/s]"
          ]
        },
        {
          "output_type": "stream",
          "name": "stdout",
          "text": [
            "Tr-pi_0017.jpg -> Class: pituitary, Confidence: 1.00\n",
            "Saving Tr-pi_0017.jpg to BT100/Training/pituitary/20250328_215912_Tr-pi_0017.jpg\n",
            "\u001b[1m1/1\u001b[0m \u001b[32m━━━━━━━━━━━━━━━━━━━━\u001b[0m\u001b[37m\u001b[0m \u001b[1m0s\u001b[0m 31ms/step\n",
            "Tr-pi_0185.jpg -> Class: pituitary, Confidence: 1.00\n",
            "Saving Tr-pi_0185.jpg to BT100/Training/pituitary/20250328_215912_Tr-pi_0185.jpg\n",
            "\u001b[1m1/1\u001b[0m \u001b[32m━━━━━━━━━━━━━━━━━━━━\u001b[0m\u001b[37m\u001b[0m \u001b[1m0s\u001b[0m 30ms/step\n"
          ]
        },
        {
          "output_type": "stream",
          "name": "stderr",
          "text": [
            "\r 76%|███████▋  | 434/569 [00:36<00:12, 10.48it/s]"
          ]
        },
        {
          "output_type": "stream",
          "name": "stdout",
          "text": [
            "Tr-me_0983.jpg -> Class: meningioma, Confidence: 1.00\n",
            "Saving Tr-me_0983.jpg to BT100/Training/meningioma/20250328_215912_Tr-me_0983.jpg\n",
            "\u001b[1m1/1\u001b[0m \u001b[32m━━━━━━━━━━━━━━━━━━━━\u001b[0m\u001b[37m\u001b[0m \u001b[1m0s\u001b[0m 35ms/step\n",
            "Tr-gl_0337.jpg -> Class: glioma, Confidence: 1.00\n",
            "Saving Tr-gl_0337.jpg to BT100/Training/glioma/20250328_215913_Tr-gl_0337.jpg\n",
            "\u001b[1m1/1\u001b[0m \u001b[32m━━━━━━━━━━━━━━━━━━━━\u001b[0m\u001b[37m\u001b[0m \u001b[1m0s\u001b[0m 31ms/step\n"
          ]
        },
        {
          "output_type": "stream",
          "name": "stderr",
          "text": [
            "\r 77%|███████▋  | 436/569 [00:37<00:11, 11.13it/s]"
          ]
        },
        {
          "output_type": "stream",
          "name": "stdout",
          "text": [
            "Tr-no_1280.jpg -> Class: notumor, Confidence: 1.00\n",
            "Saving Tr-no_1280.jpg to BT100/Training/notumor/20250328_215913_Tr-no_1280.jpg\n",
            "\u001b[1m1/1\u001b[0m \u001b[32m━━━━━━━━━━━━━━━━━━━━\u001b[0m\u001b[37m\u001b[0m \u001b[1m0s\u001b[0m 33ms/step\n",
            "Tr-me_0477.jpg -> Class: meningioma, Confidence: 1.00\n",
            "Saving Tr-me_0477.jpg to BT100/Training/meningioma/20250328_215913_Tr-me_0477.jpg\n",
            "\u001b[1m1/1\u001b[0m \u001b[32m━━━━━━━━━━━━━━━━━━━━\u001b[0m\u001b[37m\u001b[0m \u001b[1m0s\u001b[0m 30ms/step\n"
          ]
        },
        {
          "output_type": "stream",
          "name": "stderr",
          "text": [
            "\r 77%|███████▋  | 438/569 [00:37<00:11, 11.64it/s]"
          ]
        },
        {
          "output_type": "stream",
          "name": "stdout",
          "text": [
            "Tr-pi_0117.jpg -> Class: pituitary, Confidence: 1.00\n",
            "Saving Tr-pi_0117.jpg to BT100/Training/pituitary/20250328_215913_Tr-pi_0117.jpg\n",
            "\u001b[1m1/1\u001b[0m \u001b[32m━━━━━━━━━━━━━━━━━━━━\u001b[0m\u001b[37m\u001b[0m \u001b[1m0s\u001b[0m 32ms/step\n",
            "Tr-gl_0880.jpg -> Class: glioma, Confidence: 1.00\n",
            "Saving Tr-gl_0880.jpg to BT100/Training/glioma/20250328_215913_Tr-gl_0880.jpg\n",
            "\u001b[1m1/1\u001b[0m \u001b[32m━━━━━━━━━━━━━━━━━━━━\u001b[0m\u001b[37m\u001b[0m \u001b[1m0s\u001b[0m 40ms/step\n"
          ]
        },
        {
          "output_type": "stream",
          "name": "stderr",
          "text": [
            "\r 77%|███████▋  | 440/569 [00:37<00:11, 11.56it/s]"
          ]
        },
        {
          "output_type": "stream",
          "name": "stdout",
          "text": [
            "Tr-no_0942.jpg -> Class: notumor, Confidence: 1.00\n",
            "Saving Tr-no_0942.jpg to BT100/Training/notumor/20250328_215913_Tr-no_0942.jpg\n",
            "\u001b[1m1/1\u001b[0m \u001b[32m━━━━━━━━━━━━━━━━━━━━\u001b[0m\u001b[37m\u001b[0m \u001b[1m0s\u001b[0m 53ms/step\n",
            "Tr-no_1071.jpg -> Class: notumor, Confidence: 1.00\n",
            "Saving Tr-no_1071.jpg to BT100/Training/notumor/20250328_215913_Tr-no_1071.jpg\n",
            "\u001b[1m1/1\u001b[0m \u001b[32m━━━━━━━━━━━━━━━━━━━━\u001b[0m\u001b[37m\u001b[0m \u001b[1m0s\u001b[0m 51ms/step\n"
          ]
        },
        {
          "output_type": "stream",
          "name": "stderr",
          "text": [
            "\r 78%|███████▊  | 442/569 [00:37<00:13,  9.64it/s]"
          ]
        },
        {
          "output_type": "stream",
          "name": "stdout",
          "text": [
            "Tr-me_0415.jpg -> Class: meningioma, Confidence: 0.98\n",
            "Saving Tr-me_0415.jpg to BT100/Training/meningioma/20250328_215913_Tr-me_0415.jpg\n",
            "\u001b[1m1/1\u001b[0m \u001b[32m━━━━━━━━━━━━━━━━━━━━\u001b[0m\u001b[37m\u001b[0m \u001b[1m0s\u001b[0m 45ms/step\n",
            "Tr-no_0506.jpg -> Class: notumor, Confidence: 1.00\n",
            "Saving Tr-no_0506.jpg to BT100/Training/notumor/20250328_215913_Tr-no_0506.jpg\n",
            "\u001b[1m1/1\u001b[0m \u001b[32m━━━━━━━━━━━━━━━━━━━━\u001b[0m\u001b[37m\u001b[0m \u001b[1m0s\u001b[0m 64ms/step\n"
          ]
        },
        {
          "output_type": "stream",
          "name": "stderr",
          "text": [
            "\r 78%|███████▊  | 444/569 [00:38<00:14,  8.86it/s]"
          ]
        },
        {
          "output_type": "stream",
          "name": "stdout",
          "text": [
            "Tr-no_1094.jpg -> Class: notumor, Confidence: 1.00\n",
            "Saving Tr-no_1094.jpg to BT100/Training/notumor/20250328_215913_Tr-no_1094.jpg\n",
            "\u001b[1m1/1\u001b[0m \u001b[32m━━━━━━━━━━━━━━━━━━━━\u001b[0m\u001b[37m\u001b[0m \u001b[1m0s\u001b[0m 46ms/step\n"
          ]
        },
        {
          "output_type": "stream",
          "name": "stderr",
          "text": [
            "\r 78%|███████▊  | 445/569 [00:38<00:13,  8.97it/s]"
          ]
        },
        {
          "output_type": "stream",
          "name": "stdout",
          "text": [
            "Tr-me_0143.jpg -> Class: meningioma, Confidence: 0.99\n",
            "Saving Tr-me_0143.jpg to BT100/Training/meningioma/20250328_215914_Tr-me_0143.jpg\n",
            "\u001b[1m1/1\u001b[0m \u001b[32m━━━━━━━━━━━━━━━━━━━━\u001b[0m\u001b[37m\u001b[0m \u001b[1m0s\u001b[0m 45ms/step\n"
          ]
        },
        {
          "output_type": "stream",
          "name": "stderr",
          "text": [
            "\r 78%|███████▊  | 446/569 [00:38<00:14,  8.63it/s]"
          ]
        },
        {
          "output_type": "stream",
          "name": "stdout",
          "text": [
            "Tr-gl_0201.jpg -> Class: glioma, Confidence: 1.00\n",
            "Saving Tr-gl_0201.jpg to BT100/Training/glioma/20250328_215914_Tr-gl_0201.jpg\n",
            "\u001b[1m1/1\u001b[0m \u001b[32m━━━━━━━━━━━━━━━━━━━━\u001b[0m\u001b[37m\u001b[0m \u001b[1m0s\u001b[0m 48ms/step\n"
          ]
        },
        {
          "output_type": "stream",
          "name": "stderr",
          "text": [
            "\r 79%|███████▊  | 447/569 [00:38<00:14,  8.29it/s]"
          ]
        },
        {
          "output_type": "stream",
          "name": "stdout",
          "text": [
            "Tr-no_1482.jpg -> Class: notumor, Confidence: 1.00\n",
            "Saving Tr-no_1482.jpg to BT100/Training/notumor/20250328_215914_Tr-no_1482.jpg\n",
            "\u001b[1m1/1\u001b[0m \u001b[32m━━━━━━━━━━━━━━━━━━━━\u001b[0m\u001b[37m\u001b[0m \u001b[1m0s\u001b[0m 43ms/step\n"
          ]
        },
        {
          "output_type": "stream",
          "name": "stderr",
          "text": [
            "\r 79%|███████▊  | 448/569 [00:38<00:14,  8.39it/s]"
          ]
        },
        {
          "output_type": "stream",
          "name": "stdout",
          "text": [
            "Tr-pi_0309.jpg -> Class: pituitary, Confidence: 1.00\n",
            "Saving Tr-pi_0309.jpg to BT100/Training/pituitary/20250328_215914_Tr-pi_0309.jpg\n",
            "\u001b[1m1/1\u001b[0m \u001b[32m━━━━━━━━━━━━━━━━━━━━\u001b[0m\u001b[37m\u001b[0m \u001b[1m0s\u001b[0m 47ms/step\n"
          ]
        },
        {
          "output_type": "stream",
          "name": "stderr",
          "text": [
            "\r 79%|███████▉  | 449/569 [00:38<00:13,  8.59it/s]"
          ]
        },
        {
          "output_type": "stream",
          "name": "stdout",
          "text": [
            "Tr-gl_0553.jpg -> Class: glioma, Confidence: 1.00\n",
            "Saving Tr-gl_0553.jpg to BT100/Training/glioma/20250328_215914_Tr-gl_0553.jpg\n",
            "\u001b[1m1/1\u001b[0m \u001b[32m━━━━━━━━━━━━━━━━━━━━\u001b[0m\u001b[37m\u001b[0m \u001b[1m0s\u001b[0m 50ms/step\n"
          ]
        },
        {
          "output_type": "stream",
          "name": "stderr",
          "text": [
            "\r 79%|███████▉  | 450/569 [00:38<00:13,  8.73it/s]"
          ]
        },
        {
          "output_type": "stream",
          "name": "stdout",
          "text": [
            "Tr-no_1340.jpg -> Class: notumor, Confidence: 1.00\n",
            "Saving Tr-no_1340.jpg to BT100/Training/notumor/20250328_215914_Tr-no_1340.jpg\n",
            "\u001b[1m1/1\u001b[0m \u001b[32m━━━━━━━━━━━━━━━━━━━━\u001b[0m\u001b[37m\u001b[0m \u001b[1m0s\u001b[0m 42ms/step\n",
            "Tr-pi_0723.jpg -> Class: pituitary, Confidence: 1.00\n",
            "Saving Tr-pi_0723.jpg to BT100/Training/pituitary/20250328_215914_Tr-pi_0723.jpg\n",
            "\u001b[1m1/1\u001b[0m \u001b[32m━━━━━━━━━━━━━━━━━━━━\u001b[0m\u001b[37m\u001b[0m \u001b[1m0s\u001b[0m 44ms/step\n"
          ]
        },
        {
          "output_type": "stream",
          "name": "stderr",
          "text": [
            "\r 79%|███████▉  | 452/569 [00:38<00:12,  9.35it/s]"
          ]
        },
        {
          "output_type": "stream",
          "name": "stdout",
          "text": [
            "Tr-gl_0803.jpg -> Class: glioma, Confidence: 1.00\n",
            "Saving Tr-gl_0803.jpg to BT100/Training/glioma/20250328_215914_Tr-gl_0803.jpg\n",
            "\u001b[1m1/1\u001b[0m \u001b[32m━━━━━━━━━━━━━━━━━━━━\u001b[0m\u001b[37m\u001b[0m \u001b[1m0s\u001b[0m 48ms/step\n"
          ]
        },
        {
          "output_type": "stream",
          "name": "stderr",
          "text": [
            "\r 80%|███████▉  | 453/569 [00:39<00:12,  9.25it/s]"
          ]
        },
        {
          "output_type": "stream",
          "name": "stdout",
          "text": [
            "Tr-me_0058.jpg -> Class: meningioma, Confidence: 1.00\n",
            "Saving Tr-me_0058.jpg to BT100/Training/meningioma/20250328_215915_Tr-me_0058.jpg\n",
            "\u001b[1m1/1\u001b[0m \u001b[32m━━━━━━━━━━━━━━━━━━━━\u001b[0m\u001b[37m\u001b[0m \u001b[1m0s\u001b[0m 46ms/step\n"
          ]
        },
        {
          "output_type": "stream",
          "name": "stderr",
          "text": [
            "\r 80%|███████▉  | 454/569 [00:39<00:12,  9.14it/s]"
          ]
        },
        {
          "output_type": "stream",
          "name": "stdout",
          "text": [
            "Tr-no_1453.jpg -> Class: notumor, Confidence: 1.00\n",
            "Saving Tr-no_1453.jpg to BT100/Training/notumor/20250328_215915_Tr-no_1453.jpg\n",
            "\u001b[1m1/1\u001b[0m \u001b[32m━━━━━━━━━━━━━━━━━━━━\u001b[0m\u001b[37m\u001b[0m \u001b[1m0s\u001b[0m 44ms/step\n"
          ]
        },
        {
          "output_type": "stream",
          "name": "stderr",
          "text": [
            "\r 80%|███████▉  | 455/569 [00:39<00:13,  8.58it/s]"
          ]
        },
        {
          "output_type": "stream",
          "name": "stdout",
          "text": [
            "Tr-gl_0178.jpg -> Class: glioma, Confidence: 1.00\n",
            "Saving Tr-gl_0178.jpg to BT100/Training/glioma/20250328_215915_Tr-gl_0178.jpg\n",
            "\u001b[1m1/1\u001b[0m \u001b[32m━━━━━━━━━━━━━━━━━━━━\u001b[0m\u001b[37m\u001b[0m \u001b[1m0s\u001b[0m 56ms/step\n"
          ]
        },
        {
          "output_type": "stream",
          "name": "stderr",
          "text": [
            "\r 80%|████████  | 456/569 [00:39<00:14,  7.87it/s]"
          ]
        },
        {
          "output_type": "stream",
          "name": "stdout",
          "text": [
            "Tr-pi_0184.jpg -> Class: pituitary, Confidence: 1.00\n",
            "Saving Tr-pi_0184.jpg to BT100/Training/pituitary/20250328_215915_Tr-pi_0184.jpg\n",
            "\u001b[1m1/1\u001b[0m \u001b[32m━━━━━━━━━━━━━━━━━━━━\u001b[0m\u001b[37m\u001b[0m \u001b[1m0s\u001b[0m 46ms/step\n"
          ]
        },
        {
          "output_type": "stream",
          "name": "stderr",
          "text": [
            "\r 80%|████████  | 457/569 [00:39<00:14,  7.51it/s]"
          ]
        },
        {
          "output_type": "stream",
          "name": "stdout",
          "text": [
            "Tr-no_1095.jpg -> Class: notumor, Confidence: 1.00\n",
            "Saving Tr-no_1095.jpg to BT100/Training/notumor/20250328_215915_Tr-no_1095.jpg\n",
            "\u001b[1m1/1\u001b[0m \u001b[32m━━━━━━━━━━━━━━━━━━━━\u001b[0m\u001b[37m\u001b[0m \u001b[1m0s\u001b[0m 47ms/step\n"
          ]
        },
        {
          "output_type": "stream",
          "name": "stderr",
          "text": [
            "\r 80%|████████  | 458/569 [00:39<00:15,  7.22it/s]"
          ]
        },
        {
          "output_type": "stream",
          "name": "stdout",
          "text": [
            "Tr-pi_0531.jpg -> Class: pituitary, Confidence: 1.00\n",
            "Saving Tr-pi_0531.jpg to BT100/Training/pituitary/20250328_215915_Tr-pi_0531.jpg\n",
            "\u001b[1m1/1\u001b[0m \u001b[32m━━━━━━━━━━━━━━━━━━━━\u001b[0m\u001b[37m\u001b[0m \u001b[1m0s\u001b[0m 33ms/step\n"
          ]
        },
        {
          "output_type": "stream",
          "name": "stderr",
          "text": [
            "\r 81%|████████  | 459/569 [00:39<00:14,  7.59it/s]"
          ]
        },
        {
          "output_type": "stream",
          "name": "stdout",
          "text": [
            "Tr-pi_0078.jpg -> Class: pituitary, Confidence: 1.00\n",
            "Saving Tr-pi_0078.jpg to BT100/Training/pituitary/20250328_215915_Tr-pi_0078.jpg\n",
            "\u001b[1m1/1\u001b[0m \u001b[32m━━━━━━━━━━━━━━━━━━━━\u001b[0m\u001b[37m\u001b[0m \u001b[1m0s\u001b[0m 35ms/step\n"
          ]
        },
        {
          "output_type": "stream",
          "name": "stderr",
          "text": [
            "\r 81%|████████  | 460/569 [00:39<00:13,  7.90it/s]"
          ]
        },
        {
          "output_type": "stream",
          "name": "stdout",
          "text": [
            "Tr-no_0797.jpg -> Class: notumor, Confidence: 1.00\n",
            "Saving Tr-no_0797.jpg to BT100/Training/notumor/20250328_215915_Tr-no_0797.jpg\n",
            "\u001b[1m1/1\u001b[0m \u001b[32m━━━━━━━━━━━━━━━━━━━━\u001b[0m\u001b[37m\u001b[0m \u001b[1m0s\u001b[0m 33ms/step\n",
            "Tr-pi_0018.jpg -> Class: pituitary, Confidence: 1.00\n",
            "Saving Tr-pi_0018.jpg to BT100/Training/pituitary/20250328_215916_Tr-pi_0018.jpg\n",
            "\u001b[1m1/1\u001b[0m \u001b[32m━━━━━━━━━━━━━━━━━━━━\u001b[0m\u001b[37m\u001b[0m \u001b[1m0s\u001b[0m 32ms/step\n"
          ]
        },
        {
          "output_type": "stream",
          "name": "stderr",
          "text": [
            "\r 81%|████████  | 462/569 [00:40<00:11,  9.42it/s]"
          ]
        },
        {
          "output_type": "stream",
          "name": "stdout",
          "text": [
            "Tr-pi_1288.jpg -> Class: pituitary, Confidence: 1.00\n",
            "Saving Tr-pi_1288.jpg to BT100/Training/pituitary/20250328_215916_Tr-pi_1288.jpg\n",
            "\u001b[1m1/1\u001b[0m \u001b[32m━━━━━━━━━━━━━━━━━━━━\u001b[0m\u001b[37m\u001b[0m \u001b[1m0s\u001b[0m 29ms/step\n",
            "Tr-me_1145.jpg -> Class: meningioma, Confidence: 1.00\n",
            "Saving Tr-me_1145.jpg to BT100/Training/meningioma/20250328_215916_Tr-me_1145.jpg\n",
            "\u001b[1m1/1\u001b[0m \u001b[32m━━━━━━━━━━━━━━━━━━━━\u001b[0m\u001b[37m\u001b[0m \u001b[1m0s\u001b[0m 31ms/step\n"
          ]
        },
        {
          "output_type": "stream",
          "name": "stderr",
          "text": [
            "\r 82%|████████▏ | 464/569 [00:40<00:09, 10.75it/s]"
          ]
        },
        {
          "output_type": "stream",
          "name": "stdout",
          "text": [
            "Tr-gl_0323.jpg -> Class: glioma, Confidence: 1.00\n",
            "Saving Tr-gl_0323.jpg to BT100/Training/glioma/20250328_215916_Tr-gl_0323.jpg\n",
            "\u001b[1m1/1\u001b[0m \u001b[32m━━━━━━━━━━━━━━━━━━━━\u001b[0m\u001b[37m\u001b[0m \u001b[1m0s\u001b[0m 35ms/step\n",
            "Tr-pi_0980.jpg -> Class: pituitary, Confidence: 1.00\n",
            "Saving Tr-pi_0980.jpg to BT100/Training/pituitary/20250328_215916_Tr-pi_0980.jpg\n",
            "\u001b[1m1/1\u001b[0m \u001b[32m━━━━━━━━━━━━━━━━━━━━\u001b[0m\u001b[37m\u001b[0m \u001b[1m0s\u001b[0m 48ms/step\n"
          ]
        },
        {
          "output_type": "stream",
          "name": "stderr",
          "text": [
            "\r 82%|████████▏ | 466/569 [00:40<00:10, 10.26it/s]"
          ]
        },
        {
          "output_type": "stream",
          "name": "stdout",
          "text": [
            "Tr-pi_1033.jpg -> Class: pituitary, Confidence: 1.00\n",
            "Saving Tr-pi_1033.jpg to BT100/Training/pituitary/20250328_215916_Tr-pi_1033.jpg\n",
            "\u001b[1m1/1\u001b[0m \u001b[32m━━━━━━━━━━━━━━━━━━━━\u001b[0m\u001b[37m\u001b[0m \u001b[1m0s\u001b[0m 34ms/step\n",
            "Tr-gl_1117.jpg -> Class: glioma, Confidence: 1.00\n",
            "Saving Tr-gl_1117.jpg to BT100/Training/glioma/20250328_215916_Tr-gl_1117.jpg\n",
            "\u001b[1m1/1\u001b[0m \u001b[32m━━━━━━━━━━━━━━━━━━━━\u001b[0m\u001b[37m\u001b[0m \u001b[1m0s\u001b[0m 36ms/step\n"
          ]
        },
        {
          "output_type": "stream",
          "name": "stderr",
          "text": [
            "\r 82%|████████▏ | 468/569 [00:40<00:10,  9.67it/s]"
          ]
        },
        {
          "output_type": "stream",
          "name": "stdout",
          "text": [
            "Tr-gl_0998.jpg -> Class: glioma, Confidence: 1.00\n",
            "Saving Tr-gl_0998.jpg to BT100/Training/glioma/20250328_215916_Tr-gl_0998.jpg\n",
            "\u001b[1m1/1\u001b[0m \u001b[32m━━━━━━━━━━━━━━━━━━━━\u001b[0m\u001b[37m\u001b[0m \u001b[1m0s\u001b[0m 32ms/step\n",
            "Tr-pi_0286.jpg -> Class: pituitary, Confidence: 1.00\n",
            "Saving Tr-pi_0286.jpg to BT100/Training/pituitary/20250328_215916_Tr-pi_0286.jpg\n",
            "\u001b[1m1/1\u001b[0m \u001b[32m━━━━━━━━━━━━━━━━━━━━\u001b[0m\u001b[37m\u001b[0m \u001b[1m0s\u001b[0m 30ms/step\n"
          ]
        },
        {
          "output_type": "stream",
          "name": "stderr",
          "text": [
            "\r 83%|████████▎ | 470/569 [00:40<00:09, 10.64it/s]"
          ]
        },
        {
          "output_type": "stream",
          "name": "stdout",
          "text": [
            "Tr-me_1076.jpg -> Class: meningioma, Confidence: 1.00\n",
            "Saving Tr-me_1076.jpg to BT100/Training/meningioma/20250328_215916_Tr-me_1076.jpg\n",
            "\u001b[1m1/1\u001b[0m \u001b[32m━━━━━━━━━━━━━━━━━━━━\u001b[0m\u001b[37m\u001b[0m \u001b[1m0s\u001b[0m 31ms/step\n",
            "Tr-gl_0777.jpg -> Class: glioma, Confidence: 1.00\n",
            "Saving Tr-gl_0777.jpg to BT100/Training/glioma/20250328_215916_Tr-gl_0777.jpg\n",
            "\u001b[1m1/1\u001b[0m \u001b[32m━━━━━━━━━━━━━━━━━━━━\u001b[0m\u001b[37m\u001b[0m \u001b[1m0s\u001b[0m 30ms/step\n"
          ]
        },
        {
          "output_type": "stream",
          "name": "stderr",
          "text": [
            "\r 83%|████████▎ | 472/569 [00:41<00:09, 10.71it/s]"
          ]
        },
        {
          "output_type": "stream",
          "name": "stdout",
          "text": [
            "Tr-pi_0251.jpg -> Class: pituitary, Confidence: 0.76\n",
            "\u001b[1m1/1\u001b[0m \u001b[32m━━━━━━━━━━━━━━━━━━━━\u001b[0m\u001b[37m\u001b[0m \u001b[1m0s\u001b[0m 44ms/step\n",
            "Tr-me_0617.jpg -> Class: meningioma, Confidence: 1.00\n",
            "Saving Tr-me_0617.jpg to BT100/Training/meningioma/20250328_215917_Tr-me_0617.jpg\n",
            "\u001b[1m1/1\u001b[0m \u001b[32m━━━━━━━━━━━━━━━━━━━━\u001b[0m\u001b[37m\u001b[0m \u001b[1m0s\u001b[0m 33ms/step\n"
          ]
        },
        {
          "output_type": "stream",
          "name": "stderr",
          "text": [
            "\r 83%|████████▎ | 474/569 [00:41<00:09, 10.55it/s]"
          ]
        },
        {
          "output_type": "stream",
          "name": "stdout",
          "text": [
            "Tr-me_0613.jpg -> Class: meningioma, Confidence: 0.73\n",
            "\u001b[1m1/1\u001b[0m \u001b[32m━━━━━━━━━━━━━━━━━━━━\u001b[0m\u001b[37m\u001b[0m \u001b[1m0s\u001b[0m 33ms/step\n",
            "Tr-pi_0246.jpg -> Class: pituitary, Confidence: 1.00\n",
            "Saving Tr-pi_0246.jpg to BT100/Training/pituitary/20250328_215917_Tr-pi_0246.jpg\n",
            "\u001b[1m1/1\u001b[0m \u001b[32m━━━━━━━━━━━━━━━━━━━━\u001b[0m\u001b[37m\u001b[0m \u001b[1m0s\u001b[0m 35ms/step\n"
          ]
        },
        {
          "output_type": "stream",
          "name": "stderr",
          "text": [
            "\r 84%|████████▎ | 476/569 [00:41<00:08, 10.36it/s]"
          ]
        },
        {
          "output_type": "stream",
          "name": "stdout",
          "text": [
            "Tr-me_1026.jpg -> Class: meningioma, Confidence: 1.00\n",
            "Saving Tr-me_1026.jpg to BT100/Training/meningioma/20250328_215917_Tr-me_1026.jpg\n",
            "\u001b[1m1/1\u001b[0m \u001b[32m━━━━━━━━━━━━━━━━━━━━\u001b[0m\u001b[37m\u001b[0m \u001b[1m0s\u001b[0m 37ms/step\n",
            "Tr-me_1095.jpg -> Class: meningioma, Confidence: 1.00\n",
            "Saving Tr-me_1095.jpg to BT100/Training/meningioma/20250328_215917_Tr-me_1095.jpg\n",
            "\u001b[1m1/1\u001b[0m \u001b[32m━━━━━━━━━━━━━━━━━━━━\u001b[0m\u001b[37m\u001b[0m \u001b[1m0s\u001b[0m 41ms/step\n"
          ]
        },
        {
          "output_type": "stream",
          "name": "stderr",
          "text": [
            "\r 84%|████████▍ | 478/569 [00:41<00:08, 10.47it/s]"
          ]
        },
        {
          "output_type": "stream",
          "name": "stdout",
          "text": [
            "Tr-gl_0408.jpg -> Class: glioma, Confidence: 1.00\n",
            "Saving Tr-gl_0408.jpg to BT100/Training/glioma/20250328_215917_Tr-gl_0408.jpg\n",
            "\u001b[1m1/1\u001b[0m \u001b[32m━━━━━━━━━━━━━━━━━━━━\u001b[0m\u001b[37m\u001b[0m \u001b[1m0s\u001b[0m 35ms/step\n",
            "Tr-gl_1063.jpg -> Class: glioma, Confidence: 1.00\n",
            "Saving Tr-gl_1063.jpg to BT100/Training/glioma/20250328_215917_Tr-gl_1063.jpg\n",
            "\u001b[1m1/1\u001b[0m \u001b[32m━━━━━━━━━━━━━━━━━━━━\u001b[0m\u001b[37m\u001b[0m \u001b[1m0s\u001b[0m 34ms/step\n"
          ]
        },
        {
          "output_type": "stream",
          "name": "stderr",
          "text": [
            "\r 84%|████████▍ | 480/569 [00:41<00:08, 10.44it/s]"
          ]
        },
        {
          "output_type": "stream",
          "name": "stdout",
          "text": [
            "Tr-no_1550.jpg -> Class: notumor, Confidence: 1.00\n",
            "Saving Tr-no_1550.jpg to BT100/Training/notumor/20250328_215917_Tr-no_1550.jpg\n",
            "\u001b[1m1/1\u001b[0m \u001b[32m━━━━━━━━━━━━━━━━━━━━\u001b[0m\u001b[37m\u001b[0m \u001b[1m0s\u001b[0m 31ms/step\n",
            "Tr-gl_0512.jpg -> Class: glioma, Confidence: 1.00\n",
            "Saving Tr-gl_0512.jpg to BT100/Training/glioma/20250328_215917_Tr-gl_0512.jpg\n",
            "\u001b[1m1/1\u001b[0m \u001b[32m━━━━━━━━━━━━━━━━━━━━\u001b[0m\u001b[37m\u001b[0m \u001b[1m0s\u001b[0m 32ms/step\n"
          ]
        },
        {
          "output_type": "stream",
          "name": "stderr",
          "text": [
            "\r 85%|████████▍ | 482/569 [00:42<00:08, 10.38it/s]"
          ]
        },
        {
          "output_type": "stream",
          "name": "stdout",
          "text": [
            "Tr-me_0466.jpg -> Class: meningioma, Confidence: 1.00\n",
            "Saving Tr-me_0466.jpg to BT100/Training/meningioma/20250328_215917_Tr-me_0466.jpg\n",
            "\u001b[1m1/1\u001b[0m \u001b[32m━━━━━━━━━━━━━━━━━━━━\u001b[0m\u001b[37m\u001b[0m \u001b[1m0s\u001b[0m 34ms/step\n",
            "Tr-no_1133.jpg -> Class: notumor, Confidence: 1.00\n",
            "Saving Tr-no_1133.jpg to BT100/Training/notumor/20250328_215918_Tr-no_1133.jpg\n",
            "\u001b[1m1/1\u001b[0m \u001b[32m━━━━━━━━━━━━━━━━━━━━\u001b[0m\u001b[37m\u001b[0m \u001b[1m0s\u001b[0m 37ms/step\n"
          ]
        },
        {
          "output_type": "stream",
          "name": "stderr",
          "text": [
            "\r 85%|████████▌ | 484/569 [00:42<00:08, 10.17it/s]"
          ]
        },
        {
          "output_type": "stream",
          "name": "stdout",
          "text": [
            "Tr-me_0086.jpg -> Class: meningioma, Confidence: 1.00\n",
            "Saving Tr-me_0086.jpg to BT100/Training/meningioma/20250328_215918_Tr-me_0086.jpg\n",
            "\u001b[1m1/1\u001b[0m \u001b[32m━━━━━━━━━━━━━━━━━━━━\u001b[0m\u001b[37m\u001b[0m \u001b[1m0s\u001b[0m 30ms/step\n",
            "Tr-no_0928.jpg -> Class: notumor, Confidence: 1.00\n",
            "Saving Tr-no_0928.jpg to BT100/Training/notumor/20250328_215918_Tr-no_0928.jpg\n",
            "\u001b[1m1/1\u001b[0m \u001b[32m━━━━━━━━━━━━━━━━━━━━\u001b[0m\u001b[37m\u001b[0m \u001b[1m0s\u001b[0m 31ms/step\n"
          ]
        },
        {
          "output_type": "stream",
          "name": "stderr",
          "text": [
            "\r 85%|████████▌ | 486/569 [00:42<00:07, 11.12it/s]"
          ]
        },
        {
          "output_type": "stream",
          "name": "stdout",
          "text": [
            "Tr-me_0488.jpg -> Class: meningioma, Confidence: 1.00\n",
            "Saving Tr-me_0488.jpg to BT100/Training/meningioma/20250328_215918_Tr-me_0488.jpg\n",
            "\u001b[1m1/1\u001b[0m \u001b[32m━━━━━━━━━━━━━━━━━━━━\u001b[0m\u001b[37m\u001b[0m \u001b[1m0s\u001b[0m 39ms/step\n",
            "Tr-gl_1048.jpg -> Class: glioma, Confidence: 1.00\n",
            "Saving Tr-gl_1048.jpg to BT100/Training/glioma/20250328_215918_Tr-gl_1048.jpg\n",
            "\u001b[1m1/1\u001b[0m \u001b[32m━━━━━━━━━━━━━━━━━━━━\u001b[0m\u001b[37m\u001b[0m \u001b[1m0s\u001b[0m 33ms/step\n"
          ]
        },
        {
          "output_type": "stream",
          "name": "stderr",
          "text": [
            "\r 86%|████████▌ | 488/569 [00:42<00:08, 10.06it/s]"
          ]
        },
        {
          "output_type": "stream",
          "name": "stdout",
          "text": [
            "Tr-pi_0088.jpg -> Class: pituitary, Confidence: 1.00\n",
            "Saving Tr-pi_0088.jpg to BT100/Training/pituitary/20250328_215918_Tr-pi_0088.jpg\n",
            "\u001b[1m1/1\u001b[0m \u001b[32m━━━━━━━━━━━━━━━━━━━━\u001b[0m\u001b[37m\u001b[0m \u001b[1m0s\u001b[0m 33ms/step\n",
            "Tr-no_1012.jpg -> Class: notumor, Confidence: 1.00\n",
            "Saving Tr-no_1012.jpg to BT100/Training/notumor/20250328_215918_Tr-no_1012.jpg\n",
            "\u001b[1m1/1\u001b[0m \u001b[32m━━━━━━━━━━━━━━━━━━━━\u001b[0m\u001b[37m\u001b[0m \u001b[1m0s\u001b[0m 32ms/step\n"
          ]
        },
        {
          "output_type": "stream",
          "name": "stderr",
          "text": [
            "\r 86%|████████▌ | 490/569 [00:42<00:07, 10.79it/s]"
          ]
        },
        {
          "output_type": "stream",
          "name": "stdout",
          "text": [
            "Tr-me_0689.jpg -> Class: meningioma, Confidence: 0.97\n",
            "\u001b[1m1/1\u001b[0m \u001b[32m━━━━━━━━━━━━━━━━━━━━\u001b[0m\u001b[37m\u001b[0m \u001b[1m0s\u001b[0m 33ms/step\n",
            "Tr-no_0835.jpg -> Class: notumor, Confidence: 1.00\n",
            "Saving Tr-no_0835.jpg to BT100/Training/notumor/20250328_215918_Tr-no_0835.jpg\n",
            "\u001b[1m1/1\u001b[0m \u001b[32m━━━━━━━━━━━━━━━━━━━━\u001b[0m\u001b[37m\u001b[0m \u001b[1m0s\u001b[0m 32ms/step\n",
            "Tr-me_1023.jpg -> Class: meningioma, Confidence: 1.00\n",
            "Saving Tr-me_1023.jpg to BT100/Training/meningioma/20250328_215918_Tr-me_1023.jpg\n"
          ]
        },
        {
          "output_type": "stream",
          "name": "stderr",
          "text": [
            "\r 86%|████████▋ | 492/569 [00:42<00:07, 10.57it/s]"
          ]
        },
        {
          "output_type": "stream",
          "name": "stdout",
          "text": [
            "\u001b[1m1/1\u001b[0m \u001b[32m━━━━━━━━━━━━━━━━━━━━\u001b[0m\u001b[37m\u001b[0m \u001b[1m0s\u001b[0m 33ms/step\n",
            "Tr-gl_1293.jpg -> Class: glioma, Confidence: 0.96\n",
            "\u001b[1m1/1\u001b[0m \u001b[32m━━━━━━━━━━━━━━━━━━━━\u001b[0m\u001b[37m\u001b[0m \u001b[1m0s\u001b[0m 34ms/step\n"
          ]
        },
        {
          "output_type": "stream",
          "name": "stderr",
          "text": [
            "\r 87%|████████▋ | 494/569 [00:43<00:07, 10.40it/s]"
          ]
        },
        {
          "output_type": "stream",
          "name": "stdout",
          "text": [
            "Tr-gl_0589.jpg -> Class: glioma, Confidence: 1.00\n",
            "Saving Tr-gl_0589.jpg to BT100/Training/glioma/20250328_215919_Tr-gl_0589.jpg\n",
            "\u001b[1m1/1\u001b[0m \u001b[32m━━━━━━━━━━━━━━━━━━━━\u001b[0m\u001b[37m\u001b[0m \u001b[1m0s\u001b[0m 30ms/step\n",
            "Tr-me_1179.jpg -> Class: meningioma, Confidence: 1.00\n",
            "Saving Tr-me_1179.jpg to BT100/Training/meningioma/20250328_215919_Tr-me_1179.jpg\n",
            "\u001b[1m1/1\u001b[0m \u001b[32m━━━━━━━━━━━━━━━━━━━━\u001b[0m\u001b[37m\u001b[0m \u001b[1m0s\u001b[0m 37ms/step\n"
          ]
        },
        {
          "output_type": "stream",
          "name": "stderr",
          "text": [
            "\r 87%|████████▋ | 496/569 [00:43<00:07, 10.43it/s]"
          ]
        },
        {
          "output_type": "stream",
          "name": "stdout",
          "text": [
            "Tr-gl_1040.jpg -> Class: glioma, Confidence: 1.00\n",
            "Saving Tr-gl_1040.jpg to BT100/Training/glioma/20250328_215919_Tr-gl_1040.jpg\n",
            "\u001b[1m1/1\u001b[0m \u001b[32m━━━━━━━━━━━━━━━━━━━━\u001b[0m\u001b[37m\u001b[0m \u001b[1m0s\u001b[0m 42ms/step\n",
            "Tr-no_0419.jpg -> Class: notumor, Confidence: 1.00\n",
            "Saving Tr-no_0419.jpg to BT100/Training/notumor/20250328_215919_Tr-no_0419.jpg\n",
            "\u001b[1m1/1\u001b[0m \u001b[32m━━━━━━━━━━━━━━━━━━━━\u001b[0m\u001b[37m\u001b[0m \u001b[1m0s\u001b[0m 30ms/step\n"
          ]
        },
        {
          "output_type": "stream",
          "name": "stderr",
          "text": [
            "\r 88%|████████▊ | 498/569 [00:43<00:06, 10.48it/s]"
          ]
        },
        {
          "output_type": "stream",
          "name": "stdout",
          "text": [
            "Tr-no_1424.jpg -> Class: notumor, Confidence: 1.00\n",
            "Saving Tr-no_1424.jpg to BT100/Training/notumor/20250328_215919_Tr-no_1424.jpg\n",
            "\u001b[1m1/1\u001b[0m \u001b[32m━━━━━━━━━━━━━━━━━━━━\u001b[0m\u001b[37m\u001b[0m \u001b[1m0s\u001b[0m 32ms/step\n",
            "Tr-no_0425.jpg -> Class: notumor, Confidence: 1.00\n",
            "Saving Tr-no_0425.jpg to BT100/Training/notumor/20250328_215919_Tr-no_0425.jpg\n",
            "\u001b[1m1/1\u001b[0m \u001b[32m━━━━━━━━━━━━━━━━━━━━\u001b[0m\u001b[37m\u001b[0m \u001b[1m0s\u001b[0m 32ms/step\n"
          ]
        },
        {
          "output_type": "stream",
          "name": "stderr",
          "text": [
            "\r 88%|████████▊ | 500/569 [00:43<00:06, 11.02it/s]"
          ]
        },
        {
          "output_type": "stream",
          "name": "stdout",
          "text": [
            "Tr-no_1397.jpg -> Class: notumor, Confidence: 1.00\n",
            "Saving Tr-no_1397.jpg to BT100/Training/notumor/20250328_215919_Tr-no_1397.jpg\n",
            "\u001b[1m1/1\u001b[0m \u001b[32m━━━━━━━━━━━━━━━━━━━━\u001b[0m\u001b[37m\u001b[0m \u001b[1m0s\u001b[0m 32ms/step\n",
            "Tr-pi_0502.jpg -> Class: pituitary, Confidence: 1.00\n",
            "Saving Tr-pi_0502.jpg to BT100/Training/pituitary/20250328_215919_Tr-pi_0502.jpg\n",
            "\u001b[1m1/1\u001b[0m \u001b[32m━━━━━━━━━━━━━━━━━━━━\u001b[0m\u001b[37m\u001b[0m \u001b[1m0s\u001b[0m 30ms/step\n"
          ]
        },
        {
          "output_type": "stream",
          "name": "stderr",
          "text": [
            "\r 88%|████████▊ | 502/569 [00:43<00:05, 11.54it/s]"
          ]
        },
        {
          "output_type": "stream",
          "name": "stdout",
          "text": [
            "Tr-pi_1365.jpg -> Class: pituitary, Confidence: 1.00\n",
            "Saving Tr-pi_1365.jpg to BT100/Training/pituitary/20250328_215919_Tr-pi_1365.jpg\n",
            "\u001b[1m1/1\u001b[0m \u001b[32m━━━━━━━━━━━━━━━━━━━━\u001b[0m\u001b[37m\u001b[0m \u001b[1m0s\u001b[0m 32ms/step\n",
            "Tr-pi_0663.jpg -> Class: pituitary, Confidence: 1.00\n",
            "Saving Tr-pi_0663.jpg to BT100/Training/pituitary/20250328_215919_Tr-pi_0663.jpg\n",
            "\u001b[1m1/1\u001b[0m \u001b[32m━━━━━━━━━━━━━━━━━━━━\u001b[0m\u001b[37m\u001b[0m \u001b[1m0s\u001b[0m 34ms/step\n"
          ]
        },
        {
          "output_type": "stream",
          "name": "stderr",
          "text": [
            "\r 89%|████████▊ | 504/569 [00:44<00:06, 10.60it/s]"
          ]
        },
        {
          "output_type": "stream",
          "name": "stdout",
          "text": [
            "Tr-me_0888.jpg -> Class: meningioma, Confidence: 1.00\n",
            "Saving Tr-me_0888.jpg to BT100/Training/meningioma/20250328_215920_Tr-me_0888.jpg\n",
            "\u001b[1m1/1\u001b[0m \u001b[32m━━━━━━━━━━━━━━━━━━━━\u001b[0m\u001b[37m\u001b[0m \u001b[1m0s\u001b[0m 33ms/step\n",
            "Tr-no_1033.jpg -> Class: notumor, Confidence: 1.00\n",
            "Saving Tr-no_1033.jpg to BT100/Training/notumor/20250328_215920_Tr-no_1033.jpg\n",
            "\u001b[1m1/1\u001b[0m \u001b[32m━━━━━━━━━━━━━━━━━━━━\u001b[0m\u001b[37m\u001b[0m \u001b[1m0s\u001b[0m 33ms/step\n"
          ]
        },
        {
          "output_type": "stream",
          "name": "stderr",
          "text": [
            "\r 89%|████████▉ | 506/569 [00:44<00:06,  9.87it/s]"
          ]
        },
        {
          "output_type": "stream",
          "name": "stdout",
          "text": [
            "Tr-no_1412.jpg -> Class: notumor, Confidence: 1.00\n",
            "Saving Tr-no_1412.jpg to BT100/Training/notumor/20250328_215920_Tr-no_1412.jpg\n",
            "\u001b[1m1/1\u001b[0m \u001b[32m━━━━━━━━━━━━━━━━━━━━\u001b[0m\u001b[37m\u001b[0m \u001b[1m0s\u001b[0m 30ms/step\n",
            "Tr-pi_1351.jpg -> Class: pituitary, Confidence: 1.00\n",
            "Saving Tr-pi_1351.jpg to BT100/Training/pituitary/20250328_215920_Tr-pi_1351.jpg\n",
            "\u001b[1m1/1\u001b[0m \u001b[32m━━━━━━━━━━━━━━━━━━━━\u001b[0m\u001b[37m\u001b[0m \u001b[1m0s\u001b[0m 39ms/step\n"
          ]
        },
        {
          "output_type": "stream",
          "name": "stderr",
          "text": [
            "\r 89%|████████▉ | 508/569 [00:44<00:06,  9.91it/s]"
          ]
        },
        {
          "output_type": "stream",
          "name": "stdout",
          "text": [
            "Tr-gl_0982.jpg -> Class: glioma, Confidence: 1.00\n",
            "Saving Tr-gl_0982.jpg to BT100/Training/glioma/20250328_215920_Tr-gl_0982.jpg\n",
            "\u001b[1m1/1\u001b[0m \u001b[32m━━━━━━━━━━━━━━━━━━━━\u001b[0m\u001b[37m\u001b[0m \u001b[1m0s\u001b[0m 32ms/step\n",
            "Tr-noTr_0009.jpg -> Class: notumor, Confidence: 1.00\n",
            "Saving Tr-noTr_0009.jpg to BT100/Training/notumor/20250328_215920_Tr-noTr_0009.jpg\n",
            "\u001b[1m1/1\u001b[0m \u001b[32m━━━━━━━━━━━━━━━━━━━━\u001b[0m\u001b[37m\u001b[0m \u001b[1m0s\u001b[0m 34ms/step\n"
          ]
        },
        {
          "output_type": "stream",
          "name": "stderr",
          "text": [
            "\r 90%|████████▉ | 510/569 [00:44<00:06,  9.57it/s]"
          ]
        },
        {
          "output_type": "stream",
          "name": "stdout",
          "text": [
            "Tr-gl_0074.jpg -> Class: glioma, Confidence: 1.00\n",
            "Saving Tr-gl_0074.jpg to BT100/Training/glioma/20250328_215920_Tr-gl_0074.jpg\n",
            "\u001b[1m1/1\u001b[0m \u001b[32m━━━━━━━━━━━━━━━━━━━━\u001b[0m\u001b[37m\u001b[0m \u001b[1m0s\u001b[0m 30ms/step\n",
            "Tr-me_0903.jpg -> Class: meningioma, Confidence: 1.00\n",
            "Saving Tr-me_0903.jpg to BT100/Training/meningioma/20250328_215920_Tr-me_0903.jpg\n",
            "\u001b[1m1/1\u001b[0m \u001b[32m━━━━━━━━━━━━━━━━━━━━\u001b[0m\u001b[37m\u001b[0m \u001b[1m0s\u001b[0m 31ms/step\n"
          ]
        },
        {
          "output_type": "stream",
          "name": "stderr",
          "text": [
            "\r 90%|████████▉ | 512/569 [00:44<00:05,  9.80it/s]"
          ]
        },
        {
          "output_type": "stream",
          "name": "stdout",
          "text": [
            "Tr-me_0456.jpg -> Class: meningioma, Confidence: 1.00\n",
            "Saving Tr-me_0456.jpg to BT100/Training/meningioma/20250328_215920_Tr-me_0456.jpg\n",
            "\u001b[1m1/1\u001b[0m \u001b[32m━━━━━━━━━━━━━━━━━━━━\u001b[0m\u001b[37m\u001b[0m \u001b[1m0s\u001b[0m 31ms/step\n",
            "Tr-no_0077.jpg -> Class: notumor, Confidence: 1.00\n",
            "Saving Tr-no_0077.jpg to BT100/Training/notumor/20250328_215920_Tr-no_0077.jpg\n",
            "\u001b[1m1/1\u001b[0m \u001b[32m━━━━━━━━━━━━━━━━━━━━\u001b[0m\u001b[37m\u001b[0m \u001b[1m0s\u001b[0m 32ms/step\n"
          ]
        },
        {
          "output_type": "stream",
          "name": "stderr",
          "text": [
            "\r 90%|█████████ | 514/569 [00:45<00:05, 10.02it/s]"
          ]
        },
        {
          "output_type": "stream",
          "name": "stdout",
          "text": [
            "Tr-pi_0580.jpg -> Class: pituitary, Confidence: 1.00\n",
            "Saving Tr-pi_0580.jpg to BT100/Training/pituitary/20250328_215921_Tr-pi_0580.jpg\n",
            "\u001b[1m1/1\u001b[0m \u001b[32m━━━━━━━━━━━━━━━━━━━━\u001b[0m\u001b[37m\u001b[0m \u001b[1m0s\u001b[0m 32ms/step\n",
            "Tr-me_0528.jpg -> Class: meningioma, Confidence: 1.00\n",
            "Saving Tr-me_0528.jpg to BT100/Training/meningioma/20250328_215921_Tr-me_0528.jpg\n",
            "\u001b[1m1/1\u001b[0m \u001b[32m━━━━━━━━━━━━━━━━━━━━\u001b[0m\u001b[37m\u001b[0m \u001b[1m0s\u001b[0m 32ms/step\n"
          ]
        },
        {
          "output_type": "stream",
          "name": "stderr",
          "text": [
            "\r 91%|█████████ | 516/569 [00:45<00:05, 10.18it/s]"
          ]
        },
        {
          "output_type": "stream",
          "name": "stdout",
          "text": [
            "Tr-no_1147.jpg -> Class: notumor, Confidence: 1.00\n",
            "Saving Tr-no_1147.jpg to BT100/Training/notumor/20250328_215921_Tr-no_1147.jpg\n",
            "\u001b[1m1/1\u001b[0m \u001b[32m━━━━━━━━━━━━━━━━━━━━\u001b[0m\u001b[37m\u001b[0m \u001b[1m0s\u001b[0m 31ms/step\n",
            "Tr-no_1439.jpg -> Class: notumor, Confidence: 1.00\n",
            "Saving Tr-no_1439.jpg to BT100/Training/notumor/20250328_215921_Tr-no_1439.jpg\n",
            "\u001b[1m1/1\u001b[0m \u001b[32m━━━━━━━━━━━━━━━━━━━━\u001b[0m\u001b[37m\u001b[0m \u001b[1m0s\u001b[0m 43ms/step\n"
          ]
        },
        {
          "output_type": "stream",
          "name": "stderr",
          "text": [
            "\r 91%|█████████ | 518/569 [00:45<00:04, 10.52it/s]"
          ]
        },
        {
          "output_type": "stream",
          "name": "stdout",
          "text": [
            "Tr-me_0392.jpg -> Class: meningioma, Confidence: 1.00\n",
            "Saving Tr-me_0392.jpg to BT100/Training/meningioma/20250328_215921_Tr-me_0392.jpg\n",
            "\u001b[1m1/1\u001b[0m \u001b[32m━━━━━━━━━━━━━━━━━━━━\u001b[0m\u001b[37m\u001b[0m \u001b[1m0s\u001b[0m 32ms/step\n",
            "Tr-gl_0588.jpg -> Class: glioma, Confidence: 1.00\n",
            "Saving Tr-gl_0588.jpg to BT100/Training/glioma/20250328_215921_Tr-gl_0588.jpg\n",
            "\u001b[1m1/1\u001b[0m \u001b[32m━━━━━━━━━━━━━━━━━━━━\u001b[0m\u001b[37m\u001b[0m \u001b[1m0s\u001b[0m 33ms/step\n"
          ]
        },
        {
          "output_type": "stream",
          "name": "stderr",
          "text": [
            "\r 91%|█████████▏| 520/569 [00:45<00:04,  9.97it/s]"
          ]
        },
        {
          "output_type": "stream",
          "name": "stdout",
          "text": [
            "Tr-no_1014.jpg -> Class: notumor, Confidence: 1.00\n",
            "Saving Tr-no_1014.jpg to BT100/Training/notumor/20250328_215921_Tr-no_1014.jpg\n",
            "\u001b[1m1/1\u001b[0m \u001b[32m━━━━━━━━━━━━━━━━━━━━\u001b[0m\u001b[37m\u001b[0m \u001b[1m0s\u001b[0m 31ms/step\n",
            "Tr-pi_0116.jpg -> Class: pituitary, Confidence: 1.00\n",
            "Saving Tr-pi_0116.jpg to BT100/Training/pituitary/20250328_215921_Tr-pi_0116.jpg\n",
            "\u001b[1m1/1\u001b[0m \u001b[32m━━━━━━━━━━━━━━━━━━━━\u001b[0m\u001b[37m\u001b[0m \u001b[1m0s\u001b[0m 32ms/step\n"
          ]
        },
        {
          "output_type": "stream",
          "name": "stderr",
          "text": [
            "\r 92%|█████████▏| 522/569 [00:45<00:04, 10.72it/s]"
          ]
        },
        {
          "output_type": "stream",
          "name": "stdout",
          "text": [
            "Tr-gl_0665.jpg -> Class: glioma, Confidence: 1.00\n",
            "Saving Tr-gl_0665.jpg to BT100/Training/glioma/20250328_215921_Tr-gl_0665.jpg\n",
            "\u001b[1m1/1\u001b[0m \u001b[32m━━━━━━━━━━━━━━━━━━━━\u001b[0m\u001b[37m\u001b[0m \u001b[1m0s\u001b[0m 32ms/step\n",
            "Tr-gl_1160.jpg -> Class: glioma, Confidence: 1.00\n",
            "Saving Tr-gl_1160.jpg to BT100/Training/glioma/20250328_215921_Tr-gl_1160.jpg\n",
            "\u001b[1m1/1\u001b[0m \u001b[32m━━━━━━━━━━━━━━━━━━━━\u001b[0m\u001b[37m\u001b[0m \u001b[1m0s\u001b[0m 34ms/step\n"
          ]
        },
        {
          "output_type": "stream",
          "name": "stderr",
          "text": [
            "\r 92%|█████████▏| 524/569 [00:46<00:04,  9.92it/s]"
          ]
        },
        {
          "output_type": "stream",
          "name": "stdout",
          "text": [
            "Tr-no_0090.jpg -> Class: notumor, Confidence: 1.00\n",
            "Saving Tr-no_0090.jpg to BT100/Training/notumor/20250328_215922_Tr-no_0090.jpg\n",
            "\u001b[1m1/1\u001b[0m \u001b[32m━━━━━━━━━━━━━━━━━━━━\u001b[0m\u001b[37m\u001b[0m \u001b[1m0s\u001b[0m 33ms/step\n",
            "Tr-me_0201.jpg -> Class: meningioma, Confidence: 1.00\n",
            "Saving Tr-me_0201.jpg to BT100/Training/meningioma/20250328_215922_Tr-me_0201.jpg\n",
            "\u001b[1m1/1\u001b[0m \u001b[32m━━━━━━━━━━━━━━━━━━━━\u001b[0m\u001b[37m\u001b[0m \u001b[1m0s\u001b[0m 31ms/step\n"
          ]
        },
        {
          "output_type": "stream",
          "name": "stderr",
          "text": [
            "\r 92%|█████████▏| 526/569 [00:46<00:04,  9.97it/s]"
          ]
        },
        {
          "output_type": "stream",
          "name": "stdout",
          "text": [
            "Tr-me_0444.jpg -> Class: meningioma, Confidence: 1.00\n",
            "Saving Tr-me_0444.jpg to BT100/Training/meningioma/20250328_215922_Tr-me_0444.jpg\n",
            "\u001b[1m1/1\u001b[0m \u001b[32m━━━━━━━━━━━━━━━━━━━━\u001b[0m\u001b[37m\u001b[0m \u001b[1m0s\u001b[0m 31ms/step\n",
            "Tr-pi_0452.jpg -> Class: pituitary, Confidence: 1.00\n",
            "Saving Tr-pi_0452.jpg to BT100/Training/pituitary/20250328_215922_Tr-pi_0452.jpg\n",
            "\u001b[1m1/1\u001b[0m \u001b[32m━━━━━━━━━━━━━━━━━━━━\u001b[0m\u001b[37m\u001b[0m \u001b[1m0s\u001b[0m 40ms/step\n"
          ]
        },
        {
          "output_type": "stream",
          "name": "stderr",
          "text": [
            "\r 93%|█████████▎| 528/569 [00:46<00:04,  9.80it/s]"
          ]
        },
        {
          "output_type": "stream",
          "name": "stdout",
          "text": [
            "Tr-no_1496.jpg -> Class: notumor, Confidence: 1.00\n",
            "Saving Tr-no_1496.jpg to BT100/Training/notumor/20250328_215922_Tr-no_1496.jpg\n",
            "\u001b[1m1/1\u001b[0m \u001b[32m━━━━━━━━━━━━━━━━━━━━\u001b[0m\u001b[37m\u001b[0m \u001b[1m0s\u001b[0m 38ms/step\n",
            "Tr-no_0531.jpg -> Class: notumor, Confidence: 1.00\n",
            "Saving Tr-no_0531.jpg to BT100/Training/notumor/20250328_215922_Tr-no_0531.jpg\n",
            "\u001b[1m1/1\u001b[0m \u001b[32m━━━━━━━━━━━━━━━━━━━━\u001b[0m\u001b[37m\u001b[0m \u001b[1m0s\u001b[0m 31ms/step\n"
          ]
        },
        {
          "output_type": "stream",
          "name": "stderr",
          "text": [
            "\r 93%|█████████▎| 530/569 [00:46<00:03, 10.67it/s]"
          ]
        },
        {
          "output_type": "stream",
          "name": "stdout",
          "text": [
            "Tr-no_0073.jpg -> Class: notumor, Confidence: 1.00\n",
            "Saving Tr-no_0073.jpg to BT100/Training/notumor/20250328_215922_Tr-no_0073.jpg\n",
            "\u001b[1m1/1\u001b[0m \u001b[32m━━━━━━━━━━━━━━━━━━━━\u001b[0m\u001b[37m\u001b[0m \u001b[1m0s\u001b[0m 33ms/step\n",
            "Tr-no_1018.jpg -> Class: notumor, Confidence: 1.00\n",
            "Saving Tr-no_1018.jpg to BT100/Training/notumor/20250328_215922_Tr-no_1018.jpg\n",
            "\u001b[1m1/1\u001b[0m \u001b[32m━━━━━━━━━━━━━━━━━━━━\u001b[0m\u001b[37m\u001b[0m \u001b[1m0s\u001b[0m 33ms/step\n"
          ]
        },
        {
          "output_type": "stream",
          "name": "stderr",
          "text": [
            "\r 93%|█████████▎| 532/569 [00:46<00:03, 11.44it/s]"
          ]
        },
        {
          "output_type": "stream",
          "name": "stdout",
          "text": [
            "Tr-no_1573.jpg -> Class: notumor, Confidence: 1.00\n",
            "Saving Tr-no_1573.jpg to BT100/Training/notumor/20250328_215922_Tr-no_1573.jpg\n",
            "\u001b[1m1/1\u001b[0m \u001b[32m━━━━━━━━━━━━━━━━━━━━\u001b[0m\u001b[37m\u001b[0m \u001b[1m0s\u001b[0m 30ms/step\n",
            "Tr-no_0457.jpg -> Class: notumor, Confidence: 1.00\n",
            "Saving Tr-no_0457.jpg to BT100/Training/notumor/20250328_215922_Tr-no_0457.jpg\n",
            "\u001b[1m1/1\u001b[0m \u001b[32m━━━━━━━━━━━━━━━━━━━━\u001b[0m\u001b[37m\u001b[0m \u001b[1m0s\u001b[0m 32ms/step\n"
          ]
        },
        {
          "output_type": "stream",
          "name": "stderr",
          "text": [
            "\r 94%|█████████▍| 534/569 [00:46<00:02, 12.14it/s]"
          ]
        },
        {
          "output_type": "stream",
          "name": "stdout",
          "text": [
            "Tr-pi_0619.jpg -> Class: pituitary, Confidence: 1.00\n",
            "Saving Tr-pi_0619.jpg to BT100/Training/pituitary/20250328_215922_Tr-pi_0619.jpg\n",
            "\u001b[1m1/1\u001b[0m \u001b[32m━━━━━━━━━━━━━━━━━━━━\u001b[0m\u001b[37m\u001b[0m \u001b[1m0s\u001b[0m 33ms/step\n",
            "Tr-me_0511.jpg -> Class: meningioma, Confidence: 1.00\n",
            "Saving Tr-me_0511.jpg to BT100/Training/meningioma/20250328_215922_Tr-me_0511.jpg\n",
            "\u001b[1m1/1\u001b[0m \u001b[32m━━━━━━━━━━━━━━━━━━━━\u001b[0m\u001b[37m\u001b[0m \u001b[1m0s\u001b[0m 45ms/step\n"
          ]
        },
        {
          "output_type": "stream",
          "name": "stderr",
          "text": [
            "\r 94%|█████████▍| 536/569 [00:47<00:02, 11.68it/s]"
          ]
        },
        {
          "output_type": "stream",
          "name": "stdout",
          "text": [
            "Tr-no_0408.jpg -> Class: notumor, Confidence: 1.00\n",
            "Saving Tr-no_0408.jpg to BT100/Training/notumor/20250328_215923_Tr-no_0408.jpg\n",
            "\u001b[1m1/1\u001b[0m \u001b[32m━━━━━━━━━━━━━━━━━━━━\u001b[0m\u001b[37m\u001b[0m \u001b[1m0s\u001b[0m 32ms/step\n",
            "Tr-pi_0433.jpg -> Class: pituitary, Confidence: 1.00\n",
            "Saving Tr-pi_0433.jpg to BT100/Training/pituitary/20250328_215923_Tr-pi_0433.jpg\n",
            "\u001b[1m1/1\u001b[0m \u001b[32m━━━━━━━━━━━━━━━━━━━━\u001b[0m\u001b[37m\u001b[0m \u001b[1m0s\u001b[0m 31ms/step\n"
          ]
        },
        {
          "output_type": "stream",
          "name": "stderr",
          "text": [
            "\r 95%|█████████▍| 538/569 [00:47<00:02, 11.22it/s]"
          ]
        },
        {
          "output_type": "stream",
          "name": "stdout",
          "text": [
            "Tr-gl_0176.jpg -> Class: glioma, Confidence: 1.00\n",
            "Saving Tr-gl_0176.jpg to BT100/Training/glioma/20250328_215923_Tr-gl_0176.jpg\n",
            "\u001b[1m1/1\u001b[0m \u001b[32m━━━━━━━━━━━━━━━━━━━━\u001b[0m\u001b[37m\u001b[0m \u001b[1m0s\u001b[0m 36ms/step\n",
            "Tr-me_0307.jpg -> Class: meningioma, Confidence: 1.00\n",
            "Saving Tr-me_0307.jpg to BT100/Training/meningioma/20250328_215923_Tr-me_0307.jpg\n",
            "\u001b[1m1/1\u001b[0m \u001b[32m━━━━━━━━━━━━━━━━━━━━\u001b[0m\u001b[37m\u001b[0m \u001b[1m0s\u001b[0m 34ms/step\n"
          ]
        },
        {
          "output_type": "stream",
          "name": "stderr",
          "text": [
            "\r 95%|█████████▍| 540/569 [00:47<00:02, 10.30it/s]"
          ]
        },
        {
          "output_type": "stream",
          "name": "stdout",
          "text": [
            "Tr-pi_1068.jpg -> Class: pituitary, Confidence: 1.00\n",
            "Saving Tr-pi_1068.jpg to BT100/Training/pituitary/20250328_215923_Tr-pi_1068.jpg\n",
            "\u001b[1m1/1\u001b[0m \u001b[32m━━━━━━━━━━━━━━━━━━━━\u001b[0m\u001b[37m\u001b[0m \u001b[1m0s\u001b[0m 34ms/step\n",
            "Tr-gl_0273.jpg -> Class: glioma, Confidence: 1.00\n",
            "Saving Tr-gl_0273.jpg to BT100/Training/glioma/20250328_215923_Tr-gl_0273.jpg\n",
            "\u001b[1m1/1\u001b[0m \u001b[32m━━━━━━━━━━━━━━━━━━━━\u001b[0m\u001b[37m\u001b[0m \u001b[1m0s\u001b[0m 32ms/step\n"
          ]
        },
        {
          "output_type": "stream",
          "name": "stderr",
          "text": [
            "\r 95%|█████████▌| 542/569 [00:47<00:02, 10.32it/s]"
          ]
        },
        {
          "output_type": "stream",
          "name": "stdout",
          "text": [
            "Tr-pi_0104.jpg -> Class: pituitary, Confidence: 1.00\n",
            "Saving Tr-pi_0104.jpg to BT100/Training/pituitary/20250328_215923_Tr-pi_0104.jpg\n",
            "\u001b[1m1/1\u001b[0m \u001b[32m━━━━━━━━━━━━━━━━━━━━\u001b[0m\u001b[37m\u001b[0m \u001b[1m0s\u001b[0m 30ms/step\n",
            "Tr-me_0269.jpg -> Class: meningioma, Confidence: 1.00\n",
            "Saving Tr-me_0269.jpg to BT100/Training/meningioma/20250328_215923_Tr-me_0269.jpg\n",
            "\u001b[1m1/1\u001b[0m \u001b[32m━━━━━━━━━━━━━━━━━━━━\u001b[0m\u001b[37m\u001b[0m \u001b[1m0s\u001b[0m 31ms/step\n"
          ]
        },
        {
          "output_type": "stream",
          "name": "stderr",
          "text": [
            "\r 96%|█████████▌| 544/569 [00:47<00:02, 11.09it/s]"
          ]
        },
        {
          "output_type": "stream",
          "name": "stdout",
          "text": [
            "Tr-pi_0731.jpg -> Class: pituitary, Confidence: 1.00\n",
            "Saving Tr-pi_0731.jpg to BT100/Training/pituitary/20250328_215923_Tr-pi_0731.jpg\n",
            "\u001b[1m1/1\u001b[0m \u001b[32m━━━━━━━━━━━━━━━━━━━━\u001b[0m\u001b[37m\u001b[0m \u001b[1m0s\u001b[0m 34ms/step\n",
            "Tr-pi_1032.jpg -> Class: pituitary, Confidence: 1.00\n",
            "Saving Tr-pi_1032.jpg to BT100/Training/pituitary/20250328_215923_Tr-pi_1032.jpg\n",
            "\u001b[1m1/1\u001b[0m \u001b[32m━━━━━━━━━━━━━━━━━━━━\u001b[0m\u001b[37m\u001b[0m \u001b[1m0s\u001b[0m 33ms/step\n"
          ]
        },
        {
          "output_type": "stream",
          "name": "stderr",
          "text": [
            "\r 96%|█████████▌| 546/569 [00:48<00:02, 10.87it/s]"
          ]
        },
        {
          "output_type": "stream",
          "name": "stdout",
          "text": [
            "Tr-no_0083.jpg -> Class: notumor, Confidence: 1.00\n",
            "Saving Tr-no_0083.jpg to BT100/Training/notumor/20250328_215924_Tr-no_0083.jpg\n",
            "\u001b[1m1/1\u001b[0m \u001b[32m━━━━━━━━━━━━━━━━━━━━\u001b[0m\u001b[37m\u001b[0m \u001b[1m0s\u001b[0m 32ms/step\n",
            "Tr-no_0540.jpg -> Class: notumor, Confidence: 1.00\n",
            "Saving Tr-no_0540.jpg to BT100/Training/notumor/20250328_215924_Tr-no_0540.jpg\n",
            "\u001b[1m1/1\u001b[0m \u001b[32m━━━━━━━━━━━━━━━━━━━━\u001b[0m\u001b[37m\u001b[0m \u001b[1m0s\u001b[0m 33ms/step\n"
          ]
        },
        {
          "output_type": "stream",
          "name": "stderr",
          "text": [
            "\r 96%|█████████▋| 548/569 [00:48<00:01, 10.69it/s]"
          ]
        },
        {
          "output_type": "stream",
          "name": "stdout",
          "text": [
            "Tr-pi_0394.jpg -> Class: pituitary, Confidence: 1.00\n",
            "Saving Tr-pi_0394.jpg to BT100/Training/pituitary/20250328_215924_Tr-pi_0394.jpg\n",
            "\u001b[1m1/1\u001b[0m \u001b[32m━━━━━━━━━━━━━━━━━━━━\u001b[0m\u001b[37m\u001b[0m \u001b[1m0s\u001b[0m 33ms/step\n",
            "Tr-pi_0443.jpg -> Class: pituitary, Confidence: 1.00\n",
            "Saving Tr-pi_0443.jpg to BT100/Training/pituitary/20250328_215924_Tr-pi_0443.jpg\n",
            "\u001b[1m1/1\u001b[0m \u001b[32m━━━━━━━━━━━━━━━━━━━━\u001b[0m\u001b[37m\u001b[0m \u001b[1m0s\u001b[0m 40ms/step\n"
          ]
        },
        {
          "output_type": "stream",
          "name": "stderr",
          "text": [
            "\r 97%|█████████▋| 550/569 [00:48<00:01, 10.12it/s]"
          ]
        },
        {
          "output_type": "stream",
          "name": "stdout",
          "text": [
            "Tr-no_0126.jpg -> Class: notumor, Confidence: 1.00\n",
            "Saving Tr-no_0126.jpg to BT100/Training/notumor/20250328_215924_Tr-no_0126.jpg\n",
            "\u001b[1m1/1\u001b[0m \u001b[32m━━━━━━━━━━━━━━━━━━━━\u001b[0m\u001b[37m\u001b[0m \u001b[1m0s\u001b[0m 39ms/step\n",
            "Tr-pi_0353.jpg -> Class: pituitary, Confidence: 1.00\n",
            "Saving Tr-pi_0353.jpg to BT100/Training/pituitary/20250328_215924_Tr-pi_0353.jpg\n",
            "\u001b[1m1/1\u001b[0m \u001b[32m━━━━━━━━━━━━━━━━━━━━\u001b[0m\u001b[37m\u001b[0m \u001b[1m0s\u001b[0m 35ms/step\n"
          ]
        },
        {
          "output_type": "stream",
          "name": "stderr",
          "text": [
            "\r 97%|█████████▋| 552/569 [00:48<00:01,  9.60it/s]"
          ]
        },
        {
          "output_type": "stream",
          "name": "stdout",
          "text": [
            "Tr-gl_0666.jpg -> Class: glioma, Confidence: 1.00\n",
            "Saving Tr-gl_0666.jpg to BT100/Training/glioma/20250328_215924_Tr-gl_0666.jpg\n",
            "\u001b[1m1/1\u001b[0m \u001b[32m━━━━━━━━━━━━━━━━━━━━\u001b[0m\u001b[37m\u001b[0m \u001b[1m0s\u001b[0m 33ms/step\n"
          ]
        },
        {
          "output_type": "stream",
          "name": "stderr",
          "text": [
            "\r 97%|█████████▋| 553/569 [00:48<00:01,  9.36it/s]"
          ]
        },
        {
          "output_type": "stream",
          "name": "stdout",
          "text": [
            "Tr-pi_1395.jpg -> Class: pituitary, Confidence: 1.00\n",
            "Saving Tr-pi_1395.jpg to BT100/Training/pituitary/20250328_215924_Tr-pi_1395.jpg\n",
            "\u001b[1m1/1\u001b[0m \u001b[32m━━━━━━━━━━━━━━━━━━━━\u001b[0m\u001b[37m\u001b[0m \u001b[1m0s\u001b[0m 36ms/step\n"
          ]
        },
        {
          "output_type": "stream",
          "name": "stderr",
          "text": [
            "\r 97%|█████████▋| 554/569 [00:48<00:01,  9.25it/s]"
          ]
        },
        {
          "output_type": "stream",
          "name": "stdout",
          "text": [
            "Tr-gl_0167.jpg -> Class: glioma, Confidence: 1.00\n",
            "Saving Tr-gl_0167.jpg to BT100/Training/glioma/20250328_215924_Tr-gl_0167.jpg\n",
            "\u001b[1m1/1\u001b[0m \u001b[32m━━━━━━━━━━━━━━━━━━━━\u001b[0m\u001b[37m\u001b[0m \u001b[1m0s\u001b[0m 32ms/step\n",
            "Tr-no_0799.jpg -> Class: notumor, Confidence: 1.00\n",
            "Saving Tr-no_0799.jpg to BT100/Training/notumor/20250328_215925_Tr-no_0799.jpg\n",
            "\u001b[1m1/1\u001b[0m \u001b[32m━━━━━━━━━━━━━━━━━━━━\u001b[0m\u001b[37m\u001b[0m \u001b[1m0s\u001b[0m 30ms/step\n"
          ]
        },
        {
          "output_type": "stream",
          "name": "stderr",
          "text": [
            "\r 98%|█████████▊| 556/569 [00:49<00:01, 10.39it/s]"
          ]
        },
        {
          "output_type": "stream",
          "name": "stdout",
          "text": [
            "Tr-no_1487.jpg -> Class: notumor, Confidence: 1.00\n",
            "Saving Tr-no_1487.jpg to BT100/Training/notumor/20250328_215925_Tr-no_1487.jpg\n",
            "\u001b[1m1/1\u001b[0m \u001b[32m━━━━━━━━━━━━━━━━━━━━\u001b[0m\u001b[37m\u001b[0m \u001b[1m0s\u001b[0m 32ms/step\n",
            "Tr-pi_1198.jpg -> Class: pituitary, Confidence: 1.00\n",
            "Saving Tr-pi_1198.jpg to BT100/Training/pituitary/20250328_215925_Tr-pi_1198.jpg\n",
            "\u001b[1m1/1\u001b[0m \u001b[32m━━━━━━━━━━━━━━━━━━━━\u001b[0m\u001b[37m\u001b[0m \u001b[1m0s\u001b[0m 33ms/step\n"
          ]
        },
        {
          "output_type": "stream",
          "name": "stderr",
          "text": [
            "\r 98%|█████████▊| 558/569 [00:49<00:00, 11.36it/s]"
          ]
        },
        {
          "output_type": "stream",
          "name": "stdout",
          "text": [
            "Tr-gl_1307.jpg -> Class: meningioma, Confidence: 0.72\n",
            "\u001b[1m1/1\u001b[0m \u001b[32m━━━━━━━━━━━━━━━━━━━━\u001b[0m\u001b[37m\u001b[0m \u001b[1m0s\u001b[0m 46ms/step\n",
            "Tr-me_0567.jpg -> Class: meningioma, Confidence: 1.00\n",
            "Saving Tr-me_0567.jpg to BT100/Training/meningioma/20250328_215925_Tr-me_0567.jpg\n",
            "\u001b[1m1/1\u001b[0m \u001b[32m━━━━━━━━━━━━━━━━━━━━\u001b[0m\u001b[37m\u001b[0m \u001b[1m0s\u001b[0m 36ms/step\n"
          ]
        },
        {
          "output_type": "stream",
          "name": "stderr",
          "text": [
            "\r 98%|█████████▊| 560/569 [00:49<00:00,  9.84it/s]"
          ]
        },
        {
          "output_type": "stream",
          "name": "stdout",
          "text": [
            "Tr-pi_0446.jpg -> Class: pituitary, Confidence: 1.00\n",
            "Saving Tr-pi_0446.jpg to BT100/Training/pituitary/20250328_215925_Tr-pi_0446.jpg\n",
            "\u001b[1m1/1\u001b[0m \u001b[32m━━━━━━━━━━━━━━━━━━━━\u001b[0m\u001b[37m\u001b[0m \u001b[1m0s\u001b[0m 35ms/step\n",
            "Tr-no_0620.jpg -> Class: notumor, Confidence: 1.00\n",
            "Saving Tr-no_0620.jpg to BT100/Training/notumor/20250328_215925_Tr-no_0620.jpg\n",
            "\u001b[1m1/1\u001b[0m \u001b[32m━━━━━━━━━━━━━━━━━━━━\u001b[0m\u001b[37m\u001b[0m \u001b[1m0s\u001b[0m 36ms/step\n"
          ]
        },
        {
          "output_type": "stream",
          "name": "stderr",
          "text": [
            "\r 99%|█████████▉| 562/569 [00:49<00:00,  9.34it/s]"
          ]
        },
        {
          "output_type": "stream",
          "name": "stdout",
          "text": [
            "Tr-pi_1283.jpg -> Class: pituitary, Confidence: 1.00\n",
            "Saving Tr-pi_1283.jpg to BT100/Training/pituitary/20250328_215925_Tr-pi_1283.jpg\n",
            "\u001b[1m1/1\u001b[0m \u001b[32m━━━━━━━━━━━━━━━━━━━━\u001b[0m\u001b[37m\u001b[0m \u001b[1m0s\u001b[0m 50ms/step\n"
          ]
        },
        {
          "output_type": "stream",
          "name": "stderr",
          "text": [
            "\r 99%|█████████▉| 563/569 [00:49<00:00,  9.12it/s]"
          ]
        },
        {
          "output_type": "stream",
          "name": "stdout",
          "text": [
            "Tr-gl_0153.jpg -> Class: glioma, Confidence: 1.00\n",
            "Saving Tr-gl_0153.jpg to BT100/Training/glioma/20250328_215925_Tr-gl_0153.jpg\n",
            "\u001b[1m1/1\u001b[0m \u001b[32m━━━━━━━━━━━━━━━━━━━━\u001b[0m\u001b[37m\u001b[0m \u001b[1m0s\u001b[0m 51ms/step\n"
          ]
        },
        {
          "output_type": "stream",
          "name": "stderr",
          "text": [
            "\r 99%|█████████▉| 564/569 [00:50<00:00,  8.69it/s]"
          ]
        },
        {
          "output_type": "stream",
          "name": "stdout",
          "text": [
            "Tr-no_1268.jpg -> Class: notumor, Confidence: 1.00\n",
            "Saving Tr-no_1268.jpg to BT100/Training/notumor/20250328_215925_Tr-no_1268.jpg\n",
            "\u001b[1m1/1\u001b[0m \u001b[32m━━━━━━━━━━━━━━━━━━━━\u001b[0m\u001b[37m\u001b[0m \u001b[1m0s\u001b[0m 47ms/step\n"
          ]
        },
        {
          "output_type": "stream",
          "name": "stderr",
          "text": [
            "\r 99%|█████████▉| 565/569 [00:50<00:00,  8.55it/s]"
          ]
        },
        {
          "output_type": "stream",
          "name": "stdout",
          "text": [
            "Tr-me_1204.jpg -> Class: meningioma, Confidence: 1.00\n",
            "Saving Tr-me_1204.jpg to BT100/Training/meningioma/20250328_215926_Tr-me_1204.jpg\n",
            "\u001b[1m1/1\u001b[0m \u001b[32m━━━━━━━━━━━━━━━━━━━━\u001b[0m\u001b[37m\u001b[0m \u001b[1m0s\u001b[0m 41ms/step\n"
          ]
        },
        {
          "output_type": "stream",
          "name": "stderr",
          "text": [
            "\r 99%|█████████▉| 566/569 [00:50<00:00,  8.68it/s]"
          ]
        },
        {
          "output_type": "stream",
          "name": "stdout",
          "text": [
            "Tr-no_0824.jpg -> Class: notumor, Confidence: 1.00\n",
            "Saving Tr-no_0824.jpg to BT100/Training/notumor/20250328_215926_Tr-no_0824.jpg\n",
            "\u001b[1m1/1\u001b[0m \u001b[32m━━━━━━━━━━━━━━━━━━━━\u001b[0m\u001b[37m\u001b[0m \u001b[1m0s\u001b[0m 61ms/step\n"
          ]
        },
        {
          "output_type": "stream",
          "name": "stderr",
          "text": [
            "\r100%|█████████▉| 567/569 [00:50<00:00,  8.52it/s]"
          ]
        },
        {
          "output_type": "stream",
          "name": "stdout",
          "text": [
            "Tr-pi_0783.jpg -> Class: pituitary, Confidence: 1.00\n",
            "Saving Tr-pi_0783.jpg to BT100/Training/pituitary/20250328_215926_Tr-pi_0783.jpg\n",
            "\u001b[1m1/1\u001b[0m \u001b[32m━━━━━━━━━━━━━━━━━━━━\u001b[0m\u001b[37m\u001b[0m \u001b[1m0s\u001b[0m 49ms/step\n"
          ]
        },
        {
          "output_type": "stream",
          "name": "stderr",
          "text": [
            "\r100%|█████████▉| 568/569 [00:50<00:00,  7.98it/s]"
          ]
        },
        {
          "output_type": "stream",
          "name": "stdout",
          "text": [
            "Tr-pi_0736.jpg -> Class: pituitary, Confidence: 1.00\n",
            "Saving Tr-pi_0736.jpg to BT100/Training/pituitary/20250328_215926_Tr-pi_0736.jpg\n",
            "\u001b[1m1/1\u001b[0m \u001b[32m━━━━━━━━━━━━━━━━━━━━\u001b[0m\u001b[37m\u001b[0m \u001b[1m0s\u001b[0m 51ms/step\n"
          ]
        },
        {
          "output_type": "stream",
          "name": "stderr",
          "text": [
            "\r100%|██████████| 569/569 [00:50<00:00,  7.71it/s]"
          ]
        },
        {
          "output_type": "stream",
          "name": "stdout",
          "text": [
            "Tr-me_0770.jpg -> Class: meningioma, Confidence: 1.00\n",
            "Saving Tr-me_0770.jpg to BT100/Training/meningioma/20250328_215926_Tr-me_0770.jpg\n"
          ]
        },
        {
          "output_type": "stream",
          "name": "stderr",
          "text": [
            "\r100%|██████████| 569/569 [00:50<00:00, 11.23it/s]"
          ]
        },
        {
          "output_type": "stream",
          "name": "stdout",
          "text": [
            "✅ Pseudo-labeling completed. Check the output folder for labeled images.\n"
          ]
        },
        {
          "output_type": "stream",
          "name": "stderr",
          "text": [
            "\n"
          ]
        }
      ]
    },
    {
      "cell_type": "code",
      "source": [
        "# Printing traing and testing sample sizes\n",
        "print('Training')\n",
        "# print(f'Number of Paths: {len(train_paths)}')\n",
        "print(f'Number of Labels: {len(train_index)}')\n",
        "print('\\nTesting')\n",
        "# print(f'Number of Paths: {len(test_paths)}')\n",
        "print(f'Number of Labels: {len(test_index)}')"
      ],
      "metadata": {
        "colab": {
          "base_uri": "https://localhost:8080/"
        },
        "id": "kRrqyl5nmt1t",
        "outputId": "1204b436-ebaf-4875-a8ea-086215659128"
      },
      "execution_count": 66,
      "outputs": [
        {
          "output_type": "stream",
          "name": "stdout",
          "text": [
            "Training\n",
            "Number of Labels: 5143\n",
            "\n",
            "Testing\n",
            "Number of Labels: 1311\n"
          ]
        }
      ]
    },
    {
      "cell_type": "code",
      "source": [
        "def count_files(folder_path):\n",
        "    if not os.path.exists(folder_path):\n",
        "        print(\"Folder does not exist.\")\n",
        "        return 0\n",
        "\n",
        "    file_count = len([f for f in os.listdir(folder_path) if os.path.isfile(os.path.join(folder_path, f))])\n",
        "    print(f\"Number of files in '{folder_path}': {file_count}\")\n",
        "    return file_count\n",
        "\n",
        "# Define the unlabelled folder path\n",
        "unlabelled_folder = \"BT90-10/unlabelled\"  # Update with the actual path\n",
        "count_files(unlabelled_folder)"
      ],
      "metadata": {
        "colab": {
          "base_uri": "https://localhost:8080/"
        },
        "id": "VbyBNCH5nZPk",
        "outputId": "f8c7744f-f90a-46a6-9034-514bc7e9a358"
      },
      "execution_count": 69,
      "outputs": [
        {
          "output_type": "stream",
          "name": "stdout",
          "text": [
            "Folder does not exist.\n"
          ]
        },
        {
          "output_type": "execute_result",
          "data": {
            "text/plain": [
              "0"
            ]
          },
          "metadata": {},
          "execution_count": 69
        }
      ]
    },
    {
      "cell_type": "code",
      "source": [
        "import os\n",
        "\n",
        "# Define the path to the training folder\n",
        "TRAINING_FOLDER = \"BT100/Training\"  # Update with actual path if needed\n",
        "\n",
        "# Count total files\n",
        "total_files = sum(len(files) for _, _, files in os.walk(TRAINING_FOLDER))\n",
        "\n",
        "print(f\"Total number of files in the Training folder: {total_files}\")\n"
      ],
      "metadata": {
        "colab": {
          "base_uri": "https://localhost:8080/"
        },
        "id": "ew7Vqb3MrFZj",
        "outputId": "611de723-cee2-4f80-9916-1c1a7882aea6"
      },
      "execution_count": 70,
      "outputs": [
        {
          "output_type": "stream",
          "name": "stdout",
          "text": [
            "Total number of files in the Training folder: 5697\n"
          ]
        }
      ]
    },
    {
      "cell_type": "markdown",
      "source": [
        "# SSL"
      ],
      "metadata": {
        "id": "ZPWwwMA9zKYR"
      }
    },
    {
      "cell_type": "code",
      "source": [
        "import os\n",
        "import tensorflow as tf\n",
        "\n",
        "\n",
        "train_paths = 'BT100/Training'\n",
        "test_paths = 'BT100/Testing'\n",
        "\n",
        "\n",
        "train_image_paths, train_index = get_data_labels(train_paths)\n",
        "\n",
        "test_image_paths, test_index = get_data_labels(test_paths)\n",
        "\n",
        "\n",
        "batch_size = 32\n",
        "image_dim = (168, 168)\n",
        "train_ds = get_dataset(train_image_paths, train_index, image_dim, n_channels=1, num_classes=4, batch_size=batch_size)\n",
        "test_ds = get_dataset(test_image_paths, test_index, image_dim, n_channels=1, num_classes=4, batch_size=batch_size)\n",
        ""
      ],
      "metadata": {
        "id": "lxElrAwmsLBT"
      },
      "execution_count": 71,
      "outputs": []
    },
    {
      "cell_type": "code",
      "source": [
        "class_mappings = {'Glioma': 0, 'Meninigioma': 1, 'Notumor': 2, 'Pituitary': 3}\n",
        "inv_class_mappings = {v: k for k, v in class_mappings.items()}\n",
        "class_names = list(class_mappings.keys())"
      ],
      "metadata": {
        "id": "hjHzfo31zTvB"
      },
      "execution_count": 72,
      "outputs": []
    },
    {
      "cell_type": "code",
      "source": [
        "# Printing traing and testing sample sizes\n",
        "print('Training')\n",
        "# print(f'Number of Paths: {len(train_paths)}')\n",
        "print(f'Number of Labels: {len(train_index)}')\n",
        "print('\\nTesting')\n",
        "# print(f'Number of Paths: {len(test_paths)}')\n",
        "print(f'Number of Labels: {len(test_index)}')"
      ],
      "metadata": {
        "colab": {
          "base_uri": "https://localhost:8080/"
        },
        "id": "XYzapz8kzUCh",
        "outputId": "0c3a2ca1-0336-4550-8d85-c6029be818fe"
      },
      "execution_count": 73,
      "outputs": [
        {
          "output_type": "stream",
          "name": "stdout",
          "text": [
            "Training\n",
            "Number of Labels: 5697\n",
            "\n",
            "Testing\n",
            "Number of Labels: 1311\n"
          ]
        }
      ]
    },
    {
      "cell_type": "code",
      "source": [
        "# Dta augmentation sequential model\n",
        "data_augmentation = Sequential([\n",
        "    RandomFlip(\"horizontal\"),\n",
        "    RandomRotation(0.02, fill_mode='constant'),\n",
        "    RandomContrast(0.1),\n",
        "    RandomZoom(height_factor=0.01, width_factor=0.05),\n",
        "    RandomTranslation(height_factor=0.0015, width_factor=0.0015, fill_mode='constant'),\n",
        "])\n",
        "\n",
        "# Training augmentation and nornalization\n",
        "def preprocess_train(image, label):\n",
        "    # Apply data augmentation and Normalize\n",
        "    image = data_augmentation(image) / 255.0\n",
        "    return image, label\n",
        "\n",
        "\n",
        "\n",
        "\n",
        "# For test dataset only appying normalization\n",
        "def preprocess_test(image, label):\n",
        "    return image / 255.0, label\n",
        "\n",
        "\n",
        "\n",
        "\n",
        "# Apply transformation to training and testing datasets\n",
        "train_ds_preprocessed = train_ds.map(preprocess_train, num_parallel_calls=tf.data.AUTOTUNE)\n",
        "test_ds_preprocessed = test_ds.map(preprocess_test, num_parallel_calls=tf.data.AUTOTUNE)"
      ],
      "metadata": {
        "id": "NdkpmH6WzYNx"
      },
      "execution_count": 74,
      "outputs": []
    },
    {
      "cell_type": "code",
      "source": [
        "num_classes = len(class_mappings.keys())\n",
        "image_shape = (image_dim[0], image_dim[1], 1)\n",
        "\n",
        "# Training epochs and batch size\n",
        "epochs = 50\n",
        "print(f'Number of Classes: {num_classes}')\n",
        "print(f'Image shape: {image_shape}')\n",
        "print(f'Epochs: {epochs}')\n",
        "print(f'Batch size: {batch_size}')\n",
        "\n",
        "def encode_labels(image, label):\n",
        "    return image, tf.one_hot(label, depth=num_classes)\n",
        "\n",
        "train_ds_preprocessed = train_ds_preprocessed.map(encode_labels, num_parallel_calls=tf.data.AUTOTUNE)\n",
        "test_ds_preprocessed = test_ds_preprocessed.map(encode_labels, num_parallel_calls=tf.data.AUTOTUNE)\n",
        ""
      ],
      "metadata": {
        "colab": {
          "base_uri": "https://localhost:8080/"
        },
        "id": "og4FagUIzkiA",
        "outputId": "a7342db5-602a-404e-cbb7-6b80d5faa730"
      },
      "execution_count": 75,
      "outputs": [
        {
          "output_type": "stream",
          "name": "stdout",
          "text": [
            "Number of Classes: 4\n",
            "Image shape: (168, 168, 1)\n",
            "Epochs: 50\n",
            "Batch size: 32\n"
          ]
        }
      ]
    },
    {
      "cell_type": "code",
      "source": [
        "model_1 = Sequential([\n",
        "    # Input tensor shape\n",
        "    Input(shape=image_shape),\n",
        "\n",
        "    # Convolutional layer 1\n",
        "    Conv2D(64, (5, 5), activation=\"relu\"),\n",
        "    MaxPooling2D(pool_size=(3, 3)),\n",
        "\n",
        "    # Convolutional layer 2\n",
        "    Conv2D(64, (5, 5), activation=\"relu\"),\n",
        "    MaxPooling2D(pool_size=(3, 3)),\n",
        "\n",
        "    # Convolutional layer 3\n",
        "    Conv2D(128, (4, 4), activation=\"relu\"),\n",
        "    MaxPooling2D(pool_size=(2, 2)),\n",
        "\n",
        "    # Convolutional layer 4\n",
        "    Conv2D(128, (4, 4), activation=\"relu\"),\n",
        "    MaxPooling2D(pool_size=(2, 2)),\n",
        "    Flatten(),\n",
        "\n",
        "    # Dense layers\n",
        "    Dense(512, activation=\"relu\"),\n",
        "    Dense(num_classes, activation=\"softmax\")\n",
        "])\n",
        "\n",
        "# Model summary\n",
        "model_1.summary()\n",
        "\n",
        "# COompilng model with Adam optimizer\n",
        "optimizer = Adam(learning_rate=0.001, beta_1=0.85, beta_2=0.9925)\n",
        "model_1.compile(optimizer=optimizer, loss='categorical_crossentropy', metrics= ['accuracy'])"
      ],
      "metadata": {
        "colab": {
          "base_uri": "https://localhost:8080/",
          "height": 481
        },
        "id": "6q2Ey1X_zlGx",
        "outputId": "9da332d9-b3bf-4418-eb05-934338f0163e"
      },
      "execution_count": 81,
      "outputs": [
        {
          "output_type": "display_data",
          "data": {
            "text/plain": [
              "\u001b[1mModel: \"sequential_7\"\u001b[0m\n"
            ],
            "text/html": [
              "<pre style=\"white-space:pre;overflow-x:auto;line-height:normal;font-family:Menlo,'DejaVu Sans Mono',consolas,'Courier New',monospace\"><span style=\"font-weight: bold\">Model: \"sequential_7\"</span>\n",
              "</pre>\n"
            ]
          },
          "metadata": {}
        },
        {
          "output_type": "display_data",
          "data": {
            "text/plain": [
              "┏━━━━━━━━━━━━━━━━━━━━━━━━━━━━━━━━━━━━━━┳━━━━━━━━━━━━━━━━━━━━━━━━━━━━━┳━━━━━━━━━━━━━━━━━┓\n",
              "┃\u001b[1m \u001b[0m\u001b[1mLayer (type)                        \u001b[0m\u001b[1m \u001b[0m┃\u001b[1m \u001b[0m\u001b[1mOutput Shape               \u001b[0m\u001b[1m \u001b[0m┃\u001b[1m \u001b[0m\u001b[1m        Param #\u001b[0m\u001b[1m \u001b[0m┃\n",
              "┡━━━━━━━━━━━━━━━━━━━━━━━━━━━━━━━━━━━━━━╇━━━━━━━━━━━━━━━━━━━━━━━━━━━━━╇━━━━━━━━━━━━━━━━━┩\n",
              "│ conv2d_16 (\u001b[38;5;33mConv2D\u001b[0m)                   │ (\u001b[38;5;45mNone\u001b[0m, \u001b[38;5;34m164\u001b[0m, \u001b[38;5;34m164\u001b[0m, \u001b[38;5;34m64\u001b[0m)        │           \u001b[38;5;34m1,664\u001b[0m │\n",
              "├──────────────────────────────────────┼─────────────────────────────┼─────────────────┤\n",
              "│ max_pooling2d_16 (\u001b[38;5;33mMaxPooling2D\u001b[0m)      │ (\u001b[38;5;45mNone\u001b[0m, \u001b[38;5;34m54\u001b[0m, \u001b[38;5;34m54\u001b[0m, \u001b[38;5;34m64\u001b[0m)          │               \u001b[38;5;34m0\u001b[0m │\n",
              "├──────────────────────────────────────┼─────────────────────────────┼─────────────────┤\n",
              "│ conv2d_17 (\u001b[38;5;33mConv2D\u001b[0m)                   │ (\u001b[38;5;45mNone\u001b[0m, \u001b[38;5;34m50\u001b[0m, \u001b[38;5;34m50\u001b[0m, \u001b[38;5;34m64\u001b[0m)          │         \u001b[38;5;34m102,464\u001b[0m │\n",
              "├──────────────────────────────────────┼─────────────────────────────┼─────────────────┤\n",
              "│ max_pooling2d_17 (\u001b[38;5;33mMaxPooling2D\u001b[0m)      │ (\u001b[38;5;45mNone\u001b[0m, \u001b[38;5;34m16\u001b[0m, \u001b[38;5;34m16\u001b[0m, \u001b[38;5;34m64\u001b[0m)          │               \u001b[38;5;34m0\u001b[0m │\n",
              "├──────────────────────────────────────┼─────────────────────────────┼─────────────────┤\n",
              "│ conv2d_18 (\u001b[38;5;33mConv2D\u001b[0m)                   │ (\u001b[38;5;45mNone\u001b[0m, \u001b[38;5;34m13\u001b[0m, \u001b[38;5;34m13\u001b[0m, \u001b[38;5;34m128\u001b[0m)         │         \u001b[38;5;34m131,200\u001b[0m │\n",
              "├──────────────────────────────────────┼─────────────────────────────┼─────────────────┤\n",
              "│ max_pooling2d_18 (\u001b[38;5;33mMaxPooling2D\u001b[0m)      │ (\u001b[38;5;45mNone\u001b[0m, \u001b[38;5;34m6\u001b[0m, \u001b[38;5;34m6\u001b[0m, \u001b[38;5;34m128\u001b[0m)           │               \u001b[38;5;34m0\u001b[0m │\n",
              "├──────────────────────────────────────┼─────────────────────────────┼─────────────────┤\n",
              "│ conv2d_19 (\u001b[38;5;33mConv2D\u001b[0m)                   │ (\u001b[38;5;45mNone\u001b[0m, \u001b[38;5;34m3\u001b[0m, \u001b[38;5;34m3\u001b[0m, \u001b[38;5;34m128\u001b[0m)           │         \u001b[38;5;34m262,272\u001b[0m │\n",
              "├──────────────────────────────────────┼─────────────────────────────┼─────────────────┤\n",
              "│ max_pooling2d_19 (\u001b[38;5;33mMaxPooling2D\u001b[0m)      │ (\u001b[38;5;45mNone\u001b[0m, \u001b[38;5;34m1\u001b[0m, \u001b[38;5;34m1\u001b[0m, \u001b[38;5;34m128\u001b[0m)           │               \u001b[38;5;34m0\u001b[0m │\n",
              "├──────────────────────────────────────┼─────────────────────────────┼─────────────────┤\n",
              "│ flatten_4 (\u001b[38;5;33mFlatten\u001b[0m)                  │ (\u001b[38;5;45mNone\u001b[0m, \u001b[38;5;34m128\u001b[0m)                 │               \u001b[38;5;34m0\u001b[0m │\n",
              "├──────────────────────────────────────┼─────────────────────────────┼─────────────────┤\n",
              "│ dense_8 (\u001b[38;5;33mDense\u001b[0m)                      │ (\u001b[38;5;45mNone\u001b[0m, \u001b[38;5;34m512\u001b[0m)                 │          \u001b[38;5;34m66,048\u001b[0m │\n",
              "├──────────────────────────────────────┼─────────────────────────────┼─────────────────┤\n",
              "│ dense_9 (\u001b[38;5;33mDense\u001b[0m)                      │ (\u001b[38;5;45mNone\u001b[0m, \u001b[38;5;34m4\u001b[0m)                   │           \u001b[38;5;34m2,052\u001b[0m │\n",
              "└──────────────────────────────────────┴─────────────────────────────┴─────────────────┘\n"
            ],
            "text/html": [
              "<pre style=\"white-space:pre;overflow-x:auto;line-height:normal;font-family:Menlo,'DejaVu Sans Mono',consolas,'Courier New',monospace\">┏━━━━━━━━━━━━━━━━━━━━━━━━━━━━━━━━━━━━━━┳━━━━━━━━━━━━━━━━━━━━━━━━━━━━━┳━━━━━━━━━━━━━━━━━┓\n",
              "┃<span style=\"font-weight: bold\"> Layer (type)                         </span>┃<span style=\"font-weight: bold\"> Output Shape                </span>┃<span style=\"font-weight: bold\">         Param # </span>┃\n",
              "┡━━━━━━━━━━━━━━━━━━━━━━━━━━━━━━━━━━━━━━╇━━━━━━━━━━━━━━━━━━━━━━━━━━━━━╇━━━━━━━━━━━━━━━━━┩\n",
              "│ conv2d_16 (<span style=\"color: #0087ff; text-decoration-color: #0087ff\">Conv2D</span>)                   │ (<span style=\"color: #00d7ff; text-decoration-color: #00d7ff\">None</span>, <span style=\"color: #00af00; text-decoration-color: #00af00\">164</span>, <span style=\"color: #00af00; text-decoration-color: #00af00\">164</span>, <span style=\"color: #00af00; text-decoration-color: #00af00\">64</span>)        │           <span style=\"color: #00af00; text-decoration-color: #00af00\">1,664</span> │\n",
              "├──────────────────────────────────────┼─────────────────────────────┼─────────────────┤\n",
              "│ max_pooling2d_16 (<span style=\"color: #0087ff; text-decoration-color: #0087ff\">MaxPooling2D</span>)      │ (<span style=\"color: #00d7ff; text-decoration-color: #00d7ff\">None</span>, <span style=\"color: #00af00; text-decoration-color: #00af00\">54</span>, <span style=\"color: #00af00; text-decoration-color: #00af00\">54</span>, <span style=\"color: #00af00; text-decoration-color: #00af00\">64</span>)          │               <span style=\"color: #00af00; text-decoration-color: #00af00\">0</span> │\n",
              "├──────────────────────────────────────┼─────────────────────────────┼─────────────────┤\n",
              "│ conv2d_17 (<span style=\"color: #0087ff; text-decoration-color: #0087ff\">Conv2D</span>)                   │ (<span style=\"color: #00d7ff; text-decoration-color: #00d7ff\">None</span>, <span style=\"color: #00af00; text-decoration-color: #00af00\">50</span>, <span style=\"color: #00af00; text-decoration-color: #00af00\">50</span>, <span style=\"color: #00af00; text-decoration-color: #00af00\">64</span>)          │         <span style=\"color: #00af00; text-decoration-color: #00af00\">102,464</span> │\n",
              "├──────────────────────────────────────┼─────────────────────────────┼─────────────────┤\n",
              "│ max_pooling2d_17 (<span style=\"color: #0087ff; text-decoration-color: #0087ff\">MaxPooling2D</span>)      │ (<span style=\"color: #00d7ff; text-decoration-color: #00d7ff\">None</span>, <span style=\"color: #00af00; text-decoration-color: #00af00\">16</span>, <span style=\"color: #00af00; text-decoration-color: #00af00\">16</span>, <span style=\"color: #00af00; text-decoration-color: #00af00\">64</span>)          │               <span style=\"color: #00af00; text-decoration-color: #00af00\">0</span> │\n",
              "├──────────────────────────────────────┼─────────────────────────────┼─────────────────┤\n",
              "│ conv2d_18 (<span style=\"color: #0087ff; text-decoration-color: #0087ff\">Conv2D</span>)                   │ (<span style=\"color: #00d7ff; text-decoration-color: #00d7ff\">None</span>, <span style=\"color: #00af00; text-decoration-color: #00af00\">13</span>, <span style=\"color: #00af00; text-decoration-color: #00af00\">13</span>, <span style=\"color: #00af00; text-decoration-color: #00af00\">128</span>)         │         <span style=\"color: #00af00; text-decoration-color: #00af00\">131,200</span> │\n",
              "├──────────────────────────────────────┼─────────────────────────────┼─────────────────┤\n",
              "│ max_pooling2d_18 (<span style=\"color: #0087ff; text-decoration-color: #0087ff\">MaxPooling2D</span>)      │ (<span style=\"color: #00d7ff; text-decoration-color: #00d7ff\">None</span>, <span style=\"color: #00af00; text-decoration-color: #00af00\">6</span>, <span style=\"color: #00af00; text-decoration-color: #00af00\">6</span>, <span style=\"color: #00af00; text-decoration-color: #00af00\">128</span>)           │               <span style=\"color: #00af00; text-decoration-color: #00af00\">0</span> │\n",
              "├──────────────────────────────────────┼─────────────────────────────┼─────────────────┤\n",
              "│ conv2d_19 (<span style=\"color: #0087ff; text-decoration-color: #0087ff\">Conv2D</span>)                   │ (<span style=\"color: #00d7ff; text-decoration-color: #00d7ff\">None</span>, <span style=\"color: #00af00; text-decoration-color: #00af00\">3</span>, <span style=\"color: #00af00; text-decoration-color: #00af00\">3</span>, <span style=\"color: #00af00; text-decoration-color: #00af00\">128</span>)           │         <span style=\"color: #00af00; text-decoration-color: #00af00\">262,272</span> │\n",
              "├──────────────────────────────────────┼─────────────────────────────┼─────────────────┤\n",
              "│ max_pooling2d_19 (<span style=\"color: #0087ff; text-decoration-color: #0087ff\">MaxPooling2D</span>)      │ (<span style=\"color: #00d7ff; text-decoration-color: #00d7ff\">None</span>, <span style=\"color: #00af00; text-decoration-color: #00af00\">1</span>, <span style=\"color: #00af00; text-decoration-color: #00af00\">1</span>, <span style=\"color: #00af00; text-decoration-color: #00af00\">128</span>)           │               <span style=\"color: #00af00; text-decoration-color: #00af00\">0</span> │\n",
              "├──────────────────────────────────────┼─────────────────────────────┼─────────────────┤\n",
              "│ flatten_4 (<span style=\"color: #0087ff; text-decoration-color: #0087ff\">Flatten</span>)                  │ (<span style=\"color: #00d7ff; text-decoration-color: #00d7ff\">None</span>, <span style=\"color: #00af00; text-decoration-color: #00af00\">128</span>)                 │               <span style=\"color: #00af00; text-decoration-color: #00af00\">0</span> │\n",
              "├──────────────────────────────────────┼─────────────────────────────┼─────────────────┤\n",
              "│ dense_8 (<span style=\"color: #0087ff; text-decoration-color: #0087ff\">Dense</span>)                      │ (<span style=\"color: #00d7ff; text-decoration-color: #00d7ff\">None</span>, <span style=\"color: #00af00; text-decoration-color: #00af00\">512</span>)                 │          <span style=\"color: #00af00; text-decoration-color: #00af00\">66,048</span> │\n",
              "├──────────────────────────────────────┼─────────────────────────────┼─────────────────┤\n",
              "│ dense_9 (<span style=\"color: #0087ff; text-decoration-color: #0087ff\">Dense</span>)                      │ (<span style=\"color: #00d7ff; text-decoration-color: #00d7ff\">None</span>, <span style=\"color: #00af00; text-decoration-color: #00af00\">4</span>)                   │           <span style=\"color: #00af00; text-decoration-color: #00af00\">2,052</span> │\n",
              "└──────────────────────────────────────┴─────────────────────────────┴─────────────────┘\n",
              "</pre>\n"
            ]
          },
          "metadata": {}
        },
        {
          "output_type": "display_data",
          "data": {
            "text/plain": [
              "\u001b[1m Total params: \u001b[0m\u001b[38;5;34m565,700\u001b[0m (2.16 MB)\n"
            ],
            "text/html": [
              "<pre style=\"white-space:pre;overflow-x:auto;line-height:normal;font-family:Menlo,'DejaVu Sans Mono',consolas,'Courier New',monospace\"><span style=\"font-weight: bold\"> Total params: </span><span style=\"color: #00af00; text-decoration-color: #00af00\">565,700</span> (2.16 MB)\n",
              "</pre>\n"
            ]
          },
          "metadata": {}
        },
        {
          "output_type": "display_data",
          "data": {
            "text/plain": [
              "\u001b[1m Trainable params: \u001b[0m\u001b[38;5;34m565,700\u001b[0m (2.16 MB)\n"
            ],
            "text/html": [
              "<pre style=\"white-space:pre;overflow-x:auto;line-height:normal;font-family:Menlo,'DejaVu Sans Mono',consolas,'Courier New',monospace\"><span style=\"font-weight: bold\"> Trainable params: </span><span style=\"color: #00af00; text-decoration-color: #00af00\">565,700</span> (2.16 MB)\n",
              "</pre>\n"
            ]
          },
          "metadata": {}
        },
        {
          "output_type": "display_data",
          "data": {
            "text/plain": [
              "\u001b[1m Non-trainable params: \u001b[0m\u001b[38;5;34m0\u001b[0m (0.00 B)\n"
            ],
            "text/html": [
              "<pre style=\"white-space:pre;overflow-x:auto;line-height:normal;font-family:Menlo,'DejaVu Sans Mono',consolas,'Courier New',monospace\"><span style=\"font-weight: bold\"> Non-trainable params: </span><span style=\"color: #00af00; text-decoration-color: #00af00\">0</span> (0.00 B)\n",
              "</pre>\n"
            ]
          },
          "metadata": {}
        }
      ]
    },
    {
      "cell_type": "code",
      "source": [
        "class ReduceLROnMultipleAccuracies(tf.keras.callbacks.Callback):\n",
        "    def __init__(self, thresholds, factor, monitor='val_accuracy', verbose=1):\n",
        "        super(ReduceLROnMultipleAccuracies, self).__init__()\n",
        "        self.thresholds = thresholds  # List of accuracy thresholds\n",
        "        self.factor = factor  # Factor to reduce the learning rate\n",
        "        self.monitor = monitor\n",
        "        self.verbose = verbose\n",
        "        self.thresholds_reached = [False] * len(thresholds)  # Track each threshold\n",
        "\n",
        "    def on_epoch_end(self, epoch, logs=None):\n",
        "        current_accuracy = logs.get(self.monitor)\n",
        "        for i, threshold in enumerate(self.thresholds):\n",
        "            if current_accuracy >= threshold and not self.thresholds_reached[i]:\n",
        "                optimizer = self.model.optimizer\n",
        "                old_lr = optimizer.learning_rate.numpy()\n",
        "                new_lr = old_lr * self.factor\n",
        "                optimizer.learning_rate.assign(new_lr)\n",
        "                self.thresholds_reached[i] = True  # Mark this threshold as reached\n",
        "                if self.verbose > 0:\n",
        "                    print(f\"\\nEpoch {epoch+1}: {self.monitor} reached {threshold}. Reducing learning rate from {old_lr} to {new_lr}.\")\n",
        "\n",
        "# Try a custom callback\n",
        "thresholds = [0.96, 0.99, 0.9935]\n",
        "lr_callback = ReduceLROnMultipleAccuracies(thresholds=thresholds, factor=0.75, monitor='val_accuracy', verbose=False)"
      ],
      "metadata": {
        "id": "hxWXNw3NzrsC"
      },
      "execution_count": 82,
      "outputs": []
    },
    {
      "cell_type": "code",
      "source": [
        "model_rlr = ReduceLROnPlateau(monitor='val_loss', factor=0.8, min_lr=1e-4, patience=4, verbose=False)\n",
        "model_mc = ModelCheckpoint('model_1.keras', monitor='val_accuracy', mode='max', save_best_only=True, verbose=False)\n",
        "\n",
        "# Training the model\n",
        "history_1 = model_1.fit(\n",
        "    train_ds_preprocessed,\n",
        "    epochs=epochs,\n",
        "    validation_data=test_ds_preprocessed,\n",
        "    callbacks=[model_rlr, model_mc],\n",
        "    verbose=True\n",
        ")"
      ],
      "metadata": {
        "colab": {
          "base_uri": "https://localhost:8080/"
        },
        "id": "9VvsdcOozu6C",
        "outputId": "8a33c45c-0b34-4058-d977-aefe345b2fef"
      },
      "execution_count": 83,
      "outputs": [
        {
          "output_type": "stream",
          "name": "stdout",
          "text": [
            "Epoch 1/50\n",
            "\u001b[1m179/179\u001b[0m \u001b[32m━━━━━━━━━━━━━━━━━━━━\u001b[0m\u001b[37m\u001b[0m \u001b[1m25s\u001b[0m 122ms/step - accuracy: 0.4914 - loss: 1.1042 - val_accuracy: 0.6926 - val_loss: 0.7857 - learning_rate: 0.0010\n",
            "Epoch 2/50\n",
            "\u001b[1m179/179\u001b[0m \u001b[32m━━━━━━━━━━━━━━━━━━━━\u001b[0m\u001b[37m\u001b[0m \u001b[1m17s\u001b[0m 94ms/step - accuracy: 0.7934 - loss: 0.5365 - val_accuracy: 0.7826 - val_loss: 0.5982 - learning_rate: 0.0010\n",
            "Epoch 3/50\n",
            "\u001b[1m179/179\u001b[0m \u001b[32m━━━━━━━━━━━━━━━━━━━━\u001b[0m\u001b[37m\u001b[0m \u001b[1m18s\u001b[0m 98ms/step - accuracy: 0.8677 - loss: 0.3674 - val_accuracy: 0.8055 - val_loss: 0.5660 - learning_rate: 0.0010\n",
            "Epoch 4/50\n",
            "\u001b[1m179/179\u001b[0m \u001b[32m━━━━━━━━━━━━━━━━━━━━\u001b[0m\u001b[37m\u001b[0m \u001b[1m19s\u001b[0m 103ms/step - accuracy: 0.9064 - loss: 0.2649 - val_accuracy: 0.8902 - val_loss: 0.3116 - learning_rate: 0.0010\n",
            "Epoch 5/50\n",
            "\u001b[1m179/179\u001b[0m \u001b[32m━━━━━━━━━━━━━━━━━━━━\u001b[0m\u001b[37m\u001b[0m \u001b[1m18s\u001b[0m 97ms/step - accuracy: 0.9168 - loss: 0.2190 - val_accuracy: 0.8863 - val_loss: 0.3496 - learning_rate: 0.0010\n",
            "Epoch 6/50\n",
            "\u001b[1m179/179\u001b[0m \u001b[32m━━━━━━━━━━━━━━━━━━━━\u001b[0m\u001b[37m\u001b[0m \u001b[1m19s\u001b[0m 103ms/step - accuracy: 0.9405 - loss: 0.1695 - val_accuracy: 0.8818 - val_loss: 0.4079 - learning_rate: 0.0010\n",
            "Epoch 7/50\n",
            "\u001b[1m179/179\u001b[0m \u001b[32m━━━━━━━━━━━━━━━━━━━━\u001b[0m\u001b[37m\u001b[0m \u001b[1m19s\u001b[0m 94ms/step - accuracy: 0.9532 - loss: 0.1458 - val_accuracy: 0.8810 - val_loss: 0.3764 - learning_rate: 0.0010\n",
            "Epoch 8/50\n",
            "\u001b[1m179/179\u001b[0m \u001b[32m━━━━━━━━━━━━━━━━━━━━\u001b[0m\u001b[37m\u001b[0m \u001b[1m21s\u001b[0m 98ms/step - accuracy: 0.9525 - loss: 0.1371 - val_accuracy: 0.9436 - val_loss: 0.1784 - learning_rate: 0.0010\n",
            "Epoch 9/50\n",
            "\u001b[1m179/179\u001b[0m \u001b[32m━━━━━━━━━━━━━━━━━━━━\u001b[0m\u001b[37m\u001b[0m \u001b[1m18s\u001b[0m 97ms/step - accuracy: 0.9593 - loss: 0.1105 - val_accuracy: 0.9458 - val_loss: 0.1743 - learning_rate: 0.0010\n",
            "Epoch 10/50\n",
            "\u001b[1m179/179\u001b[0m \u001b[32m━━━━━━━━━━━━━━━━━━━━\u001b[0m\u001b[37m\u001b[0m \u001b[1m18s\u001b[0m 100ms/step - accuracy: 0.9680 - loss: 0.0884 - val_accuracy: 0.9542 - val_loss: 0.1331 - learning_rate: 0.0010\n",
            "Epoch 11/50\n",
            "\u001b[1m179/179\u001b[0m \u001b[32m━━━━━━━━━━━━━━━━━━━━\u001b[0m\u001b[37m\u001b[0m \u001b[1m20s\u001b[0m 99ms/step - accuracy: 0.9711 - loss: 0.0825 - val_accuracy: 0.9657 - val_loss: 0.1080 - learning_rate: 0.0010\n",
            "Epoch 12/50\n",
            "\u001b[1m179/179\u001b[0m \u001b[32m━━━━━━━━━━━━━━━━━━━━\u001b[0m\u001b[37m\u001b[0m \u001b[1m19s\u001b[0m 103ms/step - accuracy: 0.9801 - loss: 0.0631 - val_accuracy: 0.9390 - val_loss: 0.1873 - learning_rate: 0.0010\n",
            "Epoch 13/50\n",
            "\u001b[1m179/179\u001b[0m \u001b[32m━━━━━━━━━━━━━━━━━━━━\u001b[0m\u001b[37m\u001b[0m \u001b[1m17s\u001b[0m 95ms/step - accuracy: 0.9728 - loss: 0.0848 - val_accuracy: 0.9558 - val_loss: 0.1824 - learning_rate: 0.0010\n",
            "Epoch 14/50\n",
            "\u001b[1m179/179\u001b[0m \u001b[32m━━━━━━━━━━━━━━━━━━━━\u001b[0m\u001b[37m\u001b[0m \u001b[1m18s\u001b[0m 100ms/step - accuracy: 0.9799 - loss: 0.0540 - val_accuracy: 0.9756 - val_loss: 0.0879 - learning_rate: 0.0010\n",
            "Epoch 15/50\n",
            "\u001b[1m179/179\u001b[0m \u001b[32m━━━━━━━━━━━━━━━━━━━━\u001b[0m\u001b[37m\u001b[0m \u001b[1m18s\u001b[0m 97ms/step - accuracy: 0.9858 - loss: 0.0499 - val_accuracy: 0.9550 - val_loss: 0.1587 - learning_rate: 0.0010\n",
            "Epoch 16/50\n",
            "\u001b[1m179/179\u001b[0m \u001b[32m━━━━━━━━━━━━━━━━━━━━\u001b[0m\u001b[37m\u001b[0m \u001b[1m21s\u001b[0m 101ms/step - accuracy: 0.9718 - loss: 0.0837 - val_accuracy: 0.9794 - val_loss: 0.0669 - learning_rate: 0.0010\n",
            "Epoch 17/50\n",
            "\u001b[1m179/179\u001b[0m \u001b[32m━━━━━━━━━━━━━━━━━━━━\u001b[0m\u001b[37m\u001b[0m \u001b[1m20s\u001b[0m 97ms/step - accuracy: 0.9864 - loss: 0.0375 - val_accuracy: 0.9550 - val_loss: 0.2144 - learning_rate: 0.0010\n",
            "Epoch 18/50\n",
            "\u001b[1m179/179\u001b[0m \u001b[32m━━━━━━━━━━━━━━━━━━━━\u001b[0m\u001b[37m\u001b[0m \u001b[1m19s\u001b[0m 102ms/step - accuracy: 0.9860 - loss: 0.0450 - val_accuracy: 0.9779 - val_loss: 0.0806 - learning_rate: 0.0010\n",
            "Epoch 19/50\n",
            "\u001b[1m179/179\u001b[0m \u001b[32m━━━━━━━━━━━━━━━━━━━━\u001b[0m\u001b[37m\u001b[0m \u001b[1m19s\u001b[0m 94ms/step - accuracy: 0.9870 - loss: 0.0317 - val_accuracy: 0.9703 - val_loss: 0.1398 - learning_rate: 0.0010\n",
            "Epoch 20/50\n",
            "\u001b[1m179/179\u001b[0m \u001b[32m━━━━━━━━━━━━━━━━━━━━\u001b[0m\u001b[37m\u001b[0m \u001b[1m19s\u001b[0m 104ms/step - accuracy: 0.9854 - loss: 0.0441 - val_accuracy: 0.9710 - val_loss: 0.1391 - learning_rate: 0.0010\n",
            "Epoch 21/50\n",
            "\u001b[1m179/179\u001b[0m \u001b[32m━━━━━━━━━━━━━━━━━━━━\u001b[0m\u001b[37m\u001b[0m \u001b[1m17s\u001b[0m 95ms/step - accuracy: 0.9910 - loss: 0.0296 - val_accuracy: 0.9710 - val_loss: 0.1416 - learning_rate: 8.0000e-04\n",
            "Epoch 22/50\n",
            "\u001b[1m179/179\u001b[0m \u001b[32m━━━━━━━━━━━━━━━━━━━━\u001b[0m\u001b[37m\u001b[0m \u001b[1m19s\u001b[0m 105ms/step - accuracy: 0.9934 - loss: 0.0215 - val_accuracy: 0.9733 - val_loss: 0.1171 - learning_rate: 8.0000e-04\n",
            "Epoch 23/50\n",
            "\u001b[1m179/179\u001b[0m \u001b[32m━━━━━━━━━━━━━━━━━━━━\u001b[0m\u001b[37m\u001b[0m \u001b[1m18s\u001b[0m 97ms/step - accuracy: 0.9901 - loss: 0.0258 - val_accuracy: 0.9847 - val_loss: 0.0909 - learning_rate: 8.0000e-04\n",
            "Epoch 24/50\n",
            "\u001b[1m179/179\u001b[0m \u001b[32m━━━━━━━━━━━━━━━━━━━━\u001b[0m\u001b[37m\u001b[0m \u001b[1m17s\u001b[0m 96ms/step - accuracy: 0.9926 - loss: 0.0222 - val_accuracy: 0.9794 - val_loss: 0.1193 - learning_rate: 8.0000e-04\n",
            "Epoch 25/50\n",
            "\u001b[1m179/179\u001b[0m \u001b[32m━━━━━━━━━━━━━━━━━━━━\u001b[0m\u001b[37m\u001b[0m \u001b[1m18s\u001b[0m 99ms/step - accuracy: 0.9954 - loss: 0.0117 - val_accuracy: 0.9893 - val_loss: 0.0907 - learning_rate: 6.4000e-04\n",
            "Epoch 26/50\n",
            "\u001b[1m179/179\u001b[0m \u001b[32m━━━━━━━━━━━━━━━━━━━━\u001b[0m\u001b[37m\u001b[0m \u001b[1m20s\u001b[0m 95ms/step - accuracy: 0.9914 - loss: 0.0238 - val_accuracy: 0.9756 - val_loss: 0.1203 - learning_rate: 6.4000e-04\n",
            "Epoch 27/50\n",
            "\u001b[1m179/179\u001b[0m \u001b[32m━━━━━━━━━━━━━━━━━━━━\u001b[0m\u001b[37m\u001b[0m \u001b[1m21s\u001b[0m 97ms/step - accuracy: 0.9924 - loss: 0.0278 - val_accuracy: 0.9832 - val_loss: 0.0901 - learning_rate: 6.4000e-04\n",
            "Epoch 28/50\n",
            "\u001b[1m179/179\u001b[0m \u001b[32m━━━━━━━━━━━━━━━━━━━━\u001b[0m\u001b[37m\u001b[0m \u001b[1m21s\u001b[0m 101ms/step - accuracy: 0.9966 - loss: 0.0153 - val_accuracy: 0.9641 - val_loss: 0.1628 - learning_rate: 6.4000e-04\n",
            "Epoch 29/50\n",
            "\u001b[1m179/179\u001b[0m \u001b[32m━━━━━━━━━━━━━━━━━━━━\u001b[0m\u001b[37m\u001b[0m \u001b[1m18s\u001b[0m 98ms/step - accuracy: 0.9930 - loss: 0.0198 - val_accuracy: 0.9908 - val_loss: 0.0642 - learning_rate: 5.1200e-04\n",
            "Epoch 30/50\n",
            "\u001b[1m179/179\u001b[0m \u001b[32m━━━━━━━━━━━━━━━━━━━━\u001b[0m\u001b[37m\u001b[0m \u001b[1m20s\u001b[0m 97ms/step - accuracy: 0.9974 - loss: 0.0099 - val_accuracy: 0.9794 - val_loss: 0.1166 - learning_rate: 5.1200e-04\n",
            "Epoch 31/50\n",
            "\u001b[1m179/179\u001b[0m \u001b[32m━━━━━━━━━━━━━━━━━━━━\u001b[0m\u001b[37m\u001b[0m \u001b[1m17s\u001b[0m 95ms/step - accuracy: 0.9955 - loss: 0.0098 - val_accuracy: 0.9825 - val_loss: 0.1276 - learning_rate: 5.1200e-04\n",
            "Epoch 32/50\n",
            "\u001b[1m179/179\u001b[0m \u001b[32m━━━━━━━━━━━━━━━━━━━━\u001b[0m\u001b[37m\u001b[0m \u001b[1m19s\u001b[0m 104ms/step - accuracy: 0.9983 - loss: 0.0074 - val_accuracy: 0.9779 - val_loss: 0.1745 - learning_rate: 5.1200e-04\n",
            "Epoch 33/50\n",
            "\u001b[1m179/179\u001b[0m \u001b[32m━━━━━━━━━━━━━━━━━━━━\u001b[0m\u001b[37m\u001b[0m \u001b[1m18s\u001b[0m 98ms/step - accuracy: 0.9968 - loss: 0.0089 - val_accuracy: 0.9855 - val_loss: 0.1105 - learning_rate: 5.1200e-04\n",
            "Epoch 34/50\n",
            "\u001b[1m179/179\u001b[0m \u001b[32m━━━━━━━━━━━━━━━━━━━━\u001b[0m\u001b[37m\u001b[0m \u001b[1m18s\u001b[0m 99ms/step - accuracy: 0.9964 - loss: 0.0065 - val_accuracy: 0.9847 - val_loss: 0.1150 - learning_rate: 4.0960e-04\n",
            "Epoch 35/50\n",
            "\u001b[1m179/179\u001b[0m \u001b[32m━━━━━━━━━━━━━━━━━━━━\u001b[0m\u001b[37m\u001b[0m \u001b[1m18s\u001b[0m 97ms/step - accuracy: 0.9980 - loss: 0.0073 - val_accuracy: 0.9855 - val_loss: 0.1160 - learning_rate: 4.0960e-04\n",
            "Epoch 36/50\n",
            "\u001b[1m179/179\u001b[0m \u001b[32m━━━━━━━━━━━━━━━━━━━━\u001b[0m\u001b[37m\u001b[0m \u001b[1m18s\u001b[0m 101ms/step - accuracy: 0.9992 - loss: 0.0032 - val_accuracy: 0.9863 - val_loss: 0.1201 - learning_rate: 4.0960e-04\n",
            "Epoch 37/50\n",
            "\u001b[1m179/179\u001b[0m \u001b[32m━━━━━━━━━━━━━━━━━━━━\u001b[0m\u001b[37m\u001b[0m \u001b[1m19s\u001b[0m 95ms/step - accuracy: 0.9971 - loss: 0.0052 - val_accuracy: 0.9901 - val_loss: 0.0972 - learning_rate: 4.0960e-04\n",
            "Epoch 38/50\n",
            "\u001b[1m179/179\u001b[0m \u001b[32m━━━━━━━━━━━━━━━━━━━━\u001b[0m\u001b[37m\u001b[0m \u001b[1m21s\u001b[0m 101ms/step - accuracy: 0.9975 - loss: 0.0053 - val_accuracy: 0.9794 - val_loss: 0.1413 - learning_rate: 3.2768e-04\n",
            "Epoch 39/50\n",
            "\u001b[1m179/179\u001b[0m \u001b[32m━━━━━━━━━━━━━━━━━━━━\u001b[0m\u001b[37m\u001b[0m \u001b[1m18s\u001b[0m 97ms/step - accuracy: 0.9969 - loss: 0.0055 - val_accuracy: 0.9901 - val_loss: 0.1048 - learning_rate: 3.2768e-04\n",
            "Epoch 40/50\n",
            "\u001b[1m179/179\u001b[0m \u001b[32m━━━━━━━━━━━━━━━━━━━━\u001b[0m\u001b[37m\u001b[0m \u001b[1m18s\u001b[0m 100ms/step - accuracy: 0.9966 - loss: 0.0062 - val_accuracy: 0.9870 - val_loss: 0.1246 - learning_rate: 3.2768e-04\n",
            "Epoch 41/50\n",
            "\u001b[1m179/179\u001b[0m \u001b[32m━━━━━━━━━━━━━━━━━━━━\u001b[0m\u001b[37m\u001b[0m \u001b[1m17s\u001b[0m 95ms/step - accuracy: 0.9988 - loss: 0.0036 - val_accuracy: 0.9870 - val_loss: 0.1278 - learning_rate: 3.2768e-04\n",
            "Epoch 42/50\n",
            "\u001b[1m179/179\u001b[0m \u001b[32m━━━━━━━━━━━━━━━━━━━━\u001b[0m\u001b[37m\u001b[0m \u001b[1m21s\u001b[0m 100ms/step - accuracy: 0.9982 - loss: 0.0041 - val_accuracy: 0.9901 - val_loss: 0.1082 - learning_rate: 2.6214e-04\n",
            "Epoch 43/50\n",
            "\u001b[1m179/179\u001b[0m \u001b[32m━━━━━━━━━━━━━━━━━━━━\u001b[0m\u001b[37m\u001b[0m \u001b[1m17s\u001b[0m 95ms/step - accuracy: 0.9990 - loss: 0.0014 - val_accuracy: 0.9878 - val_loss: 0.1210 - learning_rate: 2.6214e-04\n",
            "Epoch 44/50\n",
            "\u001b[1m179/179\u001b[0m \u001b[32m━━━━━━━━━━━━━━━━━━━━\u001b[0m\u001b[37m\u001b[0m \u001b[1m18s\u001b[0m 100ms/step - accuracy: 0.9994 - loss: 0.0019 - val_accuracy: 0.9863 - val_loss: 0.1243 - learning_rate: 2.6214e-04\n",
            "Epoch 45/50\n",
            "\u001b[1m179/179\u001b[0m \u001b[32m━━━━━━━━━━━━━━━━━━━━\u001b[0m\u001b[37m\u001b[0m \u001b[1m18s\u001b[0m 97ms/step - accuracy: 0.9986 - loss: 0.0025 - val_accuracy: 0.9855 - val_loss: 0.1457 - learning_rate: 2.6214e-04\n",
            "Epoch 46/50\n",
            "\u001b[1m179/179\u001b[0m \u001b[32m━━━━━━━━━━━━━━━━━━━━\u001b[0m\u001b[37m\u001b[0m \u001b[1m17s\u001b[0m 95ms/step - accuracy: 0.9996 - loss: 0.0010 - val_accuracy: 0.9893 - val_loss: 0.1320 - learning_rate: 2.0972e-04\n",
            "Epoch 47/50\n",
            "\u001b[1m179/179\u001b[0m \u001b[32m━━━━━━━━━━━━━━━━━━━━\u001b[0m\u001b[37m\u001b[0m \u001b[1m18s\u001b[0m 99ms/step - accuracy: 0.9995 - loss: 0.0010 - val_accuracy: 0.9886 - val_loss: 0.1346 - learning_rate: 2.0972e-04\n",
            "Epoch 48/50\n",
            "\u001b[1m179/179\u001b[0m \u001b[32m━━━━━━━━━━━━━━━━━━━━\u001b[0m\u001b[37m\u001b[0m \u001b[1m18s\u001b[0m 97ms/step - accuracy: 0.9994 - loss: 0.0023 - val_accuracy: 0.9908 - val_loss: 0.1263 - learning_rate: 2.0972e-04\n",
            "Epoch 49/50\n",
            "\u001b[1m179/179\u001b[0m \u001b[32m━━━━━━━━━━━━━━━━━━━━\u001b[0m\u001b[37m\u001b[0m \u001b[1m21s\u001b[0m 98ms/step - accuracy: 0.9991 - loss: 0.0020 - val_accuracy: 0.9886 - val_loss: 0.1278 - learning_rate: 2.0972e-04\n",
            "Epoch 50/50\n",
            "\u001b[1m179/179\u001b[0m \u001b[32m━━━━━━━━━━━━━━━━━━━━\u001b[0m\u001b[37m\u001b[0m \u001b[1m21s\u001b[0m 101ms/step - accuracy: 0.9991 - loss: 0.0013 - val_accuracy: 0.9908 - val_loss: 0.1255 - learning_rate: 1.6777e-04\n"
          ]
        }
      ]
    },
    {
      "cell_type": "code",
      "source": [
        "test_loss, test_acc = model_1.evaluate(test_ds_preprocessed)\n",
        "print(f\"Test accuracy: {test_acc*100:0.4f}%\")"
      ],
      "metadata": {
        "colab": {
          "base_uri": "https://localhost:8080/"
        },
        "id": "8jMSwaqD4nCO",
        "outputId": "6164333a-659f-4a5c-b74b-018c187dc98d"
      },
      "execution_count": 84,
      "outputs": [
        {
          "output_type": "stream",
          "name": "stdout",
          "text": [
            "\u001b[1m41/41\u001b[0m \u001b[32m━━━━━━━━━━━━━━━━━━━━\u001b[0m\u001b[37m\u001b[0m \u001b[1m1s\u001b[0m 19ms/step - accuracy: 0.9933 - loss: 0.1170\n",
            "Test accuracy: 99.0847%\n"
          ]
        }
      ]
    },
    {
      "cell_type": "code",
      "source": [
        "from sklearn.metrics import classification_report\n",
        "\n",
        "y_pred = model_1.predict(test_ds_preprocessed)\n",
        "y_pred_classes = np.argmax(y_pred, axis=1)\n",
        "# Get true labels as class indices instead of one-hot encoded vectors\n",
        "true_labels = np.concatenate([np.argmax(y.numpy(), axis=-1) for x, y in test_ds_preprocessed], axis=0)\n",
        "print(classification_report(true_labels, y_pred_classes))"
      ],
      "metadata": {
        "colab": {
          "base_uri": "https://localhost:8080/"
        },
        "id": "Dp9pB_xr4q6v",
        "outputId": "abbbea11-7cc0-46d8-b698-7526b2306f5f"
      },
      "execution_count": 85,
      "outputs": [
        {
          "output_type": "stream",
          "name": "stdout",
          "text": [
            "\u001b[1m41/41\u001b[0m \u001b[32m━━━━━━━━━━━━━━━━━━━━\u001b[0m\u001b[37m\u001b[0m \u001b[1m2s\u001b[0m 25ms/step\n",
            "              precision    recall  f1-score   support\n",
            "\n",
            "           0       1.00      0.99      0.99       300\n",
            "           1       0.99      0.97      0.98       306\n",
            "           2       0.99      1.00      1.00       405\n",
            "           3       0.99      1.00      0.99       300\n",
            "\n",
            "    accuracy                           0.99      1311\n",
            "   macro avg       0.99      0.99      0.99      1311\n",
            "weighted avg       0.99      0.99      0.99      1311\n",
            "\n"
          ]
        }
      ]
    },
    {
      "cell_type": "code",
      "source": [
        "from sklearn.metrics import confusion_matrix\n",
        "import seaborn as sns\n",
        "import matplotlib.pyplot as plt\n",
        "\n",
        "cm = confusion_matrix(true_labels, y_pred_classes)\n",
        "\n",
        "plt.figure(figsize=(8, 6))\n",
        "sns.heatmap(cm, annot=True, fmt='d', cmap='Blues', xticklabels=class_names, yticklabels=class_names)\n",
        "plt.xlabel('Predicted')\n",
        "plt.ylabel('True')\n",
        "plt.title('Confusion Matrix')\n",
        "plt.show()"
      ],
      "metadata": {
        "colab": {
          "base_uri": "https://localhost:8080/",
          "height": 564
        },
        "id": "SyCINt5s41bv",
        "outputId": "90af27e3-5e51-4f0e-fc08-68495f9f0ca0"
      },
      "execution_count": 86,
      "outputs": [
        {
          "output_type": "display_data",
          "data": {
            "text/plain": [
              "<Figure size 800x600 with 2 Axes>"
            ],
            "image/png": "[encoded data removed]"
          },
          "metadata": {}
        }
      ]
    },
    {
      "cell_type": "code",
      "source": [],
      "metadata": {
        "id": "v5tAMuiH41pA"
      },
      "execution_count": null,
      "outputs": []
    }
  ]
}