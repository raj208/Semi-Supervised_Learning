{
  "nbformat": 4,
  "nbformat_minor": 0,
  "metadata": {
    "colab": {
      "provenance": [],
      "gpuType": "T4"
    },
    "kernelspec": {
      "name": "python3",
      "display_name": "Python 3"
    },
    "language_info": {
      "name": "python"
    },
    "accelerator": "GPU"
  },
  "cells": [
    {
      "cell_type": "code",
      "source": [
        "import matplotlib.pyplot as plt\n",
        "import seaborn as sns\n",
        "import numpy as np\n",
        "import os\n",
        "\n",
        "from sklearn.metrics import confusion_matrix"
      ],
      "metadata": {
        "id": "LUgljOg1gTeH"
      },
      "execution_count": 2,
      "outputs": []
    },
    {
      "cell_type": "code",
      "source": [
        "\n",
        "# Neural Network imports\n",
        "import tensorflow as tf\n",
        "from tensorflow.keras.models import Sequential\n",
        "from tensorflow.keras.models import load_model\n",
        "from tensorflow.keras.layers import MaxPooling2D\n",
        "from tensorflow.keras.layers import Conv2D\n",
        "from tensorflow.keras.layers import Dense\n",
        "from tensorflow.keras.layers import Dropout\n",
        "from tensorflow.keras.layers import Flatten\n",
        "from tensorflow.keras.layers import Input\n",
        "from tensorflow.keras.optimizers import Adam"
      ],
      "metadata": {
        "id": "K87LqOqqgbz2"
      },
      "execution_count": 3,
      "outputs": []
    },
    {
      "cell_type": "code",
      "source": [
        "# Image augmentation importrs\n",
        "from tensorflow.keras.utils import load_img\n",
        "from tensorflow.keras.preprocessing import image\n",
        "from tensorflow.keras.layers import RandomRotation\n",
        "from tensorflow.keras.layers import RandomContrast\n",
        "from tensorflow.keras.layers import RandomZoom\n",
        "from tensorflow.keras.layers import RandomFlip\n",
        "from tensorflow.keras.layers import RandomTranslation"
      ],
      "metadata": {
        "id": "W1cvHyg_gcQH"
      },
      "execution_count": 4,
      "outputs": []
    },
    {
      "cell_type": "code",
      "source": [
        "# Training Model callbacks\n",
        "from tensorflow.keras.callbacks import ReduceLROnPlateau\n",
        "from tensorflow.keras.callbacks import ModelCheckpoint"
      ],
      "metadata": {
        "id": "kn2wnjSlgfo2"
      },
      "execution_count": 5,
      "outputs": []
    },
    {
      "cell_type": "code",
      "source": [
        "def get_data_labels(directory, shuffle=True, random_state=0):\n",
        "    from sklearn.utils import shuffle\n",
        "    data_path = []\n",
        "    data_index = []\n",
        "    label_dict = {label: index for index, label in enumerate(sorted(os.listdir(directory)))}\n",
        "\n",
        "    for label, index in label_dict.items():\n",
        "        label_dir = os.path.join(directory, label)\n",
        "        for image in os.listdir(label_dir):\n",
        "            image_path = os.path.join(label_dir, image)\n",
        "            data_path.append(image_path)\n",
        "            data_index.append(index)\n",
        "\n",
        "    if shuffle:\n",
        "        data_path, data_index = shuffle(data_path, data_index, random_state=random_state)\n",
        "\n",
        "    return data_path, data_index\n",
        "\n",
        "def parse_function(filename, label, image_size, n_channels):\n",
        "    image_string = tf.io.read_file(filename)\n",
        "    image = tf.image.decode_jpeg(image_string, n_channels)\n",
        "    image = tf.image.resize(image, image_size)\n",
        "    return image, label\n",
        "\n",
        "def get_dataset(paths, labels, image_size, n_channels=1, num_classes=4, batch_size=32):\n",
        "    path_ds = tf.data.Dataset.from_tensor_slices((paths, labels))\n",
        "    image_label_ds = path_ds.map(lambda path, label: parse_function(path, label, image_size, n_channels),\n",
        "                                 num_parallel_calls=tf.data.AUTOTUNE)\n",
        "    return image_label_ds.batch(batch_size).prefetch(buffer_size=tf.data.AUTOTUNE)"
      ],
      "metadata": {
        "id": "n-XtEkqKghZX"
      },
      "execution_count": 6,
      "outputs": []
    },
    {
      "cell_type": "code",
      "source": [
        "import os\n",
        "import tensorflow as tf\n",
        "\n",
        "\n",
        "train_paths = 'BT100/Training'\n",
        "test_paths = 'BT100/Testing'\n",
        "\n",
        "\n",
        "train_image_paths, train_index = get_data_labels(train_paths)\n",
        "\n",
        "test_image_paths, test_index = get_data_labels(test_paths)\n",
        "\n",
        "\n",
        "batch_size = 32\n",
        "image_dim = (168, 168)\n",
        "train_ds = get_dataset(train_image_paths, train_index, image_dim, n_channels=1, num_classes=4, batch_size=batch_size)\n",
        "test_ds = get_dataset(test_image_paths, test_index, image_dim, n_channels=1, num_classes=4, batch_size=batch_size)\n"
      ],
      "metadata": {
        "id": "HPIPa5e8gnWW"
      },
      "execution_count": 7,
      "outputs": []
    },
    {
      "cell_type": "code",
      "source": [
        "class_mappings = {'Glioma': 0, 'Meninigioma': 1, 'Notumor': 2, 'Pituitary': 3}\n",
        "inv_class_mappings = {v: k for k, v in class_mappings.items()}\n",
        "class_names = list(class_mappings.keys())"
      ],
      "metadata": {
        "id": "gygH5NVJgty3"
      },
      "execution_count": 8,
      "outputs": []
    },
    {
      "cell_type": "code",
      "source": [
        "# Printing traing and testing sample sizes\n",
        "print('Training')\n",
        "# print(f'Number of Paths: {len(train_paths)}')\n",
        "print(f'Number of Labels: {len(train_index)}')\n",
        "print('\\nTesting')\n",
        "# print(f'Number of Paths: {len(test_paths)}')\n",
        "print(f'Number of Labels: {len(test_index)}')"
      ],
      "metadata": {
        "colab": {
          "base_uri": "https://localhost:8080/"
        },
        "id": "MiNfy854gxqn",
        "outputId": "654a7e65-9428-4aac-f22a-2d2242f93e2d"
      },
      "execution_count": 9,
      "outputs": [
        {
          "output_type": "stream",
          "name": "stdout",
          "text": [
            "Training\n",
            "Number of Labels: 4571\n",
            "\n",
            "Testing\n",
            "Number of Labels: 1311\n"
          ]
        }
      ]
    },
    {
      "cell_type": "code",
      "source": [
        "# Dta augmentation sequential model\n",
        "data_augmentation = Sequential([\n",
        "    RandomFlip(\"horizontal\"),\n",
        "    RandomRotation(0.02, fill_mode='constant'),\n",
        "    RandomContrast(0.1),\n",
        "    RandomZoom(height_factor=0.01, width_factor=0.05),\n",
        "    RandomTranslation(height_factor=0.0015, width_factor=0.0015, fill_mode='constant'),\n",
        "])\n",
        "\n",
        "# Training augmentation and nornalization\n",
        "def preprocess_train(image, label):\n",
        "    # Apply data augmentation and Normalize\n",
        "    image = data_augmentation(image) / 255.0\n",
        "    return image, label\n",
        "\n",
        "\n",
        "\n",
        "\n",
        "# For test dataset only appying normalization\n",
        "def preprocess_test(image, label):\n",
        "    return image / 255.0, label\n",
        "\n",
        "\n",
        "\n",
        "\n",
        "# Apply transformation to training and testing datasets\n",
        "train_ds_preprocessed = train_ds.map(preprocess_train, num_parallel_calls=tf.data.AUTOTUNE)\n",
        "test_ds_preprocessed = test_ds.map(preprocess_test, num_parallel_calls=tf.data.AUTOTUNE)"
      ],
      "metadata": {
        "id": "W1XGYrQkg7o2"
      },
      "execution_count": 10,
      "outputs": []
    },
    {
      "cell_type": "code",
      "source": [
        "num_classes = len(class_mappings.keys())\n",
        "image_shape = (image_dim[0], image_dim[1], 1)\n",
        "\n",
        "# Training epochs and batch size\n",
        "epochs = 50\n",
        "print(f'Number of Classes: {num_classes}')\n",
        "print(f'Image shape: {image_shape}')\n",
        "print(f'Epochs: {epochs}')\n",
        "print(f'Batch size: {batch_size}')\n",
        "\n",
        "def encode_labels(image, label):\n",
        "    return image, tf.one_hot(label, depth=num_classes)\n",
        "\n",
        "train_ds_preprocessed = train_ds_preprocessed.map(encode_labels, num_parallel_calls=tf.data.AUTOTUNE)\n",
        "test_ds_preprocessed = test_ds_preprocessed.map(encode_labels, num_parallel_calls=tf.data.AUTOTUNE)\n"
      ],
      "metadata": {
        "colab": {
          "base_uri": "https://localhost:8080/"
        },
        "id": "KEgvH4neg74X",
        "outputId": "70b33ca2-7dc6-4d29-e463-1f4104c7ed78"
      },
      "execution_count": 11,
      "outputs": [
        {
          "output_type": "stream",
          "name": "stdout",
          "text": [
            "Number of Classes: 4\n",
            "Image shape: (168, 168, 1)\n",
            "Epochs: 50\n",
            "Batch size: 32\n"
          ]
        }
      ]
    },
    {
      "cell_type": "code",
      "source": [
        "model = Sequential([\n",
        "    # Input tensor shape\n",
        "    Input(shape=image_shape),\n",
        "\n",
        "    # Convolutional layer 1\n",
        "    Conv2D(64, (5, 5), activation=\"relu\"),\n",
        "    MaxPooling2D(pool_size=(3, 3)),\n",
        "\n",
        "    # Convolutional layer 2\n",
        "    Conv2D(64, (5, 5), activation=\"relu\"),\n",
        "    MaxPooling2D(pool_size=(3, 3)),\n",
        "\n",
        "    # Convolutional layer 3\n",
        "    Conv2D(128, (4, 4), activation=\"relu\"),\n",
        "    MaxPooling2D(pool_size=(2, 2)),\n",
        "\n",
        "    # Convolutional layer 4\n",
        "    Conv2D(128, (4, 4), activation=\"relu\"),\n",
        "    MaxPooling2D(pool_size=(2, 2)),\n",
        "    Flatten(),\n",
        "\n",
        "    # Dense layers\n",
        "    Dense(512, activation=\"relu\"),\n",
        "    Dense(num_classes, activation=\"softmax\")\n",
        "])\n",
        "\n",
        "# Model summary\n",
        "model.summary()\n",
        "\n",
        "# COompilng model with Adam optimizer\n",
        "optimizer = Adam(learning_rate=0.001, beta_1=0.85, beta_2=0.9925)\n",
        "model.compile(optimizer=optimizer, loss='categorical_crossentropy', metrics= ['accuracy'])"
      ],
      "metadata": {
        "colab": {
          "base_uri": "https://localhost:8080/",
          "height": 481
        },
        "id": "uziUlagohAEn",
        "outputId": "ca8b3ac4-5f1e-486e-ccd6-3b94a28f53af"
      },
      "execution_count": 12,
      "outputs": [
        {
          "output_type": "display_data",
          "data": {
            "text/plain": [
              "\u001b[1mModel: \"sequential_1\"\u001b[0m\n"
            ],
            "text/html": [
              "<pre style=\"white-space:pre;overflow-x:auto;line-height:normal;font-family:Menlo,'DejaVu Sans Mono',consolas,'Courier New',monospace\"><span style=\"font-weight: bold\">Model: \"sequential_1\"</span>\n",
              "</pre>\n"
            ]
          },
          "metadata": {}
        },
        {
          "output_type": "display_data",
          "data": {
            "text/plain": [
              "┏━━━━━━━━━━━━━━━━━━━━━━━━━━━━━━━━━━━━━━┳━━━━━━━━━━━━━━━━━━━━━━━━━━━━━┳━━━━━━━━━━━━━━━━━┓\n",
              "┃\u001b[1m \u001b[0m\u001b[1mLayer (type)                        \u001b[0m\u001b[1m \u001b[0m┃\u001b[1m \u001b[0m\u001b[1mOutput Shape               \u001b[0m\u001b[1m \u001b[0m┃\u001b[1m \u001b[0m\u001b[1m        Param #\u001b[0m\u001b[1m \u001b[0m┃\n",
              "┡━━━━━━━━━━━━━━━━━━━━━━━━━━━━━━━━━━━━━━╇━━━━━━━━━━━━━━━━━━━━━━━━━━━━━╇━━━━━━━━━━━━━━━━━┩\n",
              "│ conv2d (\u001b[38;5;33mConv2D\u001b[0m)                      │ (\u001b[38;5;45mNone\u001b[0m, \u001b[38;5;34m164\u001b[0m, \u001b[38;5;34m164\u001b[0m, \u001b[38;5;34m64\u001b[0m)        │           \u001b[38;5;34m1,664\u001b[0m │\n",
              "├──────────────────────────────────────┼─────────────────────────────┼─────────────────┤\n",
              "│ max_pooling2d (\u001b[38;5;33mMaxPooling2D\u001b[0m)         │ (\u001b[38;5;45mNone\u001b[0m, \u001b[38;5;34m54\u001b[0m, \u001b[38;5;34m54\u001b[0m, \u001b[38;5;34m64\u001b[0m)          │               \u001b[38;5;34m0\u001b[0m │\n",
              "├──────────────────────────────────────┼─────────────────────────────┼─────────────────┤\n",
              "│ conv2d_1 (\u001b[38;5;33mConv2D\u001b[0m)                    │ (\u001b[38;5;45mNone\u001b[0m, \u001b[38;5;34m50\u001b[0m, \u001b[38;5;34m50\u001b[0m, \u001b[38;5;34m64\u001b[0m)          │         \u001b[38;5;34m102,464\u001b[0m │\n",
              "├──────────────────────────────────────┼─────────────────────────────┼─────────────────┤\n",
              "│ max_pooling2d_1 (\u001b[38;5;33mMaxPooling2D\u001b[0m)       │ (\u001b[38;5;45mNone\u001b[0m, \u001b[38;5;34m16\u001b[0m, \u001b[38;5;34m16\u001b[0m, \u001b[38;5;34m64\u001b[0m)          │               \u001b[38;5;34m0\u001b[0m │\n",
              "├──────────────────────────────────────┼─────────────────────────────┼─────────────────┤\n",
              "│ conv2d_2 (\u001b[38;5;33mConv2D\u001b[0m)                    │ (\u001b[38;5;45mNone\u001b[0m, \u001b[38;5;34m13\u001b[0m, \u001b[38;5;34m13\u001b[0m, \u001b[38;5;34m128\u001b[0m)         │         \u001b[38;5;34m131,200\u001b[0m │\n",
              "├──────────────────────────────────────┼─────────────────────────────┼─────────────────┤\n",
              "│ max_pooling2d_2 (\u001b[38;5;33mMaxPooling2D\u001b[0m)       │ (\u001b[38;5;45mNone\u001b[0m, \u001b[38;5;34m6\u001b[0m, \u001b[38;5;34m6\u001b[0m, \u001b[38;5;34m128\u001b[0m)           │               \u001b[38;5;34m0\u001b[0m │\n",
              "├──────────────────────────────────────┼─────────────────────────────┼─────────────────┤\n",
              "│ conv2d_3 (\u001b[38;5;33mConv2D\u001b[0m)                    │ (\u001b[38;5;45mNone\u001b[0m, \u001b[38;5;34m3\u001b[0m, \u001b[38;5;34m3\u001b[0m, \u001b[38;5;34m128\u001b[0m)           │         \u001b[38;5;34m262,272\u001b[0m │\n",
              "├──────────────────────────────────────┼─────────────────────────────┼─────────────────┤\n",
              "│ max_pooling2d_3 (\u001b[38;5;33mMaxPooling2D\u001b[0m)       │ (\u001b[38;5;45mNone\u001b[0m, \u001b[38;5;34m1\u001b[0m, \u001b[38;5;34m1\u001b[0m, \u001b[38;5;34m128\u001b[0m)           │               \u001b[38;5;34m0\u001b[0m │\n",
              "├──────────────────────────────────────┼─────────────────────────────┼─────────────────┤\n",
              "│ flatten (\u001b[38;5;33mFlatten\u001b[0m)                    │ (\u001b[38;5;45mNone\u001b[0m, \u001b[38;5;34m128\u001b[0m)                 │               \u001b[38;5;34m0\u001b[0m │\n",
              "├──────────────────────────────────────┼─────────────────────────────┼─────────────────┤\n",
              "│ dense (\u001b[38;5;33mDense\u001b[0m)                        │ (\u001b[38;5;45mNone\u001b[0m, \u001b[38;5;34m512\u001b[0m)                 │          \u001b[38;5;34m66,048\u001b[0m │\n",
              "├──────────────────────────────────────┼─────────────────────────────┼─────────────────┤\n",
              "│ dense_1 (\u001b[38;5;33mDense\u001b[0m)                      │ (\u001b[38;5;45mNone\u001b[0m, \u001b[38;5;34m4\u001b[0m)                   │           \u001b[38;5;34m2,052\u001b[0m │\n",
              "└──────────────────────────────────────┴─────────────────────────────┴─────────────────┘\n"
            ],
            "text/html": [
              "<pre style=\"white-space:pre;overflow-x:auto;line-height:normal;font-family:Menlo,'DejaVu Sans Mono',consolas,'Courier New',monospace\">┏━━━━━━━━━━━━━━━━━━━━━━━━━━━━━━━━━━━━━━┳━━━━━━━━━━━━━━━━━━━━━━━━━━━━━┳━━━━━━━━━━━━━━━━━┓\n",
              "┃<span style=\"font-weight: bold\"> Layer (type)                         </span>┃<span style=\"font-weight: bold\"> Output Shape                </span>┃<span style=\"font-weight: bold\">         Param # </span>┃\n",
              "┡━━━━━━━━━━━━━━━━━━━━━━━━━━━━━━━━━━━━━━╇━━━━━━━━━━━━━━━━━━━━━━━━━━━━━╇━━━━━━━━━━━━━━━━━┩\n",
              "│ conv2d (<span style=\"color: #0087ff; text-decoration-color: #0087ff\">Conv2D</span>)                      │ (<span style=\"color: #00d7ff; text-decoration-color: #00d7ff\">None</span>, <span style=\"color: #00af00; text-decoration-color: #00af00\">164</span>, <span style=\"color: #00af00; text-decoration-color: #00af00\">164</span>, <span style=\"color: #00af00; text-decoration-color: #00af00\">64</span>)        │           <span style=\"color: #00af00; text-decoration-color: #00af00\">1,664</span> │\n",
              "├──────────────────────────────────────┼─────────────────────────────┼─────────────────┤\n",
              "│ max_pooling2d (<span style=\"color: #0087ff; text-decoration-color: #0087ff\">MaxPooling2D</span>)         │ (<span style=\"color: #00d7ff; text-decoration-color: #00d7ff\">None</span>, <span style=\"color: #00af00; text-decoration-color: #00af00\">54</span>, <span style=\"color: #00af00; text-decoration-color: #00af00\">54</span>, <span style=\"color: #00af00; text-decoration-color: #00af00\">64</span>)          │               <span style=\"color: #00af00; text-decoration-color: #00af00\">0</span> │\n",
              "├──────────────────────────────────────┼─────────────────────────────┼─────────────────┤\n",
              "│ conv2d_1 (<span style=\"color: #0087ff; text-decoration-color: #0087ff\">Conv2D</span>)                    │ (<span style=\"color: #00d7ff; text-decoration-color: #00d7ff\">None</span>, <span style=\"color: #00af00; text-decoration-color: #00af00\">50</span>, <span style=\"color: #00af00; text-decoration-color: #00af00\">50</span>, <span style=\"color: #00af00; text-decoration-color: #00af00\">64</span>)          │         <span style=\"color: #00af00; text-decoration-color: #00af00\">102,464</span> │\n",
              "├──────────────────────────────────────┼─────────────────────────────┼─────────────────┤\n",
              "│ max_pooling2d_1 (<span style=\"color: #0087ff; text-decoration-color: #0087ff\">MaxPooling2D</span>)       │ (<span style=\"color: #00d7ff; text-decoration-color: #00d7ff\">None</span>, <span style=\"color: #00af00; text-decoration-color: #00af00\">16</span>, <span style=\"color: #00af00; text-decoration-color: #00af00\">16</span>, <span style=\"color: #00af00; text-decoration-color: #00af00\">64</span>)          │               <span style=\"color: #00af00; text-decoration-color: #00af00\">0</span> │\n",
              "├──────────────────────────────────────┼─────────────────────────────┼─────────────────┤\n",
              "│ conv2d_2 (<span style=\"color: #0087ff; text-decoration-color: #0087ff\">Conv2D</span>)                    │ (<span style=\"color: #00d7ff; text-decoration-color: #00d7ff\">None</span>, <span style=\"color: #00af00; text-decoration-color: #00af00\">13</span>, <span style=\"color: #00af00; text-decoration-color: #00af00\">13</span>, <span style=\"color: #00af00; text-decoration-color: #00af00\">128</span>)         │         <span style=\"color: #00af00; text-decoration-color: #00af00\">131,200</span> │\n",
              "├──────────────────────────────────────┼─────────────────────────────┼─────────────────┤\n",
              "│ max_pooling2d_2 (<span style=\"color: #0087ff; text-decoration-color: #0087ff\">MaxPooling2D</span>)       │ (<span style=\"color: #00d7ff; text-decoration-color: #00d7ff\">None</span>, <span style=\"color: #00af00; text-decoration-color: #00af00\">6</span>, <span style=\"color: #00af00; text-decoration-color: #00af00\">6</span>, <span style=\"color: #00af00; text-decoration-color: #00af00\">128</span>)           │               <span style=\"color: #00af00; text-decoration-color: #00af00\">0</span> │\n",
              "├──────────────────────────────────────┼─────────────────────────────┼─────────────────┤\n",
              "│ conv2d_3 (<span style=\"color: #0087ff; text-decoration-color: #0087ff\">Conv2D</span>)                    │ (<span style=\"color: #00d7ff; text-decoration-color: #00d7ff\">None</span>, <span style=\"color: #00af00; text-decoration-color: #00af00\">3</span>, <span style=\"color: #00af00; text-decoration-color: #00af00\">3</span>, <span style=\"color: #00af00; text-decoration-color: #00af00\">128</span>)           │         <span style=\"color: #00af00; text-decoration-color: #00af00\">262,272</span> │\n",
              "├──────────────────────────────────────┼─────────────────────────────┼─────────────────┤\n",
              "│ max_pooling2d_3 (<span style=\"color: #0087ff; text-decoration-color: #0087ff\">MaxPooling2D</span>)       │ (<span style=\"color: #00d7ff; text-decoration-color: #00d7ff\">None</span>, <span style=\"color: #00af00; text-decoration-color: #00af00\">1</span>, <span style=\"color: #00af00; text-decoration-color: #00af00\">1</span>, <span style=\"color: #00af00; text-decoration-color: #00af00\">128</span>)           │               <span style=\"color: #00af00; text-decoration-color: #00af00\">0</span> │\n",
              "├──────────────────────────────────────┼─────────────────────────────┼─────────────────┤\n",
              "│ flatten (<span style=\"color: #0087ff; text-decoration-color: #0087ff\">Flatten</span>)                    │ (<span style=\"color: #00d7ff; text-decoration-color: #00d7ff\">None</span>, <span style=\"color: #00af00; text-decoration-color: #00af00\">128</span>)                 │               <span style=\"color: #00af00; text-decoration-color: #00af00\">0</span> │\n",
              "├──────────────────────────────────────┼─────────────────────────────┼─────────────────┤\n",
              "│ dense (<span style=\"color: #0087ff; text-decoration-color: #0087ff\">Dense</span>)                        │ (<span style=\"color: #00d7ff; text-decoration-color: #00d7ff\">None</span>, <span style=\"color: #00af00; text-decoration-color: #00af00\">512</span>)                 │          <span style=\"color: #00af00; text-decoration-color: #00af00\">66,048</span> │\n",
              "├──────────────────────────────────────┼─────────────────────────────┼─────────────────┤\n",
              "│ dense_1 (<span style=\"color: #0087ff; text-decoration-color: #0087ff\">Dense</span>)                      │ (<span style=\"color: #00d7ff; text-decoration-color: #00d7ff\">None</span>, <span style=\"color: #00af00; text-decoration-color: #00af00\">4</span>)                   │           <span style=\"color: #00af00; text-decoration-color: #00af00\">2,052</span> │\n",
              "└──────────────────────────────────────┴─────────────────────────────┴─────────────────┘\n",
              "</pre>\n"
            ]
          },
          "metadata": {}
        },
        {
          "output_type": "display_data",
          "data": {
            "text/plain": [
              "\u001b[1m Total params: \u001b[0m\u001b[38;5;34m565,700\u001b[0m (2.16 MB)\n"
            ],
            "text/html": [
              "<pre style=\"white-space:pre;overflow-x:auto;line-height:normal;font-family:Menlo,'DejaVu Sans Mono',consolas,'Courier New',monospace\"><span style=\"font-weight: bold\"> Total params: </span><span style=\"color: #00af00; text-decoration-color: #00af00\">565,700</span> (2.16 MB)\n",
              "</pre>\n"
            ]
          },
          "metadata": {}
        },
        {
          "output_type": "display_data",
          "data": {
            "text/plain": [
              "\u001b[1m Trainable params: \u001b[0m\u001b[38;5;34m565,700\u001b[0m (2.16 MB)\n"
            ],
            "text/html": [
              "<pre style=\"white-space:pre;overflow-x:auto;line-height:normal;font-family:Menlo,'DejaVu Sans Mono',consolas,'Courier New',monospace\"><span style=\"font-weight: bold\"> Trainable params: </span><span style=\"color: #00af00; text-decoration-color: #00af00\">565,700</span> (2.16 MB)\n",
              "</pre>\n"
            ]
          },
          "metadata": {}
        },
        {
          "output_type": "display_data",
          "data": {
            "text/plain": [
              "\u001b[1m Non-trainable params: \u001b[0m\u001b[38;5;34m0\u001b[0m (0.00 B)\n"
            ],
            "text/html": [
              "<pre style=\"white-space:pre;overflow-x:auto;line-height:normal;font-family:Menlo,'DejaVu Sans Mono',consolas,'Courier New',monospace\"><span style=\"font-weight: bold\"> Non-trainable params: </span><span style=\"color: #00af00; text-decoration-color: #00af00\">0</span> (0.00 B)\n",
              "</pre>\n"
            ]
          },
          "metadata": {}
        }
      ]
    },
    {
      "cell_type": "code",
      "source": [
        "class ReduceLROnMultipleAccuracies(tf.keras.callbacks.Callback):\n",
        "    def __init__(self, thresholds, factor, monitor='val_accuracy', verbose=1):\n",
        "        super(ReduceLROnMultipleAccuracies, self).__init__()\n",
        "        self.thresholds = thresholds  # List of accuracy thresholds\n",
        "        self.factor = factor  # Factor to reduce the learning rate\n",
        "        self.monitor = monitor\n",
        "        self.verbose = verbose\n",
        "        self.thresholds_reached = [False] * len(thresholds)  # Track each threshold\n",
        "\n",
        "    def on_epoch_end(self, epoch, logs=None):\n",
        "        current_accuracy = logs.get(self.monitor)\n",
        "        for i, threshold in enumerate(self.thresholds):\n",
        "            if current_accuracy >= threshold and not self.thresholds_reached[i]:\n",
        "                optimizer = self.model.optimizer\n",
        "                old_lr = optimizer.learning_rate.numpy()\n",
        "                new_lr = old_lr * self.factor\n",
        "                optimizer.learning_rate.assign(new_lr)\n",
        "                self.thresholds_reached[i] = True  # Mark this threshold as reached\n",
        "                if self.verbose > 0:\n",
        "                    print(f\"\\nEpoch {epoch+1}: {self.monitor} reached {threshold}. Reducing learning rate from {old_lr} to {new_lr}.\")\n",
        "\n",
        "# Try a custom callback\n",
        "thresholds = [0.96, 0.99, 0.9935]\n",
        "lr_callback = ReduceLROnMultipleAccuracies(thresholds=thresholds, factor=0.75, monitor='val_accuracy', verbose=False)"
      ],
      "metadata": {
        "id": "JBW_dmJqhFvG"
      },
      "execution_count": 13,
      "outputs": []
    },
    {
      "cell_type": "code",
      "source": [
        "model_rlr = ReduceLROnPlateau(monitor='val_loss', factor=0.8, min_lr=1e-4, patience=4, verbose=False)\n",
        "model_mc = ModelCheckpoint('model.keras', monitor='val_accuracy', mode='max', save_best_only=True, verbose=False)\n",
        "\n",
        "# Training the model\n",
        "history = model.fit(\n",
        "    train_ds_preprocessed,\n",
        "    epochs=epochs,\n",
        "    validation_data=test_ds_preprocessed,\n",
        "    callbacks=[model_rlr, model_mc],\n",
        "    verbose=True\n",
        ")"
      ],
      "metadata": {
        "colab": {
          "base_uri": "https://localhost:8080/"
        },
        "id": "-IISRtUuhKxX",
        "outputId": "ccd357ad-7c15-44df-a447-f1945281640b"
      },
      "execution_count": 14,
      "outputs": [
        {
          "output_type": "stream",
          "name": "stdout",
          "text": [
            "Epoch 1/50\n",
            "\u001b[1m143/143\u001b[0m \u001b[32m━━━━━━━━━━━━━━━━━━━━\u001b[0m\u001b[37m\u001b[0m \u001b[1m30s\u001b[0m 161ms/step - accuracy: 0.4407 - loss: 1.1409 - val_accuracy: 0.6590 - val_loss: 0.8642 - learning_rate: 0.0010\n",
            "Epoch 2/50\n",
            "\u001b[1m143/143\u001b[0m \u001b[32m━━━━━━━━━━━━━━━━━━━━\u001b[0m\u001b[37m\u001b[0m \u001b[1m17s\u001b[0m 119ms/step - accuracy: 0.7746 - loss: 0.5992 - val_accuracy: 0.7613 - val_loss: 0.5743 - learning_rate: 0.0010\n",
            "Epoch 3/50\n",
            "\u001b[1m143/143\u001b[0m \u001b[32m━━━━━━━━━━━━━━━━━━━━\u001b[0m\u001b[37m\u001b[0m \u001b[1m16s\u001b[0m 111ms/step - accuracy: 0.8233 - loss: 0.4583 - val_accuracy: 0.8139 - val_loss: 0.4565 - learning_rate: 0.0010\n",
            "Epoch 4/50\n",
            "\u001b[1m143/143\u001b[0m \u001b[32m━━━━━━━━━━━━━━━━━━━━\u001b[0m\u001b[37m\u001b[0m \u001b[1m15s\u001b[0m 106ms/step - accuracy: 0.8670 - loss: 0.3456 - val_accuracy: 0.8436 - val_loss: 0.4149 - learning_rate: 0.0010\n",
            "Epoch 5/50\n",
            "\u001b[1m143/143\u001b[0m \u001b[32m━━━━━━━━━━━━━━━━━━━━\u001b[0m\u001b[37m\u001b[0m \u001b[1m20s\u001b[0m 102ms/step - accuracy: 0.9061 - loss: 0.2581 - val_accuracy: 0.8917 - val_loss: 0.2892 - learning_rate: 0.0010\n",
            "Epoch 6/50\n",
            "\u001b[1m143/143\u001b[0m \u001b[32m━━━━━━━━━━━━━━━━━━━━\u001b[0m\u001b[37m\u001b[0m \u001b[1m21s\u001b[0m 105ms/step - accuracy: 0.9262 - loss: 0.2101 - val_accuracy: 0.9016 - val_loss: 0.2403 - learning_rate: 0.0010\n",
            "Epoch 7/50\n",
            "\u001b[1m143/143\u001b[0m \u001b[32m━━━━━━━━━━━━━━━━━━━━\u001b[0m\u001b[37m\u001b[0m \u001b[1m15s\u001b[0m 106ms/step - accuracy: 0.9456 - loss: 0.1712 - val_accuracy: 0.9207 - val_loss: 0.2182 - learning_rate: 0.0010\n",
            "Epoch 8/50\n",
            "\u001b[1m143/143\u001b[0m \u001b[32m━━━━━━━━━━━━━━━━━━━━\u001b[0m\u001b[37m\u001b[0m \u001b[1m17s\u001b[0m 115ms/step - accuracy: 0.9505 - loss: 0.1404 - val_accuracy: 0.9397 - val_loss: 0.1635 - learning_rate: 0.0010\n",
            "Epoch 9/50\n",
            "\u001b[1m143/143\u001b[0m \u001b[32m━━━━━━━━━━━━━━━━━━━━\u001b[0m\u001b[37m\u001b[0m \u001b[1m15s\u001b[0m 106ms/step - accuracy: 0.9544 - loss: 0.1188 - val_accuracy: 0.9359 - val_loss: 0.2041 - learning_rate: 0.0010\n",
            "Epoch 10/50\n",
            "\u001b[1m143/143\u001b[0m \u001b[32m━━━━━━━━━━━━━━━━━━━━\u001b[0m\u001b[37m\u001b[0m \u001b[1m15s\u001b[0m 100ms/step - accuracy: 0.9638 - loss: 0.1013 - val_accuracy: 0.9573 - val_loss: 0.1387 - learning_rate: 0.0010\n",
            "Epoch 11/50\n",
            "\u001b[1m143/143\u001b[0m \u001b[32m━━━━━━━━━━━━━━━━━━━━\u001b[0m\u001b[37m\u001b[0m \u001b[1m15s\u001b[0m 104ms/step - accuracy: 0.9738 - loss: 0.0724 - val_accuracy: 0.9588 - val_loss: 0.1166 - learning_rate: 0.0010\n",
            "Epoch 12/50\n",
            "\u001b[1m143/143\u001b[0m \u001b[32m━━━━━━━━━━━━━━━━━━━━\u001b[0m\u001b[37m\u001b[0m \u001b[1m20s\u001b[0m 101ms/step - accuracy: 0.9729 - loss: 0.0780 - val_accuracy: 0.9329 - val_loss: 0.2234 - learning_rate: 0.0010\n",
            "Epoch 13/50\n",
            "\u001b[1m143/143\u001b[0m \u001b[32m━━━━━━━━━━━━━━━━━━━━\u001b[0m\u001b[37m\u001b[0m \u001b[1m23s\u001b[0m 116ms/step - accuracy: 0.9701 - loss: 0.0929 - val_accuracy: 0.9634 - val_loss: 0.1048 - learning_rate: 0.0010\n",
            "Epoch 14/50\n",
            "\u001b[1m143/143\u001b[0m \u001b[32m━━━━━━━━━━━━━━━━━━━━\u001b[0m\u001b[37m\u001b[0m \u001b[1m15s\u001b[0m 100ms/step - accuracy: 0.9875 - loss: 0.0414 - val_accuracy: 0.9550 - val_loss: 0.1450 - learning_rate: 0.0010\n",
            "Epoch 15/50\n",
            "\u001b[1m143/143\u001b[0m \u001b[32m━━━━━━━━━━━━━━━━━━━━\u001b[0m\u001b[37m\u001b[0m \u001b[1m21s\u001b[0m 106ms/step - accuracy: 0.9821 - loss: 0.0546 - val_accuracy: 0.9390 - val_loss: 0.1685 - learning_rate: 0.0010\n",
            "Epoch 16/50\n",
            "\u001b[1m143/143\u001b[0m \u001b[32m━━━━━━━━━━━━━━━━━━━━\u001b[0m\u001b[37m\u001b[0m \u001b[1m15s\u001b[0m 102ms/step - accuracy: 0.9831 - loss: 0.0529 - val_accuracy: 0.9451 - val_loss: 0.1677 - learning_rate: 0.0010\n",
            "Epoch 17/50\n",
            "\u001b[1m143/143\u001b[0m \u001b[32m━━━━━━━━━━━━━━━━━━━━\u001b[0m\u001b[37m\u001b[0m \u001b[1m14s\u001b[0m 100ms/step - accuracy: 0.9858 - loss: 0.0425 - val_accuracy: 0.9458 - val_loss: 0.1942 - learning_rate: 0.0010\n",
            "Epoch 18/50\n",
            "\u001b[1m143/143\u001b[0m \u001b[32m━━━━━━━━━━━━━━━━━━━━\u001b[0m\u001b[37m\u001b[0m \u001b[1m23s\u001b[0m 114ms/step - accuracy: 0.9889 - loss: 0.0337 - val_accuracy: 0.9741 - val_loss: 0.0984 - learning_rate: 8.0000e-04\n",
            "Epoch 19/50\n",
            "\u001b[1m143/143\u001b[0m \u001b[32m━━━━━━━━━━━━━━━━━━━━\u001b[0m\u001b[37m\u001b[0m \u001b[1m15s\u001b[0m 101ms/step - accuracy: 0.9923 - loss: 0.0238 - val_accuracy: 0.9710 - val_loss: 0.0839 - learning_rate: 8.0000e-04\n",
            "Epoch 20/50\n",
            "\u001b[1m143/143\u001b[0m \u001b[32m━━━━━━━━━━━━━━━━━━━━\u001b[0m\u001b[37m\u001b[0m \u001b[1m21s\u001b[0m 104ms/step - accuracy: 0.9919 - loss: 0.0212 - val_accuracy: 0.9329 - val_loss: 0.2313 - learning_rate: 8.0000e-04\n",
            "Epoch 21/50\n",
            "\u001b[1m143/143\u001b[0m \u001b[32m━━━━━━━━━━━━━━━━━━━━\u001b[0m\u001b[37m\u001b[0m \u001b[1m20s\u001b[0m 103ms/step - accuracy: 0.9895 - loss: 0.0287 - val_accuracy: 0.9718 - val_loss: 0.0824 - learning_rate: 8.0000e-04\n",
            "Epoch 22/50\n",
            "\u001b[1m143/143\u001b[0m \u001b[32m━━━━━━━━━━━━━━━━━━━━\u001b[0m\u001b[37m\u001b[0m \u001b[1m15s\u001b[0m 101ms/step - accuracy: 0.9903 - loss: 0.0256 - val_accuracy: 0.9619 - val_loss: 0.1480 - learning_rate: 8.0000e-04\n",
            "Epoch 23/50\n",
            "\u001b[1m143/143\u001b[0m \u001b[32m━━━━━━━━━━━━━━━━━━━━\u001b[0m\u001b[37m\u001b[0m \u001b[1m20s\u001b[0m 101ms/step - accuracy: 0.9922 - loss: 0.0243 - val_accuracy: 0.9573 - val_loss: 0.1427 - learning_rate: 8.0000e-04\n",
            "Epoch 24/50\n",
            "\u001b[1m143/143\u001b[0m \u001b[32m━━━━━━━━━━━━━━━━━━━━\u001b[0m\u001b[37m\u001b[0m \u001b[1m21s\u001b[0m 105ms/step - accuracy: 0.9927 - loss: 0.0309 - val_accuracy: 0.9489 - val_loss: 0.2070 - learning_rate: 8.0000e-04\n",
            "Epoch 25/50\n",
            "\u001b[1m143/143\u001b[0m \u001b[32m━━━━━━━━━━━━━━━━━━━━\u001b[0m\u001b[37m\u001b[0m \u001b[1m15s\u001b[0m 106ms/step - accuracy: 0.9890 - loss: 0.0348 - val_accuracy: 0.9619 - val_loss: 0.1813 - learning_rate: 8.0000e-04\n",
            "Epoch 26/50\n",
            "\u001b[1m143/143\u001b[0m \u001b[32m━━━━━━━━━━━━━━━━━━━━\u001b[0m\u001b[37m\u001b[0m \u001b[1m15s\u001b[0m 103ms/step - accuracy: 0.9908 - loss: 0.0319 - val_accuracy: 0.9794 - val_loss: 0.1125 - learning_rate: 6.4000e-04\n",
            "Epoch 27/50\n",
            "\u001b[1m143/143\u001b[0m \u001b[32m━━━━━━━━━━━━━━━━━━━━\u001b[0m\u001b[37m\u001b[0m \u001b[1m15s\u001b[0m 101ms/step - accuracy: 0.9911 - loss: 0.0245 - val_accuracy: 0.9802 - val_loss: 0.0960 - learning_rate: 6.4000e-04\n",
            "Epoch 28/50\n",
            "\u001b[1m143/143\u001b[0m \u001b[32m━━━━━━━━━━━━━━━━━━━━\u001b[0m\u001b[37m\u001b[0m \u001b[1m15s\u001b[0m 103ms/step - accuracy: 0.9971 - loss: 0.0105 - val_accuracy: 0.9771 - val_loss: 0.0793 - learning_rate: 6.4000e-04\n",
            "Epoch 29/50\n",
            "\u001b[1m143/143\u001b[0m \u001b[32m━━━━━━━━━━━━━━━━━━━━\u001b[0m\u001b[37m\u001b[0m \u001b[1m21s\u001b[0m 104ms/step - accuracy: 0.9969 - loss: 0.0105 - val_accuracy: 0.9802 - val_loss: 0.0992 - learning_rate: 6.4000e-04\n",
            "Epoch 30/50\n",
            "\u001b[1m143/143\u001b[0m \u001b[32m━━━━━━━━━━━━━━━━━━━━\u001b[0m\u001b[37m\u001b[0m \u001b[1m15s\u001b[0m 105ms/step - accuracy: 0.9938 - loss: 0.0192 - val_accuracy: 0.9687 - val_loss: 0.1472 - learning_rate: 6.4000e-04\n",
            "Epoch 31/50\n",
            "\u001b[1m143/143\u001b[0m \u001b[32m━━━━━━━━━━━━━━━━━━━━\u001b[0m\u001b[37m\u001b[0m \u001b[1m17s\u001b[0m 117ms/step - accuracy: 0.9960 - loss: 0.0105 - val_accuracy: 0.9474 - val_loss: 0.2528 - learning_rate: 6.4000e-04\n",
            "Epoch 32/50\n",
            "\u001b[1m143/143\u001b[0m \u001b[32m━━━━━━━━━━━━━━━━━━━━\u001b[0m\u001b[37m\u001b[0m \u001b[1m15s\u001b[0m 106ms/step - accuracy: 0.9904 - loss: 0.0246 - val_accuracy: 0.9725 - val_loss: 0.1295 - learning_rate: 6.4000e-04\n",
            "Epoch 33/50\n",
            "\u001b[1m143/143\u001b[0m \u001b[32m━━━━━━━━━━━━━━━━━━━━\u001b[0m\u001b[37m\u001b[0m \u001b[1m22s\u001b[0m 116ms/step - accuracy: 0.9953 - loss: 0.0136 - val_accuracy: 0.9802 - val_loss: 0.0963 - learning_rate: 5.1200e-04\n",
            "Epoch 34/50\n",
            "\u001b[1m143/143\u001b[0m \u001b[32m━━━━━━━━━━━━━━━━━━━━\u001b[0m\u001b[37m\u001b[0m \u001b[1m15s\u001b[0m 106ms/step - accuracy: 0.9978 - loss: 0.0063 - val_accuracy: 0.9741 - val_loss: 0.1017 - learning_rate: 5.1200e-04\n",
            "Epoch 35/50\n",
            "\u001b[1m143/143\u001b[0m \u001b[32m━━━━━━━━━━━━━━━━━━━━\u001b[0m\u001b[37m\u001b[0m \u001b[1m20s\u001b[0m 106ms/step - accuracy: 0.9963 - loss: 0.0131 - val_accuracy: 0.9878 - val_loss: 0.0701 - learning_rate: 5.1200e-04\n",
            "Epoch 36/50\n",
            "\u001b[1m143/143\u001b[0m \u001b[32m━━━━━━━━━━━━━━━━━━━━\u001b[0m\u001b[37m\u001b[0m \u001b[1m16s\u001b[0m 106ms/step - accuracy: 0.9972 - loss: 0.0066 - val_accuracy: 0.9847 - val_loss: 0.1217 - learning_rate: 5.1200e-04\n",
            "Epoch 37/50\n",
            "\u001b[1m143/143\u001b[0m \u001b[32m━━━━━━━━━━━━━━━━━━━━\u001b[0m\u001b[37m\u001b[0m \u001b[1m15s\u001b[0m 104ms/step - accuracy: 0.9968 - loss: 0.0089 - val_accuracy: 0.9619 - val_loss: 0.1674 - learning_rate: 5.1200e-04\n",
            "Epoch 38/50\n",
            "\u001b[1m143/143\u001b[0m \u001b[32m━━━━━━━━━━━━━━━━━━━━\u001b[0m\u001b[37m\u001b[0m \u001b[1m15s\u001b[0m 106ms/step - accuracy: 0.9932 - loss: 0.0171 - val_accuracy: 0.9741 - val_loss: 0.1304 - learning_rate: 5.1200e-04\n",
            "Epoch 39/50\n",
            "\u001b[1m143/143\u001b[0m \u001b[32m━━━━━━━━━━━━━━━━━━━━\u001b[0m\u001b[37m\u001b[0m \u001b[1m20s\u001b[0m 102ms/step - accuracy: 0.9962 - loss: 0.0110 - val_accuracy: 0.9847 - val_loss: 0.0612 - learning_rate: 5.1200e-04\n",
            "Epoch 40/50\n",
            "\u001b[1m143/143\u001b[0m \u001b[32m━━━━━━━━━━━━━━━━━━━━\u001b[0m\u001b[37m\u001b[0m \u001b[1m15s\u001b[0m 106ms/step - accuracy: 0.9992 - loss: 0.0024 - val_accuracy: 0.9649 - val_loss: 0.2367 - learning_rate: 5.1200e-04\n",
            "Epoch 41/50\n",
            "\u001b[1m143/143\u001b[0m \u001b[32m━━━━━━━━━━━━━━━━━━━━\u001b[0m\u001b[37m\u001b[0m \u001b[1m15s\u001b[0m 103ms/step - accuracy: 0.9940 - loss: 0.0146 - val_accuracy: 0.9809 - val_loss: 0.0881 - learning_rate: 5.1200e-04\n",
            "Epoch 42/50\n",
            "\u001b[1m143/143\u001b[0m \u001b[32m━━━━━━━━━━━━━━━━━━━━\u001b[0m\u001b[37m\u001b[0m \u001b[1m21s\u001b[0m 106ms/step - accuracy: 0.9974 - loss: 0.0083 - val_accuracy: 0.9786 - val_loss: 0.0957 - learning_rate: 5.1200e-04\n",
            "Epoch 43/50\n",
            "\u001b[1m143/143\u001b[0m \u001b[32m━━━━━━━━━━━━━━━━━━━━\u001b[0m\u001b[37m\u001b[0m \u001b[1m15s\u001b[0m 106ms/step - accuracy: 0.9964 - loss: 0.0199 - val_accuracy: 0.9748 - val_loss: 0.1186 - learning_rate: 5.1200e-04\n",
            "Epoch 44/50\n",
            "\u001b[1m143/143\u001b[0m \u001b[32m━━━━━━━━━━━━━━━━━━━━\u001b[0m\u001b[37m\u001b[0m \u001b[1m15s\u001b[0m 105ms/step - accuracy: 0.9979 - loss: 0.0057 - val_accuracy: 0.9870 - val_loss: 0.0619 - learning_rate: 4.0960e-04\n",
            "Epoch 45/50\n",
            "\u001b[1m143/143\u001b[0m \u001b[32m━━━━━━━━━━━━━━━━━━━━\u001b[0m\u001b[37m\u001b[0m \u001b[1m21s\u001b[0m 106ms/step - accuracy: 0.9976 - loss: 0.0051 - val_accuracy: 0.9786 - val_loss: 0.1287 - learning_rate: 4.0960e-04\n",
            "Epoch 46/50\n",
            "\u001b[1m143/143\u001b[0m \u001b[32m━━━━━━━━━━━━━━━━━━━━\u001b[0m\u001b[37m\u001b[0m \u001b[1m21s\u001b[0m 105ms/step - accuracy: 0.9977 - loss: 0.0037 - val_accuracy: 0.9764 - val_loss: 0.1259 - learning_rate: 4.0960e-04\n",
            "Epoch 47/50\n",
            "\u001b[1m143/143\u001b[0m \u001b[32m━━━━━━━━━━━━━━━━━━━━\u001b[0m\u001b[37m\u001b[0m \u001b[1m15s\u001b[0m 102ms/step - accuracy: 0.9981 - loss: 0.0030 - val_accuracy: 0.9725 - val_loss: 0.1405 - learning_rate: 4.0960e-04\n",
            "Epoch 48/50\n",
            "\u001b[1m143/143\u001b[0m \u001b[32m━━━━━━━━━━━━━━━━━━━━\u001b[0m\u001b[37m\u001b[0m \u001b[1m21s\u001b[0m 107ms/step - accuracy: 0.9963 - loss: 0.0114 - val_accuracy: 0.9863 - val_loss: 0.0989 - learning_rate: 3.2768e-04\n",
            "Epoch 49/50\n",
            "\u001b[1m143/143\u001b[0m \u001b[32m━━━━━━━━━━━━━━━━━━━━\u001b[0m\u001b[37m\u001b[0m \u001b[1m20s\u001b[0m 106ms/step - accuracy: 0.9995 - loss: 0.0021 - val_accuracy: 0.9870 - val_loss: 0.0863 - learning_rate: 3.2768e-04\n",
            "Epoch 50/50\n",
            "\u001b[1m143/143\u001b[0m \u001b[32m━━━━━━━━━━━━━━━━━━━━\u001b[0m\u001b[37m\u001b[0m \u001b[1m20s\u001b[0m 104ms/step - accuracy: 0.9979 - loss: 0.0055 - val_accuracy: 0.9809 - val_loss: 0.1134 - learning_rate: 3.2768e-04\n"
          ]
        }
      ]
    },
    {
      "cell_type": "code",
      "source": [
        "test_loss, test_acc = model.evaluate(test_ds_preprocessed)\n",
        "print(f\"Test accuracy: {test_acc*100:0.4f}%\")"
      ],
      "metadata": {
        "colab": {
          "base_uri": "https://localhost:8080/"
        },
        "id": "QRG0F6uZhN13",
        "outputId": "1ddd804f-f67a-49ed-e3d9-8849561a7049"
      },
      "execution_count": 15,
      "outputs": [
        {
          "output_type": "stream",
          "name": "stdout",
          "text": [
            "\u001b[1m41/41\u001b[0m \u001b[32m━━━━━━━━━━━━━━━━━━━━\u001b[0m\u001b[37m\u001b[0m \u001b[1m2s\u001b[0m 56ms/step - accuracy: 0.9869 - loss: 0.0655\n",
            "Test accuracy: 98.0931%\n"
          ]
        }
      ]
    },
    {
      "cell_type": "code",
      "source": [
        "from sklearn.metrics import classification_report\n",
        "\n",
        "y_pred = model.predict(test_ds_preprocessed)\n",
        "y_pred_classes = np.argmax(y_pred, axis=1)\n",
        "# Get true labels as class indices instead of one-hot encoded vectors\n",
        "true_labels = np.concatenate([np.argmax(y.numpy(), axis=-1) for x, y in test_ds_preprocessed], axis=0)\n",
        "print(classification_report(true_labels, y_pred_classes))"
      ],
      "metadata": {
        "colab": {
          "base_uri": "https://localhost:8080/"
        },
        "id": "ZxlgXwivlB3W",
        "outputId": "db93a3cf-eac9-4603-91e7-aa9ad05a7aa0"
      },
      "execution_count": 16,
      "outputs": [
        {
          "output_type": "stream",
          "name": "stdout",
          "text": [
            "\u001b[1m41/41\u001b[0m \u001b[32m━━━━━━━━━━━━━━━━━━━━\u001b[0m\u001b[37m\u001b[0m \u001b[1m2s\u001b[0m 27ms/step\n",
            "              precision    recall  f1-score   support\n",
            "\n",
            "           0       0.99      0.95      0.97       300\n",
            "           1       0.96      0.97      0.97       306\n",
            "           2       0.99      1.00      1.00       405\n",
            "           3       0.97      1.00      0.99       300\n",
            "\n",
            "    accuracy                           0.98      1311\n",
            "   macro avg       0.98      0.98      0.98      1311\n",
            "weighted avg       0.98      0.98      0.98      1311\n",
            "\n"
          ]
        }
      ]
    },
    {
      "cell_type": "code",
      "source": [
        "from sklearn.metrics import confusion_matrix\n",
        "import seaborn as sns\n",
        "import matplotlib.pyplot as plt\n",
        "\n",
        "cm = confusion_matrix(true_labels, y_pred_classes)\n",
        "\n",
        "plt.figure(figsize=(8, 6))\n",
        "sns.heatmap(cm, annot=True, fmt='d', cmap='Blues', xticklabels=class_names, yticklabels=class_names)\n",
        "plt.xlabel('Predicted')\n",
        "plt.ylabel('True')\n",
        "plt.title('Confusion Matrix')\n",
        "plt.show()\n"
      ],
      "metadata": {
        "colab": {
          "base_uri": "https://localhost:8080/",
          "height": 564
        },
        "id": "2A4H4l9Bk2jG",
        "outputId": "5c2e6c4d-b7c8-4b04-ca44-427e998cfe97"
      },
      "execution_count": 17,
      "outputs": [
        {
          "output_type": "display_data",
          "data": {
            "text/plain": [
              "<Figure size 800x600 with 2 Axes>"
            ],
            "image/png": "[encoded data removed]"
          },
          "metadata": {}
        }
      ]
    },
    {
      "cell_type": "code",
      "source": [
        "model.save('SSL_80-20.h5')"
      ],
      "metadata": {
        "colab": {
          "base_uri": "https://localhost:8080/"
        },
        "id": "JsTmH9PslAzW",
        "outputId": "7e39b3fd-0049-4cc9-dbee-2b23f1969a53"
      },
      "execution_count": 18,
      "outputs": [
        {
          "output_type": "stream",
          "name": "stderr",
          "text": [
            "WARNING:absl:You are saving your model as an HDF5 file via `model.save()` or `keras.saving.save_model(model)`. This file format is considered legacy. We recommend using instead the native Keras format, e.g. `model.save('my_model.keras')` or `keras.saving.save_model(model, 'my_model.keras')`. \n"
          ]
        }
      ]
    },
    {
      "cell_type": "code",
      "source": [
        "import os\n",
        "import numpy as np\n",
        "import tensorflow as tf\n",
        "from tensorflow.keras.preprocessing.image import load_img, img_to_array\n",
        "from tqdm import tqdm\n",
        "from datetime import datetime\n",
        "import shutil\n",
        "\n",
        "# Define paths\n",
        "MODEL_PATH = \"SSL_80-20.h5\"  # Update with actual model path\n",
        "UNLABELED_DATASET_PATH = \"BT100/unlabelled\"  # Update with actual dataset path\n",
        "OUTPUT_FOLDER = \"BT100/Training\"\n",
        "LOW_CONF_FOLDER = \"BT100/low_confidence\"  # Folder for low-confidence images\n",
        "CONFIDENCE_THRESHOLD = 0.98\n",
        "IMG_SIZE = (168, 168)  # Use the same image size as during training\n",
        "\n",
        "# Define class names\n",
        "CLASS_NAMES = [\"glioma\", \"meningioma\", \"notumor\", \"pituitary\"]  # Update with actual class names\n",
        "\n",
        "# Load trained model\n",
        "model = tf.keras.models.load_model(MODEL_PATH)\n",
        "\n",
        "# Ensure output folders exist\n",
        "for class_name in CLASS_NAMES:\n",
        "    os.makedirs(os.path.join(OUTPUT_FOLDER, class_name), exist_ok=True)\n",
        "os.makedirs(LOW_CONF_FOLDER, exist_ok=True)  # Ensure low-confidence folder exists\n",
        "\n",
        "# Get list of image files\n",
        "image_files = [f for f in os.listdir(UNLABELED_DATASET_PATH) if f.endswith(('png', 'jpg', 'jpeg'))]\n",
        "\n",
        "for img_file in tqdm(image_files):\n",
        "    img_path = os.path.join(UNLABELED_DATASET_PATH, img_file)\n",
        "\n",
        "    # Load and preprocess image\n",
        "    img = load_img(img_path, target_size=IMG_SIZE, color_mode='grayscale')  # Load as grayscale\n",
        "    img_array = img_to_array(img) / 255.0  # Normalize\n",
        "    img_array = np.expand_dims(img_array, axis=0)  # Add batch dimension\n",
        "\n",
        "    # Get predictions\n",
        "    predictions = model.predict(img_array)\n",
        "    class_id = np.argmax(predictions)\n",
        "    confidence = np.max(predictions)\n",
        "\n",
        "    # Debugging print statements\n",
        "    print(f\"{img_file} -> Class: {CLASS_NAMES[class_id]}, Confidence: {confidence:.2f}\")\n",
        "\n",
        "    # Save pseudo-labeled image if confidence is above threshold\n",
        "    if confidence >= CONFIDENCE_THRESHOLD:\n",
        "        class_folder = os.path.join(OUTPUT_FOLDER, CLASS_NAMES[class_id])\n",
        "\n",
        "        # Ensure unique filenames to prevent overwriting\n",
        "        unique_filename = f\"{datetime.now().strftime('%Y%m%d_%H%M%S')}_{img_file}\"\n",
        "        output_path = os.path.join(class_folder, unique_filename)\n",
        "\n",
        "        print(f\"Moving {img_file} to {output_path}\")\n",
        "        shutil.move(img_path, output_path)  # Move instead of copy\n",
        "    else:\n",
        "        low_conf_path = os.path.join(LOW_CONF_FOLDER, img_file)\n",
        "        shutil.move(img_path, low_conf_path)\n",
        "        print(f\"Moved low-confidence image {img_file} to {LOW_CONF_FOLDER}\")\n",
        "\n",
        "print(\"✅ Pseudo-labeling completed. Check the output folder for labeled images and low-confidence images.\")\n"
      ],
      "metadata": {
        "colab": {
          "base_uri": "https://localhost:8080/"
        },
        "id": "7bSL18cNHwTL",
        "outputId": "ae4ebfb4-43e3-44c5-8637-ef32d4b545e7"
      },
      "execution_count": 25,
      "outputs": [
        {
          "output_type": "stream",
          "name": "stderr",
          "text": [
            "WARNING:absl:Compiled the loaded model, but the compiled metrics have yet to be built. `model.compile_metrics` will be empty until you train or evaluate the model.\n",
            "  0%|          | 0/1141 [00:00<?, ?it/s]"
          ]
        },
        {
          "output_type": "stream",
          "name": "stdout",
          "text": [
            "\u001b[1m1/1\u001b[0m \u001b[32m━━━━━━━━━━━━━━━━━━━━\u001b[0m\u001b[37m\u001b[0m \u001b[1m1s\u001b[0m 1s/step\n"
          ]
        },
        {
          "output_type": "stream",
          "name": "stderr",
          "text": [
            "\r  0%|          | 1/1141 [00:01<25:24,  1.34s/it]"
          ]
        },
        {
          "output_type": "stream",
          "name": "stdout",
          "text": [
            "Tr-gl_0780.jpg -> Class: glioma, Confidence: 1.00\n",
            "Moving Tr-gl_0780.jpg to BT100/Training/glioma/20250328_234023_Tr-gl_0780.jpg\n",
            "\u001b[1m1/1\u001b[0m \u001b[32m━━━━━━━━━━━━━━━━━━━━\u001b[0m\u001b[37m\u001b[0m \u001b[1m0s\u001b[0m 85ms/step\n"
          ]
        },
        {
          "output_type": "stream",
          "name": "stderr",
          "text": [
            "\r  0%|          | 2/1141 [00:01<13:48,  1.37it/s]"
          ]
        },
        {
          "output_type": "stream",
          "name": "stdout",
          "text": [
            "Tr-no_0585.jpg -> Class: notumor, Confidence: 1.00\n",
            "Moving Tr-no_0585.jpg to BT100/Training/notumor/20250328_234023_Tr-no_0585.jpg\n",
            "\u001b[1m1/1\u001b[0m \u001b[32m━━━━━━━━━━━━━━━━━━━━\u001b[0m\u001b[37m\u001b[0m \u001b[1m0s\u001b[0m 115ms/step\n"
          ]
        },
        {
          "output_type": "stream",
          "name": "stderr",
          "text": [
            "\r  0%|          | 3/1141 [00:01<09:42,  1.95it/s]"
          ]
        },
        {
          "output_type": "stream",
          "name": "stdout",
          "text": [
            "Tr-gl_0648.jpg -> Class: glioma, Confidence: 1.00\n",
            "Moving Tr-gl_0648.jpg to BT100/Training/glioma/20250328_234023_Tr-gl_0648.jpg\n",
            "\u001b[1m1/1\u001b[0m \u001b[32m━━━━━━━━━━━━━━━━━━━━\u001b[0m\u001b[37m\u001b[0m \u001b[1m0s\u001b[0m 43ms/step\n"
          ]
        },
        {
          "output_type": "stream",
          "name": "stderr",
          "text": [
            "\r  0%|          | 4/1141 [00:01<06:40,  2.84it/s]"
          ]
        },
        {
          "output_type": "stream",
          "name": "stdout",
          "text": [
            "Tr-gl_0325.jpg -> Class: glioma, Confidence: 1.00\n",
            "Moving Tr-gl_0325.jpg to BT100/Training/glioma/20250328_234023_Tr-gl_0325.jpg\n",
            "\u001b[1m1/1\u001b[0m \u001b[32m━━━━━━━━━━━━━━━━━━━━\u001b[0m\u001b[37m\u001b[0m \u001b[1m0s\u001b[0m 47ms/step\n"
          ]
        },
        {
          "output_type": "stream",
          "name": "stderr",
          "text": [
            "\r  0%|          | 5/1141 [00:02<05:25,  3.50it/s]"
          ]
        },
        {
          "output_type": "stream",
          "name": "stdout",
          "text": [
            "Tr-me_0990.jpg -> Class: meningioma, Confidence: 1.00\n",
            "Moving Tr-me_0990.jpg to BT100/Training/meningioma/20250328_234024_Tr-me_0990.jpg\n",
            "\u001b[1m1/1\u001b[0m \u001b[32m━━━━━━━━━━━━━━━━━━━━\u001b[0m\u001b[37m\u001b[0m \u001b[1m0s\u001b[0m 32ms/step\n",
            "Tr-no_0150.jpg -> Class: notumor, Confidence: 1.00\n",
            "Moving Tr-no_0150.jpg to BT100/Training/notumor/20250328_234024_Tr-no_0150.jpg\n",
            "\u001b[1m1/1\u001b[0m \u001b[32m━━━━━━━━━━━━━━━━━━━━\u001b[0m\u001b[37m\u001b[0m \u001b[1m0s\u001b[0m 28ms/step\n"
          ]
        },
        {
          "output_type": "stream",
          "name": "stderr",
          "text": [
            "\r  1%|          | 7/1141 [00:02<03:22,  5.61it/s]"
          ]
        },
        {
          "output_type": "stream",
          "name": "stdout",
          "text": [
            "Tr-no_1038.jpg -> Class: notumor, Confidence: 1.00\n",
            "Moving Tr-no_1038.jpg to BT100/Training/notumor/20250328_234024_Tr-no_1038.jpg\n",
            "\u001b[1m1/1\u001b[0m \u001b[32m━━━━━━━━━━━━━━━━━━━━\u001b[0m\u001b[37m\u001b[0m \u001b[1m0s\u001b[0m 36ms/step\n",
            "Tr-no_0679.jpg -> Class: notumor, Confidence: 1.00\n",
            "Moving Tr-no_0679.jpg to BT100/Training/notumor/20250328_234024_Tr-no_0679.jpg\n",
            "\u001b[1m1/1\u001b[0m \u001b[32m━━━━━━━━━━━━━━━━━━━━\u001b[0m\u001b[37m\u001b[0m \u001b[1m0s\u001b[0m 40ms/step\n"
          ]
        },
        {
          "output_type": "stream",
          "name": "stderr",
          "text": [
            "\r  1%|          | 9/1141 [00:02<02:33,  7.37it/s]"
          ]
        },
        {
          "output_type": "stream",
          "name": "stdout",
          "text": [
            "Tr-me_0753.jpg -> Class: meningioma, Confidence: 1.00\n",
            "Moving Tr-me_0753.jpg to BT100/Training/meningioma/20250328_234024_Tr-me_0753.jpg\n",
            "\u001b[1m1/1\u001b[0m \u001b[32m━━━━━━━━━━━━━━━━━━━━\u001b[0m\u001b[37m\u001b[0m \u001b[1m0s\u001b[0m 30ms/step\n",
            "Tr-gl_0729.jpg -> Class: glioma, Confidence: 1.00\n",
            "Moving Tr-gl_0729.jpg to BT100/Training/glioma/20250328_234024_Tr-gl_0729.jpg\n",
            "\u001b[1m1/1\u001b[0m \u001b[32m━━━━━━━━━━━━━━━━━━━━\u001b[0m\u001b[37m\u001b[0m \u001b[1m0s\u001b[0m 30ms/step\n"
          ]
        },
        {
          "output_type": "stream",
          "name": "stderr",
          "text": [
            "\r  1%|          | 11/1141 [00:02<02:05,  9.03it/s]"
          ]
        },
        {
          "output_type": "stream",
          "name": "stdout",
          "text": [
            "Tr-me_0400.jpg -> Class: meningioma, Confidence: 1.00\n",
            "Moving Tr-me_0400.jpg to BT100/Training/meningioma/20250328_234024_Tr-me_0400.jpg\n",
            "\u001b[1m1/1\u001b[0m \u001b[32m━━━━━━━━━━━━━━━━━━━━\u001b[0m\u001b[37m\u001b[0m \u001b[1m0s\u001b[0m 30ms/step\n",
            "Tr-pi_0604.jpg -> Class: pituitary, Confidence: 1.00\n",
            "Moving Tr-pi_0604.jpg to BT100/Training/pituitary/20250328_234024_Tr-pi_0604.jpg\n",
            "\u001b[1m1/1\u001b[0m \u001b[32m━━━━━━━━━━━━━━━━━━━━\u001b[0m\u001b[37m\u001b[0m \u001b[1m0s\u001b[0m 29ms/step\n"
          ]
        },
        {
          "output_type": "stream",
          "name": "stderr",
          "text": [
            "\r  1%|          | 13/1141 [00:02<01:47, 10.46it/s]"
          ]
        },
        {
          "output_type": "stream",
          "name": "stdout",
          "text": [
            "Tr-me_1154.jpg -> Class: meningioma, Confidence: 1.00\n",
            "Moving Tr-me_1154.jpg to BT100/Training/meningioma/20250328_234024_Tr-me_1154.jpg\n",
            "\u001b[1m1/1\u001b[0m \u001b[32m━━━━━━━━━━━━━━━━━━━━\u001b[0m\u001b[37m\u001b[0m \u001b[1m0s\u001b[0m 30ms/step\n",
            "Tr-me_0121.jpg -> Class: meningioma, Confidence: 1.00\n",
            "Moving Tr-me_0121.jpg to BT100/Training/meningioma/20250328_234024_Tr-me_0121.jpg\n",
            "\u001b[1m1/1\u001b[0m \u001b[32m━━━━━━━━━━━━━━━━━━━━\u001b[0m\u001b[37m\u001b[0m \u001b[1m0s\u001b[0m 30ms/step\n"
          ]
        },
        {
          "output_type": "stream",
          "name": "stderr",
          "text": [
            "\r  1%|▏         | 15/1141 [00:02<01:39, 11.30it/s]"
          ]
        },
        {
          "output_type": "stream",
          "name": "stdout",
          "text": [
            "Tr-me_1181.jpg -> Class: meningioma, Confidence: 1.00\n",
            "Moving Tr-me_1181.jpg to BT100/Training/meningioma/20250328_234024_Tr-me_1181.jpg\n",
            "\u001b[1m1/1\u001b[0m \u001b[32m━━━━━━━━━━━━━━━━━━━━\u001b[0m\u001b[37m\u001b[0m \u001b[1m0s\u001b[0m 31ms/step\n",
            "Tr-pi_0683.jpg -> Class: pituitary, Confidence: 1.00\n",
            "Moving Tr-pi_0683.jpg to BT100/Training/pituitary/20250328_234024_Tr-pi_0683.jpg\n",
            "\u001b[1m1/1\u001b[0m \u001b[32m━━━━━━━━━━━━━━━━━━━━\u001b[0m\u001b[37m\u001b[0m \u001b[1m0s\u001b[0m 30ms/step\n"
          ]
        },
        {
          "output_type": "stream",
          "name": "stderr",
          "text": [
            "\r  1%|▏         | 17/1141 [00:03<01:32, 12.17it/s]"
          ]
        },
        {
          "output_type": "stream",
          "name": "stdout",
          "text": [
            "Tr-gl_0676.jpg -> Class: glioma, Confidence: 1.00\n",
            "Moving Tr-gl_0676.jpg to BT100/Training/glioma/20250328_234024_Tr-gl_0676.jpg\n",
            "\u001b[1m1/1\u001b[0m \u001b[32m━━━━━━━━━━━━━━━━━━━━\u001b[0m\u001b[37m\u001b[0m \u001b[1m0s\u001b[0m 41ms/step\n",
            "Tr-me_0076.jpg -> Class: meningioma, Confidence: 1.00\n",
            "Moving Tr-me_0076.jpg to BT100/Training/meningioma/20250328_234025_Tr-me_0076.jpg\n",
            "\u001b[1m1/1\u001b[0m \u001b[32m━━━━━━━━━━━━━━━━━━━━\u001b[0m\u001b[37m\u001b[0m \u001b[1m0s\u001b[0m 31ms/step\n"
          ]
        },
        {
          "output_type": "stream",
          "name": "stderr",
          "text": [
            "\r  2%|▏         | 19/1141 [00:03<01:29, 12.55it/s]"
          ]
        },
        {
          "output_type": "stream",
          "name": "stdout",
          "text": [
            "Tr-no_0781.jpg -> Class: notumor, Confidence: 1.00\n",
            "Moving Tr-no_0781.jpg to BT100/Training/notumor/20250328_234025_Tr-no_0781.jpg\n",
            "\u001b[1m1/1\u001b[0m \u001b[32m━━━━━━━━━━━━━━━━━━━━\u001b[0m\u001b[37m\u001b[0m \u001b[1m0s\u001b[0m 28ms/step\n",
            "Tr-no_0496.jpg -> Class: notumor, Confidence: 1.00\n",
            "Moving Tr-no_0496.jpg to BT100/Training/notumor/20250328_234025_Tr-no_0496.jpg\n",
            "\u001b[1m1/1\u001b[0m \u001b[32m━━━━━━━━━━━━━━━━━━━━\u001b[0m\u001b[37m\u001b[0m \u001b[1m0s\u001b[0m 32ms/step\n"
          ]
        },
        {
          "output_type": "stream",
          "name": "stderr",
          "text": [
            "\r  2%|▏         | 21/1141 [00:03<01:25, 13.09it/s]"
          ]
        },
        {
          "output_type": "stream",
          "name": "stdout",
          "text": [
            "Tr-no_1007.jpg -> Class: notumor, Confidence: 1.00\n",
            "Moving Tr-no_1007.jpg to BT100/Training/notumor/20250328_234025_Tr-no_1007.jpg\n",
            "\u001b[1m1/1\u001b[0m \u001b[32m━━━━━━━━━━━━━━━━━━━━\u001b[0m\u001b[37m\u001b[0m \u001b[1m0s\u001b[0m 37ms/step\n",
            "Tr-no_0178.jpg -> Class: notumor, Confidence: 1.00\n",
            "Moving Tr-no_0178.jpg to BT100/Training/notumor/20250328_234025_Tr-no_0178.jpg\n",
            "\u001b[1m1/1\u001b[0m \u001b[32m━━━━━━━━━━━━━━━━━━━━\u001b[0m\u001b[37m\u001b[0m \u001b[1m0s\u001b[0m 28ms/step\n"
          ]
        },
        {
          "output_type": "stream",
          "name": "stderr",
          "text": [
            "\r  2%|▏         | 23/1141 [00:03<01:31, 12.27it/s]"
          ]
        },
        {
          "output_type": "stream",
          "name": "stdout",
          "text": [
            "Tr-me_0233.jpg -> Class: meningioma, Confidence: 1.00\n",
            "Moving Tr-me_0233.jpg to BT100/Training/meningioma/20250328_234025_Tr-me_0233.jpg\n",
            "\u001b[1m1/1\u001b[0m \u001b[32m━━━━━━━━━━━━━━━━━━━━\u001b[0m\u001b[37m\u001b[0m \u001b[1m0s\u001b[0m 29ms/step\n",
            "Tr-pi_0336.jpg -> Class: pituitary, Confidence: 1.00\n",
            "Moving Tr-pi_0336.jpg to BT100/Training/pituitary/20250328_234025_Tr-pi_0336.jpg\n",
            "\u001b[1m1/1\u001b[0m \u001b[32m━━━━━━━━━━━━━━━━━━━━\u001b[0m\u001b[37m\u001b[0m \u001b[1m0s\u001b[0m 30ms/step\n"
          ]
        },
        {
          "output_type": "stream",
          "name": "stderr",
          "text": [
            "\r  2%|▏         | 25/1141 [00:03<01:26, 12.89it/s]"
          ]
        },
        {
          "output_type": "stream",
          "name": "stdout",
          "text": [
            "Tr-pi_1200.jpg -> Class: pituitary, Confidence: 1.00\n",
            "Moving Tr-pi_1200.jpg to BT100/Training/pituitary/20250328_234025_Tr-pi_1200.jpg\n",
            "\u001b[1m1/1\u001b[0m \u001b[32m━━━━━━━━━━━━━━━━━━━━\u001b[0m\u001b[37m\u001b[0m \u001b[1m0s\u001b[0m 33ms/step\n",
            "Tr-no_0832.jpg -> Class: notumor, Confidence: 1.00\n",
            "Moving Tr-no_0832.jpg to BT100/Training/notumor/20250328_234025_Tr-no_0832.jpg\n",
            "\u001b[1m1/1\u001b[0m \u001b[32m━━━━━━━━━━━━━━━━━━━━\u001b[0m\u001b[37m\u001b[0m \u001b[1m0s\u001b[0m 34ms/step\n"
          ]
        },
        {
          "output_type": "stream",
          "name": "stderr",
          "text": [
            "\r  2%|▏         | 27/1141 [00:03<01:25, 13.07it/s]"
          ]
        },
        {
          "output_type": "stream",
          "name": "stdout",
          "text": [
            "Tr-pi_0357.jpg -> Class: pituitary, Confidence: 1.00\n",
            "Moving Tr-pi_0357.jpg to BT100/Training/pituitary/20250328_234025_Tr-pi_0357.jpg\n",
            "\u001b[1m1/1\u001b[0m \u001b[32m━━━━━━━━━━━━━━━━━━━━\u001b[0m\u001b[37m\u001b[0m \u001b[1m0s\u001b[0m 36ms/step\n",
            "Tr-me_0372.jpg -> Class: meningioma, Confidence: 1.00\n",
            "Moving Tr-me_0372.jpg to BT100/Training/meningioma/20250328_234025_Tr-me_0372.jpg\n",
            "\u001b[1m1/1\u001b[0m \u001b[32m━━━━━━━━━━━━━━━━━━━━\u001b[0m\u001b[37m\u001b[0m \u001b[1m0s\u001b[0m 31ms/step\n"
          ]
        },
        {
          "output_type": "stream",
          "name": "stderr",
          "text": [
            "\r  3%|▎         | 29/1141 [00:03<01:23, 13.30it/s]"
          ]
        },
        {
          "output_type": "stream",
          "name": "stdout",
          "text": [
            "Tr-no_0063.jpg -> Class: notumor, Confidence: 1.00\n",
            "Moving Tr-no_0063.jpg to BT100/Training/notumor/20250328_234025_Tr-no_0063.jpg\n",
            "\u001b[1m1/1\u001b[0m \u001b[32m━━━━━━━━━━━━━━━━━━━━\u001b[0m\u001b[37m\u001b[0m \u001b[1m0s\u001b[0m 33ms/step\n",
            "Tr-no_0011.jpg -> Class: notumor, Confidence: 1.00\n",
            "Moving Tr-no_0011.jpg to BT100/Training/notumor/20250328_234025_Tr-no_0011.jpg\n",
            "\u001b[1m1/1\u001b[0m \u001b[32m━━━━━━━━━━━━━━━━━━━━\u001b[0m\u001b[37m\u001b[0m \u001b[1m0s\u001b[0m 35ms/step\n"
          ]
        },
        {
          "output_type": "stream",
          "name": "stderr",
          "text": [
            "\r  3%|▎         | 31/1141 [00:04<01:23, 13.28it/s]"
          ]
        },
        {
          "output_type": "stream",
          "name": "stdout",
          "text": [
            "Tr-no_1289.jpg -> Class: notumor, Confidence: 1.00\n",
            "Moving Tr-no_1289.jpg to BT100/Training/notumor/20250328_234025_Tr-no_1289.jpg\n",
            "\u001b[1m1/1\u001b[0m \u001b[32m━━━━━━━━━━━━━━━━━━━━\u001b[0m\u001b[37m\u001b[0m \u001b[1m0s\u001b[0m 35ms/step\n",
            "Tr-me_1032.jpg -> Class: meningioma, Confidence: 1.00\n",
            "Moving Tr-me_1032.jpg to BT100/Training/meningioma/20250328_234026_Tr-me_1032.jpg\n",
            "\u001b[1m1/1\u001b[0m \u001b[32m━━━━━━━━━━━━━━━━━━━━\u001b[0m\u001b[37m\u001b[0m \u001b[1m0s\u001b[0m 32ms/step\n"
          ]
        },
        {
          "output_type": "stream",
          "name": "stderr",
          "text": [
            "\r  3%|▎         | 33/1141 [00:04<01:23, 13.24it/s]"
          ]
        },
        {
          "output_type": "stream",
          "name": "stdout",
          "text": [
            "Tr-pi_1045.jpg -> Class: pituitary, Confidence: 1.00\n",
            "Moving Tr-pi_1045.jpg to BT100/Training/pituitary/20250328_234026_Tr-pi_1045.jpg\n",
            "\u001b[1m1/1\u001b[0m \u001b[32m━━━━━━━━━━━━━━━━━━━━\u001b[0m\u001b[37m\u001b[0m \u001b[1m0s\u001b[0m 32ms/step\n",
            "Tr-me_1192.jpg -> Class: meningioma, Confidence: 1.00\n",
            "Moving Tr-me_1192.jpg to BT100/Training/meningioma/20250328_234026_Tr-me_1192.jpg\n",
            "\u001b[1m1/1\u001b[0m \u001b[32m━━━━━━━━━━━━━━━━━━━━\u001b[0m\u001b[37m\u001b[0m \u001b[1m0s\u001b[0m 38ms/step\n"
          ]
        },
        {
          "output_type": "stream",
          "name": "stderr",
          "text": [
            "\r  3%|▎         | 35/1141 [00:04<01:29, 12.38it/s]"
          ]
        },
        {
          "output_type": "stream",
          "name": "stdout",
          "text": [
            "Tr-no_0287.jpg -> Class: notumor, Confidence: 1.00\n",
            "Moving Tr-no_0287.jpg to BT100/Training/notumor/20250328_234026_Tr-no_0287.jpg\n",
            "\u001b[1m1/1\u001b[0m \u001b[32m━━━━━━━━━━━━━━━━━━━━\u001b[0m\u001b[37m\u001b[0m \u001b[1m0s\u001b[0m 31ms/step\n",
            "Tr-no_0241.jpg -> Class: notumor, Confidence: 1.00\n",
            "Moving Tr-no_0241.jpg to BT100/Training/notumor/20250328_234026_Tr-no_0241.jpg\n",
            "\u001b[1m1/1\u001b[0m \u001b[32m━━━━━━━━━━━━━━━━━━━━\u001b[0m\u001b[37m\u001b[0m \u001b[1m0s\u001b[0m 33ms/step\n"
          ]
        },
        {
          "output_type": "stream",
          "name": "stderr",
          "text": [
            "\r  3%|▎         | 37/1141 [00:04<01:27, 12.67it/s]"
          ]
        },
        {
          "output_type": "stream",
          "name": "stdout",
          "text": [
            "Tr-pi_0540.jpg -> Class: pituitary, Confidence: 1.00\n",
            "Moving Tr-pi_0540.jpg to BT100/Training/pituitary/20250328_234026_Tr-pi_0540.jpg\n",
            "\u001b[1m1/1\u001b[0m \u001b[32m━━━━━━━━━━━━━━━━━━━━\u001b[0m\u001b[37m\u001b[0m \u001b[1m0s\u001b[0m 30ms/step\n",
            "Tr-me_0793.jpg -> Class: meningioma, Confidence: 1.00\n",
            "Moving Tr-me_0793.jpg to BT100/Training/meningioma/20250328_234026_Tr-me_0793.jpg\n",
            "\u001b[1m1/1\u001b[0m \u001b[32m━━━━━━━━━━━━━━━━━━━━\u001b[0m\u001b[37m\u001b[0m \u001b[1m0s\u001b[0m 33ms/step\n"
          ]
        },
        {
          "output_type": "stream",
          "name": "stderr",
          "text": [
            "\r  3%|▎         | 39/1141 [00:04<01:31, 12.04it/s]"
          ]
        },
        {
          "output_type": "stream",
          "name": "stdout",
          "text": [
            "Tr-me_1279.jpg -> Class: meningioma, Confidence: 1.00\n",
            "Moving Tr-me_1279.jpg to BT100/Training/meningioma/20250328_234026_Tr-me_1279.jpg\n",
            "\u001b[1m1/1\u001b[0m \u001b[32m━━━━━━━━━━━━━━━━━━━━\u001b[0m\u001b[37m\u001b[0m \u001b[1m0s\u001b[0m 33ms/step\n",
            "Tr-me_1265.jpg -> Class: meningioma, Confidence: 1.00\n",
            "Moving Tr-me_1265.jpg to BT100/Training/meningioma/20250328_234026_Tr-me_1265.jpg\n",
            "\u001b[1m1/1\u001b[0m \u001b[32m━━━━━━━━━━━━━━━━━━━━\u001b[0m\u001b[37m\u001b[0m \u001b[1m0s\u001b[0m 29ms/step\n",
            "Tr-gl_0359.jpg -> Class: glioma, Confidence: 0.80\n"
          ]
        },
        {
          "output_type": "stream",
          "name": "stderr",
          "text": [
            "\r  4%|▎         | 41/1141 [00:04<01:27, 12.57it/s]"
          ]
        },
        {
          "output_type": "stream",
          "name": "stdout",
          "text": [
            "Moved low-confidence image Tr-gl_0359.jpg to BT100/low_confidence\n",
            "\u001b[1m1/1\u001b[0m \u001b[32m━━━━━━━━━━━━━━━━━━━━\u001b[0m\u001b[37m\u001b[0m \u001b[1m0s\u001b[0m 30ms/step\n",
            "Tr-pi_1034.jpg -> Class: pituitary, Confidence: 1.00\n",
            "Moving Tr-pi_1034.jpg to BT100/Training/pituitary/20250328_234026_Tr-pi_1034.jpg\n",
            "\u001b[1m1/1\u001b[0m \u001b[32m━━━━━━━━━━━━━━━━━━━━\u001b[0m\u001b[37m\u001b[0m \u001b[1m0s\u001b[0m 29ms/step\n"
          ]
        },
        {
          "output_type": "stream",
          "name": "stderr",
          "text": [
            "\r  4%|▍         | 43/1141 [00:05<01:23, 13.20it/s]"
          ]
        },
        {
          "output_type": "stream",
          "name": "stdout",
          "text": [
            "Tr-gl_0015.jpg -> Class: glioma, Confidence: 1.00\n",
            "Moving Tr-gl_0015.jpg to BT100/Training/glioma/20250328_234026_Tr-gl_0015.jpg\n",
            "\u001b[1m1/1\u001b[0m \u001b[32m━━━━━━━━━━━━━━━━━━━━\u001b[0m\u001b[37m\u001b[0m \u001b[1m0s\u001b[0m 28ms/step\n",
            "Tr-me_0839.jpg -> Class: meningioma, Confidence: 1.00\n",
            "Moving Tr-me_0839.jpg to BT100/Training/meningioma/20250328_234026_Tr-me_0839.jpg\n",
            "\u001b[1m1/1\u001b[0m \u001b[32m━━━━━━━━━━━━━━━━━━━━\u001b[0m\u001b[37m\u001b[0m \u001b[1m0s\u001b[0m 40ms/step\n"
          ]
        },
        {
          "output_type": "stream",
          "name": "stderr",
          "text": [
            "\r  4%|▍         | 45/1141 [00:05<01:20, 13.54it/s]"
          ]
        },
        {
          "output_type": "stream",
          "name": "stdout",
          "text": [
            "Tr-no_0690.jpg -> Class: notumor, Confidence: 1.00\n",
            "Moving Tr-no_0690.jpg to BT100/Training/notumor/20250328_234027_Tr-no_0690.jpg\n",
            "\u001b[1m1/1\u001b[0m \u001b[32m━━━━━━━━━━━━━━━━━━━━\u001b[0m\u001b[37m\u001b[0m \u001b[1m0s\u001b[0m 29ms/step\n",
            "Tr-pi_0732.jpg -> Class: pituitary, Confidence: 1.00\n",
            "Moving Tr-pi_0732.jpg to BT100/Training/pituitary/20250328_234027_Tr-pi_0732.jpg\n",
            "\u001b[1m1/1\u001b[0m \u001b[32m━━━━━━━━━━━━━━━━━━━━\u001b[0m\u001b[37m\u001b[0m \u001b[1m0s\u001b[0m 30ms/step\n"
          ]
        },
        {
          "output_type": "stream",
          "name": "stderr",
          "text": [
            "\r  4%|▍         | 47/1141 [00:05<01:19, 13.77it/s]"
          ]
        },
        {
          "output_type": "stream",
          "name": "stdout",
          "text": [
            "Tr-no_1537.jpg -> Class: notumor, Confidence: 1.00\n",
            "Moving Tr-no_1537.jpg to BT100/Training/notumor/20250328_234027_Tr-no_1537.jpg\n",
            "\u001b[1m1/1\u001b[0m \u001b[32m━━━━━━━━━━━━━━━━━━━━\u001b[0m\u001b[37m\u001b[0m \u001b[1m0s\u001b[0m 47ms/step\n",
            "Tr-me_1281.jpg -> Class: meningioma, Confidence: 1.00\n",
            "Moving Tr-me_1281.jpg to BT100/Training/meningioma/20250328_234027_Tr-me_1281.jpg\n",
            "\u001b[1m1/1\u001b[0m \u001b[32m━━━━━━━━━━━━━━━━━━━━\u001b[0m\u001b[37m\u001b[0m \u001b[1m0s\u001b[0m 45ms/step\n"
          ]
        },
        {
          "output_type": "stream",
          "name": "stderr",
          "text": [
            "\r  4%|▍         | 49/1141 [00:05<01:31, 11.96it/s]"
          ]
        },
        {
          "output_type": "stream",
          "name": "stdout",
          "text": [
            "Tr-gl_0416.jpg -> Class: glioma, Confidence: 1.00\n",
            "Moving Tr-gl_0416.jpg to BT100/Training/glioma/20250328_234027_Tr-gl_0416.jpg\n",
            "\u001b[1m1/1\u001b[0m \u001b[32m━━━━━━━━━━━━━━━━━━━━\u001b[0m\u001b[37m\u001b[0m \u001b[1m0s\u001b[0m 43ms/step\n",
            "Tr-no_0804.jpg -> Class: notumor, Confidence: 1.00\n",
            "Moving Tr-no_0804.jpg to BT100/Training/notumor/20250328_234027_Tr-no_0804.jpg\n",
            "\u001b[1m1/1\u001b[0m \u001b[32m━━━━━━━━━━━━━━━━━━━━\u001b[0m\u001b[37m\u001b[0m \u001b[1m0s\u001b[0m 49ms/step\n"
          ]
        },
        {
          "output_type": "stream",
          "name": "stderr",
          "text": [
            "\r  4%|▍         | 51/1141 [00:05<01:46, 10.19it/s]"
          ]
        },
        {
          "output_type": "stream",
          "name": "stdout",
          "text": [
            "Tr-me_1142.jpg -> Class: glioma, Confidence: 1.00\n",
            "Moving Tr-me_1142.jpg to BT100/Training/glioma/20250328_234027_Tr-me_1142.jpg\n",
            "\u001b[1m1/1\u001b[0m \u001b[32m━━━━━━━━━━━━━━━━━━━━\u001b[0m\u001b[37m\u001b[0m \u001b[1m0s\u001b[0m 48ms/step\n",
            "Tr-pi_0643.jpg -> Class: pituitary, Confidence: 1.00\n",
            "Moving Tr-pi_0643.jpg to BT100/Training/pituitary/20250328_234027_Tr-pi_0643.jpg\n",
            "\u001b[1m1/1\u001b[0m \u001b[32m━━━━━━━━━━━━━━━━━━━━\u001b[0m\u001b[37m\u001b[0m \u001b[1m0s\u001b[0m 47ms/step\n"
          ]
        },
        {
          "output_type": "stream",
          "name": "stderr",
          "text": [
            "\r  5%|▍         | 53/1141 [00:06<01:48, 10.02it/s]"
          ]
        },
        {
          "output_type": "stream",
          "name": "stdout",
          "text": [
            "Tr-no_1146.jpg -> Class: notumor, Confidence: 1.00\n",
            "Moving Tr-no_1146.jpg to BT100/Training/notumor/20250328_234027_Tr-no_1146.jpg\n",
            "\u001b[1m1/1\u001b[0m \u001b[32m━━━━━━━━━━━━━━━━━━━━\u001b[0m\u001b[37m\u001b[0m \u001b[1m0s\u001b[0m 45ms/step\n",
            "Tr-gl_1126.jpg -> Class: glioma, Confidence: 1.00\n",
            "Moving Tr-gl_1126.jpg to BT100/Training/glioma/20250328_234027_Tr-gl_1126.jpg\n",
            "\u001b[1m1/1\u001b[0m \u001b[32m━━━━━━━━━━━━━━━━━━━━\u001b[0m\u001b[37m\u001b[0m \u001b[1m0s\u001b[0m 54ms/step\n"
          ]
        },
        {
          "output_type": "stream",
          "name": "stderr",
          "text": [
            "\r  5%|▍         | 55/1141 [00:06<01:53,  9.59it/s]"
          ]
        },
        {
          "output_type": "stream",
          "name": "stdout",
          "text": [
            "Tr-me_0721.jpg -> Class: meningioma, Confidence: 1.00\n",
            "Moving Tr-me_0721.jpg to BT100/Training/meningioma/20250328_234028_Tr-me_0721.jpg\n",
            "\u001b[1m1/1\u001b[0m \u001b[32m━━━━━━━━━━━━━━━━━━━━\u001b[0m\u001b[37m\u001b[0m \u001b[1m0s\u001b[0m 47ms/step\n",
            "Tr-me_0197.jpg -> Class: meningioma, Confidence: 0.95\n",
            "Moved low-confidence image Tr-me_0197.jpg to BT100/low_confidence\n",
            "\u001b[1m1/1\u001b[0m \u001b[32m━━━━━━━━━━━━━━━━━━━━\u001b[0m\u001b[37m\u001b[0m \u001b[1m0s\u001b[0m 44ms/step\n"
          ]
        },
        {
          "output_type": "stream",
          "name": "stderr",
          "text": [
            "\r  5%|▍         | 57/1141 [00:06<01:53,  9.57it/s]"
          ]
        },
        {
          "output_type": "stream",
          "name": "stdout",
          "text": [
            "Tr-me_0174.jpg -> Class: pituitary, Confidence: 1.00\n",
            "Moving Tr-me_0174.jpg to BT100/Training/pituitary/20250328_234028_Tr-me_0174.jpg\n",
            "\u001b[1m1/1\u001b[0m \u001b[32m━━━━━━━━━━━━━━━━━━━━\u001b[0m\u001b[37m\u001b[0m \u001b[1m0s\u001b[0m 44ms/step\n"
          ]
        },
        {
          "output_type": "stream",
          "name": "stderr",
          "text": [
            "\r  5%|▌         | 58/1141 [00:06<01:58,  9.11it/s]"
          ]
        },
        {
          "output_type": "stream",
          "name": "stdout",
          "text": [
            "Tr-no_0134.jpg -> Class: notumor, Confidence: 1.00\n",
            "Moving Tr-no_0134.jpg to BT100/Training/notumor/20250328_234028_Tr-no_0134.jpg\n",
            "\u001b[1m1/1\u001b[0m \u001b[32m━━━━━━━━━━━━━━━━━━━━\u001b[0m\u001b[37m\u001b[0m \u001b[1m0s\u001b[0m 42ms/step\n"
          ]
        },
        {
          "output_type": "stream",
          "name": "stderr",
          "text": [
            "\r  5%|▌         | 59/1141 [00:06<02:03,  8.78it/s]"
          ]
        },
        {
          "output_type": "stream",
          "name": "stdout",
          "text": [
            "Tr-gl_0168.jpg -> Class: glioma, Confidence: 1.00\n",
            "Moving Tr-gl_0168.jpg to BT100/Training/glioma/20250328_234028_Tr-gl_0168.jpg\n",
            "\u001b[1m1/1\u001b[0m \u001b[32m━━━━━━━━━━━━━━━━━━━━\u001b[0m\u001b[37m\u001b[0m \u001b[1m0s\u001b[0m 42ms/step\n"
          ]
        },
        {
          "output_type": "stream",
          "name": "stderr",
          "text": [
            "\r  5%|▌         | 60/1141 [00:06<02:07,  8.49it/s]"
          ]
        },
        {
          "output_type": "stream",
          "name": "stdout",
          "text": [
            "Tr-me_0609.jpg -> Class: meningioma, Confidence: 1.00\n",
            "Moving Tr-me_0609.jpg to BT100/Training/meningioma/20250328_234028_Tr-me_0609.jpg\n",
            "\u001b[1m1/1\u001b[0m \u001b[32m━━━━━━━━━━━━━━━━━━━━\u001b[0m\u001b[37m\u001b[0m \u001b[1m0s\u001b[0m 48ms/step\n"
          ]
        },
        {
          "output_type": "stream",
          "name": "stderr",
          "text": [
            "\r  5%|▌         | 61/1141 [00:06<02:14,  8.02it/s]"
          ]
        },
        {
          "output_type": "stream",
          "name": "stdout",
          "text": [
            "Tr-no_0917.jpg -> Class: notumor, Confidence: 1.00\n",
            "Moving Tr-no_0917.jpg to BT100/Training/notumor/20250328_234028_Tr-no_0917.jpg\n",
            "\u001b[1m1/1\u001b[0m \u001b[32m━━━━━━━━━━━━━━━━━━━━\u001b[0m\u001b[37m\u001b[0m \u001b[1m0s\u001b[0m 51ms/step\n"
          ]
        },
        {
          "output_type": "stream",
          "name": "stderr",
          "text": [
            "\r  5%|▌         | 62/1141 [00:07<02:16,  7.93it/s]"
          ]
        },
        {
          "output_type": "stream",
          "name": "stdout",
          "text": [
            "Tr-me_0310.jpg -> Class: meningioma, Confidence: 1.00\n",
            "Moving Tr-me_0310.jpg to BT100/Training/meningioma/20250328_234029_Tr-me_0310.jpg\n",
            "\u001b[1m1/1\u001b[0m \u001b[32m━━━━━━━━━━━━━━━━━━━━\u001b[0m\u001b[37m\u001b[0m \u001b[1m0s\u001b[0m 51ms/step\n"
          ]
        },
        {
          "output_type": "stream",
          "name": "stderr",
          "text": [
            "\r  6%|▌         | 63/1141 [00:07<02:20,  7.68it/s]"
          ]
        },
        {
          "output_type": "stream",
          "name": "stdout",
          "text": [
            "Tr-pi_1383.jpg -> Class: pituitary, Confidence: 1.00\n",
            "Moving Tr-pi_1383.jpg to BT100/Training/pituitary/20250328_234029_Tr-pi_1383.jpg\n",
            "\u001b[1m1/1\u001b[0m \u001b[32m━━━━━━━━━━━━━━━━━━━━\u001b[0m\u001b[37m\u001b[0m \u001b[1m0s\u001b[0m 51ms/step\n"
          ]
        },
        {
          "output_type": "stream",
          "name": "stderr",
          "text": [
            "\r  6%|▌         | 64/1141 [00:07<02:23,  7.51it/s]"
          ]
        },
        {
          "output_type": "stream",
          "name": "stdout",
          "text": [
            "Tr-me_0187.jpg -> Class: meningioma, Confidence: 1.00\n",
            "Moving Tr-me_0187.jpg to BT100/Training/meningioma/20250328_234029_Tr-me_0187.jpg\n",
            "\u001b[1m1/1\u001b[0m \u001b[32m━━━━━━━━━━━━━━━━━━━━\u001b[0m\u001b[37m\u001b[0m \u001b[1m0s\u001b[0m 51ms/step\n"
          ]
        },
        {
          "output_type": "stream",
          "name": "stderr",
          "text": [
            "\r  6%|▌         | 65/1141 [00:07<02:24,  7.45it/s]"
          ]
        },
        {
          "output_type": "stream",
          "name": "stdout",
          "text": [
            "Tr-pi_0359.jpg -> Class: pituitary, Confidence: 1.00\n",
            "Moving Tr-pi_0359.jpg to BT100/Training/pituitary/20250328_234029_Tr-pi_0359.jpg\n",
            "\u001b[1m1/1\u001b[0m \u001b[32m━━━━━━━━━━━━━━━━━━━━\u001b[0m\u001b[37m\u001b[0m \u001b[1m0s\u001b[0m 28ms/step\n",
            "Tr-no_0771.jpg -> Class: notumor, Confidence: 1.00\n",
            "Moving Tr-no_0771.jpg to BT100/Training/notumor/20250328_234029_Tr-no_0771.jpg\n",
            "\u001b[1m1/1\u001b[0m \u001b[32m━━━━━━━━━━━━━━━━━━━━\u001b[0m\u001b[37m\u001b[0m \u001b[1m0s\u001b[0m 32ms/step\n"
          ]
        },
        {
          "output_type": "stream",
          "name": "stderr",
          "text": [
            "\r  6%|▌         | 67/1141 [00:07<01:51,  9.63it/s]"
          ]
        },
        {
          "output_type": "stream",
          "name": "stdout",
          "text": [
            "Tr-no_1354.jpg -> Class: notumor, Confidence: 1.00\n",
            "Moving Tr-no_1354.jpg to BT100/Training/notumor/20250328_234029_Tr-no_1354.jpg\n",
            "\u001b[1m1/1\u001b[0m \u001b[32m━━━━━━━━━━━━━━━━━━━━\u001b[0m\u001b[37m\u001b[0m \u001b[1m0s\u001b[0m 28ms/step\n",
            "Tr-no_0674.jpg -> Class: notumor, Confidence: 1.00\n",
            "Moving Tr-no_0674.jpg to BT100/Training/notumor/20250328_234029_Tr-no_0674.jpg\n",
            "\u001b[1m1/1\u001b[0m \u001b[32m━━━━━━━━━━━━━━━━━━━━\u001b[0m\u001b[37m\u001b[0m \u001b[1m0s\u001b[0m 30ms/step\n"
          ]
        },
        {
          "output_type": "stream",
          "name": "stderr",
          "text": [
            "\r  6%|▌         | 69/1141 [00:07<01:36, 11.12it/s]"
          ]
        },
        {
          "output_type": "stream",
          "name": "stdout",
          "text": [
            "Tr-no_1291.jpg -> Class: notumor, Confidence: 1.00\n",
            "Moving Tr-no_1291.jpg to BT100/Training/notumor/20250328_234029_Tr-no_1291.jpg\n",
            "\u001b[1m1/1\u001b[0m \u001b[32m━━━━━━━━━━━━━━━━━━━━\u001b[0m\u001b[37m\u001b[0m \u001b[1m0s\u001b[0m 30ms/step\n",
            "Tr-no_1480.jpg -> Class: notumor, Confidence: 1.00\n",
            "Moving Tr-no_1480.jpg to BT100/Training/notumor/20250328_234029_Tr-no_1480.jpg\n",
            "\u001b[1m1/1\u001b[0m \u001b[32m━━━━━━━━━━━━━━━━━━━━\u001b[0m\u001b[37m\u001b[0m \u001b[1m0s\u001b[0m 31ms/step\n"
          ]
        },
        {
          "output_type": "stream",
          "name": "stderr",
          "text": [
            "\r  6%|▌         | 71/1141 [00:07<01:35, 11.17it/s]"
          ]
        },
        {
          "output_type": "stream",
          "name": "stdout",
          "text": [
            "Tr-pi_0049.jpg -> Class: pituitary, Confidence: 1.00\n",
            "Moving Tr-pi_0049.jpg to BT100/Training/pituitary/20250328_234029_Tr-pi_0049.jpg\n",
            "\u001b[1m1/1\u001b[0m \u001b[32m━━━━━━━━━━━━━━━━━━━━\u001b[0m\u001b[37m\u001b[0m \u001b[1m0s\u001b[0m 31ms/step\n",
            "Tr-no_0192.jpg -> Class: notumor, Confidence: 1.00\n",
            "Moving Tr-no_0192.jpg to BT100/Training/notumor/20250328_234029_Tr-no_0192.jpg\n",
            "\u001b[1m1/1\u001b[0m \u001b[32m━━━━━━━━━━━━━━━━━━━━\u001b[0m\u001b[37m\u001b[0m \u001b[1m0s\u001b[0m 30ms/step\n"
          ]
        },
        {
          "output_type": "stream",
          "name": "stderr",
          "text": [
            "\r  6%|▋         | 73/1141 [00:08<01:29, 11.95it/s]"
          ]
        },
        {
          "output_type": "stream",
          "name": "stdout",
          "text": [
            "Tr-pi_0207.jpg -> Class: pituitary, Confidence: 1.00\n",
            "Moving Tr-pi_0207.jpg to BT100/Training/pituitary/20250328_234030_Tr-pi_0207.jpg\n",
            "\u001b[1m1/1\u001b[0m \u001b[32m━━━━━━━━━━━━━━━━━━━━\u001b[0m\u001b[37m\u001b[0m \u001b[1m0s\u001b[0m 33ms/step\n",
            "Tr-me_0928.jpg -> Class: meningioma, Confidence: 1.00\n",
            "Moving Tr-me_0928.jpg to BT100/Training/meningioma/20250328_234030_Tr-me_0928.jpg\n",
            "\u001b[1m1/1\u001b[0m \u001b[32m━━━━━━━━━━━━━━━━━━━━\u001b[0m\u001b[37m\u001b[0m \u001b[1m0s\u001b[0m 44ms/step\n"
          ]
        },
        {
          "output_type": "stream",
          "name": "stderr",
          "text": [
            "\r  7%|▋         | 75/1141 [00:08<01:32, 11.49it/s]"
          ]
        },
        {
          "output_type": "stream",
          "name": "stdout",
          "text": [
            "Tr-me_0572.jpg -> Class: meningioma, Confidence: 1.00\n",
            "Moving Tr-me_0572.jpg to BT100/Training/meningioma/20250328_234030_Tr-me_0572.jpg\n",
            "\u001b[1m1/1\u001b[0m \u001b[32m━━━━━━━━━━━━━━━━━━━━\u001b[0m\u001b[37m\u001b[0m \u001b[1m0s\u001b[0m 39ms/step\n",
            "Tr-no_0882.jpg -> Class: notumor, Confidence: 1.00\n",
            "Moving Tr-no_0882.jpg to BT100/Training/notumor/20250328_234030_Tr-no_0882.jpg\n",
            "\u001b[1m1/1\u001b[0m \u001b[32m━━━━━━━━━━━━━━━━━━━━\u001b[0m\u001b[37m\u001b[0m \u001b[1m0s\u001b[0m 30ms/step\n"
          ]
        },
        {
          "output_type": "stream",
          "name": "stderr",
          "text": [
            "\r  7%|▋         | 77/1141 [00:08<01:30, 11.79it/s]"
          ]
        },
        {
          "output_type": "stream",
          "name": "stdout",
          "text": [
            "Tr-pi_0435.jpg -> Class: pituitary, Confidence: 1.00\n",
            "Moving Tr-pi_0435.jpg to BT100/Training/pituitary/20250328_234030_Tr-pi_0435.jpg\n",
            "\u001b[1m1/1\u001b[0m \u001b[32m━━━━━━━━━━━━━━━━━━━━\u001b[0m\u001b[37m\u001b[0m \u001b[1m0s\u001b[0m 30ms/step\n",
            "Tr-pi_1307.jpg -> Class: pituitary, Confidence: 1.00\n",
            "Moving Tr-pi_1307.jpg to BT100/Training/pituitary/20250328_234030_Tr-pi_1307.jpg\n",
            "\u001b[1m1/1\u001b[0m \u001b[32m━━━━━━━━━━━━━━━━━━━━\u001b[0m\u001b[37m\u001b[0m \u001b[1m0s\u001b[0m 30ms/step\n"
          ]
        },
        {
          "output_type": "stream",
          "name": "stderr",
          "text": [
            "\r  7%|▋         | 79/1141 [00:08<01:24, 12.55it/s]"
          ]
        },
        {
          "output_type": "stream",
          "name": "stdout",
          "text": [
            "Tr-gl_0365.jpg -> Class: glioma, Confidence: 1.00\n",
            "Moving Tr-gl_0365.jpg to BT100/Training/glioma/20250328_234030_Tr-gl_0365.jpg\n",
            "\u001b[1m1/1\u001b[0m \u001b[32m━━━━━━━━━━━━━━━━━━━━\u001b[0m\u001b[37m\u001b[0m \u001b[1m0s\u001b[0m 29ms/step\n",
            "Tr-me_0368.jpg -> Class: meningioma, Confidence: 1.00\n",
            "Moving Tr-me_0368.jpg to BT100/Training/meningioma/20250328_234030_Tr-me_0368.jpg\n",
            "\u001b[1m1/1\u001b[0m \u001b[32m━━━━━━━━━━━━━━━━━━━━\u001b[0m\u001b[37m\u001b[0m \u001b[1m0s\u001b[0m 30ms/step\n",
            "Tr-no_0218.jpg -> Class: notumor, Confidence: 1.00\n",
            "Moving Tr-no_0218.jpg to BT100/Training/notumor/20250328_234030_Tr-no_0218.jpg\n"
          ]
        },
        {
          "output_type": "stream",
          "name": "stderr",
          "text": [
            "\r  7%|▋         | 81/1141 [00:08<01:20, 13.16it/s]"
          ]
        },
        {
          "output_type": "stream",
          "name": "stdout",
          "text": [
            "\u001b[1m1/1\u001b[0m \u001b[32m━━━━━━━━━━━━━━━━━━━━\u001b[0m\u001b[37m\u001b[0m \u001b[1m0s\u001b[0m 30ms/step\n",
            "Tr-pi_0013.jpg -> Class: pituitary, Confidence: 1.00\n",
            "Moving Tr-pi_0013.jpg to BT100/Training/pituitary/20250328_234030_Tr-pi_0013.jpg\n",
            "\u001b[1m1/1\u001b[0m \u001b[32m━━━━━━━━━━━━━━━━━━━━\u001b[0m\u001b[37m\u001b[0m \u001b[1m0s\u001b[0m 31ms/step\n"
          ]
        },
        {
          "output_type": "stream",
          "name": "stderr",
          "text": [
            "\r  7%|▋         | 83/1141 [00:08<01:18, 13.54it/s]"
          ]
        },
        {
          "output_type": "stream",
          "name": "stdout",
          "text": [
            "Tr-no_0600.jpg -> Class: notumor, Confidence: 1.00\n",
            "Moving Tr-no_0600.jpg to BT100/Training/notumor/20250328_234030_Tr-no_0600.jpg\n",
            "\u001b[1m1/1\u001b[0m \u001b[32m━━━━━━━━━━━━━━━━━━━━\u001b[0m\u001b[37m\u001b[0m \u001b[1m0s\u001b[0m 32ms/step\n",
            "Tr-pi_0201.jpg -> Class: pituitary, Confidence: 1.00\n",
            "Moving Tr-pi_0201.jpg to BT100/Training/pituitary/20250328_234030_Tr-pi_0201.jpg\n",
            "\u001b[1m1/1\u001b[0m \u001b[32m━━━━━━━━━━━━━━━━━━━━\u001b[0m\u001b[37m\u001b[0m \u001b[1m0s\u001b[0m 31ms/step\n"
          ]
        },
        {
          "output_type": "stream",
          "name": "stderr",
          "text": [
            "\r  7%|▋         | 85/1141 [00:09<01:17, 13.66it/s]"
          ]
        },
        {
          "output_type": "stream",
          "name": "stdout",
          "text": [
            "Tr-me_0395.jpg -> Class: meningioma, Confidence: 1.00\n",
            "Moving Tr-me_0395.jpg to BT100/Training/meningioma/20250328_234030_Tr-me_0395.jpg\n",
            "\u001b[1m1/1\u001b[0m \u001b[32m━━━━━━━━━━━━━━━━━━━━\u001b[0m\u001b[37m\u001b[0m \u001b[1m0s\u001b[0m 30ms/step\n",
            "Tr-no_1249.jpg -> Class: notumor, Confidence: 1.00\n",
            "Moving Tr-no_1249.jpg to BT100/Training/notumor/20250328_234030_Tr-no_1249.jpg\n",
            "\u001b[1m1/1\u001b[0m \u001b[32m━━━━━━━━━━━━━━━━━━━━\u001b[0m\u001b[37m\u001b[0m \u001b[1m0s\u001b[0m 29ms/step\n"
          ]
        },
        {
          "output_type": "stream",
          "name": "stderr",
          "text": [
            "\r  8%|▊         | 87/1141 [00:09<01:14, 14.11it/s]"
          ]
        },
        {
          "output_type": "stream",
          "name": "stdout",
          "text": [
            "Tr-no_0249.jpg -> Class: notumor, Confidence: 1.00\n",
            "Moving Tr-no_0249.jpg to BT100/Training/notumor/20250328_234031_Tr-no_0249.jpg\n",
            "\u001b[1m1/1\u001b[0m \u001b[32m━━━━━━━━━━━━━━━━━━━━\u001b[0m\u001b[37m\u001b[0m \u001b[1m0s\u001b[0m 29ms/step\n",
            "Tr-gl_1137.jpg -> Class: glioma, Confidence: 1.00\n",
            "Moving Tr-gl_1137.jpg to BT100/Training/glioma/20250328_234031_Tr-gl_1137.jpg\n",
            "\u001b[1m1/1\u001b[0m \u001b[32m━━━━━━━━━━━━━━━━━━━━\u001b[0m\u001b[37m\u001b[0m \u001b[1m0s\u001b[0m 36ms/step\n"
          ]
        },
        {
          "output_type": "stream",
          "name": "stderr",
          "text": [
            "\r  8%|▊         | 89/1141 [00:09<01:20, 13.10it/s]"
          ]
        },
        {
          "output_type": "stream",
          "name": "stdout",
          "text": [
            "Tr-pi_0699.jpg -> Class: pituitary, Confidence: 1.00\n",
            "Moving Tr-pi_0699.jpg to BT100/Training/pituitary/20250328_234031_Tr-pi_0699.jpg\n",
            "\u001b[1m1/1\u001b[0m \u001b[32m━━━━━━━━━━━━━━━━━━━━\u001b[0m\u001b[37m\u001b[0m \u001b[1m0s\u001b[0m 38ms/step\n",
            "Tr-gl_1055.jpg -> Class: glioma, Confidence: 1.00\n",
            "Moving Tr-gl_1055.jpg to BT100/Training/glioma/20250328_234031_Tr-gl_1055.jpg\n",
            "\u001b[1m1/1\u001b[0m \u001b[32m━━━━━━━━━━━━━━━━━━━━\u001b[0m\u001b[37m\u001b[0m \u001b[1m0s\u001b[0m 32ms/step\n"
          ]
        },
        {
          "output_type": "stream",
          "name": "stderr",
          "text": [
            "\r  8%|▊         | 91/1141 [00:09<01:26, 12.17it/s]"
          ]
        },
        {
          "output_type": "stream",
          "name": "stdout",
          "text": [
            "Tr-pi_0220.jpg -> Class: pituitary, Confidence: 1.00\n",
            "Moving Tr-pi_0220.jpg to BT100/Training/pituitary/20250328_234031_Tr-pi_0220.jpg\n",
            "\u001b[1m1/1\u001b[0m \u001b[32m━━━━━━━━━━━━━━━━━━━━\u001b[0m\u001b[37m\u001b[0m \u001b[1m0s\u001b[0m 29ms/step\n",
            "Tr-no_0250.jpg -> Class: notumor, Confidence: 1.00\n",
            "Moving Tr-no_0250.jpg to BT100/Training/notumor/20250328_234031_Tr-no_0250.jpg\n",
            "\u001b[1m1/1\u001b[0m \u001b[32m━━━━━━━━━━━━━━━━━━━━\u001b[0m\u001b[37m\u001b[0m \u001b[1m0s\u001b[0m 29ms/step\n"
          ]
        },
        {
          "output_type": "stream",
          "name": "stderr",
          "text": [
            "\r  8%|▊         | 93/1141 [00:09<01:21, 12.79it/s]"
          ]
        },
        {
          "output_type": "stream",
          "name": "stdout",
          "text": [
            "Tr-no_1252.jpg -> Class: notumor, Confidence: 1.00\n",
            "Moving Tr-no_1252.jpg to BT100/Training/notumor/20250328_234031_Tr-no_1252.jpg\n",
            "\u001b[1m1/1\u001b[0m \u001b[32m━━━━━━━━━━━━━━━━━━━━\u001b[0m\u001b[37m\u001b[0m \u001b[1m0s\u001b[0m 32ms/step\n",
            "Tr-pi_0481.jpg -> Class: pituitary, Confidence: 1.00\n",
            "Moving Tr-pi_0481.jpg to BT100/Training/pituitary/20250328_234031_Tr-pi_0481.jpg\n",
            "\u001b[1m1/1\u001b[0m \u001b[32m━━━━━━━━━━━━━━━━━━━━\u001b[0m\u001b[37m\u001b[0m \u001b[1m0s\u001b[0m 35ms/step\n"
          ]
        },
        {
          "output_type": "stream",
          "name": "stderr",
          "text": [
            "\r  8%|▊         | 95/1141 [00:09<01:19, 13.16it/s]"
          ]
        },
        {
          "output_type": "stream",
          "name": "stdout",
          "text": [
            "Tr-pi_1305.jpg -> Class: pituitary, Confidence: 1.00\n",
            "Moving Tr-pi_1305.jpg to BT100/Training/pituitary/20250328_234031_Tr-pi_1305.jpg\n",
            "\u001b[1m1/1\u001b[0m \u001b[32m━━━━━━━━━━━━━━━━━━━━\u001b[0m\u001b[37m\u001b[0m \u001b[1m0s\u001b[0m 32ms/step\n",
            "Tr-pi_0469.jpg -> Class: pituitary, Confidence: 1.00\n",
            "Moving Tr-pi_0469.jpg to BT100/Training/pituitary/20250328_234031_Tr-pi_0469.jpg\n",
            "\u001b[1m1/1\u001b[0m \u001b[32m━━━━━━━━━━━━━━━━━━━━\u001b[0m\u001b[37m\u001b[0m \u001b[1m0s\u001b[0m 33ms/step\n"
          ]
        },
        {
          "output_type": "stream",
          "name": "stderr",
          "text": [
            "\r  9%|▊         | 97/1141 [00:09<01:18, 13.32it/s]"
          ]
        },
        {
          "output_type": "stream",
          "name": "stdout",
          "text": [
            "Tr-gl_0449.jpg -> Class: glioma, Confidence: 1.00\n",
            "Moving Tr-gl_0449.jpg to BT100/Training/glioma/20250328_234031_Tr-gl_0449.jpg\n",
            "\u001b[1m1/1\u001b[0m \u001b[32m━━━━━━━━━━━━━━━━━━━━\u001b[0m\u001b[37m\u001b[0m \u001b[1m0s\u001b[0m 30ms/step\n",
            "Tr-pi_0064.jpg -> Class: pituitary, Confidence: 1.00\n",
            "Moving Tr-pi_0064.jpg to BT100/Training/pituitary/20250328_234031_Tr-pi_0064.jpg\n",
            "\u001b[1m1/1\u001b[0m \u001b[32m━━━━━━━━━━━━━━━━━━━━\u001b[0m\u001b[37m\u001b[0m \u001b[1m0s\u001b[0m 31ms/step\n"
          ]
        },
        {
          "output_type": "stream",
          "name": "stderr",
          "text": [
            "\r  9%|▊         | 99/1141 [00:10<01:16, 13.55it/s]"
          ]
        },
        {
          "output_type": "stream",
          "name": "stdout",
          "text": [
            "Tr-no_1431.jpg -> Class: notumor, Confidence: 1.00\n",
            "Moving Tr-no_1431.jpg to BT100/Training/notumor/20250328_234031_Tr-no_1431.jpg\n",
            "\u001b[1m1/1\u001b[0m \u001b[32m━━━━━━━━━━━━━━━━━━━━\u001b[0m\u001b[37m\u001b[0m \u001b[1m0s\u001b[0m 32ms/step\n",
            "Tr-gl_0954.jpg -> Class: glioma, Confidence: 1.00\n",
            "Moving Tr-gl_0954.jpg to BT100/Training/glioma/20250328_234032_Tr-gl_0954.jpg\n",
            "\u001b[1m1/1\u001b[0m \u001b[32m━━━━━━━━━━━━━━━━━━━━\u001b[0m\u001b[37m\u001b[0m \u001b[1m0s\u001b[0m 32ms/step\n"
          ]
        },
        {
          "output_type": "stream",
          "name": "stderr",
          "text": [
            "\r  9%|▉         | 101/1141 [00:10<01:15, 13.73it/s]"
          ]
        },
        {
          "output_type": "stream",
          "name": "stdout",
          "text": [
            "Tr-pi_0098.jpg -> Class: pituitary, Confidence: 1.00\n",
            "Moving Tr-pi_0098.jpg to BT100/Training/pituitary/20250328_234032_Tr-pi_0098.jpg\n",
            "\u001b[1m1/1\u001b[0m \u001b[32m━━━━━━━━━━━━━━━━━━━━\u001b[0m\u001b[37m\u001b[0m \u001b[1m0s\u001b[0m 38ms/step\n",
            "Tr-no_0941.jpg -> Class: notumor, Confidence: 1.00\n",
            "Moving Tr-no_0941.jpg to BT100/Training/notumor/20250328_234032_Tr-no_0941.jpg\n",
            "\u001b[1m1/1\u001b[0m \u001b[32m━━━━━━━━━━━━━━━━━━━━\u001b[0m\u001b[37m\u001b[0m \u001b[1m0s\u001b[0m 37ms/step\n"
          ]
        },
        {
          "output_type": "stream",
          "name": "stderr",
          "text": [
            "\r  9%|▉         | 103/1141 [00:10<01:25, 12.20it/s]"
          ]
        },
        {
          "output_type": "stream",
          "name": "stdout",
          "text": [
            "Tr-gl_1093.jpg -> Class: glioma, Confidence: 1.00\n",
            "Moving Tr-gl_1093.jpg to BT100/Training/glioma/20250328_234032_Tr-gl_1093.jpg\n",
            "\u001b[1m1/1\u001b[0m \u001b[32m━━━━━━━━━━━━━━━━━━━━\u001b[0m\u001b[37m\u001b[0m \u001b[1m0s\u001b[0m 34ms/step\n",
            "Tr-no_1181.jpg -> Class: notumor, Confidence: 1.00\n",
            "Moving Tr-no_1181.jpg to BT100/Training/notumor/20250328_234032_Tr-no_1181.jpg\n",
            "\u001b[1m1/1\u001b[0m \u001b[32m━━━━━━━━━━━━━━━━━━━━\u001b[0m\u001b[37m\u001b[0m \u001b[1m0s\u001b[0m 31ms/step\n"
          ]
        },
        {
          "output_type": "stream",
          "name": "stderr",
          "text": [
            "\r  9%|▉         | 105/1141 [00:10<01:27, 11.78it/s]"
          ]
        },
        {
          "output_type": "stream",
          "name": "stdout",
          "text": [
            "Tr-gl_0501.jpg -> Class: glioma, Confidence: 1.00\n",
            "Moving Tr-gl_0501.jpg to BT100/Training/glioma/20250328_234032_Tr-gl_0501.jpg\n",
            "\u001b[1m1/1\u001b[0m \u001b[32m━━━━━━━━━━━━━━━━━━━━\u001b[0m\u001b[37m\u001b[0m \u001b[1m0s\u001b[0m 29ms/step\n",
            "Tr-me_0039.jpg -> Class: meningioma, Confidence: 1.00\n",
            "Moving Tr-me_0039.jpg to BT100/Training/meningioma/20250328_234032_Tr-me_0039.jpg\n",
            "\u001b[1m1/1\u001b[0m \u001b[32m━━━━━━━━━━━━━━━━━━━━\u001b[0m\u001b[37m\u001b[0m \u001b[1m0s\u001b[0m 33ms/step\n"
          ]
        },
        {
          "output_type": "stream",
          "name": "stderr",
          "text": [
            "\r  9%|▉         | 107/1141 [00:10<01:23, 12.34it/s]"
          ]
        },
        {
          "output_type": "stream",
          "name": "stdout",
          "text": [
            "Tr-me_0912.jpg -> Class: meningioma, Confidence: 1.00\n",
            "Moving Tr-me_0912.jpg to BT100/Training/meningioma/20250328_234032_Tr-me_0912.jpg\n",
            "\u001b[1m1/1\u001b[0m \u001b[32m━━━━━━━━━━━━━━━━━━━━\u001b[0m\u001b[37m\u001b[0m \u001b[1m0s\u001b[0m 32ms/step\n",
            "Tr-pi_0674.jpg -> Class: pituitary, Confidence: 1.00\n",
            "Moving Tr-pi_0674.jpg to BT100/Training/pituitary/20250328_234032_Tr-pi_0674.jpg\n",
            "\u001b[1m1/1\u001b[0m \u001b[32m━━━━━━━━━━━━━━━━━━━━\u001b[0m\u001b[37m\u001b[0m \u001b[1m0s\u001b[0m 33ms/step\n"
          ]
        },
        {
          "output_type": "stream",
          "name": "stderr",
          "text": [
            "\r 10%|▉         | 109/1141 [00:10<01:28, 11.67it/s]"
          ]
        },
        {
          "output_type": "stream",
          "name": "stdout",
          "text": [
            "Tr-me_0947.jpg -> Class: meningioma, Confidence: 1.00\n",
            "Moving Tr-me_0947.jpg to BT100/Training/meningioma/20250328_234032_Tr-me_0947.jpg\n",
            "\u001b[1m1/1\u001b[0m \u001b[32m━━━━━━━━━━━━━━━━━━━━\u001b[0m\u001b[37m\u001b[0m \u001b[1m0s\u001b[0m 30ms/step\n",
            "Tr-pi_0941.jpg -> Class: pituitary, Confidence: 1.00\n",
            "Moving Tr-pi_0941.jpg to BT100/Training/pituitary/20250328_234032_Tr-pi_0941.jpg\n",
            "\u001b[1m1/1\u001b[0m \u001b[32m━━━━━━━━━━━━━━━━━━━━\u001b[0m\u001b[37m\u001b[0m \u001b[1m0s\u001b[0m 31ms/step\n"
          ]
        },
        {
          "output_type": "stream",
          "name": "stderr",
          "text": [
            "\r 10%|▉         | 111/1141 [00:11<01:24, 12.21it/s]"
          ]
        },
        {
          "output_type": "stream",
          "name": "stdout",
          "text": [
            "Tr-pi_1226.jpg -> Class: pituitary, Confidence: 1.00\n",
            "Moving Tr-pi_1226.jpg to BT100/Training/pituitary/20250328_234033_Tr-pi_1226.jpg\n",
            "\u001b[1m1/1\u001b[0m \u001b[32m━━━━━━━━━━━━━━━━━━━━\u001b[0m\u001b[37m\u001b[0m \u001b[1m0s\u001b[0m 32ms/step\n",
            "Tr-me_1086.jpg -> Class: meningioma, Confidence: 1.00\n",
            "Moving Tr-me_1086.jpg to BT100/Training/meningioma/20250328_234033_Tr-me_1086.jpg\n",
            "\u001b[1m1/1\u001b[0m \u001b[32m━━━━━━━━━━━━━━━━━━━━\u001b[0m\u001b[37m\u001b[0m \u001b[1m0s\u001b[0m 33ms/step\n"
          ]
        },
        {
          "output_type": "stream",
          "name": "stderr",
          "text": [
            "\r 10%|▉         | 113/1141 [00:11<01:21, 12.67it/s]"
          ]
        },
        {
          "output_type": "stream",
          "name": "stdout",
          "text": [
            "Tr-me_0237.jpg -> Class: meningioma, Confidence: 1.00\n",
            "Moving Tr-me_0237.jpg to BT100/Training/meningioma/20250328_234033_Tr-me_0237.jpg\n",
            "\u001b[1m1/1\u001b[0m \u001b[32m━━━━━━━━━━━━━━━━━━━━\u001b[0m\u001b[37m\u001b[0m \u001b[1m0s\u001b[0m 37ms/step\n",
            "Tr-gl_0598.jpg -> Class: glioma, Confidence: 1.00\n",
            "Moving Tr-gl_0598.jpg to BT100/Training/glioma/20250328_234033_Tr-gl_0598.jpg\n",
            "\u001b[1m1/1\u001b[0m \u001b[32m━━━━━━━━━━━━━━━━━━━━\u001b[0m\u001b[37m\u001b[0m \u001b[1m0s\u001b[0m 41ms/step\n"
          ]
        },
        {
          "output_type": "stream",
          "name": "stderr",
          "text": [
            "\r 10%|█         | 115/1141 [00:11<01:29, 11.48it/s]"
          ]
        },
        {
          "output_type": "stream",
          "name": "stdout",
          "text": [
            "Tr-gl_1136.jpg -> Class: notumor, Confidence: 0.70\n",
            "Moved low-confidence image Tr-gl_1136.jpg to BT100/low_confidence\n",
            "\u001b[1m1/1\u001b[0m \u001b[32m━━━━━━━━━━━━━━━━━━━━\u001b[0m\u001b[37m\u001b[0m \u001b[1m0s\u001b[0m 31ms/step\n",
            "Tr-no_0828.jpg -> Class: notumor, Confidence: 1.00\n",
            "Moving Tr-no_0828.jpg to BT100/Training/notumor/20250328_234033_Tr-no_0828.jpg\n",
            "\u001b[1m1/1\u001b[0m \u001b[32m━━━━━━━━━━━━━━━━━━━━\u001b[0m\u001b[37m\u001b[0m \u001b[1m0s\u001b[0m 29ms/step\n"
          ]
        },
        {
          "output_type": "stream",
          "name": "stderr",
          "text": [
            "\r 10%|█         | 117/1141 [00:11<01:23, 12.28it/s]"
          ]
        },
        {
          "output_type": "stream",
          "name": "stdout",
          "text": [
            "Tr-pi_0526.jpg -> Class: pituitary, Confidence: 1.00\n",
            "Moving Tr-pi_0526.jpg to BT100/Training/pituitary/20250328_234033_Tr-pi_0526.jpg\n",
            "\u001b[1m1/1\u001b[0m \u001b[32m━━━━━━━━━━━━━━━━━━━━\u001b[0m\u001b[37m\u001b[0m \u001b[1m0s\u001b[0m 30ms/step\n",
            "Tr-gl_0120.jpg -> Class: glioma, Confidence: 1.00\n",
            "Moving Tr-gl_0120.jpg to BT100/Training/glioma/20250328_234033_Tr-gl_0120.jpg\n",
            "\u001b[1m1/1\u001b[0m \u001b[32m━━━━━━━━━━━━━━━━━━━━\u001b[0m\u001b[37m\u001b[0m \u001b[1m0s\u001b[0m 29ms/step\n"
          ]
        },
        {
          "output_type": "stream",
          "name": "stderr",
          "text": [
            "\r 10%|█         | 119/1141 [00:11<01:18, 12.97it/s]"
          ]
        },
        {
          "output_type": "stream",
          "name": "stdout",
          "text": [
            "Tr-no_0809.jpg -> Class: notumor, Confidence: 1.00\n",
            "Moving Tr-no_0809.jpg to BT100/Training/notumor/20250328_234033_Tr-no_0809.jpg\n",
            "\u001b[1m1/1\u001b[0m \u001b[32m━━━━━━━━━━━━━━━━━━━━\u001b[0m\u001b[37m\u001b[0m \u001b[1m0s\u001b[0m 30ms/step\n",
            "Tr-gl_0496.jpg -> Class: glioma, Confidence: 1.00\n",
            "Moving Tr-gl_0496.jpg to BT100/Training/glioma/20250328_234033_Tr-gl_0496.jpg\n",
            "\u001b[1m1/1\u001b[0m \u001b[32m━━━━━━━━━━━━━━━━━━━━\u001b[0m\u001b[37m\u001b[0m \u001b[1m0s\u001b[0m 29ms/step\n"
          ]
        },
        {
          "output_type": "stream",
          "name": "stderr",
          "text": [
            "\r 11%|█         | 121/1141 [00:11<01:15, 13.45it/s]"
          ]
        },
        {
          "output_type": "stream",
          "name": "stdout",
          "text": [
            "Tr-no_0366.jpg -> Class: notumor, Confidence: 1.00\n",
            "Moving Tr-no_0366.jpg to BT100/Training/notumor/20250328_234033_Tr-no_0366.jpg\n",
            "\u001b[1m1/1\u001b[0m \u001b[32m━━━━━━━━━━━━━━━━━━━━\u001b[0m\u001b[37m\u001b[0m \u001b[1m0s\u001b[0m 30ms/step\n",
            "Tr-me_0667.jpg -> Class: meningioma, Confidence: 0.99\n",
            "Moving Tr-me_0667.jpg to BT100/Training/meningioma/20250328_234033_Tr-me_0667.jpg\n",
            "\u001b[1m1/1\u001b[0m \u001b[32m━━━━━━━━━━━━━━━━━━━━\u001b[0m\u001b[37m\u001b[0m \u001b[1m0s\u001b[0m 30ms/step\n"
          ]
        },
        {
          "output_type": "stream",
          "name": "stderr",
          "text": [
            "\r 11%|█         | 123/1141 [00:12<01:13, 13.80it/s]"
          ]
        },
        {
          "output_type": "stream",
          "name": "stdout",
          "text": [
            "Tr-pi_0388.jpg -> Class: pituitary, Confidence: 1.00\n",
            "Moving Tr-pi_0388.jpg to BT100/Training/pituitary/20250328_234033_Tr-pi_0388.jpg\n",
            "\u001b[1m1/1\u001b[0m \u001b[32m━━━━━━━━━━━━━━━━━━━━\u001b[0m\u001b[37m\u001b[0m \u001b[1m0s\u001b[0m 32ms/step\n",
            "Tr-no_0967.jpg -> Class: notumor, Confidence: 1.00\n",
            "Moving Tr-no_0967.jpg to BT100/Training/notumor/20250328_234033_Tr-no_0967.jpg\n",
            "\u001b[1m1/1\u001b[0m \u001b[32m━━━━━━━━━━━━━━━━━━━━\u001b[0m\u001b[37m\u001b[0m \u001b[1m0s\u001b[0m 31ms/step\n"
          ]
        },
        {
          "output_type": "stream",
          "name": "stderr",
          "text": [
            "\r 11%|█         | 125/1141 [00:12<01:12, 14.02it/s]"
          ]
        },
        {
          "output_type": "stream",
          "name": "stdout",
          "text": [
            "Tr-no_1196.jpg -> Class: notumor, Confidence: 1.00\n",
            "Moving Tr-no_1196.jpg to BT100/Training/notumor/20250328_234034_Tr-no_1196.jpg\n",
            "\u001b[1m1/1\u001b[0m \u001b[32m━━━━━━━━━━━━━━━━━━━━\u001b[0m\u001b[37m\u001b[0m \u001b[1m0s\u001b[0m 31ms/step\n",
            "Tr-no_1566.jpg -> Class: notumor, Confidence: 1.00\n",
            "Moving Tr-no_1566.jpg to BT100/Training/notumor/20250328_234034_Tr-no_1566.jpg\n",
            "\u001b[1m1/1\u001b[0m \u001b[32m━━━━━━━━━━━━━━━━━━━━\u001b[0m\u001b[37m\u001b[0m \u001b[1m0s\u001b[0m 32ms/step\n"
          ]
        },
        {
          "output_type": "stream",
          "name": "stderr",
          "text": [
            "\r 11%|█         | 127/1141 [00:12<01:12, 13.99it/s]"
          ]
        },
        {
          "output_type": "stream",
          "name": "stdout",
          "text": [
            "Tr-pi_0711.jpg -> Class: pituitary, Confidence: 1.00\n",
            "Moving Tr-pi_0711.jpg to BT100/Training/pituitary/20250328_234034_Tr-pi_0711.jpg\n",
            "\u001b[1m1/1\u001b[0m \u001b[32m━━━━━━━━━━━━━━━━━━━━\u001b[0m\u001b[37m\u001b[0m \u001b[1m0s\u001b[0m 37ms/step\n",
            "Tr-me_0949.jpg -> Class: meningioma, Confidence: 1.00\n",
            "Moving Tr-me_0949.jpg to BT100/Training/meningioma/20250328_234034_Tr-me_0949.jpg\n",
            "\u001b[1m1/1\u001b[0m \u001b[32m━━━━━━━━━━━━━━━━━━━━\u001b[0m\u001b[37m\u001b[0m \u001b[1m0s\u001b[0m 29ms/step\n"
          ]
        },
        {
          "output_type": "stream",
          "name": "stderr",
          "text": [
            "\r 11%|█▏        | 129/1141 [00:12<01:18, 12.89it/s]"
          ]
        },
        {
          "output_type": "stream",
          "name": "stdout",
          "text": [
            "Tr-me_0634.jpg -> Class: meningioma, Confidence: 1.00\n",
            "Moving Tr-me_0634.jpg to BT100/Training/meningioma/20250328_234034_Tr-me_0634.jpg\n",
            "\u001b[1m1/1\u001b[0m \u001b[32m━━━━━━━━━━━━━━━━━━━━\u001b[0m\u001b[37m\u001b[0m \u001b[1m0s\u001b[0m 32ms/step\n",
            "Tr-pi_0480.jpg -> Class: pituitary, Confidence: 1.00\n",
            "Moving Tr-pi_0480.jpg to BT100/Training/pituitary/20250328_234034_Tr-pi_0480.jpg\n",
            "\u001b[1m1/1\u001b[0m \u001b[32m━━━━━━━━━━━━━━━━━━━━\u001b[0m\u001b[37m\u001b[0m \u001b[1m0s\u001b[0m 36ms/step\n"
          ]
        },
        {
          "output_type": "stream",
          "name": "stderr",
          "text": [
            "\r 11%|█▏        | 131/1141 [00:12<01:19, 12.78it/s]"
          ]
        },
        {
          "output_type": "stream",
          "name": "stdout",
          "text": [
            "Tr-gl_1255.jpg -> Class: glioma, Confidence: 1.00\n",
            "Moving Tr-gl_1255.jpg to BT100/Training/glioma/20250328_234034_Tr-gl_1255.jpg\n",
            "\u001b[1m1/1\u001b[0m \u001b[32m━━━━━━━━━━━━━━━━━━━━\u001b[0m\u001b[37m\u001b[0m \u001b[1m0s\u001b[0m 29ms/step\n",
            "Tr-pi_0252.jpg -> Class: pituitary, Confidence: 1.00\n",
            "Moving Tr-pi_0252.jpg to BT100/Training/pituitary/20250328_234034_Tr-pi_0252.jpg\n",
            "\u001b[1m1/1\u001b[0m \u001b[32m━━━━━━━━━━━━━━━━━━━━\u001b[0m\u001b[37m\u001b[0m \u001b[1m0s\u001b[0m 30ms/step\n"
          ]
        },
        {
          "output_type": "stream",
          "name": "stderr",
          "text": [
            "\r 12%|█▏        | 133/1141 [00:12<01:16, 13.13it/s]"
          ]
        },
        {
          "output_type": "stream",
          "name": "stdout",
          "text": [
            "Tr-pi_0878.jpg -> Class: pituitary, Confidence: 1.00\n",
            "Moving Tr-pi_0878.jpg to BT100/Training/pituitary/20250328_234034_Tr-pi_0878.jpg\n",
            "\u001b[1m1/1\u001b[0m \u001b[32m━━━━━━━━━━━━━━━━━━━━\u001b[0m\u001b[37m\u001b[0m \u001b[1m0s\u001b[0m 31ms/step\n",
            "Tr-no_1131.jpg -> Class: notumor, Confidence: 1.00\n",
            "Moving Tr-no_1131.jpg to BT100/Training/notumor/20250328_234034_Tr-no_1131.jpg\n",
            "\u001b[1m1/1\u001b[0m \u001b[32m━━━━━━━━━━━━━━━━━━━━\u001b[0m\u001b[37m\u001b[0m \u001b[1m0s\u001b[0m 31ms/step\n"
          ]
        },
        {
          "output_type": "stream",
          "name": "stderr",
          "text": [
            "\r 12%|█▏        | 135/1141 [00:12<01:14, 13.59it/s]"
          ]
        },
        {
          "output_type": "stream",
          "name": "stdout",
          "text": [
            "Tr-gl_0481.jpg -> Class: glioma, Confidence: 1.00\n",
            "Moving Tr-gl_0481.jpg to BT100/Training/glioma/20250328_234034_Tr-gl_0481.jpg\n",
            "\u001b[1m1/1\u001b[0m \u001b[32m━━━━━━━━━━━━━━━━━━━━\u001b[0m\u001b[37m\u001b[0m \u001b[1m0s\u001b[0m 33ms/step\n",
            "Tr-pi_0629.jpg -> Class: pituitary, Confidence: 0.99\n",
            "Moving Tr-pi_0629.jpg to BT100/Training/pituitary/20250328_234034_Tr-pi_0629.jpg\n",
            "\u001b[1m1/1\u001b[0m \u001b[32m━━━━━━━━━━━━━━━━━━━━\u001b[0m\u001b[37m\u001b[0m \u001b[1m0s\u001b[0m 35ms/step\n"
          ]
        },
        {
          "output_type": "stream",
          "name": "stderr",
          "text": [
            "\r 12%|█▏        | 137/1141 [00:13<01:25, 11.68it/s]"
          ]
        },
        {
          "output_type": "stream",
          "name": "stdout",
          "text": [
            "Tr-no_1093.jpg -> Class: notumor, Confidence: 1.00\n",
            "Moving Tr-no_1093.jpg to BT100/Training/notumor/20250328_234035_Tr-no_1093.jpg\n",
            "\u001b[1m1/1\u001b[0m \u001b[32m━━━━━━━━━━━━━━━━━━━━\u001b[0m\u001b[37m\u001b[0m \u001b[1m0s\u001b[0m 32ms/step\n",
            "Tr-pi_1054.jpg -> Class: pituitary, Confidence: 1.00\n",
            "Moving Tr-pi_1054.jpg to BT100/Training/pituitary/20250328_234035_Tr-pi_1054.jpg\n",
            "\u001b[1m1/1\u001b[0m \u001b[32m━━━━━━━━━━━━━━━━━━━━\u001b[0m\u001b[37m\u001b[0m \u001b[1m0s\u001b[0m 31ms/step\n"
          ]
        },
        {
          "output_type": "stream",
          "name": "stderr",
          "text": [
            "\r 12%|█▏        | 139/1141 [00:13<01:21, 12.33it/s]"
          ]
        },
        {
          "output_type": "stream",
          "name": "stdout",
          "text": [
            "Tr-pi_0843.jpg -> Class: pituitary, Confidence: 1.00\n",
            "Moving Tr-pi_0843.jpg to BT100/Training/pituitary/20250328_234035_Tr-pi_0843.jpg\n",
            "\u001b[1m1/1\u001b[0m \u001b[32m━━━━━━━━━━━━━━━━━━━━\u001b[0m\u001b[37m\u001b[0m \u001b[1m0s\u001b[0m 30ms/step\n",
            "Tr-no_1546.jpg -> Class: notumor, Confidence: 1.00\n",
            "Moving Tr-no_1546.jpg to BT100/Training/notumor/20250328_234035_Tr-no_1546.jpg\n",
            "\u001b[1m1/1\u001b[0m \u001b[32m━━━━━━━━━━━━━━━━━━━━\u001b[0m\u001b[37m\u001b[0m \u001b[1m0s\u001b[0m 50ms/step\n"
          ]
        },
        {
          "output_type": "stream",
          "name": "stderr",
          "text": [
            "\r 12%|█▏        | 141/1141 [00:13<01:25, 11.66it/s]"
          ]
        },
        {
          "output_type": "stream",
          "name": "stdout",
          "text": [
            "Tr-no_0527.jpg -> Class: notumor, Confidence: 1.00\n",
            "Moving Tr-no_0527.jpg to BT100/Training/notumor/20250328_234035_Tr-no_0527.jpg\n",
            "\u001b[1m1/1\u001b[0m \u001b[32m━━━━━━━━━━━━━━━━━━━━\u001b[0m\u001b[37m\u001b[0m \u001b[1m0s\u001b[0m 29ms/step\n",
            "Tr-me_0486.jpg -> Class: meningioma, Confidence: 1.00\n",
            "Moving Tr-me_0486.jpg to BT100/Training/meningioma/20250328_234035_Tr-me_0486.jpg\n",
            "\u001b[1m1/1\u001b[0m \u001b[32m━━━━━━━━━━━━━━━━━━━━\u001b[0m\u001b[37m\u001b[0m \u001b[1m0s\u001b[0m 30ms/step\n"
          ]
        },
        {
          "output_type": "stream",
          "name": "stderr",
          "text": [
            "\r 13%|█▎        | 143/1141 [00:13<01:21, 12.28it/s]"
          ]
        },
        {
          "output_type": "stream",
          "name": "stdout",
          "text": [
            "Tr-pi_0992.jpg -> Class: pituitary, Confidence: 1.00\n",
            "Moving Tr-pi_0992.jpg to BT100/Training/pituitary/20250328_234035_Tr-pi_0992.jpg\n",
            "\u001b[1m1/1\u001b[0m \u001b[32m━━━━━━━━━━━━━━━━━━━━\u001b[0m\u001b[37m\u001b[0m \u001b[1m0s\u001b[0m 29ms/step\n",
            "Tr-pi_0355.jpg -> Class: pituitary, Confidence: 1.00\n",
            "Moving Tr-pi_0355.jpg to BT100/Training/pituitary/20250328_234035_Tr-pi_0355.jpg\n",
            "\u001b[1m1/1\u001b[0m \u001b[32m━━━━━━━━━━━━━━━━━━━━\u001b[0m\u001b[37m\u001b[0m \u001b[1m0s\u001b[0m 34ms/step\n"
          ]
        },
        {
          "output_type": "stream",
          "name": "stderr",
          "text": [
            "\r 13%|█▎        | 145/1141 [00:13<01:23, 11.87it/s]"
          ]
        },
        {
          "output_type": "stream",
          "name": "stdout",
          "text": [
            "Tr-no_1419.jpg -> Class: notumor, Confidence: 1.00\n",
            "Moving Tr-no_1419.jpg to BT100/Training/notumor/20250328_234035_Tr-no_1419.jpg\n",
            "\u001b[1m1/1\u001b[0m \u001b[32m━━━━━━━━━━━━━━━━━━━━\u001b[0m\u001b[37m\u001b[0m \u001b[1m0s\u001b[0m 31ms/step\n",
            "Tr-me_0837.jpg -> Class: meningioma, Confidence: 1.00\n",
            "Moving Tr-me_0837.jpg to BT100/Training/meningioma/20250328_234035_Tr-me_0837.jpg\n",
            "\u001b[1m1/1\u001b[0m \u001b[32m━━━━━━━━━━━━━━━━━━━━\u001b[0m\u001b[37m\u001b[0m \u001b[1m0s\u001b[0m 33ms/step\n"
          ]
        },
        {
          "output_type": "stream",
          "name": "stderr",
          "text": [
            "\r 13%|█▎        | 147/1141 [00:13<01:20, 12.40it/s]"
          ]
        },
        {
          "output_type": "stream",
          "name": "stdout",
          "text": [
            "Tr-me_0758.jpg -> Class: meningioma, Confidence: 0.99\n",
            "Moving Tr-me_0758.jpg to BT100/Training/meningioma/20250328_234035_Tr-me_0758.jpg\n",
            "\u001b[1m1/1\u001b[0m \u001b[32m━━━━━━━━━━━━━━━━━━━━\u001b[0m\u001b[37m\u001b[0m \u001b[1m0s\u001b[0m 30ms/step\n",
            "Tr-gl_0696.jpg -> Class: glioma, Confidence: 1.00\n",
            "Moving Tr-gl_0696.jpg to BT100/Training/glioma/20250328_234035_Tr-gl_0696.jpg\n",
            "\u001b[1m1/1\u001b[0m \u001b[32m━━━━━━━━━━━━━━━━━━━━\u001b[0m\u001b[37m\u001b[0m \u001b[1m0s\u001b[0m 32ms/step\n"
          ]
        },
        {
          "output_type": "stream",
          "name": "stderr",
          "text": [
            "\r 13%|█▎        | 149/1141 [00:14<01:16, 13.04it/s]"
          ]
        },
        {
          "output_type": "stream",
          "name": "stdout",
          "text": [
            "Tr-pi_0812.jpg -> Class: pituitary, Confidence: 1.00\n",
            "Moving Tr-pi_0812.jpg to BT100/Training/pituitary/20250328_234035_Tr-pi_0812.jpg\n",
            "\u001b[1m1/1\u001b[0m \u001b[32m━━━━━━━━━━━━━━━━━━━━\u001b[0m\u001b[37m\u001b[0m \u001b[1m0s\u001b[0m 35ms/step\n",
            "Tr-me_0022.jpg -> Class: meningioma, Confidence: 1.00\n",
            "Moving Tr-me_0022.jpg to BT100/Training/meningioma/20250328_234036_Tr-me_0022.jpg\n",
            "\u001b[1m1/1\u001b[0m \u001b[32m━━━━━━━━━━━━━━━━━━━━\u001b[0m\u001b[37m\u001b[0m \u001b[1m0s\u001b[0m 33ms/step\n"
          ]
        },
        {
          "output_type": "stream",
          "name": "stderr",
          "text": [
            "\r 13%|█▎        | 151/1141 [00:14<01:14, 13.30it/s]"
          ]
        },
        {
          "output_type": "stream",
          "name": "stdout",
          "text": [
            "Tr-pi_0879.jpg -> Class: pituitary, Confidence: 1.00\n",
            "Moving Tr-pi_0879.jpg to BT100/Training/pituitary/20250328_234036_Tr-pi_0879.jpg\n",
            "\u001b[1m1/1\u001b[0m \u001b[32m━━━━━━━━━━━━━━━━━━━━\u001b[0m\u001b[37m\u001b[0m \u001b[1m0s\u001b[0m 34ms/step\n",
            "Tr-me_0874.jpg -> Class: meningioma, Confidence: 1.00\n",
            "Moving Tr-me_0874.jpg to BT100/Training/meningioma/20250328_234036_Tr-me_0874.jpg\n",
            "\u001b[1m1/1\u001b[0m \u001b[32m━━━━━━━━━━━━━━━━━━━━\u001b[0m\u001b[37m\u001b[0m \u001b[1m0s\u001b[0m 36ms/step\n"
          ]
        },
        {
          "output_type": "stream",
          "name": "stderr",
          "text": [
            "\r 13%|█▎        | 153/1141 [00:14<01:13, 13.47it/s]"
          ]
        },
        {
          "output_type": "stream",
          "name": "stdout",
          "text": [
            "Tr-no_0790.jpg -> Class: notumor, Confidence: 1.00\n",
            "Moving Tr-no_0790.jpg to BT100/Training/notumor/20250328_234036_Tr-no_0790.jpg\n",
            "\u001b[1m1/1\u001b[0m \u001b[32m━━━━━━━━━━━━━━━━━━━━\u001b[0m\u001b[37m\u001b[0m \u001b[1m0s\u001b[0m 41ms/step\n",
            "Tr-me_0083.jpg -> Class: meningioma, Confidence: 1.00\n",
            "Moving Tr-me_0083.jpg to BT100/Training/meningioma/20250328_234036_Tr-me_0083.jpg\n",
            "\u001b[1m1/1\u001b[0m \u001b[32m━━━━━━━━━━━━━━━━━━━━\u001b[0m\u001b[37m\u001b[0m \u001b[1m0s\u001b[0m 29ms/step\n"
          ]
        },
        {
          "output_type": "stream",
          "name": "stderr",
          "text": [
            "\r 14%|█▎        | 155/1141 [00:14<01:19, 12.36it/s]"
          ]
        },
        {
          "output_type": "stream",
          "name": "stdout",
          "text": [
            "Tr-pi_1222.jpg -> Class: pituitary, Confidence: 0.78\n",
            "Moved low-confidence image Tr-pi_1222.jpg to BT100/low_confidence\n",
            "\u001b[1m1/1\u001b[0m \u001b[32m━━━━━━━━━━━━━━━━━━━━\u001b[0m\u001b[37m\u001b[0m \u001b[1m0s\u001b[0m 31ms/step\n",
            "Tr-me_0596.jpg -> Class: meningioma, Confidence: 0.95\n",
            "Moved low-confidence image Tr-me_0596.jpg to BT100/low_confidence\n",
            "\u001b[1m1/1\u001b[0m \u001b[32m━━━━━━━━━━━━━━━━━━━━\u001b[0m\u001b[37m\u001b[0m \u001b[1m0s\u001b[0m 32ms/step\n"
          ]
        },
        {
          "output_type": "stream",
          "name": "stderr",
          "text": [
            "\r 14%|█▍        | 157/1141 [00:14<01:23, 11.75it/s]"
          ]
        },
        {
          "output_type": "stream",
          "name": "stdout",
          "text": [
            "Tr-me_0149.jpg -> Class: meningioma, Confidence: 1.00\n",
            "Moving Tr-me_0149.jpg to BT100/Training/meningioma/20250328_234036_Tr-me_0149.jpg\n",
            "\u001b[1m1/1\u001b[0m \u001b[32m━━━━━━━━━━━━━━━━━━━━\u001b[0m\u001b[37m\u001b[0m \u001b[1m0s\u001b[0m 31ms/step\n",
            "Tr-gl_0208.jpg -> Class: glioma, Confidence: 1.00\n",
            "Moving Tr-gl_0208.jpg to BT100/Training/glioma/20250328_234036_Tr-gl_0208.jpg\n",
            "\u001b[1m1/1\u001b[0m \u001b[32m━━━━━━━━━━━━━━━━━━━━\u001b[0m\u001b[37m\u001b[0m \u001b[1m0s\u001b[0m 38ms/step\n"
          ]
        },
        {
          "output_type": "stream",
          "name": "stderr",
          "text": [
            "\r 14%|█▍        | 159/1141 [00:14<01:20, 12.16it/s]"
          ]
        },
        {
          "output_type": "stream",
          "name": "stdout",
          "text": [
            "Tr-pi_0110.jpg -> Class: pituitary, Confidence: 1.00\n",
            "Moving Tr-pi_0110.jpg to BT100/Training/pituitary/20250328_234036_Tr-pi_0110.jpg\n",
            "\u001b[1m1/1\u001b[0m \u001b[32m━━━━━━━━━━━━━━━━━━━━\u001b[0m\u001b[37m\u001b[0m \u001b[1m0s\u001b[0m 35ms/step\n",
            "Tr-pi_0090.jpg -> Class: pituitary, Confidence: 1.00\n",
            "Moving Tr-pi_0090.jpg to BT100/Training/pituitary/20250328_234036_Tr-pi_0090.jpg\n",
            "\u001b[1m1/1\u001b[0m \u001b[32m━━━━━━━━━━━━━━━━━━━━\u001b[0m\u001b[37m\u001b[0m \u001b[1m0s\u001b[0m 30ms/step\n"
          ]
        },
        {
          "output_type": "stream",
          "name": "stderr",
          "text": [
            "\r 14%|█▍        | 161/1141 [00:15<01:24, 11.63it/s]"
          ]
        },
        {
          "output_type": "stream",
          "name": "stdout",
          "text": [
            "Tr-pi_1014.jpg -> Class: pituitary, Confidence: 1.00\n",
            "Moving Tr-pi_1014.jpg to BT100/Training/pituitary/20250328_234036_Tr-pi_1014.jpg\n",
            "\u001b[1m1/1\u001b[0m \u001b[32m━━━━━━━━━━━━━━━━━━━━\u001b[0m\u001b[37m\u001b[0m \u001b[1m0s\u001b[0m 32ms/step\n",
            "Tr-gl_0324.jpg -> Class: glioma, Confidence: 1.00\n",
            "Moving Tr-gl_0324.jpg to BT100/Training/glioma/20250328_234037_Tr-gl_0324.jpg\n",
            "\u001b[1m1/1\u001b[0m \u001b[32m━━━━━━━━━━━━━━━━━━━━\u001b[0m\u001b[37m\u001b[0m \u001b[1m0s\u001b[0m 35ms/step\n"
          ]
        },
        {
          "output_type": "stream",
          "name": "stderr",
          "text": [
            "\r 14%|█▍        | 163/1141 [00:15<01:32, 10.59it/s]"
          ]
        },
        {
          "output_type": "stream",
          "name": "stdout",
          "text": [
            "Tr-pi_0979.jpg -> Class: pituitary, Confidence: 1.00\n",
            "Moving Tr-pi_0979.jpg to BT100/Training/pituitary/20250328_234037_Tr-pi_0979.jpg\n",
            "\u001b[1m1/1\u001b[0m \u001b[32m━━━━━━━━━━━━━━━━━━━━\u001b[0m\u001b[37m\u001b[0m \u001b[1m0s\u001b[0m 38ms/step\n",
            "Tr-no_0265.jpg -> Class: notumor, Confidence: 1.00\n",
            "Moving Tr-no_0265.jpg to BT100/Training/notumor/20250328_234037_Tr-no_0265.jpg\n",
            "\u001b[1m1/1\u001b[0m \u001b[32m━━━━━━━━━━━━━━━━━━━━\u001b[0m\u001b[37m\u001b[0m \u001b[1m0s\u001b[0m 34ms/step\n"
          ]
        },
        {
          "output_type": "stream",
          "name": "stderr",
          "text": [
            "\r 14%|█▍        | 165/1141 [00:15<01:33, 10.43it/s]"
          ]
        },
        {
          "output_type": "stream",
          "name": "stdout",
          "text": [
            "Tr-pi_1403.jpg -> Class: pituitary, Confidence: 1.00\n",
            "Moving Tr-pi_1403.jpg to BT100/Training/pituitary/20250328_234037_Tr-pi_1403.jpg\n",
            "\u001b[1m1/1\u001b[0m \u001b[32m━━━━━━━━━━━━━━━━━━━━\u001b[0m\u001b[37m\u001b[0m \u001b[1m0s\u001b[0m 29ms/step\n",
            "Tr-me_1333.jpg -> Class: meningioma, Confidence: 1.00\n",
            "Moving Tr-me_1333.jpg to BT100/Training/meningioma/20250328_234037_Tr-me_1333.jpg\n",
            "\u001b[1m1/1\u001b[0m \u001b[32m━━━━━━━━━━━━━━━━━━━━\u001b[0m\u001b[37m\u001b[0m \u001b[1m0s\u001b[0m 29ms/step\n"
          ]
        },
        {
          "output_type": "stream",
          "name": "stderr",
          "text": [
            "\r 15%|█▍        | 167/1141 [00:15<01:25, 11.39it/s]"
          ]
        },
        {
          "output_type": "stream",
          "name": "stdout",
          "text": [
            "Tr-no_0389.jpg -> Class: notumor, Confidence: 1.00\n",
            "Moving Tr-no_0389.jpg to BT100/Training/notumor/20250328_234037_Tr-no_0389.jpg\n",
            "\u001b[1m1/1\u001b[0m \u001b[32m━━━━━━━━━━━━━━━━━━━━\u001b[0m\u001b[37m\u001b[0m \u001b[1m0s\u001b[0m 33ms/step\n",
            "Tr-me_0732.jpg -> Class: meningioma, Confidence: 1.00\n",
            "Moving Tr-me_0732.jpg to BT100/Training/meningioma/20250328_234037_Tr-me_0732.jpg\n",
            "\u001b[1m1/1\u001b[0m \u001b[32m━━━━━━━━━━━━━━━━━━━━\u001b[0m\u001b[37m\u001b[0m \u001b[1m0s\u001b[0m 37ms/step\n"
          ]
        },
        {
          "output_type": "stream",
          "name": "stderr",
          "text": [
            "\r 15%|█▍        | 169/1141 [00:15<01:27, 11.09it/s]"
          ]
        },
        {
          "output_type": "stream",
          "name": "stdout",
          "text": [
            "Tr-no_1274.jpg -> Class: notumor, Confidence: 1.00\n",
            "Moving Tr-no_1274.jpg to BT100/Training/notumor/20250328_234037_Tr-no_1274.jpg\n",
            "\u001b[1m1/1\u001b[0m \u001b[32m━━━━━━━━━━━━━━━━━━━━\u001b[0m\u001b[37m\u001b[0m \u001b[1m0s\u001b[0m 33ms/step\n",
            "Tr-me_0348.jpg -> Class: meningioma, Confidence: 1.00\n",
            "Moving Tr-me_0348.jpg to BT100/Training/meningioma/20250328_234037_Tr-me_0348.jpg\n",
            "\u001b[1m1/1\u001b[0m \u001b[32m━━━━━━━━━━━━━━━━━━━━\u001b[0m\u001b[37m\u001b[0m \u001b[1m0s\u001b[0m 33ms/step\n"
          ]
        },
        {
          "output_type": "stream",
          "name": "stderr",
          "text": [
            "\r 15%|█▍        | 171/1141 [00:15<01:23, 11.55it/s]"
          ]
        },
        {
          "output_type": "stream",
          "name": "stdout",
          "text": [
            "Tr-me_0661.jpg -> Class: meningioma, Confidence: 1.00\n",
            "Moving Tr-me_0661.jpg to BT100/Training/meningioma/20250328_234037_Tr-me_0661.jpg\n",
            "\u001b[1m1/1\u001b[0m \u001b[32m━━━━━━━━━━━━━━━━━━━━\u001b[0m\u001b[37m\u001b[0m \u001b[1m0s\u001b[0m 31ms/step\n",
            "Tr-gl_0227.jpg -> Class: glioma, Confidence: 1.00\n",
            "Moving Tr-gl_0227.jpg to BT100/Training/glioma/20250328_234037_Tr-gl_0227.jpg\n",
            "\u001b[1m1/1\u001b[0m \u001b[32m━━━━━━━━━━━━━━━━━━━━\u001b[0m\u001b[37m\u001b[0m \u001b[1m0s\u001b[0m 32ms/step\n"
          ]
        },
        {
          "output_type": "stream",
          "name": "stderr",
          "text": [
            "\r 15%|█▌        | 173/1141 [00:16<01:25, 11.31it/s]"
          ]
        },
        {
          "output_type": "stream",
          "name": "stdout",
          "text": [
            "Tr-gl_0524.jpg -> Class: glioma, Confidence: 0.82\n",
            "Moved low-confidence image Tr-gl_0524.jpg to BT100/low_confidence\n",
            "\u001b[1m1/1\u001b[0m \u001b[32m━━━━━━━━━━━━━━━━━━━━\u001b[0m\u001b[37m\u001b[0m \u001b[1m0s\u001b[0m 34ms/step\n",
            "Tr-no_0787.jpg -> Class: notumor, Confidence: 1.00\n",
            "Moving Tr-no_0787.jpg to BT100/Training/notumor/20250328_234038_Tr-no_0787.jpg\n",
            "\u001b[1m1/1\u001b[0m \u001b[32m━━━━━━━━━━━━━━━━━━━━\u001b[0m\u001b[37m\u001b[0m \u001b[1m0s\u001b[0m 43ms/step\n"
          ]
        },
        {
          "output_type": "stream",
          "name": "stderr",
          "text": [
            "\r 15%|█▌        | 175/1141 [00:16<01:33, 10.28it/s]"
          ]
        },
        {
          "output_type": "stream",
          "name": "stdout",
          "text": [
            "Tr-me_0771.jpg -> Class: meningioma, Confidence: 1.00\n",
            "Moving Tr-me_0771.jpg to BT100/Training/meningioma/20250328_234038_Tr-me_0771.jpg\n",
            "\u001b[1m1/1\u001b[0m \u001b[32m━━━━━━━━━━━━━━━━━━━━\u001b[0m\u001b[37m\u001b[0m \u001b[1m0s\u001b[0m 36ms/step\n",
            "Tr-no_0448.jpg -> Class: notumor, Confidence: 1.00\n",
            "Moving Tr-no_0448.jpg to BT100/Training/notumor/20250328_234038_Tr-no_0448.jpg\n",
            "\u001b[1m1/1\u001b[0m \u001b[32m━━━━━━━━━━━━━━━━━━━━\u001b[0m\u001b[37m\u001b[0m \u001b[1m0s\u001b[0m 29ms/step\n"
          ]
        },
        {
          "output_type": "stream",
          "name": "stderr",
          "text": [
            "\r 16%|█▌        | 177/1141 [00:16<01:31, 10.52it/s]"
          ]
        },
        {
          "output_type": "stream",
          "name": "stdout",
          "text": [
            "Tr-gl_0689.jpg -> Class: glioma, Confidence: 1.00\n",
            "Moving Tr-gl_0689.jpg to BT100/Training/glioma/20250328_234038_Tr-gl_0689.jpg\n",
            "\u001b[1m1/1\u001b[0m \u001b[32m━━━━━━━━━━━━━━━━━━━━\u001b[0m\u001b[37m\u001b[0m \u001b[1m0s\u001b[0m 29ms/step\n",
            "Tr-gl_0230.jpg -> Class: glioma, Confidence: 0.94\n",
            "Moved low-confidence image Tr-gl_0230.jpg to BT100/low_confidence\n",
            "\u001b[1m1/1\u001b[0m \u001b[32m━━━━━━━━━━━━━━━━━━━━\u001b[0m\u001b[37m\u001b[0m \u001b[1m0s\u001b[0m 29ms/step\n"
          ]
        },
        {
          "output_type": "stream",
          "name": "stderr",
          "text": [
            "\r 16%|█▌        | 179/1141 [00:16<01:23, 11.50it/s]"
          ]
        },
        {
          "output_type": "stream",
          "name": "stdout",
          "text": [
            "Tr-me_1313.jpg -> Class: meningioma, Confidence: 1.00\n",
            "Moving Tr-me_1313.jpg to BT100/Training/meningioma/20250328_234038_Tr-me_1313.jpg\n",
            "\u001b[1m1/1\u001b[0m \u001b[32m━━━━━━━━━━━━━━━━━━━━\u001b[0m\u001b[37m\u001b[0m \u001b[1m0s\u001b[0m 31ms/step\n",
            "Tr-no_1584.jpg -> Class: notumor, Confidence: 1.00\n",
            "Moving Tr-no_1584.jpg to BT100/Training/notumor/20250328_234038_Tr-no_1584.jpg\n",
            "\u001b[1m1/1\u001b[0m \u001b[32m━━━━━━━━━━━━━━━━━━━━\u001b[0m\u001b[37m\u001b[0m \u001b[1m0s\u001b[0m 35ms/step\n"
          ]
        },
        {
          "output_type": "stream",
          "name": "stderr",
          "text": [
            "\r 16%|█▌        | 181/1141 [00:16<01:19, 12.11it/s]"
          ]
        },
        {
          "output_type": "stream",
          "name": "stdout",
          "text": [
            "Tr-gl_1303.jpg -> Class: glioma, Confidence: 1.00\n",
            "Moving Tr-gl_1303.jpg to BT100/Training/glioma/20250328_234038_Tr-gl_1303.jpg\n",
            "\u001b[1m1/1\u001b[0m \u001b[32m━━━━━━━━━━━━━━━━━━━━\u001b[0m\u001b[37m\u001b[0m \u001b[1m0s\u001b[0m 31ms/step\n",
            "Tr-no_1510.jpg -> Class: notumor, Confidence: 1.00\n",
            "Moving Tr-no_1510.jpg to BT100/Training/notumor/20250328_234038_Tr-no_1510.jpg\n",
            "\u001b[1m1/1\u001b[0m \u001b[32m━━━━━━━━━━━━━━━━━━━━\u001b[0m\u001b[37m\u001b[0m \u001b[1m0s\u001b[0m 30ms/step\n"
          ]
        },
        {
          "output_type": "stream",
          "name": "stderr",
          "text": [
            "\r 16%|█▌        | 183/1141 [00:17<01:16, 12.54it/s]"
          ]
        },
        {
          "output_type": "stream",
          "name": "stdout",
          "text": [
            "Tr-gl_1209.jpg -> Class: glioma, Confidence: 0.70\n",
            "Moved low-confidence image Tr-gl_1209.jpg to BT100/low_confidence\n",
            "\u001b[1m1/1\u001b[0m \u001b[32m━━━━━━━━━━━━━━━━━━━━\u001b[0m\u001b[37m\u001b[0m \u001b[1m0s\u001b[0m 31ms/step\n",
            "Tr-gl_1011.jpg -> Class: glioma, Confidence: 1.00\n",
            "Moving Tr-gl_1011.jpg to BT100/Training/glioma/20250328_234038_Tr-gl_1011.jpg\n",
            "\u001b[1m1/1\u001b[0m \u001b[32m━━━━━━━━━━━━━━━━━━━━\u001b[0m\u001b[37m\u001b[0m \u001b[1m0s\u001b[0m 32ms/step\n"
          ]
        },
        {
          "output_type": "stream",
          "name": "stderr",
          "text": [
            "\r 16%|█▌        | 185/1141 [00:17<01:18, 12.14it/s]"
          ]
        },
        {
          "output_type": "stream",
          "name": "stdout",
          "text": [
            "Tr-gl_0076.jpg -> Class: glioma, Confidence: 1.00\n",
            "Moving Tr-gl_0076.jpg to BT100/Training/glioma/20250328_234039_Tr-gl_0076.jpg\n",
            "\u001b[1m1/1\u001b[0m \u001b[32m━━━━━━━━━━━━━━━━━━━━\u001b[0m\u001b[37m\u001b[0m \u001b[1m0s\u001b[0m 32ms/step\n",
            "Tr-no_0309.jpg -> Class: notumor, Confidence: 1.00\n",
            "Moving Tr-no_0309.jpg to BT100/Training/notumor/20250328_234039_Tr-no_0309.jpg\n",
            "\u001b[1m1/1\u001b[0m \u001b[32m━━━━━━━━━━━━━━━━━━━━\u001b[0m\u001b[37m\u001b[0m \u001b[1m0s\u001b[0m 33ms/step\n"
          ]
        },
        {
          "output_type": "stream",
          "name": "stderr",
          "text": [
            "\r 16%|█▋        | 187/1141 [00:17<01:21, 11.67it/s]"
          ]
        },
        {
          "output_type": "stream",
          "name": "stdout",
          "text": [
            "Tr-no_0561.jpg -> Class: notumor, Confidence: 1.00\n",
            "Moving Tr-no_0561.jpg to BT100/Training/notumor/20250328_234039_Tr-no_0561.jpg\n",
            "\u001b[1m1/1\u001b[0m \u001b[32m━━━━━━━━━━━━━━━━━━━━\u001b[0m\u001b[37m\u001b[0m \u001b[1m0s\u001b[0m 31ms/step\n",
            "Tr-me_0896.jpg -> Class: meningioma, Confidence: 1.00\n",
            "Moving Tr-me_0896.jpg to BT100/Training/meningioma/20250328_234039_Tr-me_0896.jpg\n",
            "\u001b[1m1/1\u001b[0m \u001b[32m━━━━━━━━━━━━━━━━━━━━\u001b[0m\u001b[37m\u001b[0m \u001b[1m0s\u001b[0m 53ms/step\n"
          ]
        },
        {
          "output_type": "stream",
          "name": "stderr",
          "text": [
            "\r 17%|█▋        | 189/1141 [00:17<01:25, 11.14it/s]"
          ]
        },
        {
          "output_type": "stream",
          "name": "stdout",
          "text": [
            "Tr-gl_0193.jpg -> Class: glioma, Confidence: 1.00\n",
            "Moving Tr-gl_0193.jpg to BT100/Training/glioma/20250328_234039_Tr-gl_0193.jpg\n",
            "\u001b[1m1/1\u001b[0m \u001b[32m━━━━━━━━━━━━━━━━━━━━\u001b[0m\u001b[37m\u001b[0m \u001b[1m0s\u001b[0m 42ms/step\n",
            "Tr-gl_0585.jpg -> Class: glioma, Confidence: 1.00\n",
            "Moving Tr-gl_0585.jpg to BT100/Training/glioma/20250328_234039_Tr-gl_0585.jpg\n",
            "\u001b[1m1/1\u001b[0m \u001b[32m━━━━━━━━━━━━━━━━━━━━\u001b[0m\u001b[37m\u001b[0m \u001b[1m0s\u001b[0m 49ms/step\n"
          ]
        },
        {
          "output_type": "stream",
          "name": "stderr",
          "text": [
            "\r 17%|█▋        | 191/1141 [00:17<01:37,  9.74it/s]"
          ]
        },
        {
          "output_type": "stream",
          "name": "stdout",
          "text": [
            "Tr-pi_0160.jpg -> Class: pituitary, Confidence: 1.00\n",
            "Moving Tr-pi_0160.jpg to BT100/Training/pituitary/20250328_234039_Tr-pi_0160.jpg\n",
            "\u001b[1m1/1\u001b[0m \u001b[32m━━━━━━━━━━━━━━━━━━━━\u001b[0m\u001b[37m\u001b[0m \u001b[1m0s\u001b[0m 44ms/step\n",
            "Tr-me_1273.jpg -> Class: meningioma, Confidence: 1.00\n",
            "Moving Tr-me_1273.jpg to BT100/Training/meningioma/20250328_234039_Tr-me_1273.jpg\n",
            "\u001b[1m1/1\u001b[0m \u001b[32m━━━━━━━━━━━━━━━━━━━━\u001b[0m\u001b[37m\u001b[0m \u001b[1m0s\u001b[0m 45ms/step\n"
          ]
        },
        {
          "output_type": "stream",
          "name": "stderr",
          "text": [
            "\r 17%|█▋        | 193/1141 [00:18<01:43,  9.20it/s]"
          ]
        },
        {
          "output_type": "stream",
          "name": "stdout",
          "text": [
            "Tr-no_0270.jpg -> Class: notumor, Confidence: 1.00\n",
            "Moving Tr-no_0270.jpg to BT100/Training/notumor/20250328_234039_Tr-no_0270.jpg\n",
            "\u001b[1m1/1\u001b[0m \u001b[32m━━━━━━━━━━━━━━━━━━━━\u001b[0m\u001b[37m\u001b[0m \u001b[1m0s\u001b[0m 48ms/step\n"
          ]
        },
        {
          "output_type": "stream",
          "name": "stderr",
          "text": [
            "\r 17%|█▋        | 194/1141 [00:18<01:41,  9.32it/s]"
          ]
        },
        {
          "output_type": "stream",
          "name": "stdout",
          "text": [
            "Tr-piTr_0009.jpg -> Class: pituitary, Confidence: 0.99\n",
            "Moving Tr-piTr_0009.jpg to BT100/Training/pituitary/20250328_234040_Tr-piTr_0009.jpg\n",
            "\u001b[1m1/1\u001b[0m \u001b[32m━━━━━━━━━━━━━━━━━━━━\u001b[0m\u001b[37m\u001b[0m \u001b[1m0s\u001b[0m 47ms/step\n",
            "Tr-no_1335.jpg -> Class: notumor, Confidence: 1.00"
          ]
        },
        {
          "output_type": "stream",
          "name": "stderr",
          "text": [
            "\r 17%|█▋        | 195/1141 [00:18<01:40,  9.44it/s]"
          ]
        },
        {
          "output_type": "stream",
          "name": "stdout",
          "text": [
            "\n",
            "Moving Tr-no_1335.jpg to BT100/Training/notumor/20250328_234040_Tr-no_1335.jpg\n",
            "\u001b[1m1/1\u001b[0m \u001b[32m━━━━━━━━━━━━━━━━━━━━\u001b[0m\u001b[37m\u001b[0m \u001b[1m0s\u001b[0m 53ms/step\n"
          ]
        },
        {
          "output_type": "stream",
          "name": "stderr",
          "text": [
            "\r 17%|█▋        | 196/1141 [00:18<01:45,  8.97it/s]"
          ]
        },
        {
          "output_type": "stream",
          "name": "stdout",
          "text": [
            "Tr-no_1245.jpg -> Class: notumor, Confidence: 1.00\n",
            "Moving Tr-no_1245.jpg to BT100/Training/notumor/20250328_234040_Tr-no_1245.jpg\n",
            "\u001b[1m1/1\u001b[0m \u001b[32m━━━━━━━━━━━━━━━━━━━━\u001b[0m\u001b[37m\u001b[0m \u001b[1m0s\u001b[0m 47ms/step\n"
          ]
        },
        {
          "output_type": "stream",
          "name": "stderr",
          "text": [
            "\r 17%|█▋        | 197/1141 [00:18<01:49,  8.65it/s]"
          ]
        },
        {
          "output_type": "stream",
          "name": "stdout",
          "text": [
            "Tr-gl_0750.jpg -> Class: glioma, Confidence: 1.00\n",
            "Moving Tr-gl_0750.jpg to BT100/Training/glioma/20250328_234040_Tr-gl_0750.jpg\n",
            "\u001b[1m1/1\u001b[0m \u001b[32m━━━━━━━━━━━━━━━━━━━━\u001b[0m\u001b[37m\u001b[0m \u001b[1m0s\u001b[0m 42ms/step\n"
          ]
        },
        {
          "output_type": "stream",
          "name": "stderr",
          "text": [
            "\r 17%|█▋        | 198/1141 [00:18<01:45,  8.96it/s]"
          ]
        },
        {
          "output_type": "stream",
          "name": "stdout",
          "text": [
            "Tr-pi_1083.jpg -> Class: pituitary, Confidence: 1.00\n",
            "Moving Tr-pi_1083.jpg to BT100/Training/pituitary/20250328_234040_Tr-pi_1083.jpg\n",
            "\u001b[1m1/1\u001b[0m \u001b[32m━━━━━━━━━━━━━━━━━━━━\u001b[0m\u001b[37m\u001b[0m \u001b[1m0s\u001b[0m 41ms/step\n"
          ]
        },
        {
          "output_type": "stream",
          "name": "stderr",
          "text": [
            "\r 17%|█▋        | 199/1141 [00:18<01:49,  8.58it/s]"
          ]
        },
        {
          "output_type": "stream",
          "name": "stdout",
          "text": [
            "Tr-no_0019.jpg -> Class: notumor, Confidence: 1.00\n",
            "Moving Tr-no_0019.jpg to BT100/Training/notumor/20250328_234040_Tr-no_0019.jpg\n",
            "\u001b[1m1/1\u001b[0m \u001b[32m━━━━━━━━━━━━━━━━━━━━\u001b[0m\u001b[37m\u001b[0m \u001b[1m0s\u001b[0m 43ms/step\n",
            "Tr-pi_1144.jpg -> Class: pituitary, Confidence: 1.00\n",
            "Moving Tr-pi_1144.jpg to BT100/Training/pituitary/20250328_234040_Tr-pi_1144.jpg\n",
            "\u001b[1m1/1\u001b[0m \u001b[32m━━━━━━━━━━━━━━━━━━━━\u001b[0m\u001b[37m\u001b[0m \u001b[1m0s\u001b[0m 52ms/step\n"
          ]
        },
        {
          "output_type": "stream",
          "name": "stderr",
          "text": [
            "\r 18%|█▊        | 201/1141 [00:19<01:47,  8.73it/s]"
          ]
        },
        {
          "output_type": "stream",
          "name": "stdout",
          "text": [
            "Tr-no_0108.jpg -> Class: glioma, Confidence: 0.55\n",
            "Moved low-confidence image Tr-no_0108.jpg to BT100/low_confidence\n",
            "\u001b[1m1/1\u001b[0m \u001b[32m━━━━━━━━━━━━━━━━━━━━\u001b[0m\u001b[37m\u001b[0m \u001b[1m0s\u001b[0m 49ms/step\n"
          ]
        },
        {
          "output_type": "stream",
          "name": "stderr",
          "text": [
            "\r 18%|█▊        | 202/1141 [00:19<01:53,  8.31it/s]"
          ]
        },
        {
          "output_type": "stream",
          "name": "stdout",
          "text": [
            "Tr-pi_0417.jpg -> Class: pituitary, Confidence: 1.00\n",
            "Moving Tr-pi_0417.jpg to BT100/Training/pituitary/20250328_234041_Tr-pi_0417.jpg\n",
            "\u001b[1m1/1\u001b[0m \u001b[32m━━━━━━━━━━━━━━━━━━━━\u001b[0m\u001b[37m\u001b[0m \u001b[1m0s\u001b[0m 48ms/step\n"
          ]
        },
        {
          "output_type": "stream",
          "name": "stderr",
          "text": [
            "\r 18%|█▊        | 203/1141 [00:19<01:49,  8.53it/s]"
          ]
        },
        {
          "output_type": "stream",
          "name": "stdout",
          "text": [
            "Tr-gl_0363.jpg -> Class: glioma, Confidence: 1.00\n",
            "Moving Tr-gl_0363.jpg to BT100/Training/glioma/20250328_234041_Tr-gl_0363.jpg\n",
            "\u001b[1m1/1\u001b[0m \u001b[32m━━━━━━━━━━━━━━━━━━━━\u001b[0m\u001b[37m\u001b[0m \u001b[1m0s\u001b[0m 54ms/step\n"
          ]
        },
        {
          "output_type": "stream",
          "name": "stderr",
          "text": [
            "\r 18%|█▊        | 204/1141 [00:19<01:57,  7.99it/s]"
          ]
        },
        {
          "output_type": "stream",
          "name": "stdout",
          "text": [
            "Tr-pi_0372.jpg -> Class: pituitary, Confidence: 1.00\n",
            "Moving Tr-pi_0372.jpg to BT100/Training/pituitary/20250328_234041_Tr-pi_0372.jpg\n",
            "\u001b[1m1/1\u001b[0m \u001b[32m━━━━━━━━━━━━━━━━━━━━\u001b[0m\u001b[37m\u001b[0m \u001b[1m0s\u001b[0m 50ms/step\n"
          ]
        },
        {
          "output_type": "stream",
          "name": "stderr",
          "text": [
            "\r 18%|█▊        | 205/1141 [00:19<02:04,  7.50it/s]"
          ]
        },
        {
          "output_type": "stream",
          "name": "stdout",
          "text": [
            "Tr-pi_1080.jpg -> Class: pituitary, Confidence: 1.00\n",
            "Moving Tr-pi_1080.jpg to BT100/Training/pituitary/20250328_234041_Tr-pi_1080.jpg\n",
            "\u001b[1m1/1\u001b[0m \u001b[32m━━━━━━━━━━━━━━━━━━━━\u001b[0m\u001b[37m\u001b[0m \u001b[1m0s\u001b[0m 53ms/step\n"
          ]
        },
        {
          "output_type": "stream",
          "name": "stderr",
          "text": [
            "\r 18%|█▊        | 206/1141 [00:19<02:13,  7.02it/s]"
          ]
        },
        {
          "output_type": "stream",
          "name": "stdout",
          "text": [
            "Tr-me_0606.jpg -> Class: meningioma, Confidence: 1.00\n",
            "Moving Tr-me_0606.jpg to BT100/Training/meningioma/20250328_234041_Tr-me_0606.jpg\n",
            "\u001b[1m1/1\u001b[0m \u001b[32m━━━━━━━━━━━━━━━━━━━━\u001b[0m\u001b[37m\u001b[0m \u001b[1m0s\u001b[0m 35ms/step\n"
          ]
        },
        {
          "output_type": "stream",
          "name": "stderr",
          "text": [
            "\r 18%|█▊        | 207/1141 [00:19<02:10,  7.14it/s]"
          ]
        },
        {
          "output_type": "stream",
          "name": "stdout",
          "text": [
            "Tr-pi_0337.jpg -> Class: pituitary, Confidence: 1.00\n",
            "Moving Tr-pi_0337.jpg to BT100/Training/pituitary/20250328_234041_Tr-pi_0337.jpg\n",
            "\u001b[1m1/1\u001b[0m \u001b[32m━━━━━━━━━━━━━━━━━━━━\u001b[0m\u001b[37m\u001b[0m \u001b[1m0s\u001b[0m 32ms/step\n",
            "Tr-no_0022.jpg -> Class: notumor, Confidence: 1.00\n",
            "Moving Tr-no_0022.jpg to BT100/Training/notumor/20250328_234041_Tr-no_0022.jpg\n",
            "\u001b[1m1/1\u001b[0m \u001b[32m━━━━━━━━━━━━━━━━━━━━\u001b[0m\u001b[37m\u001b[0m \u001b[1m0s\u001b[0m 32ms/step\n"
          ]
        },
        {
          "output_type": "stream",
          "name": "stderr",
          "text": [
            "\r 18%|█▊        | 209/1141 [00:20<01:41,  9.14it/s]"
          ]
        },
        {
          "output_type": "stream",
          "name": "stdout",
          "text": [
            "Tr-gl_0625.jpg -> Class: glioma, Confidence: 1.00\n",
            "Moving Tr-gl_0625.jpg to BT100/Training/glioma/20250328_234041_Tr-gl_0625.jpg\n",
            "\u001b[1m1/1\u001b[0m \u001b[32m━━━━━━━━━━━━━━━━━━━━\u001b[0m\u001b[37m\u001b[0m \u001b[1m0s\u001b[0m 31ms/step\n",
            "Tr-me_0078.jpg -> Class: meningioma, Confidence: 1.00\n",
            "Moving Tr-me_0078.jpg to BT100/Training/meningioma/20250328_234041_Tr-me_0078.jpg\n",
            "\u001b[1m1/1\u001b[0m \u001b[32m━━━━━━━━━━━━━━━━━━━━\u001b[0m\u001b[37m\u001b[0m \u001b[1m0s\u001b[0m 33ms/step\n"
          ]
        },
        {
          "output_type": "stream",
          "name": "stderr",
          "text": [
            "\r 18%|█▊        | 211/1141 [00:20<01:28, 10.56it/s]"
          ]
        },
        {
          "output_type": "stream",
          "name": "stdout",
          "text": [
            "Tr-gl_1224.jpg -> Class: glioma, Confidence: 1.00\n",
            "Moving Tr-gl_1224.jpg to BT100/Training/glioma/20250328_234042_Tr-gl_1224.jpg\n",
            "\u001b[1m1/1\u001b[0m \u001b[32m━━━━━━━━━━━━━━━━━━━━\u001b[0m\u001b[37m\u001b[0m \u001b[1m0s\u001b[0m 32ms/step\n",
            "Tr-gl_1069.jpg -> Class: glioma, Confidence: 1.00\n",
            "Moving Tr-gl_1069.jpg to BT100/Training/glioma/20250328_234042_Tr-gl_1069.jpg\n",
            "\u001b[1m1/1\u001b[0m \u001b[32m━━━━━━━━━━━━━━━━━━━━\u001b[0m\u001b[37m\u001b[0m \u001b[1m0s\u001b[0m 39ms/step\n"
          ]
        },
        {
          "output_type": "stream",
          "name": "stderr",
          "text": [
            "\r 19%|█▊        | 213/1141 [00:20<01:21, 11.45it/s]"
          ]
        },
        {
          "output_type": "stream",
          "name": "stdout",
          "text": [
            "Tr-me_0521.jpg -> Class: meningioma, Confidence: 1.00\n",
            "Moving Tr-me_0521.jpg to BT100/Training/meningioma/20250328_234042_Tr-me_0521.jpg\n",
            "\u001b[1m1/1\u001b[0m \u001b[32m━━━━━━━━━━━━━━━━━━━━\u001b[0m\u001b[37m\u001b[0m \u001b[1m0s\u001b[0m 36ms/step\n",
            "Tr-me_1252.jpg -> Class: meningioma, Confidence: 1.00\n",
            "Moving Tr-me_1252.jpg to BT100/Training/meningioma/20250328_234042_Tr-me_1252.jpg\n",
            "\u001b[1m1/1\u001b[0m \u001b[32m━━━━━━━━━━━━━━━━━━━━\u001b[0m\u001b[37m\u001b[0m \u001b[1m0s\u001b[0m 31ms/step\n"
          ]
        },
        {
          "output_type": "stream",
          "name": "stderr",
          "text": [
            "\r 19%|█▉        | 215/1141 [00:20<01:22, 11.23it/s]"
          ]
        },
        {
          "output_type": "stream",
          "name": "stdout",
          "text": [
            "Tr-pi_0700.jpg -> Class: pituitary, Confidence: 1.00\n",
            "Moving Tr-pi_0700.jpg to BT100/Training/pituitary/20250328_234042_Tr-pi_0700.jpg\n",
            "\u001b[1m1/1\u001b[0m \u001b[32m━━━━━━━━━━━━━━━━━━━━\u001b[0m\u001b[37m\u001b[0m \u001b[1m0s\u001b[0m 32ms/step\n",
            "Tr-gl_0160.jpg -> Class: glioma, Confidence: 1.00\n",
            "Moving Tr-gl_0160.jpg to BT100/Training/glioma/20250328_234042_Tr-gl_0160.jpg\n",
            "\u001b[1m1/1\u001b[0m \u001b[32m━━━━━━━━━━━━━━━━━━━━\u001b[0m\u001b[37m\u001b[0m \u001b[1m0s\u001b[0m 42ms/step\n"
          ]
        },
        {
          "output_type": "stream",
          "name": "stderr",
          "text": [
            "\r 19%|█▉        | 217/1141 [00:20<01:25, 10.83it/s]"
          ]
        },
        {
          "output_type": "stream",
          "name": "stdout",
          "text": [
            "Tr-pi_1018.jpg -> Class: pituitary, Confidence: 1.00\n",
            "Moving Tr-pi_1018.jpg to BT100/Training/pituitary/20250328_234042_Tr-pi_1018.jpg\n",
            "\u001b[1m1/1\u001b[0m \u001b[32m━━━━━━━━━━━━━━━━━━━━\u001b[0m\u001b[37m\u001b[0m \u001b[1m0s\u001b[0m 32ms/step\n",
            "Tr-pi_0721.jpg -> Class: pituitary, Confidence: 1.00\n",
            "Moving Tr-pi_0721.jpg to BT100/Training/pituitary/20250328_234042_Tr-pi_0721.jpg\n",
            "\u001b[1m1/1\u001b[0m \u001b[32m━━━━━━━━━━━━━━━━━━━━\u001b[0m\u001b[37m\u001b[0m \u001b[1m0s\u001b[0m 37ms/step\n"
          ]
        },
        {
          "output_type": "stream",
          "name": "stderr",
          "text": [
            "\r 19%|█▉        | 219/1141 [00:20<01:26, 10.69it/s]"
          ]
        },
        {
          "output_type": "stream",
          "name": "stdout",
          "text": [
            "Tr-pi_0529.jpg -> Class: pituitary, Confidence: 1.00\n",
            "Moving Tr-pi_0529.jpg to BT100/Training/pituitary/20250328_234042_Tr-pi_0529.jpg\n",
            "\u001b[1m1/1\u001b[0m \u001b[32m━━━━━━━━━━━━━━━━━━━━\u001b[0m\u001b[37m\u001b[0m \u001b[1m0s\u001b[0m 36ms/step\n",
            "Tr-me_0247.jpg -> Class: meningioma, Confidence: 1.00\n",
            "Moving Tr-me_0247.jpg to BT100/Training/meningioma/20250328_234042_Tr-me_0247.jpg\n",
            "\u001b[1m1/1\u001b[0m \u001b[32m━━━━━━━━━━━━━━━━━━━━\u001b[0m\u001b[37m\u001b[0m \u001b[1m0s\u001b[0m 34ms/step\n",
            "Tr-me_0922.jpg -> Class: meningioma, Confidence: 1.00"
          ]
        },
        {
          "output_type": "stream",
          "name": "stderr",
          "text": [
            "\r 19%|█▉        | 221/1141 [00:21<01:22, 11.20it/s]"
          ]
        },
        {
          "output_type": "stream",
          "name": "stdout",
          "text": [
            "\n",
            "Moving Tr-me_0922.jpg to BT100/Training/meningioma/20250328_234042_Tr-me_0922.jpg\n",
            "\u001b[1m1/1\u001b[0m \u001b[32m━━━━━━━━━━━━━━━━━━━━\u001b[0m\u001b[37m\u001b[0m \u001b[1m0s\u001b[0m 33ms/step\n",
            "Tr-pi_0406.jpg -> Class: pituitary, Confidence: 1.00\n",
            "Moving Tr-pi_0406.jpg to BT100/Training/pituitary/20250328_234043_Tr-pi_0406.jpg\n",
            "\u001b[1m1/1\u001b[0m \u001b[32m━━━━━━━━━━━━━━━━━━━━\u001b[0m\u001b[37m\u001b[0m \u001b[1m0s\u001b[0m 32ms/step\n"
          ]
        },
        {
          "output_type": "stream",
          "name": "stderr",
          "text": [
            "\r 20%|█▉        | 223/1141 [00:21<01:24, 10.87it/s]"
          ]
        },
        {
          "output_type": "stream",
          "name": "stdout",
          "text": [
            "Tr-gl_0881.jpg -> Class: glioma, Confidence: 1.00\n",
            "Moving Tr-gl_0881.jpg to BT100/Training/glioma/20250328_234043_Tr-gl_0881.jpg\n",
            "\u001b[1m1/1\u001b[0m \u001b[32m━━━━━━━━━━━━━━━━━━━━\u001b[0m\u001b[37m\u001b[0m \u001b[1m0s\u001b[0m 34ms/step\n",
            "Tr-me_1096.jpg -> Class: meningioma, Confidence: 1.00\n",
            "Moving Tr-me_1096.jpg to BT100/Training/meningioma/20250328_234043_Tr-me_1096.jpg\n",
            "\u001b[1m1/1\u001b[0m \u001b[32m━━━━━━━━━━━━━━━━━━━━\u001b[0m\u001b[37m\u001b[0m \u001b[1m0s\u001b[0m 42ms/step\n"
          ]
        },
        {
          "output_type": "stream",
          "name": "stderr",
          "text": [
            "\r 20%|█▉        | 225/1141 [00:21<01:27, 10.48it/s]"
          ]
        },
        {
          "output_type": "stream",
          "name": "stdout",
          "text": [
            "Tr-me_0225.jpg -> Class: pituitary, Confidence: 1.00\n",
            "Moving Tr-me_0225.jpg to BT100/Training/pituitary/20250328_234043_Tr-me_0225.jpg\n",
            "\u001b[1m1/1\u001b[0m \u001b[32m━━━━━━━━━━━━━━━━━━━━\u001b[0m\u001b[37m\u001b[0m \u001b[1m0s\u001b[0m 33ms/step\n",
            "Tr-no_1235.jpg -> Class: notumor, Confidence: 1.00\n",
            "Moving Tr-no_1235.jpg to BT100/Training/notumor/20250328_234043_Tr-no_1235.jpg\n",
            "\u001b[1m1/1\u001b[0m \u001b[32m━━━━━━━━━━━━━━━━━━━━\u001b[0m\u001b[37m\u001b[0m \u001b[1m0s\u001b[0m 34ms/step\n"
          ]
        },
        {
          "output_type": "stream",
          "name": "stderr",
          "text": [
            "\r 20%|█▉        | 227/1141 [00:21<01:21, 11.24it/s]"
          ]
        },
        {
          "output_type": "stream",
          "name": "stdout",
          "text": [
            "Tr-no_1164.jpg -> Class: notumor, Confidence: 1.00\n",
            "Moving Tr-no_1164.jpg to BT100/Training/notumor/20250328_234043_Tr-no_1164.jpg\n",
            "\u001b[1m1/1\u001b[0m \u001b[32m━━━━━━━━━━━━━━━━━━━━\u001b[0m\u001b[37m\u001b[0m \u001b[1m0s\u001b[0m 30ms/step\n",
            "Tr-no_0481.jpg -> Class: notumor, Confidence: 1.00\n",
            "Moving Tr-no_0481.jpg to BT100/Training/notumor/20250328_234043_Tr-no_0481.jpg\n",
            "\u001b[1m1/1\u001b[0m \u001b[32m━━━━━━━━━━━━━━━━━━━━\u001b[0m\u001b[37m\u001b[0m \u001b[1m0s\u001b[0m 35ms/step\n"
          ]
        },
        {
          "output_type": "stream",
          "name": "stderr",
          "text": [
            "\r 20%|██        | 229/1141 [00:21<01:18, 11.66it/s]"
          ]
        },
        {
          "output_type": "stream",
          "name": "stdout",
          "text": [
            "Tr-no_1189.jpg -> Class: notumor, Confidence: 1.00\n",
            "Moving Tr-no_1189.jpg to BT100/Training/notumor/20250328_234043_Tr-no_1189.jpg\n",
            "\u001b[1m1/1\u001b[0m \u001b[32m━━━━━━━━━━━━━━━━━━━━\u001b[0m\u001b[37m\u001b[0m \u001b[1m0s\u001b[0m 34ms/step\n",
            "Tr-me_0939.jpg -> Class: meningioma, Confidence: 1.00\n",
            "Moving Tr-me_0939.jpg to BT100/Training/meningioma/20250328_234043_Tr-me_0939.jpg\n",
            "\u001b[1m1/1\u001b[0m \u001b[32m━━━━━━━━━━━━━━━━━━━━\u001b[0m\u001b[37m\u001b[0m \u001b[1m0s\u001b[0m 32ms/step\n"
          ]
        },
        {
          "output_type": "stream",
          "name": "stderr",
          "text": [
            "\r 20%|██        | 231/1141 [00:21<01:20, 11.33it/s]"
          ]
        },
        {
          "output_type": "stream",
          "name": "stdout",
          "text": [
            "Tr-pi_0419.jpg -> Class: pituitary, Confidence: 1.00\n",
            "Moving Tr-pi_0419.jpg to BT100/Training/pituitary/20250328_234043_Tr-pi_0419.jpg\n",
            "\u001b[1m1/1\u001b[0m \u001b[32m━━━━━━━━━━━━━━━━━━━━\u001b[0m\u001b[37m\u001b[0m \u001b[1m0s\u001b[0m 30ms/step\n",
            "Tr-me_0118.jpg -> Class: meningioma, Confidence: 1.00\n",
            "Moving Tr-me_0118.jpg to BT100/Training/meningioma/20250328_234043_Tr-me_0118.jpg\n",
            "\u001b[1m1/1\u001b[0m \u001b[32m━━━━━━━━━━━━━━━━━━━━\u001b[0m\u001b[37m\u001b[0m \u001b[1m0s\u001b[0m 30ms/step\n"
          ]
        },
        {
          "output_type": "stream",
          "name": "stderr",
          "text": [
            "\r 20%|██        | 233/1141 [00:22<01:15, 12.04it/s]"
          ]
        },
        {
          "output_type": "stream",
          "name": "stdout",
          "text": [
            "Tr-me_0255.jpg -> Class: meningioma, Confidence: 1.00\n",
            "Moving Tr-me_0255.jpg to BT100/Training/meningioma/20250328_234043_Tr-me_0255.jpg\n",
            "\u001b[1m1/1\u001b[0m \u001b[32m━━━━━━━━━━━━━━━━━━━━\u001b[0m\u001b[37m\u001b[0m \u001b[1m0s\u001b[0m 31ms/step\n",
            "Tr-pi_0112.jpg -> Class: pituitary, Confidence: 1.00\n",
            "Moving Tr-pi_0112.jpg to BT100/Training/pituitary/20250328_234044_Tr-pi_0112.jpg\n",
            "\u001b[1m1/1\u001b[0m \u001b[32m━━━━━━━━━━━━━━━━━━━━\u001b[0m\u001b[37m\u001b[0m \u001b[1m0s\u001b[0m 32ms/step\n"
          ]
        },
        {
          "output_type": "stream",
          "name": "stderr",
          "text": [
            "\r 21%|██        | 235/1141 [00:22<01:22, 10.94it/s]"
          ]
        },
        {
          "output_type": "stream",
          "name": "stdout",
          "text": [
            "Tr-no_1113.jpg -> Class: notumor, Confidence: 1.00\n",
            "Moving Tr-no_1113.jpg to BT100/Training/notumor/20250328_234044_Tr-no_1113.jpg\n",
            "\u001b[1m1/1\u001b[0m \u001b[32m━━━━━━━━━━━━━━━━━━━━\u001b[0m\u001b[37m\u001b[0m \u001b[1m0s\u001b[0m 38ms/step\n",
            "Tr-no_0286.jpg -> Class: notumor, Confidence: 1.00\n",
            "Moving Tr-no_0286.jpg to BT100/Training/notumor/20250328_234044_Tr-no_0286.jpg\n",
            "\u001b[1m1/1\u001b[0m \u001b[32m━━━━━━━━━━━━━━━━━━━━\u001b[0m\u001b[37m\u001b[0m \u001b[1m0s\u001b[0m 29ms/step\n"
          ]
        },
        {
          "output_type": "stream",
          "name": "stderr",
          "text": [
            "\r 21%|██        | 237/1141 [00:22<01:22, 10.92it/s]"
          ]
        },
        {
          "output_type": "stream",
          "name": "stdout",
          "text": [
            "Tr-no_1246.jpg -> Class: notumor, Confidence: 1.00\n",
            "Moving Tr-no_1246.jpg to BT100/Training/notumor/20250328_234044_Tr-no_1246.jpg\n",
            "\u001b[1m1/1\u001b[0m \u001b[32m━━━━━━━━━━━━━━━━━━━━\u001b[0m\u001b[37m\u001b[0m \u001b[1m0s\u001b[0m 31ms/step\n",
            "Tr-me_0483.jpg -> Class: meningioma, Confidence: 1.00\n",
            "Moving Tr-me_0483.jpg to BT100/Training/meningioma/20250328_234044_Tr-me_0483.jpg\n",
            "\u001b[1m1/1\u001b[0m \u001b[32m━━━━━━━━━━━━━━━━━━━━\u001b[0m\u001b[37m\u001b[0m \u001b[1m0s\u001b[0m 32ms/step\n"
          ]
        },
        {
          "output_type": "stream",
          "name": "stderr",
          "text": [
            "\r 21%|██        | 239/1141 [00:22<01:21, 11.10it/s]"
          ]
        },
        {
          "output_type": "stream",
          "name": "stdout",
          "text": [
            "Tr-no_1005.jpg -> Class: notumor, Confidence: 1.00\n",
            "Moving Tr-no_1005.jpg to BT100/Training/notumor/20250328_234044_Tr-no_1005.jpg\n",
            "\u001b[1m1/1\u001b[0m \u001b[32m━━━━━━━━━━━━━━━━━━━━\u001b[0m\u001b[37m\u001b[0m \u001b[1m0s\u001b[0m 52ms/step\n",
            "Tr-gl_0933.jpg -> Class: glioma, Confidence: 1.00\n",
            "Moving Tr-gl_0933.jpg to BT100/Training/glioma/20250328_234044_Tr-gl_0933.jpg\n",
            "\u001b[1m1/1\u001b[0m \u001b[32m━━━━━━━━━━━━━━━━━━━━\u001b[0m\u001b[37m\u001b[0m \u001b[1m0s\u001b[0m 134ms/step\n"
          ]
        },
        {
          "output_type": "stream",
          "name": "stderr",
          "text": [
            "\r 21%|██        | 241/1141 [00:23<01:56,  7.76it/s]"
          ]
        },
        {
          "output_type": "stream",
          "name": "stdout",
          "text": [
            "Tr-gl_0705.jpg -> Class: glioma, Confidence: 1.00\n",
            "Moving Tr-gl_0705.jpg to BT100/Training/glioma/20250328_234044_Tr-gl_0705.jpg\n",
            "\u001b[1m1/1\u001b[0m \u001b[32m━━━━━━━━━━━━━━━━━━━━\u001b[0m\u001b[37m\u001b[0m \u001b[1m0s\u001b[0m 54ms/step\n"
          ]
        },
        {
          "output_type": "stream",
          "name": "stderr",
          "text": [
            "\r 21%|██        | 242/1141 [00:23<02:07,  7.05it/s]"
          ]
        },
        {
          "output_type": "stream",
          "name": "stdout",
          "text": [
            "Tr-pi_0303.jpg -> Class: pituitary, Confidence: 1.00\n",
            "Moving Tr-pi_0303.jpg to BT100/Training/pituitary/20250328_234045_Tr-pi_0303.jpg\n",
            "\u001b[1m1/1\u001b[0m \u001b[32m━━━━━━━━━━━━━━━━━━━━\u001b[0m\u001b[37m\u001b[0m \u001b[1m0s\u001b[0m 84ms/step\n",
            "Tr-no_0660.jpg -> Class: notumor, Confidence: 1.00\n",
            "Moving Tr-no_0660.jpg to BT100/Training/notumor/20250328_234045_Tr-no_0660.jpg\n"
          ]
        },
        {
          "output_type": "stream",
          "name": "stderr",
          "text": [
            "\r 21%|██▏       | 243/1141 [00:23<02:16,  6.59it/s]"
          ]
        },
        {
          "output_type": "stream",
          "name": "stdout",
          "text": [
            "\u001b[1m1/1\u001b[0m \u001b[32m━━━━━━━━━━━━━━━━━━━━\u001b[0m\u001b[37m\u001b[0m \u001b[1m0s\u001b[0m 30ms/step\n",
            "Tr-no_0467.jpg -> Class: notumor, Confidence: 1.00\n",
            "Moving Tr-no_0467.jpg to BT100/Training/notumor/20250328_234045_Tr-no_0467.jpg\n",
            "\u001b[1m1/1\u001b[0m \u001b[32m━━━━━━━━━━━━━━━━━━━━\u001b[0m\u001b[37m\u001b[0m \u001b[1m0s\u001b[0m 33ms/step\n"
          ]
        },
        {
          "output_type": "stream",
          "name": "stderr",
          "text": [
            "\r 21%|██▏       | 245/1141 [00:23<01:55,  7.77it/s]"
          ]
        },
        {
          "output_type": "stream",
          "name": "stdout",
          "text": [
            "Tr-gl_0821.jpg -> Class: glioma, Confidence: 1.00\n",
            "Moving Tr-gl_0821.jpg to BT100/Training/glioma/20250328_234045_Tr-gl_0821.jpg\n",
            "\u001b[1m1/1\u001b[0m \u001b[32m━━━━━━━━━━━━━━━━━━━━\u001b[0m\u001b[37m\u001b[0m \u001b[1m0s\u001b[0m 31ms/step\n",
            "Tr-pi_1388.jpg -> Class: pituitary, Confidence: 1.00\n",
            "Moving Tr-pi_1388.jpg to BT100/Training/pituitary/20250328_234045_Tr-pi_1388.jpg\n",
            "\u001b[1m1/1\u001b[0m \u001b[32m━━━━━━━━━━━━━━━━━━━━\u001b[0m\u001b[37m\u001b[0m \u001b[1m0s\u001b[0m 32ms/step\n"
          ]
        },
        {
          "output_type": "stream",
          "name": "stderr",
          "text": [
            "\r 22%|██▏       | 247/1141 [00:23<01:39,  9.01it/s]"
          ]
        },
        {
          "output_type": "stream",
          "name": "stdout",
          "text": [
            "Tr-pi_0264.jpg -> Class: pituitary, Confidence: 1.00\n",
            "Moving Tr-pi_0264.jpg to BT100/Training/pituitary/20250328_234045_Tr-pi_0264.jpg\n",
            "\u001b[1m1/1\u001b[0m \u001b[32m━━━━━━━━━━━━━━━━━━━━\u001b[0m\u001b[37m\u001b[0m \u001b[1m0s\u001b[0m 32ms/step\n",
            "Tr-pi_0159.jpg -> Class: pituitary, Confidence: 1.00\n",
            "Moving Tr-pi_0159.jpg to BT100/Training/pituitary/20250328_234045_Tr-pi_0159.jpg\n",
            "\u001b[1m1/1\u001b[0m \u001b[32m━━━━━━━━━━━━━━━━━━━━\u001b[0m\u001b[37m\u001b[0m \u001b[1m0s\u001b[0m 33ms/step\n"
          ]
        },
        {
          "output_type": "stream",
          "name": "stderr",
          "text": [
            "\r 22%|██▏       | 249/1141 [00:23<01:33,  9.50it/s]"
          ]
        },
        {
          "output_type": "stream",
          "name": "stdout",
          "text": [
            "Tr-pi_0183.jpg -> Class: pituitary, Confidence: 1.00\n",
            "Moving Tr-pi_0183.jpg to BT100/Training/pituitary/20250328_234045_Tr-pi_0183.jpg\n",
            "\u001b[1m1/1\u001b[0m \u001b[32m━━━━━━━━━━━━━━━━━━━━\u001b[0m\u001b[37m\u001b[0m \u001b[1m0s\u001b[0m 30ms/step\n",
            "Tr-me_0322.jpg -> Class: meningioma, Confidence: 0.96\n",
            "Moved low-confidence image Tr-me_0322.jpg to BT100/low_confidence\n",
            "\u001b[1m1/1\u001b[0m \u001b[32m━━━━━━━━━━━━━━━━━━━━\u001b[0m\u001b[37m\u001b[0m \u001b[1m0s\u001b[0m 29ms/step\n"
          ]
        },
        {
          "output_type": "stream",
          "name": "stderr",
          "text": [
            "\r 22%|██▏       | 251/1141 [00:24<01:22, 10.74it/s]"
          ]
        },
        {
          "output_type": "stream",
          "name": "stdout",
          "text": [
            "Tr-gl_0064.jpg -> Class: glioma, Confidence: 1.00\n",
            "Moving Tr-gl_0064.jpg to BT100/Training/glioma/20250328_234046_Tr-gl_0064.jpg\n",
            "\u001b[1m1/1\u001b[0m \u001b[32m━━━━━━━━━━━━━━━━━━━━\u001b[0m\u001b[37m\u001b[0m \u001b[1m0s\u001b[0m 31ms/step\n",
            "Tr-me_0901.jpg -> Class: meningioma, Confidence: 1.00\n",
            "Moving Tr-me_0901.jpg to BT100/Training/meningioma/20250328_234046_Tr-me_0901.jpg\n",
            "\u001b[1m1/1\u001b[0m \u001b[32m━━━━━━━━━━━━━━━━━━━━\u001b[0m\u001b[37m\u001b[0m \u001b[1m0s\u001b[0m 39ms/step\n"
          ]
        },
        {
          "output_type": "stream",
          "name": "stderr",
          "text": [
            "\r 22%|██▏       | 253/1141 [00:24<01:18, 11.36it/s]"
          ]
        },
        {
          "output_type": "stream",
          "name": "stdout",
          "text": [
            "Tr-pi_1156.jpg -> Class: pituitary, Confidence: 1.00\n",
            "Moving Tr-pi_1156.jpg to BT100/Training/pituitary/20250328_234046_Tr-pi_1156.jpg\n",
            "\u001b[1m1/1\u001b[0m \u001b[32m━━━━━━━━━━━━━━━━━━━━\u001b[0m\u001b[37m\u001b[0m \u001b[1m0s\u001b[0m 35ms/step\n",
            "Tr-no_0233.jpg -> Class: notumor, Confidence: 1.00\n",
            "Moving Tr-no_0233.jpg to BT100/Training/notumor/20250328_234046_Tr-no_0233.jpg\n",
            "\u001b[1m1/1\u001b[0m \u001b[32m━━━━━━━━━━━━━━━━━━━━\u001b[0m\u001b[37m\u001b[0m \u001b[1m0s\u001b[0m 37ms/step\n"
          ]
        },
        {
          "output_type": "stream",
          "name": "stderr",
          "text": [
            "\r 22%|██▏       | 255/1141 [00:24<01:15, 11.68it/s]"
          ]
        },
        {
          "output_type": "stream",
          "name": "stdout",
          "text": [
            "Tr-gl_0826.jpg -> Class: glioma, Confidence: 1.00\n",
            "Moving Tr-gl_0826.jpg to BT100/Training/glioma/20250328_234046_Tr-gl_0826.jpg\n",
            "\u001b[1m1/1\u001b[0m \u001b[32m━━━━━━━━━━━━━━━━━━━━\u001b[0m\u001b[37m\u001b[0m \u001b[1m0s\u001b[0m 34ms/step\n",
            "Tr-gl_1070.jpg -> Class: glioma, Confidence: 1.00\n",
            "Moving Tr-gl_1070.jpg to BT100/Training/glioma/20250328_234046_Tr-gl_1070.jpg\n",
            "\u001b[1m1/1\u001b[0m \u001b[32m━━━━━━━━━━━━━━━━━━━━\u001b[0m\u001b[37m\u001b[0m \u001b[1m0s\u001b[0m 30ms/step\n"
          ]
        },
        {
          "output_type": "stream",
          "name": "stderr",
          "text": [
            "\r 23%|██▎       | 257/1141 [00:24<01:17, 11.44it/s]"
          ]
        },
        {
          "output_type": "stream",
          "name": "stdout",
          "text": [
            "Tr-pi_0291.jpg -> Class: pituitary, Confidence: 1.00\n",
            "Moving Tr-pi_0291.jpg to BT100/Training/pituitary/20250328_234046_Tr-pi_0291.jpg\n",
            "\u001b[1m1/1\u001b[0m \u001b[32m━━━━━━━━━━━━━━━━━━━━\u001b[0m\u001b[37m\u001b[0m \u001b[1m0s\u001b[0m 35ms/step\n",
            "Tr-pi_0400.jpg -> Class: pituitary, Confidence: 1.00\n",
            "Moving Tr-pi_0400.jpg to BT100/Training/pituitary/20250328_234046_Tr-pi_0400.jpg\n",
            "\u001b[1m1/1\u001b[0m \u001b[32m━━━━━━━━━━━━━━━━━━━━\u001b[0m\u001b[37m\u001b[0m \u001b[1m0s\u001b[0m 36ms/step\n"
          ]
        },
        {
          "output_type": "stream",
          "name": "stderr",
          "text": [
            "\r 23%|██▎       | 259/1141 [00:24<01:26, 10.20it/s]"
          ]
        },
        {
          "output_type": "stream",
          "name": "stdout",
          "text": [
            "Tr-pi_0668.jpg -> Class: pituitary, Confidence: 1.00\n",
            "Moving Tr-pi_0668.jpg to BT100/Training/pituitary/20250328_234046_Tr-pi_0668.jpg\n",
            "\u001b[1m1/1\u001b[0m \u001b[32m━━━━━━━━━━━━━━━━━━━━\u001b[0m\u001b[37m\u001b[0m \u001b[1m0s\u001b[0m 34ms/step\n",
            "Tr-gl_0547.jpg -> Class: glioma, Confidence: 1.00\n",
            "Moving Tr-gl_0547.jpg to BT100/Training/glioma/20250328_234046_Tr-gl_0547.jpg\n",
            "\u001b[1m1/1\u001b[0m \u001b[32m━━━━━━━━━━━━━━━━━━━━\u001b[0m\u001b[37m\u001b[0m \u001b[1m0s\u001b[0m 32ms/step\n"
          ]
        },
        {
          "output_type": "stream",
          "name": "stderr",
          "text": [
            "\r 23%|██▎       | 261/1141 [00:25<01:20, 10.99it/s]"
          ]
        },
        {
          "output_type": "stream",
          "name": "stdout",
          "text": [
            "Tr-pi_0982.jpg -> Class: pituitary, Confidence: 1.00\n",
            "Moving Tr-pi_0982.jpg to BT100/Training/pituitary/20250328_234046_Tr-pi_0982.jpg\n",
            "\u001b[1m1/1\u001b[0m \u001b[32m━━━━━━━━━━━━━━━━━━━━\u001b[0m\u001b[37m\u001b[0m \u001b[1m0s\u001b[0m 31ms/step\n",
            "Tr-pi_0606.jpg -> Class: pituitary, Confidence: 1.00\n",
            "Moving Tr-pi_0606.jpg to BT100/Training/pituitary/20250328_234047_Tr-pi_0606.jpg\n",
            "\u001b[1m1/1\u001b[0m \u001b[32m━━━━━━━━━━━━━━━━━━━━\u001b[0m\u001b[37m\u001b[0m \u001b[1m0s\u001b[0m 35ms/step\n"
          ]
        },
        {
          "output_type": "stream",
          "name": "stderr",
          "text": [
            "\r 23%|██▎       | 263/1141 [00:25<01:21, 10.81it/s]"
          ]
        },
        {
          "output_type": "stream",
          "name": "stdout",
          "text": [
            "Tr-me_0290.jpg -> Class: pituitary, Confidence: 0.99\n",
            "Moving Tr-me_0290.jpg to BT100/Training/pituitary/20250328_234047_Tr-me_0290.jpg\n",
            "\u001b[1m1/1\u001b[0m \u001b[32m━━━━━━━━━━━━━━━━━━━━\u001b[0m\u001b[37m\u001b[0m \u001b[1m0s\u001b[0m 33ms/step\n",
            "Tr-no_1001.jpg -> Class: notumor, Confidence: 1.00\n",
            "Moving Tr-no_1001.jpg to BT100/Training/notumor/20250328_234047_Tr-no_1001.jpg\n",
            "\u001b[1m1/1\u001b[0m \u001b[32m━━━━━━━━━━━━━━━━━━━━\u001b[0m\u001b[37m\u001b[0m \u001b[1m0s\u001b[0m 38ms/step\n"
          ]
        },
        {
          "output_type": "stream",
          "name": "stderr",
          "text": [
            "\r 23%|██▎       | 265/1141 [00:25<01:30,  9.67it/s]"
          ]
        },
        {
          "output_type": "stream",
          "name": "stdout",
          "text": [
            "Tr-no_0024.jpg -> Class: notumor, Confidence: 1.00\n",
            "Moving Tr-no_0024.jpg to BT100/Training/notumor/20250328_234047_Tr-no_0024.jpg\n",
            "\u001b[1m1/1\u001b[0m \u001b[32m━━━━━━━━━━━━━━━━━━━━\u001b[0m\u001b[37m\u001b[0m \u001b[1m0s\u001b[0m 31ms/step\n",
            "Tr-no_0492.jpg -> Class: notumor, Confidence: 1.00\n",
            "Moving Tr-no_0492.jpg to BT100/Training/notumor/20250328_234047_Tr-no_0492.jpg\n",
            "\u001b[1m1/1\u001b[0m \u001b[32m━━━━━━━━━━━━━━━━━━━━\u001b[0m\u001b[37m\u001b[0m \u001b[1m0s\u001b[0m 31ms/step\n"
          ]
        },
        {
          "output_type": "stream",
          "name": "stderr",
          "text": [
            "\r 23%|██▎       | 267/1141 [00:25<01:21, 10.76it/s]"
          ]
        },
        {
          "output_type": "stream",
          "name": "stdout",
          "text": [
            "Tr-gl_0332.jpg -> Class: glioma, Confidence: 1.00\n",
            "Moving Tr-gl_0332.jpg to BT100/Training/glioma/20250328_234047_Tr-gl_0332.jpg\n",
            "\u001b[1m1/1\u001b[0m \u001b[32m━━━━━━━━━━━━━━━━━━━━\u001b[0m\u001b[37m\u001b[0m \u001b[1m0s\u001b[0m 32ms/step\n",
            "Tr-no_0498.jpg -> Class: notumor, Confidence: 1.00\n",
            "Moving Tr-no_0498.jpg to BT100/Training/notumor/20250328_234047_Tr-no_0498.jpg\n",
            "\u001b[1m1/1\u001b[0m \u001b[32m━━━━━━━━━━━━━━━━━━━━\u001b[0m\u001b[37m\u001b[0m \u001b[1m0s\u001b[0m 34ms/step\n"
          ]
        },
        {
          "output_type": "stream",
          "name": "stderr",
          "text": [
            "\r 24%|██▎       | 269/1141 [00:25<01:15, 11.50it/s]"
          ]
        },
        {
          "output_type": "stream",
          "name": "stdout",
          "text": [
            "Tr-no_1481.jpg -> Class: notumor, Confidence: 1.00\n",
            "Moving Tr-no_1481.jpg to BT100/Training/notumor/20250328_234047_Tr-no_1481.jpg\n",
            "\u001b[1m1/1\u001b[0m \u001b[32m━━━━━━━━━━━━━━━━━━━━\u001b[0m\u001b[37m\u001b[0m \u001b[1m0s\u001b[0m 43ms/step\n",
            "Tr-me_0941.jpg -> Class: pituitary, Confidence: 0.65\n",
            "Moved low-confidence image Tr-me_0941.jpg to BT100/low_confidence\n",
            "\u001b[1m1/1\u001b[0m \u001b[32m━━━━━━━━━━━━━━━━━━━━\u001b[0m\u001b[37m\u001b[0m \u001b[1m0s\u001b[0m 29ms/step\n"
          ]
        },
        {
          "output_type": "stream",
          "name": "stderr",
          "text": [
            "\r 24%|██▍       | 271/1141 [00:25<01:13, 11.86it/s]"
          ]
        },
        {
          "output_type": "stream",
          "name": "stdout",
          "text": [
            "Tr-no_1079.jpg -> Class: notumor, Confidence: 1.00\n",
            "Moving Tr-no_1079.jpg to BT100/Training/notumor/20250328_234047_Tr-no_1079.jpg\n",
            "\u001b[1m1/1\u001b[0m \u001b[32m━━━━━━━━━━━━━━━━━━━━\u001b[0m\u001b[37m\u001b[0m \u001b[1m0s\u001b[0m 32ms/step\n",
            "Tr-no_1458.jpg -> Class: notumor, Confidence: 1.00\n",
            "Moving Tr-no_1458.jpg to BT100/Training/notumor/20250328_234047_Tr-no_1458.jpg\n",
            "\u001b[1m1/1\u001b[0m \u001b[32m━━━━━━━━━━━━━━━━━━━━\u001b[0m\u001b[37m\u001b[0m \u001b[1m0s\u001b[0m 35ms/step\n"
          ]
        },
        {
          "output_type": "stream",
          "name": "stderr",
          "text": [
            "\r 24%|██▍       | 273/1141 [00:26<01:10, 12.35it/s]"
          ]
        },
        {
          "output_type": "stream",
          "name": "stdout",
          "text": [
            "Tr-gl_0053.jpg -> Class: glioma, Confidence: 0.99\n",
            "Moving Tr-gl_0053.jpg to BT100/Training/glioma/20250328_234047_Tr-gl_0053.jpg\n",
            "\u001b[1m1/1\u001b[0m \u001b[32m━━━━━━━━━━━━━━━━━━━━\u001b[0m\u001b[37m\u001b[0m \u001b[1m0s\u001b[0m 34ms/step\n",
            "Tr-me_1052.jpg -> Class: meningioma, Confidence: 1.00\n",
            "Moving Tr-me_1052.jpg to BT100/Training/meningioma/20250328_234048_Tr-me_1052.jpg\n",
            "\u001b[1m1/1\u001b[0m \u001b[32m━━━━━━━━━━━━━━━━━━━━\u001b[0m\u001b[37m\u001b[0m \u001b[1m0s\u001b[0m 31ms/step\n"
          ]
        },
        {
          "output_type": "stream",
          "name": "stderr",
          "text": [
            "\r 24%|██▍       | 275/1141 [00:26<01:13, 11.75it/s]"
          ]
        },
        {
          "output_type": "stream",
          "name": "stdout",
          "text": [
            "Tr-gl_1015.jpg -> Class: glioma, Confidence: 0.94\n",
            "Moved low-confidence image Tr-gl_1015.jpg to BT100/low_confidence\n",
            "\u001b[1m1/1\u001b[0m \u001b[32m━━━━━━━━━━━━━━━━━━━━\u001b[0m\u001b[37m\u001b[0m \u001b[1m0s\u001b[0m 34ms/step\n",
            "Tr-gl_1038.jpg -> Class: glioma, Confidence: 1.00\n",
            "Moving Tr-gl_1038.jpg to BT100/Training/glioma/20250328_234048_Tr-gl_1038.jpg\n",
            "\u001b[1m1/1\u001b[0m \u001b[32m━━━━━━━━━━━━━━━━━━━━\u001b[0m\u001b[37m\u001b[0m \u001b[1m0s\u001b[0m 41ms/step\n"
          ]
        },
        {
          "output_type": "stream",
          "name": "stderr",
          "text": [
            "\r 24%|██▍       | 277/1141 [00:26<01:23, 10.31it/s]"
          ]
        },
        {
          "output_type": "stream",
          "name": "stdout",
          "text": [
            "Tr-no_0104.jpg -> Class: notumor, Confidence: 1.00\n",
            "Moving Tr-no_0104.jpg to BT100/Training/notumor/20250328_234048_Tr-no_0104.jpg\n",
            "\u001b[1m1/1\u001b[0m \u001b[32m━━━━━━━━━━━━━━━━━━━━\u001b[0m\u001b[37m\u001b[0m \u001b[1m0s\u001b[0m 32ms/step\n",
            "Tr-gl_0138.jpg -> Class: glioma, Confidence: 1.00\n",
            "Moving Tr-gl_0138.jpg to BT100/Training/glioma/20250328_234048_Tr-gl_0138.jpg\n",
            "\u001b[1m1/1\u001b[0m \u001b[32m━━━━━━━━━━━━━━━━━━━━\u001b[0m\u001b[37m\u001b[0m \u001b[1m0s\u001b[0m 32ms/step\n"
          ]
        },
        {
          "output_type": "stream",
          "name": "stderr",
          "text": [
            "\r 24%|██▍       | 279/1141 [00:26<01:22, 10.43it/s]"
          ]
        },
        {
          "output_type": "stream",
          "name": "stdout",
          "text": [
            "Tr-me_0650.jpg -> Class: meningioma, Confidence: 1.00\n",
            "Moving Tr-me_0650.jpg to BT100/Training/meningioma/20250328_234048_Tr-me_0650.jpg\n",
            "\u001b[1m1/1\u001b[0m \u001b[32m━━━━━━━━━━━━━━━━━━━━\u001b[0m\u001b[37m\u001b[0m \u001b[1m0s\u001b[0m 35ms/step\n",
            "Tr-pi_1136.jpg -> Class: pituitary, Confidence: 1.00\n",
            "Moving Tr-pi_1136.jpg to BT100/Training/pituitary/20250328_234048_Tr-pi_1136.jpg\n",
            "\u001b[1m1/1\u001b[0m \u001b[32m━━━━━━━━━━━━━━━━━━━━\u001b[0m\u001b[37m\u001b[0m \u001b[1m0s\u001b[0m 38ms/step\n"
          ]
        },
        {
          "output_type": "stream",
          "name": "stderr",
          "text": [
            "\r 25%|██▍       | 281/1141 [00:26<01:23, 10.28it/s]"
          ]
        },
        {
          "output_type": "stream",
          "name": "stdout",
          "text": [
            "Tr-pi_1270.jpg -> Class: pituitary, Confidence: 1.00\n",
            "Moving Tr-pi_1270.jpg to BT100/Training/pituitary/20250328_234048_Tr-pi_1270.jpg\n",
            "\u001b[1m1/1\u001b[0m \u001b[32m━━━━━━━━━━━━━━━━━━━━\u001b[0m\u001b[37m\u001b[0m \u001b[1m0s\u001b[0m 31ms/step\n",
            "Tr-pi_1220.jpg -> Class: pituitary, Confidence: 1.00\n",
            "Moving Tr-pi_1220.jpg to BT100/Training/pituitary/20250328_234048_Tr-pi_1220.jpg\n",
            "\u001b[1m1/1\u001b[0m \u001b[32m━━━━━━━━━━━━━━━━━━━━\u001b[0m\u001b[37m\u001b[0m \u001b[1m0s\u001b[0m 32ms/step\n"
          ]
        },
        {
          "output_type": "stream",
          "name": "stderr",
          "text": [
            "\r 25%|██▍       | 283/1141 [00:27<01:17, 11.13it/s]"
          ]
        },
        {
          "output_type": "stream",
          "name": "stdout",
          "text": [
            "Tr-pi_0255.jpg -> Class: pituitary, Confidence: 1.00\n",
            "Moving Tr-pi_0255.jpg to BT100/Training/pituitary/20250328_234048_Tr-pi_0255.jpg\n",
            "\u001b[1m1/1\u001b[0m \u001b[32m━━━━━━━━━━━━━━━━━━━━\u001b[0m\u001b[37m\u001b[0m \u001b[1m0s\u001b[0m 31ms/step\n",
            "Tr-no_1386.jpg -> Class: notumor, Confidence: 1.00\n",
            "Moving Tr-no_1386.jpg to BT100/Training/notumor/20250328_234049_Tr-no_1386.jpg\n",
            "\u001b[1m1/1\u001b[0m \u001b[32m━━━━━━━━━━━━━━━━━━━━\u001b[0m\u001b[37m\u001b[0m \u001b[1m0s\u001b[0m 37ms/step\n"
          ]
        },
        {
          "output_type": "stream",
          "name": "stderr",
          "text": [
            "\r 25%|██▍       | 285/1141 [00:27<01:18, 10.91it/s]"
          ]
        },
        {
          "output_type": "stream",
          "name": "stdout",
          "text": [
            "Tr-gl_0751.jpg -> Class: glioma, Confidence: 1.00\n",
            "Moving Tr-gl_0751.jpg to BT100/Training/glioma/20250328_234049_Tr-gl_0751.jpg\n",
            "\u001b[1m1/1\u001b[0m \u001b[32m━━━━━━━━━━━━━━━━━━━━\u001b[0m\u001b[37m\u001b[0m \u001b[1m0s\u001b[0m 35ms/step\n",
            "Tr-no_0957.jpg -> Class: notumor, Confidence: 1.00\n",
            "Moving Tr-no_0957.jpg to BT100/Training/notumor/20250328_234049_Tr-no_0957.jpg\n",
            "\u001b[1m1/1\u001b[0m \u001b[32m━━━━━━━━━━━━━━━━━━━━\u001b[0m\u001b[37m\u001b[0m \u001b[1m0s\u001b[0m 41ms/step\n"
          ]
        },
        {
          "output_type": "stream",
          "name": "stderr",
          "text": [
            "\r 25%|██▌       | 287/1141 [00:27<01:20, 10.63it/s]"
          ]
        },
        {
          "output_type": "stream",
          "name": "stdout",
          "text": [
            "Tr-no_0485.jpg -> Class: notumor, Confidence: 1.00\n",
            "Moving Tr-no_0485.jpg to BT100/Training/notumor/20250328_234049_Tr-no_0485.jpg\n",
            "\u001b[1m1/1\u001b[0m \u001b[32m━━━━━━━━━━━━━━━━━━━━\u001b[0m\u001b[37m\u001b[0m \u001b[1m0s\u001b[0m 33ms/step\n",
            "Tr-me_1161.jpg -> Class: meningioma, Confidence: 1.00\n",
            "Moving Tr-me_1161.jpg to BT100/Training/meningioma/20250328_234049_Tr-me_1161.jpg\n",
            "\u001b[1m1/1\u001b[0m \u001b[32m━━━━━━━━━━━━━━━━━━━━\u001b[0m\u001b[37m\u001b[0m \u001b[1m0s\u001b[0m 35ms/step\n"
          ]
        },
        {
          "output_type": "stream",
          "name": "stderr",
          "text": [
            "\r 25%|██▌       | 289/1141 [00:27<01:25,  9.95it/s]"
          ]
        },
        {
          "output_type": "stream",
          "name": "stdout",
          "text": [
            "Tr-pi_0861.jpg -> Class: pituitary, Confidence: 1.00\n",
            "Moving Tr-pi_0861.jpg to BT100/Training/pituitary/20250328_234049_Tr-pi_0861.jpg\n",
            "\u001b[1m1/1\u001b[0m \u001b[32m━━━━━━━━━━━━━━━━━━━━\u001b[0m\u001b[37m\u001b[0m \u001b[1m0s\u001b[0m 31ms/step\n",
            "Tr-gl_0753.jpg -> Class: glioma, Confidence: 1.00\n",
            "Moving Tr-gl_0753.jpg to BT100/Training/glioma/20250328_234049_Tr-gl_0753.jpg\n",
            "\u001b[1m1/1\u001b[0m \u001b[32m━━━━━━━━━━━━━━━━━━━━\u001b[0m\u001b[37m\u001b[0m \u001b[1m0s\u001b[0m 32ms/step\n"
          ]
        },
        {
          "output_type": "stream",
          "name": "stderr",
          "text": [
            "\r 26%|██▌       | 291/1141 [00:27<01:18, 10.81it/s]"
          ]
        },
        {
          "output_type": "stream",
          "name": "stdout",
          "text": [
            "Tr-me_1319.jpg -> Class: meningioma, Confidence: 1.00\n",
            "Moving Tr-me_1319.jpg to BT100/Training/meningioma/20250328_234049_Tr-me_1319.jpg\n",
            "\u001b[1m1/1\u001b[0m \u001b[32m━━━━━━━━━━━━━━━━━━━━\u001b[0m\u001b[37m\u001b[0m \u001b[1m0s\u001b[0m 35ms/step\n",
            "Tr-gl_0296.jpg -> Class: glioma, Confidence: 1.00\n",
            "Moving Tr-gl_0296.jpg to BT100/Training/glioma/20250328_234049_Tr-gl_0296.jpg\n",
            "\u001b[1m1/1\u001b[0m \u001b[32m━━━━━━━━━━━━━━━━━━━━\u001b[0m\u001b[37m\u001b[0m \u001b[1m0s\u001b[0m 34ms/step\n"
          ]
        },
        {
          "output_type": "stream",
          "name": "stderr",
          "text": [
            "\r 26%|██▌       | 293/1141 [00:27<01:18, 10.77it/s]"
          ]
        },
        {
          "output_type": "stream",
          "name": "stdout",
          "text": [
            "Tr-no_1173.jpg -> Class: notumor, Confidence: 1.00\n",
            "Moving Tr-no_1173.jpg to BT100/Training/notumor/20250328_234049_Tr-no_1173.jpg\n",
            "\u001b[1m1/1\u001b[0m \u001b[32m━━━━━━━━━━━━━━━━━━━━\u001b[0m\u001b[37m\u001b[0m \u001b[1m0s\u001b[0m 33ms/step\n",
            "Tr-pi_1335.jpg -> Class: pituitary, Confidence: 1.00\n",
            "Moving Tr-pi_1335.jpg to BT100/Training/pituitary/20250328_234050_Tr-pi_1335.jpg\n",
            "\u001b[1m1/1\u001b[0m \u001b[32m━━━━━━━━━━━━━━━━━━━━\u001b[0m\u001b[37m\u001b[0m \u001b[1m0s\u001b[0m 30ms/step\n"
          ]
        },
        {
          "output_type": "stream",
          "name": "stderr",
          "text": [
            "\r 26%|██▌       | 295/1141 [00:28<01:18, 10.78it/s]"
          ]
        },
        {
          "output_type": "stream",
          "name": "stdout",
          "text": [
            "Tr-gl_1267.jpg -> Class: glioma, Confidence: 1.00\n",
            "Moving Tr-gl_1267.jpg to BT100/Training/glioma/20250328_234050_Tr-gl_1267.jpg\n",
            "\u001b[1m1/1\u001b[0m \u001b[32m━━━━━━━━━━━━━━━━━━━━\u001b[0m\u001b[37m\u001b[0m \u001b[1m0s\u001b[0m 36ms/step\n",
            "Tr-gl_1310.jpg -> Class: glioma, Confidence: 1.00\n",
            "Moving Tr-gl_1310.jpg to BT100/Training/glioma/20250328_234050_Tr-gl_1310.jpg\n",
            "\u001b[1m1/1\u001b[0m \u001b[32m━━━━━━━━━━━━━━━━━━━━\u001b[0m\u001b[37m\u001b[0m \u001b[1m0s\u001b[0m 38ms/step\n"
          ]
        },
        {
          "output_type": "stream",
          "name": "stderr",
          "text": [
            "\r 26%|██▌       | 297/1141 [00:28<01:19, 10.60it/s]"
          ]
        },
        {
          "output_type": "stream",
          "name": "stdout",
          "text": [
            "Tr-no_0439.jpg -> Class: notumor, Confidence: 1.00\n",
            "Moving Tr-no_0439.jpg to BT100/Training/notumor/20250328_234050_Tr-no_0439.jpg\n",
            "\u001b[1m1/1\u001b[0m \u001b[32m━━━━━━━━━━━━━━━━━━━━\u001b[0m\u001b[37m\u001b[0m \u001b[1m0s\u001b[0m 33ms/step\n",
            "Tr-pi_0751.jpg -> Class: pituitary, Confidence: 1.00\n",
            "Moving Tr-pi_0751.jpg to BT100/Training/pituitary/20250328_234050_Tr-pi_0751.jpg\n",
            "\u001b[1m1/1\u001b[0m \u001b[32m━━━━━━━━━━━━━━━━━━━━\u001b[0m\u001b[37m\u001b[0m \u001b[1m0s\u001b[0m 35ms/step\n"
          ]
        },
        {
          "output_type": "stream",
          "name": "stderr",
          "text": [
            "\r 26%|██▌       | 299/1141 [00:28<01:20, 10.49it/s]"
          ]
        },
        {
          "output_type": "stream",
          "name": "stdout",
          "text": [
            "Tr-no_1047.jpg -> Class: notumor, Confidence: 1.00\n",
            "Moving Tr-no_1047.jpg to BT100/Training/notumor/20250328_234050_Tr-no_1047.jpg\n",
            "\u001b[1m1/1\u001b[0m \u001b[32m━━━━━━━━━━━━━━━━━━━━\u001b[0m\u001b[37m\u001b[0m \u001b[1m0s\u001b[0m 31ms/step\n",
            "Tr-pi_1111.jpg -> Class: pituitary, Confidence: 1.00\n",
            "Moving Tr-pi_1111.jpg to BT100/Training/pituitary/20250328_234050_Tr-pi_1111.jpg\n",
            "\u001b[1m1/1\u001b[0m \u001b[32m━━━━━━━━━━━━━━━━━━━━\u001b[0m\u001b[37m\u001b[0m \u001b[1m0s\u001b[0m 31ms/step\n"
          ]
        },
        {
          "output_type": "stream",
          "name": "stderr",
          "text": [
            "\r 26%|██▋       | 301/1141 [00:28<01:15, 11.16it/s]"
          ]
        },
        {
          "output_type": "stream",
          "name": "stdout",
          "text": [
            "Tr-me_0691.jpg -> Class: meningioma, Confidence: 1.00\n",
            "Moving Tr-me_0691.jpg to BT100/Training/meningioma/20250328_234050_Tr-me_0691.jpg\n",
            "\u001b[1m1/1\u001b[0m \u001b[32m━━━━━━━━━━━━━━━━━━━━\u001b[0m\u001b[37m\u001b[0m \u001b[1m0s\u001b[0m 34ms/step\n",
            "Tr-me_0586.jpg -> Class: meningioma, Confidence: 1.00\n",
            "Moving Tr-me_0586.jpg to BT100/Training/meningioma/20250328_234050_Tr-me_0586.jpg\n",
            "\u001b[1m1/1\u001b[0m \u001b[32m━━━━━━━━━━━━━━━━━━━━\u001b[0m\u001b[37m\u001b[0m \u001b[1m0s\u001b[0m 34ms/step\n"
          ]
        },
        {
          "output_type": "stream",
          "name": "stderr",
          "text": [
            "\r 27%|██▋       | 303/1141 [00:28<01:10, 11.87it/s]"
          ]
        },
        {
          "output_type": "stream",
          "name": "stdout",
          "text": [
            "Tr-me_0280.jpg -> Class: meningioma, Confidence: 1.00\n",
            "Moving Tr-me_0280.jpg to BT100/Training/meningioma/20250328_234050_Tr-me_0280.jpg\n",
            "\u001b[1m1/1\u001b[0m \u001b[32m━━━━━━━━━━━━━━━━━━━━\u001b[0m\u001b[37m\u001b[0m \u001b[1m0s\u001b[0m 38ms/step\n",
            "Tr-no_0615.jpg -> Class: notumor, Confidence: 1.00\n",
            "Moving Tr-no_0615.jpg to BT100/Training/notumor/20250328_234050_Tr-no_0615.jpg\n",
            "\u001b[1m1/1\u001b[0m \u001b[32m━━━━━━━━━━━━━━━━━━━━\u001b[0m\u001b[37m\u001b[0m \u001b[1m0s\u001b[0m 30ms/step\n"
          ]
        },
        {
          "output_type": "stream",
          "name": "stderr",
          "text": [
            "\r 27%|██▋       | 305/1141 [00:29<01:13, 11.34it/s]"
          ]
        },
        {
          "output_type": "stream",
          "name": "stdout",
          "text": [
            "Tr-no_0136.jpg -> Class: notumor, Confidence: 1.00\n",
            "Moving Tr-no_0136.jpg to BT100/Training/notumor/20250328_234050_Tr-no_0136.jpg\n",
            "\u001b[1m1/1\u001b[0m \u001b[32m━━━━━━━━━━━━━━━━━━━━\u001b[0m\u001b[37m\u001b[0m \u001b[1m0s\u001b[0m 34ms/step\n",
            "Tr-gl_0912.jpg -> Class: glioma, Confidence: 1.00\n",
            "Moving Tr-gl_0912.jpg to BT100/Training/glioma/20250328_234051_Tr-gl_0912.jpg\n",
            "\u001b[1m1/1\u001b[0m \u001b[32m━━━━━━━━━━━━━━━━━━━━\u001b[0m\u001b[37m\u001b[0m \u001b[1m0s\u001b[0m 30ms/step\n"
          ]
        },
        {
          "output_type": "stream",
          "name": "stderr",
          "text": [
            "\r 27%|██▋       | 307/1141 [00:29<01:15, 11.11it/s]"
          ]
        },
        {
          "output_type": "stream",
          "name": "stdout",
          "text": [
            "Tr-pi_0281.jpg -> Class: pituitary, Confidence: 1.00\n",
            "Moving Tr-pi_0281.jpg to BT100/Training/pituitary/20250328_234051_Tr-pi_0281.jpg\n",
            "\u001b[1m1/1\u001b[0m \u001b[32m━━━━━━━━━━━━━━━━━━━━\u001b[0m\u001b[37m\u001b[0m \u001b[1m0s\u001b[0m 33ms/step\n",
            "Tr-gl_0205.jpg -> Class: glioma, Confidence: 1.00\n",
            "Moving Tr-gl_0205.jpg to BT100/Training/glioma/20250328_234051_Tr-gl_0205.jpg\n",
            "\u001b[1m1/1\u001b[0m \u001b[32m━━━━━━━━━━━━━━━━━━━━\u001b[0m\u001b[37m\u001b[0m \u001b[1m0s\u001b[0m 33ms/step\n"
          ]
        },
        {
          "output_type": "stream",
          "name": "stderr",
          "text": [
            "\r 27%|██▋       | 309/1141 [00:29<01:16, 10.83it/s]"
          ]
        },
        {
          "output_type": "stream",
          "name": "stdout",
          "text": [
            "Tr-pi_0369.jpg -> Class: pituitary, Confidence: 1.00\n",
            "Moving Tr-pi_0369.jpg to BT100/Training/pituitary/20250328_234051_Tr-pi_0369.jpg\n",
            "\u001b[1m1/1\u001b[0m \u001b[32m━━━━━━━━━━━━━━━━━━━━\u001b[0m\u001b[37m\u001b[0m \u001b[1m0s\u001b[0m 31ms/step\n",
            "Tr-gl_0854.jpg -> Class: glioma, Confidence: 1.00\n",
            "Moving Tr-gl_0854.jpg to BT100/Training/glioma/20250328_234051_Tr-gl_0854.jpg\n",
            "\u001b[1m1/1\u001b[0m \u001b[32m━━━━━━━━━━━━━━━━━━━━\u001b[0m\u001b[37m\u001b[0m \u001b[1m0s\u001b[0m 32ms/step\n"
          ]
        },
        {
          "output_type": "stream",
          "name": "stderr",
          "text": [
            "\r 27%|██▋       | 311/1141 [00:29<01:12, 11.52it/s]"
          ]
        },
        {
          "output_type": "stream",
          "name": "stdout",
          "text": [
            "Tr-pi_1008.jpg -> Class: pituitary, Confidence: 1.00\n",
            "Moving Tr-pi_1008.jpg to BT100/Training/pituitary/20250328_234051_Tr-pi_1008.jpg\n",
            "\u001b[1m1/1\u001b[0m \u001b[32m━━━━━━━━━━━━━━━━━━━━\u001b[0m\u001b[37m\u001b[0m \u001b[1m0s\u001b[0m 30ms/step\n",
            "Tr-no_0438.jpg -> Class: notumor, Confidence: 1.00\n",
            "Moving Tr-no_0438.jpg to BT100/Training/notumor/20250328_234051_Tr-no_0438.jpg\n",
            "\u001b[1m1/1\u001b[0m \u001b[32m━━━━━━━━━━━━━━━━━━━━\u001b[0m\u001b[37m\u001b[0m \u001b[1m0s\u001b[0m 35ms/step\n"
          ]
        },
        {
          "output_type": "stream",
          "name": "stderr",
          "text": [
            "\r 27%|██▋       | 313/1141 [00:29<01:08, 12.09it/s]"
          ]
        },
        {
          "output_type": "stream",
          "name": "stdout",
          "text": [
            "Tr-no_1428.jpg -> Class: notumor, Confidence: 1.00\n",
            "Moving Tr-no_1428.jpg to BT100/Training/notumor/20250328_234051_Tr-no_1428.jpg\n",
            "\u001b[1m1/1\u001b[0m \u001b[32m━━━━━━━━━━━━━━━━━━━━\u001b[0m\u001b[37m\u001b[0m \u001b[1m0s\u001b[0m 54ms/step\n",
            "Tr-me_0681.jpg -> Class: meningioma, Confidence: 1.00\n",
            "Moving Tr-me_0681.jpg to BT100/Training/meningioma/20250328_234051_Tr-me_0681.jpg\n",
            "\u001b[1m1/1\u001b[0m \u001b[32m━━━━━━━━━━━━━━━━━━━━\u001b[0m\u001b[37m\u001b[0m \u001b[1m0s\u001b[0m 57ms/step\n"
          ]
        },
        {
          "output_type": "stream",
          "name": "stderr",
          "text": [
            "\r 28%|██▊       | 315/1141 [00:29<01:19, 10.45it/s]"
          ]
        },
        {
          "output_type": "stream",
          "name": "stdout",
          "text": [
            "Tr-no_0264.jpg -> Class: notumor, Confidence: 1.00\n",
            "Moving Tr-no_0264.jpg to BT100/Training/notumor/20250328_234051_Tr-no_0264.jpg\n",
            "\u001b[1m1/1\u001b[0m \u001b[32m━━━━━━━━━━━━━━━━━━━━\u001b[0m\u001b[37m\u001b[0m \u001b[1m0s\u001b[0m 45ms/step\n",
            "Tr-gl_0308.jpg -> Class: glioma, Confidence: 1.00\n",
            "Moving Tr-gl_0308.jpg to BT100/Training/glioma/20250328_234052_Tr-gl_0308.jpg\n",
            "\u001b[1m1/1\u001b[0m \u001b[32m━━━━━━━━━━━━━━━━━━━━\u001b[0m\u001b[37m\u001b[0m \u001b[1m0s\u001b[0m 54ms/step\n"
          ]
        },
        {
          "output_type": "stream",
          "name": "stderr",
          "text": [
            "\r 28%|██▊       | 317/1141 [00:30<01:28,  9.31it/s]"
          ]
        },
        {
          "output_type": "stream",
          "name": "stdout",
          "text": [
            "Tr-gl_0801.jpg -> Class: glioma, Confidence: 1.00\n",
            "Moving Tr-gl_0801.jpg to BT100/Training/glioma/20250328_234052_Tr-gl_0801.jpg\n",
            "\u001b[1m1/1\u001b[0m \u001b[32m━━━━━━━━━━━━━━━━━━━━\u001b[0m\u001b[37m\u001b[0m \u001b[1m0s\u001b[0m 53ms/step\n"
          ]
        },
        {
          "output_type": "stream",
          "name": "stderr",
          "text": [
            "\r 28%|██▊       | 318/1141 [00:30<01:33,  8.84it/s]"
          ]
        },
        {
          "output_type": "stream",
          "name": "stdout",
          "text": [
            "Tr-me_0278.jpg -> Class: meningioma, Confidence: 1.00\n",
            "Moving Tr-me_0278.jpg to BT100/Training/meningioma/20250328_234052_Tr-me_0278.jpg\n",
            "\u001b[1m1/1\u001b[0m \u001b[32m━━━━━━━━━━━━━━━━━━━━\u001b[0m\u001b[37m\u001b[0m \u001b[1m0s\u001b[0m 53ms/step\n"
          ]
        },
        {
          "output_type": "stream",
          "name": "stderr",
          "text": [
            "\r 28%|██▊       | 319/1141 [00:30<01:32,  8.93it/s]"
          ]
        },
        {
          "output_type": "stream",
          "name": "stdout",
          "text": [
            "Tr-no_1044.jpg -> Class: notumor, Confidence: 1.00\n",
            "Moving Tr-no_1044.jpg to BT100/Training/notumor/20250328_234052_Tr-no_1044.jpg\n",
            "\u001b[1m1/1\u001b[0m \u001b[32m━━━━━━━━━━━━━━━━━━━━\u001b[0m\u001b[37m\u001b[0m \u001b[1m0s\u001b[0m 44ms/step\n"
          ]
        },
        {
          "output_type": "stream",
          "name": "stderr",
          "text": [
            "\r 28%|██▊       | 320/1141 [00:30<01:35,  8.56it/s]"
          ]
        },
        {
          "output_type": "stream",
          "name": "stdout",
          "text": [
            "Tr-gl_1284.jpg -> Class: glioma, Confidence: 1.00\n",
            "Moving Tr-gl_1284.jpg to BT100/Training/glioma/20250328_234052_Tr-gl_1284.jpg\n",
            "\u001b[1m1/1\u001b[0m \u001b[32m━━━━━━━━━━━━━━━━━━━━\u001b[0m\u001b[37m\u001b[0m \u001b[1m0s\u001b[0m 44ms/step\n"
          ]
        },
        {
          "output_type": "stream",
          "name": "stderr",
          "text": [
            "\r 28%|██▊       | 321/1141 [00:30<01:38,  8.30it/s]"
          ]
        },
        {
          "output_type": "stream",
          "name": "stdout",
          "text": [
            "Tr-pi_0653.jpg -> Class: pituitary, Confidence: 1.00\n",
            "Moving Tr-pi_0653.jpg to BT100/Training/pituitary/20250328_234052_Tr-pi_0653.jpg\n",
            "\u001b[1m1/1\u001b[0m \u001b[32m━━━━━━━━━━━━━━━━━━━━\u001b[0m\u001b[37m\u001b[0m \u001b[1m0s\u001b[0m 51ms/step\n"
          ]
        },
        {
          "output_type": "stream",
          "name": "stderr",
          "text": [
            "\r 28%|██▊       | 322/1141 [00:30<01:41,  8.04it/s]"
          ]
        },
        {
          "output_type": "stream",
          "name": "stdout",
          "text": [
            "Tr-gl_0595.jpg -> Class: glioma, Confidence: 1.00\n",
            "Moving Tr-gl_0595.jpg to BT100/Training/glioma/20250328_234052_Tr-gl_0595.jpg\n",
            "\u001b[1m1/1\u001b[0m \u001b[32m━━━━━━━━━━━━━━━━━━━━\u001b[0m\u001b[37m\u001b[0m \u001b[1m0s\u001b[0m 65ms/step\n"
          ]
        },
        {
          "output_type": "stream",
          "name": "stderr",
          "text": [
            "\r 28%|██▊       | 323/1141 [00:31<01:43,  7.91it/s]"
          ]
        },
        {
          "output_type": "stream",
          "name": "stdout",
          "text": [
            "Tr-me_0716.jpg -> Class: meningioma, Confidence: 0.98\n",
            "Moved low-confidence image Tr-me_0716.jpg to BT100/low_confidence\n",
            "\u001b[1m1/1\u001b[0m \u001b[32m━━━━━━━━━━━━━━━━━━━━\u001b[0m\u001b[37m\u001b[0m \u001b[1m0s\u001b[0m 41ms/step\n"
          ]
        },
        {
          "output_type": "stream",
          "name": "stderr",
          "text": [
            "\r 28%|██▊       | 324/1141 [00:31<01:43,  7.89it/s]"
          ]
        },
        {
          "output_type": "stream",
          "name": "stdout",
          "text": [
            "Tr-gl_0971.jpg -> Class: meningioma, Confidence: 1.00\n",
            "Moving Tr-gl_0971.jpg to BT100/Training/meningioma/20250328_234053_Tr-gl_0971.jpg\n",
            "\u001b[1m1/1\u001b[0m \u001b[32m━━━━━━━━━━━━━━━━━━━━\u001b[0m\u001b[37m\u001b[0m \u001b[1m0s\u001b[0m 42ms/step\n"
          ]
        },
        {
          "output_type": "stream",
          "name": "stderr",
          "text": [
            "\r 28%|██▊       | 325/1141 [00:31<01:37,  8.35it/s]"
          ]
        },
        {
          "output_type": "stream",
          "name": "stdout",
          "text": [
            "Tr-no_1257.jpg -> Class: notumor, Confidence: 1.00\n",
            "Moving Tr-no_1257.jpg to BT100/Training/notumor/20250328_234053_Tr-no_1257.jpg\n",
            "\u001b[1m1/1\u001b[0m \u001b[32m━━━━━━━━━━━━━━━━━━━━\u001b[0m\u001b[37m\u001b[0m \u001b[1m0s\u001b[0m 59ms/step\n"
          ]
        },
        {
          "output_type": "stream",
          "name": "stderr",
          "text": [
            "\r 29%|██▊       | 326/1141 [00:31<01:36,  8.48it/s]"
          ]
        },
        {
          "output_type": "stream",
          "name": "stdout",
          "text": [
            "Tr-gl_0761.jpg -> Class: glioma, Confidence: 1.00\n",
            "Moving Tr-gl_0761.jpg to BT100/Training/glioma/20250328_234053_Tr-gl_0761.jpg\n",
            "\u001b[1m1/1\u001b[0m \u001b[32m━━━━━━━━━━━━━━━━━━━━\u001b[0m\u001b[37m\u001b[0m \u001b[1m0s\u001b[0m 61ms/step\n"
          ]
        },
        {
          "output_type": "stream",
          "name": "stderr",
          "text": [
            "\r 29%|██▊       | 327/1141 [00:31<01:38,  8.29it/s]"
          ]
        },
        {
          "output_type": "stream",
          "name": "stdout",
          "text": [
            "Tr-me_1321.jpg -> Class: meningioma, Confidence: 1.00\n",
            "Moving Tr-me_1321.jpg to BT100/Training/meningioma/20250328_234053_Tr-me_1321.jpg\n",
            "\u001b[1m1/1\u001b[0m \u001b[32m━━━━━━━━━━━━━━━━━━━━\u001b[0m\u001b[37m\u001b[0m \u001b[1m0s\u001b[0m 46ms/step\n"
          ]
        },
        {
          "output_type": "stream",
          "name": "stderr",
          "text": [
            "\r 29%|██▊       | 328/1141 [00:31<01:41,  7.99it/s]"
          ]
        },
        {
          "output_type": "stream",
          "name": "stdout",
          "text": [
            "Tr-pi_0830.jpg -> Class: pituitary, Confidence: 1.00\n",
            "Moving Tr-pi_0830.jpg to BT100/Training/pituitary/20250328_234053_Tr-pi_0830.jpg\n",
            "\u001b[1m1/1\u001b[0m \u001b[32m━━━━━━━━━━━━━━━━━━━━\u001b[0m\u001b[37m\u001b[0m \u001b[1m0s\u001b[0m 50ms/step\n"
          ]
        },
        {
          "output_type": "stream",
          "name": "stderr",
          "text": [
            "\r 29%|██▉       | 329/1141 [00:31<01:45,  7.66it/s]"
          ]
        },
        {
          "output_type": "stream",
          "name": "stdout",
          "text": [
            "Tr-me_1330.jpg -> Class: meningioma, Confidence: 1.00\n",
            "Moving Tr-me_1330.jpg to BT100/Training/meningioma/20250328_234053_Tr-me_1330.jpg\n",
            "\u001b[1m1/1\u001b[0m \u001b[32m━━━━━━━━━━━━━━━━━━━━\u001b[0m\u001b[37m\u001b[0m \u001b[1m0s\u001b[0m 49ms/step\n"
          ]
        },
        {
          "output_type": "stream",
          "name": "stderr",
          "text": [
            "\r 29%|██▉       | 330/1141 [00:31<01:40,  8.07it/s]"
          ]
        },
        {
          "output_type": "stream",
          "name": "stdout",
          "text": [
            "Tr-gl_0626.jpg -> Class: glioma, Confidence: 1.00\n",
            "Moving Tr-gl_0626.jpg to BT100/Training/glioma/20250328_234053_Tr-gl_0626.jpg\n",
            "\u001b[1m1/1\u001b[0m \u001b[32m━━━━━━━━━━━━━━━━━━━━\u001b[0m\u001b[37m\u001b[0m \u001b[1m0s\u001b[0m 51ms/step\n"
          ]
        },
        {
          "output_type": "stream",
          "name": "stderr",
          "text": [
            "\r 29%|██▉       | 331/1141 [00:32<01:38,  8.26it/s]"
          ]
        },
        {
          "output_type": "stream",
          "name": "stdout",
          "text": [
            "Tr-pi_0485.jpg -> Class: pituitary, Confidence: 1.00\n",
            "Moving Tr-pi_0485.jpg to BT100/Training/pituitary/20250328_234053_Tr-pi_0485.jpg\n",
            "\u001b[1m1/1\u001b[0m \u001b[32m━━━━━━━━━━━━━━━━━━━━\u001b[0m\u001b[37m\u001b[0m \u001b[1m0s\u001b[0m 65ms/step\n"
          ]
        },
        {
          "output_type": "stream",
          "name": "stderr",
          "text": [
            "\r 29%|██▉       | 332/1141 [00:32<01:48,  7.46it/s]"
          ]
        },
        {
          "output_type": "stream",
          "name": "stdout",
          "text": [
            "Tr-me_1224.jpg -> Class: meningioma, Confidence: 1.00\n",
            "Moving Tr-me_1224.jpg to BT100/Training/meningioma/20250328_234054_Tr-me_1224.jpg\n",
            "\u001b[1m1/1\u001b[0m \u001b[32m━━━━━━━━━━━━━━━━━━━━\u001b[0m\u001b[37m\u001b[0m \u001b[1m0s\u001b[0m 33ms/step\n",
            "Tr-gl_0534.jpg -> Class: glioma, Confidence: 1.00\n",
            "Moving Tr-gl_0534.jpg to BT100/Training/glioma/20250328_234054_Tr-gl_0534.jpg\n",
            "\u001b[1m1/1\u001b[0m \u001b[32m━━━━━━━━━━━━━━━━━━━━\u001b[0m\u001b[37m\u001b[0m \u001b[1m0s\u001b[0m 33ms/step\n"
          ]
        },
        {
          "output_type": "stream",
          "name": "stderr",
          "text": [
            "\r 29%|██▉       | 334/1141 [00:32<01:26,  9.36it/s]"
          ]
        },
        {
          "output_type": "stream",
          "name": "stdout",
          "text": [
            "Tr-pi_0065.jpg -> Class: pituitary, Confidence: 1.00\n",
            "Moving Tr-pi_0065.jpg to BT100/Training/pituitary/20250328_234054_Tr-pi_0065.jpg\n",
            "\u001b[1m1/1\u001b[0m \u001b[32m━━━━━━━━━━━━━━━━━━━━\u001b[0m\u001b[37m\u001b[0m \u001b[1m0s\u001b[0m 48ms/step\n"
          ]
        },
        {
          "output_type": "stream",
          "name": "stderr",
          "text": [
            "\r 29%|██▉       | 335/1141 [00:32<01:29,  8.96it/s]"
          ]
        },
        {
          "output_type": "stream",
          "name": "stdout",
          "text": [
            "Tr-gl_0567.jpg -> Class: glioma, Confidence: 1.00\n",
            "Moving Tr-gl_0567.jpg to BT100/Training/glioma/20250328_234054_Tr-gl_0567.jpg\n",
            "\u001b[1m1/1\u001b[0m \u001b[32m━━━━━━━━━━━━━━━━━━━━\u001b[0m\u001b[37m\u001b[0m \u001b[1m0s\u001b[0m 32ms/step\n",
            "Tr-no_1283.jpg -> Class: notumor, Confidence: 1.00\n",
            "Moving Tr-no_1283.jpg to BT100/Training/notumor/20250328_234054_Tr-no_1283.jpg\n",
            "\u001b[1m1/1\u001b[0m \u001b[32m━━━━━━━━━━━━━━━━━━━━\u001b[0m\u001b[37m\u001b[0m \u001b[1m0s\u001b[0m 34ms/step\n"
          ]
        },
        {
          "output_type": "stream",
          "name": "stderr",
          "text": [
            "\r 30%|██▉       | 337/1141 [00:32<01:18, 10.19it/s]"
          ]
        },
        {
          "output_type": "stream",
          "name": "stdout",
          "text": [
            "Tr-gl_0741.jpg -> Class: glioma, Confidence: 1.00\n",
            "Moving Tr-gl_0741.jpg to BT100/Training/glioma/20250328_234054_Tr-gl_0741.jpg\n",
            "\u001b[1m1/1\u001b[0m \u001b[32m━━━━━━━━━━━━━━━━━━━━\u001b[0m\u001b[37m\u001b[0m \u001b[1m0s\u001b[0m 32ms/step\n",
            "Tr-pi_0203.jpg -> Class: pituitary, Confidence: 1.00\n",
            "Moving Tr-pi_0203.jpg to BT100/Training/pituitary/20250328_234054_Tr-pi_0203.jpg\n",
            "\u001b[1m1/1\u001b[0m \u001b[32m━━━━━━━━━━━━━━━━━━━━\u001b[0m\u001b[37m\u001b[0m \u001b[1m0s\u001b[0m 33ms/step\n"
          ]
        },
        {
          "output_type": "stream",
          "name": "stderr",
          "text": [
            "\r 30%|██▉       | 339/1141 [00:32<01:12, 11.11it/s]"
          ]
        },
        {
          "output_type": "stream",
          "name": "stdout",
          "text": [
            "Tr-pi_0729.jpg -> Class: pituitary, Confidence: 1.00\n",
            "Moving Tr-pi_0729.jpg to BT100/Training/pituitary/20250328_234054_Tr-pi_0729.jpg\n",
            "\u001b[1m1/1\u001b[0m \u001b[32m━━━━━━━━━━━━━━━━━━━━\u001b[0m\u001b[37m\u001b[0m \u001b[1m0s\u001b[0m 38ms/step\n",
            "Tr-pi_0228.jpg -> Class: pituitary, Confidence: 1.00\n",
            "Moving Tr-pi_0228.jpg to BT100/Training/pituitary/20250328_234054_Tr-pi_0228.jpg\n",
            "\u001b[1m1/1\u001b[0m \u001b[32m━━━━━━━━━━━━━━━━━━━━\u001b[0m\u001b[37m\u001b[0m \u001b[1m0s\u001b[0m 34ms/step\n"
          ]
        },
        {
          "output_type": "stream",
          "name": "stderr",
          "text": [
            "\r 30%|██▉       | 341/1141 [00:32<01:16, 10.51it/s]"
          ]
        },
        {
          "output_type": "stream",
          "name": "stdout",
          "text": [
            "Tr-gl_0794.jpg -> Class: glioma, Confidence: 1.00\n",
            "Moving Tr-gl_0794.jpg to BT100/Training/glioma/20250328_234054_Tr-gl_0794.jpg\n",
            "\u001b[1m1/1\u001b[0m \u001b[32m━━━━━━━━━━━━━━━━━━━━\u001b[0m\u001b[37m\u001b[0m \u001b[1m0s\u001b[0m 34ms/step\n",
            "Tr-gl_0033.jpg -> Class: glioma, Confidence: 1.00\n",
            "Moving Tr-gl_0033.jpg to BT100/Training/glioma/20250328_234054_Tr-gl_0033.jpg\n",
            "\u001b[1m1/1\u001b[0m \u001b[32m━━━━━━━━━━━━━━━━━━━━\u001b[0m\u001b[37m\u001b[0m \u001b[1m0s\u001b[0m 32ms/step\n"
          ]
        },
        {
          "output_type": "stream",
          "name": "stderr",
          "text": [
            "\r 30%|███       | 343/1141 [00:33<01:16, 10.40it/s]"
          ]
        },
        {
          "output_type": "stream",
          "name": "stdout",
          "text": [
            "Tr-gl_0511.jpg -> Class: glioma, Confidence: 1.00\n",
            "Moving Tr-gl_0511.jpg to BT100/Training/glioma/20250328_234055_Tr-gl_0511.jpg\n",
            "\u001b[1m1/1\u001b[0m \u001b[32m━━━━━━━━━━━━━━━━━━━━\u001b[0m\u001b[37m\u001b[0m \u001b[1m0s\u001b[0m 33ms/step\n",
            "Tr-no_1310.jpg -> Class: notumor, Confidence: 1.00\n",
            "Moving Tr-no_1310.jpg to BT100/Training/notumor/20250328_234055_Tr-no_1310.jpg\n",
            "\u001b[1m1/1\u001b[0m \u001b[32m━━━━━━━━━━━━━━━━━━━━\u001b[0m\u001b[37m\u001b[0m \u001b[1m0s\u001b[0m 34ms/step\n"
          ]
        },
        {
          "output_type": "stream",
          "name": "stderr",
          "text": [
            "\r 30%|███       | 345/1141 [00:33<01:11, 11.14it/s]"
          ]
        },
        {
          "output_type": "stream",
          "name": "stdout",
          "text": [
            "Tr-pi_0538.jpg -> Class: pituitary, Confidence: 1.00\n",
            "Moving Tr-pi_0538.jpg to BT100/Training/pituitary/20250328_234055_Tr-pi_0538.jpg\n",
            "\u001b[1m1/1\u001b[0m \u001b[32m━━━━━━━━━━━━━━━━━━━━\u001b[0m\u001b[37m\u001b[0m \u001b[1m0s\u001b[0m 37ms/step\n",
            "Tr-gl_1025.jpg -> Class: glioma, Confidence: 0.97\n",
            "Moved low-confidence image Tr-gl_1025.jpg to BT100/low_confidence\n",
            "\u001b[1m1/1\u001b[0m \u001b[32m━━━━━━━━━━━━━━━━━━━━\u001b[0m\u001b[37m\u001b[0m \u001b[1m0s\u001b[0m 32ms/step\n"
          ]
        },
        {
          "output_type": "stream",
          "name": "stderr",
          "text": [
            "\r 30%|███       | 347/1141 [00:33<01:14, 10.73it/s]"
          ]
        },
        {
          "output_type": "stream",
          "name": "stdout",
          "text": [
            "Tr-pi_1094.jpg -> Class: pituitary, Confidence: 1.00\n",
            "Moving Tr-pi_1094.jpg to BT100/Training/pituitary/20250328_234055_Tr-pi_1094.jpg\n",
            "\u001b[1m1/1\u001b[0m \u001b[32m━━━━━━━━━━━━━━━━━━━━\u001b[0m\u001b[37m\u001b[0m \u001b[1m0s\u001b[0m 30ms/step\n",
            "Tr-no_0343.jpg -> Class: notumor, Confidence: 1.00\n",
            "Moving Tr-no_0343.jpg to BT100/Training/notumor/20250328_234055_Tr-no_0343.jpg\n",
            "\u001b[1m1/1\u001b[0m \u001b[32m━━━━━━━━━━━━━━━━━━━━\u001b[0m\u001b[37m\u001b[0m \u001b[1m0s\u001b[0m 31ms/step\n"
          ]
        },
        {
          "output_type": "stream",
          "name": "stderr",
          "text": [
            "\r 31%|███       | 349/1141 [00:33<01:08, 11.63it/s]"
          ]
        },
        {
          "output_type": "stream",
          "name": "stdout",
          "text": [
            "Tr-no_1591.jpg -> Class: notumor, Confidence: 1.00\n",
            "Moving Tr-no_1591.jpg to BT100/Training/notumor/20250328_234055_Tr-no_1591.jpg\n",
            "\u001b[1m1/1\u001b[0m \u001b[32m━━━━━━━━━━━━━━━━━━━━\u001b[0m\u001b[37m\u001b[0m \u001b[1m0s\u001b[0m 33ms/step\n",
            "Tr-no_1395.jpg -> Class: notumor, Confidence: 1.00\n",
            "Moving Tr-no_1395.jpg to BT100/Training/notumor/20250328_234055_Tr-no_1395.jpg\n",
            "\u001b[1m1/1\u001b[0m \u001b[32m━━━━━━━━━━━━━━━━━━━━\u001b[0m\u001b[37m\u001b[0m \u001b[1m0s\u001b[0m 32ms/step\n"
          ]
        },
        {
          "output_type": "stream",
          "name": "stderr",
          "text": [
            "\r 31%|███       | 351/1141 [00:33<01:09, 11.44it/s]"
          ]
        },
        {
          "output_type": "stream",
          "name": "stdout",
          "text": [
            "Tr-no_1559.jpg -> Class: notumor, Confidence: 1.00\n",
            "Moving Tr-no_1559.jpg to BT100/Training/notumor/20250328_234055_Tr-no_1559.jpg\n",
            "\u001b[1m1/1\u001b[0m \u001b[32m━━━━━━━━━━━━━━━━━━━━\u001b[0m\u001b[37m\u001b[0m \u001b[1m0s\u001b[0m 34ms/step\n",
            "Tr-me_0790.jpg -> Class: meningioma, Confidence: 1.00\n",
            "Moving Tr-me_0790.jpg to BT100/Training/meningioma/20250328_234055_Tr-me_0790.jpg\n",
            "\u001b[1m1/1\u001b[0m \u001b[32m━━━━━━━━━━━━━━━━━━━━\u001b[0m\u001b[37m\u001b[0m \u001b[1m0s\u001b[0m 30ms/step\n"
          ]
        },
        {
          "output_type": "stream",
          "name": "stderr",
          "text": [
            "\r 31%|███       | 353/1141 [00:33<01:05, 11.98it/s]"
          ]
        },
        {
          "output_type": "stream",
          "name": "stdout",
          "text": [
            "Tr-no_0829.jpg -> Class: notumor, Confidence: 1.00\n",
            "Moving Tr-no_0829.jpg to BT100/Training/notumor/20250328_234055_Tr-no_0829.jpg\n",
            "\u001b[1m1/1\u001b[0m \u001b[32m━━━━━━━━━━━━━━━━━━━━\u001b[0m\u001b[37m\u001b[0m \u001b[1m0s\u001b[0m 34ms/step\n",
            "Tr-pi_1250.jpg -> Class: pituitary, Confidence: 1.00\n",
            "Moving Tr-pi_1250.jpg to BT100/Training/pituitary/20250328_234056_Tr-pi_1250.jpg\n",
            "\u001b[1m1/1\u001b[0m \u001b[32m━━━━━━━━━━━━━━━━━━━━\u001b[0m\u001b[37m\u001b[0m \u001b[1m0s\u001b[0m 32ms/step\n"
          ]
        },
        {
          "output_type": "stream",
          "name": "stderr",
          "text": [
            "\r 31%|███       | 355/1141 [00:34<01:09, 11.30it/s]"
          ]
        },
        {
          "output_type": "stream",
          "name": "stdout",
          "text": [
            "Tr-pi_0103.jpg -> Class: pituitary, Confidence: 1.00\n",
            "Moving Tr-pi_0103.jpg to BT100/Training/pituitary/20250328_234056_Tr-pi_0103.jpg\n",
            "\u001b[1m1/1\u001b[0m \u001b[32m━━━━━━━━━━━━━━━━━━━━\u001b[0m\u001b[37m\u001b[0m \u001b[1m0s\u001b[0m 33ms/step\n",
            "Tr-no_1019.jpg -> Class: notumor, Confidence: 1.00\n",
            "Moving Tr-no_1019.jpg to BT100/Training/notumor/20250328_234056_Tr-no_1019.jpg\n",
            "\u001b[1m1/1\u001b[0m \u001b[32m━━━━━━━━━━━━━━━━━━━━\u001b[0m\u001b[37m\u001b[0m \u001b[1m0s\u001b[0m 42ms/step\n"
          ]
        },
        {
          "output_type": "stream",
          "name": "stderr",
          "text": [
            "\r 31%|███▏      | 357/1141 [00:34<01:12, 10.84it/s]"
          ]
        },
        {
          "output_type": "stream",
          "name": "stdout",
          "text": [
            "Tr-gl_0590.jpg -> Class: glioma, Confidence: 1.00\n",
            "Moving Tr-gl_0590.jpg to BT100/Training/glioma/20250328_234056_Tr-gl_0590.jpg\n",
            "\u001b[1m1/1\u001b[0m \u001b[32m━━━━━━━━━━━━━━━━━━━━\u001b[0m\u001b[37m\u001b[0m \u001b[1m0s\u001b[0m 31ms/step\n",
            "Tr-gl_0376.jpg -> Class: glioma, Confidence: 1.00\n",
            "Moving Tr-gl_0376.jpg to BT100/Training/glioma/20250328_234056_Tr-gl_0376.jpg\n",
            "\u001b[1m1/1\u001b[0m \u001b[32m━━━━━━━━━━━━━━━━━━━━\u001b[0m\u001b[37m\u001b[0m \u001b[1m0s\u001b[0m 32ms/step\n"
          ]
        },
        {
          "output_type": "stream",
          "name": "stderr",
          "text": [
            "\r 31%|███▏      | 359/1141 [00:34<01:12, 10.82it/s]"
          ]
        },
        {
          "output_type": "stream",
          "name": "stdout",
          "text": [
            "Tr-gl_0062.jpg -> Class: glioma, Confidence: 1.00\n",
            "Moving Tr-gl_0062.jpg to BT100/Training/glioma/20250328_234056_Tr-gl_0062.jpg\n",
            "\u001b[1m1/1\u001b[0m \u001b[32m━━━━━━━━━━━━━━━━━━━━\u001b[0m\u001b[37m\u001b[0m \u001b[1m0s\u001b[0m 31ms/step\n",
            "Tr-no_1122.jpg -> Class: notumor, Confidence: 1.00\n",
            "Moving Tr-no_1122.jpg to BT100/Training/notumor/20250328_234056_Tr-no_1122.jpg\n",
            "\u001b[1m1/1\u001b[0m \u001b[32m━━━━━━━━━━━━━━━━━━━━\u001b[0m\u001b[37m\u001b[0m \u001b[1m0s\u001b[0m 32ms/step\n"
          ]
        },
        {
          "output_type": "stream",
          "name": "stderr",
          "text": [
            "\r 32%|███▏      | 361/1141 [00:34<01:08, 11.43it/s]"
          ]
        },
        {
          "output_type": "stream",
          "name": "stdout",
          "text": [
            "Tr-gl_1153.jpg -> Class: meningioma, Confidence: 1.00\n",
            "Moving Tr-gl_1153.jpg to BT100/Training/meningioma/20250328_234056_Tr-gl_1153.jpg\n",
            "\u001b[1m1/1\u001b[0m \u001b[32m━━━━━━━━━━━━━━━━━━━━\u001b[0m\u001b[37m\u001b[0m \u001b[1m0s\u001b[0m 32ms/step\n",
            "Tr-gl_0607.jpg -> Class: glioma, Confidence: 1.00\n",
            "Moving Tr-gl_0607.jpg to BT100/Training/glioma/20250328_234056_Tr-gl_0607.jpg\n",
            "\u001b[1m1/1\u001b[0m \u001b[32m━━━━━━━━━━━━━━━━━━━━\u001b[0m\u001b[37m\u001b[0m \u001b[1m0s\u001b[0m 34ms/step\n"
          ]
        },
        {
          "output_type": "stream",
          "name": "stderr",
          "text": [
            "\r 32%|███▏      | 363/1141 [00:34<01:09, 11.20it/s]"
          ]
        },
        {
          "output_type": "stream",
          "name": "stdout",
          "text": [
            "Tr-no_1227.jpg -> Class: notumor, Confidence: 1.00\n",
            "Moving Tr-no_1227.jpg to BT100/Training/notumor/20250328_234056_Tr-no_1227.jpg\n",
            "\u001b[1m1/1\u001b[0m \u001b[32m━━━━━━━━━━━━━━━━━━━━\u001b[0m\u001b[37m\u001b[0m \u001b[1m0s\u001b[0m 34ms/step\n",
            "Tr-gl_0115.jpg -> Class: glioma, Confidence: 1.00\n",
            "Moving Tr-gl_0115.jpg to BT100/Training/glioma/20250328_234056_Tr-gl_0115.jpg\n",
            "\u001b[1m1/1\u001b[0m \u001b[32m━━━━━━━━━━━━━━━━━━━━\u001b[0m\u001b[37m\u001b[0m \u001b[1m0s\u001b[0m 32ms/step\n"
          ]
        },
        {
          "output_type": "stream",
          "name": "stderr",
          "text": [
            "\r 32%|███▏      | 365/1141 [00:35<01:15, 10.34it/s]"
          ]
        },
        {
          "output_type": "stream",
          "name": "stdout",
          "text": [
            "Tr-pi_1427.jpg -> Class: pituitary, Confidence: 1.00\n",
            "Moving Tr-pi_1427.jpg to BT100/Training/pituitary/20250328_234057_Tr-pi_1427.jpg\n",
            "\u001b[1m1/1\u001b[0m \u001b[32m━━━━━━━━━━━━━━━━━━━━\u001b[0m\u001b[37m\u001b[0m \u001b[1m0s\u001b[0m 32ms/step\n",
            "Tr-gl_1142.jpg -> Class: glioma, Confidence: 1.00\n",
            "Moving Tr-gl_1142.jpg to BT100/Training/glioma/20250328_234057_Tr-gl_1142.jpg\n",
            "\u001b[1m1/1\u001b[0m \u001b[32m━━━━━━━━━━━━━━━━━━━━\u001b[0m\u001b[37m\u001b[0m \u001b[1m0s\u001b[0m 30ms/step\n"
          ]
        },
        {
          "output_type": "stream",
          "name": "stderr",
          "text": [
            "\r 32%|███▏      | 367/1141 [00:35<01:14, 10.41it/s]"
          ]
        },
        {
          "output_type": "stream",
          "name": "stdout",
          "text": [
            "Tr-no_0722.jpg -> Class: notumor, Confidence: 1.00\n",
            "Moving Tr-no_0722.jpg to BT100/Training/notumor/20250328_234057_Tr-no_0722.jpg\n",
            "\u001b[1m1/1\u001b[0m \u001b[32m━━━━━━━━━━━━━━━━━━━━\u001b[0m\u001b[37m\u001b[0m \u001b[1m0s\u001b[0m 38ms/step\n",
            "Tr-gl_1192.jpg -> Class: glioma, Confidence: 1.00\n",
            "Moving Tr-gl_1192.jpg to BT100/Training/glioma/20250328_234057_Tr-gl_1192.jpg\n",
            "\u001b[1m1/1\u001b[0m \u001b[32m━━━━━━━━━━━━━━━━━━━━\u001b[0m\u001b[37m\u001b[0m \u001b[1m0s\u001b[0m 31ms/step\n"
          ]
        },
        {
          "output_type": "stream",
          "name": "stderr",
          "text": [
            "\r 32%|███▏      | 369/1141 [00:35<01:15, 10.25it/s]"
          ]
        },
        {
          "output_type": "stream",
          "name": "stdout",
          "text": [
            "Tr-gl_0063.jpg -> Class: glioma, Confidence: 1.00\n",
            "Moving Tr-gl_0063.jpg to BT100/Training/glioma/20250328_234057_Tr-gl_0063.jpg\n",
            "\u001b[1m1/1\u001b[0m \u001b[32m━━━━━━━━━━━━━━━━━━━━\u001b[0m\u001b[37m\u001b[0m \u001b[1m0s\u001b[0m 32ms/step\n",
            "Tr-me_0432.jpg -> Class: meningioma, Confidence: 1.00\n",
            "Moving Tr-me_0432.jpg to BT100/Training/meningioma/20250328_234057_Tr-me_0432.jpg\n",
            "\u001b[1m1/1\u001b[0m \u001b[32m━━━━━━━━━━━━━━━━━━━━\u001b[0m\u001b[37m\u001b[0m \u001b[1m0s\u001b[0m 35ms/step\n"
          ]
        },
        {
          "output_type": "stream",
          "name": "stderr",
          "text": [
            "\r 33%|███▎      | 371/1141 [00:35<01:10, 10.97it/s]"
          ]
        },
        {
          "output_type": "stream",
          "name": "stdout",
          "text": [
            "Tr-no_1263.jpg -> Class: notumor, Confidence: 1.00\n",
            "Moving Tr-no_1263.jpg to BT100/Training/notumor/20250328_234057_Tr-no_1263.jpg\n",
            "\u001b[1m1/1\u001b[0m \u001b[32m━━━━━━━━━━━━━━━━━━━━\u001b[0m\u001b[37m\u001b[0m \u001b[1m0s\u001b[0m 30ms/step\n",
            "Tr-gl_0510.jpg -> Class: glioma, Confidence: 1.00\n",
            "Moving Tr-gl_0510.jpg to BT100/Training/glioma/20250328_234057_Tr-gl_0510.jpg\n",
            "\u001b[1m1/1\u001b[0m \u001b[32m━━━━━━━━━━━━━━━━━━━━\u001b[0m\u001b[37m\u001b[0m \u001b[1m0s\u001b[0m 34ms/step\n"
          ]
        },
        {
          "output_type": "stream",
          "name": "stderr",
          "text": [
            "\r 33%|███▎      | 373/1141 [00:35<01:05, 11.74it/s]"
          ]
        },
        {
          "output_type": "stream",
          "name": "stdout",
          "text": [
            "Tr-no_0945.jpg -> Class: notumor, Confidence: 1.00\n",
            "Moving Tr-no_0945.jpg to BT100/Training/notumor/20250328_234057_Tr-no_0945.jpg\n",
            "\u001b[1m1/1\u001b[0m \u001b[32m━━━━━━━━━━━━━━━━━━━━\u001b[0m\u001b[37m\u001b[0m \u001b[1m0s\u001b[0m 37ms/step\n",
            "Tr-me_1144.jpg -> Class: meningioma, Confidence: 1.00\n",
            "Moving Tr-me_1144.jpg to BT100/Training/meningioma/20250328_234057_Tr-me_1144.jpg\n",
            "\u001b[1m1/1\u001b[0m \u001b[32m━━━━━━━━━━━━━━━━━━━━\u001b[0m\u001b[37m\u001b[0m \u001b[1m0s\u001b[0m 34ms/step\n"
          ]
        },
        {
          "output_type": "stream",
          "name": "stderr",
          "text": [
            "\r 33%|███▎      | 375/1141 [00:36<01:07, 11.35it/s]"
          ]
        },
        {
          "output_type": "stream",
          "name": "stdout",
          "text": [
            "Tr-me_0092.jpg -> Class: meningioma, Confidence: 1.00\n",
            "Moving Tr-me_0092.jpg to BT100/Training/meningioma/20250328_234057_Tr-me_0092.jpg\n",
            "\u001b[1m1/1\u001b[0m \u001b[32m━━━━━━━━━━━━━━━━━━━━\u001b[0m\u001b[37m\u001b[0m \u001b[1m0s\u001b[0m 33ms/step\n",
            "Tr-pi_1419.jpg -> Class: pituitary, Confidence: 1.00\n",
            "Moving Tr-pi_1419.jpg to BT100/Training/pituitary/20250328_234058_Tr-pi_1419.jpg\n",
            "\u001b[1m1/1\u001b[0m \u001b[32m━━━━━━━━━━━━━━━━━━━━\u001b[0m\u001b[37m\u001b[0m \u001b[1m0s\u001b[0m 42ms/step\n"
          ]
        },
        {
          "output_type": "stream",
          "name": "stderr",
          "text": [
            "\r 33%|███▎      | 377/1141 [00:36<01:09, 10.99it/s]"
          ]
        },
        {
          "output_type": "stream",
          "name": "stdout",
          "text": [
            "Tr-me_0765.jpg -> Class: meningioma, Confidence: 1.00\n",
            "Moving Tr-me_0765.jpg to BT100/Training/meningioma/20250328_234058_Tr-me_0765.jpg\n",
            "\u001b[1m1/1\u001b[0m \u001b[32m━━━━━━━━━━━━━━━━━━━━\u001b[0m\u001b[37m\u001b[0m \u001b[1m0s\u001b[0m 34ms/step\n",
            "Tr-pi_0462.jpg -> Class: pituitary, Confidence: 1.00\n",
            "Moving Tr-pi_0462.jpg to BT100/Training/pituitary/20250328_234058_Tr-pi_0462.jpg\n",
            "\u001b[1m1/1\u001b[0m \u001b[32m━━━━━━━━━━━━━━━━━━━━\u001b[0m\u001b[37m\u001b[0m \u001b[1m0s\u001b[0m 38ms/step\n"
          ]
        },
        {
          "output_type": "stream",
          "name": "stderr",
          "text": [
            "\r 33%|███▎      | 379/1141 [00:36<01:10, 10.81it/s]"
          ]
        },
        {
          "output_type": "stream",
          "name": "stdout",
          "text": [
            "Tr-gl_1238.jpg -> Class: glioma, Confidence: 1.00\n",
            "Moving Tr-gl_1238.jpg to BT100/Training/glioma/20250328_234058_Tr-gl_1238.jpg\n",
            "\u001b[1m1/1\u001b[0m \u001b[32m━━━━━━━━━━━━━━━━━━━━\u001b[0m\u001b[37m\u001b[0m \u001b[1m0s\u001b[0m 32ms/step\n",
            "Tr-no_0567.jpg -> Class: notumor, Confidence: 1.00\n",
            "Moving Tr-no_0567.jpg to BT100/Training/notumor/20250328_234058_Tr-no_0567.jpg\n",
            "\u001b[1m1/1\u001b[0m \u001b[32m━━━━━━━━━━━━━━━━━━━━\u001b[0m\u001b[37m\u001b[0m \u001b[1m0s\u001b[0m 31ms/step\n"
          ]
        },
        {
          "output_type": "stream",
          "name": "stderr",
          "text": [
            "\r 33%|███▎      | 381/1141 [00:36<01:06, 11.48it/s]"
          ]
        },
        {
          "output_type": "stream",
          "name": "stdout",
          "text": [
            "Tr-me_0827.jpg -> Class: meningioma, Confidence: 1.00\n",
            "Moving Tr-me_0827.jpg to BT100/Training/meningioma/20250328_234058_Tr-me_0827.jpg\n",
            "\u001b[1m1/1\u001b[0m \u001b[32m━━━━━━━━━━━━━━━━━━━━\u001b[0m\u001b[37m\u001b[0m \u001b[1m0s\u001b[0m 31ms/step\n",
            "Tr-gl_1081.jpg -> Class: glioma, Confidence: 1.00\n",
            "Moving Tr-gl_1081.jpg to BT100/Training/glioma/20250328_234058_Tr-gl_1081.jpg\n",
            "\u001b[1m1/1\u001b[0m \u001b[32m━━━━━━━━━━━━━━━━━━━━\u001b[0m\u001b[37m\u001b[0m \u001b[1m0s\u001b[0m 33ms/step\n"
          ]
        },
        {
          "output_type": "stream",
          "name": "stderr",
          "text": [
            "\r 34%|███▎      | 383/1141 [00:36<01:02, 12.10it/s]"
          ]
        },
        {
          "output_type": "stream",
          "name": "stdout",
          "text": [
            "Tr-gl_0197.jpg -> Class: glioma, Confidence: 1.00\n",
            "Moving Tr-gl_0197.jpg to BT100/Training/glioma/20250328_234058_Tr-gl_0197.jpg\n",
            "\u001b[1m1/1\u001b[0m \u001b[32m━━━━━━━━━━━━━━━━━━━━\u001b[0m\u001b[37m\u001b[0m \u001b[1m0s\u001b[0m 35ms/step\n",
            "Tr-no_1144.jpg -> Class: notumor, Confidence: 1.00\n",
            "Moving Tr-no_1144.jpg to BT100/Training/notumor/20250328_234058_Tr-no_1144.jpg\n",
            "\u001b[1m1/1\u001b[0m \u001b[32m━━━━━━━━━━━━━━━━━━━━\u001b[0m\u001b[37m\u001b[0m \u001b[1m0s\u001b[0m 33ms/step\n"
          ]
        },
        {
          "output_type": "stream",
          "name": "stderr",
          "text": [
            "\r 34%|███▎      | 385/1141 [00:36<01:05, 11.51it/s]"
          ]
        },
        {
          "output_type": "stream",
          "name": "stdout",
          "text": [
            "Tr-no_1368.jpg -> Class: notumor, Confidence: 1.00\n",
            "Moving Tr-no_1368.jpg to BT100/Training/notumor/20250328_234058_Tr-no_1368.jpg\n",
            "\u001b[1m1/1\u001b[0m \u001b[32m━━━━━━━━━━━━━━━━━━━━\u001b[0m\u001b[37m\u001b[0m \u001b[1m0s\u001b[0m 36ms/step\n",
            "Tr-no_0048.jpg -> Class: notumor, Confidence: 1.00\n",
            "Moving Tr-no_0048.jpg to BT100/Training/notumor/20250328_234058_Tr-no_0048.jpg\n",
            "\u001b[1m1/1\u001b[0m \u001b[32m━━━━━━━━━━━━━━━━━━━━\u001b[0m\u001b[37m\u001b[0m \u001b[1m0s\u001b[0m 34ms/step\n"
          ]
        },
        {
          "output_type": "stream",
          "name": "stderr",
          "text": [
            "\r 34%|███▍      | 387/1141 [00:37<01:02, 12.02it/s]"
          ]
        },
        {
          "output_type": "stream",
          "name": "stdout",
          "text": [
            "Tr-gl_0936.jpg -> Class: glioma, Confidence: 1.00\n",
            "Moving Tr-gl_0936.jpg to BT100/Training/glioma/20250328_234058_Tr-gl_0936.jpg\n",
            "\u001b[1m1/1\u001b[0m \u001b[32m━━━━━━━━━━━━━━━━━━━━\u001b[0m\u001b[37m\u001b[0m \u001b[1m0s\u001b[0m 33ms/step\n",
            "Tr-no_0247.jpg -> Class: notumor, Confidence: 1.00\n",
            "Moving Tr-no_0247.jpg to BT100/Training/notumor/20250328_234059_Tr-no_0247.jpg\n",
            "\u001b[1m1/1\u001b[0m \u001b[32m━━━━━━━━━━━━━━━━━━━━\u001b[0m\u001b[37m\u001b[0m \u001b[1m0s\u001b[0m 40ms/step\n"
          ]
        },
        {
          "output_type": "stream",
          "name": "stderr",
          "text": [
            "\r 34%|███▍      | 389/1141 [00:37<01:06, 11.35it/s]"
          ]
        },
        {
          "output_type": "stream",
          "name": "stdout",
          "text": [
            "Tr-pi_1211.jpg -> Class: pituitary, Confidence: 1.00\n",
            "Moving Tr-pi_1211.jpg to BT100/Training/pituitary/20250328_234059_Tr-pi_1211.jpg\n",
            "\u001b[1m1/1\u001b[0m \u001b[32m━━━━━━━━━━━━━━━━━━━━\u001b[0m\u001b[37m\u001b[0m \u001b[1m0s\u001b[0m 31ms/step\n",
            "Tr-no_0662.jpg -> Class: notumor, Confidence: 1.00\n",
            "Moving Tr-no_0662.jpg to BT100/Training/notumor/20250328_234059_Tr-no_0662.jpg\n",
            "\u001b[1m1/1\u001b[0m \u001b[32m━━━━━━━━━━━━━━━━━━━━\u001b[0m\u001b[37m\u001b[0m \u001b[1m0s\u001b[0m 40ms/step\n"
          ]
        },
        {
          "output_type": "stream",
          "name": "stderr",
          "text": [
            "\r 34%|███▍      | 391/1141 [00:37<01:04, 11.67it/s]"
          ]
        },
        {
          "output_type": "stream",
          "name": "stdout",
          "text": [
            "Tr-gl_0057.jpg -> Class: glioma, Confidence: 1.00\n",
            "Moving Tr-gl_0057.jpg to BT100/Training/glioma/20250328_234059_Tr-gl_0057.jpg\n",
            "\u001b[1m1/1\u001b[0m \u001b[32m━━━━━━━━━━━━━━━━━━━━\u001b[0m\u001b[37m\u001b[0m \u001b[1m0s\u001b[0m 32ms/step\n",
            "Tr-gl_0830.jpg -> Class: glioma, Confidence: 1.00\n",
            "Moving Tr-gl_0830.jpg to BT100/Training/glioma/20250328_234059_Tr-gl_0830.jpg\n",
            "\u001b[1m1/1\u001b[0m \u001b[32m━━━━━━━━━━━━━━━━━━━━\u001b[0m\u001b[37m\u001b[0m \u001b[1m0s\u001b[0m 33ms/step\n"
          ]
        },
        {
          "output_type": "stream",
          "name": "stderr",
          "text": [
            "\r 34%|███▍      | 393/1141 [00:37<01:06, 11.18it/s]"
          ]
        },
        {
          "output_type": "stream",
          "name": "stdout",
          "text": [
            "Tr-pi_1145.jpg -> Class: pituitary, Confidence: 1.00\n",
            "Moving Tr-pi_1145.jpg to BT100/Training/pituitary/20250328_234059_Tr-pi_1145.jpg\n",
            "\u001b[1m1/1\u001b[0m \u001b[32m━━━━━━━━━━━━━━━━━━━━\u001b[0m\u001b[37m\u001b[0m \u001b[1m0s\u001b[0m 31ms/step\n",
            "Tr-pi_0682.jpg -> Class: pituitary, Confidence: 1.00\n",
            "Moving Tr-pi_0682.jpg to BT100/Training/pituitary/20250328_234059_Tr-pi_0682.jpg\n",
            "\u001b[1m1/1\u001b[0m \u001b[32m━━━━━━━━━━━━━━━━━━━━\u001b[0m\u001b[37m\u001b[0m \u001b[1m0s\u001b[0m 30ms/step\n"
          ]
        },
        {
          "output_type": "stream",
          "name": "stderr",
          "text": [
            "\r 35%|███▍      | 395/1141 [00:37<01:03, 11.76it/s]"
          ]
        },
        {
          "output_type": "stream",
          "name": "stdout",
          "text": [
            "Tr-me_0376.jpg -> Class: meningioma, Confidence: 1.00\n",
            "Moving Tr-me_0376.jpg to BT100/Training/meningioma/20250328_234059_Tr-me_0376.jpg\n",
            "\u001b[1m1/1\u001b[0m \u001b[32m━━━━━━━━━━━━━━━━━━━━\u001b[0m\u001b[37m\u001b[0m \u001b[1m0s\u001b[0m 33ms/step\n",
            "Tr-no_0180.jpg -> Class: notumor, Confidence: 1.00\n",
            "Moving Tr-no_0180.jpg to BT100/Training/notumor/20250328_234059_Tr-no_0180.jpg\n",
            "\u001b[1m1/1\u001b[0m \u001b[32m━━━━━━━━━━━━━━━━━━━━\u001b[0m\u001b[37m\u001b[0m \u001b[1m0s\u001b[0m 35ms/step\n"
          ]
        },
        {
          "output_type": "stream",
          "name": "stderr",
          "text": [
            "\r 35%|███▍      | 397/1141 [00:37<01:01, 12.08it/s]"
          ]
        },
        {
          "output_type": "stream",
          "name": "stdout",
          "text": [
            "Tr-gl_0958.jpg -> Class: glioma, Confidence: 1.00\n",
            "Moving Tr-gl_0958.jpg to BT100/Training/glioma/20250328_234059_Tr-gl_0958.jpg\n",
            "\u001b[1m1/1\u001b[0m \u001b[32m━━━━━━━━━━━━━━━━━━━━\u001b[0m\u001b[37m\u001b[0m \u001b[1m0s\u001b[0m 36ms/step\n",
            "Tr-gl_0667.jpg -> Class: glioma, Confidence: 1.00\n",
            "Moving Tr-gl_0667.jpg to BT100/Training/glioma/20250328_234059_Tr-gl_0667.jpg\n",
            "\u001b[1m1/1\u001b[0m \u001b[32m━━━━━━━━━━━━━━━━━━━━\u001b[0m\u001b[37m\u001b[0m \u001b[1m0s\u001b[0m 35ms/step\n"
          ]
        },
        {
          "output_type": "stream",
          "name": "stderr",
          "text": [
            "\r 35%|███▍      | 399/1141 [00:38<01:09, 10.68it/s]"
          ]
        },
        {
          "output_type": "stream",
          "name": "stdout",
          "text": [
            "Tr-pi_0137.jpg -> Class: pituitary, Confidence: 1.00\n",
            "Moving Tr-pi_0137.jpg to BT100/Training/pituitary/20250328_234100_Tr-pi_0137.jpg\n",
            "\u001b[1m1/1\u001b[0m \u001b[32m━━━━━━━━━━━━━━━━━━━━\u001b[0m\u001b[37m\u001b[0m \u001b[1m0s\u001b[0m 35ms/step\n",
            "Tr-no_0314.jpg -> Class: notumor, Confidence: 1.00\n",
            "Moving Tr-no_0314.jpg to BT100/Training/notumor/20250328_234100_Tr-no_0314.jpg\n",
            "\u001b[1m1/1\u001b[0m \u001b[32m━━━━━━━━━━━━━━━━━━━━\u001b[0m\u001b[37m\u001b[0m \u001b[1m0s\u001b[0m 37ms/step\n"
          ]
        },
        {
          "output_type": "stream",
          "name": "stderr",
          "text": [
            "\r 35%|███▌      | 401/1141 [00:38<01:12, 10.20it/s]"
          ]
        },
        {
          "output_type": "stream",
          "name": "stdout",
          "text": [
            "Tr-gl_0575.jpg -> Class: glioma, Confidence: 1.00\n",
            "Moving Tr-gl_0575.jpg to BT100/Training/glioma/20250328_234100_Tr-gl_0575.jpg\n",
            "\u001b[1m1/1\u001b[0m \u001b[32m━━━━━━━━━━━━━━━━━━━━\u001b[0m\u001b[37m\u001b[0m \u001b[1m0s\u001b[0m 36ms/step\n",
            "Tr-no_1530.jpg -> Class: notumor, Confidence: 1.00\n",
            "Moving Tr-no_1530.jpg to BT100/Training/notumor/20250328_234100_Tr-no_1530.jpg\n",
            "\u001b[1m1/1\u001b[0m \u001b[32m━━━━━━━━━━━━━━━━━━━━\u001b[0m\u001b[37m\u001b[0m \u001b[1m0s\u001b[0m 36ms/step\n"
          ]
        },
        {
          "output_type": "stream",
          "name": "stderr",
          "text": [
            "\r 35%|███▌      | 403/1141 [00:38<01:12, 10.17it/s]"
          ]
        },
        {
          "output_type": "stream",
          "name": "stdout",
          "text": [
            "Tr-gl_1019.jpg -> Class: glioma, Confidence: 1.00\n",
            "Moving Tr-gl_1019.jpg to BT100/Training/glioma/20250328_234100_Tr-gl_1019.jpg\n",
            "\u001b[1m1/1\u001b[0m \u001b[32m━━━━━━━━━━━━━━━━━━━━\u001b[0m\u001b[37m\u001b[0m \u001b[1m0s\u001b[0m 32ms/step\n",
            "Tr-no_0521.jpg -> Class: notumor, Confidence: 1.00\n",
            "Moving Tr-no_0521.jpg to BT100/Training/notumor/20250328_234100_Tr-no_0521.jpg\n",
            "\u001b[1m1/1\u001b[0m \u001b[32m━━━━━━━━━━━━━━━━━━━━\u001b[0m\u001b[37m\u001b[0m \u001b[1m0s\u001b[0m 37ms/step\n"
          ]
        },
        {
          "output_type": "stream",
          "name": "stderr",
          "text": [
            "\r 35%|███▌      | 405/1141 [00:38<01:16,  9.64it/s]"
          ]
        },
        {
          "output_type": "stream",
          "name": "stdout",
          "text": [
            "Tr-me_0743.jpg -> Class: meningioma, Confidence: 1.00\n",
            "Moving Tr-me_0743.jpg to BT100/Training/meningioma/20250328_234100_Tr-me_0743.jpg\n",
            "\u001b[1m1/1\u001b[0m \u001b[32m━━━━━━━━━━━━━━━━━━━━\u001b[0m\u001b[37m\u001b[0m \u001b[1m0s\u001b[0m 35ms/step\n"
          ]
        },
        {
          "output_type": "stream",
          "name": "stderr",
          "text": [
            "\r 36%|███▌      | 406/1141 [00:38<01:18,  9.42it/s]"
          ]
        },
        {
          "output_type": "stream",
          "name": "stdout",
          "text": [
            "Tr-me_1193.jpg -> Class: meningioma, Confidence: 1.00\n",
            "Moving Tr-me_1193.jpg to BT100/Training/meningioma/20250328_234100_Tr-me_1193.jpg\n",
            "\u001b[1m1/1\u001b[0m \u001b[32m━━━━━━━━━━━━━━━━━━━━\u001b[0m\u001b[37m\u001b[0m \u001b[1m0s\u001b[0m 30ms/step\n",
            "Tr-pi_0253.jpg -> Class: pituitary, Confidence: 1.00\n",
            "Moving Tr-pi_0253.jpg to BT100/Training/pituitary/20250328_234100_Tr-pi_0253.jpg\n",
            "\u001b[1m1/1\u001b[0m \u001b[32m━━━━━━━━━━━━━━━━━━━━\u001b[0m\u001b[37m\u001b[0m \u001b[1m0s\u001b[0m 35ms/step\n"
          ]
        },
        {
          "output_type": "stream",
          "name": "stderr",
          "text": [
            "\r 36%|███▌      | 408/1141 [00:39<01:10, 10.40it/s]"
          ]
        },
        {
          "output_type": "stream",
          "name": "stdout",
          "text": [
            "Tr-me_1302.jpg -> Class: meningioma, Confidence: 1.00\n",
            "Moving Tr-me_1302.jpg to BT100/Training/meningioma/20250328_234100_Tr-me_1302.jpg\n",
            "\u001b[1m1/1\u001b[0m \u001b[32m━━━━━━━━━━━━━━━━━━━━\u001b[0m\u001b[37m\u001b[0m \u001b[1m0s\u001b[0m 33ms/step\n",
            "Tr-me_0752.jpg -> Class: meningioma, Confidence: 1.00\n",
            "Moving Tr-me_0752.jpg to BT100/Training/meningioma/20250328_234101_Tr-me_0752.jpg\n",
            "\u001b[1m1/1\u001b[0m \u001b[32m━━━━━━━━━━━━━━━━━━━━\u001b[0m\u001b[37m\u001b[0m \u001b[1m0s\u001b[0m 32ms/step\n"
          ]
        },
        {
          "output_type": "stream",
          "name": "stderr",
          "text": [
            "\r 36%|███▌      | 410/1141 [00:39<01:05, 11.17it/s]"
          ]
        },
        {
          "output_type": "stream",
          "name": "stdout",
          "text": [
            "Tr-no_1258.jpg -> Class: notumor, Confidence: 1.00\n",
            "Moving Tr-no_1258.jpg to BT100/Training/notumor/20250328_234101_Tr-no_1258.jpg\n",
            "\u001b[1m1/1\u001b[0m \u001b[32m━━━━━━━━━━━━━━━━━━━━\u001b[0m\u001b[37m\u001b[0m \u001b[1m0s\u001b[0m 43ms/step\n",
            "Tr-no_1485.jpg -> Class: notumor, Confidence: 1.00\n",
            "Moving Tr-no_1485.jpg to BT100/Training/notumor/20250328_234101_Tr-no_1485.jpg\n",
            "\u001b[1m1/1\u001b[0m \u001b[32m━━━━━━━━━━━━━━━━━━━━\u001b[0m\u001b[37m\u001b[0m \u001b[1m0s\u001b[0m 42ms/step\n"
          ]
        },
        {
          "output_type": "stream",
          "name": "stderr",
          "text": [
            "\r 36%|███▌      | 412/1141 [00:39<01:04, 11.25it/s]"
          ]
        },
        {
          "output_type": "stream",
          "name": "stdout",
          "text": [
            "Tr-pi_0596.jpg -> Class: pituitary, Confidence: 1.00\n",
            "Moving Tr-pi_0596.jpg to BT100/Training/pituitary/20250328_234101_Tr-pi_0596.jpg\n",
            "\u001b[1m1/1\u001b[0m \u001b[32m━━━━━━━━━━━━━━━━━━━━\u001b[0m\u001b[37m\u001b[0m \u001b[1m0s\u001b[0m 32ms/step\n",
            "Tr-gl_0243.jpg -> Class: glioma, Confidence: 1.00\n",
            "Moving Tr-gl_0243.jpg to BT100/Training/glioma/20250328_234101_Tr-gl_0243.jpg\n",
            "\u001b[1m1/1\u001b[0m \u001b[32m━━━━━━━━━━━━━━━━━━━━\u001b[0m\u001b[37m\u001b[0m \u001b[1m0s\u001b[0m 32ms/step\n"
          ]
        },
        {
          "output_type": "stream",
          "name": "stderr",
          "text": [
            "\r 36%|███▋      | 414/1141 [00:39<01:02, 11.60it/s]"
          ]
        },
        {
          "output_type": "stream",
          "name": "stdout",
          "text": [
            "Tr-gl_0712.jpg -> Class: glioma, Confidence: 1.00\n",
            "Moving Tr-gl_0712.jpg to BT100/Training/glioma/20250328_234101_Tr-gl_0712.jpg\n",
            "\u001b[1m1/1\u001b[0m \u001b[32m━━━━━━━━━━━━━━━━━━━━\u001b[0m\u001b[37m\u001b[0m \u001b[1m0s\u001b[0m 30ms/step\n",
            "Tr-pi_1244.jpg -> Class: pituitary, Confidence: 1.00\n",
            "Moving Tr-pi_1244.jpg to BT100/Training/pituitary/20250328_234101_Tr-pi_1244.jpg\n",
            "\u001b[1m1/1\u001b[0m \u001b[32m━━━━━━━━━━━━━━━━━━━━\u001b[0m\u001b[37m\u001b[0m \u001b[1m0s\u001b[0m 37ms/step\n"
          ]
        },
        {
          "output_type": "stream",
          "name": "stderr",
          "text": [
            "\r 36%|███▋      | 416/1141 [00:39<01:04, 11.26it/s]"
          ]
        },
        {
          "output_type": "stream",
          "name": "stdout",
          "text": [
            "Tr-gl_0783.jpg -> Class: glioma, Confidence: 1.00\n",
            "Moving Tr-gl_0783.jpg to BT100/Training/glioma/20250328_234101_Tr-gl_0783.jpg\n",
            "\u001b[1m1/1\u001b[0m \u001b[32m━━━━━━━━━━━━━━━━━━━━\u001b[0m\u001b[37m\u001b[0m \u001b[1m0s\u001b[0m 33ms/step\n",
            "Tr-me_1088.jpg -> Class: meningioma, Confidence: 1.00\n",
            "Moving Tr-me_1088.jpg to BT100/Training/meningioma/20250328_234101_Tr-me_1088.jpg\n",
            "\u001b[1m1/1\u001b[0m \u001b[32m━━━━━━━━━━━━━━━━━━━━\u001b[0m\u001b[37m\u001b[0m \u001b[1m0s\u001b[0m 33ms/step\n"
          ]
        },
        {
          "output_type": "stream",
          "name": "stderr",
          "text": [
            "\r 37%|███▋      | 418/1141 [00:39<01:05, 10.96it/s]"
          ]
        },
        {
          "output_type": "stream",
          "name": "stdout",
          "text": [
            "Tr-no_0472.jpg -> Class: notumor, Confidence: 1.00\n",
            "Moving Tr-no_0472.jpg to BT100/Training/notumor/20250328_234101_Tr-no_0472.jpg\n",
            "\u001b[1m1/1\u001b[0m \u001b[32m━━━━━━━━━━━━━━━━━━━━\u001b[0m\u001b[37m\u001b[0m \u001b[1m0s\u001b[0m 31ms/step\n",
            "Tr-me_0547.jpg -> Class: meningioma, Confidence: 1.00\n",
            "Moving Tr-me_0547.jpg to BT100/Training/meningioma/20250328_234101_Tr-me_0547.jpg\n",
            "\u001b[1m1/1\u001b[0m \u001b[32m━━━━━━━━━━━━━━━━━━━━\u001b[0m\u001b[37m\u001b[0m \u001b[1m0s\u001b[0m 35ms/step\n"
          ]
        },
        {
          "output_type": "stream",
          "name": "stderr",
          "text": [
            "\r 37%|███▋      | 420/1141 [00:40<01:06, 10.83it/s]"
          ]
        },
        {
          "output_type": "stream",
          "name": "stdout",
          "text": [
            "Tr-me_0213.jpg -> Class: meningioma, Confidence: 1.00\n",
            "Moving Tr-me_0213.jpg to BT100/Training/meningioma/20250328_234102_Tr-me_0213.jpg\n",
            "\u001b[1m1/1\u001b[0m \u001b[32m━━━━━━━━━━━━━━━━━━━━\u001b[0m\u001b[37m\u001b[0m \u001b[1m0s\u001b[0m 35ms/step\n",
            "Tr-no_1119.jpg -> Class: notumor, Confidence: 1.00\n",
            "Moving Tr-no_1119.jpg to BT100/Training/notumor/20250328_234102_Tr-no_1119.jpg\n",
            "\u001b[1m1/1\u001b[0m \u001b[32m━━━━━━━━━━━━━━━━━━━━\u001b[0m\u001b[37m\u001b[0m \u001b[1m0s\u001b[0m 46ms/step\n"
          ]
        },
        {
          "output_type": "stream",
          "name": "stderr",
          "text": [
            "\r 37%|███▋      | 422/1141 [00:40<01:11, 10.04it/s]"
          ]
        },
        {
          "output_type": "stream",
          "name": "stdout",
          "text": [
            "Tr-pi_0365.jpg -> Class: pituitary, Confidence: 1.00\n",
            "Moving Tr-pi_0365.jpg to BT100/Training/pituitary/20250328_234102_Tr-pi_0365.jpg\n",
            "\u001b[1m1/1\u001b[0m \u001b[32m━━━━━━━━━━━━━━━━━━━━\u001b[0m\u001b[37m\u001b[0m \u001b[1m0s\u001b[0m 38ms/step\n",
            "Tr-gl_0412.jpg -> Class: glioma, Confidence: 1.00\n",
            "Moving Tr-gl_0412.jpg to BT100/Training/glioma/20250328_234102_Tr-gl_0412.jpg\n",
            "\u001b[1m1/1\u001b[0m \u001b[32m━━━━━━━━━━━━━━━━━━━━\u001b[0m\u001b[37m\u001b[0m \u001b[1m0s\u001b[0m 32ms/step\n"
          ]
        },
        {
          "output_type": "stream",
          "name": "stderr",
          "text": [
            "\r 37%|███▋      | 424/1141 [00:40<01:11, 10.05it/s]"
          ]
        },
        {
          "output_type": "stream",
          "name": "stdout",
          "text": [
            "Tr-me_0971.jpg -> Class: meningioma, Confidence: 1.00\n",
            "Moving Tr-me_0971.jpg to BT100/Training/meningioma/20250328_234102_Tr-me_0971.jpg\n",
            "\u001b[1m1/1\u001b[0m \u001b[32m━━━━━━━━━━━━━━━━━━━━\u001b[0m\u001b[37m\u001b[0m \u001b[1m0s\u001b[0m 31ms/step\n",
            "Tr-me_1094.jpg -> Class: meningioma, Confidence: 1.00\n",
            "Moving Tr-me_1094.jpg to BT100/Training/meningioma/20250328_234102_Tr-me_1094.jpg\n",
            "\u001b[1m1/1\u001b[0m \u001b[32m━━━━━━━━━━━━━━━━━━━━\u001b[0m\u001b[37m\u001b[0m \u001b[1m0s\u001b[0m 34ms/step\n"
          ]
        },
        {
          "output_type": "stream",
          "name": "stderr",
          "text": [
            "\r 37%|███▋      | 426/1141 [00:40<01:10, 10.19it/s]"
          ]
        },
        {
          "output_type": "stream",
          "name": "stdout",
          "text": [
            "Tr-me_0509.jpg -> Class: meningioma, Confidence: 1.00\n",
            "Moving Tr-me_0509.jpg to BT100/Training/meningioma/20250328_234102_Tr-me_0509.jpg\n",
            "\u001b[1m1/1\u001b[0m \u001b[32m━━━━━━━━━━━━━━━━━━━━\u001b[0m\u001b[37m\u001b[0m \u001b[1m0s\u001b[0m 31ms/step\n",
            "Tr-me_0122.jpg -> Class: meningioma, Confidence: 1.00\n",
            "Moving Tr-me_0122.jpg to BT100/Training/meningioma/20250328_234102_Tr-me_0122.jpg\n",
            "\u001b[1m1/1\u001b[0m \u001b[32m━━━━━━━━━━━━━━━━━━━━\u001b[0m\u001b[37m\u001b[0m \u001b[1m0s\u001b[0m 32ms/step\n"
          ]
        },
        {
          "output_type": "stream",
          "name": "stderr",
          "text": [
            "\r 38%|███▊      | 428/1141 [00:40<01:09, 10.31it/s]"
          ]
        },
        {
          "output_type": "stream",
          "name": "stdout",
          "text": [
            "Tr-no_0541.jpg -> Class: notumor, Confidence: 1.00\n",
            "Moving Tr-no_0541.jpg to BT100/Training/notumor/20250328_234102_Tr-no_0541.jpg\n",
            "\u001b[1m1/1\u001b[0m \u001b[32m━━━━━━━━━━━━━━━━━━━━\u001b[0m\u001b[37m\u001b[0m \u001b[1m0s\u001b[0m 33ms/step\n",
            "Tr-me_1153.jpg -> Class: meningioma, Confidence: 1.00\n",
            "Moving Tr-me_1153.jpg to BT100/Training/meningioma/20250328_234102_Tr-me_1153.jpg\n",
            "\u001b[1m1/1\u001b[0m \u001b[32m━━━━━━━━━━━━━━━━━━━━\u001b[0m\u001b[37m\u001b[0m \u001b[1m0s\u001b[0m 31ms/step\n"
          ]
        },
        {
          "output_type": "stream",
          "name": "stderr",
          "text": [
            "\r 38%|███▊      | 430/1141 [00:41<01:09, 10.30it/s]"
          ]
        },
        {
          "output_type": "stream",
          "name": "stdout",
          "text": [
            "Tr-gl_0793.jpg -> Class: glioma, Confidence: 1.00\n",
            "Moving Tr-gl_0793.jpg to BT100/Training/glioma/20250328_234103_Tr-gl_0793.jpg\n",
            "\u001b[1m1/1\u001b[0m \u001b[32m━━━━━━━━━━━━━━━━━━━━\u001b[0m\u001b[37m\u001b[0m \u001b[1m0s\u001b[0m 31ms/step\n",
            "Tr-gl_0506.jpg -> Class: glioma, Confidence: 1.00\n",
            "Moving Tr-gl_0506.jpg to BT100/Training/glioma/20250328_234103_Tr-gl_0506.jpg\n",
            "\u001b[1m1/1\u001b[0m \u001b[32m━━━━━━━━━━━━━━━━━━━━\u001b[0m\u001b[37m\u001b[0m \u001b[1m0s\u001b[0m 31ms/step\n"
          ]
        },
        {
          "output_type": "stream",
          "name": "stderr",
          "text": [
            "\r 38%|███▊      | 432/1141 [00:41<01:07, 10.52it/s]"
          ]
        },
        {
          "output_type": "stream",
          "name": "stdout",
          "text": [
            "Tr-no_1270.jpg -> Class: notumor, Confidence: 1.00\n",
            "Moving Tr-no_1270.jpg to BT100/Training/notumor/20250328_234103_Tr-no_1270.jpg\n",
            "\u001b[1m1/1\u001b[0m \u001b[32m━━━━━━━━━━━━━━━━━━━━\u001b[0m\u001b[37m\u001b[0m \u001b[1m0s\u001b[0m 40ms/step\n",
            "Tr-gl_0302.jpg -> Class: glioma, Confidence: 1.00\n",
            "Moving Tr-gl_0302.jpg to BT100/Training/glioma/20250328_234103_Tr-gl_0302.jpg\n",
            "\u001b[1m1/1\u001b[0m \u001b[32m━━━━━━━━━━━━━━━━━━━━\u001b[0m\u001b[37m\u001b[0m \u001b[1m0s\u001b[0m 31ms/step\n",
            "Tr-gl_0328.jpg -> Class: glioma, Confidence: 1.00"
          ]
        },
        {
          "output_type": "stream",
          "name": "stderr",
          "text": [
            "\r 38%|███▊      | 434/1141 [00:41<01:08, 10.34it/s]"
          ]
        },
        {
          "output_type": "stream",
          "name": "stdout",
          "text": [
            "\n",
            "Moving Tr-gl_0328.jpg to BT100/Training/glioma/20250328_234103_Tr-gl_0328.jpg\n",
            "\u001b[1m1/1\u001b[0m \u001b[32m━━━━━━━━━━━━━━━━━━━━\u001b[0m\u001b[37m\u001b[0m \u001b[1m0s\u001b[0m 36ms/step\n",
            "Tr-no_0215.jpg -> Class: notumor, Confidence: 1.00\n",
            "Moving Tr-no_0215.jpg to BT100/Training/notumor/20250328_234103_Tr-no_0215.jpg\n",
            "\u001b[1m1/1\u001b[0m \u001b[32m━━━━━━━━━━━━━━━━━━━━\u001b[0m\u001b[37m\u001b[0m \u001b[1m0s\u001b[0m 34ms/step\n"
          ]
        },
        {
          "output_type": "stream",
          "name": "stderr",
          "text": [
            "\r 38%|███▊      | 436/1141 [00:41<01:12,  9.74it/s]"
          ]
        },
        {
          "output_type": "stream",
          "name": "stdout",
          "text": [
            "Tr-pi_0510.jpg -> Class: pituitary, Confidence: 1.00\n",
            "Moving Tr-pi_0510.jpg to BT100/Training/pituitary/20250328_234103_Tr-pi_0510.jpg\n",
            "\u001b[1m1/1\u001b[0m \u001b[32m━━━━━━━━━━━━━━━━━━━━\u001b[0m\u001b[37m\u001b[0m \u001b[1m0s\u001b[0m 40ms/step\n"
          ]
        },
        {
          "output_type": "stream",
          "name": "stderr",
          "text": [
            "\r 38%|███▊      | 437/1141 [00:41<01:14,  9.45it/s]"
          ]
        },
        {
          "output_type": "stream",
          "name": "stdout",
          "text": [
            "Tr-gl_1146.jpg -> Class: glioma, Confidence: 0.99\n",
            "Moving Tr-gl_1146.jpg to BT100/Training/glioma/20250328_234103_Tr-gl_1146.jpg\n",
            "\u001b[1m1/1\u001b[0m \u001b[32m━━━━━━━━━━━━━━━━━━━━\u001b[0m\u001b[37m\u001b[0m \u001b[1m0s\u001b[0m 37ms/step\n"
          ]
        },
        {
          "output_type": "stream",
          "name": "stderr",
          "text": [
            "\r 38%|███▊      | 438/1141 [00:41<01:16,  9.22it/s]"
          ]
        },
        {
          "output_type": "stream",
          "name": "stdout",
          "text": [
            "Tr-pi_1209.jpg -> Class: pituitary, Confidence: 1.00\n",
            "Moving Tr-pi_1209.jpg to BT100/Training/pituitary/20250328_234103_Tr-pi_1209.jpg\n",
            "\u001b[1m1/1\u001b[0m \u001b[32m━━━━━━━━━━━━━━━━━━━━\u001b[0m\u001b[37m\u001b[0m \u001b[1m0s\u001b[0m 33ms/step\n",
            "Tr-pi_0224.jpg -> Class: pituitary, Confidence: 1.00\n",
            "Moving Tr-pi_0224.jpg to BT100/Training/pituitary/20250328_234103_Tr-pi_0224.jpg\n",
            "\u001b[1m1/1\u001b[0m \u001b[32m━━━━━━━━━━━━━━━━━━━━\u001b[0m\u001b[37m\u001b[0m \u001b[1m0s\u001b[0m 31ms/step\n"
          ]
        },
        {
          "output_type": "stream",
          "name": "stderr",
          "text": [
            "\r 39%|███▊      | 440/1141 [00:42<01:06, 10.52it/s]"
          ]
        },
        {
          "output_type": "stream",
          "name": "stdout",
          "text": [
            "Tr-no_0263.jpg -> Class: notumor, Confidence: 1.00\n",
            "Moving Tr-no_0263.jpg to BT100/Training/notumor/20250328_234104_Tr-no_0263.jpg\n",
            "\u001b[1m1/1\u001b[0m \u001b[32m━━━━━━━━━━━━━━━━━━━━\u001b[0m\u001b[37m\u001b[0m \u001b[1m0s\u001b[0m 45ms/step\n",
            "Tr-pi_0242.jpg -> Class: pituitary, Confidence: 1.00\n",
            "Moving Tr-pi_0242.jpg to BT100/Training/pituitary/20250328_234104_Tr-pi_0242.jpg\n",
            "\u001b[1m1/1\u001b[0m \u001b[32m━━━━━━━━━━━━━━━━━━━━\u001b[0m\u001b[37m\u001b[0m \u001b[1m0s\u001b[0m 53ms/step\n"
          ]
        },
        {
          "output_type": "stream",
          "name": "stderr",
          "text": [
            "\r 39%|███▊      | 442/1141 [00:42<01:14,  9.43it/s]"
          ]
        },
        {
          "output_type": "stream",
          "name": "stdout",
          "text": [
            "Tr-me_0900.jpg -> Class: meningioma, Confidence: 1.00\n",
            "Moving Tr-me_0900.jpg to BT100/Training/meningioma/20250328_234104_Tr-me_0900.jpg\n",
            "\u001b[1m1/1\u001b[0m \u001b[32m━━━━━━━━━━━━━━━━━━━━\u001b[0m\u001b[37m\u001b[0m \u001b[1m0s\u001b[0m 48ms/step\n"
          ]
        },
        {
          "output_type": "stream",
          "name": "stderr",
          "text": [
            "\r 39%|███▉      | 443/1141 [00:42<01:19,  8.82it/s]"
          ]
        },
        {
          "output_type": "stream",
          "name": "stdout",
          "text": [
            "Tr-me_0126.jpg -> Class: meningioma, Confidence: 0.99\n",
            "Moving Tr-me_0126.jpg to BT100/Training/meningioma/20250328_234104_Tr-me_0126.jpg\n",
            "\u001b[1m1/1\u001b[0m \u001b[32m━━━━━━━━━━━━━━━━━━━━\u001b[0m\u001b[37m\u001b[0m \u001b[1m0s\u001b[0m 48ms/step\n"
          ]
        },
        {
          "output_type": "stream",
          "name": "stderr",
          "text": [
            "\r 39%|███▉      | 444/1141 [00:42<01:18,  8.82it/s]"
          ]
        },
        {
          "output_type": "stream",
          "name": "stdout",
          "text": [
            "Tr-me_0155.jpg -> Class: meningioma, Confidence: 1.00\n",
            "Moving Tr-me_0155.jpg to BT100/Training/meningioma/20250328_234104_Tr-me_0155.jpg\n",
            "\u001b[1m1/1\u001b[0m \u001b[32m━━━━━━━━━━━━━━━━━━━━\u001b[0m\u001b[37m\u001b[0m \u001b[1m0s\u001b[0m 49ms/step\n"
          ]
        },
        {
          "output_type": "stream",
          "name": "stderr",
          "text": [
            "\r 39%|███▉      | 445/1141 [00:42<01:20,  8.68it/s]"
          ]
        },
        {
          "output_type": "stream",
          "name": "stdout",
          "text": [
            "Tr-gl_0710.jpg -> Class: glioma, Confidence: 1.00\n",
            "Moving Tr-gl_0710.jpg to BT100/Training/glioma/20250328_234104_Tr-gl_0710.jpg\n",
            "\u001b[1m1/1\u001b[0m \u001b[32m━━━━━━━━━━━━━━━━━━━━\u001b[0m\u001b[37m\u001b[0m \u001b[1m0s\u001b[0m 51ms/step\n"
          ]
        },
        {
          "output_type": "stream",
          "name": "stderr",
          "text": [
            "\r 39%|███▉      | 446/1141 [00:42<01:22,  8.46it/s]"
          ]
        },
        {
          "output_type": "stream",
          "name": "stdout",
          "text": [
            "Tr-pi_0563.jpg -> Class: pituitary, Confidence: 1.00\n",
            "Moving Tr-pi_0563.jpg to BT100/Training/pituitary/20250328_234104_Tr-pi_0563.jpg\n",
            "\u001b[1m1/1\u001b[0m \u001b[32m━━━━━━━━━━━━━━━━━━━━\u001b[0m\u001b[37m\u001b[0m \u001b[1m0s\u001b[0m 49ms/step\n"
          ]
        },
        {
          "output_type": "stream",
          "name": "stderr",
          "text": [
            "\r 39%|███▉      | 447/1141 [00:43<01:25,  8.16it/s]"
          ]
        },
        {
          "output_type": "stream",
          "name": "stdout",
          "text": [
            "Tr-gl_1119.jpg -> Class: glioma, Confidence: 1.00\n",
            "Moving Tr-gl_1119.jpg to BT100/Training/glioma/20250328_234104_Tr-gl_1119.jpg\n",
            "\u001b[1m1/1\u001b[0m \u001b[32m━━━━━━━━━━━━━━━━━━━━\u001b[0m\u001b[37m\u001b[0m \u001b[1m0s\u001b[0m 69ms/step\n"
          ]
        },
        {
          "output_type": "stream",
          "name": "stderr",
          "text": [
            "\r 39%|███▉      | 448/1141 [00:43<01:27,  7.88it/s]"
          ]
        },
        {
          "output_type": "stream",
          "name": "stdout",
          "text": [
            "Tr-me_0582.jpg -> Class: notumor, Confidence: 1.00\n",
            "Moving Tr-me_0582.jpg to BT100/Training/notumor/20250328_234105_Tr-me_0582.jpg\n",
            "\u001b[1m1/1\u001b[0m \u001b[32m━━━━━━━━━━━━━━━━━━━━\u001b[0m\u001b[37m\u001b[0m \u001b[1m0s\u001b[0m 50ms/step\n"
          ]
        },
        {
          "output_type": "stream",
          "name": "stderr",
          "text": [
            "\r 39%|███▉      | 449/1141 [00:43<01:31,  7.59it/s]"
          ]
        },
        {
          "output_type": "stream",
          "name": "stdout",
          "text": [
            "Tr-no_1151.jpg -> Class: notumor, Confidence: 1.00\n",
            "Moving Tr-no_1151.jpg to BT100/Training/notumor/20250328_234105_Tr-no_1151.jpg\n",
            "\u001b[1m1/1\u001b[0m \u001b[32m━━━━━━━━━━━━━━━━━━━━\u001b[0m\u001b[37m\u001b[0m \u001b[1m0s\u001b[0m 56ms/step\n"
          ]
        },
        {
          "output_type": "stream",
          "name": "stderr",
          "text": [
            "\r 39%|███▉      | 450/1141 [00:43<01:28,  7.78it/s]"
          ]
        },
        {
          "output_type": "stream",
          "name": "stdout",
          "text": [
            "Tr-pi_0212.jpg -> Class: pituitary, Confidence: 1.00\n",
            "Moving Tr-pi_0212.jpg to BT100/Training/pituitary/20250328_234105_Tr-pi_0212.jpg\n",
            "\u001b[1m1/1\u001b[0m \u001b[32m━━━━━━━━━━━━━━━━━━━━\u001b[0m\u001b[37m\u001b[0m \u001b[1m0s\u001b[0m 62ms/step\n"
          ]
        },
        {
          "output_type": "stream",
          "name": "stderr",
          "text": [
            "\r 40%|███▉      | 451/1141 [00:43<01:36,  7.16it/s]"
          ]
        },
        {
          "output_type": "stream",
          "name": "stdout",
          "text": [
            "Tr-me_0964.jpg -> Class: meningioma, Confidence: 1.00\n",
            "Moving Tr-me_0964.jpg to BT100/Training/meningioma/20250328_234105_Tr-me_0964.jpg\n",
            "\u001b[1m1/1\u001b[0m \u001b[32m━━━━━━━━━━━━━━━━━━━━\u001b[0m\u001b[37m\u001b[0m \u001b[1m0s\u001b[0m 52ms/step\n"
          ]
        },
        {
          "output_type": "stream",
          "name": "stderr",
          "text": [
            "\r 40%|███▉      | 452/1141 [00:43<01:36,  7.13it/s]"
          ]
        },
        {
          "output_type": "stream",
          "name": "stdout",
          "text": [
            "Tr-me_0858.jpg -> Class: meningioma, Confidence: 1.00\n",
            "Moving Tr-me_0858.jpg to BT100/Training/meningioma/20250328_234105_Tr-me_0858.jpg\n",
            "\u001b[1m1/1\u001b[0m \u001b[32m━━━━━━━━━━━━━━━━━━━━\u001b[0m\u001b[37m\u001b[0m \u001b[1m0s\u001b[0m 58ms/step\n"
          ]
        },
        {
          "output_type": "stream",
          "name": "stderr",
          "text": [
            "\r 40%|███▉      | 453/1141 [00:43<01:37,  7.03it/s]"
          ]
        },
        {
          "output_type": "stream",
          "name": "stdout",
          "text": [
            "Tr-gl_0892.jpg -> Class: glioma, Confidence: 1.00\n",
            "Moving Tr-gl_0892.jpg to BT100/Training/glioma/20250328_234105_Tr-gl_0892.jpg\n",
            "\u001b[1m1/1\u001b[0m \u001b[32m━━━━━━━━━━━━━━━━━━━━\u001b[0m\u001b[37m\u001b[0m \u001b[1m0s\u001b[0m 48ms/step\n"
          ]
        },
        {
          "output_type": "stream",
          "name": "stderr",
          "text": [
            "\r 40%|███▉      | 454/1141 [00:44<01:37,  7.05it/s]"
          ]
        },
        {
          "output_type": "stream",
          "name": "stdout",
          "text": [
            "Tr-no_0494.jpg -> Class: notumor, Confidence: 1.00\n",
            "Moving Tr-no_0494.jpg to BT100/Training/notumor/20250328_234105_Tr-no_0494.jpg\n",
            "\u001b[1m1/1\u001b[0m \u001b[32m━━━━━━━━━━━━━━━━━━━━\u001b[0m\u001b[37m\u001b[0m \u001b[1m0s\u001b[0m 49ms/step\n"
          ]
        },
        {
          "output_type": "stream",
          "name": "stderr",
          "text": [
            "\r 40%|███▉      | 455/1141 [00:44<01:36,  7.10it/s]"
          ]
        },
        {
          "output_type": "stream",
          "name": "stdout",
          "text": [
            "Tr-me_1271.jpg -> Class: meningioma, Confidence: 1.00\n",
            "Moving Tr-me_1271.jpg to BT100/Training/meningioma/20250328_234106_Tr-me_1271.jpg\n",
            "\u001b[1m1/1\u001b[0m \u001b[32m━━━━━━━━━━━━━━━━━━━━\u001b[0m\u001b[37m\u001b[0m \u001b[1m0s\u001b[0m 46ms/step\n"
          ]
        },
        {
          "output_type": "stream",
          "name": "stderr",
          "text": [
            "\r 40%|███▉      | 456/1141 [00:44<01:37,  7.03it/s]"
          ]
        },
        {
          "output_type": "stream",
          "name": "stdout",
          "text": [
            "Tr-me_0204.jpg -> Class: meningioma, Confidence: 1.00\n",
            "Moving Tr-me_0204.jpg to BT100/Training/meningioma/20250328_234106_Tr-me_0204.jpg\n",
            "\u001b[1m1/1\u001b[0m \u001b[32m━━━━━━━━━━━━━━━━━━━━\u001b[0m\u001b[37m\u001b[0m \u001b[1m0s\u001b[0m 52ms/step\n"
          ]
        },
        {
          "output_type": "stream",
          "name": "stderr",
          "text": [
            "\r 40%|████      | 457/1141 [00:44<01:38,  6.91it/s]"
          ]
        },
        {
          "output_type": "stream",
          "name": "stdout",
          "text": [
            "Tr-no_0750.jpg -> Class: notumor, Confidence: 1.00\n",
            "Moving Tr-no_0750.jpg to BT100/Training/notumor/20250328_234106_Tr-no_0750.jpg\n",
            "\u001b[1m1/1\u001b[0m \u001b[32m━━━━━━━━━━━━━━━━━━━━\u001b[0m\u001b[37m\u001b[0m \u001b[1m0s\u001b[0m 63ms/step\n"
          ]
        },
        {
          "output_type": "stream",
          "name": "stderr",
          "text": [
            "\r 40%|████      | 458/1141 [00:44<01:40,  6.81it/s]"
          ]
        },
        {
          "output_type": "stream",
          "name": "stdout",
          "text": [
            "Tr-me_1297.jpg -> Class: meningioma, Confidence: 1.00\n",
            "Moving Tr-me_1297.jpg to BT100/Training/meningioma/20250328_234106_Tr-me_1297.jpg\n",
            "\u001b[1m1/1\u001b[0m \u001b[32m━━━━━━━━━━━━━━━━━━━━\u001b[0m\u001b[37m\u001b[0m \u001b[1m0s\u001b[0m 33ms/step\n",
            "Tr-gl_0927.jpg -> Class: glioma, Confidence: 1.00\n",
            "Moving Tr-gl_0927.jpg to BT100/Training/glioma/20250328_234106_Tr-gl_0927.jpg\n",
            "\u001b[1m1/1\u001b[0m \u001b[32m━━━━━━━━━━━━━━━━━━━━\u001b[0m\u001b[37m\u001b[0m \u001b[1m0s\u001b[0m 35ms/step\n"
          ]
        },
        {
          "output_type": "stream",
          "name": "stderr",
          "text": [
            "\r 40%|████      | 460/1141 [00:44<01:25,  7.99it/s]"
          ]
        },
        {
          "output_type": "stream",
          "name": "stdout",
          "text": [
            "Tr-me_0768.jpg -> Class: meningioma, Confidence: 1.00\n",
            "Moving Tr-me_0768.jpg to BT100/Training/meningioma/20250328_234106_Tr-me_0768.jpg\n",
            "\u001b[1m1/1\u001b[0m \u001b[32m━━━━━━━━━━━━━━━━━━━━\u001b[0m\u001b[37m\u001b[0m \u001b[1m0s\u001b[0m 35ms/step\n"
          ]
        },
        {
          "output_type": "stream",
          "name": "stderr",
          "text": [
            "\r 40%|████      | 461/1141 [00:44<01:23,  8.11it/s]"
          ]
        },
        {
          "output_type": "stream",
          "name": "stdout",
          "text": [
            "Tr-piTr_0000.jpg -> Class: pituitary, Confidence: 1.00\n",
            "Moving Tr-piTr_0000.jpg to BT100/Training/pituitary/20250328_234106_Tr-piTr_0000.jpg\n",
            "\u001b[1m1/1\u001b[0m \u001b[32m━━━━━━━━━━━━━━━━━━━━\u001b[0m\u001b[37m\u001b[0m \u001b[1m0s\u001b[0m 36ms/step\n",
            "Tr-pi_0042.jpg -> Class: meningioma, Confidence: 0.62\n",
            "Moved low-confidence image Tr-pi_0042.jpg to BT100/low_confidence\n",
            "\u001b[1m1/1\u001b[0m \u001b[32m━━━━━━━━━━━━━━━━━━━━\u001b[0m\u001b[37m\u001b[0m \u001b[1m0s\u001b[0m 33ms/step\n"
          ]
        },
        {
          "output_type": "stream",
          "name": "stderr",
          "text": [
            "\r 41%|████      | 463/1141 [00:45<01:10,  9.67it/s]"
          ]
        },
        {
          "output_type": "stream",
          "name": "stdout",
          "text": [
            "Tr-pi_0765.jpg -> Class: pituitary, Confidence: 1.00\n",
            "Moving Tr-pi_0765.jpg to BT100/Training/pituitary/20250328_234106_Tr-pi_0765.jpg\n",
            "\u001b[1m1/1\u001b[0m \u001b[32m━━━━━━━━━━━━━━━━━━━━\u001b[0m\u001b[37m\u001b[0m \u001b[1m0s\u001b[0m 33ms/step\n",
            "Tr-pi_0143.jpg -> Class: pituitary, Confidence: 1.00\n",
            "Moving Tr-pi_0143.jpg to BT100/Training/pituitary/20250328_234107_Tr-pi_0143.jpg\n",
            "\u001b[1m1/1\u001b[0m \u001b[32m━━━━━━━━━━━━━━━━━━━━\u001b[0m\u001b[37m\u001b[0m \u001b[1m0s\u001b[0m 38ms/step\n"
          ]
        },
        {
          "output_type": "stream",
          "name": "stderr",
          "text": [
            "\r 41%|████      | 465/1141 [00:45<01:08,  9.91it/s]"
          ]
        },
        {
          "output_type": "stream",
          "name": "stdout",
          "text": [
            "Tr-gl_1086.jpg -> Class: glioma, Confidence: 1.00\n",
            "Moving Tr-gl_1086.jpg to BT100/Training/glioma/20250328_234107_Tr-gl_1086.jpg\n",
            "\u001b[1m1/1\u001b[0m \u001b[32m━━━━━━━━━━━━━━━━━━━━\u001b[0m\u001b[37m\u001b[0m \u001b[1m0s\u001b[0m 30ms/step\n",
            "Tr-pi_0389.jpg -> Class: pituitary, Confidence: 1.00\n",
            "Moving Tr-pi_0389.jpg to BT100/Training/pituitary/20250328_234107_Tr-pi_0389.jpg\n",
            "\u001b[1m1/1\u001b[0m \u001b[32m━━━━━━━━━━━━━━━━━━━━\u001b[0m\u001b[37m\u001b[0m \u001b[1m0s\u001b[0m 37ms/step\n"
          ]
        },
        {
          "output_type": "stream",
          "name": "stderr",
          "text": [
            "\r 41%|████      | 467/1141 [00:45<01:07, 10.00it/s]"
          ]
        },
        {
          "output_type": "stream",
          "name": "stdout",
          "text": [
            "Tr-gl_0248.jpg -> Class: glioma, Confidence: 1.00\n",
            "Moving Tr-gl_0248.jpg to BT100/Training/glioma/20250328_234107_Tr-gl_0248.jpg\n",
            "\u001b[1m1/1\u001b[0m \u001b[32m━━━━━━━━━━━━━━━━━━━━\u001b[0m\u001b[37m\u001b[0m \u001b[1m0s\u001b[0m 34ms/step\n"
          ]
        },
        {
          "output_type": "stream",
          "name": "stderr",
          "text": [
            "\r 41%|████      | 468/1141 [00:45<01:09,  9.65it/s]"
          ]
        },
        {
          "output_type": "stream",
          "name": "stdout",
          "text": [
            "Tr-no_0630.jpg -> Class: notumor, Confidence: 1.00\n",
            "Moving Tr-no_0630.jpg to BT100/Training/notumor/20250328_234107_Tr-no_0630.jpg\n",
            "\u001b[1m1/1\u001b[0m \u001b[32m━━━━━━━━━━━━━━━━━━━━\u001b[0m\u001b[37m\u001b[0m \u001b[1m0s\u001b[0m 34ms/step\n",
            "Tr-gl_0453.jpg -> Class: glioma, Confidence: 1.00\n",
            "Moving Tr-gl_0453.jpg to BT100/Training/glioma/20250328_234107_Tr-gl_0453.jpg\n",
            "\u001b[1m1/1\u001b[0m \u001b[32m━━━━━━━━━━━━━━━━━━━━\u001b[0m\u001b[37m\u001b[0m \u001b[1m0s\u001b[0m 33ms/step\n"
          ]
        },
        {
          "output_type": "stream",
          "name": "stderr",
          "text": [
            "\r 41%|████      | 470/1141 [00:45<01:03, 10.52it/s]"
          ]
        },
        {
          "output_type": "stream",
          "name": "stdout",
          "text": [
            "Tr-no_0648.jpg -> Class: notumor, Confidence: 1.00\n",
            "Moving Tr-no_0648.jpg to BT100/Training/notumor/20250328_234107_Tr-no_0648.jpg\n",
            "\u001b[1m1/1\u001b[0m \u001b[32m━━━━━━━━━━━━━━━━━━━━\u001b[0m\u001b[37m\u001b[0m \u001b[1m0s\u001b[0m 36ms/step\n",
            "Tr-me_0576.jpg -> Class: meningioma, Confidence: 1.00\n",
            "Moving Tr-me_0576.jpg to BT100/Training/meningioma/20250328_234107_Tr-me_0576.jpg\n",
            "\u001b[1m1/1\u001b[0m \u001b[32m━━━━━━━━━━━━━━━━━━━━\u001b[0m\u001b[37m\u001b[0m \u001b[1m0s\u001b[0m 35ms/step\n"
          ]
        },
        {
          "output_type": "stream",
          "name": "stderr",
          "text": [
            "\r 41%|████▏     | 472/1141 [00:45<01:05, 10.26it/s]"
          ]
        },
        {
          "output_type": "stream",
          "name": "stdout",
          "text": [
            "Tr-me_0867.jpg -> Class: meningioma, Confidence: 1.00\n",
            "Moving Tr-me_0867.jpg to BT100/Training/meningioma/20250328_234107_Tr-me_0867.jpg\n",
            "\u001b[1m1/1\u001b[0m \u001b[32m━━━━━━━━━━━━━━━━━━━━\u001b[0m\u001b[37m\u001b[0m \u001b[1m0s\u001b[0m 35ms/step\n",
            "Tr-no_0871.jpg -> Class: notumor, Confidence: 1.00\n",
            "Moving Tr-no_0871.jpg to BT100/Training/notumor/20250328_234107_Tr-no_0871.jpg\n",
            "\u001b[1m1/1\u001b[0m \u001b[32m━━━━━━━━━━━━━━━━━━━━\u001b[0m\u001b[37m\u001b[0m \u001b[1m0s\u001b[0m 32ms/step\n"
          ]
        },
        {
          "output_type": "stream",
          "name": "stderr",
          "text": [
            "\r 42%|████▏     | 474/1141 [00:46<01:08,  9.77it/s]"
          ]
        },
        {
          "output_type": "stream",
          "name": "stdout",
          "text": [
            "Tr-gl_1088.jpg -> Class: glioma, Confidence: 1.00\n",
            "Moving Tr-gl_1088.jpg to BT100/Training/glioma/20250328_234108_Tr-gl_1088.jpg\n",
            "\u001b[1m1/1\u001b[0m \u001b[32m━━━━━━━━━━━━━━━━━━━━\u001b[0m\u001b[37m\u001b[0m \u001b[1m0s\u001b[0m 37ms/step\n",
            "Tr-pi_0819.jpg -> Class: pituitary, Confidence: 1.00\n",
            "Moving Tr-pi_0819.jpg to BT100/Training/pituitary/20250328_234108_Tr-pi_0819.jpg\n",
            "\u001b[1m1/1\u001b[0m \u001b[32m━━━━━━━━━━━━━━━━━━━━\u001b[0m\u001b[37m\u001b[0m \u001b[1m0s\u001b[0m 31ms/step\n"
          ]
        },
        {
          "output_type": "stream",
          "name": "stderr",
          "text": [
            "\r 42%|████▏     | 476/1141 [00:46<01:02, 10.65it/s]"
          ]
        },
        {
          "output_type": "stream",
          "name": "stdout",
          "text": [
            "Tr-no_0642.jpg -> Class: notumor, Confidence: 1.00\n",
            "Moving Tr-no_0642.jpg to BT100/Training/notumor/20250328_234108_Tr-no_0642.jpg\n",
            "\u001b[1m1/1\u001b[0m \u001b[32m━━━━━━━━━━━━━━━━━━━━\u001b[0m\u001b[37m\u001b[0m \u001b[1m0s\u001b[0m 36ms/step\n",
            "Tr-me_0171.jpg -> Class: meningioma, Confidence: 0.99\n",
            "Moving Tr-me_0171.jpg to BT100/Training/meningioma/20250328_234108_Tr-me_0171.jpg\n",
            "\u001b[1m1/1\u001b[0m \u001b[32m━━━━━━━━━━━━━━━━━━━━\u001b[0m\u001b[37m\u001b[0m \u001b[1m0s\u001b[0m 34ms/step\n",
            "Tr-gl_0048.jpg -> Class: glioma, Confidence: 1.00\n",
            "Moving Tr-gl_0048.jpg to BT100/Training/glioma/20250328_234108_Tr-gl_0048.jpg\n"
          ]
        },
        {
          "output_type": "stream",
          "name": "stderr",
          "text": [
            "\r 42%|████▏     | 478/1141 [00:46<01:03, 10.51it/s]"
          ]
        },
        {
          "output_type": "stream",
          "name": "stdout",
          "text": [
            "\u001b[1m1/1\u001b[0m \u001b[32m━━━━━━━━━━━━━━━━━━━━\u001b[0m\u001b[37m\u001b[0m \u001b[1m0s\u001b[0m 41ms/step\n",
            "Tr-gl_0926.jpg -> Class: glioma, Confidence: 1.00\n",
            "Moving Tr-gl_0926.jpg to BT100/Training/glioma/20250328_234108_Tr-gl_0926.jpg\n",
            "\u001b[1m1/1\u001b[0m \u001b[32m━━━━━━━━━━━━━━━━━━━━\u001b[0m\u001b[37m\u001b[0m \u001b[1m0s\u001b[0m 33ms/step\n"
          ]
        },
        {
          "output_type": "stream",
          "name": "stderr",
          "text": [
            "\r 42%|████▏     | 480/1141 [00:46<01:06,  9.98it/s]"
          ]
        },
        {
          "output_type": "stream",
          "name": "stdout",
          "text": [
            "Tr-no_1393.jpg -> Class: notumor, Confidence: 1.00\n",
            "Moving Tr-no_1393.jpg to BT100/Training/notumor/20250328_234108_Tr-no_1393.jpg\n",
            "\u001b[1m1/1\u001b[0m \u001b[32m━━━━━━━━━━━━━━━━━━━━\u001b[0m\u001b[37m\u001b[0m \u001b[1m0s\u001b[0m 37ms/step\n",
            "Tr-pi_0392.jpg -> Class: pituitary, Confidence: 1.00\n",
            "Moving Tr-pi_0392.jpg to BT100/Training/pituitary/20250328_234108_Tr-pi_0392.jpg\n",
            "\u001b[1m1/1\u001b[0m \u001b[32m━━━━━━━━━━━━━━━━━━━━\u001b[0m\u001b[37m\u001b[0m \u001b[1m0s\u001b[0m 34ms/step\n"
          ]
        },
        {
          "output_type": "stream",
          "name": "stderr",
          "text": [
            "\r 42%|████▏     | 482/1141 [00:46<01:06,  9.87it/s]"
          ]
        },
        {
          "output_type": "stream",
          "name": "stdout",
          "text": [
            "Tr-no_1367.jpg -> Class: notumor, Confidence: 1.00\n",
            "Moving Tr-no_1367.jpg to BT100/Training/notumor/20250328_234108_Tr-no_1367.jpg\n",
            "\u001b[1m1/1\u001b[0m \u001b[32m━━━━━━━━━━━━━━━━━━━━\u001b[0m\u001b[37m\u001b[0m \u001b[1m0s\u001b[0m 33ms/step\n",
            "Tr-gl_0289.jpg -> Class: glioma, Confidence: 1.00\n",
            "Moving Tr-gl_0289.jpg to BT100/Training/glioma/20250328_234108_Tr-gl_0289.jpg\n",
            "\u001b[1m1/1\u001b[0m \u001b[32m━━━━━━━━━━━━━━━━━━━━\u001b[0m\u001b[37m\u001b[0m \u001b[1m0s\u001b[0m 33ms/step\n"
          ]
        },
        {
          "output_type": "stream",
          "name": "stderr",
          "text": [
            "\r 42%|████▏     | 484/1141 [00:47<01:05,  9.99it/s]"
          ]
        },
        {
          "output_type": "stream",
          "name": "stdout",
          "text": [
            "Tr-gl_0746.jpg -> Class: glioma, Confidence: 1.00\n",
            "Moving Tr-gl_0746.jpg to BT100/Training/glioma/20250328_234109_Tr-gl_0746.jpg\n",
            "\u001b[1m1/1\u001b[0m \u001b[32m━━━━━━━━━━━━━━━━━━━━\u001b[0m\u001b[37m\u001b[0m \u001b[1m0s\u001b[0m 33ms/step\n",
            "Tr-noTr_0004.jpg -> Class: notumor, Confidence: 1.00\n",
            "Moving Tr-noTr_0004.jpg to BT100/Training/notumor/20250328_234109_Tr-noTr_0004.jpg\n",
            "\u001b[1m1/1\u001b[0m \u001b[32m━━━━━━━━━━━━━━━━━━━━\u001b[0m\u001b[37m\u001b[0m \u001b[1m0s\u001b[0m 32ms/step\n"
          ]
        },
        {
          "output_type": "stream",
          "name": "stderr",
          "text": [
            "\r 43%|████▎     | 486/1141 [00:47<01:04, 10.16it/s]"
          ]
        },
        {
          "output_type": "stream",
          "name": "stdout",
          "text": [
            "Tr-no_0851.jpg -> Class: notumor, Confidence: 1.00\n",
            "Moving Tr-no_0851.jpg to BT100/Training/notumor/20250328_234109_Tr-no_0851.jpg\n",
            "\u001b[1m1/1\u001b[0m \u001b[32m━━━━━━━━━━━━━━━━━━━━\u001b[0m\u001b[37m\u001b[0m \u001b[1m0s\u001b[0m 37ms/step\n",
            "Tr-pi_0254.jpg -> Class: pituitary, Confidence: 1.00\n",
            "Moving Tr-pi_0254.jpg to BT100/Training/pituitary/20250328_234109_Tr-pi_0254.jpg\n",
            "\u001b[1m1/1\u001b[0m \u001b[32m━━━━━━━━━━━━━━━━━━━━\u001b[0m\u001b[37m\u001b[0m \u001b[1m0s\u001b[0m 36ms/step\n"
          ]
        },
        {
          "output_type": "stream",
          "name": "stderr",
          "text": [
            "\r 43%|████▎     | 488/1141 [00:47<01:08,  9.50it/s]"
          ]
        },
        {
          "output_type": "stream",
          "name": "stdout",
          "text": [
            "Tr-me_0683.jpg -> Class: meningioma, Confidence: 1.00\n",
            "Moving Tr-me_0683.jpg to BT100/Training/meningioma/20250328_234109_Tr-me_0683.jpg\n",
            "\u001b[1m1/1\u001b[0m \u001b[32m━━━━━━━━━━━━━━━━━━━━\u001b[0m\u001b[37m\u001b[0m \u001b[1m0s\u001b[0m 37ms/step\n"
          ]
        },
        {
          "output_type": "stream",
          "name": "stderr",
          "text": [
            "\r 43%|████▎     | 489/1141 [00:47<01:11,  9.11it/s]"
          ]
        },
        {
          "output_type": "stream",
          "name": "stdout",
          "text": [
            "Tr-me_1207.jpg -> Class: meningioma, Confidence: 1.00\n",
            "Moving Tr-me_1207.jpg to BT100/Training/meningioma/20250328_234109_Tr-me_1207.jpg\n",
            "\u001b[1m1/1\u001b[0m \u001b[32m━━━━━━━━━━━━━━━━━━━━\u001b[0m\u001b[37m\u001b[0m \u001b[1m0s\u001b[0m 31ms/step\n",
            "Tr-pi_0410.jpg -> Class: pituitary, Confidence: 1.00\n",
            "Moving Tr-pi_0410.jpg to BT100/Training/pituitary/20250328_234109_Tr-pi_0410.jpg\n",
            "\u001b[1m1/1\u001b[0m \u001b[32m━━━━━━━━━━━━━━━━━━━━\u001b[0m\u001b[37m\u001b[0m \u001b[1m0s\u001b[0m 31ms/step\n"
          ]
        },
        {
          "output_type": "stream",
          "name": "stderr",
          "text": [
            "\r 43%|████▎     | 491/1141 [00:47<01:03, 10.27it/s]"
          ]
        },
        {
          "output_type": "stream",
          "name": "stdout",
          "text": [
            "Tr-me_1147.jpg -> Class: meningioma, Confidence: 1.00\n",
            "Moving Tr-me_1147.jpg to BT100/Training/meningioma/20250328_234109_Tr-me_1147.jpg\n",
            "\u001b[1m1/1\u001b[0m \u001b[32m━━━━━━━━━━━━━━━━━━━━\u001b[0m\u001b[37m\u001b[0m \u001b[1m0s\u001b[0m 35ms/step\n",
            "Tr-me_1270.jpg -> Class: pituitary, Confidence: 0.93\n",
            "Moved low-confidence image Tr-me_1270.jpg to BT100/low_confidence\n",
            "\u001b[1m1/1\u001b[0m \u001b[32m━━━━━━━━━━━━━━━━━━━━\u001b[0m\u001b[37m\u001b[0m \u001b[1m0s\u001b[0m 36ms/step\n"
          ]
        },
        {
          "output_type": "stream",
          "name": "stderr",
          "text": [
            "\r 43%|████▎     | 493/1141 [00:48<01:03, 10.20it/s]"
          ]
        },
        {
          "output_type": "stream",
          "name": "stdout",
          "text": [
            "Tr-gl_0581.jpg -> Class: glioma, Confidence: 1.00\n",
            "Moving Tr-gl_0581.jpg to BT100/Training/glioma/20250328_234109_Tr-gl_0581.jpg\n",
            "\u001b[1m1/1\u001b[0m \u001b[32m━━━━━━━━━━━━━━━━━━━━\u001b[0m\u001b[37m\u001b[0m \u001b[1m0s\u001b[0m 32ms/step\n",
            "Tr-pi_0888.jpg -> Class: pituitary, Confidence: 1.00\n",
            "Moving Tr-pi_0888.jpg to BT100/Training/pituitary/20250328_234110_Tr-pi_0888.jpg\n",
            "\u001b[1m1/1\u001b[0m \u001b[32m━━━━━━━━━━━━━━━━━━━━\u001b[0m\u001b[37m\u001b[0m \u001b[1m0s\u001b[0m 33ms/step\n"
          ]
        },
        {
          "output_type": "stream",
          "name": "stderr",
          "text": [
            "\r 43%|████▎     | 495/1141 [00:48<01:07,  9.57it/s]"
          ]
        },
        {
          "output_type": "stream",
          "name": "stdout",
          "text": [
            "Tr-me_0441.jpg -> Class: meningioma, Confidence: 1.00\n",
            "Moving Tr-me_0441.jpg to BT100/Training/meningioma/20250328_234110_Tr-me_0441.jpg\n",
            "\u001b[1m1/1\u001b[0m \u001b[32m━━━━━━━━━━━━━━━━━━━━\u001b[0m\u001b[37m\u001b[0m \u001b[1m0s\u001b[0m 38ms/step\n"
          ]
        },
        {
          "output_type": "stream",
          "name": "stderr",
          "text": [
            "\r 43%|████▎     | 496/1141 [00:48<01:08,  9.35it/s]"
          ]
        },
        {
          "output_type": "stream",
          "name": "stdout",
          "text": [
            "Tr-no_0544.jpg -> Class: notumor, Confidence: 1.00\n",
            "Moving Tr-no_0544.jpg to BT100/Training/notumor/20250328_234110_Tr-no_0544.jpg\n",
            "\u001b[1m1/1\u001b[0m \u001b[32m━━━━━━━━━━━━━━━━━━━━\u001b[0m\u001b[37m\u001b[0m \u001b[1m0s\u001b[0m 32ms/step\n",
            "Tr-no_1577.jpg -> Class: notumor, Confidence: 1.00\n",
            "Moving Tr-no_1577.jpg to BT100/Training/notumor/20250328_234110_Tr-no_1577.jpg\n",
            "\u001b[1m1/1\u001b[0m \u001b[32m━━━━━━━━━━━━━━━━━━━━\u001b[0m\u001b[37m\u001b[0m \u001b[1m0s\u001b[0m 33ms/step\n"
          ]
        },
        {
          "output_type": "stream",
          "name": "stderr",
          "text": [
            "\r 44%|████▎     | 498/1141 [00:48<01:06,  9.68it/s]"
          ]
        },
        {
          "output_type": "stream",
          "name": "stdout",
          "text": [
            "Tr-no_0614.jpg -> Class: notumor, Confidence: 1.00\n",
            "Moving Tr-no_0614.jpg to BT100/Training/notumor/20250328_234110_Tr-no_0614.jpg\n",
            "\u001b[1m1/1\u001b[0m \u001b[32m━━━━━━━━━━━━━━━━━━━━\u001b[0m\u001b[37m\u001b[0m \u001b[1m0s\u001b[0m 40ms/step\n"
          ]
        },
        {
          "output_type": "stream",
          "name": "stderr",
          "text": [
            "\r 44%|████▎     | 499/1141 [00:48<01:09,  9.26it/s]"
          ]
        },
        {
          "output_type": "stream",
          "name": "stdout",
          "text": [
            "Tr-me_0580.jpg -> Class: meningioma, Confidence: 1.00\n",
            "Moving Tr-me_0580.jpg to BT100/Training/meningioma/20250328_234110_Tr-me_0580.jpg\n",
            "\u001b[1m1/1\u001b[0m \u001b[32m━━━━━━━━━━━━━━━━━━━━\u001b[0m\u001b[37m\u001b[0m \u001b[1m0s\u001b[0m 36ms/step\n"
          ]
        },
        {
          "output_type": "stream",
          "name": "stderr",
          "text": [
            "\r 44%|████▍     | 500/1141 [00:48<01:11,  9.02it/s]"
          ]
        },
        {
          "output_type": "stream",
          "name": "stdout",
          "text": [
            "Tr-gl_0938.jpg -> Class: glioma, Confidence: 1.00\n",
            "Moving Tr-gl_0938.jpg to BT100/Training/glioma/20250328_234110_Tr-gl_0938.jpg\n",
            "\u001b[1m1/1\u001b[0m \u001b[32m━━━━━━━━━━━━━━━━━━━━\u001b[0m\u001b[37m\u001b[0m \u001b[1m0s\u001b[0m 34ms/step\n"
          ]
        },
        {
          "output_type": "stream",
          "name": "stderr",
          "text": [
            "\r 44%|████▍     | 501/1141 [00:48<01:12,  8.83it/s]"
          ]
        },
        {
          "output_type": "stream",
          "name": "stdout",
          "text": [
            "Tr-gl_0311.jpg -> Class: glioma, Confidence: 1.00\n",
            "Moving Tr-gl_0311.jpg to BT100/Training/glioma/20250328_234110_Tr-gl_0311.jpg\n",
            "\u001b[1m1/1\u001b[0m \u001b[32m━━━━━━━━━━━━━━━━━━━━\u001b[0m\u001b[37m\u001b[0m \u001b[1m0s\u001b[0m 35ms/step\n"
          ]
        },
        {
          "output_type": "stream",
          "name": "stderr",
          "text": [
            "\r 44%|████▍     | 502/1141 [00:49<01:13,  8.70it/s]"
          ]
        },
        {
          "output_type": "stream",
          "name": "stdout",
          "text": [
            "Tr-no_0509.jpg -> Class: notumor, Confidence: 1.00\n",
            "Moving Tr-no_0509.jpg to BT100/Training/notumor/20250328_234110_Tr-no_0509.jpg\n",
            "\u001b[1m1/1\u001b[0m \u001b[32m━━━━━━━━━━━━━━━━━━━━\u001b[0m\u001b[37m\u001b[0m \u001b[1m0s\u001b[0m 36ms/step\n"
          ]
        },
        {
          "output_type": "stream",
          "name": "stderr",
          "text": [
            "\r 44%|████▍     | 503/1141 [00:49<01:13,  8.67it/s]"
          ]
        },
        {
          "output_type": "stream",
          "name": "stdout",
          "text": [
            "Tr-no_1473.jpg -> Class: notumor, Confidence: 1.00\n",
            "Moving Tr-no_1473.jpg to BT100/Training/notumor/20250328_234111_Tr-no_1473.jpg\n",
            "\u001b[1m1/1\u001b[0m \u001b[32m━━━━━━━━━━━━━━━━━━━━\u001b[0m\u001b[37m\u001b[0m \u001b[1m0s\u001b[0m 36ms/step\n",
            "Tr-gl_1251.jpg -> Class: glioma, Confidence: 1.00\n",
            "Moving Tr-gl_1251.jpg to BT100/Training/glioma/20250328_234111_Tr-gl_1251.jpg\n",
            "\u001b[1m1/1\u001b[0m \u001b[32m━━━━━━━━━━━━━━━━━━━━\u001b[0m\u001b[37m\u001b[0m \u001b[1m0s\u001b[0m 36ms/step\n"
          ]
        },
        {
          "output_type": "stream",
          "name": "stderr",
          "text": [
            "\r 44%|████▍     | 505/1141 [00:49<01:08,  9.31it/s]"
          ]
        },
        {
          "output_type": "stream",
          "name": "stdout",
          "text": [
            "Tr-gl_1053.jpg -> Class: glioma, Confidence: 1.00\n",
            "Moving Tr-gl_1053.jpg to BT100/Training/glioma/20250328_234111_Tr-gl_1053.jpg\n",
            "\u001b[1m1/1\u001b[0m \u001b[32m━━━━━━━━━━━━━━━━━━━━\u001b[0m\u001b[37m\u001b[0m \u001b[1m0s\u001b[0m 34ms/step\n",
            "Tr-pi_0779.jpg -> Class: pituitary, Confidence: 1.00\n",
            "Moving Tr-pi_0779.jpg to BT100/Training/pituitary/20250328_234111_Tr-pi_0779.jpg\n",
            "\u001b[1m1/1\u001b[0m \u001b[32m━━━━━━━━━━━━━━━━━━━━\u001b[0m\u001b[37m\u001b[0m \u001b[1m0s\u001b[0m 34ms/step\n"
          ]
        },
        {
          "output_type": "stream",
          "name": "stderr",
          "text": [
            "\r 44%|████▍     | 507/1141 [00:49<01:01, 10.23it/s]"
          ]
        },
        {
          "output_type": "stream",
          "name": "stdout",
          "text": [
            "Tr-pi_0121.jpg -> Class: pituitary, Confidence: 1.00\n",
            "Moving Tr-pi_0121.jpg to BT100/Training/pituitary/20250328_234111_Tr-pi_0121.jpg\n",
            "\u001b[1m1/1\u001b[0m \u001b[32m━━━━━━━━━━━━━━━━━━━━\u001b[0m\u001b[37m\u001b[0m \u001b[1m0s\u001b[0m 40ms/step\n",
            "Tr-gl_0487.jpg -> Class: glioma, Confidence: 1.00\n",
            "Moving Tr-gl_0487.jpg to BT100/Training/glioma/20250328_234111_Tr-gl_0487.jpg\n",
            "\u001b[1m1/1\u001b[0m \u001b[32m━━━━━━━━━━━━━━━━━━━━\u001b[0m\u001b[37m\u001b[0m \u001b[1m0s\u001b[0m 40ms/step\n"
          ]
        },
        {
          "output_type": "stream",
          "name": "stderr",
          "text": [
            "\r 45%|████▍     | 509/1141 [00:49<01:06,  9.49it/s]"
          ]
        },
        {
          "output_type": "stream",
          "name": "stdout",
          "text": [
            "Tr-pi_0289.jpg -> Class: pituitary, Confidence: 1.00\n",
            "Moving Tr-pi_0289.jpg to BT100/Training/pituitary/20250328_234111_Tr-pi_0289.jpg\n",
            "\u001b[1m1/1\u001b[0m \u001b[32m━━━━━━━━━━━━━━━━━━━━\u001b[0m\u001b[37m\u001b[0m \u001b[1m0s\u001b[0m 36ms/step\n"
          ]
        },
        {
          "output_type": "stream",
          "name": "stderr",
          "text": [
            "\r 45%|████▍     | 510/1141 [00:49<01:09,  9.14it/s]"
          ]
        },
        {
          "output_type": "stream",
          "name": "stdout",
          "text": [
            "Tr-gl_0988.jpg -> Class: glioma, Confidence: 1.00\n",
            "Moving Tr-gl_0988.jpg to BT100/Training/glioma/20250328_234111_Tr-gl_0988.jpg\n",
            "\u001b[1m1/1\u001b[0m \u001b[32m━━━━━━━━━━━━━━━━━━━━\u001b[0m\u001b[37m\u001b[0m \u001b[1m0s\u001b[0m 34ms/step\n",
            "Tr-no_1029.jpg -> Class: notumor, Confidence: 1.00\n",
            "Moving Tr-no_1029.jpg to BT100/Training/notumor/20250328_234111_Tr-no_1029.jpg\n",
            "\u001b[1m1/1\u001b[0m \u001b[32m━━━━━━━━━━━━━━━━━━━━\u001b[0m\u001b[37m\u001b[0m \u001b[1m0s\u001b[0m 32ms/step\n"
          ]
        },
        {
          "output_type": "stream",
          "name": "stderr",
          "text": [
            "\r 45%|████▍     | 512/1141 [00:50<01:06,  9.51it/s]"
          ]
        },
        {
          "output_type": "stream",
          "name": "stdout",
          "text": [
            "Tr-pi_1176.jpg -> Class: pituitary, Confidence: 1.00\n",
            "Moving Tr-pi_1176.jpg to BT100/Training/pituitary/20250328_234112_Tr-pi_1176.jpg\n",
            "\u001b[1m1/1\u001b[0m \u001b[32m━━━━━━━━━━━━━━━━━━━━\u001b[0m\u001b[37m\u001b[0m \u001b[1m0s\u001b[0m 34ms/step\n"
          ]
        },
        {
          "output_type": "stream",
          "name": "stderr",
          "text": [
            "\r 45%|████▍     | 513/1141 [00:50<01:07,  9.30it/s]"
          ]
        },
        {
          "output_type": "stream",
          "name": "stdout",
          "text": [
            "Tr-pi_0152.jpg -> Class: pituitary, Confidence: 1.00\n",
            "Moving Tr-pi_0152.jpg to BT100/Training/pituitary/20250328_234112_Tr-pi_0152.jpg\n",
            "\u001b[1m1/1\u001b[0m \u001b[32m━━━━━━━━━━━━━━━━━━━━\u001b[0m\u001b[37m\u001b[0m \u001b[1m0s\u001b[0m 41ms/step\n"
          ]
        },
        {
          "output_type": "stream",
          "name": "stderr",
          "text": [
            "\r 45%|████▌     | 514/1141 [00:50<01:09,  8.97it/s]"
          ]
        },
        {
          "output_type": "stream",
          "name": "stdout",
          "text": [
            "Tr-pi_1190.jpg -> Class: pituitary, Confidence: 1.00\n",
            "Moving Tr-pi_1190.jpg to BT100/Training/pituitary/20250328_234112_Tr-pi_1190.jpg\n",
            "\u001b[1m1/1\u001b[0m \u001b[32m━━━━━━━━━━━━━━━━━━━━\u001b[0m\u001b[37m\u001b[0m \u001b[1m0s\u001b[0m 31ms/step\n",
            "Tr-no_0062.jpg -> Class: notumor, Confidence: 1.00\n",
            "Moving Tr-no_0062.jpg to BT100/Training/notumor/20250328_234112_Tr-no_0062.jpg\n",
            "\u001b[1m1/1\u001b[0m \u001b[32m━━━━━━━━━━━━━━━━━━━━\u001b[0m\u001b[37m\u001b[0m \u001b[1m0s\u001b[0m 31ms/step\n"
          ]
        },
        {
          "output_type": "stream",
          "name": "stderr",
          "text": [
            "\r 45%|████▌     | 516/1141 [00:50<01:01, 10.21it/s]"
          ]
        },
        {
          "output_type": "stream",
          "name": "stdout",
          "text": [
            "Tr-gl_0183.jpg -> Class: glioma, Confidence: 1.00\n",
            "Moving Tr-gl_0183.jpg to BT100/Training/glioma/20250328_234112_Tr-gl_0183.jpg\n",
            "\u001b[1m1/1\u001b[0m \u001b[32m━━━━━━━━━━━━━━━━━━━━\u001b[0m\u001b[37m\u001b[0m \u001b[1m0s\u001b[0m 36ms/step\n",
            "Tr-pi_0280.jpg -> Class: pituitary, Confidence: 1.00\n",
            "Moving Tr-pi_0280.jpg to BT100/Training/pituitary/20250328_234112_Tr-pi_0280.jpg\n",
            "\u001b[1m1/1\u001b[0m \u001b[32m━━━━━━━━━━━━━━━━━━━━\u001b[0m\u001b[37m\u001b[0m \u001b[1m0s\u001b[0m 43ms/step\n"
          ]
        },
        {
          "output_type": "stream",
          "name": "stderr",
          "text": [
            "\r 45%|████▌     | 518/1141 [00:50<01:06,  9.42it/s]"
          ]
        },
        {
          "output_type": "stream",
          "name": "stdout",
          "text": [
            "Tr-gl_0857.jpg -> Class: glioma, Confidence: 1.00\n",
            "Moving Tr-gl_0857.jpg to BT100/Training/glioma/20250328_234112_Tr-gl_0857.jpg\n",
            "\u001b[1m1/1\u001b[0m \u001b[32m━━━━━━━━━━━━━━━━━━━━\u001b[0m\u001b[37m\u001b[0m \u001b[1m0s\u001b[0m 36ms/step\n"
          ]
        },
        {
          "output_type": "stream",
          "name": "stderr",
          "text": [
            "\r 45%|████▌     | 519/1141 [00:50<01:07,  9.20it/s]"
          ]
        },
        {
          "output_type": "stream",
          "name": "stdout",
          "text": [
            "Tr-no_0856.jpg -> Class: notumor, Confidence: 1.00\n",
            "Moving Tr-no_0856.jpg to BT100/Training/notumor/20250328_234112_Tr-no_0856.jpg\n",
            "\u001b[1m1/1\u001b[0m \u001b[32m━━━━━━━━━━━━━━━━━━━━\u001b[0m\u001b[37m\u001b[0m \u001b[1m0s\u001b[0m 37ms/step\n"
          ]
        },
        {
          "output_type": "stream",
          "name": "stderr",
          "text": [
            "\r 46%|████▌     | 520/1141 [00:50<01:09,  8.93it/s]"
          ]
        },
        {
          "output_type": "stream",
          "name": "stdout",
          "text": [
            "Tr-no_1592.jpg -> Class: notumor, Confidence: 1.00\n",
            "Moving Tr-no_1592.jpg to BT100/Training/notumor/20250328_234112_Tr-no_1592.jpg\n",
            "\u001b[1m1/1\u001b[0m \u001b[32m━━━━━━━━━━━━━━━━━━━━\u001b[0m\u001b[37m\u001b[0m \u001b[1m0s\u001b[0m 32ms/step\n"
          ]
        },
        {
          "output_type": "stream",
          "name": "stderr",
          "text": [
            "\r 46%|████▌     | 521/1141 [00:51<01:10,  8.81it/s]"
          ]
        },
        {
          "output_type": "stream",
          "name": "stdout",
          "text": [
            "Tr-pi_1442.jpg -> Class: pituitary, Confidence: 1.00\n",
            "Moving Tr-pi_1442.jpg to BT100/Training/pituitary/20250328_234113_Tr-pi_1442.jpg\n",
            "\u001b[1m1/1\u001b[0m \u001b[32m━━━━━━━━━━━━━━━━━━━━\u001b[0m\u001b[37m\u001b[0m \u001b[1m0s\u001b[0m 37ms/step\n",
            "Tr-pi_1340.jpg -> Class: pituitary, Confidence: 1.00\n",
            "Moving Tr-pi_1340.jpg to BT100/Training/pituitary/20250328_234113_Tr-pi_1340.jpg\n",
            "\u001b[1m1/1\u001b[0m \u001b[32m━━━━━━━━━━━━━━━━━━━━\u001b[0m\u001b[37m\u001b[0m \u001b[1m0s\u001b[0m 33ms/step\n"
          ]
        },
        {
          "output_type": "stream",
          "name": "stderr",
          "text": [
            "\r 46%|████▌     | 523/1141 [00:51<01:01, 10.04it/s]"
          ]
        },
        {
          "output_type": "stream",
          "name": "stdout",
          "text": [
            "Tr-piTr_0004.jpg -> Class: pituitary, Confidence: 1.00\n",
            "Moving Tr-piTr_0004.jpg to BT100/Training/pituitary/20250328_234113_Tr-piTr_0004.jpg\n",
            "\u001b[1m1/1\u001b[0m \u001b[32m━━━━━━━━━━━━━━━━━━━━\u001b[0m\u001b[37m\u001b[0m \u001b[1m0s\u001b[0m 39ms/step\n"
          ]
        },
        {
          "output_type": "stream",
          "name": "stderr",
          "text": [
            "\r 46%|████▌     | 524/1141 [00:51<01:04,  9.63it/s]"
          ]
        },
        {
          "output_type": "stream",
          "name": "stdout",
          "text": [
            "Tr-no_1177.jpg -> Class: notumor, Confidence: 1.00\n",
            "Moving Tr-no_1177.jpg to BT100/Training/notumor/20250328_234113_Tr-no_1177.jpg\n",
            "\u001b[1m1/1\u001b[0m \u001b[32m━━━━━━━━━━━━━━━━━━━━\u001b[0m\u001b[37m\u001b[0m \u001b[1m0s\u001b[0m 35ms/step\n",
            "Tr-pi_1049.jpg -> Class: pituitary, Confidence: 1.00\n",
            "Moving Tr-pi_1049.jpg to BT100/Training/pituitary/20250328_234113_Tr-pi_1049.jpg\n",
            "\u001b[1m1/1\u001b[0m \u001b[32m━━━━━━━━━━━━━━━━━━━━\u001b[0m\u001b[37m\u001b[0m \u001b[1m0s\u001b[0m 32ms/step\n"
          ]
        },
        {
          "output_type": "stream",
          "name": "stderr",
          "text": [
            "\r 46%|████▌     | 526/1141 [00:51<00:57, 10.62it/s]"
          ]
        },
        {
          "output_type": "stream",
          "name": "stdout",
          "text": [
            "Tr-pi_0060.jpg -> Class: pituitary, Confidence: 1.00\n",
            "Moving Tr-pi_0060.jpg to BT100/Training/pituitary/20250328_234113_Tr-pi_0060.jpg\n",
            "\u001b[1m1/1\u001b[0m \u001b[32m━━━━━━━━━━━━━━━━━━━━\u001b[0m\u001b[37m\u001b[0m \u001b[1m0s\u001b[0m 35ms/step\n",
            "Tr-no_1360.jpg -> Class: notumor, Confidence: 1.00\n",
            "Moving Tr-no_1360.jpg to BT100/Training/notumor/20250328_234113_Tr-no_1360.jpg\n",
            "\u001b[1m1/1\u001b[0m \u001b[32m━━━━━━━━━━━━━━━━━━━━\u001b[0m\u001b[37m\u001b[0m \u001b[1m0s\u001b[0m 39ms/step\n"
          ]
        },
        {
          "output_type": "stream",
          "name": "stderr",
          "text": [
            "\r 46%|████▋     | 528/1141 [00:51<01:02,  9.79it/s]"
          ]
        },
        {
          "output_type": "stream",
          "name": "stdout",
          "text": [
            "Tr-gl_0691.jpg -> Class: glioma, Confidence: 1.00\n",
            "Moving Tr-gl_0691.jpg to BT100/Training/glioma/20250328_234113_Tr-gl_0691.jpg\n",
            "\u001b[1m1/1\u001b[0m \u001b[32m━━━━━━━━━━━━━━━━━━━━\u001b[0m\u001b[37m\u001b[0m \u001b[1m0s\u001b[0m 33ms/step\n"
          ]
        },
        {
          "output_type": "stream",
          "name": "stderr",
          "text": [
            "\r 46%|████▋     | 529/1141 [00:51<01:05,  9.40it/s]"
          ]
        },
        {
          "output_type": "stream",
          "name": "stdout",
          "text": [
            "Tr-me_0026.jpg -> Class: meningioma, Confidence: 1.00\n",
            "Moving Tr-me_0026.jpg to BT100/Training/meningioma/20250328_234113_Tr-me_0026.jpg\n",
            "\u001b[1m1/1\u001b[0m \u001b[32m━━━━━━━━━━━━━━━━━━━━\u001b[0m\u001b[37m\u001b[0m \u001b[1m0s\u001b[0m 31ms/step\n",
            "Tr-gl_0351.jpg -> Class: glioma, Confidence: 1.00\n",
            "Moving Tr-gl_0351.jpg to BT100/Training/glioma/20250328_234113_Tr-gl_0351.jpg\n",
            "\u001b[1m1/1\u001b[0m \u001b[32m━━━━━━━━━━━━━━━━━━━━\u001b[0m\u001b[37m\u001b[0m \u001b[1m0s\u001b[0m 38ms/step\n"
          ]
        },
        {
          "output_type": "stream",
          "name": "stderr",
          "text": [
            "\r 47%|████▋     | 531/1141 [00:52<01:02,  9.81it/s]"
          ]
        },
        {
          "output_type": "stream",
          "name": "stdout",
          "text": [
            "Tr-no_0729.jpg -> Class: notumor, Confidence: 1.00\n",
            "Moving Tr-no_0729.jpg to BT100/Training/notumor/20250328_234113_Tr-no_0729.jpg\n",
            "\u001b[1m1/1\u001b[0m \u001b[32m━━━━━━━━━━━━━━━━━━━━\u001b[0m\u001b[37m\u001b[0m \u001b[1m0s\u001b[0m 35ms/step\n"
          ]
        },
        {
          "output_type": "stream",
          "name": "stderr",
          "text": [
            "\r 47%|████▋     | 532/1141 [00:52<01:04,  9.50it/s]"
          ]
        },
        {
          "output_type": "stream",
          "name": "stdout",
          "text": [
            "Tr-me_0055.jpg -> Class: meningioma, Confidence: 1.00\n",
            "Moving Tr-me_0055.jpg to BT100/Training/meningioma/20250328_234114_Tr-me_0055.jpg\n",
            "\u001b[1m1/1\u001b[0m \u001b[32m━━━━━━━━━━━━━━━━━━━━\u001b[0m\u001b[37m\u001b[0m \u001b[1m0s\u001b[0m 34ms/step\n"
          ]
        },
        {
          "output_type": "stream",
          "name": "stderr",
          "text": [
            "\r 47%|████▋     | 533/1141 [00:52<01:05,  9.25it/s]"
          ]
        },
        {
          "output_type": "stream",
          "name": "stdout",
          "text": [
            "Tr-gl_0657.jpg -> Class: glioma, Confidence: 1.00\n",
            "Moving Tr-gl_0657.jpg to BT100/Training/glioma/20250328_234114_Tr-gl_0657.jpg\n",
            "\u001b[1m1/1\u001b[0m \u001b[32m━━━━━━━━━━━━━━━━━━━━\u001b[0m\u001b[37m\u001b[0m \u001b[1m0s\u001b[0m 36ms/step\n"
          ]
        },
        {
          "output_type": "stream",
          "name": "stderr",
          "text": [
            "\r 47%|████▋     | 534/1141 [00:52<01:08,  8.84it/s]"
          ]
        },
        {
          "output_type": "stream",
          "name": "stdout",
          "text": [
            "Tr-pi_0628.jpg -> Class: pituitary, Confidence: 1.00\n",
            "Moving Tr-pi_0628.jpg to BT100/Training/pituitary/20250328_234114_Tr-pi_0628.jpg\n",
            "\u001b[1m1/1\u001b[0m \u001b[32m━━━━━━━━━━━━━━━━━━━━\u001b[0m\u001b[37m\u001b[0m \u001b[1m0s\u001b[0m 35ms/step\n",
            "Tr-pi_0333.jpg -> Class: pituitary, Confidence: 1.00\n",
            "Moving Tr-pi_0333.jpg to BT100/Training/pituitary/20250328_234114_Tr-pi_0333.jpg\n",
            "\u001b[1m1/1\u001b[0m \u001b[32m━━━━━━━━━━━━━━━━━━━━\u001b[0m\u001b[37m\u001b[0m \u001b[1m0s\u001b[0m 31ms/step\n"
          ]
        },
        {
          "output_type": "stream",
          "name": "stderr",
          "text": [
            "\r 47%|████▋     | 536/1141 [00:52<01:03,  9.60it/s]"
          ]
        },
        {
          "output_type": "stream",
          "name": "stdout",
          "text": [
            "Tr-pi_1294.jpg -> Class: pituitary, Confidence: 1.00\n",
            "Moving Tr-pi_1294.jpg to BT100/Training/pituitary/20250328_234114_Tr-pi_1294.jpg\n",
            "\u001b[1m1/1\u001b[0m \u001b[32m━━━━━━━━━━━━━━━━━━━━\u001b[0m\u001b[37m\u001b[0m \u001b[1m0s\u001b[0m 31ms/step\n"
          ]
        },
        {
          "output_type": "stream",
          "name": "stderr",
          "text": [
            "\r 47%|████▋     | 537/1141 [00:52<01:04,  9.39it/s]"
          ]
        },
        {
          "output_type": "stream",
          "name": "stdout",
          "text": [
            "Tr-no_0789.jpg -> Class: notumor, Confidence: 1.00\n",
            "Moving Tr-no_0789.jpg to BT100/Training/notumor/20250328_234114_Tr-no_0789.jpg\n",
            "\u001b[1m1/1\u001b[0m \u001b[32m━━━━━━━━━━━━━━━━━━━━\u001b[0m\u001b[37m\u001b[0m \u001b[1m0s\u001b[0m 35ms/step\n",
            "Tr-pi_1411.jpg -> Class: pituitary, Confidence: 1.00\n",
            "Moving Tr-pi_1411.jpg to BT100/Training/pituitary/20250328_234114_Tr-pi_1411.jpg\n",
            "\u001b[1m1/1\u001b[0m \u001b[32m━━━━━━━━━━━━━━━━━━━━\u001b[0m\u001b[37m\u001b[0m \u001b[1m0s\u001b[0m 31ms/step\n"
          ]
        },
        {
          "output_type": "stream",
          "name": "stderr",
          "text": [
            "\r 47%|████▋     | 539/1141 [00:52<00:57, 10.51it/s]"
          ]
        },
        {
          "output_type": "stream",
          "name": "stdout",
          "text": [
            "Tr-me_0120.jpg -> Class: meningioma, Confidence: 1.00\n",
            "Moving Tr-me_0120.jpg to BT100/Training/meningioma/20250328_234114_Tr-me_0120.jpg\n",
            "\u001b[1m1/1\u001b[0m \u001b[32m━━━━━━━━━━━━━━━━━━━━\u001b[0m\u001b[37m\u001b[0m \u001b[1m0s\u001b[0m 38ms/step\n",
            "Tr-pi_0761.jpg -> Class: pituitary, Confidence: 1.00\n",
            "Moving Tr-pi_0761.jpg to BT100/Training/pituitary/20250328_234114_Tr-pi_0761.jpg\n",
            "\u001b[1m1/1\u001b[0m \u001b[32m━━━━━━━━━━━━━━━━━━━━\u001b[0m\u001b[37m\u001b[0m \u001b[1m0s\u001b[0m 33ms/step\n"
          ]
        },
        {
          "output_type": "stream",
          "name": "stderr",
          "text": [
            "\r 47%|████▋     | 541/1141 [00:53<01:02,  9.63it/s]"
          ]
        },
        {
          "output_type": "stream",
          "name": "stdout",
          "text": [
            "Tr-pi_0395.jpg -> Class: pituitary, Confidence: 1.00\n",
            "Moving Tr-pi_0395.jpg to BT100/Training/pituitary/20250328_234115_Tr-pi_0395.jpg\n",
            "\u001b[1m1/1\u001b[0m \u001b[32m━━━━━━━━━━━━━━━━━━━━\u001b[0m\u001b[37m\u001b[0m \u001b[1m0s\u001b[0m 42ms/step\n"
          ]
        },
        {
          "output_type": "stream",
          "name": "stderr",
          "text": [
            "\r 48%|████▊     | 542/1141 [00:53<01:05,  9.15it/s]"
          ]
        },
        {
          "output_type": "stream",
          "name": "stdout",
          "text": [
            "Tr-pi_1287.jpg -> Class: pituitary, Confidence: 1.00\n",
            "Moving Tr-pi_1287.jpg to BT100/Training/pituitary/20250328_234115_Tr-pi_1287.jpg\n",
            "\u001b[1m1/1\u001b[0m \u001b[32m━━━━━━━━━━━━━━━━━━━━\u001b[0m\u001b[37m\u001b[0m \u001b[1m0s\u001b[0m 36ms/step\n"
          ]
        },
        {
          "output_type": "stream",
          "name": "stderr",
          "text": [
            "\r 48%|████▊     | 543/1141 [00:53<01:06,  8.96it/s]"
          ]
        },
        {
          "output_type": "stream",
          "name": "stdout",
          "text": [
            "Tr-pi_1239.jpg -> Class: pituitary, Confidence: 1.00\n",
            "Moving Tr-pi_1239.jpg to BT100/Training/pituitary/20250328_234115_Tr-pi_1239.jpg\n",
            "\u001b[1m1/1\u001b[0m \u001b[32m━━━━━━━━━━━━━━━━━━━━\u001b[0m\u001b[37m\u001b[0m \u001b[1m0s\u001b[0m 37ms/step\n"
          ]
        },
        {
          "output_type": "stream",
          "name": "stderr",
          "text": [
            "\r 48%|████▊     | 544/1141 [00:53<01:09,  8.62it/s]"
          ]
        },
        {
          "output_type": "stream",
          "name": "stdout",
          "text": [
            "Tr-pi_0332.jpg -> Class: pituitary, Confidence: 1.00\n",
            "Moving Tr-pi_0332.jpg to BT100/Training/pituitary/20250328_234115_Tr-pi_0332.jpg\n",
            "\u001b[1m1/1\u001b[0m \u001b[32m━━━━━━━━━━━━━━━━━━━━\u001b[0m\u001b[37m\u001b[0m \u001b[1m0s\u001b[0m 32ms/step\n",
            "Tr-me_0855.jpg -> Class: meningioma, Confidence: 1.00\n",
            "Moving Tr-me_0855.jpg to BT100/Training/meningioma/20250328_234115_Tr-me_0855.jpg\n",
            "\u001b[1m1/1\u001b[0m \u001b[32m━━━━━━━━━━━━━━━━━━━━\u001b[0m\u001b[37m\u001b[0m \u001b[1m0s\u001b[0m 36ms/step\n"
          ]
        },
        {
          "output_type": "stream",
          "name": "stderr",
          "text": [
            "\r 48%|████▊     | 546/1141 [00:53<00:59, 10.02it/s]"
          ]
        },
        {
          "output_type": "stream",
          "name": "stdout",
          "text": [
            "Tr-me_0622.jpg -> Class: meningioma, Confidence: 1.00\n",
            "Moving Tr-me_0622.jpg to BT100/Training/meningioma/20250328_234115_Tr-me_0622.jpg\n",
            "\u001b[1m1/1\u001b[0m \u001b[32m━━━━━━━━━━━━━━━━━━━━\u001b[0m\u001b[37m\u001b[0m \u001b[1m0s\u001b[0m 31ms/step\n",
            "Tr-no_0367.jpg -> Class: notumor, Confidence: 1.00\n",
            "Moving Tr-no_0367.jpg to BT100/Training/notumor/20250328_234115_Tr-no_0367.jpg\n",
            "\u001b[1m1/1\u001b[0m \u001b[32m━━━━━━━━━━━━━━━━━━━━\u001b[0m\u001b[37m\u001b[0m \u001b[1m0s\u001b[0m 34ms/step\n"
          ]
        },
        {
          "output_type": "stream",
          "name": "stderr",
          "text": [
            "\r 48%|████▊     | 548/1141 [00:53<00:59, 10.05it/s]"
          ]
        },
        {
          "output_type": "stream",
          "name": "stdout",
          "text": [
            "Tr-no_0324.jpg -> Class: notumor, Confidence: 1.00\n",
            "Moving Tr-no_0324.jpg to BT100/Training/notumor/20250328_234115_Tr-no_0324.jpg\n",
            "\u001b[1m1/1\u001b[0m \u001b[32m━━━━━━━━━━━━━━━━━━━━\u001b[0m\u001b[37m\u001b[0m \u001b[1m0s\u001b[0m 32ms/step\n",
            "Tr-me_0153.jpg -> Class: meningioma, Confidence: 1.00\n",
            "Moving Tr-me_0153.jpg to BT100/Training/meningioma/20250328_234115_Tr-me_0153.jpg\n",
            "\u001b[1m1/1\u001b[0m \u001b[32m━━━━━━━━━━━━━━━━━━━━\u001b[0m\u001b[37m\u001b[0m \u001b[1m0s\u001b[0m 34ms/step\n"
          ]
        },
        {
          "output_type": "stream",
          "name": "stderr",
          "text": [
            "\r 48%|████▊     | 550/1141 [00:54<00:54, 10.85it/s]"
          ]
        },
        {
          "output_type": "stream",
          "name": "stdout",
          "text": [
            "Tr-pi_0644.jpg -> Class: pituitary, Confidence: 1.00\n",
            "Moving Tr-pi_0644.jpg to BT100/Training/pituitary/20250328_234115_Tr-pi_0644.jpg\n",
            "\u001b[1m1/1\u001b[0m \u001b[32m━━━━━━━━━━━━━━━━━━━━\u001b[0m\u001b[37m\u001b[0m \u001b[1m0s\u001b[0m 32ms/step\n",
            "Tr-no_0064.jpg -> Class: notumor, Confidence: 1.00\n",
            "Moving Tr-no_0064.jpg to BT100/Training/notumor/20250328_234116_Tr-no_0064.jpg\n",
            "\u001b[1m1/1\u001b[0m \u001b[32m━━━━━━━━━━━━━━━━━━━━\u001b[0m\u001b[37m\u001b[0m \u001b[1m0s\u001b[0m 36ms/step\n"
          ]
        },
        {
          "output_type": "stream",
          "name": "stderr",
          "text": [
            "\r 48%|████▊     | 552/1141 [00:54<00:54, 10.77it/s]"
          ]
        },
        {
          "output_type": "stream",
          "name": "stdout",
          "text": [
            "Tr-me_0369.jpg -> Class: meningioma, Confidence: 1.00\n",
            "Moving Tr-me_0369.jpg to BT100/Training/meningioma/20250328_234116_Tr-me_0369.jpg\n",
            "\u001b[1m1/1\u001b[0m \u001b[32m━━━━━━━━━━━━━━━━━━━━\u001b[0m\u001b[37m\u001b[0m \u001b[1m0s\u001b[0m 36ms/step\n",
            "Tr-gl_0028.jpg -> Class: glioma, Confidence: 1.00\n",
            "Moving Tr-gl_0028.jpg to BT100/Training/glioma/20250328_234116_Tr-gl_0028.jpg\n",
            "\u001b[1m1/1\u001b[0m \u001b[32m━━━━━━━━━━━━━━━━━━━━\u001b[0m\u001b[37m\u001b[0m \u001b[1m0s\u001b[0m 39ms/step\n"
          ]
        },
        {
          "output_type": "stream",
          "name": "stderr",
          "text": [
            "\r 49%|████▊     | 554/1141 [00:54<01:00,  9.69it/s]"
          ]
        },
        {
          "output_type": "stream",
          "name": "stdout",
          "text": [
            "Tr-no_0966.jpg -> Class: notumor, Confidence: 1.00\n",
            "Moving Tr-no_0966.jpg to BT100/Training/notumor/20250328_234116_Tr-no_0966.jpg\n",
            "\u001b[1m1/1\u001b[0m \u001b[32m━━━━━━━━━━━━━━━━━━━━\u001b[0m\u001b[37m\u001b[0m \u001b[1m0s\u001b[0m 35ms/step\n",
            "Tr-gl_0843.jpg -> Class: glioma, Confidence: 1.00\n",
            "Moving Tr-gl_0843.jpg to BT100/Training/glioma/20250328_234116_Tr-gl_0843.jpg\n",
            "\u001b[1m1/1\u001b[0m \u001b[32m━━━━━━━━━━━━━━━━━━━━\u001b[0m\u001b[37m\u001b[0m \u001b[1m0s\u001b[0m 37ms/step\n",
            "Tr-me_0084.jpg -> Class: meningioma, Confidence: 1.00\n",
            "Moving Tr-me_0084.jpg to BT100/Training/meningioma/20250328_234116_Tr-me_0084.jpg\n"
          ]
        },
        {
          "output_type": "stream",
          "name": "stderr",
          "text": [
            "\r 49%|████▊     | 556/1141 [00:54<00:56, 10.41it/s]"
          ]
        },
        {
          "output_type": "stream",
          "name": "stdout",
          "text": [
            "\u001b[1m1/1\u001b[0m \u001b[32m━━━━━━━━━━━━━━━━━━━━\u001b[0m\u001b[37m\u001b[0m \u001b[1m0s\u001b[0m 51ms/step\n",
            "Tr-pi_0582.jpg -> Class: pituitary, Confidence: 1.00\n",
            "Moving Tr-pi_0582.jpg to BT100/Training/pituitary/20250328_234116_Tr-pi_0582.jpg\n",
            "\u001b[1m1/1\u001b[0m \u001b[32m━━━━━━━━━━━━━━━━━━━━\u001b[0m\u001b[37m\u001b[0m \u001b[1m0s\u001b[0m 51ms/step\n"
          ]
        },
        {
          "output_type": "stream",
          "name": "stderr",
          "text": [
            "\r 49%|████▉     | 558/1141 [00:54<01:02,  9.26it/s]"
          ]
        },
        {
          "output_type": "stream",
          "name": "stdout",
          "text": [
            "Tr-gl_0470.jpg -> Class: glioma, Confidence: 1.00\n",
            "Moving Tr-gl_0470.jpg to BT100/Training/glioma/20250328_234116_Tr-gl_0470.jpg\n",
            "\u001b[1m1/1\u001b[0m \u001b[32m━━━━━━━━━━━━━━━━━━━━\u001b[0m\u001b[37m\u001b[0m \u001b[1m0s\u001b[0m 52ms/step\n"
          ]
        },
        {
          "output_type": "stream",
          "name": "stderr",
          "text": [
            "\r 49%|████▉     | 559/1141 [00:55<01:03,  9.10it/s]"
          ]
        },
        {
          "output_type": "stream",
          "name": "stdout",
          "text": [
            "Tr-no_0372.jpg -> Class: meningioma, Confidence: 0.97\n",
            "Moved low-confidence image Tr-no_0372.jpg to BT100/low_confidence\n",
            "\u001b[1m1/1\u001b[0m \u001b[32m━━━━━━━━━━━━━━━━━━━━\u001b[0m\u001b[37m\u001b[0m \u001b[1m0s\u001b[0m 50ms/step\n"
          ]
        },
        {
          "output_type": "stream",
          "name": "stderr",
          "text": [
            "\r 49%|████▉     | 560/1141 [00:55<01:08,  8.46it/s]"
          ]
        },
        {
          "output_type": "stream",
          "name": "stdout",
          "text": [
            "Tr-no_1427.jpg -> Class: notumor, Confidence: 1.00\n",
            "Moving Tr-no_1427.jpg to BT100/Training/notumor/20250328_234117_Tr-no_1427.jpg\n",
            "\u001b[1m1/1\u001b[0m \u001b[32m━━━━━━━━━━━━━━━━━━━━\u001b[0m\u001b[37m\u001b[0m \u001b[1m0s\u001b[0m 49ms/step\n"
          ]
        },
        {
          "output_type": "stream",
          "name": "stderr",
          "text": [
            "\r 49%|████▉     | 561/1141 [00:55<01:10,  8.24it/s]"
          ]
        },
        {
          "output_type": "stream",
          "name": "stdout",
          "text": [
            "Tr-no_0969.jpg -> Class: notumor, Confidence: 1.00\n",
            "Moving Tr-no_0969.jpg to BT100/Training/notumor/20250328_234117_Tr-no_0969.jpg\n",
            "\u001b[1m1/1\u001b[0m \u001b[32m━━━━━━━━━━━━━━━━━━━━\u001b[0m\u001b[37m\u001b[0m \u001b[1m0s\u001b[0m 48ms/step\n"
          ]
        },
        {
          "output_type": "stream",
          "name": "stderr",
          "text": [
            "\r 49%|████▉     | 562/1141 [00:55<01:11,  8.05it/s]"
          ]
        },
        {
          "output_type": "stream",
          "name": "stdout",
          "text": [
            "Tr-pi_0851.jpg -> Class: pituitary, Confidence: 1.00\n",
            "Moving Tr-pi_0851.jpg to BT100/Training/pituitary/20250328_234117_Tr-pi_0851.jpg\n",
            "\u001b[1m1/1\u001b[0m \u001b[32m━━━━━━━━━━━━━━━━━━━━\u001b[0m\u001b[37m\u001b[0m \u001b[1m0s\u001b[0m 40ms/step\n",
            "Tr-me_0010.jpg -> Class: meningioma, Confidence: 1.00\n",
            "Moving Tr-me_0010.jpg to BT100/Training/meningioma/20250328_234117_Tr-me_0010.jpg\n",
            "\u001b[1m1/1\u001b[0m \u001b[32m━━━━━━━━━━━━━━━━━━━━\u001b[0m\u001b[37m\u001b[0m \u001b[1m0s\u001b[0m 44ms/step\n"
          ]
        },
        {
          "output_type": "stream",
          "name": "stderr",
          "text": [
            "\r 49%|████▉     | 564/1141 [00:55<01:08,  8.44it/s]"
          ]
        },
        {
          "output_type": "stream",
          "name": "stdout",
          "text": [
            "Tr-pi_1316.jpg -> Class: pituitary, Confidence: 1.00\n",
            "Moving Tr-pi_1316.jpg to BT100/Training/pituitary/20250328_234117_Tr-pi_1316.jpg\n",
            "\u001b[1m1/1\u001b[0m \u001b[32m━━━━━━━━━━━━━━━━━━━━\u001b[0m\u001b[37m\u001b[0m \u001b[1m0s\u001b[0m 52ms/step\n"
          ]
        },
        {
          "output_type": "stream",
          "name": "stderr",
          "text": [
            "\r 50%|████▉     | 565/1141 [00:55<01:12,  7.92it/s]"
          ]
        },
        {
          "output_type": "stream",
          "name": "stdout",
          "text": [
            "Tr-me_1148.jpg -> Class: meningioma, Confidence: 1.00\n",
            "Moving Tr-me_1148.jpg to BT100/Training/meningioma/20250328_234117_Tr-me_1148.jpg\n",
            "\u001b[1m1/1\u001b[0m \u001b[32m━━━━━━━━━━━━━━━━━━━━\u001b[0m\u001b[37m\u001b[0m \u001b[1m0s\u001b[0m 54ms/step\n"
          ]
        },
        {
          "output_type": "stream",
          "name": "stderr",
          "text": [
            "\r 50%|████▉     | 566/1141 [00:55<01:15,  7.62it/s]"
          ]
        },
        {
          "output_type": "stream",
          "name": "stdout",
          "text": [
            "Tr-no_0137.jpg -> Class: notumor, Confidence: 1.00\n",
            "Moving Tr-no_0137.jpg to BT100/Training/notumor/20250328_234117_Tr-no_0137.jpg\n",
            "\u001b[1m1/1\u001b[0m \u001b[32m━━━━━━━━━━━━━━━━━━━━\u001b[0m\u001b[37m\u001b[0m \u001b[1m0s\u001b[0m 57ms/step\n"
          ]
        },
        {
          "output_type": "stream",
          "name": "stderr",
          "text": [
            "\r 50%|████▉     | 567/1141 [00:56<01:15,  7.64it/s]"
          ]
        },
        {
          "output_type": "stream",
          "name": "stdout",
          "text": [
            "Tr-gl_0776.jpg -> Class: glioma, Confidence: 1.00\n",
            "Moving Tr-gl_0776.jpg to BT100/Training/glioma/20250328_234117_Tr-gl_0776.jpg\n",
            "\u001b[1m1/1\u001b[0m \u001b[32m━━━━━━━━━━━━━━━━━━━━\u001b[0m\u001b[37m\u001b[0m \u001b[1m0s\u001b[0m 45ms/step\n"
          ]
        },
        {
          "output_type": "stream",
          "name": "stderr",
          "text": [
            "\r 50%|████▉     | 568/1141 [00:56<01:11,  8.05it/s]"
          ]
        },
        {
          "output_type": "stream",
          "name": "stdout",
          "text": [
            "Tr-glTr_0006.jpg -> Class: glioma, Confidence: 1.00\n",
            "Moving Tr-glTr_0006.jpg to BT100/Training/glioma/20250328_234118_Tr-glTr_0006.jpg\n",
            "\u001b[1m1/1\u001b[0m \u001b[32m━━━━━━━━━━━━━━━━━━━━\u001b[0m\u001b[37m\u001b[0m \u001b[1m0s\u001b[0m 53ms/step\n"
          ]
        },
        {
          "output_type": "stream",
          "name": "stderr",
          "text": [
            "\r 50%|████▉     | 569/1141 [00:56<01:14,  7.71it/s]"
          ]
        },
        {
          "output_type": "stream",
          "name": "stdout",
          "text": [
            "Tr-gl_0394.jpg -> Class: glioma, Confidence: 1.00\n",
            "Moving Tr-gl_0394.jpg to BT100/Training/glioma/20250328_234118_Tr-gl_0394.jpg\n",
            "\u001b[1m1/1\u001b[0m \u001b[32m━━━━━━━━━━━━━━━━━━━━\u001b[0m\u001b[37m\u001b[0m \u001b[1m0s\u001b[0m 51ms/step\n"
          ]
        },
        {
          "output_type": "stream",
          "name": "stderr",
          "text": [
            "\r 50%|████▉     | 570/1141 [00:56<01:18,  7.30it/s]"
          ]
        },
        {
          "output_type": "stream",
          "name": "stdout",
          "text": [
            "Tr-pi_0635.jpg -> Class: pituitary, Confidence: 1.00\n",
            "Moving Tr-pi_0635.jpg to BT100/Training/pituitary/20250328_234118_Tr-pi_0635.jpg\n",
            "\u001b[1m1/1\u001b[0m \u001b[32m━━━━━━━━━━━━━━━━━━━━\u001b[0m\u001b[37m\u001b[0m \u001b[1m0s\u001b[0m 45ms/step\n"
          ]
        },
        {
          "output_type": "stream",
          "name": "stderr",
          "text": [
            "\r 50%|█████     | 571/1141 [00:56<01:20,  7.10it/s]"
          ]
        },
        {
          "output_type": "stream",
          "name": "stdout",
          "text": [
            "Tr-pi_0459.jpg -> Class: pituitary, Confidence: 1.00\n",
            "Moving Tr-pi_0459.jpg to BT100/Training/pituitary/20250328_234118_Tr-pi_0459.jpg\n",
            "\u001b[1m1/1\u001b[0m \u001b[32m━━━━━━━━━━━━━━━━━━━━\u001b[0m\u001b[37m\u001b[0m \u001b[1m0s\u001b[0m 55ms/step\n"
          ]
        },
        {
          "output_type": "stream",
          "name": "stderr",
          "text": [
            "\r 50%|█████     | 572/1141 [00:56<01:21,  6.99it/s]"
          ]
        },
        {
          "output_type": "stream",
          "name": "stdout",
          "text": [
            "Tr-pi_0348.jpg -> Class: pituitary, Confidence: 1.00\n",
            "Moving Tr-pi_0348.jpg to BT100/Training/pituitary/20250328_234118_Tr-pi_0348.jpg\n",
            "\u001b[1m1/1\u001b[0m \u001b[32m━━━━━━━━━━━━━━━━━━━━\u001b[0m\u001b[37m\u001b[0m \u001b[1m0s\u001b[0m 52ms/step\n"
          ]
        },
        {
          "output_type": "stream",
          "name": "stderr",
          "text": [
            "\r 50%|█████     | 573/1141 [00:56<01:21,  7.00it/s]"
          ]
        },
        {
          "output_type": "stream",
          "name": "stdout",
          "text": [
            "Tr-me_0817.jpg -> Class: meningioma, Confidence: 1.00\n",
            "Moving Tr-me_0817.jpg to BT100/Training/meningioma/20250328_234118_Tr-me_0817.jpg\n",
            "\u001b[1m1/1\u001b[0m \u001b[32m━━━━━━━━━━━━━━━━━━━━\u001b[0m\u001b[37m\u001b[0m \u001b[1m0s\u001b[0m 55ms/step\n"
          ]
        },
        {
          "output_type": "stream",
          "name": "stderr",
          "text": [
            "\r 50%|█████     | 574/1141 [00:57<01:20,  7.02it/s]"
          ]
        },
        {
          "output_type": "stream",
          "name": "stdout",
          "text": [
            "Tr-no_0144.jpg -> Class: notumor, Confidence: 1.00\n",
            "Moving Tr-no_0144.jpg to BT100/Training/notumor/20250328_234118_Tr-no_0144.jpg\n",
            "\u001b[1m1/1\u001b[0m \u001b[32m━━━━━━━━━━━━━━━━━━━━\u001b[0m\u001b[37m\u001b[0m \u001b[1m0s\u001b[0m 43ms/step\n"
          ]
        },
        {
          "output_type": "stream",
          "name": "stderr",
          "text": [
            "\r 50%|█████     | 575/1141 [00:57<01:13,  7.68it/s]"
          ]
        },
        {
          "output_type": "stream",
          "name": "stdout",
          "text": [
            "Tr-gl_1036.jpg -> Class: glioma, Confidence: 0.99\n",
            "Moving Tr-gl_1036.jpg to BT100/Training/glioma/20250328_234119_Tr-gl_1036.jpg\n",
            "\u001b[1m1/1\u001b[0m \u001b[32m━━━━━━━━━━━━━━━━━━━━\u001b[0m\u001b[37m\u001b[0m \u001b[1m0s\u001b[0m 39ms/step\n",
            "Tr-gl_0417.jpg -> Class: glioma, Confidence: 1.00\n",
            "Moving Tr-gl_0417.jpg to BT100/Training/glioma/20250328_234119_Tr-gl_0417.jpg\n",
            "\u001b[1m1/1\u001b[0m \u001b[32m━━━━━━━━━━━━━━━━━━━━\u001b[0m\u001b[37m\u001b[0m \u001b[1m0s\u001b[0m 35ms/step\n"
          ]
        },
        {
          "output_type": "stream",
          "name": "stderr",
          "text": [
            "\r 51%|█████     | 577/1141 [00:57<01:06,  8.48it/s]"
          ]
        },
        {
          "output_type": "stream",
          "name": "stdout",
          "text": [
            "Tr-gl_0134.jpg -> Class: glioma, Confidence: 1.00\n",
            "Moving Tr-gl_0134.jpg to BT100/Training/glioma/20250328_234119_Tr-gl_0134.jpg\n",
            "\u001b[1m1/1\u001b[0m \u001b[32m━━━━━━━━━━━━━━━━━━━━\u001b[0m\u001b[37m\u001b[0m \u001b[1m0s\u001b[0m 34ms/step\n"
          ]
        },
        {
          "output_type": "stream",
          "name": "stderr",
          "text": [
            "\r 51%|█████     | 578/1141 [00:57<01:06,  8.52it/s]"
          ]
        },
        {
          "output_type": "stream",
          "name": "stdout",
          "text": [
            "Tr-pi_0924.jpg -> Class: pituitary, Confidence: 1.00\n",
            "Moving Tr-pi_0924.jpg to BT100/Training/pituitary/20250328_234119_Tr-pi_0924.jpg\n",
            "\u001b[1m1/1\u001b[0m \u001b[32m━━━━━━━━━━━━━━━━━━━━\u001b[0m\u001b[37m\u001b[0m \u001b[1m0s\u001b[0m 33ms/step\n",
            "Tr-no_1578.jpg -> Class: notumor, Confidence: 1.00\n",
            "Moving Tr-no_1578.jpg to BT100/Training/notumor/20250328_234119_Tr-no_1578.jpg\n",
            "\u001b[1m1/1\u001b[0m \u001b[32m━━━━━━━━━━━━━━━━━━━━\u001b[0m\u001b[37m\u001b[0m \u001b[1m0s\u001b[0m 32ms/step\n"
          ]
        },
        {
          "output_type": "stream",
          "name": "stderr",
          "text": [
            "\r 51%|█████     | 580/1141 [00:57<00:56, 10.01it/s]"
          ]
        },
        {
          "output_type": "stream",
          "name": "stdout",
          "text": [
            "Tr-me_1248.jpg -> Class: meningioma, Confidence: 1.00\n",
            "Moving Tr-me_1248.jpg to BT100/Training/meningioma/20250328_234119_Tr-me_1248.jpg\n",
            "\u001b[1m1/1\u001b[0m \u001b[32m━━━━━━━━━━━━━━━━━━━━\u001b[0m\u001b[37m\u001b[0m \u001b[1m0s\u001b[0m 36ms/step\n",
            "Tr-me_0475.jpg -> Class: meningioma, Confidence: 1.00\n",
            "Moving Tr-me_0475.jpg to BT100/Training/meningioma/20250328_234119_Tr-me_0475.jpg\n",
            "\u001b[1m1/1\u001b[0m \u001b[32m━━━━━━━━━━━━━━━━━━━━\u001b[0m\u001b[37m\u001b[0m \u001b[1m0s\u001b[0m 35ms/step\n",
            "Tr-pi_1396.jpg -> Class: pituitary, Confidence: 1.00\n",
            "Moving Tr-pi_1396.jpg to BT100/Training/pituitary/20250328_234119_Tr-pi_1396.jpg\n"
          ]
        },
        {
          "output_type": "stream",
          "name": "stderr",
          "text": [
            "\r 51%|█████     | 582/1141 [00:57<00:55, 10.04it/s]"
          ]
        },
        {
          "output_type": "stream",
          "name": "stdout",
          "text": [
            "\u001b[1m1/1\u001b[0m \u001b[32m━━━━━━━━━━━━━━━━━━━━\u001b[0m\u001b[37m\u001b[0m \u001b[1m0s\u001b[0m 33ms/step\n"
          ]
        },
        {
          "output_type": "stream",
          "name": "stderr",
          "text": [
            "\r 51%|█████     | 583/1141 [00:57<00:57,  9.68it/s]"
          ]
        },
        {
          "output_type": "stream",
          "name": "stdout",
          "text": [
            "Tr-no_1050.jpg -> Class: notumor, Confidence: 1.00\n",
            "Moving Tr-no_1050.jpg to BT100/Training/notumor/20250328_234119_Tr-no_1050.jpg\n",
            "\u001b[1m1/1\u001b[0m \u001b[32m━━━━━━━━━━━━━━━━━━━━\u001b[0m\u001b[37m\u001b[0m \u001b[1m0s\u001b[0m 33ms/step\n"
          ]
        },
        {
          "output_type": "stream",
          "name": "stderr",
          "text": [
            "\r 51%|█████     | 584/1141 [00:58<00:59,  9.38it/s]"
          ]
        },
        {
          "output_type": "stream",
          "name": "stdout",
          "text": [
            "Tr-pi_0325.jpg -> Class: pituitary, Confidence: 1.00\n",
            "Moving Tr-pi_0325.jpg to BT100/Training/pituitary/20250328_234119_Tr-pi_0325.jpg\n",
            "\u001b[1m1/1\u001b[0m \u001b[32m━━━━━━━━━━━━━━━━━━━━\u001b[0m\u001b[37m\u001b[0m \u001b[1m0s\u001b[0m 32ms/step\n"
          ]
        },
        {
          "output_type": "stream",
          "name": "stderr",
          "text": [
            "\r 51%|█████▏    | 585/1141 [00:58<01:00,  9.15it/s]"
          ]
        },
        {
          "output_type": "stream",
          "name": "stdout",
          "text": [
            "Tr-gl_0620.jpg -> Class: glioma, Confidence: 1.00\n",
            "Moving Tr-gl_0620.jpg to BT100/Training/glioma/20250328_234120_Tr-gl_0620.jpg\n",
            "\u001b[1m1/1\u001b[0m \u001b[32m━━━━━━━━━━━━━━━━━━━━\u001b[0m\u001b[37m\u001b[0m \u001b[1m0s\u001b[0m 33ms/step\n"
          ]
        },
        {
          "output_type": "stream",
          "name": "stderr",
          "text": [
            "\r 51%|█████▏    | 586/1141 [00:58<01:02,  8.91it/s]"
          ]
        },
        {
          "output_type": "stream",
          "name": "stdout",
          "text": [
            "Tr-me_0641.jpg -> Class: meningioma, Confidence: 1.00\n",
            "Moving Tr-me_0641.jpg to BT100/Training/meningioma/20250328_234120_Tr-me_0641.jpg\n",
            "\u001b[1m1/1\u001b[0m \u001b[32m━━━━━━━━━━━━━━━━━━━━\u001b[0m\u001b[37m\u001b[0m \u001b[1m0s\u001b[0m 38ms/step\n"
          ]
        },
        {
          "output_type": "stream",
          "name": "stderr",
          "text": [
            "\r 51%|█████▏    | 587/1141 [00:58<01:03,  8.67it/s]"
          ]
        },
        {
          "output_type": "stream",
          "name": "stdout",
          "text": [
            "Tr-no_0289.jpg -> Class: notumor, Confidence: 1.00\n",
            "Moving Tr-no_0289.jpg to BT100/Training/notumor/20250328_234120_Tr-no_0289.jpg\n",
            "\u001b[1m1/1\u001b[0m \u001b[32m━━━━━━━━━━━━━━━━━━━━\u001b[0m\u001b[37m\u001b[0m \u001b[1m0s\u001b[0m 34ms/step\n"
          ]
        },
        {
          "output_type": "stream",
          "name": "stderr",
          "text": [
            "\r 52%|█████▏    | 588/1141 [00:58<01:03,  8.64it/s]"
          ]
        },
        {
          "output_type": "stream",
          "name": "stdout",
          "text": [
            "Tr-no_0627.jpg -> Class: notumor, Confidence: 1.00\n",
            "Moving Tr-no_0627.jpg to BT100/Training/notumor/20250328_234120_Tr-no_0627.jpg\n",
            "\u001b[1m1/1\u001b[0m \u001b[32m━━━━━━━━━━━━━━━━━━━━\u001b[0m\u001b[37m\u001b[0m \u001b[1m0s\u001b[0m 39ms/step\n"
          ]
        },
        {
          "output_type": "stream",
          "name": "stderr",
          "text": [
            "\r 52%|█████▏    | 589/1141 [00:58<01:05,  8.40it/s]"
          ]
        },
        {
          "output_type": "stream",
          "name": "stdout",
          "text": [
            "Tr-pi_0269.jpg -> Class: pituitary, Confidence: 1.00\n",
            "Moving Tr-pi_0269.jpg to BT100/Training/pituitary/20250328_234120_Tr-pi_0269.jpg\n",
            "\u001b[1m1/1\u001b[0m \u001b[32m━━━━━━━━━━━━━━━━━━━━\u001b[0m\u001b[37m\u001b[0m \u001b[1m0s\u001b[0m 35ms/step\n"
          ]
        },
        {
          "output_type": "stream",
          "name": "stderr",
          "text": [
            "\r 52%|█████▏    | 590/1141 [00:58<01:06,  8.33it/s]"
          ]
        },
        {
          "output_type": "stream",
          "name": "stdout",
          "text": [
            "Tr-gl_0502.jpg -> Class: glioma, Confidence: 1.00\n",
            "Moving Tr-gl_0502.jpg to BT100/Training/glioma/20250328_234120_Tr-gl_0502.jpg\n",
            "\u001b[1m1/1\u001b[0m \u001b[32m━━━━━━━━━━━━━━━━━━━━\u001b[0m\u001b[37m\u001b[0m \u001b[1m0s\u001b[0m 35ms/step\n"
          ]
        },
        {
          "output_type": "stream",
          "name": "stderr",
          "text": [
            "\r 52%|█████▏    | 591/1141 [00:58<01:05,  8.40it/s]"
          ]
        },
        {
          "output_type": "stream",
          "name": "stdout",
          "text": [
            "Tr-no_0762.jpg -> Class: notumor, Confidence: 1.00\n",
            "Moving Tr-no_0762.jpg to BT100/Training/notumor/20250328_234120_Tr-no_0762.jpg\n",
            "\u001b[1m1/1\u001b[0m \u001b[32m━━━━━━━━━━━━━━━━━━━━\u001b[0m\u001b[37m\u001b[0m \u001b[1m0s\u001b[0m 35ms/step\n",
            "Tr-gl_0520.jpg -> Class: glioma, Confidence: 1.00\n",
            "Moving Tr-gl_0520.jpg to BT100/Training/glioma/20250328_234120_Tr-gl_0520.jpg\n",
            "\u001b[1m1/1\u001b[0m \u001b[32m━━━━━━━━━━━━━━━━━━━━\u001b[0m\u001b[37m\u001b[0m \u001b[1m0s\u001b[0m 36ms/step\n"
          ]
        },
        {
          "output_type": "stream",
          "name": "stderr",
          "text": [
            "\r 52%|█████▏    | 593/1141 [00:59<00:56,  9.70it/s]"
          ]
        },
        {
          "output_type": "stream",
          "name": "stdout",
          "text": [
            "Tr-no_0859.jpg -> Class: notumor, Confidence: 1.00\n",
            "Moving Tr-no_0859.jpg to BT100/Training/notumor/20250328_234120_Tr-no_0859.jpg\n",
            "\u001b[1m1/1\u001b[0m \u001b[32m━━━━━━━━━━━━━━━━━━━━\u001b[0m\u001b[37m\u001b[0m \u001b[1m0s\u001b[0m 34ms/step\n",
            "Tr-me_0406.jpg -> Class: pituitary, Confidence: 0.97\n"
          ]
        },
        {
          "output_type": "stream",
          "name": "stderr",
          "text": [
            "\r 52%|█████▏    | 594/1141 [00:59<00:58,  9.29it/s]"
          ]
        },
        {
          "output_type": "stream",
          "name": "stdout",
          "text": [
            "Moved low-confidence image Tr-me_0406.jpg to BT100/low_confidence\n",
            "\u001b[1m1/1\u001b[0m \u001b[32m━━━━━━━━━━━━━━━━━━━━\u001b[0m\u001b[37m\u001b[0m \u001b[1m0s\u001b[0m 35ms/step\n",
            "Tr-pi_0855.jpg -> Class: pituitary, Confidence: 1.00\n",
            "Moving Tr-pi_0855.jpg to BT100/Training/pituitary/20250328_234121_Tr-pi_0855.jpg\n",
            "\u001b[1m1/1\u001b[0m \u001b[32m━━━━━━━━━━━━━━━━━━━━\u001b[0m\u001b[37m\u001b[0m \u001b[1m0s\u001b[0m 46ms/step\n"
          ]
        },
        {
          "output_type": "stream",
          "name": "stderr",
          "text": [
            "\r 52%|█████▏    | 596/1141 [00:59<00:57,  9.42it/s]"
          ]
        },
        {
          "output_type": "stream",
          "name": "stdout",
          "text": [
            "Tr-me_0966.jpg -> Class: meningioma, Confidence: 1.00\n",
            "Moving Tr-me_0966.jpg to BT100/Training/meningioma/20250328_234121_Tr-me_0966.jpg\n",
            "\u001b[1m1/1\u001b[0m \u001b[32m━━━━━━━━━━━━━━━━━━━━\u001b[0m\u001b[37m\u001b[0m \u001b[1m0s\u001b[0m 31ms/step\n",
            "Tr-gl_0814.jpg -> Class: glioma, Confidence: 1.00\n",
            "Moving Tr-gl_0814.jpg to BT100/Training/glioma/20250328_234121_Tr-gl_0814.jpg\n",
            "\u001b[1m1/1\u001b[0m \u001b[32m━━━━━━━━━━━━━━━━━━━━\u001b[0m\u001b[37m\u001b[0m \u001b[1m0s\u001b[0m 34ms/step\n"
          ]
        },
        {
          "output_type": "stream",
          "name": "stderr",
          "text": [
            "\r 52%|█████▏    | 598/1141 [00:59<00:55,  9.83it/s]"
          ]
        },
        {
          "output_type": "stream",
          "name": "stdout",
          "text": [
            "Tr-pi_0667.jpg -> Class: pituitary, Confidence: 1.00\n",
            "Moving Tr-pi_0667.jpg to BT100/Training/pituitary/20250328_234121_Tr-pi_0667.jpg\n",
            "\u001b[1m1/1\u001b[0m \u001b[32m━━━━━━━━━━━━━━━━━━━━\u001b[0m\u001b[37m\u001b[0m \u001b[1m0s\u001b[0m 30ms/step\n"
          ]
        },
        {
          "output_type": "stream",
          "name": "stderr",
          "text": [
            "\r 52%|█████▏    | 599/1141 [00:59<00:56,  9.55it/s]"
          ]
        },
        {
          "output_type": "stream",
          "name": "stdout",
          "text": [
            "Tr-gl_1301.jpg -> Class: glioma, Confidence: 1.00\n",
            "Moving Tr-gl_1301.jpg to BT100/Training/glioma/20250328_234121_Tr-gl_1301.jpg\n",
            "\u001b[1m1/1\u001b[0m \u001b[32m━━━━━━━━━━━━━━━━━━━━\u001b[0m\u001b[37m\u001b[0m \u001b[1m0s\u001b[0m 33ms/step\n",
            "Tr-gl_0872.jpg -> Class: glioma, Confidence: 1.00\n",
            "Moving Tr-gl_0872.jpg to BT100/Training/glioma/20250328_234121_Tr-gl_0872.jpg\n",
            "\u001b[1m1/1\u001b[0m \u001b[32m━━━━━━━━━━━━━━━━━━━━\u001b[0m\u001b[37m\u001b[0m \u001b[1m0s\u001b[0m 35ms/step\n"
          ]
        },
        {
          "output_type": "stream",
          "name": "stderr",
          "text": [
            "\r 53%|█████▎    | 601/1141 [00:59<00:55,  9.79it/s]"
          ]
        },
        {
          "output_type": "stream",
          "name": "stdout",
          "text": [
            "Tr-me_0357.jpg -> Class: meningioma, Confidence: 1.00\n",
            "Moving Tr-me_0357.jpg to BT100/Training/meningioma/20250328_234121_Tr-me_0357.jpg\n",
            "\u001b[1m1/1\u001b[0m \u001b[32m━━━━━━━━━━━━━━━━━━━━\u001b[0m\u001b[37m\u001b[0m \u001b[1m0s\u001b[0m 44ms/step\n",
            "Tr-gl_1178.jpg -> Class: glioma, Confidence: 1.00\n",
            "Moving Tr-gl_1178.jpg to BT100/Training/glioma/20250328_234121_Tr-gl_1178.jpg\n",
            "\u001b[1m1/1\u001b[0m \u001b[32m━━━━━━━━━━━━━━━━━━━━\u001b[0m\u001b[37m\u001b[0m \u001b[1m0s\u001b[0m 37ms/step\n"
          ]
        },
        {
          "output_type": "stream",
          "name": "stderr",
          "text": [
            "\r 53%|█████▎    | 603/1141 [01:00<00:54,  9.86it/s]"
          ]
        },
        {
          "output_type": "stream",
          "name": "stdout",
          "text": [
            "Tr-no_0533.jpg -> Class: notumor, Confidence: 1.00\n",
            "Moving Tr-no_0533.jpg to BT100/Training/notumor/20250328_234122_Tr-no_0533.jpg\n",
            "\u001b[1m1/1\u001b[0m \u001b[32m━━━━━━━━━━━━━━━━━━━━\u001b[0m\u001b[37m\u001b[0m \u001b[1m0s\u001b[0m 37ms/step\n"
          ]
        },
        {
          "output_type": "stream",
          "name": "stderr",
          "text": [
            "\r 53%|█████▎    | 604/1141 [01:00<00:56,  9.50it/s]"
          ]
        },
        {
          "output_type": "stream",
          "name": "stdout",
          "text": [
            "Tr-no_0625.jpg -> Class: notumor, Confidence: 1.00\n",
            "Moving Tr-no_0625.jpg to BT100/Training/notumor/20250328_234122_Tr-no_0625.jpg\n",
            "\u001b[1m1/1\u001b[0m \u001b[32m━━━━━━━━━━━━━━━━━━━━\u001b[0m\u001b[37m\u001b[0m \u001b[1m0s\u001b[0m 34ms/step\n"
          ]
        },
        {
          "output_type": "stream",
          "name": "stderr",
          "text": [
            "\r 53%|█████▎    | 605/1141 [01:00<00:58,  9.13it/s]"
          ]
        },
        {
          "output_type": "stream",
          "name": "stdout",
          "text": [
            "Tr-no_0619.jpg -> Class: notumor, Confidence: 1.00\n",
            "Moving Tr-no_0619.jpg to BT100/Training/notumor/20250328_234122_Tr-no_0619.jpg\n",
            "\u001b[1m1/1\u001b[0m \u001b[32m━━━━━━━━━━━━━━━━━━━━\u001b[0m\u001b[37m\u001b[0m \u001b[1m0s\u001b[0m 35ms/step\n"
          ]
        },
        {
          "output_type": "stream",
          "name": "stderr",
          "text": [
            "\r 53%|█████▎    | 606/1141 [01:00<01:00,  8.83it/s]"
          ]
        },
        {
          "output_type": "stream",
          "name": "stdout",
          "text": [
            "Tr-gl_0796.jpg -> Class: glioma, Confidence: 1.00\n",
            "Moving Tr-gl_0796.jpg to BT100/Training/glioma/20250328_234122_Tr-gl_0796.jpg\n",
            "\u001b[1m1/1\u001b[0m \u001b[32m━━━━━━━━━━━━━━━━━━━━\u001b[0m\u001b[37m\u001b[0m \u001b[1m0s\u001b[0m 32ms/step\n",
            "Tr-pi_0381.jpg -> Class: pituitary, Confidence: 1.00\n",
            "Moving Tr-pi_0381.jpg to BT100/Training/pituitary/20250328_234122_Tr-pi_0381.jpg\n",
            "\u001b[1m1/1\u001b[0m \u001b[32m━━━━━━━━━━━━━━━━━━━━\u001b[0m\u001b[37m\u001b[0m \u001b[1m0s\u001b[0m 36ms/step\n"
          ]
        },
        {
          "output_type": "stream",
          "name": "stderr",
          "text": [
            "\r 53%|█████▎    | 608/1141 [01:00<00:52, 10.13it/s]"
          ]
        },
        {
          "output_type": "stream",
          "name": "stdout",
          "text": [
            "Tr-no_0731.jpg -> Class: notumor, Confidence: 1.00\n",
            "Moving Tr-no_0731.jpg to BT100/Training/notumor/20250328_234122_Tr-no_0731.jpg\n",
            "\u001b[1m1/1\u001b[0m \u001b[32m━━━━━━━━━━━━━━━━━━━━\u001b[0m\u001b[37m\u001b[0m \u001b[1m0s\u001b[0m 31ms/step\n",
            "Tr-me_0725.jpg -> Class: meningioma, Confidence: 1.00\n",
            "Moving Tr-me_0725.jpg to BT100/Training/meningioma/20250328_234122_Tr-me_0725.jpg\n",
            "\u001b[1m1/1\u001b[0m \u001b[32m━━━━━━━━━━━━━━━━━━━━\u001b[0m\u001b[37m\u001b[0m \u001b[1m0s\u001b[0m 34ms/step\n"
          ]
        },
        {
          "output_type": "stream",
          "name": "stderr",
          "text": [
            "\r 53%|█████▎    | 610/1141 [01:00<00:48, 11.01it/s]"
          ]
        },
        {
          "output_type": "stream",
          "name": "stdout",
          "text": [
            "Tr-me_0407.jpg -> Class: meningioma, Confidence: 1.00\n",
            "Moving Tr-me_0407.jpg to BT100/Training/meningioma/20250328_234122_Tr-me_0407.jpg\n",
            "\u001b[1m1/1\u001b[0m \u001b[32m━━━━━━━━━━━━━━━━━━━━\u001b[0m\u001b[37m\u001b[0m \u001b[1m0s\u001b[0m 41ms/step\n",
            "Tr-me_1293.jpg -> Class: meningioma, Confidence: 1.00\n",
            "Moving Tr-me_1293.jpg to BT100/Training/meningioma/20250328_234122_Tr-me_1293.jpg\n",
            "\u001b[1m1/1\u001b[0m \u001b[32m━━━━━━━━━━━━━━━━━━━━\u001b[0m\u001b[37m\u001b[0m \u001b[1m0s\u001b[0m 56ms/step\n"
          ]
        },
        {
          "output_type": "stream",
          "name": "stderr",
          "text": [
            "\r 54%|█████▎    | 612/1141 [01:01<00:54,  9.76it/s]"
          ]
        },
        {
          "output_type": "stream",
          "name": "stdout",
          "text": [
            "Tr-pi_1339.jpg -> Class: pituitary, Confidence: 1.00\n",
            "Moving Tr-pi_1339.jpg to BT100/Training/pituitary/20250328_234122_Tr-pi_1339.jpg\n",
            "\u001b[1m1/1\u001b[0m \u001b[32m━━━━━━━━━━━━━━━━━━━━\u001b[0m\u001b[37m\u001b[0m \u001b[1m0s\u001b[0m 35ms/step\n"
          ]
        },
        {
          "output_type": "stream",
          "name": "stderr",
          "text": [
            "\r 54%|█████▎    | 613/1141 [01:01<00:56,  9.38it/s]"
          ]
        },
        {
          "output_type": "stream",
          "name": "stdout",
          "text": [
            "Tr-pi_1028.jpg -> Class: pituitary, Confidence: 1.00\n",
            "Moving Tr-pi_1028.jpg to BT100/Training/pituitary/20250328_234123_Tr-pi_1028.jpg\n",
            "\u001b[1m1/1\u001b[0m \u001b[32m━━━━━━━━━━━━━━━━━━━━\u001b[0m\u001b[37m\u001b[0m \u001b[1m0s\u001b[0m 40ms/step\n"
          ]
        },
        {
          "output_type": "stream",
          "name": "stderr",
          "text": [
            "\r 54%|█████▍    | 614/1141 [01:01<00:58,  9.06it/s]"
          ]
        },
        {
          "output_type": "stream",
          "name": "stdout",
          "text": [
            "Tr-pi_1065.jpg -> Class: pituitary, Confidence: 1.00\n",
            "Moving Tr-pi_1065.jpg to BT100/Training/pituitary/20250328_234123_Tr-pi_1065.jpg\n",
            "\u001b[1m1/1\u001b[0m \u001b[32m━━━━━━━━━━━━━━━━━━━━\u001b[0m\u001b[37m\u001b[0m \u001b[1m0s\u001b[0m 43ms/step\n"
          ]
        },
        {
          "output_type": "stream",
          "name": "stderr",
          "text": [
            "\r 54%|█████▍    | 615/1141 [01:01<01:00,  8.72it/s]"
          ]
        },
        {
          "output_type": "stream",
          "name": "stdout",
          "text": [
            "Tr-no_0703.jpg -> Class: notumor, Confidence: 1.00\n",
            "Moving Tr-no_0703.jpg to BT100/Training/notumor/20250328_234123_Tr-no_0703.jpg\n",
            "\u001b[1m1/1\u001b[0m \u001b[32m━━━━━━━━━━━━━━━━━━━━\u001b[0m\u001b[37m\u001b[0m \u001b[1m0s\u001b[0m 37ms/step\n",
            "Tr-no_1107.jpg -> Class: notumor, Confidence: 1.00\n",
            "Moving Tr-no_1107.jpg to BT100/Training/notumor/20250328_234123_Tr-no_1107.jpg\n",
            "\u001b[1m1/1\u001b[0m \u001b[32m━━━━━━━━━━━━━━━━━━━━\u001b[0m\u001b[37m\u001b[0m \u001b[1m0s\u001b[0m 36ms/step\n"
          ]
        },
        {
          "output_type": "stream",
          "name": "stderr",
          "text": [
            "\r 54%|█████▍    | 617/1141 [01:01<00:56,  9.24it/s]"
          ]
        },
        {
          "output_type": "stream",
          "name": "stdout",
          "text": [
            "Tr-pi_0533.jpg -> Class: pituitary, Confidence: 1.00\n",
            "Moving Tr-pi_0533.jpg to BT100/Training/pituitary/20250328_234123_Tr-pi_0533.jpg\n",
            "\u001b[1m1/1\u001b[0m \u001b[32m━━━━━━━━━━━━━━━━━━━━\u001b[0m\u001b[37m\u001b[0m \u001b[1m0s\u001b[0m 38ms/step\n"
          ]
        },
        {
          "output_type": "stream",
          "name": "stderr",
          "text": [
            "\r 54%|█████▍    | 618/1141 [01:01<00:57,  9.09it/s]"
          ]
        },
        {
          "output_type": "stream",
          "name": "stdout",
          "text": [
            "Tr-me_0147.jpg -> Class: meningioma, Confidence: 1.00\n",
            "Moving Tr-me_0147.jpg to BT100/Training/meningioma/20250328_234123_Tr-me_0147.jpg\n",
            "\u001b[1m1/1\u001b[0m \u001b[32m━━━━━━━━━━━━━━━━━━━━\u001b[0m\u001b[37m\u001b[0m \u001b[1m0s\u001b[0m 43ms/step\n"
          ]
        },
        {
          "output_type": "stream",
          "name": "stderr",
          "text": [
            "\r 54%|█████▍    | 619/1141 [01:01<00:59,  8.82it/s]"
          ]
        },
        {
          "output_type": "stream",
          "name": "stdout",
          "text": [
            "Tr-no_0484.jpg -> Class: notumor, Confidence: 1.00\n",
            "Moving Tr-no_0484.jpg to BT100/Training/notumor/20250328_234123_Tr-no_0484.jpg\n",
            "\u001b[1m1/1\u001b[0m \u001b[32m━━━━━━━━━━━━━━━━━━━━\u001b[0m\u001b[37m\u001b[0m \u001b[1m0s\u001b[0m 33ms/step\n",
            "Tr-no_0326.jpg -> Class: notumor, Confidence: 1.00\n",
            "Moving Tr-no_0326.jpg to BT100/Training/notumor/20250328_234123_Tr-no_0326.jpg\n",
            "\u001b[1m1/1\u001b[0m \u001b[32m━━━━━━━━━━━━━━━━━━━━\u001b[0m\u001b[37m\u001b[0m \u001b[1m0s\u001b[0m 31ms/step\n"
          ]
        },
        {
          "output_type": "stream",
          "name": "stderr",
          "text": [
            "\r 54%|█████▍    | 621/1141 [01:02<00:55,  9.39it/s]"
          ]
        },
        {
          "output_type": "stream",
          "name": "stdout",
          "text": [
            "Tr-gl_0166.jpg -> Class: glioma, Confidence: 1.00\n",
            "Moving Tr-gl_0166.jpg to BT100/Training/glioma/20250328_234123_Tr-gl_0166.jpg\n",
            "\u001b[1m1/1\u001b[0m \u001b[32m━━━━━━━━━━━━━━━━━━━━\u001b[0m\u001b[37m\u001b[0m \u001b[1m0s\u001b[0m 33ms/step\n",
            "Tr-pi_0911.jpg -> Class: pituitary, Confidence: 1.00\n",
            "Moving Tr-pi_0911.jpg to BT100/Training/pituitary/20250328_234124_Tr-pi_0911.jpg\n",
            "\u001b[1m1/1\u001b[0m \u001b[32m━━━━━━━━━━━━━━━━━━━━\u001b[0m\u001b[37m\u001b[0m \u001b[1m0s\u001b[0m 33ms/step\n"
          ]
        },
        {
          "output_type": "stream",
          "name": "stderr",
          "text": [
            "\r 55%|█████▍    | 623/1141 [01:02<00:52,  9.78it/s]"
          ]
        },
        {
          "output_type": "stream",
          "name": "stdout",
          "text": [
            "Tr-no_1294.jpg -> Class: notumor, Confidence: 1.00\n",
            "Moving Tr-no_1294.jpg to BT100/Training/notumor/20250328_234124_Tr-no_1294.jpg\n",
            "\u001b[1m1/1\u001b[0m \u001b[32m━━━━━━━━━━━━━━━━━━━━\u001b[0m\u001b[37m\u001b[0m \u001b[1m0s\u001b[0m 32ms/step\n",
            "Tr-me_0998.jpg -> Class: meningioma, Confidence: 1.00\n",
            "Moving Tr-me_0998.jpg to BT100/Training/meningioma/20250328_234124_Tr-me_0998.jpg\n",
            "\u001b[1m1/1\u001b[0m \u001b[32m━━━━━━━━━━━━━━━━━━━━\u001b[0m\u001b[37m\u001b[0m \u001b[1m0s\u001b[0m 39ms/step\n"
          ]
        },
        {
          "output_type": "stream",
          "name": "stderr",
          "text": [
            "\r 55%|█████▍    | 625/1141 [01:02<00:53,  9.70it/s]"
          ]
        },
        {
          "output_type": "stream",
          "name": "stdout",
          "text": [
            "Tr-pi_0409.jpg -> Class: pituitary, Confidence: 1.00\n",
            "Moving Tr-pi_0409.jpg to BT100/Training/pituitary/20250328_234124_Tr-pi_0409.jpg\n",
            "\u001b[1m1/1\u001b[0m \u001b[32m━━━━━━━━━━━━━━━━━━━━\u001b[0m\u001b[37m\u001b[0m \u001b[1m0s\u001b[0m 40ms/step\n",
            "Tr-no_1000.jpg -> Class: notumor, Confidence: 1.00\n",
            "Moving Tr-no_1000.jpg to BT100/Training/notumor/20250328_234124_Tr-no_1000.jpg\n",
            "\u001b[1m1/1\u001b[0m \u001b[32m━━━━━━━━━━━━━━━━━━━━\u001b[0m\u001b[37m\u001b[0m \u001b[1m0s\u001b[0m 35ms/step\n"
          ]
        },
        {
          "output_type": "stream",
          "name": "stderr",
          "text": [
            "\r 55%|█████▍    | 627/1141 [01:02<00:48, 10.57it/s]"
          ]
        },
        {
          "output_type": "stream",
          "name": "stdout",
          "text": [
            "Tr-gl_1165.jpg -> Class: glioma, Confidence: 1.00\n",
            "Moving Tr-gl_1165.jpg to BT100/Training/glioma/20250328_234124_Tr-gl_1165.jpg\n",
            "\u001b[1m1/1\u001b[0m \u001b[32m━━━━━━━━━━━━━━━━━━━━\u001b[0m\u001b[37m\u001b[0m \u001b[1m0s\u001b[0m 62ms/step\n",
            "Tr-pi_0942.jpg -> Class: pituitary, Confidence: 1.00\n",
            "Moving Tr-pi_0942.jpg to BT100/Training/pituitary/20250328_234124_Tr-pi_0942.jpg\n",
            "\u001b[1m1/1\u001b[0m \u001b[32m━━━━━━━━━━━━━━━━━━━━\u001b[0m\u001b[37m\u001b[0m \u001b[1m0s\u001b[0m 36ms/step\n"
          ]
        },
        {
          "output_type": "stream",
          "name": "stderr",
          "text": [
            "\r 55%|█████▌    | 629/1141 [01:02<00:52,  9.76it/s]"
          ]
        },
        {
          "output_type": "stream",
          "name": "stdout",
          "text": [
            "Tr-gl_0194.jpg -> Class: glioma, Confidence: 1.00\n",
            "Moving Tr-gl_0194.jpg to BT100/Training/glioma/20250328_234124_Tr-gl_0194.jpg\n",
            "\u001b[1m1/1\u001b[0m \u001b[32m━━━━━━━━━━━━━━━━━━━━\u001b[0m\u001b[37m\u001b[0m \u001b[1m0s\u001b[0m 38ms/step\n",
            "Tr-me_0697.jpg -> Class: meningioma, Confidence: 1.00\n",
            "Moving Tr-me_0697.jpg to BT100/Training/meningioma/20250328_234124_Tr-me_0697.jpg\n",
            "\u001b[1m1/1\u001b[0m \u001b[32m━━━━━━━━━━━━━━━━━━━━\u001b[0m\u001b[37m\u001b[0m \u001b[1m0s\u001b[0m 35ms/step\n"
          ]
        },
        {
          "output_type": "stream",
          "name": "stderr",
          "text": [
            "\r 55%|█████▌    | 631/1141 [01:03<00:51,  9.91it/s]"
          ]
        },
        {
          "output_type": "stream",
          "name": "stdout",
          "text": [
            "Tr-no_0833.jpg -> Class: notumor, Confidence: 1.00\n",
            "Moving Tr-no_0833.jpg to BT100/Training/notumor/20250328_234124_Tr-no_0833.jpg\n",
            "\u001b[1m1/1\u001b[0m \u001b[32m━━━━━━━━━━━━━━━━━━━━\u001b[0m\u001b[37m\u001b[0m \u001b[1m0s\u001b[0m 40ms/step\n",
            "Tr-no_0964.jpg -> Class: notumor, Confidence: 1.00\n",
            "Moving Tr-no_0964.jpg to BT100/Training/notumor/20250328_234125_Tr-no_0964.jpg\n",
            "\u001b[1m1/1\u001b[0m \u001b[32m━━━━━━━━━━━━━━━━━━━━\u001b[0m\u001b[37m\u001b[0m \u001b[1m0s\u001b[0m 42ms/step\n"
          ]
        },
        {
          "output_type": "stream",
          "name": "stderr",
          "text": [
            "\r 55%|█████▌    | 633/1141 [01:03<00:52,  9.75it/s]"
          ]
        },
        {
          "output_type": "stream",
          "name": "stdout",
          "text": [
            "Tr-gl_0492.jpg -> Class: glioma, Confidence: 1.00\n",
            "Moving Tr-gl_0492.jpg to BT100/Training/glioma/20250328_234125_Tr-gl_0492.jpg\n",
            "\u001b[1m1/1\u001b[0m \u001b[32m━━━━━━━━━━━━━━━━━━━━\u001b[0m\u001b[37m\u001b[0m \u001b[1m0s\u001b[0m 36ms/step\n",
            "Tr-pi_1109.jpg -> Class: pituitary, Confidence: 1.00\n",
            "Moving Tr-pi_1109.jpg to BT100/Training/pituitary/20250328_234125_Tr-pi_1109.jpg\n",
            "\u001b[1m1/1\u001b[0m \u001b[32m━━━━━━━━━━━━━━━━━━━━\u001b[0m\u001b[37m\u001b[0m \u001b[1m0s\u001b[0m 59ms/step\n"
          ]
        },
        {
          "output_type": "stream",
          "name": "stderr",
          "text": [
            "\r 56%|█████▌    | 635/1141 [01:03<00:50, 10.04it/s]"
          ]
        },
        {
          "output_type": "stream",
          "name": "stdout",
          "text": [
            "Tr-gl_0731.jpg -> Class: glioma, Confidence: 1.00\n",
            "Moving Tr-gl_0731.jpg to BT100/Training/glioma/20250328_234125_Tr-gl_0731.jpg\n",
            "\u001b[1m1/1\u001b[0m \u001b[32m━━━━━━━━━━━━━━━━━━━━\u001b[0m\u001b[37m\u001b[0m \u001b[1m0s\u001b[0m 35ms/step\n",
            "Tr-pi_1366.jpg -> Class: pituitary, Confidence: 1.00\n",
            "Moving Tr-pi_1366.jpg to BT100/Training/pituitary/20250328_234125_Tr-pi_1366.jpg\n",
            "\u001b[1m1/1\u001b[0m \u001b[32m━━━━━━━━━━━━━━━━━━━━\u001b[0m\u001b[37m\u001b[0m \u001b[1m0s\u001b[0m 34ms/step\n"
          ]
        },
        {
          "output_type": "stream",
          "name": "stderr",
          "text": [
            "\r 56%|█████▌    | 637/1141 [01:03<00:52,  9.60it/s]"
          ]
        },
        {
          "output_type": "stream",
          "name": "stdout",
          "text": [
            "Tr-pi_1296.jpg -> Class: pituitary, Confidence: 1.00\n",
            "Moving Tr-pi_1296.jpg to BT100/Training/pituitary/20250328_234125_Tr-pi_1296.jpg\n",
            "\u001b[1m1/1\u001b[0m \u001b[32m━━━━━━━━━━━━━━━━━━━━\u001b[0m\u001b[37m\u001b[0m \u001b[1m0s\u001b[0m 34ms/step\n"
          ]
        },
        {
          "output_type": "stream",
          "name": "stderr",
          "text": [
            "\r 56%|█████▌    | 638/1141 [01:03<00:53,  9.39it/s]"
          ]
        },
        {
          "output_type": "stream",
          "name": "stdout",
          "text": [
            "Tr-no_1463.jpg -> Class: notumor, Confidence: 1.00\n",
            "Moving Tr-no_1463.jpg to BT100/Training/notumor/20250328_234125_Tr-no_1463.jpg\n",
            "\u001b[1m1/1\u001b[0m \u001b[32m━━━━━━━━━━━━━━━━━━━━\u001b[0m\u001b[37m\u001b[0m \u001b[1m0s\u001b[0m 39ms/step\n"
          ]
        },
        {
          "output_type": "stream",
          "name": "stderr",
          "text": [
            "\r 56%|█████▌    | 639/1141 [01:03<00:55,  9.02it/s]"
          ]
        },
        {
          "output_type": "stream",
          "name": "stdout",
          "text": [
            "Tr-no_0551.jpg -> Class: notumor, Confidence: 1.00\n",
            "Moving Tr-no_0551.jpg to BT100/Training/notumor/20250328_234125_Tr-no_0551.jpg\n",
            "\u001b[1m1/1\u001b[0m \u001b[32m━━━━━━━━━━━━━━━━━━━━\u001b[0m\u001b[37m\u001b[0m \u001b[1m0s\u001b[0m 33ms/step\n",
            "Tr-pi_0134.jpg -> Class: pituitary, Confidence: 1.00\n",
            "Moving Tr-pi_0134.jpg to BT100/Training/pituitary/20250328_234125_Tr-pi_0134.jpg\n",
            "\u001b[1m1/1\u001b[0m \u001b[32m━━━━━━━━━━━━━━━━━━━━\u001b[0m\u001b[37m\u001b[0m \u001b[1m0s\u001b[0m 35ms/step\n"
          ]
        },
        {
          "output_type": "stream",
          "name": "stderr",
          "text": [
            "\r 56%|█████▌    | 641/1141 [01:04<00:53,  9.43it/s]"
          ]
        },
        {
          "output_type": "stream",
          "name": "stdout",
          "text": [
            "Tr-pi_0821.jpg -> Class: pituitary, Confidence: 1.00\n",
            "Moving Tr-pi_0821.jpg to BT100/Training/pituitary/20250328_234126_Tr-pi_0821.jpg\n",
            "\u001b[1m1/1\u001b[0m \u001b[32m━━━━━━━━━━━━━━━━━━━━\u001b[0m\u001b[37m\u001b[0m \u001b[1m0s\u001b[0m 38ms/step\n"
          ]
        },
        {
          "output_type": "stream",
          "name": "stderr",
          "text": [
            "\r 56%|█████▋    | 642/1141 [01:04<00:54,  9.18it/s]"
          ]
        },
        {
          "output_type": "stream",
          "name": "stdout",
          "text": [
            "Tr-me_0590.jpg -> Class: meningioma, Confidence: 1.00\n",
            "Moving Tr-me_0590.jpg to BT100/Training/meningioma/20250328_234126_Tr-me_0590.jpg\n",
            "\u001b[1m1/1\u001b[0m \u001b[32m━━━━━━━━━━━━━━━━━━━━\u001b[0m\u001b[37m\u001b[0m \u001b[1m0s\u001b[0m 38ms/step\n",
            "Tr-gl_0272.jpg -> Class: glioma, Confidence: 1.00\n",
            "Moving Tr-gl_0272.jpg to BT100/Training/glioma/20250328_234126_Tr-gl_0272.jpg\n",
            "\u001b[1m1/1\u001b[0m \u001b[32m━━━━━━━━━━━━━━━━━━━━\u001b[0m\u001b[37m\u001b[0m \u001b[1m0s\u001b[0m 66ms/step\n"
          ]
        },
        {
          "output_type": "stream",
          "name": "stderr",
          "text": [
            "\r 56%|█████▋    | 644/1141 [01:04<00:51,  9.59it/s]"
          ]
        },
        {
          "output_type": "stream",
          "name": "stdout",
          "text": [
            "Tr-pi_1001.jpg -> Class: pituitary, Confidence: 1.00\n",
            "Moving Tr-pi_1001.jpg to BT100/Training/pituitary/20250328_234126_Tr-pi_1001.jpg\n",
            "\u001b[1m1/1\u001b[0m \u001b[32m━━━━━━━━━━━━━━━━━━━━\u001b[0m\u001b[37m\u001b[0m \u001b[1m0s\u001b[0m 113ms/step\n"
          ]
        },
        {
          "output_type": "stream",
          "name": "stderr",
          "text": [
            "\r 57%|█████▋    | 645/1141 [01:04<01:18,  6.29it/s]"
          ]
        },
        {
          "output_type": "stream",
          "name": "stdout",
          "text": [
            "Tr-me_0505.jpg -> Class: meningioma, Confidence: 1.00\n",
            "Moving Tr-me_0505.jpg to BT100/Training/meningioma/20250328_234126_Tr-me_0505.jpg\n",
            "\u001b[1m1/1\u001b[0m \u001b[32m━━━━━━━━━━━━━━━━━━━━\u001b[0m\u001b[37m\u001b[0m \u001b[1m0s\u001b[0m 63ms/step\n"
          ]
        },
        {
          "output_type": "stream",
          "name": "stderr",
          "text": [
            "\r 57%|█████▋    | 646/1141 [01:05<01:25,  5.81it/s]"
          ]
        },
        {
          "output_type": "stream",
          "name": "stdout",
          "text": [
            "Tr-gl_0117.jpg -> Class: glioma, Confidence: 1.00\n",
            "Moving Tr-gl_0117.jpg to BT100/Training/glioma/20250328_234126_Tr-gl_0117.jpg\n",
            "\u001b[1m1/1\u001b[0m \u001b[32m━━━━━━━━━━━━━━━━━━━━\u001b[0m\u001b[37m\u001b[0m \u001b[1m0s\u001b[0m 52ms/step\n"
          ]
        },
        {
          "output_type": "stream",
          "name": "stderr",
          "text": [
            "\r 57%|█████▋    | 647/1141 [01:05<01:22,  5.96it/s]"
          ]
        },
        {
          "output_type": "stream",
          "name": "stdout",
          "text": [
            "Tr-gl_0147.jpg -> Class: glioma, Confidence: 1.00\n",
            "Moving Tr-gl_0147.jpg to BT100/Training/glioma/20250328_234127_Tr-gl_0147.jpg\n",
            "\u001b[1m1/1\u001b[0m \u001b[32m━━━━━━━━━━━━━━━━━━━━\u001b[0m\u001b[37m\u001b[0m \u001b[1m0s\u001b[0m 34ms/step\n",
            "Tr-me_0037.jpg -> Class: meningioma, Confidence: 1.00\n",
            "Moving Tr-me_0037.jpg to BT100/Training/meningioma/20250328_234127_Tr-me_0037.jpg\n",
            "\u001b[1m1/1\u001b[0m \u001b[32m━━━━━━━━━━━━━━━━━━━━\u001b[0m\u001b[37m\u001b[0m \u001b[1m0s\u001b[0m 34ms/step\n"
          ]
        },
        {
          "output_type": "stream",
          "name": "stderr",
          "text": [
            "\r 57%|█████▋    | 649/1141 [01:05<01:04,  7.61it/s]"
          ]
        },
        {
          "output_type": "stream",
          "name": "stdout",
          "text": [
            "Tr-gl_0505.jpg -> Class: glioma, Confidence: 1.00\n",
            "Moving Tr-gl_0505.jpg to BT100/Training/glioma/20250328_234127_Tr-gl_0505.jpg\n",
            "\u001b[1m1/1\u001b[0m \u001b[32m━━━━━━━━━━━━━━━━━━━━\u001b[0m\u001b[37m\u001b[0m \u001b[1m0s\u001b[0m 37ms/step\n"
          ]
        },
        {
          "output_type": "stream",
          "name": "stderr",
          "text": [
            "\r 57%|█████▋    | 650/1141 [01:05<01:04,  7.60it/s]"
          ]
        },
        {
          "output_type": "stream",
          "name": "stdout",
          "text": [
            "Tr-me_0614.jpg -> Class: meningioma, Confidence: 0.96\n",
            "Moved low-confidence image Tr-me_0614.jpg to BT100/low_confidence\n",
            "\u001b[1m1/1\u001b[0m \u001b[32m━━━━━━━━━━━━━━━━━━━━\u001b[0m\u001b[37m\u001b[0m \u001b[1m0s\u001b[0m 36ms/step\n"
          ]
        },
        {
          "output_type": "stream",
          "name": "stderr",
          "text": [
            "\r 57%|█████▋    | 651/1141 [01:05<01:02,  7.80it/s]"
          ]
        },
        {
          "output_type": "stream",
          "name": "stdout",
          "text": [
            "Tr-gl_0890.jpg -> Class: glioma, Confidence: 1.00\n",
            "Moving Tr-gl_0890.jpg to BT100/Training/glioma/20250328_234127_Tr-gl_0890.jpg\n",
            "\u001b[1m1/1\u001b[0m \u001b[32m━━━━━━━━━━━━━━━━━━━━\u001b[0m\u001b[37m\u001b[0m \u001b[1m0s\u001b[0m 193ms/step\n"
          ]
        },
        {
          "output_type": "stream",
          "name": "stderr",
          "text": [
            "\r 57%|█████▋    | 652/1141 [01:05<01:37,  5.04it/s]"
          ]
        },
        {
          "output_type": "stream",
          "name": "stdout",
          "text": [
            "Tr-no_0391.jpg -> Class: notumor, Confidence: 1.00\n",
            "Moving Tr-no_0391.jpg to BT100/Training/notumor/20250328_234127_Tr-no_0391.jpg\n",
            "\u001b[1m1/1\u001b[0m \u001b[32m━━━━━━━━━━━━━━━━━━━━\u001b[0m\u001b[37m\u001b[0m \u001b[1m0s\u001b[0m 113ms/step\n"
          ]
        },
        {
          "output_type": "stream",
          "name": "stderr",
          "text": [
            "\r 57%|█████▋    | 653/1141 [01:06<01:39,  4.91it/s]"
          ]
        },
        {
          "output_type": "stream",
          "name": "stdout",
          "text": [
            "Tr-no_0542.jpg -> Class: notumor, Confidence: 1.00\n",
            "Moving Tr-no_0542.jpg to BT100/Training/notumor/20250328_234128_Tr-no_0542.jpg\n",
            "\u001b[1m1/1\u001b[0m \u001b[32m━━━━━━━━━━━━━━━━━━━━\u001b[0m\u001b[37m\u001b[0m \u001b[1m0s\u001b[0m 33ms/step\n"
          ]
        },
        {
          "output_type": "stream",
          "name": "stderr",
          "text": [
            "\r 57%|█████▋    | 654/1141 [01:06<01:27,  5.55it/s]"
          ]
        },
        {
          "output_type": "stream",
          "name": "stdout",
          "text": [
            "Tr-me_0393.jpg -> Class: meningioma, Confidence: 1.00\n",
            "Moving Tr-me_0393.jpg to BT100/Training/meningioma/20250328_234128_Tr-me_0393.jpg\n",
            "\u001b[1m1/1\u001b[0m \u001b[32m━━━━━━━━━━━━━━━━━━━━\u001b[0m\u001b[37m\u001b[0m \u001b[1m0s\u001b[0m 37ms/step\n"
          ]
        },
        {
          "output_type": "stream",
          "name": "stderr",
          "text": [
            "\r 57%|█████▋    | 655/1141 [01:06<01:19,  6.12it/s]"
          ]
        },
        {
          "output_type": "stream",
          "name": "stdout",
          "text": [
            "Tr-gl_0195.jpg -> Class: glioma, Confidence: 1.00\n",
            "Moving Tr-gl_0195.jpg to BT100/Training/glioma/20250328_234128_Tr-gl_0195.jpg\n",
            "\u001b[1m1/1\u001b[0m \u001b[32m━━━━━━━━━━━━━━━━━━━━\u001b[0m\u001b[37m\u001b[0m \u001b[1m0s\u001b[0m 35ms/step\n",
            "Tr-pi_1309.jpg -> Class: pituitary, Confidence: 1.00\n",
            "Moving Tr-pi_1309.jpg to BT100/Training/pituitary/20250328_234128_Tr-pi_1309.jpg\n",
            "\u001b[1m1/1\u001b[0m \u001b[32m━━━━━━━━━━━━━━━━━━━━\u001b[0m\u001b[37m\u001b[0m \u001b[1m0s\u001b[0m 32ms/step\n"
          ]
        },
        {
          "output_type": "stream",
          "name": "stderr",
          "text": [
            "\r 58%|█████▊    | 657/1141 [01:06<01:04,  7.49it/s]"
          ]
        },
        {
          "output_type": "stream",
          "name": "stdout",
          "text": [
            "Tr-me_1081.jpg -> Class: meningioma, Confidence: 1.00\n",
            "Moving Tr-me_1081.jpg to BT100/Training/meningioma/20250328_234128_Tr-me_1081.jpg\n",
            "\u001b[1m1/1\u001b[0m \u001b[32m━━━━━━━━━━━━━━━━━━━━\u001b[0m\u001b[37m\u001b[0m \u001b[1m0s\u001b[0m 34ms/step\n",
            "Tr-me_1309.jpg -> Class: meningioma, Confidence: 1.00\n",
            "Moving Tr-me_1309.jpg to BT100/Training/meningioma/20250328_234128_Tr-me_1309.jpg\n",
            "\u001b[1m1/1\u001b[0m \u001b[32m━━━━━━━━━━━━━━━━━━━━\u001b[0m\u001b[37m\u001b[0m \u001b[1m0s\u001b[0m 32ms/step\n"
          ]
        },
        {
          "output_type": "stream",
          "name": "stderr",
          "text": [
            "\r 58%|█████▊    | 659/1141 [01:06<00:56,  8.49it/s]"
          ]
        },
        {
          "output_type": "stream",
          "name": "stdout",
          "text": [
            "Tr-no_0092.jpg -> Class: notumor, Confidence: 1.00\n",
            "Moving Tr-no_0092.jpg to BT100/Training/notumor/20250328_234128_Tr-no_0092.jpg\n",
            "\u001b[1m1/1\u001b[0m \u001b[32m━━━━━━━━━━━━━━━━━━━━\u001b[0m\u001b[37m\u001b[0m \u001b[1m0s\u001b[0m 32ms/step\n"
          ]
        },
        {
          "output_type": "stream",
          "name": "stderr",
          "text": [
            "\r 58%|█████▊    | 660/1141 [01:06<00:56,  8.48it/s]"
          ]
        },
        {
          "output_type": "stream",
          "name": "stdout",
          "text": [
            "Tr-me_0705.jpg -> Class: meningioma, Confidence: 1.00\n",
            "Moving Tr-me_0705.jpg to BT100/Training/meningioma/20250328_234128_Tr-me_0705.jpg\n",
            "\u001b[1m1/1\u001b[0m \u001b[32m━━━━━━━━━━━━━━━━━━━━\u001b[0m\u001b[37m\u001b[0m \u001b[1m0s\u001b[0m 37ms/step\n",
            "Tr-no_1491.jpg -> Class: notumor, Confidence: 1.00\n",
            "Moving Tr-no_1491.jpg to BT100/Training/notumor/20250328_234128_Tr-no_1491.jpg\n",
            "\u001b[1m1/1\u001b[0m \u001b[32m━━━━━━━━━━━━━━━━━━━━\u001b[0m\u001b[37m\u001b[0m \u001b[1m0s\u001b[0m 37ms/step\n"
          ]
        },
        {
          "output_type": "stream",
          "name": "stderr",
          "text": [
            "\r 58%|█████▊    | 662/1141 [01:07<00:53,  8.96it/s]"
          ]
        },
        {
          "output_type": "stream",
          "name": "stdout",
          "text": [
            "Tr-pi_1342.jpg -> Class: pituitary, Confidence: 1.00\n",
            "Moving Tr-pi_1342.jpg to BT100/Training/pituitary/20250328_234129_Tr-pi_1342.jpg\n",
            "\u001b[1m1/1\u001b[0m \u001b[32m━━━━━━━━━━━━━━━━━━━━\u001b[0m\u001b[37m\u001b[0m \u001b[1m0s\u001b[0m 56ms/step\n"
          ]
        },
        {
          "output_type": "stream",
          "name": "stderr",
          "text": [
            "\r 58%|█████▊    | 663/1141 [01:07<00:55,  8.59it/s]"
          ]
        },
        {
          "output_type": "stream",
          "name": "stdout",
          "text": [
            "Tr-pi_0897.jpg -> Class: pituitary, Confidence: 1.00\n",
            "Moving Tr-pi_0897.jpg to BT100/Training/pituitary/20250328_234129_Tr-pi_0897.jpg\n",
            "\u001b[1m1/1\u001b[0m \u001b[32m━━━━━━━━━━━━━━━━━━━━\u001b[0m\u001b[37m\u001b[0m \u001b[1m0s\u001b[0m 61ms/step\n"
          ]
        },
        {
          "output_type": "stream",
          "name": "stderr",
          "text": [
            "\r 58%|█████▊    | 664/1141 [01:07<00:58,  8.11it/s]"
          ]
        },
        {
          "output_type": "stream",
          "name": "stdout",
          "text": [
            "Tr-gl_0294.jpg -> Class: glioma, Confidence: 1.00\n",
            "Moving Tr-gl_0294.jpg to BT100/Training/glioma/20250328_234129_Tr-gl_0294.jpg\n",
            "\u001b[1m1/1\u001b[0m \u001b[32m━━━━━━━━━━━━━━━━━━━━\u001b[0m\u001b[37m\u001b[0m \u001b[1m0s\u001b[0m 55ms/step\n"
          ]
        },
        {
          "output_type": "stream",
          "name": "stderr",
          "text": [
            "\r 58%|█████▊    | 665/1141 [01:07<01:03,  7.51it/s]"
          ]
        },
        {
          "output_type": "stream",
          "name": "stdout",
          "text": [
            "Tr-me_0031.jpg -> Class: meningioma, Confidence: 1.00\n",
            "Moving Tr-me_0031.jpg to BT100/Training/meningioma/20250328_234129_Tr-me_0031.jpg\n",
            "\u001b[1m1/1\u001b[0m \u001b[32m━━━━━━━━━━━━━━━━━━━━\u001b[0m\u001b[37m\u001b[0m \u001b[1m0s\u001b[0m 48ms/step\n"
          ]
        },
        {
          "output_type": "stream",
          "name": "stderr",
          "text": [
            "\r 58%|█████▊    | 666/1141 [01:07<01:00,  7.88it/s]"
          ]
        },
        {
          "output_type": "stream",
          "name": "stdout",
          "text": [
            "Tr-gl_0133.jpg -> Class: glioma, Confidence: 1.00\n",
            "Moving Tr-gl_0133.jpg to BT100/Training/glioma/20250328_234129_Tr-gl_0133.jpg\n",
            "\u001b[1m1/1\u001b[0m \u001b[32m━━━━━━━━━━━━━━━━━━━━\u001b[0m\u001b[37m\u001b[0m \u001b[1m0s\u001b[0m 41ms/step\n"
          ]
        },
        {
          "output_type": "stream",
          "name": "stderr",
          "text": [
            "\r 58%|█████▊    | 667/1141 [01:07<01:02,  7.64it/s]"
          ]
        },
        {
          "output_type": "stream",
          "name": "stdout",
          "text": [
            "Tr-no_1421.jpg -> Class: notumor, Confidence: 1.00\n",
            "Moving Tr-no_1421.jpg to BT100/Training/notumor/20250328_234129_Tr-no_1421.jpg\n",
            "\u001b[1m1/1\u001b[0m \u001b[32m━━━━━━━━━━━━━━━━━━━━\u001b[0m\u001b[37m\u001b[0m \u001b[1m0s\u001b[0m 52ms/step\n"
          ]
        },
        {
          "output_type": "stream",
          "name": "stderr",
          "text": [
            "\r 59%|█████▊    | 668/1141 [01:07<01:02,  7.59it/s]"
          ]
        },
        {
          "output_type": "stream",
          "name": "stdout",
          "text": [
            "Tr-pi_0566.jpg -> Class: pituitary, Confidence: 1.00\n",
            "Moving Tr-pi_0566.jpg to BT100/Training/pituitary/20250328_234129_Tr-pi_0566.jpg\n",
            "\u001b[1m1/1\u001b[0m \u001b[32m━━━━━━━━━━━━━━━━━━━━\u001b[0m\u001b[37m\u001b[0m \u001b[1m0s\u001b[0m 56ms/step\n"
          ]
        },
        {
          "output_type": "stream",
          "name": "stderr",
          "text": [
            "\r 59%|█████▊    | 669/1141 [01:08<01:03,  7.42it/s]"
          ]
        },
        {
          "output_type": "stream",
          "name": "stdout",
          "text": [
            "Tr-me_0553.jpg -> Class: meningioma, Confidence: 1.00\n",
            "Moving Tr-me_0553.jpg to BT100/Training/meningioma/20250328_234130_Tr-me_0553.jpg\n",
            "\u001b[1m1/1\u001b[0m \u001b[32m━━━━━━━━━━━━━━━━━━━━\u001b[0m\u001b[37m\u001b[0m \u001b[1m0s\u001b[0m 64ms/step\n"
          ]
        },
        {
          "output_type": "stream",
          "name": "stderr",
          "text": [
            "\r 59%|█████▊    | 670/1141 [01:08<01:06,  7.08it/s]"
          ]
        },
        {
          "output_type": "stream",
          "name": "stdout",
          "text": [
            "Tr-pi_1264.jpg -> Class: pituitary, Confidence: 1.00\n",
            "Moving Tr-pi_1264.jpg to BT100/Training/pituitary/20250328_234130_Tr-pi_1264.jpg\n",
            "\u001b[1m1/1\u001b[0m \u001b[32m━━━━━━━━━━━━━━━━━━━━\u001b[0m\u001b[37m\u001b[0m \u001b[1m0s\u001b[0m 56ms/step\n"
          ]
        },
        {
          "output_type": "stream",
          "name": "stderr",
          "text": [
            "\r 59%|█████▉    | 671/1141 [01:08<01:07,  6.95it/s]"
          ]
        },
        {
          "output_type": "stream",
          "name": "stdout",
          "text": [
            "Tr-no_0415.jpg -> Class: notumor, Confidence: 1.00\n",
            "Moving Tr-no_0415.jpg to BT100/Training/notumor/20250328_234130_Tr-no_0415.jpg\n",
            "\u001b[1m1/1\u001b[0m \u001b[32m━━━━━━━━━━━━━━━━━━━━\u001b[0m\u001b[37m\u001b[0m \u001b[1m0s\u001b[0m 55ms/step\n"
          ]
        },
        {
          "output_type": "stream",
          "name": "stderr",
          "text": [
            "\r 59%|█████▉    | 672/1141 [01:08<01:08,  6.83it/s]"
          ]
        },
        {
          "output_type": "stream",
          "name": "stdout",
          "text": [
            "Tr-me_1307.jpg -> Class: meningioma, Confidence: 1.00\n",
            "Moving Tr-me_1307.jpg to BT100/Training/meningioma/20250328_234130_Tr-me_1307.jpg\n",
            "\u001b[1m1/1\u001b[0m \u001b[32m━━━━━━━━━━━━━━━━━━━━\u001b[0m\u001b[37m\u001b[0m \u001b[1m0s\u001b[0m 46ms/step\n"
          ]
        },
        {
          "output_type": "stream",
          "name": "stderr",
          "text": [
            "\r 59%|█████▉    | 673/1141 [01:08<01:03,  7.38it/s]"
          ]
        },
        {
          "output_type": "stream",
          "name": "stdout",
          "text": [
            "Tr-gl_0989.jpg -> Class: glioma, Confidence: 1.00\n",
            "Moving Tr-gl_0989.jpg to BT100/Training/glioma/20250328_234130_Tr-gl_0989.jpg\n",
            "\u001b[1m1/1\u001b[0m \u001b[32m━━━━━━━━━━━━━━━━━━━━\u001b[0m\u001b[37m\u001b[0m \u001b[1m0s\u001b[0m 54ms/step\n"
          ]
        },
        {
          "output_type": "stream",
          "name": "stderr",
          "text": [
            "\r 59%|█████▉    | 674/1141 [01:08<01:03,  7.38it/s]"
          ]
        },
        {
          "output_type": "stream",
          "name": "stdout",
          "text": [
            "Tr-no_1244.jpg -> Class: notumor, Confidence: 1.00\n",
            "Moving Tr-no_1244.jpg to BT100/Training/notumor/20250328_234130_Tr-no_1244.jpg\n",
            "\u001b[1m1/1\u001b[0m \u001b[32m━━━━━━━━━━━━━━━━━━━━\u001b[0m\u001b[37m\u001b[0m \u001b[1m0s\u001b[0m 51ms/step\n"
          ]
        },
        {
          "output_type": "stream",
          "name": "stderr",
          "text": [
            "\r 59%|█████▉    | 675/1141 [01:08<01:04,  7.25it/s]"
          ]
        },
        {
          "output_type": "stream",
          "name": "stdout",
          "text": [
            "Tr-gl_0075.jpg -> Class: glioma, Confidence: 1.00\n",
            "Moving Tr-gl_0075.jpg to BT100/Training/glioma/20250328_234130_Tr-gl_0075.jpg\n",
            "\u001b[1m1/1\u001b[0m \u001b[32m━━━━━━━━━━━━━━━━━━━━\u001b[0m\u001b[37m\u001b[0m \u001b[1m0s\u001b[0m 71ms/step\n"
          ]
        },
        {
          "output_type": "stream",
          "name": "stderr",
          "text": [
            "\r 59%|█████▉    | 676/1141 [01:09<01:06,  6.96it/s]"
          ]
        },
        {
          "output_type": "stream",
          "name": "stdout",
          "text": [
            "Tr-no_1040.jpg -> Class: notumor, Confidence: 1.00\n",
            "Moving Tr-no_1040.jpg to BT100/Training/notumor/20250328_234131_Tr-no_1040.jpg\n",
            "\u001b[1m1/1\u001b[0m \u001b[32m━━━━━━━━━━━━━━━━━━━━\u001b[0m\u001b[37m\u001b[0m \u001b[1m0s\u001b[0m 54ms/step\n"
          ]
        },
        {
          "output_type": "stream",
          "name": "stderr",
          "text": [
            "\r 59%|█████▉    | 677/1141 [01:09<01:03,  7.25it/s]"
          ]
        },
        {
          "output_type": "stream",
          "name": "stdout",
          "text": [
            "Tr-pi_0503.jpg -> Class: pituitary, Confidence: 1.00\n",
            "Moving Tr-pi_0503.jpg to BT100/Training/pituitary/20250328_234131_Tr-pi_0503.jpg\n",
            "\u001b[1m1/1\u001b[0m \u001b[32m━━━━━━━━━━━━━━━━━━━━\u001b[0m\u001b[37m\u001b[0m \u001b[1m0s\u001b[0m 66ms/step\n"
          ]
        },
        {
          "output_type": "stream",
          "name": "stderr",
          "text": [
            "\r 59%|█████▉    | 678/1141 [01:09<01:08,  6.72it/s]"
          ]
        },
        {
          "output_type": "stream",
          "name": "stdout",
          "text": [
            "Tr-no_1011.jpg -> Class: notumor, Confidence: 1.00\n",
            "Moving Tr-no_1011.jpg to BT100/Training/notumor/20250328_234131_Tr-no_1011.jpg\n",
            "\u001b[1m1/1\u001b[0m \u001b[32m━━━━━━━━━━━━━━━━━━━━\u001b[0m\u001b[37m\u001b[0m \u001b[1m0s\u001b[0m 46ms/step\n"
          ]
        },
        {
          "output_type": "stream",
          "name": "stderr",
          "text": [
            "\r 60%|█████▉    | 679/1141 [01:09<01:08,  6.74it/s]"
          ]
        },
        {
          "output_type": "stream",
          "name": "stdout",
          "text": [
            "Tr-me_1075.jpg -> Class: meningioma, Confidence: 1.00\n",
            "Moving Tr-me_1075.jpg to BT100/Training/meningioma/20250328_234131_Tr-me_1075.jpg\n",
            "\u001b[1m1/1\u001b[0m \u001b[32m━━━━━━━━━━━━━━━━━━━━\u001b[0m\u001b[37m\u001b[0m \u001b[1m0s\u001b[0m 57ms/step\n"
          ]
        },
        {
          "output_type": "stream",
          "name": "stderr",
          "text": [
            "\r 60%|█████▉    | 680/1141 [01:09<01:08,  6.73it/s]"
          ]
        },
        {
          "output_type": "stream",
          "name": "stdout",
          "text": [
            "Tr-no_0732.jpg -> Class: notumor, Confidence: 1.00\n",
            "Moving Tr-no_0732.jpg to BT100/Training/notumor/20250328_234131_Tr-no_0732.jpg\n",
            "\u001b[1m1/1\u001b[0m \u001b[32m━━━━━━━━━━━━━━━━━━━━\u001b[0m\u001b[37m\u001b[0m \u001b[1m0s\u001b[0m 43ms/step\n"
          ]
        },
        {
          "output_type": "stream",
          "name": "stderr",
          "text": [
            "\r 60%|█████▉    | 681/1141 [01:09<01:02,  7.32it/s]"
          ]
        },
        {
          "output_type": "stream",
          "name": "stdout",
          "text": [
            "Tr-gl_1058.jpg -> Class: glioma, Confidence: 1.00\n",
            "Moving Tr-gl_1058.jpg to BT100/Training/glioma/20250328_234131_Tr-gl_1058.jpg\n",
            "\u001b[1m1/1\u001b[0m \u001b[32m━━━━━━━━━━━━━━━━━━━━\u001b[0m\u001b[37m\u001b[0m \u001b[1m0s\u001b[0m 36ms/step\n"
          ]
        },
        {
          "output_type": "stream",
          "name": "stderr",
          "text": [
            "\r 60%|█████▉    | 682/1141 [01:09<01:00,  7.55it/s]"
          ]
        },
        {
          "output_type": "stream",
          "name": "stdout",
          "text": [
            "Tr-gl_0143.jpg -> Class: glioma, Confidence: 1.00\n",
            "Moving Tr-gl_0143.jpg to BT100/Training/glioma/20250328_234131_Tr-gl_0143.jpg\n",
            "\u001b[1m1/1\u001b[0m \u001b[32m━━━━━━━━━━━━━━━━━━━━\u001b[0m\u001b[37m\u001b[0m \u001b[1m0s\u001b[0m 31ms/step\n",
            "Tr-me_1099.jpg -> Class: meningioma, Confidence: 1.00\n",
            "Moving Tr-me_1099.jpg to BT100/Training/meningioma/20250328_234131_Tr-me_1099.jpg\n",
            "\u001b[1m1/1\u001b[0m \u001b[32m━━━━━━━━━━━━━━━━━━━━\u001b[0m\u001b[37m\u001b[0m \u001b[1m0s\u001b[0m 32ms/step\n"
          ]
        },
        {
          "output_type": "stream",
          "name": "stderr",
          "text": [
            "\r 60%|█████▉    | 684/1141 [01:10<00:47,  9.54it/s]"
          ]
        },
        {
          "output_type": "stream",
          "name": "stdout",
          "text": [
            "Tr-no_0560.jpg -> Class: notumor, Confidence: 1.00\n",
            "Moving Tr-no_0560.jpg to BT100/Training/notumor/20250328_234131_Tr-no_0560.jpg\n",
            "\u001b[1m1/1\u001b[0m \u001b[32m━━━━━━━━━━━━━━━━━━━━\u001b[0m\u001b[37m\u001b[0m \u001b[1m0s\u001b[0m 39ms/step\n",
            "Tr-no_1170.jpg -> Class: notumor, Confidence: 1.00\n",
            "Moving Tr-no_1170.jpg to BT100/Training/notumor/20250328_234132_Tr-no_1170.jpg\n"
          ]
        },
        {
          "output_type": "stream",
          "name": "stderr",
          "text": [
            "\r 60%|██████    | 685/1141 [01:10<00:49,  9.13it/s]"
          ]
        },
        {
          "output_type": "stream",
          "name": "stdout",
          "text": [
            "\u001b[1m1/1\u001b[0m \u001b[32m━━━━━━━━━━━━━━━━━━━━\u001b[0m\u001b[37m\u001b[0m \u001b[1m0s\u001b[0m 35ms/step\n"
          ]
        },
        {
          "output_type": "stream",
          "name": "stderr",
          "text": [
            "\r 60%|██████    | 686/1141 [01:10<00:51,  8.87it/s]"
          ]
        },
        {
          "output_type": "stream",
          "name": "stdout",
          "text": [
            "Tr-pi_1253.jpg -> Class: pituitary, Confidence: 1.00\n",
            "Moving Tr-pi_1253.jpg to BT100/Training/pituitary/20250328_234132_Tr-pi_1253.jpg\n",
            "\u001b[1m1/1\u001b[0m \u001b[32m━━━━━━━━━━━━━━━━━━━━\u001b[0m\u001b[37m\u001b[0m \u001b[1m0s\u001b[0m 41ms/step\n"
          ]
        },
        {
          "output_type": "stream",
          "name": "stderr",
          "text": [
            "\r 60%|██████    | 687/1141 [01:10<00:54,  8.28it/s]"
          ]
        },
        {
          "output_type": "stream",
          "name": "stdout",
          "text": [
            "Tr-me_0128.jpg -> Class: meningioma, Confidence: 1.00\n",
            "Moving Tr-me_0128.jpg to BT100/Training/meningioma/20250328_234132_Tr-me_0128.jpg\n",
            "\u001b[1m1/1\u001b[0m \u001b[32m━━━━━━━━━━━━━━━━━━━━\u001b[0m\u001b[37m\u001b[0m \u001b[1m0s\u001b[0m 35ms/step\n"
          ]
        },
        {
          "output_type": "stream",
          "name": "stderr",
          "text": [
            "\r 60%|██████    | 688/1141 [01:10<00:55,  8.22it/s]"
          ]
        },
        {
          "output_type": "stream",
          "name": "stdout",
          "text": [
            "Tr-gl_0103.jpg -> Class: glioma, Confidence: 1.00\n",
            "Moving Tr-gl_0103.jpg to BT100/Training/glioma/20250328_234132_Tr-gl_0103.jpg\n",
            "\u001b[1m1/1\u001b[0m \u001b[32m━━━━━━━━━━━━━━━━━━━━\u001b[0m\u001b[37m\u001b[0m \u001b[1m0s\u001b[0m 36ms/step\n"
          ]
        },
        {
          "output_type": "stream",
          "name": "stderr",
          "text": [
            "\r 60%|██████    | 689/1141 [01:10<00:55,  8.17it/s]"
          ]
        },
        {
          "output_type": "stream",
          "name": "stdout",
          "text": [
            "Tr-pi_0051.jpg -> Class: pituitary, Confidence: 1.00\n",
            "Moving Tr-pi_0051.jpg to BT100/Training/pituitary/20250328_234132_Tr-pi_0051.jpg\n",
            "\u001b[1m1/1\u001b[0m \u001b[32m━━━━━━━━━━━━━━━━━━━━\u001b[0m\u001b[37m\u001b[0m \u001b[1m0s\u001b[0m 35ms/step\n"
          ]
        },
        {
          "output_type": "stream",
          "name": "stderr",
          "text": [
            "\r 60%|██████    | 690/1141 [01:10<00:55,  8.20it/s]"
          ]
        },
        {
          "output_type": "stream",
          "name": "stdout",
          "text": [
            "Tr-pi_0620.jpg -> Class: pituitary, Confidence: 1.00\n",
            "Moving Tr-pi_0620.jpg to BT100/Training/pituitary/20250328_234132_Tr-pi_0620.jpg\n",
            "\u001b[1m1/1\u001b[0m \u001b[32m━━━━━━━━━━━━━━━━━━━━\u001b[0m\u001b[37m\u001b[0m \u001b[1m0s\u001b[0m 34ms/step\n"
          ]
        },
        {
          "output_type": "stream",
          "name": "stderr",
          "text": [
            "\r 61%|██████    | 691/1141 [01:10<00:54,  8.18it/s]"
          ]
        },
        {
          "output_type": "stream",
          "name": "stdout",
          "text": [
            "Tr-gl_1174.jpg -> Class: glioma, Confidence: 1.00\n",
            "Moving Tr-gl_1174.jpg to BT100/Training/glioma/20250328_234132_Tr-gl_1174.jpg\n",
            "\u001b[1m1/1\u001b[0m \u001b[32m━━━━━━━━━━━━━━━━━━━━\u001b[0m\u001b[37m\u001b[0m \u001b[1m0s\u001b[0m 32ms/step\n"
          ]
        },
        {
          "output_type": "stream",
          "name": "stderr",
          "text": [
            "\r 61%|██████    | 692/1141 [01:11<00:54,  8.23it/s]"
          ]
        },
        {
          "output_type": "stream",
          "name": "stdout",
          "text": [
            "Tr-no_0891.jpg -> Class: notumor, Confidence: 1.00\n",
            "Moving Tr-no_0891.jpg to BT100/Training/notumor/20250328_234132_Tr-no_0891.jpg\n",
            "\u001b[1m1/1\u001b[0m \u001b[32m━━━━━━━━━━━━━━━━━━━━\u001b[0m\u001b[37m\u001b[0m \u001b[1m0s\u001b[0m 31ms/step\n"
          ]
        },
        {
          "output_type": "stream",
          "name": "stderr",
          "text": [
            "\r 61%|██████    | 693/1141 [01:11<00:53,  8.39it/s]"
          ]
        },
        {
          "output_type": "stream",
          "name": "stdout",
          "text": [
            "Tr-no_0742.jpg -> Class: notumor, Confidence: 1.00\n",
            "Moving Tr-no_0742.jpg to BT100/Training/notumor/20250328_234133_Tr-no_0742.jpg\n",
            "\u001b[1m1/1\u001b[0m \u001b[32m━━━━━━━━━━━━━━━━━━━━\u001b[0m\u001b[37m\u001b[0m \u001b[1m0s\u001b[0m 34ms/step\n"
          ]
        },
        {
          "output_type": "stream",
          "name": "stderr",
          "text": [
            "\r 61%|██████    | 694/1141 [01:11<00:53,  8.37it/s]"
          ]
        },
        {
          "output_type": "stream",
          "name": "stdout",
          "text": [
            "Tr-me_0244.jpg -> Class: meningioma, Confidence: 1.00\n",
            "Moving Tr-me_0244.jpg to BT100/Training/meningioma/20250328_234133_Tr-me_0244.jpg\n",
            "\u001b[1m1/1\u001b[0m \u001b[32m━━━━━━━━━━━━━━━━━━━━\u001b[0m\u001b[37m\u001b[0m \u001b[1m0s\u001b[0m 47ms/step\n"
          ]
        },
        {
          "output_type": "stream",
          "name": "stderr",
          "text": [
            "\r 61%|██████    | 695/1141 [01:11<00:54,  8.18it/s]"
          ]
        },
        {
          "output_type": "stream",
          "name": "stdout",
          "text": [
            "Tr-pi_0396.jpg -> Class: pituitary, Confidence: 1.00\n",
            "Moving Tr-pi_0396.jpg to BT100/Training/pituitary/20250328_234133_Tr-pi_0396.jpg\n",
            "\u001b[1m1/1\u001b[0m \u001b[32m━━━━━━━━━━━━━━━━━━━━\u001b[0m\u001b[37m\u001b[0m \u001b[1m0s\u001b[0m 33ms/step\n"
          ]
        },
        {
          "output_type": "stream",
          "name": "stderr",
          "text": [
            "\r 61%|██████    | 696/1141 [01:11<00:54,  8.21it/s]"
          ]
        },
        {
          "output_type": "stream",
          "name": "stdout",
          "text": [
            "Tr-me_0611.jpg -> Class: meningioma, Confidence: 1.00\n",
            "Moving Tr-me_0611.jpg to BT100/Training/meningioma/20250328_234133_Tr-me_0611.jpg\n",
            "\u001b[1m1/1\u001b[0m \u001b[32m━━━━━━━━━━━━━━━━━━━━\u001b[0m\u001b[37m\u001b[0m \u001b[1m0s\u001b[0m 35ms/step\n",
            "Tr-pi_1381.jpg -> Class: pituitary, Confidence: 1.00\n",
            "Moving Tr-pi_1381.jpg to BT100/Training/pituitary/20250328_234133_Tr-pi_1381.jpg\n",
            "\u001b[1m1/1\u001b[0m \u001b[32m━━━━━━━━━━━━━━━━━━━━\u001b[0m\u001b[37m\u001b[0m \u001b[1m0s\u001b[0m 36ms/step\n"
          ]
        },
        {
          "output_type": "stream",
          "name": "stderr",
          "text": [
            "\r 61%|██████    | 698/1141 [01:12<01:13,  6.01it/s]"
          ]
        },
        {
          "output_type": "stream",
          "name": "stdout",
          "text": [
            "Tr-me_0942.jpg -> Class: pituitary, Confidence: 0.95\n",
            "Moved low-confidence image Tr-me_0942.jpg to BT100/low_confidence\n",
            "\u001b[1m1/1\u001b[0m \u001b[32m━━━━━━━━━━━━━━━━━━━━\u001b[0m\u001b[37m\u001b[0m \u001b[1m0s\u001b[0m 37ms/step\n"
          ]
        },
        {
          "output_type": "stream",
          "name": "stderr",
          "text": [
            "\r 61%|██████▏   | 699/1141 [01:12<01:08,  6.44it/s]"
          ]
        },
        {
          "output_type": "stream",
          "name": "stdout",
          "text": [
            "Tr-me_0717.jpg -> Class: meningioma, Confidence: 1.00\n",
            "Moving Tr-me_0717.jpg to BT100/Training/meningioma/20250328_234134_Tr-me_0717.jpg\n",
            "\u001b[1m1/1\u001b[0m \u001b[32m━━━━━━━━━━━━━━━━━━━━\u001b[0m\u001b[37m\u001b[0m \u001b[1m0s\u001b[0m 36ms/step\n"
          ]
        },
        {
          "output_type": "stream",
          "name": "stderr",
          "text": [
            "\r 61%|██████▏   | 700/1141 [01:12<01:03,  6.90it/s]"
          ]
        },
        {
          "output_type": "stream",
          "name": "stdout",
          "text": [
            "Tr-no_0841.jpg -> Class: notumor, Confidence: 1.00\n",
            "Moving Tr-no_0841.jpg to BT100/Training/notumor/20250328_234134_Tr-no_0841.jpg\n",
            "\u001b[1m1/1\u001b[0m \u001b[32m━━━━━━━━━━━━━━━━━━━━\u001b[0m\u001b[37m\u001b[0m \u001b[1m0s\u001b[0m 42ms/step\n"
          ]
        },
        {
          "output_type": "stream",
          "name": "stderr",
          "text": [
            "\r 61%|██████▏   | 701/1141 [01:12<01:01,  7.19it/s]"
          ]
        },
        {
          "output_type": "stream",
          "name": "stdout",
          "text": [
            "Tr-gl_1116.jpg -> Class: glioma, Confidence: 1.00\n",
            "Moving Tr-gl_1116.jpg to BT100/Training/glioma/20250328_234134_Tr-gl_1116.jpg\n",
            "\u001b[1m1/1\u001b[0m \u001b[32m━━━━━━━━━━━━━━━━━━━━\u001b[0m\u001b[37m\u001b[0m \u001b[1m0s\u001b[0m 44ms/step\n",
            "Tr-gl_0900.jpg -> Class: glioma, Confidence: 1.00\n",
            "Moving Tr-gl_0900.jpg to BT100/Training/glioma/20250328_234134_Tr-gl_0900.jpg\n",
            "\u001b[1m1/1\u001b[0m \u001b[32m━━━━━━━━━━━━━━━━━━━━\u001b[0m\u001b[37m\u001b[0m \u001b[1m0s\u001b[0m 39ms/step\n"
          ]
        },
        {
          "output_type": "stream",
          "name": "stderr",
          "text": [
            "\r 62%|██████▏   | 703/1141 [01:12<00:51,  8.54it/s]"
          ]
        },
        {
          "output_type": "stream",
          "name": "stdout",
          "text": [
            "Tr-no_1380.jpg -> Class: notumor, Confidence: 1.00\n",
            "Moving Tr-no_1380.jpg to BT100/Training/notumor/20250328_234134_Tr-no_1380.jpg\n",
            "\u001b[1m1/1\u001b[0m \u001b[32m━━━━━━━━━━━━━━━━━━━━\u001b[0m\u001b[37m\u001b[0m \u001b[1m0s\u001b[0m 40ms/step\n"
          ]
        },
        {
          "output_type": "stream",
          "name": "stderr",
          "text": [
            "\r 62%|██████▏   | 704/1141 [01:12<00:51,  8.41it/s]"
          ]
        },
        {
          "output_type": "stream",
          "name": "stdout",
          "text": [
            "Tr-no_0258.jpg -> Class: notumor, Confidence: 1.00\n",
            "Moving Tr-no_0258.jpg to BT100/Training/notumor/20250328_234134_Tr-no_0258.jpg\n",
            "\u001b[1m1/1\u001b[0m \u001b[32m━━━━━━━━━━━━━━━━━━━━\u001b[0m\u001b[37m\u001b[0m \u001b[1m0s\u001b[0m 36ms/step\n",
            "Tr-pi_1429.jpg -> Class: pituitary, Confidence: 1.00\n",
            "Moving Tr-pi_1429.jpg to BT100/Training/pituitary/20250328_234134_Tr-pi_1429.jpg\n",
            "\u001b[1m1/1\u001b[0m \u001b[32m━━━━━━━━━━━━━━━━━━━━\u001b[0m\u001b[37m\u001b[0m \u001b[1m0s\u001b[0m 37ms/step\n"
          ]
        },
        {
          "output_type": "stream",
          "name": "stderr",
          "text": [
            "\r 62%|██████▏   | 706/1141 [01:12<00:47,  9.10it/s]"
          ]
        },
        {
          "output_type": "stream",
          "name": "stdout",
          "text": [
            "Tr-gl_1078.jpg -> Class: glioma, Confidence: 1.00\n",
            "Moving Tr-gl_1078.jpg to BT100/Training/glioma/20250328_234134_Tr-gl_1078.jpg\n",
            "\u001b[1m1/1\u001b[0m \u001b[32m━━━━━━━━━━━━━━━━━━━━\u001b[0m\u001b[37m\u001b[0m \u001b[1m0s\u001b[0m 40ms/step\n"
          ]
        },
        {
          "output_type": "stream",
          "name": "stderr",
          "text": [
            "\r 62%|██████▏   | 707/1141 [01:12<00:48,  8.90it/s]"
          ]
        },
        {
          "output_type": "stream",
          "name": "stdout",
          "text": [
            "Tr-gl_0997.jpg -> Class: glioma, Confidence: 1.00\n",
            "Moving Tr-gl_0997.jpg to BT100/Training/glioma/20250328_234134_Tr-gl_0997.jpg\n",
            "\u001b[1m1/1\u001b[0m \u001b[32m━━━━━━━━━━━━━━━━━━━━\u001b[0m\u001b[37m\u001b[0m \u001b[1m0s\u001b[0m 43ms/step\n"
          ]
        },
        {
          "output_type": "stream",
          "name": "stderr",
          "text": [
            "\r 62%|██████▏   | 708/1141 [01:13<00:49,  8.74it/s]"
          ]
        },
        {
          "output_type": "stream",
          "name": "stdout",
          "text": [
            "Tr-me_0337.jpg -> Class: meningioma, Confidence: 1.00\n",
            "Moving Tr-me_0337.jpg to BT100/Training/meningioma/20250328_234134_Tr-me_0337.jpg\n",
            "\u001b[1m1/1\u001b[0m \u001b[32m━━━━━━━━━━━━━━━━━━━━\u001b[0m\u001b[37m\u001b[0m \u001b[1m0s\u001b[0m 33ms/step\n"
          ]
        },
        {
          "output_type": "stream",
          "name": "stderr",
          "text": [
            "\r 62%|██████▏   | 709/1141 [01:13<00:50,  8.63it/s]"
          ]
        },
        {
          "output_type": "stream",
          "name": "stdout",
          "text": [
            "Tr-gl_0976.jpg -> Class: glioma, Confidence: 0.94\n",
            "Moved low-confidence image Tr-gl_0976.jpg to BT100/low_confidence\n",
            "\u001b[1m1/1\u001b[0m \u001b[32m━━━━━━━━━━━━━━━━━━━━\u001b[0m\u001b[37m\u001b[0m \u001b[1m0s\u001b[0m 36ms/step\n"
          ]
        },
        {
          "output_type": "stream",
          "name": "stderr",
          "text": [
            "\r 62%|██████▏   | 710/1141 [01:13<00:51,  8.44it/s]"
          ]
        },
        {
          "output_type": "stream",
          "name": "stdout",
          "text": [
            "Tr-me_0287.jpg -> Class: meningioma, Confidence: 1.00\n",
            "Moving Tr-me_0287.jpg to BT100/Training/meningioma/20250328_234135_Tr-me_0287.jpg\n",
            "\u001b[1m1/1\u001b[0m \u001b[32m━━━━━━━━━━━━━━━━━━━━\u001b[0m\u001b[37m\u001b[0m \u001b[1m0s\u001b[0m 44ms/step\n"
          ]
        },
        {
          "output_type": "stream",
          "name": "stderr",
          "text": [
            "\r 62%|██████▏   | 711/1141 [01:13<00:52,  8.21it/s]"
          ]
        },
        {
          "output_type": "stream",
          "name": "stdout",
          "text": [
            "Tr-no_0395.jpg -> Class: notumor, Confidence: 1.00\n",
            "Moving Tr-no_0395.jpg to BT100/Training/notumor/20250328_234135_Tr-no_0395.jpg\n",
            "\u001b[1m1/1\u001b[0m \u001b[32m━━━━━━━━━━━━━━━━━━━━\u001b[0m\u001b[37m\u001b[0m \u001b[1m0s\u001b[0m 36ms/step\n"
          ]
        },
        {
          "output_type": "stream",
          "name": "stderr",
          "text": [
            "\r 62%|██████▏   | 712/1141 [01:13<00:51,  8.27it/s]"
          ]
        },
        {
          "output_type": "stream",
          "name": "stdout",
          "text": [
            "Tr-no_0122.jpg -> Class: notumor, Confidence: 1.00\n",
            "Moving Tr-no_0122.jpg to BT100/Training/notumor/20250328_234135_Tr-no_0122.jpg\n",
            "\u001b[1m1/1\u001b[0m \u001b[32m━━━━━━━━━━━━━━━━━━━━\u001b[0m\u001b[37m\u001b[0m \u001b[1m0s\u001b[0m 35ms/step\n",
            "Tr-me_1228.jpg -> Class: meningioma, Confidence: 1.00\n",
            "Moving Tr-me_1228.jpg to BT100/Training/meningioma/20250328_234135_Tr-me_1228.jpg\n",
            "\u001b[1m1/1\u001b[0m \u001b[32m━━━━━━━━━━━━━━━━━━━━\u001b[0m\u001b[37m\u001b[0m \u001b[1m0s\u001b[0m 38ms/step\n"
          ]
        },
        {
          "output_type": "stream",
          "name": "stderr",
          "text": [
            "\r 63%|██████▎   | 714/1141 [01:13<00:48,  8.87it/s]"
          ]
        },
        {
          "output_type": "stream",
          "name": "stdout",
          "text": [
            "Tr-no_0220.jpg -> Class: notumor, Confidence: 1.00\n",
            "Moving Tr-no_0220.jpg to BT100/Training/notumor/20250328_234135_Tr-no_0220.jpg\n",
            "\u001b[1m1/1\u001b[0m \u001b[32m━━━━━━━━━━━━━━━━━━━━\u001b[0m\u001b[37m\u001b[0m \u001b[1m0s\u001b[0m 35ms/step\n",
            "Tr-pi_1242.jpg -> Class: pituitary, Confidence: 1.00\n",
            "Moving Tr-pi_1242.jpg to BT100/Training/pituitary/20250328_234135_Tr-pi_1242.jpg\n",
            "\u001b[1m1/1\u001b[0m \u001b[32m━━━━━━━━━━━━━━━━━━━━\u001b[0m\u001b[37m\u001b[0m \u001b[1m0s\u001b[0m 37ms/step\n"
          ]
        },
        {
          "output_type": "stream",
          "name": "stderr",
          "text": [
            "\r 63%|██████▎   | 716/1141 [01:13<00:45,  9.29it/s]"
          ]
        },
        {
          "output_type": "stream",
          "name": "stdout",
          "text": [
            "Tr-me_0159.jpg -> Class: meningioma, Confidence: 1.00\n",
            "Moving Tr-me_0159.jpg to BT100/Training/meningioma/20250328_234135_Tr-me_0159.jpg\n",
            "\u001b[1m1/1\u001b[0m \u001b[32m━━━━━━━━━━━━━━━━━━━━\u001b[0m\u001b[37m\u001b[0m \u001b[1m0s\u001b[0m 37ms/step\n"
          ]
        },
        {
          "output_type": "stream",
          "name": "stderr",
          "text": [
            "\r 63%|██████▎   | 717/1141 [01:14<00:46,  9.04it/s]"
          ]
        },
        {
          "output_type": "stream",
          "name": "stdout",
          "text": [
            "Tr-me_1190.jpg -> Class: meningioma, Confidence: 1.00\n",
            "Moving Tr-me_1190.jpg to BT100/Training/meningioma/20250328_234136_Tr-me_1190.jpg\n",
            "\u001b[1m1/1\u001b[0m \u001b[32m━━━━━━━━━━━━━━━━━━━━\u001b[0m\u001b[37m\u001b[0m \u001b[1m0s\u001b[0m 34ms/step\n",
            "Tr-no_0461.jpg -> Class: notumor, Confidence: 1.00\n",
            "Moving Tr-no_0461.jpg to BT100/Training/notumor/20250328_234136_Tr-no_0461.jpg\n",
            "\u001b[1m1/1\u001b[0m \u001b[32m━━━━━━━━━━━━━━━━━━━━\u001b[0m\u001b[37m\u001b[0m \u001b[1m0s\u001b[0m 35ms/step\n"
          ]
        },
        {
          "output_type": "stream",
          "name": "stderr",
          "text": [
            "\r 63%|██████▎   | 719/1141 [01:14<00:44,  9.41it/s]"
          ]
        },
        {
          "output_type": "stream",
          "name": "stdout",
          "text": [
            "Tr-no_0606.jpg -> Class: notumor, Confidence: 1.00\n",
            "Moving Tr-no_0606.jpg to BT100/Training/notumor/20250328_234136_Tr-no_0606.jpg\n",
            "\u001b[1m1/1\u001b[0m \u001b[32m━━━━━━━━━━━━━━━━━━━━\u001b[0m\u001b[37m\u001b[0m \u001b[1m0s\u001b[0m 50ms/step\n"
          ]
        },
        {
          "output_type": "stream",
          "name": "stderr",
          "text": [
            "\r 63%|██████▎   | 720/1141 [01:14<00:46,  9.02it/s]"
          ]
        },
        {
          "output_type": "stream",
          "name": "stdout",
          "text": [
            "Tr-me_0679.jpg -> Class: meningioma, Confidence: 1.00\n",
            "Moving Tr-me_0679.jpg to BT100/Training/meningioma/20250328_234136_Tr-me_0679.jpg\n",
            "\u001b[1m1/1\u001b[0m \u001b[32m━━━━━━━━━━━━━━━━━━━━\u001b[0m\u001b[37m\u001b[0m \u001b[1m0s\u001b[0m 35ms/step\n"
          ]
        },
        {
          "output_type": "stream",
          "name": "stderr",
          "text": [
            "\r 63%|██████▎   | 721/1141 [01:14<00:48,  8.73it/s]"
          ]
        },
        {
          "output_type": "stream",
          "name": "stdout",
          "text": [
            "Tr-pi_0901.jpg -> Class: pituitary, Confidence: 1.00\n",
            "Moving Tr-pi_0901.jpg to BT100/Training/pituitary/20250328_234136_Tr-pi_0901.jpg\n",
            "\u001b[1m1/1\u001b[0m \u001b[32m━━━━━━━━━━━━━━━━━━━━\u001b[0m\u001b[37m\u001b[0m \u001b[1m0s\u001b[0m 35ms/step\n"
          ]
        },
        {
          "output_type": "stream",
          "name": "stderr",
          "text": [
            "\r 63%|██████▎   | 722/1141 [01:14<00:49,  8.47it/s]"
          ]
        },
        {
          "output_type": "stream",
          "name": "stdout",
          "text": [
            "Tr-me_0772.jpg -> Class: meningioma, Confidence: 1.00\n",
            "Moving Tr-me_0772.jpg to BT100/Training/meningioma/20250328_234136_Tr-me_0772.jpg\n",
            "\u001b[1m1/1\u001b[0m \u001b[32m━━━━━━━━━━━━━━━━━━━━\u001b[0m\u001b[37m\u001b[0m \u001b[1m0s\u001b[0m 41ms/step\n"
          ]
        },
        {
          "output_type": "stream",
          "name": "stderr",
          "text": [
            "\r 63%|██████▎   | 723/1141 [01:14<00:50,  8.32it/s]"
          ]
        },
        {
          "output_type": "stream",
          "name": "stdout",
          "text": [
            "Tr-gl_0945.jpg -> Class: glioma, Confidence: 1.00\n",
            "Moving Tr-gl_0945.jpg to BT100/Training/glioma/20250328_234136_Tr-gl_0945.jpg\n",
            "\u001b[1m1/1\u001b[0m \u001b[32m━━━━━━━━━━━━━━━━━━━━\u001b[0m\u001b[37m\u001b[0m \u001b[1m0s\u001b[0m 34ms/step\n"
          ]
        },
        {
          "output_type": "stream",
          "name": "stderr",
          "text": [
            "\r 63%|██████▎   | 724/1141 [01:14<00:50,  8.30it/s]"
          ]
        },
        {
          "output_type": "stream",
          "name": "stdout",
          "text": [
            "Tr-no_0888.jpg -> Class: notumor, Confidence: 1.00\n",
            "Moving Tr-no_0888.jpg to BT100/Training/notumor/20250328_234136_Tr-no_0888.jpg\n",
            "\u001b[1m1/1\u001b[0m \u001b[32m━━━━━━━━━━━━━━━━━━━━\u001b[0m\u001b[37m\u001b[0m \u001b[1m0s\u001b[0m 35ms/step\n"
          ]
        },
        {
          "output_type": "stream",
          "name": "stderr",
          "text": [
            "\r 64%|██████▎   | 725/1141 [01:15<00:49,  8.33it/s]"
          ]
        },
        {
          "output_type": "stream",
          "name": "stdout",
          "text": [
            "Tr-me_0775.jpg -> Class: meningioma, Confidence: 1.00\n",
            "Moving Tr-me_0775.jpg to BT100/Training/meningioma/20250328_234136_Tr-me_0775.jpg\n",
            "\u001b[1m1/1\u001b[0m \u001b[32m━━━━━━━━━━━━━━━━━━━━\u001b[0m\u001b[37m\u001b[0m \u001b[1m0s\u001b[0m 35ms/step\n"
          ]
        },
        {
          "output_type": "stream",
          "name": "stderr",
          "text": [
            "\r 64%|██████▎   | 726/1141 [01:15<00:49,  8.31it/s]"
          ]
        },
        {
          "output_type": "stream",
          "name": "stdout",
          "text": [
            "Tr-gl_0010.jpg -> Class: glioma, Confidence: 1.00\n",
            "Moving Tr-gl_0010.jpg to BT100/Training/glioma/20250328_234137_Tr-gl_0010.jpg\n",
            "\u001b[1m1/1\u001b[0m \u001b[32m━━━━━━━━━━━━━━━━━━━━\u001b[0m\u001b[37m\u001b[0m \u001b[1m0s\u001b[0m 33ms/step\n"
          ]
        },
        {
          "output_type": "stream",
          "name": "stderr",
          "text": [
            "\r 64%|██████▎   | 727/1141 [01:15<00:49,  8.39it/s]"
          ]
        },
        {
          "output_type": "stream",
          "name": "stdout",
          "text": [
            "Tr-pi_0557.jpg -> Class: pituitary, Confidence: 1.00\n",
            "Moving Tr-pi_0557.jpg to BT100/Training/pituitary/20250328_234137_Tr-pi_0557.jpg\n",
            "\u001b[1m1/1\u001b[0m \u001b[32m━━━━━━━━━━━━━━━━━━━━\u001b[0m\u001b[37m\u001b[0m \u001b[1m0s\u001b[0m 40ms/step\n",
            "Tr-no_0200.jpg -> Class: notumor, Confidence: 1.00\n",
            "Moving Tr-no_0200.jpg to BT100/Training/notumor/20250328_234137_Tr-no_0200.jpg\n",
            "\u001b[1m1/1\u001b[0m \u001b[32m━━━━━━━━━━━━━━━━━━━━\u001b[0m\u001b[37m\u001b[0m \u001b[1m0s\u001b[0m 35ms/step\n"
          ]
        },
        {
          "output_type": "stream",
          "name": "stderr",
          "text": [
            "\r 64%|██████▍   | 729/1141 [01:15<00:45,  9.02it/s]"
          ]
        },
        {
          "output_type": "stream",
          "name": "stdout",
          "text": [
            "Tr-no_0741.jpg -> Class: notumor, Confidence: 1.00\n",
            "Moving Tr-no_0741.jpg to BT100/Training/notumor/20250328_234137_Tr-no_0741.jpg\n",
            "\u001b[1m1/1\u001b[0m \u001b[32m━━━━━━━━━━━━━━━━━━━━\u001b[0m\u001b[37m\u001b[0m \u001b[1m0s\u001b[0m 33ms/step\n",
            "Tr-no_0765.jpg -> Class: notumor, Confidence: 1.00\n",
            "Moving Tr-no_0765.jpg to BT100/Training/notumor/20250328_234137_Tr-no_0765.jpg\n",
            "\u001b[1m1/1\u001b[0m \u001b[32m━━━━━━━━━━━━━━━━━━━━\u001b[0m\u001b[37m\u001b[0m \u001b[1m0s\u001b[0m 35ms/step\n"
          ]
        },
        {
          "output_type": "stream",
          "name": "stderr",
          "text": [
            "\r 64%|██████▍   | 731/1141 [01:15<00:39, 10.25it/s]"
          ]
        },
        {
          "output_type": "stream",
          "name": "stdout",
          "text": [
            "Tr-pi_0402.jpg -> Class: pituitary, Confidence: 1.00\n",
            "Moving Tr-pi_0402.jpg to BT100/Training/pituitary/20250328_234137_Tr-pi_0402.jpg\n",
            "\u001b[1m1/1\u001b[0m \u001b[32m━━━━━━━━━━━━━━━━━━━━\u001b[0m\u001b[37m\u001b[0m \u001b[1m0s\u001b[0m 33ms/step\n",
            "Tr-me_0551.jpg -> Class: pituitary, Confidence: 1.00\n",
            "Moving Tr-me_0551.jpg to BT100/Training/pituitary/20250328_234137_Tr-me_0551.jpg\n",
            "\u001b[1m1/1\u001b[0m \u001b[32m━━━━━━━━━━━━━━━━━━━━\u001b[0m\u001b[37m\u001b[0m \u001b[1m0s\u001b[0m 38ms/step\n"
          ]
        },
        {
          "output_type": "stream",
          "name": "stderr",
          "text": [
            "\r 64%|██████▍   | 733/1141 [01:15<00:40, 10.20it/s]"
          ]
        },
        {
          "output_type": "stream",
          "name": "stdout",
          "text": [
            "Tr-me_1134.jpg -> Class: meningioma, Confidence: 1.00\n",
            "Moving Tr-me_1134.jpg to BT100/Training/meningioma/20250328_234137_Tr-me_1134.jpg\n",
            "\u001b[1m1/1\u001b[0m \u001b[32m━━━━━━━━━━━━━━━━━━━━\u001b[0m\u001b[37m\u001b[0m \u001b[1m0s\u001b[0m 40ms/step\n",
            "Tr-no_0154.jpg -> Class: notumor, Confidence: 1.00\n",
            "Moving Tr-no_0154.jpg to BT100/Training/notumor/20250328_234137_Tr-no_0154.jpg\n",
            "\u001b[1m1/1\u001b[0m \u001b[32m━━━━━━━━━━━━━━━━━━━━\u001b[0m\u001b[37m\u001b[0m \u001b[1m0s\u001b[0m 38ms/step\n"
          ]
        },
        {
          "output_type": "stream",
          "name": "stderr",
          "text": [
            "\r 64%|██████▍   | 735/1141 [01:16<00:40,  9.95it/s]"
          ]
        },
        {
          "output_type": "stream",
          "name": "stdout",
          "text": [
            "Tr-no_0817.jpg -> Class: notumor, Confidence: 1.00\n",
            "Moving Tr-no_0817.jpg to BT100/Training/notumor/20250328_234137_Tr-no_0817.jpg\n",
            "\u001b[1m1/1\u001b[0m \u001b[32m━━━━━━━━━━━━━━━━━━━━\u001b[0m\u001b[37m\u001b[0m \u001b[1m0s\u001b[0m 34ms/step\n"
          ]
        },
        {
          "output_type": "stream",
          "name": "stderr",
          "text": [
            "\r 65%|██████▍   | 736/1141 [01:16<00:41,  9.65it/s]"
          ]
        },
        {
          "output_type": "stream",
          "name": "stdout",
          "text": [
            "Tr-me_1310.jpg -> Class: meningioma, Confidence: 1.00\n",
            "Moving Tr-me_1310.jpg to BT100/Training/meningioma/20250328_234138_Tr-me_1310.jpg\n",
            "\u001b[1m1/1\u001b[0m \u001b[32m━━━━━━━━━━━━━━━━━━━━\u001b[0m\u001b[37m\u001b[0m \u001b[1m0s\u001b[0m 38ms/step\n"
          ]
        },
        {
          "output_type": "stream",
          "name": "stderr",
          "text": [
            "\r 65%|██████▍   | 737/1141 [01:16<00:43,  9.29it/s]"
          ]
        },
        {
          "output_type": "stream",
          "name": "stdout",
          "text": [
            "Tr-piTr_0005.jpg -> Class: pituitary, Confidence: 1.00\n",
            "Moving Tr-piTr_0005.jpg to BT100/Training/pituitary/20250328_234138_Tr-piTr_0005.jpg\n",
            "\u001b[1m1/1\u001b[0m \u001b[32m━━━━━━━━━━━━━━━━━━━━\u001b[0m\u001b[37m\u001b[0m \u001b[1m0s\u001b[0m 41ms/step\n"
          ]
        },
        {
          "output_type": "stream",
          "name": "stderr",
          "text": [
            "\r 65%|██████▍   | 738/1141 [01:16<00:45,  8.93it/s]"
          ]
        },
        {
          "output_type": "stream",
          "name": "stdout",
          "text": [
            "Tr-pi_0097.jpg -> Class: pituitary, Confidence: 1.00\n",
            "Moving Tr-pi_0097.jpg to BT100/Training/pituitary/20250328_234138_Tr-pi_0097.jpg\n",
            "\u001b[1m1/1\u001b[0m \u001b[32m━━━━━━━━━━━━━━━━━━━━\u001b[0m\u001b[37m\u001b[0m \u001b[1m0s\u001b[0m 38ms/step\n"
          ]
        },
        {
          "output_type": "stream",
          "name": "stderr",
          "text": [
            "\r 65%|██████▍   | 739/1141 [01:16<00:46,  8.71it/s]"
          ]
        },
        {
          "output_type": "stream",
          "name": "stdout",
          "text": [
            "Tr-gl_0466.jpg -> Class: glioma, Confidence: 1.00\n",
            "Moving Tr-gl_0466.jpg to BT100/Training/glioma/20250328_234138_Tr-gl_0466.jpg\n",
            "\u001b[1m1/1\u001b[0m \u001b[32m━━━━━━━━━━━━━━━━━━━━\u001b[0m\u001b[37m\u001b[0m \u001b[1m0s\u001b[0m 37ms/step\n"
          ]
        },
        {
          "output_type": "stream",
          "name": "stderr",
          "text": [
            "\r 65%|██████▍   | 740/1141 [01:16<00:46,  8.59it/s]"
          ]
        },
        {
          "output_type": "stream",
          "name": "stdout",
          "text": [
            "Tr-pi_1095.jpg -> Class: pituitary, Confidence: 1.00\n",
            "Moving Tr-pi_1095.jpg to BT100/Training/pituitary/20250328_234138_Tr-pi_1095.jpg\n",
            "\u001b[1m1/1\u001b[0m \u001b[32m━━━━━━━━━━━━━━━━━━━━\u001b[0m\u001b[37m\u001b[0m \u001b[1m0s\u001b[0m 37ms/step\n",
            "Tr-me_0810.jpg -> Class: meningioma, Confidence: 1.00\n",
            "Moving Tr-me_0810.jpg to BT100/Training/meningioma/20250328_234138_Tr-me_0810.jpg\n",
            "\u001b[1m1/1\u001b[0m \u001b[32m━━━━━━━━━━━━━━━━━━━━\u001b[0m\u001b[37m\u001b[0m \u001b[1m0s\u001b[0m 37ms/step\n"
          ]
        },
        {
          "output_type": "stream",
          "name": "stderr",
          "text": [
            "\r 65%|██████▌   | 742/1141 [01:16<00:44,  8.99it/s]"
          ]
        },
        {
          "output_type": "stream",
          "name": "stdout",
          "text": [
            "Tr-me_1236.jpg -> Class: meningioma, Confidence: 1.00\n",
            "Moving Tr-me_1236.jpg to BT100/Training/meningioma/20250328_234138_Tr-me_1236.jpg\n",
            "\u001b[1m1/1\u001b[0m \u001b[32m━━━━━━━━━━━━━━━━━━━━\u001b[0m\u001b[37m\u001b[0m \u001b[1m0s\u001b[0m 40ms/step\n"
          ]
        },
        {
          "output_type": "stream",
          "name": "stderr",
          "text": [
            "\r 65%|██████▌   | 743/1141 [01:17<00:45,  8.82it/s]"
          ]
        },
        {
          "output_type": "stream",
          "name": "stdout",
          "text": [
            "Tr-no_0766.jpg -> Class: notumor, Confidence: 1.00\n",
            "Moving Tr-no_0766.jpg to BT100/Training/notumor/20250328_234138_Tr-no_0766.jpg\n",
            "\u001b[1m1/1\u001b[0m \u001b[32m━━━━━━━━━━━━━━━━━━━━\u001b[0m\u001b[37m\u001b[0m \u001b[1m0s\u001b[0m 39ms/step\n"
          ]
        },
        {
          "output_type": "stream",
          "name": "stderr",
          "text": [
            "\r 65%|██████▌   | 744/1141 [01:17<00:45,  8.66it/s]"
          ]
        },
        {
          "output_type": "stream",
          "name": "stdout",
          "text": [
            "Tr-gl_1167.jpg -> Class: meningioma, Confidence: 1.00\n",
            "Moving Tr-gl_1167.jpg to BT100/Training/meningioma/20250328_234139_Tr-gl_1167.jpg\n",
            "\u001b[1m1/1\u001b[0m \u001b[32m━━━━━━━━━━━━━━━━━━━━\u001b[0m\u001b[37m\u001b[0m \u001b[1m0s\u001b[0m 37ms/step\n"
          ]
        },
        {
          "output_type": "stream",
          "name": "stderr",
          "text": [
            "\r 65%|██████▌   | 745/1141 [01:17<00:47,  8.38it/s]"
          ]
        },
        {
          "output_type": "stream",
          "name": "stdout",
          "text": [
            "Tr-pi_0346.jpg -> Class: pituitary, Confidence: 1.00\n",
            "Moving Tr-pi_0346.jpg to BT100/Training/pituitary/20250328_234139_Tr-pi_0346.jpg\n",
            "\u001b[1m1/1\u001b[0m \u001b[32m━━━━━━━━━━━━━━━━━━━━\u001b[0m\u001b[37m\u001b[0m \u001b[1m0s\u001b[0m 42ms/step\n"
          ]
        },
        {
          "output_type": "stream",
          "name": "stderr",
          "text": [
            "\r 65%|██████▌   | 746/1141 [01:17<00:48,  8.14it/s]"
          ]
        },
        {
          "output_type": "stream",
          "name": "stdout",
          "text": [
            "Tr-gl_0514.jpg -> Class: glioma, Confidence: 1.00\n",
            "Moving Tr-gl_0514.jpg to BT100/Training/glioma/20250328_234139_Tr-gl_0514.jpg\n",
            "\u001b[1m1/1\u001b[0m \u001b[32m━━━━━━━━━━━━━━━━━━━━\u001b[0m\u001b[37m\u001b[0m \u001b[1m0s\u001b[0m 38ms/step\n"
          ]
        },
        {
          "output_type": "stream",
          "name": "stderr",
          "text": [
            "\r 65%|██████▌   | 747/1141 [01:17<00:48,  8.12it/s]"
          ]
        },
        {
          "output_type": "stream",
          "name": "stdout",
          "text": [
            "Tr-me_0514.jpg -> Class: meningioma, Confidence: 1.00\n",
            "Moving Tr-me_0514.jpg to BT100/Training/meningioma/20250328_234139_Tr-me_0514.jpg\n",
            "\u001b[1m1/1\u001b[0m \u001b[32m━━━━━━━━━━━━━━━━━━━━\u001b[0m\u001b[37m\u001b[0m \u001b[1m0s\u001b[0m 39ms/step\n"
          ]
        },
        {
          "output_type": "stream",
          "name": "stderr",
          "text": [
            "\r 66%|██████▌   | 748/1141 [01:17<00:49,  7.98it/s]"
          ]
        },
        {
          "output_type": "stream",
          "name": "stdout",
          "text": [
            "Tr-pi_1232.jpg -> Class: pituitary, Confidence: 1.00\n",
            "Moving Tr-pi_1232.jpg to BT100/Training/pituitary/20250328_234139_Tr-pi_1232.jpg\n",
            "\u001b[1m1/1\u001b[0m \u001b[32m━━━━━━━━━━━━━━━━━━━━\u001b[0m\u001b[37m\u001b[0m \u001b[1m0s\u001b[0m 33ms/step\n"
          ]
        },
        {
          "output_type": "stream",
          "name": "stderr",
          "text": [
            "\r 66%|██████▌   | 749/1141 [01:17<00:48,  8.11it/s]"
          ]
        },
        {
          "output_type": "stream",
          "name": "stdout",
          "text": [
            "Tr-gl_0309.jpg -> Class: glioma, Confidence: 1.00\n",
            "Moving Tr-gl_0309.jpg to BT100/Training/glioma/20250328_234139_Tr-gl_0309.jpg\n",
            "\u001b[1m1/1\u001b[0m \u001b[32m━━━━━━━━━━━━━━━━━━━━\u001b[0m\u001b[37m\u001b[0m \u001b[1m0s\u001b[0m 35ms/step\n",
            "Tr-gl_0690.jpg -> Class: glioma, Confidence: 1.00\n",
            "Moving Tr-gl_0690.jpg to BT100/Training/glioma/20250328_234139_Tr-gl_0690.jpg\n",
            "\u001b[1m1/1\u001b[0m \u001b[32m━━━━━━━━━━━━━━━━━━━━\u001b[0m\u001b[37m\u001b[0m \u001b[1m0s\u001b[0m 39ms/step\n"
          ]
        },
        {
          "output_type": "stream",
          "name": "stderr",
          "text": [
            "\r 66%|██████▌   | 751/1141 [01:17<00:43,  8.90it/s]"
          ]
        },
        {
          "output_type": "stream",
          "name": "stdout",
          "text": [
            "Tr-pi_0734.jpg -> Class: pituitary, Confidence: 1.00\n",
            "Moving Tr-pi_0734.jpg to BT100/Training/pituitary/20250328_234139_Tr-pi_0734.jpg\n",
            "\u001b[1m1/1\u001b[0m \u001b[32m━━━━━━━━━━━━━━━━━━━━\u001b[0m\u001b[37m\u001b[0m \u001b[1m0s\u001b[0m 37ms/step\n"
          ]
        },
        {
          "output_type": "stream",
          "name": "stderr",
          "text": [
            "\r 66%|██████▌   | 752/1141 [01:18<00:44,  8.77it/s]"
          ]
        },
        {
          "output_type": "stream",
          "name": "stdout",
          "text": [
            "Tr-gl_0422.jpg -> Class: glioma, Confidence: 1.00\n",
            "Moving Tr-gl_0422.jpg to BT100/Training/glioma/20250328_234139_Tr-gl_0422.jpg\n",
            "\u001b[1m1/1\u001b[0m \u001b[32m━━━━━━━━━━━━━━━━━━━━\u001b[0m\u001b[37m\u001b[0m \u001b[1m0s\u001b[0m 33ms/step\n"
          ]
        },
        {
          "output_type": "stream",
          "name": "stderr",
          "text": [
            "\r 66%|██████▌   | 753/1141 [01:18<00:44,  8.64it/s]"
          ]
        },
        {
          "output_type": "stream",
          "name": "stdout",
          "text": [
            "Tr-me_0068.jpg -> Class: meningioma, Confidence: 1.00\n",
            "Moving Tr-me_0068.jpg to BT100/Training/meningioma/20250328_234140_Tr-me_0068.jpg\n",
            "\u001b[1m1/1\u001b[0m \u001b[32m━━━━━━━━━━━━━━━━━━━━\u001b[0m\u001b[37m\u001b[0m \u001b[1m0s\u001b[0m 33ms/step\n"
          ]
        },
        {
          "output_type": "stream",
          "name": "stderr",
          "text": [
            "\r 66%|██████▌   | 754/1141 [01:18<00:45,  8.58it/s]"
          ]
        },
        {
          "output_type": "stream",
          "name": "stdout",
          "text": [
            "Tr-no_0114.jpg -> Class: notumor, Confidence: 1.00\n",
            "Moving Tr-no_0114.jpg to BT100/Training/notumor/20250328_234140_Tr-no_0114.jpg\n",
            "\u001b[1m1/1\u001b[0m \u001b[32m━━━━━━━━━━━━━━━━━━━━\u001b[0m\u001b[37m\u001b[0m \u001b[1m0s\u001b[0m 39ms/step\n"
          ]
        },
        {
          "output_type": "stream",
          "name": "stderr",
          "text": [
            "\r 66%|██████▌   | 755/1141 [01:18<00:46,  8.37it/s]"
          ]
        },
        {
          "output_type": "stream",
          "name": "stdout",
          "text": [
            "Tr-pi_0926.jpg -> Class: pituitary, Confidence: 1.00\n",
            "Moving Tr-pi_0926.jpg to BT100/Training/pituitary/20250328_234140_Tr-pi_0926.jpg\n",
            "\u001b[1m1/1\u001b[0m \u001b[32m━━━━━━━━━━━━━━━━━━━━\u001b[0m\u001b[37m\u001b[0m \u001b[1m0s\u001b[0m 35ms/step\n",
            "Tr-pi_0584.jpg -> Class: pituitary, Confidence: 1.00\n",
            "Moving Tr-pi_0584.jpg to BT100/Training/pituitary/20250328_234140_Tr-pi_0584.jpg\n",
            "\u001b[1m1/1\u001b[0m \u001b[32m━━━━━━━━━━━━━━━━━━━━\u001b[0m\u001b[37m\u001b[0m \u001b[1m0s\u001b[0m 42ms/step\n"
          ]
        },
        {
          "output_type": "stream",
          "name": "stderr",
          "text": [
            "\r 66%|██████▋   | 757/1141 [01:18<00:39,  9.67it/s]"
          ]
        },
        {
          "output_type": "stream",
          "name": "stdout",
          "text": [
            "Tr-pi_0516.jpg -> Class: pituitary, Confidence: 1.00\n",
            "Moving Tr-pi_0516.jpg to BT100/Training/pituitary/20250328_234140_Tr-pi_0516.jpg\n",
            "\u001b[1m1/1\u001b[0m \u001b[32m━━━━━━━━━━━━━━━━━━━━\u001b[0m\u001b[37m\u001b[0m \u001b[1m0s\u001b[0m 37ms/step\n",
            "Tr-no_1560.jpg -> Class: notumor, Confidence: 1.00\n",
            "Moving Tr-no_1560.jpg to BT100/Training/notumor/20250328_234140_Tr-no_1560.jpg\n",
            "\u001b[1m1/1\u001b[0m \u001b[32m━━━━━━━━━━━━━━━━━━━━\u001b[0m\u001b[37m\u001b[0m \u001b[1m0s\u001b[0m 34ms/step\n",
            "Tr-no_0166.jpg -> Class: notumor, Confidence: 1.00\n",
            "Moving Tr-no_0166.jpg to BT100/Training/notumor/20250328_234140_Tr-no_0166.jpg\n"
          ]
        },
        {
          "output_type": "stream",
          "name": "stderr",
          "text": [
            "\r 67%|██████▋   | 759/1141 [01:18<00:39,  9.78it/s]"
          ]
        },
        {
          "output_type": "stream",
          "name": "stdout",
          "text": [
            "\u001b[1m1/1\u001b[0m \u001b[32m━━━━━━━━━━━━━━━━━━━━\u001b[0m\u001b[37m\u001b[0m \u001b[1m0s\u001b[0m 34ms/step\n",
            "Tr-no_0406.jpg -> Class: notumor, Confidence: 1.00\n",
            "Moving Tr-no_0406.jpg to BT100/Training/notumor/20250328_234140_Tr-no_0406.jpg\n",
            "\u001b[1m1/1\u001b[0m \u001b[32m━━━━━━━━━━━━━━━━━━━━\u001b[0m\u001b[37m\u001b[0m \u001b[1m0s\u001b[0m 34ms/step\n"
          ]
        },
        {
          "output_type": "stream",
          "name": "stderr",
          "text": [
            "\r 67%|██████▋   | 761/1141 [01:19<00:38,  9.87it/s]"
          ]
        },
        {
          "output_type": "stream",
          "name": "stdout",
          "text": [
            "Tr-me_0943.jpg -> Class: meningioma, Confidence: 1.00\n",
            "Moving Tr-me_0943.jpg to BT100/Training/meningioma/20250328_234140_Tr-me_0943.jpg\n",
            "\u001b[1m1/1\u001b[0m \u001b[32m━━━━━━━━━━━━━━━━━━━━\u001b[0m\u001b[37m\u001b[0m \u001b[1m0s\u001b[0m 36ms/step\n",
            "Tr-no_0684.jpg -> Class: notumor, Confidence: 1.00\n",
            "Moving Tr-no_0684.jpg to BT100/Training/notumor/20250328_234140_Tr-no_0684.jpg\n",
            "\u001b[1m1/1\u001b[0m \u001b[32m━━━━━━━━━━━━━━━━━━━━\u001b[0m\u001b[37m\u001b[0m \u001b[1m0s\u001b[0m 33ms/step\n"
          ]
        },
        {
          "output_type": "stream",
          "name": "stderr",
          "text": [
            "\r 67%|██████▋   | 763/1141 [01:19<00:35, 10.67it/s]"
          ]
        },
        {
          "output_type": "stream",
          "name": "stdout",
          "text": [
            "Tr-no_0537.jpg -> Class: notumor, Confidence: 1.00\n",
            "Moving Tr-no_0537.jpg to BT100/Training/notumor/20250328_234141_Tr-no_0537.jpg\n",
            "\u001b[1m1/1\u001b[0m \u001b[32m━━━━━━━━━━━━━━━━━━━━\u001b[0m\u001b[37m\u001b[0m \u001b[1m0s\u001b[0m 34ms/step\n",
            "Tr-no_1254.jpg -> Class: notumor, Confidence: 1.00\n",
            "Moving Tr-no_1254.jpg to BT100/Training/notumor/20250328_234141_Tr-no_1254.jpg\n",
            "\u001b[1m1/1\u001b[0m \u001b[32m━━━━━━━━━━━━━━━━━━━━\u001b[0m\u001b[37m\u001b[0m \u001b[1m0s\u001b[0m 38ms/step\n"
          ]
        },
        {
          "output_type": "stream",
          "name": "stderr",
          "text": [
            "\r 67%|██████▋   | 765/1141 [01:19<00:37,  9.94it/s]"
          ]
        },
        {
          "output_type": "stream",
          "name": "stdout",
          "text": [
            "Tr-me_0638.jpg -> Class: meningioma, Confidence: 1.00\n",
            "Moving Tr-me_0638.jpg to BT100/Training/meningioma/20250328_234141_Tr-me_0638.jpg\n",
            "\u001b[1m1/1\u001b[0m \u001b[32m━━━━━━━━━━━━━━━━━━━━\u001b[0m\u001b[37m\u001b[0m \u001b[1m0s\u001b[0m 34ms/step\n",
            "Tr-pi_0200.jpg -> Class: pituitary, Confidence: 1.00\n",
            "Moving Tr-pi_0200.jpg to BT100/Training/pituitary/20250328_234141_Tr-pi_0200.jpg\n",
            "\u001b[1m1/1\u001b[0m \u001b[32m━━━━━━━━━━━━━━━━━━━━\u001b[0m\u001b[37m\u001b[0m \u001b[1m0s\u001b[0m 32ms/step\n"
          ]
        },
        {
          "output_type": "stream",
          "name": "stderr",
          "text": [
            "\r 67%|██████▋   | 767/1141 [01:19<00:37,  9.89it/s]"
          ]
        },
        {
          "output_type": "stream",
          "name": "stdout",
          "text": [
            "Tr-no_1112.jpg -> Class: notumor, Confidence: 1.00\n",
            "Moving Tr-no_1112.jpg to BT100/Training/notumor/20250328_234141_Tr-no_1112.jpg\n",
            "\u001b[1m1/1\u001b[0m \u001b[32m━━━━━━━━━━━━━━━━━━━━\u001b[0m\u001b[37m\u001b[0m \u001b[1m0s\u001b[0m 39ms/step\n",
            "Tr-me_0206.jpg -> Class: meningioma, Confidence: 1.00\n",
            "Moving Tr-me_0206.jpg to BT100/Training/meningioma/20250328_234141_Tr-me_0206.jpg\n",
            "\u001b[1m1/1\u001b[0m \u001b[32m━━━━━━━━━━━━━━━━━━━━\u001b[0m\u001b[37m\u001b[0m \u001b[1m0s\u001b[0m 40ms/step\n"
          ]
        },
        {
          "output_type": "stream",
          "name": "stderr",
          "text": [
            "\r 67%|██████▋   | 769/1141 [01:19<00:36, 10.32it/s]"
          ]
        },
        {
          "output_type": "stream",
          "name": "stdout",
          "text": [
            "Tr-gl_1212.jpg -> Class: meningioma, Confidence: 1.00\n",
            "Moving Tr-gl_1212.jpg to BT100/Training/meningioma/20250328_234141_Tr-gl_1212.jpg\n",
            "\u001b[1m1/1\u001b[0m \u001b[32m━━━━━━━━━━━━━━━━━━━━\u001b[0m\u001b[37m\u001b[0m \u001b[1m0s\u001b[0m 54ms/step\n",
            "Tr-me_0601.jpg -> Class: meningioma, Confidence: 1.00\n",
            "Moving Tr-me_0601.jpg to BT100/Training/meningioma/20250328_234141_Tr-me_0601.jpg\n",
            "\u001b[1m1/1\u001b[0m \u001b[32m━━━━━━━━━━━━━━━━━━━━\u001b[0m\u001b[37m\u001b[0m \u001b[1m0s\u001b[0m 52ms/step\n"
          ]
        },
        {
          "output_type": "stream",
          "name": "stderr",
          "text": [
            "\r 68%|██████▊   | 771/1141 [01:20<00:41,  8.85it/s]"
          ]
        },
        {
          "output_type": "stream",
          "name": "stdout",
          "text": [
            "Tr-pi_0466.jpg -> Class: pituitary, Confidence: 1.00\n",
            "Moving Tr-pi_0466.jpg to BT100/Training/pituitary/20250328_234141_Tr-pi_0466.jpg\n",
            "\u001b[1m1/1\u001b[0m \u001b[32m━━━━━━━━━━━━━━━━━━━━\u001b[0m\u001b[37m\u001b[0m \u001b[1m0s\u001b[0m 62ms/step\n"
          ]
        },
        {
          "output_type": "stream",
          "name": "stderr",
          "text": [
            "\r 68%|██████▊   | 772/1141 [01:20<00:43,  8.40it/s]"
          ]
        },
        {
          "output_type": "stream",
          "name": "stdout",
          "text": [
            "Tr-pi_0371.jpg -> Class: pituitary, Confidence: 1.00\n",
            "Moving Tr-pi_0371.jpg to BT100/Training/pituitary/20250328_234142_Tr-pi_0371.jpg\n",
            "\u001b[1m1/1\u001b[0m \u001b[32m━━━━━━━━━━━━━━━━━━━━\u001b[0m\u001b[37m\u001b[0m \u001b[1m0s\u001b[0m 45ms/step\n"
          ]
        },
        {
          "output_type": "stream",
          "name": "stderr",
          "text": [
            "\r 68%|██████▊   | 773/1141 [01:20<00:43,  8.56it/s]"
          ]
        },
        {
          "output_type": "stream",
          "name": "stdout",
          "text": [
            "Tr-me_1115.jpg -> Class: meningioma, Confidence: 1.00\n",
            "Moving Tr-me_1115.jpg to BT100/Training/meningioma/20250328_234142_Tr-me_1115.jpg\n",
            "\u001b[1m1/1\u001b[0m \u001b[32m━━━━━━━━━━━━━━━━━━━━\u001b[0m\u001b[37m\u001b[0m \u001b[1m0s\u001b[0m 56ms/step\n"
          ]
        },
        {
          "output_type": "stream",
          "name": "stderr",
          "text": [
            "\r 68%|██████▊   | 774/1141 [01:20<00:46,  7.97it/s]"
          ]
        },
        {
          "output_type": "stream",
          "name": "stdout",
          "text": [
            "Tr-me_1212.jpg -> Class: meningioma, Confidence: 1.00\n",
            "Moving Tr-me_1212.jpg to BT100/Training/meningioma/20250328_234142_Tr-me_1212.jpg\n",
            "\u001b[1m1/1\u001b[0m \u001b[32m━━━━━━━━━━━━━━━━━━━━\u001b[0m\u001b[37m\u001b[0m \u001b[1m0s\u001b[0m 41ms/step\n"
          ]
        },
        {
          "output_type": "stream",
          "name": "stderr",
          "text": [
            "\r 68%|██████▊   | 775/1141 [01:20<00:46,  7.89it/s]"
          ]
        },
        {
          "output_type": "stream",
          "name": "stdout",
          "text": [
            "Tr-no_1569.jpg -> Class: notumor, Confidence: 1.00\n",
            "Moving Tr-no_1569.jpg to BT100/Training/notumor/20250328_234142_Tr-no_1569.jpg\n",
            "\u001b[1m1/1\u001b[0m \u001b[32m━━━━━━━━━━━━━━━━━━━━\u001b[0m\u001b[37m\u001b[0m \u001b[1m0s\u001b[0m 50ms/step\n",
            "Tr-me_1117.jpg -> Class: meningioma, Confidence: 1.00\n",
            "Moving Tr-me_1117.jpg to BT100/Training/meningioma/20250328_234142_Tr-me_1117.jpg\n"
          ]
        },
        {
          "output_type": "stream",
          "name": "stderr",
          "text": [
            "\r 68%|██████▊   | 776/1141 [01:20<00:47,  7.64it/s]"
          ]
        },
        {
          "output_type": "stream",
          "name": "stdout",
          "text": [
            "\u001b[1m1/1\u001b[0m \u001b[32m━━━━━━━━━━━━━━━━━━━━\u001b[0m\u001b[37m\u001b[0m \u001b[1m0s\u001b[0m 56ms/step\n"
          ]
        },
        {
          "output_type": "stream",
          "name": "stderr",
          "text": [
            "\r 68%|██████▊   | 777/1141 [01:20<00:47,  7.71it/s]"
          ]
        },
        {
          "output_type": "stream",
          "name": "stdout",
          "text": [
            "Tr-no_0618.jpg -> Class: notumor, Confidence: 1.00\n",
            "Moving Tr-no_0618.jpg to BT100/Training/notumor/20250328_234142_Tr-no_0618.jpg\n",
            "\u001b[1m1/1\u001b[0m \u001b[32m━━━━━━━━━━━━━━━━━━━━\u001b[0m\u001b[37m\u001b[0m \u001b[1m0s\u001b[0m 65ms/step\n"
          ]
        },
        {
          "output_type": "stream",
          "name": "stderr",
          "text": [
            "\r 68%|██████▊   | 778/1141 [01:21<00:47,  7.56it/s]"
          ]
        },
        {
          "output_type": "stream",
          "name": "stdout",
          "text": [
            "Tr-me_0801.jpg -> Class: meningioma, Confidence: 1.00\n",
            "Moving Tr-me_0801.jpg to BT100/Training/meningioma/20250328_234142_Tr-me_0801.jpg\n",
            "\u001b[1m1/1\u001b[0m \u001b[32m━━━━━━━━━━━━━━━━━━━━\u001b[0m\u001b[37m\u001b[0m \u001b[1m0s\u001b[0m 42ms/step\n"
          ]
        },
        {
          "output_type": "stream",
          "name": "stderr",
          "text": [
            "\r 68%|██████▊   | 779/1141 [01:21<00:45,  8.04it/s]"
          ]
        },
        {
          "output_type": "stream",
          "name": "stdout",
          "text": [
            "Tr-no_1039.jpg -> Class: notumor, Confidence: 1.00\n",
            "Moving Tr-no_1039.jpg to BT100/Training/notumor/20250328_234143_Tr-no_1039.jpg\n",
            "\u001b[1m1/1\u001b[0m \u001b[32m━━━━━━━━━━━━━━━━━━━━\u001b[0m\u001b[37m\u001b[0m \u001b[1m0s\u001b[0m 42ms/step\n"
          ]
        },
        {
          "output_type": "stream",
          "name": "stderr",
          "text": [
            "\r 68%|██████▊   | 780/1141 [01:21<00:46,  7.72it/s]"
          ]
        },
        {
          "output_type": "stream",
          "name": "stdout",
          "text": [
            "Tr-me_0684.jpg -> Class: meningioma, Confidence: 1.00\n",
            "Moving Tr-me_0684.jpg to BT100/Training/meningioma/20250328_234143_Tr-me_0684.jpg\n",
            "\u001b[1m1/1\u001b[0m \u001b[32m━━━━━━━━━━━━━━━━━━━━\u001b[0m\u001b[37m\u001b[0m \u001b[1m0s\u001b[0m 49ms/step\n"
          ]
        },
        {
          "output_type": "stream",
          "name": "stderr",
          "text": [
            "\r 68%|██████▊   | 781/1141 [01:21<00:47,  7.51it/s]"
          ]
        },
        {
          "output_type": "stream",
          "name": "stdout",
          "text": [
            "Tr-me_0135.jpg -> Class: meningioma, Confidence: 1.00\n",
            "Moving Tr-me_0135.jpg to BT100/Training/meningioma/20250328_234143_Tr-me_0135.jpg\n",
            "\u001b[1m1/1\u001b[0m \u001b[32m━━━━━━━━━━━━━━━━━━━━\u001b[0m\u001b[37m\u001b[0m \u001b[1m0s\u001b[0m 47ms/step\n"
          ]
        },
        {
          "output_type": "stream",
          "name": "stderr",
          "text": [
            "\r 69%|██████▊   | 782/1141 [01:21<00:49,  7.32it/s]"
          ]
        },
        {
          "output_type": "stream",
          "name": "stdout",
          "text": [
            "Tr-gl_1252.jpg -> Class: meningioma, Confidence: 0.88\n",
            "Moved low-confidence image Tr-gl_1252.jpg to BT100/low_confidence\n",
            "\u001b[1m1/1\u001b[0m \u001b[32m━━━━━━━━━━━━━━━━━━━━\u001b[0m\u001b[37m\u001b[0m \u001b[1m0s\u001b[0m 57ms/step\n"
          ]
        },
        {
          "output_type": "stream",
          "name": "stderr",
          "text": [
            "\r 69%|██████▊   | 783/1141 [01:21<00:47,  7.47it/s]"
          ]
        },
        {
          "output_type": "stream",
          "name": "stdout",
          "text": [
            "Tr-gl_1005.jpg -> Class: glioma, Confidence: 1.00\n",
            "Moving Tr-gl_1005.jpg to BT100/Training/glioma/20250328_234143_Tr-gl_1005.jpg\n",
            "\u001b[1m1/1\u001b[0m \u001b[32m━━━━━━━━━━━━━━━━━━━━\u001b[0m\u001b[37m\u001b[0m \u001b[1m0s\u001b[0m 46ms/step\n"
          ]
        },
        {
          "output_type": "stream",
          "name": "stderr",
          "text": [
            "\r 69%|██████▊   | 784/1141 [01:21<00:49,  7.26it/s]"
          ]
        },
        {
          "output_type": "stream",
          "name": "stdout",
          "text": [
            "Tr-pi_1326.jpg -> Class: pituitary, Confidence: 1.00\n",
            "Moving Tr-pi_1326.jpg to BT100/Training/pituitary/20250328_234143_Tr-pi_1326.jpg\n",
            "\u001b[1m1/1\u001b[0m \u001b[32m━━━━━━━━━━━━━━━━━━━━\u001b[0m\u001b[37m\u001b[0m \u001b[1m0s\u001b[0m 50ms/step\n"
          ]
        },
        {
          "output_type": "stream",
          "name": "stderr",
          "text": [
            "\r 69%|██████▉   | 785/1141 [01:21<00:46,  7.71it/s]"
          ]
        },
        {
          "output_type": "stream",
          "name": "stdout",
          "text": [
            "Tr-gl_0056.jpg -> Class: glioma, Confidence: 1.00\n",
            "Moving Tr-gl_0056.jpg to BT100/Training/glioma/20250328_234143_Tr-gl_0056.jpg\n",
            "\u001b[1m1/1\u001b[0m \u001b[32m━━━━━━━━━━━━━━━━━━━━\u001b[0m\u001b[37m\u001b[0m \u001b[1m0s\u001b[0m 62ms/step\n"
          ]
        },
        {
          "output_type": "stream",
          "name": "stderr",
          "text": [
            "\r 69%|██████▉   | 786/1141 [01:22<00:48,  7.27it/s]"
          ]
        },
        {
          "output_type": "stream",
          "name": "stdout",
          "text": [
            "Tr-me_1137.jpg -> Class: meningioma, Confidence: 1.00\n",
            "Moving Tr-me_1137.jpg to BT100/Training/meningioma/20250328_234143_Tr-me_1137.jpg\n",
            "\u001b[1m1/1\u001b[0m \u001b[32m━━━━━━━━━━━━━━━━━━━━\u001b[0m\u001b[37m\u001b[0m \u001b[1m0s\u001b[0m 53ms/step\n"
          ]
        },
        {
          "output_type": "stream",
          "name": "stderr",
          "text": [
            "\r 69%|██████▉   | 787/1141 [01:22<00:48,  7.26it/s]"
          ]
        },
        {
          "output_type": "stream",
          "name": "stdout",
          "text": [
            "Tr-no_1467.jpg -> Class: notumor, Confidence: 1.00\n",
            "Moving Tr-no_1467.jpg to BT100/Training/notumor/20250328_234144_Tr-no_1467.jpg\n",
            "\u001b[1m1/1\u001b[0m \u001b[32m━━━━━━━━━━━━━━━━━━━━\u001b[0m\u001b[37m\u001b[0m \u001b[1m0s\u001b[0m 46ms/step\n"
          ]
        },
        {
          "output_type": "stream",
          "name": "stderr",
          "text": [
            "\r 69%|██████▉   | 788/1141 [01:22<00:45,  7.73it/s]"
          ]
        },
        {
          "output_type": "stream",
          "name": "stdout",
          "text": [
            "Tr-no_0280.jpg -> Class: notumor, Confidence: 1.00\n",
            "Moving Tr-no_0280.jpg to BT100/Training/notumor/20250328_234144_Tr-no_0280.jpg\n",
            "\u001b[1m1/1\u001b[0m \u001b[32m━━━━━━━━━━━━━━━━━━━━\u001b[0m\u001b[37m\u001b[0m \u001b[1m0s\u001b[0m 52ms/step\n"
          ]
        },
        {
          "output_type": "stream",
          "name": "stderr",
          "text": [
            "\r 69%|██████▉   | 789/1141 [01:22<00:48,  7.28it/s]"
          ]
        },
        {
          "output_type": "stream",
          "name": "stdout",
          "text": [
            "Tr-gl_1120.jpg -> Class: glioma, Confidence: 1.00\n",
            "Moving Tr-gl_1120.jpg to BT100/Training/glioma/20250328_234144_Tr-gl_1120.jpg\n",
            "\u001b[1m1/1\u001b[0m \u001b[32m━━━━━━━━━━━━━━━━━━━━\u001b[0m\u001b[37m\u001b[0m \u001b[1m0s\u001b[0m 33ms/step\n"
          ]
        },
        {
          "output_type": "stream",
          "name": "stderr",
          "text": [
            "\r 69%|██████▉   | 790/1141 [01:22<00:46,  7.53it/s]"
          ]
        },
        {
          "output_type": "stream",
          "name": "stdout",
          "text": [
            "Tr-no_0142.jpg -> Class: notumor, Confidence: 1.00\n",
            "Moving Tr-no_0142.jpg to BT100/Training/notumor/20250328_234144_Tr-no_0142.jpg\n",
            "\u001b[1m1/1\u001b[0m \u001b[32m━━━━━━━━━━━━━━━━━━━━\u001b[0m\u001b[37m\u001b[0m \u001b[1m0s\u001b[0m 34ms/step\n",
            "Tr-me_1080.jpg -> Class: meningioma, Confidence: 1.00\n",
            "Moving Tr-me_1080.jpg to BT100/Training/meningioma/20250328_234144_Tr-me_1080.jpg\n",
            "\u001b[1m1/1\u001b[0m \u001b[32m━━━━━━━━━━━━━━━━━━━━\u001b[0m\u001b[37m\u001b[0m \u001b[1m0s\u001b[0m 37ms/step\n"
          ]
        },
        {
          "output_type": "stream",
          "name": "stderr",
          "text": [
            "\r 69%|██████▉   | 792/1141 [01:22<00:40,  8.62it/s]"
          ]
        },
        {
          "output_type": "stream",
          "name": "stdout",
          "text": [
            "Tr-gl_1213.jpg -> Class: glioma, Confidence: 1.00\n",
            "Moving Tr-gl_1213.jpg to BT100/Training/glioma/20250328_234144_Tr-gl_1213.jpg\n",
            "\u001b[1m1/1\u001b[0m \u001b[32m━━━━━━━━━━━━━━━━━━━━\u001b[0m\u001b[37m\u001b[0m \u001b[1m0s\u001b[0m 35ms/step\n"
          ]
        },
        {
          "output_type": "stream",
          "name": "stderr",
          "text": [
            "\r 70%|██████▉   | 793/1141 [01:22<00:40,  8.51it/s]"
          ]
        },
        {
          "output_type": "stream",
          "name": "stdout",
          "text": [
            "Tr-gl_1099.jpg -> Class: glioma, Confidence: 1.00\n",
            "Moving Tr-gl_1099.jpg to BT100/Training/glioma/20250328_234144_Tr-gl_1099.jpg\n",
            "\u001b[1m1/1\u001b[0m \u001b[32m━━━━━━━━━━━━━━━━━━━━\u001b[0m\u001b[37m\u001b[0m \u001b[1m0s\u001b[0m 43ms/step\n",
            "Tr-gl_0402.jpg -> Class: glioma, Confidence: 1.00\n",
            "Moving Tr-gl_0402.jpg to BT100/Training/glioma/20250328_234144_Tr-gl_0402.jpg\n",
            "\u001b[1m1/1\u001b[0m \u001b[32m━━━━━━━━━━━━━━━━━━━━\u001b[0m\u001b[37m\u001b[0m \u001b[1m0s\u001b[0m 41ms/step\n"
          ]
        },
        {
          "output_type": "stream",
          "name": "stderr",
          "text": [
            "\r 70%|██████▉   | 795/1141 [01:23<00:38,  8.94it/s]"
          ]
        },
        {
          "output_type": "stream",
          "name": "stdout",
          "text": [
            "Tr-gl_0303.jpg -> Class: glioma, Confidence: 1.00\n",
            "Moving Tr-gl_0303.jpg to BT100/Training/glioma/20250328_234145_Tr-gl_0303.jpg\n",
            "\u001b[1m1/1\u001b[0m \u001b[32m━━━━━━━━━━━━━━━━━━━━\u001b[0m\u001b[37m\u001b[0m \u001b[1m0s\u001b[0m 35ms/step\n",
            "Tr-pi_0284.jpg -> Class: pituitary, Confidence: 1.00\n",
            "Moving Tr-pi_0284.jpg to BT100/Training/pituitary/20250328_234145_Tr-pi_0284.jpg\n",
            "\u001b[1m1/1\u001b[0m \u001b[32m━━━━━━━━━━━━━━━━━━━━\u001b[0m\u001b[37m\u001b[0m \u001b[1m0s\u001b[0m 36ms/step\n"
          ]
        },
        {
          "output_type": "stream",
          "name": "stderr",
          "text": [
            "\r 70%|██████▉   | 797/1141 [01:23<00:36,  9.37it/s]"
          ]
        },
        {
          "output_type": "stream",
          "name": "stdout",
          "text": [
            "Tr-pi_0322.jpg -> Class: pituitary, Confidence: 1.00\n",
            "Moving Tr-pi_0322.jpg to BT100/Training/pituitary/20250328_234145_Tr-pi_0322.jpg\n",
            "\u001b[1m1/1\u001b[0m \u001b[32m━━━━━━━━━━━━━━━━━━━━\u001b[0m\u001b[37m\u001b[0m \u001b[1m0s\u001b[0m 40ms/step\n"
          ]
        },
        {
          "output_type": "stream",
          "name": "stderr",
          "text": [
            "\r 70%|██████▉   | 798/1141 [01:23<00:38,  8.93it/s]"
          ]
        },
        {
          "output_type": "stream",
          "name": "stdout",
          "text": [
            "Tr-me_1199.jpg -> Class: meningioma, Confidence: 1.00\n",
            "Moving Tr-me_1199.jpg to BT100/Training/meningioma/20250328_234145_Tr-me_1199.jpg\n",
            "\u001b[1m1/1\u001b[0m \u001b[32m━━━━━━━━━━━━━━━━━━━━\u001b[0m\u001b[37m\u001b[0m \u001b[1m0s\u001b[0m 33ms/step\n",
            "Tr-me_0091.jpg -> Class: meningioma, Confidence: 1.00\n",
            "Moving Tr-me_0091.jpg to BT100/Training/meningioma/20250328_234145_Tr-me_0091.jpg\n",
            "\u001b[1m1/1\u001b[0m \u001b[32m━━━━━━━━━━━━━━━━━━━━\u001b[0m\u001b[37m\u001b[0m \u001b[1m0s\u001b[0m 35ms/step\n"
          ]
        },
        {
          "output_type": "stream",
          "name": "stderr",
          "text": [
            "\r 70%|███████   | 800/1141 [01:23<00:36,  9.46it/s]"
          ]
        },
        {
          "output_type": "stream",
          "name": "stdout",
          "text": [
            "Tr-me_0593.jpg -> Class: meningioma, Confidence: 1.00\n",
            "Moving Tr-me_0593.jpg to BT100/Training/meningioma/20250328_234145_Tr-me_0593.jpg\n",
            "\u001b[1m1/1\u001b[0m \u001b[32m━━━━━━━━━━━━━━━━━━━━\u001b[0m\u001b[37m\u001b[0m \u001b[1m0s\u001b[0m 38ms/step\n",
            "Tr-no_0248.jpg -> Class: notumor, Confidence: 1.00\n",
            "Moving Tr-no_0248.jpg to BT100/Training/notumor/20250328_234145_Tr-no_0248.jpg\n",
            "\u001b[1m1/1\u001b[0m \u001b[32m━━━━━━━━━━━━━━━━━━━━\u001b[0m\u001b[37m\u001b[0m \u001b[1m0s\u001b[0m 46ms/step\n"
          ]
        },
        {
          "output_type": "stream",
          "name": "stderr",
          "text": [
            "\r 70%|███████   | 802/1141 [01:23<00:35,  9.42it/s]"
          ]
        },
        {
          "output_type": "stream",
          "name": "stdout",
          "text": [
            "Tr-no_0433.jpg -> Class: notumor, Confidence: 1.00\n",
            "Moving Tr-no_0433.jpg to BT100/Training/notumor/20250328_234145_Tr-no_0433.jpg\n",
            "\u001b[1m1/1\u001b[0m \u001b[32m━━━━━━━━━━━━━━━━━━━━\u001b[0m\u001b[37m\u001b[0m \u001b[1m0s\u001b[0m 41ms/step\n"
          ]
        },
        {
          "output_type": "stream",
          "name": "stderr",
          "text": [
            "\r 70%|███████   | 803/1141 [01:24<00:37,  8.96it/s]"
          ]
        },
        {
          "output_type": "stream",
          "name": "stdout",
          "text": [
            "Tr-no_0916.jpg -> Class: notumor, Confidence: 1.00\n",
            "Moving Tr-no_0916.jpg to BT100/Training/notumor/20250328_234145_Tr-no_0916.jpg\n",
            "\u001b[1m1/1\u001b[0m \u001b[32m━━━━━━━━━━━━━━━━━━━━\u001b[0m\u001b[37m\u001b[0m \u001b[1m0s\u001b[0m 37ms/step\n"
          ]
        },
        {
          "output_type": "stream",
          "name": "stderr",
          "text": [
            "\r 70%|███████   | 804/1141 [01:24<00:38,  8.80it/s]"
          ]
        },
        {
          "output_type": "stream",
          "name": "stdout",
          "text": [
            "Tr-pi_0987.jpg -> Class: pituitary, Confidence: 1.00\n",
            "Moving Tr-pi_0987.jpg to BT100/Training/pituitary/20250328_234146_Tr-pi_0987.jpg\n",
            "\u001b[1m1/1\u001b[0m \u001b[32m━━━━━━━━━━━━━━━━━━━━\u001b[0m\u001b[37m\u001b[0m \u001b[1m0s\u001b[0m 34ms/step\n"
          ]
        },
        {
          "output_type": "stream",
          "name": "stderr",
          "text": [
            "\r 71%|███████   | 805/1141 [01:24<00:38,  8.67it/s]"
          ]
        },
        {
          "output_type": "stream",
          "name": "stdout",
          "text": [
            "Tr-gl_0896.jpg -> Class: glioma, Confidence: 1.00\n",
            "Moving Tr-gl_0896.jpg to BT100/Training/glioma/20250328_234146_Tr-gl_0896.jpg\n",
            "\u001b[1m1/1\u001b[0m \u001b[32m━━━━━━━━━━━━━━━━━━━━\u001b[0m\u001b[37m\u001b[0m \u001b[1m0s\u001b[0m 37ms/step\n",
            "Tr-gl_0802.jpg -> Class: glioma, Confidence: 1.00\n",
            "Moving Tr-gl_0802.jpg to BT100/Training/glioma/20250328_234146_Tr-gl_0802.jpg\n",
            "\u001b[1m1/1\u001b[0m \u001b[32m━━━━━━━━━━━━━━━━━━━━\u001b[0m\u001b[37m\u001b[0m \u001b[1m0s\u001b[0m 50ms/step\n"
          ]
        },
        {
          "output_type": "stream",
          "name": "stderr",
          "text": [
            "\r 71%|███████   | 807/1141 [01:24<00:37,  8.80it/s]"
          ]
        },
        {
          "output_type": "stream",
          "name": "stdout",
          "text": [
            "Tr-no_0400.jpg -> Class: notumor, Confidence: 1.00\n",
            "Moving Tr-no_0400.jpg to BT100/Training/notumor/20250328_234146_Tr-no_0400.jpg\n",
            "\u001b[1m1/1\u001b[0m \u001b[32m━━━━━━━━━━━━━━━━━━━━\u001b[0m\u001b[37m\u001b[0m \u001b[1m0s\u001b[0m 42ms/step\n"
          ]
        },
        {
          "output_type": "stream",
          "name": "stderr",
          "text": [
            "\r 71%|███████   | 808/1141 [01:24<00:38,  8.66it/s]"
          ]
        },
        {
          "output_type": "stream",
          "name": "stdout",
          "text": [
            "Tr-pi_0163.jpg -> Class: pituitary, Confidence: 1.00\n",
            "Moving Tr-pi_0163.jpg to BT100/Training/pituitary/20250328_234146_Tr-pi_0163.jpg\n",
            "\u001b[1m1/1\u001b[0m \u001b[32m━━━━━━━━━━━━━━━━━━━━\u001b[0m\u001b[37m\u001b[0m \u001b[1m0s\u001b[0m 33ms/step\n",
            "Tr-gl_0165.jpg -> Class: glioma, Confidence: 1.00\n",
            "Moving Tr-gl_0165.jpg to BT100/Training/glioma/20250328_234146_Tr-gl_0165.jpg\n",
            "\u001b[1m1/1\u001b[0m \u001b[32m━━━━━━━━━━━━━━━━━━━━\u001b[0m\u001b[37m\u001b[0m \u001b[1m0s\u001b[0m 34ms/step\n"
          ]
        },
        {
          "output_type": "stream",
          "name": "stderr",
          "text": [
            "\r 71%|███████   | 810/1141 [01:24<00:35,  9.24it/s]"
          ]
        },
        {
          "output_type": "stream",
          "name": "stdout",
          "text": [
            "Tr-pi_0148.jpg -> Class: pituitary, Confidence: 1.00\n",
            "Moving Tr-pi_0148.jpg to BT100/Training/pituitary/20250328_234146_Tr-pi_0148.jpg\n",
            "\u001b[1m1/1\u001b[0m \u001b[32m━━━━━━━━━━━━━━━━━━━━\u001b[0m\u001b[37m\u001b[0m \u001b[1m0s\u001b[0m 34ms/step\n"
          ]
        },
        {
          "output_type": "stream",
          "name": "stderr",
          "text": [
            "\r 71%|███████   | 811/1141 [01:24<00:37,  8.85it/s]"
          ]
        },
        {
          "output_type": "stream",
          "name": "stdout",
          "text": [
            "Tr-gl_0906.jpg -> Class: glioma, Confidence: 1.00\n",
            "Moving Tr-gl_0906.jpg to BT100/Training/glioma/20250328_234146_Tr-gl_0906.jpg\n",
            "\u001b[1m1/1\u001b[0m \u001b[32m━━━━━━━━━━━━━━━━━━━━\u001b[0m\u001b[37m\u001b[0m \u001b[1m0s\u001b[0m 41ms/step\n"
          ]
        },
        {
          "output_type": "stream",
          "name": "stderr",
          "text": [
            "\r 71%|███████   | 812/1141 [01:25<00:37,  8.68it/s]"
          ]
        },
        {
          "output_type": "stream",
          "name": "stdout",
          "text": [
            "Tr-gl_1027.jpg -> Class: glioma, Confidence: 1.00\n",
            "Moving Tr-gl_1027.jpg to BT100/Training/glioma/20250328_234146_Tr-gl_1027.jpg\n",
            "\u001b[1m1/1\u001b[0m \u001b[32m━━━━━━━━━━━━━━━━━━━━\u001b[0m\u001b[37m\u001b[0m \u001b[1m0s\u001b[0m 37ms/step\n"
          ]
        },
        {
          "output_type": "stream",
          "name": "stderr",
          "text": [
            "\r 71%|███████▏  | 813/1141 [01:25<00:38,  8.57it/s]"
          ]
        },
        {
          "output_type": "stream",
          "name": "stdout",
          "text": [
            "Tr-gl_0261.jpg -> Class: glioma, Confidence: 1.00\n",
            "Moving Tr-gl_0261.jpg to BT100/Training/glioma/20250328_234147_Tr-gl_0261.jpg\n",
            "\u001b[1m1/1\u001b[0m \u001b[32m━━━━━━━━━━━━━━━━━━━━\u001b[0m\u001b[37m\u001b[0m \u001b[1m0s\u001b[0m 33ms/step\n",
            "Tr-gl_0767.jpg -> Class: glioma, Confidence: 1.00\n",
            "Moving Tr-gl_0767.jpg to BT100/Training/glioma/20250328_234147_Tr-gl_0767.jpg\n",
            "\u001b[1m1/1\u001b[0m \u001b[32m━━━━━━━━━━━━━━━━━━━━\u001b[0m\u001b[37m\u001b[0m \u001b[1m0s\u001b[0m 35ms/step\n"
          ]
        },
        {
          "output_type": "stream",
          "name": "stderr",
          "text": [
            "\r 71%|███████▏  | 815/1141 [01:25<00:35,  9.19it/s]"
          ]
        },
        {
          "output_type": "stream",
          "name": "stdout",
          "text": [
            "Tr-me_0040.jpg -> Class: meningioma, Confidence: 1.00\n",
            "Moving Tr-me_0040.jpg to BT100/Training/meningioma/20250328_234147_Tr-me_0040.jpg\n",
            "\u001b[1m1/1\u001b[0m \u001b[32m━━━━━━━━━━━━━━━━━━━━\u001b[0m\u001b[37m\u001b[0m \u001b[1m0s\u001b[0m 35ms/step\n"
          ]
        },
        {
          "output_type": "stream",
          "name": "stderr",
          "text": [
            "\r 72%|███████▏  | 816/1141 [01:25<00:36,  8.93it/s]"
          ]
        },
        {
          "output_type": "stream",
          "name": "stdout",
          "text": [
            "Tr-gl_0339.jpg -> Class: glioma, Confidence: 1.00\n",
            "Moving Tr-gl_0339.jpg to BT100/Training/glioma/20250328_234147_Tr-gl_0339.jpg\n",
            "\u001b[1m1/1\u001b[0m \u001b[32m━━━━━━━━━━━━━━━━━━━━\u001b[0m\u001b[37m\u001b[0m \u001b[1m0s\u001b[0m 39ms/step\n"
          ]
        },
        {
          "output_type": "stream",
          "name": "stderr",
          "text": [
            "\r 72%|███████▏  | 817/1141 [01:25<00:36,  8.85it/s]"
          ]
        },
        {
          "output_type": "stream",
          "name": "stdout",
          "text": [
            "Tr-no_0586.jpg -> Class: notumor, Confidence: 1.00\n",
            "Moving Tr-no_0586.jpg to BT100/Training/notumor/20250328_234147_Tr-no_0586.jpg\n",
            "\u001b[1m1/1\u001b[0m \u001b[32m━━━━━━━━━━━━━━━━━━━━\u001b[0m\u001b[37m\u001b[0m \u001b[1m0s\u001b[0m 37ms/step\n"
          ]
        },
        {
          "output_type": "stream",
          "name": "stderr",
          "text": [
            "\r 72%|███████▏  | 818/1141 [01:25<00:37,  8.60it/s]"
          ]
        },
        {
          "output_type": "stream",
          "name": "stdout",
          "text": [
            "Tr-pi_0686.jpg -> Class: pituitary, Confidence: 1.00\n",
            "Moving Tr-pi_0686.jpg to BT100/Training/pituitary/20250328_234147_Tr-pi_0686.jpg\n",
            "\u001b[1m1/1\u001b[0m \u001b[32m━━━━━━━━━━━━━━━━━━━━\u001b[0m\u001b[37m\u001b[0m \u001b[1m0s\u001b[0m 35ms/step\n",
            "Tr-pi_0583.jpg -> Class: pituitary, Confidence: 1.00\n",
            "Moving Tr-pi_0583.jpg to BT100/Training/pituitary/20250328_234147_Tr-pi_0583.jpg\n",
            "\u001b[1m1/1\u001b[0m \u001b[32m━━━━━━━━━━━━━━━━━━━━\u001b[0m\u001b[37m\u001b[0m \u001b[1m0s\u001b[0m 49ms/step\n"
          ]
        },
        {
          "output_type": "stream",
          "name": "stderr",
          "text": [
            "\r 72%|███████▏  | 820/1141 [01:25<00:35,  8.94it/s]"
          ]
        },
        {
          "output_type": "stream",
          "name": "stdout",
          "text": [
            "Tr-me_0302.jpg -> Class: meningioma, Confidence: 1.00\n",
            "Moving Tr-me_0302.jpg to BT100/Training/meningioma/20250328_234147_Tr-me_0302.jpg\n",
            "\u001b[1m1/1\u001b[0m \u001b[32m━━━━━━━━━━━━━━━━━━━━\u001b[0m\u001b[37m\u001b[0m \u001b[1m0s\u001b[0m 44ms/step\n"
          ]
        },
        {
          "output_type": "stream",
          "name": "stderr",
          "text": [
            "\r 72%|███████▏  | 821/1141 [01:26<00:36,  8.81it/s]"
          ]
        },
        {
          "output_type": "stream",
          "name": "stdout",
          "text": [
            "Tr-me_0974.jpg -> Class: meningioma, Confidence: 1.00\n",
            "Moving Tr-me_0974.jpg to BT100/Training/meningioma/20250328_234147_Tr-me_0974.jpg\n",
            "\u001b[1m1/1\u001b[0m \u001b[32m━━━━━━━━━━━━━━━━━━━━\u001b[0m\u001b[37m\u001b[0m \u001b[1m0s\u001b[0m 41ms/step\n",
            "Tr-no_0182.jpg -> Class: notumor, Confidence: 1.00\n",
            "Moving Tr-no_0182.jpg to BT100/Training/notumor/20250328_234148_Tr-no_0182.jpg\n",
            "\u001b[1m1/1\u001b[0m \u001b[32m━━━━━━━━━━━━━━━━━━━━\u001b[0m\u001b[37m\u001b[0m \u001b[1m0s\u001b[0m 44ms/step\n"
          ]
        },
        {
          "output_type": "stream",
          "name": "stderr",
          "text": [
            "\r 72%|███████▏  | 823/1141 [01:26<00:35,  8.95it/s]"
          ]
        },
        {
          "output_type": "stream",
          "name": "stdout",
          "text": [
            "Tr-me_0414.jpg -> Class: meningioma, Confidence: 1.00\n",
            "Moving Tr-me_0414.jpg to BT100/Training/meningioma/20250328_234148_Tr-me_0414.jpg\n",
            "\u001b[1m1/1\u001b[0m \u001b[32m━━━━━━━━━━━━━━━━━━━━\u001b[0m\u001b[37m\u001b[0m \u001b[1m0s\u001b[0m 43ms/step\n"
          ]
        },
        {
          "output_type": "stream",
          "name": "stderr",
          "text": [
            "\r 72%|███████▏  | 824/1141 [01:26<00:35,  8.84it/s]"
          ]
        },
        {
          "output_type": "stream",
          "name": "stdout",
          "text": [
            "Tr-gl_0876.jpg -> Class: glioma, Confidence: 1.00\n",
            "Moving Tr-gl_0876.jpg to BT100/Training/glioma/20250328_234148_Tr-gl_0876.jpg\n",
            "\u001b[1m1/1\u001b[0m \u001b[32m━━━━━━━━━━━━━━━━━━━━\u001b[0m\u001b[37m\u001b[0m \u001b[1m0s\u001b[0m 34ms/step\n"
          ]
        },
        {
          "output_type": "stream",
          "name": "stderr",
          "text": [
            "\r 72%|███████▏  | 825/1141 [01:26<00:36,  8.68it/s]"
          ]
        },
        {
          "output_type": "stream",
          "name": "stdout",
          "text": [
            "Tr-no_0997.jpg -> Class: notumor, Confidence: 1.00\n",
            "Moving Tr-no_0997.jpg to BT100/Training/notumor/20250328_234148_Tr-no_0997.jpg\n",
            "\u001b[1m1/1\u001b[0m \u001b[32m━━━━━━━━━━━━━━━━━━━━\u001b[0m\u001b[37m\u001b[0m \u001b[1m0s\u001b[0m 36ms/step\n"
          ]
        },
        {
          "output_type": "stream",
          "name": "stderr",
          "text": [
            "\r 72%|███████▏  | 826/1141 [01:26<00:36,  8.58it/s]"
          ]
        },
        {
          "output_type": "stream",
          "name": "stdout",
          "text": [
            "Tr-me_0248.jpg -> Class: meningioma, Confidence: 1.00\n",
            "Moving Tr-me_0248.jpg to BT100/Training/meningioma/20250328_234148_Tr-me_0248.jpg\n",
            "\u001b[1m1/1\u001b[0m \u001b[32m━━━━━━━━━━━━━━━━━━━━\u001b[0m\u001b[37m\u001b[0m \u001b[1m0s\u001b[0m 33ms/step\n",
            "Tr-pi_1313.jpg -> Class: pituitary, Confidence: 1.00\n",
            "Moving Tr-pi_1313.jpg to BT100/Training/pituitary/20250328_234148_Tr-pi_1313.jpg\n",
            "\u001b[1m1/1\u001b[0m \u001b[32m━━━━━━━━━━━━━━━━━━━━\u001b[0m\u001b[37m\u001b[0m \u001b[1m0s\u001b[0m 35ms/step\n"
          ]
        },
        {
          "output_type": "stream",
          "name": "stderr",
          "text": [
            "\r 73%|███████▎  | 828/1141 [01:26<00:34,  9.21it/s]"
          ]
        },
        {
          "output_type": "stream",
          "name": "stdout",
          "text": [
            "Tr-no_0559.jpg -> Class: notumor, Confidence: 1.00\n",
            "Moving Tr-no_0559.jpg to BT100/Training/notumor/20250328_234148_Tr-no_0559.jpg\n",
            "\u001b[1m1/1\u001b[0m \u001b[32m━━━━━━━━━━━━━━━━━━━━\u001b[0m\u001b[37m\u001b[0m \u001b[1m0s\u001b[0m 46ms/step\n"
          ]
        },
        {
          "output_type": "stream",
          "name": "stderr",
          "text": [
            "\r 73%|███████▎  | 829/1141 [01:26<00:35,  8.76it/s]"
          ]
        },
        {
          "output_type": "stream",
          "name": "stdout",
          "text": [
            "Tr-me_0200.jpg -> Class: meningioma, Confidence: 1.00\n",
            "Moving Tr-me_0200.jpg to BT100/Training/meningioma/20250328_234148_Tr-me_0200.jpg\n",
            "\u001b[1m1/1\u001b[0m \u001b[32m━━━━━━━━━━━━━━━━━━━━\u001b[0m\u001b[37m\u001b[0m \u001b[1m0s\u001b[0m 39ms/step\n"
          ]
        },
        {
          "output_type": "stream",
          "name": "stderr",
          "text": [
            "\r 73%|███████▎  | 830/1141 [01:27<00:36,  8.58it/s]"
          ]
        },
        {
          "output_type": "stream",
          "name": "stdout",
          "text": [
            "Tr-pi_1231.jpg -> Class: pituitary, Confidence: 1.00\n",
            "Moving Tr-pi_1231.jpg to BT100/Training/pituitary/20250328_234148_Tr-pi_1231.jpg\n",
            "\u001b[1m1/1\u001b[0m \u001b[32m━━━━━━━━━━━━━━━━━━━━\u001b[0m\u001b[37m\u001b[0m \u001b[1m0s\u001b[0m 38ms/step\n",
            "Tr-no_1036.jpg -> Class: notumor, Confidence: 1.00\n",
            "Moving Tr-no_1036.jpg to BT100/Training/notumor/20250328_234149_Tr-no_1036.jpg\n",
            "\u001b[1m1/1\u001b[0m \u001b[32m━━━━━━━━━━━━━━━━━━━━\u001b[0m\u001b[37m\u001b[0m \u001b[1m0s\u001b[0m 41ms/step\n"
          ]
        },
        {
          "output_type": "stream",
          "name": "stderr",
          "text": [
            "\r 73%|███████▎  | 832/1141 [01:27<00:34,  9.00it/s]"
          ]
        },
        {
          "output_type": "stream",
          "name": "stdout",
          "text": [
            "Tr-no_1565.jpg -> Class: notumor, Confidence: 1.00\n",
            "Moving Tr-no_1565.jpg to BT100/Training/notumor/20250328_234149_Tr-no_1565.jpg\n",
            "\u001b[1m1/1\u001b[0m \u001b[32m━━━━━━━━━━━━━━━━━━━━\u001b[0m\u001b[37m\u001b[0m \u001b[1m0s\u001b[0m 44ms/step\n"
          ]
        },
        {
          "output_type": "stream",
          "name": "stderr",
          "text": [
            "\r 73%|███████▎  | 833/1141 [01:27<00:34,  8.82it/s]"
          ]
        },
        {
          "output_type": "stream",
          "name": "stdout",
          "text": [
            "Tr-me_0960.jpg -> Class: meningioma, Confidence: 1.00\n",
            "Moving Tr-me_0960.jpg to BT100/Training/meningioma/20250328_234149_Tr-me_0960.jpg\n",
            "\u001b[1m1/1\u001b[0m \u001b[32m━━━━━━━━━━━━━━━━━━━━\u001b[0m\u001b[37m\u001b[0m \u001b[1m0s\u001b[0m 35ms/step\n",
            "Tr-me_0140.jpg -> Class: meningioma, Confidence: 1.00\n",
            "Moving Tr-me_0140.jpg to BT100/Training/meningioma/20250328_234149_Tr-me_0140.jpg\n",
            "\u001b[1m1/1\u001b[0m \u001b[32m━━━━━━━━━━━━━━━━━━━━\u001b[0m\u001b[37m\u001b[0m \u001b[1m0s\u001b[0m 34ms/step\n"
          ]
        },
        {
          "output_type": "stream",
          "name": "stderr",
          "text": [
            "\r 73%|███████▎  | 835/1141 [01:27<00:33,  9.26it/s]"
          ]
        },
        {
          "output_type": "stream",
          "name": "stdout",
          "text": [
            "Tr-no_0601.jpg -> Class: notumor, Confidence: 1.00\n",
            "Moving Tr-no_0601.jpg to BT100/Training/notumor/20250328_234149_Tr-no_0601.jpg\n",
            "\u001b[1m1/1\u001b[0m \u001b[32m━━━━━━━━━━━━━━━━━━━━\u001b[0m\u001b[37m\u001b[0m \u001b[1m0s\u001b[0m 35ms/step\n"
          ]
        },
        {
          "output_type": "stream",
          "name": "stderr",
          "text": [
            "\r 73%|███████▎  | 836/1141 [01:27<00:33,  9.07it/s]"
          ]
        },
        {
          "output_type": "stream",
          "name": "stdout",
          "text": [
            "Tr-pi_0603.jpg -> Class: pituitary, Confidence: 1.00\n",
            "Moving Tr-pi_0603.jpg to BT100/Training/pituitary/20250328_234149_Tr-pi_0603.jpg\n",
            "\u001b[1m1/1\u001b[0m \u001b[32m━━━━━━━━━━━━━━━━━━━━\u001b[0m\u001b[37m\u001b[0m \u001b[1m0s\u001b[0m 41ms/step\n"
          ]
        },
        {
          "output_type": "stream",
          "name": "stderr",
          "text": [
            "\r 73%|███████▎  | 837/1141 [01:27<00:34,  8.91it/s]"
          ]
        },
        {
          "output_type": "stream",
          "name": "stdout",
          "text": [
            "Tr-pi_1087.jpg -> Class: pituitary, Confidence: 0.99\n",
            "Moving Tr-pi_1087.jpg to BT100/Training/pituitary/20250328_234149_Tr-pi_1087.jpg\n",
            "\u001b[1m1/1\u001b[0m \u001b[32m━━━━━━━━━━━━━━━━━━━━\u001b[0m\u001b[37m\u001b[0m \u001b[1m0s\u001b[0m 42ms/step\n"
          ]
        },
        {
          "output_type": "stream",
          "name": "stderr",
          "text": [
            "\r 73%|███████▎  | 838/1141 [01:27<00:34,  8.70it/s]"
          ]
        },
        {
          "output_type": "stream",
          "name": "stdout",
          "text": [
            "Tr-pi_1311.jpg -> Class: pituitary, Confidence: 1.00\n",
            "Moving Tr-pi_1311.jpg to BT100/Training/pituitary/20250328_234149_Tr-pi_1311.jpg\n",
            "\u001b[1m1/1\u001b[0m \u001b[32m━━━━━━━━━━━━━━━━━━━━\u001b[0m\u001b[37m\u001b[0m \u001b[1m0s\u001b[0m 36ms/step\n"
          ]
        },
        {
          "output_type": "stream",
          "name": "stderr",
          "text": [
            "\r 74%|███████▎  | 839/1141 [01:28<00:35,  8.53it/s]"
          ]
        },
        {
          "output_type": "stream",
          "name": "stdout",
          "text": [
            "Tr-no_0979.jpg -> Class: notumor, Confidence: 1.00\n",
            "Moving Tr-no_0979.jpg to BT100/Training/notumor/20250328_234149_Tr-no_0979.jpg\n",
            "\u001b[1m1/1\u001b[0m \u001b[32m━━━━━━━━━━━━━━━━━━━━\u001b[0m\u001b[37m\u001b[0m \u001b[1m0s\u001b[0m 37ms/step\n",
            "Tr-gl_0957.jpg -> Class: glioma, Confidence: 1.00\n",
            "Moving Tr-gl_0957.jpg to BT100/Training/glioma/20250328_234150_Tr-gl_0957.jpg\n",
            "\u001b[1m1/1\u001b[0m \u001b[32m━━━━━━━━━━━━━━━━━━━━\u001b[0m\u001b[37m\u001b[0m \u001b[1m0s\u001b[0m 40ms/step\n"
          ]
        },
        {
          "output_type": "stream",
          "name": "stderr",
          "text": [
            "\r 74%|███████▎  | 841/1141 [01:28<00:33,  9.04it/s]"
          ]
        },
        {
          "output_type": "stream",
          "name": "stdout",
          "text": [
            "Tr-pi_0127.jpg -> Class: pituitary, Confidence: 1.00\n",
            "Moving Tr-pi_0127.jpg to BT100/Training/pituitary/20250328_234150_Tr-pi_0127.jpg\n",
            "\u001b[1m1/1\u001b[0m \u001b[32m━━━━━━━━━━━━━━━━━━━━\u001b[0m\u001b[37m\u001b[0m \u001b[1m0s\u001b[0m 49ms/step\n",
            "Tr-pi_0561.jpg -> Class: pituitary, Confidence: 1.00\n",
            "Moving Tr-pi_0561.jpg to BT100/Training/pituitary/20250328_234150_Tr-pi_0561.jpg\n",
            "\u001b[1m1/1\u001b[0m \u001b[32m━━━━━━━━━━━━━━━━━━━━\u001b[0m\u001b[37m\u001b[0m \u001b[1m0s\u001b[0m 41ms/step\n"
          ]
        },
        {
          "output_type": "stream",
          "name": "stderr",
          "text": [
            "\r 74%|███████▍  | 843/1141 [01:28<00:32,  9.09it/s]"
          ]
        },
        {
          "output_type": "stream",
          "name": "stdout",
          "text": [
            "Tr-pi_0608.jpg -> Class: pituitary, Confidence: 1.00\n",
            "Moving Tr-pi_0608.jpg to BT100/Training/pituitary/20250328_234150_Tr-pi_0608.jpg\n",
            "\u001b[1m1/1\u001b[0m \u001b[32m━━━━━━━━━━━━━━━━━━━━\u001b[0m\u001b[37m\u001b[0m \u001b[1m0s\u001b[0m 41ms/step\n"
          ]
        },
        {
          "output_type": "stream",
          "name": "stderr",
          "text": [
            "\r 74%|███████▍  | 844/1141 [01:28<00:33,  8.82it/s]"
          ]
        },
        {
          "output_type": "stream",
          "name": "stdout",
          "text": [
            "Tr-pi_0646.jpg -> Class: pituitary, Confidence: 1.00\n",
            "Moving Tr-pi_0646.jpg to BT100/Training/pituitary/20250328_234150_Tr-pi_0646.jpg\n",
            "\u001b[1m1/1\u001b[0m \u001b[32m━━━━━━━━━━━━━━━━━━━━\u001b[0m\u001b[37m\u001b[0m \u001b[1m0s\u001b[0m 34ms/step\n"
          ]
        },
        {
          "output_type": "stream",
          "name": "stderr",
          "text": [
            "\r 74%|███████▍  | 845/1141 [01:28<00:33,  8.71it/s]"
          ]
        },
        {
          "output_type": "stream",
          "name": "stdout",
          "text": [
            "Tr-me_0099.jpg -> Class: meningioma, Confidence: 1.00\n",
            "Moving Tr-me_0099.jpg to BT100/Training/meningioma/20250328_234150_Tr-me_0099.jpg\n",
            "\u001b[1m1/1\u001b[0m \u001b[32m━━━━━━━━━━━━━━━━━━━━\u001b[0m\u001b[37m\u001b[0m \u001b[1m0s\u001b[0m 35ms/step\n",
            "Tr-me_0045.jpg -> Class: meningioma, Confidence: 1.00\n",
            "Moving Tr-me_0045.jpg to BT100/Training/meningioma/20250328_234150_Tr-me_0045.jpg\n",
            "\u001b[1m1/1\u001b[0m \u001b[32m━━━━━━━━━━━━━━━━━━━━\u001b[0m\u001b[37m\u001b[0m \u001b[1m0s\u001b[0m 37ms/step\n"
          ]
        },
        {
          "output_type": "stream",
          "name": "stderr",
          "text": [
            "\r 74%|███████▍  | 847/1141 [01:28<00:31,  9.25it/s]"
          ]
        },
        {
          "output_type": "stream",
          "name": "stdout",
          "text": [
            "Tr-me_0814.jpg -> Class: meningioma, Confidence: 0.67\n",
            "Moved low-confidence image Tr-me_0814.jpg to BT100/low_confidence\n",
            "\u001b[1m1/1\u001b[0m \u001b[32m━━━━━━━━━━━━━━━━━━━━\u001b[0m\u001b[37m\u001b[0m \u001b[1m0s\u001b[0m 39ms/step\n"
          ]
        },
        {
          "output_type": "stream",
          "name": "stderr",
          "text": [
            "\r 74%|███████▍  | 848/1141 [01:29<00:32,  8.97it/s]"
          ]
        },
        {
          "output_type": "stream",
          "name": "stdout",
          "text": [
            "Tr-piTr_0003.jpg -> Class: pituitary, Confidence: 1.00\n",
            "Moving Tr-piTr_0003.jpg to BT100/Training/pituitary/20250328_234150_Tr-piTr_0003.jpg\n",
            "\u001b[1m1/1\u001b[0m \u001b[32m━━━━━━━━━━━━━━━━━━━━\u001b[0m\u001b[37m\u001b[0m \u001b[1m0s\u001b[0m 42ms/step\n",
            "Tr-pi_0541.jpg -> Class: pituitary, Confidence: 1.00\n",
            "Moving Tr-pi_0541.jpg to BT100/Training/pituitary/20250328_234151_Tr-pi_0541.jpg\n",
            "\u001b[1m1/1\u001b[0m \u001b[32m━━━━━━━━━━━━━━━━━━━━\u001b[0m\u001b[37m\u001b[0m \u001b[1m0s\u001b[0m 37ms/step\n"
          ]
        },
        {
          "output_type": "stream",
          "name": "stderr",
          "text": [
            "\r 74%|███████▍  | 850/1141 [01:29<00:31,  9.37it/s]"
          ]
        },
        {
          "output_type": "stream",
          "name": "stdout",
          "text": [
            "Tr-me_0931.jpg -> Class: meningioma, Confidence: 1.00\n",
            "Moving Tr-me_0931.jpg to BT100/Training/meningioma/20250328_234151_Tr-me_0931.jpg\n",
            "\u001b[1m1/1\u001b[0m \u001b[32m━━━━━━━━━━━━━━━━━━━━\u001b[0m\u001b[37m\u001b[0m \u001b[1m0s\u001b[0m 40ms/step\n",
            "Tr-no_0545.jpg -> Class: notumor, Confidence: 1.00\n",
            "Moving Tr-no_0545.jpg to BT100/Training/notumor/20250328_234151_Tr-no_0545.jpg\n",
            "\u001b[1m1/1\u001b[0m \u001b[32m━━━━━━━━━━━━━━━━━━━━\u001b[0m\u001b[37m\u001b[0m \u001b[1m0s\u001b[0m 38ms/step\n"
          ]
        },
        {
          "output_type": "stream",
          "name": "stderr",
          "text": [
            "\r 75%|███████▍  | 852/1141 [01:29<00:29,  9.93it/s]"
          ]
        },
        {
          "output_type": "stream",
          "name": "stdout",
          "text": [
            "Tr-no_0135.jpg -> Class: notumor, Confidence: 1.00\n",
            "Moving Tr-no_0135.jpg to BT100/Training/notumor/20250328_234151_Tr-no_0135.jpg\n",
            "\u001b[1m1/1\u001b[0m \u001b[32m━━━━━━━━━━━━━━━━━━━━\u001b[0m\u001b[37m\u001b[0m \u001b[1m0s\u001b[0m 36ms/step\n"
          ]
        },
        {
          "output_type": "stream",
          "name": "stderr",
          "text": [
            "\r 75%|███████▍  | 853/1141 [01:29<00:30,  9.57it/s]"
          ]
        },
        {
          "output_type": "stream",
          "name": "stdout",
          "text": [
            "Tr-no_1198.jpg -> Class: notumor, Confidence: 1.00\n",
            "Moving Tr-no_1198.jpg to BT100/Training/notumor/20250328_234151_Tr-no_1198.jpg\n",
            "\u001b[1m1/1\u001b[0m \u001b[32m━━━━━━━━━━━━━━━━━━━━\u001b[0m\u001b[37m\u001b[0m \u001b[1m0s\u001b[0m 40ms/step\n"
          ]
        },
        {
          "output_type": "stream",
          "name": "stderr",
          "text": [
            "\r 75%|███████▍  | 854/1141 [01:29<00:31,  9.19it/s]"
          ]
        },
        {
          "output_type": "stream",
          "name": "stdout",
          "text": [
            "Tr-gl_0738.jpg -> Class: glioma, Confidence: 1.00\n",
            "Moving Tr-gl_0738.jpg to BT100/Training/glioma/20250328_234151_Tr-gl_0738.jpg\n",
            "\u001b[1m1/1\u001b[0m \u001b[32m━━━━━━━━━━━━━━━━━━━━\u001b[0m\u001b[37m\u001b[0m \u001b[1m0s\u001b[0m 39ms/step\n",
            "Tr-gl_0542.jpg -> Class: glioma, Confidence: 1.00\n",
            "Moving Tr-gl_0542.jpg to BT100/Training/glioma/20250328_234151_Tr-gl_0542.jpg\n",
            "\u001b[1m1/1\u001b[0m \u001b[32m━━━━━━━━━━━━━━━━━━━━\u001b[0m\u001b[37m\u001b[0m \u001b[1m0s\u001b[0m 39ms/step\n"
          ]
        },
        {
          "output_type": "stream",
          "name": "stderr",
          "text": [
            "\r 75%|███████▌  | 856/1141 [01:29<00:28, 10.13it/s]"
          ]
        },
        {
          "output_type": "stream",
          "name": "stdout",
          "text": [
            "Tr-me_0362.jpg -> Class: meningioma, Confidence: 1.00\n",
            "Moving Tr-me_0362.jpg to BT100/Training/meningioma/20250328_234151_Tr-me_0362.jpg\n",
            "\u001b[1m1/1\u001b[0m \u001b[32m━━━━━━━━━━━━━━━━━━━━\u001b[0m\u001b[37m\u001b[0m \u001b[1m0s\u001b[0m 36ms/step\n",
            "Tr-gl_0985.jpg -> Class: glioma, Confidence: 1.00\n",
            "Moving Tr-gl_0985.jpg to BT100/Training/glioma/20250328_234151_Tr-gl_0985.jpg\n",
            "\u001b[1m1/1\u001b[0m \u001b[32m━━━━━━━━━━━━━━━━━━━━\u001b[0m\u001b[37m\u001b[0m \u001b[1m0s\u001b[0m 35ms/step\n"
          ]
        },
        {
          "output_type": "stream",
          "name": "stderr",
          "text": [
            "\r 75%|███████▌  | 858/1141 [01:30<00:27, 10.48it/s]"
          ]
        },
        {
          "output_type": "stream",
          "name": "stdout",
          "text": [
            "Tr-gl_0349.jpg -> Class: glioma, Confidence: 1.00\n",
            "Moving Tr-gl_0349.jpg to BT100/Training/glioma/20250328_234151_Tr-gl_0349.jpg\n",
            "\u001b[1m1/1\u001b[0m \u001b[32m━━━━━━━━━━━━━━━━━━━━\u001b[0m\u001b[37m\u001b[0m \u001b[1m0s\u001b[0m 35ms/step\n",
            "Tr-pi_0185.jpg -> Class: pituitary, Confidence: 1.00\n",
            "Moving Tr-pi_0185.jpg to BT100/Training/pituitary/20250328_234152_Tr-pi_0185.jpg\n",
            "\u001b[1m1/1\u001b[0m \u001b[32m━━━━━━━━━━━━━━━━━━━━\u001b[0m\u001b[37m\u001b[0m \u001b[1m0s\u001b[0m 37ms/step\n"
          ]
        },
        {
          "output_type": "stream",
          "name": "stderr",
          "text": [
            "\r 75%|███████▌  | 860/1141 [01:30<00:25, 10.89it/s]"
          ]
        },
        {
          "output_type": "stream",
          "name": "stdout",
          "text": [
            "Tr-gl_0433.jpg -> Class: glioma, Confidence: 1.00\n",
            "Moving Tr-gl_0433.jpg to BT100/Training/glioma/20250328_234152_Tr-gl_0433.jpg\n",
            "\u001b[1m1/1\u001b[0m \u001b[32m━━━━━━━━━━━━━━━━━━━━\u001b[0m\u001b[37m\u001b[0m \u001b[1m0s\u001b[0m 32ms/step\n",
            "Tr-pi_0939.jpg -> Class: pituitary, Confidence: 1.00\n",
            "Moving Tr-pi_0939.jpg to BT100/Training/pituitary/20250328_234152_Tr-pi_0939.jpg\n",
            "\u001b[1m1/1\u001b[0m \u001b[32m━━━━━━━━━━━━━━━━━━━━\u001b[0m\u001b[37m\u001b[0m \u001b[1m0s\u001b[0m 39ms/step\n"
          ]
        },
        {
          "output_type": "stream",
          "name": "stderr",
          "text": [
            "\r 76%|███████▌  | 862/1141 [01:30<00:28,  9.92it/s]"
          ]
        },
        {
          "output_type": "stream",
          "name": "stdout",
          "text": [
            "Tr-me_0052.jpg -> Class: meningioma, Confidence: 1.00\n",
            "Moving Tr-me_0052.jpg to BT100/Training/meningioma/20250328_234152_Tr-me_0052.jpg\n",
            "\u001b[1m1/1\u001b[0m \u001b[32m━━━━━━━━━━━━━━━━━━━━\u001b[0m\u001b[37m\u001b[0m \u001b[1m0s\u001b[0m 34ms/step\n",
            "Tr-me_0170.jpg -> Class: meningioma, Confidence: 1.00\n",
            "Moving Tr-me_0170.jpg to BT100/Training/meningioma/20250328_234152_Tr-me_0170.jpg\n",
            "\u001b[1m1/1\u001b[0m \u001b[32m━━━━━━━━━━━━━━━━━━━━\u001b[0m\u001b[37m\u001b[0m \u001b[1m0s\u001b[0m 32ms/step\n"
          ]
        },
        {
          "output_type": "stream",
          "name": "stderr",
          "text": [
            "\r 76%|███████▌  | 864/1141 [01:30<00:26, 10.63it/s]"
          ]
        },
        {
          "output_type": "stream",
          "name": "stdout",
          "text": [
            "Tr-me_0379.jpg -> Class: meningioma, Confidence: 0.97\n",
            "Moved low-confidence image Tr-me_0379.jpg to BT100/low_confidence\n",
            "\u001b[1m1/1\u001b[0m \u001b[32m━━━━━━━━━━━━━━━━━━━━\u001b[0m\u001b[37m\u001b[0m \u001b[1m0s\u001b[0m 34ms/step\n",
            "Tr-gl_0238.jpg -> Class: glioma, Confidence: 1.00\n",
            "Moving Tr-gl_0238.jpg to BT100/Training/glioma/20250328_234152_Tr-gl_0238.jpg\n",
            "\u001b[1m1/1\u001b[0m \u001b[32m━━━━━━━━━━━━━━━━━━━━\u001b[0m\u001b[37m\u001b[0m \u001b[1m0s\u001b[0m 34ms/step\n"
          ]
        },
        {
          "output_type": "stream",
          "name": "stderr",
          "text": [
            "\r 76%|███████▌  | 866/1141 [01:30<00:28,  9.81it/s]"
          ]
        },
        {
          "output_type": "stream",
          "name": "stdout",
          "text": [
            "Tr-pi_0952.jpg -> Class: pituitary, Confidence: 1.00\n",
            "Moving Tr-pi_0952.jpg to BT100/Training/pituitary/20250328_234152_Tr-pi_0952.jpg\n",
            "\u001b[1m1/1\u001b[0m \u001b[32m━━━━━━━━━━━━━━━━━━━━\u001b[0m\u001b[37m\u001b[0m \u001b[1m0s\u001b[0m 37ms/step\n",
            "Tr-me_0980.jpg -> Class: meningioma, Confidence: 1.00\n",
            "Moving Tr-me_0980.jpg to BT100/Training/meningioma/20250328_234152_Tr-me_0980.jpg\n",
            "\u001b[1m1/1\u001b[0m \u001b[32m━━━━━━━━━━━━━━━━━━━━\u001b[0m\u001b[37m\u001b[0m \u001b[1m0s\u001b[0m 56ms/step\n"
          ]
        },
        {
          "output_type": "stream",
          "name": "stderr",
          "text": [
            "\r 76%|███████▌  | 868/1141 [01:31<00:28,  9.44it/s]"
          ]
        },
        {
          "output_type": "stream",
          "name": "stdout",
          "text": [
            "Tr-pi_0383.jpg -> Class: pituitary, Confidence: 1.00\n",
            "Moving Tr-pi_0383.jpg to BT100/Training/pituitary/20250328_234152_Tr-pi_0383.jpg\n",
            "\u001b[1m1/1\u001b[0m \u001b[32m━━━━━━━━━━━━━━━━━━━━\u001b[0m\u001b[37m\u001b[0m \u001b[1m0s\u001b[0m 36ms/step\n"
          ]
        },
        {
          "output_type": "stream",
          "name": "stderr",
          "text": [
            "\r 76%|███████▌  | 869/1141 [01:31<00:29,  9.15it/s]"
          ]
        },
        {
          "output_type": "stream",
          "name": "stdout",
          "text": [
            "Tr-pi_0117.jpg -> Class: pituitary, Confidence: 1.00\n",
            "Moving Tr-pi_0117.jpg to BT100/Training/pituitary/20250328_234153_Tr-pi_0117.jpg\n",
            "\u001b[1m1/1\u001b[0m \u001b[32m━━━━━━━━━━━━━━━━━━━━\u001b[0m\u001b[37m\u001b[0m \u001b[1m0s\u001b[0m 37ms/step\n"
          ]
        },
        {
          "output_type": "stream",
          "name": "stderr",
          "text": [
            "\r 76%|███████▌  | 870/1141 [01:31<00:30,  8.90it/s]"
          ]
        },
        {
          "output_type": "stream",
          "name": "stdout",
          "text": [
            "Tr-pi_0380.jpg -> Class: pituitary, Confidence: 1.00\n",
            "Moving Tr-pi_0380.jpg to BT100/Training/pituitary/20250328_234153_Tr-pi_0380.jpg\n",
            "\u001b[1m1/1\u001b[0m \u001b[32m━━━━━━━━━━━━━━━━━━━━\u001b[0m\u001b[37m\u001b[0m \u001b[1m0s\u001b[0m 44ms/step\n"
          ]
        },
        {
          "output_type": "stream",
          "name": "stderr",
          "text": [
            "\r 76%|███████▋  | 871/1141 [01:31<00:31,  8.60it/s]"
          ]
        },
        {
          "output_type": "stream",
          "name": "stdout",
          "text": [
            "Tr-gl_0885.jpg -> Class: glioma, Confidence: 1.00\n",
            "Moving Tr-gl_0885.jpg to BT100/Training/glioma/20250328_234153_Tr-gl_0885.jpg\n",
            "\u001b[1m1/1\u001b[0m \u001b[32m━━━━━━━━━━━━━━━━━━━━\u001b[0m\u001b[37m\u001b[0m \u001b[1m0s\u001b[0m 35ms/step\n"
          ]
        },
        {
          "output_type": "stream",
          "name": "stderr",
          "text": [
            "\r 76%|███████▋  | 872/1141 [01:31<00:31,  8.52it/s]"
          ]
        },
        {
          "output_type": "stream",
          "name": "stdout",
          "text": [
            "Tr-me_0664.jpg -> Class: meningioma, Confidence: 1.00\n",
            "Moving Tr-me_0664.jpg to BT100/Training/meningioma/20250328_234153_Tr-me_0664.jpg\n",
            "\u001b[1m1/1\u001b[0m \u001b[32m━━━━━━━━━━━━━━━━━━━━\u001b[0m\u001b[37m\u001b[0m \u001b[1m0s\u001b[0m 35ms/step\n"
          ]
        },
        {
          "output_type": "stream",
          "name": "stderr",
          "text": [
            "\r 77%|███████▋  | 873/1141 [01:31<00:31,  8.40it/s]"
          ]
        },
        {
          "output_type": "stream",
          "name": "stdout",
          "text": [
            "Tr-pi_1174.jpg -> Class: pituitary, Confidence: 1.00\n",
            "Moving Tr-pi_1174.jpg to BT100/Training/pituitary/20250328_234153_Tr-pi_1174.jpg\n",
            "\u001b[1m1/1\u001b[0m \u001b[32m━━━━━━━━━━━━━━━━━━━━\u001b[0m\u001b[37m\u001b[0m \u001b[1m0s\u001b[0m 34ms/step\n",
            "Tr-me_1000.jpg -> Class: meningioma, Confidence: 1.00\n",
            "Moving Tr-me_1000.jpg to BT100/Training/meningioma/20250328_234153_Tr-me_1000.jpg\n",
            "\u001b[1m1/1\u001b[0m \u001b[32m━━━━━━━━━━━━━━━━━━━━\u001b[0m\u001b[37m\u001b[0m \u001b[1m0s\u001b[0m 35ms/step\n"
          ]
        },
        {
          "output_type": "stream",
          "name": "stderr",
          "text": [
            "\r 77%|███████▋  | 875/1141 [01:31<00:27,  9.77it/s]"
          ]
        },
        {
          "output_type": "stream",
          "name": "stdout",
          "text": [
            "Tr-me_0815.jpg -> Class: meningioma, Confidence: 1.00\n",
            "Moving Tr-me_0815.jpg to BT100/Training/meningioma/20250328_234153_Tr-me_0815.jpg\n",
            "\u001b[1m1/1\u001b[0m \u001b[32m━━━━━━━━━━━━━━━━━━━━\u001b[0m\u001b[37m\u001b[0m \u001b[1m0s\u001b[0m 37ms/step\n"
          ]
        },
        {
          "output_type": "stream",
          "name": "stderr",
          "text": [
            "\r 77%|███████▋  | 876/1141 [01:32<00:28,  9.22it/s]"
          ]
        },
        {
          "output_type": "stream",
          "name": "stdout",
          "text": [
            "Tr-pi_0222.jpg -> Class: pituitary, Confidence: 1.00\n",
            "Moving Tr-pi_0222.jpg to BT100/Training/pituitary/20250328_234153_Tr-pi_0222.jpg\n",
            "\u001b[1m1/1\u001b[0m \u001b[32m━━━━━━━━━━━━━━━━━━━━\u001b[0m\u001b[37m\u001b[0m \u001b[1m0s\u001b[0m 36ms/step\n"
          ]
        },
        {
          "output_type": "stream",
          "name": "stderr",
          "text": [
            "\r 77%|███████▋  | 877/1141 [01:32<00:29,  8.82it/s]"
          ]
        },
        {
          "output_type": "stream",
          "name": "stdout",
          "text": [
            "Tr-pi_1304.jpg -> Class: pituitary, Confidence: 1.00\n",
            "Moving Tr-pi_1304.jpg to BT100/Training/pituitary/20250328_234154_Tr-pi_1304.jpg\n",
            "\u001b[1m1/1\u001b[0m \u001b[32m━━━━━━━━━━━━━━━━━━━━\u001b[0m\u001b[37m\u001b[0m \u001b[1m0s\u001b[0m 39ms/step\n"
          ]
        },
        {
          "output_type": "stream",
          "name": "stderr",
          "text": [
            "\r 77%|███████▋  | 878/1141 [01:32<00:30,  8.52it/s]"
          ]
        },
        {
          "output_type": "stream",
          "name": "stdout",
          "text": [
            "Tr-pi_0536.jpg -> Class: pituitary, Confidence: 1.00\n",
            "Moving Tr-pi_0536.jpg to BT100/Training/pituitary/20250328_234154_Tr-pi_0536.jpg\n",
            "\u001b[1m1/1\u001b[0m \u001b[32m━━━━━━━━━━━━━━━━━━━━\u001b[0m\u001b[37m\u001b[0m \u001b[1m0s\u001b[0m 40ms/step\n",
            "Tr-pi_1277.jpg -> Class: pituitary, Confidence: 1.00\n",
            "Moving Tr-pi_1277.jpg to BT100/Training/pituitary/20250328_234154_Tr-pi_1277.jpg\n",
            "\u001b[1m1/1\u001b[0m \u001b[32m━━━━━━━━━━━━━━━━━━━━\u001b[0m\u001b[37m\u001b[0m \u001b[1m0s\u001b[0m 45ms/step\n"
          ]
        },
        {
          "output_type": "stream",
          "name": "stderr",
          "text": [
            "\r 77%|███████▋  | 880/1141 [01:32<00:27,  9.43it/s]"
          ]
        },
        {
          "output_type": "stream",
          "name": "stdout",
          "text": [
            "Tr-pi_1224.jpg -> Class: pituitary, Confidence: 1.00\n",
            "Moving Tr-pi_1224.jpg to BT100/Training/pituitary/20250328_234154_Tr-pi_1224.jpg\n",
            "\u001b[1m1/1\u001b[0m \u001b[32m━━━━━━━━━━━━━━━━━━━━\u001b[0m\u001b[37m\u001b[0m \u001b[1m0s\u001b[0m 36ms/step\n"
          ]
        },
        {
          "output_type": "stream",
          "name": "stderr",
          "text": [
            "\r 77%|███████▋  | 881/1141 [01:32<00:28,  9.14it/s]"
          ]
        },
        {
          "output_type": "stream",
          "name": "stdout",
          "text": [
            "Tr-pi_1133.jpg -> Class: pituitary, Confidence: 1.00\n",
            "Moving Tr-pi_1133.jpg to BT100/Training/pituitary/20250328_234154_Tr-pi_1133.jpg\n",
            "\u001b[1m1/1\u001b[0m \u001b[32m━━━━━━━━━━━━━━━━━━━━\u001b[0m\u001b[37m\u001b[0m \u001b[1m0s\u001b[0m 60ms/step\n"
          ]
        },
        {
          "output_type": "stream",
          "name": "stderr",
          "text": [
            "\r 77%|███████▋  | 882/1141 [01:32<00:30,  8.38it/s]"
          ]
        },
        {
          "output_type": "stream",
          "name": "stdout",
          "text": [
            "Tr-no_0696.jpg -> Class: notumor, Confidence: 1.00\n",
            "Moving Tr-no_0696.jpg to BT100/Training/notumor/20250328_234154_Tr-no_0696.jpg\n",
            "\u001b[1m1/1\u001b[0m \u001b[32m━━━━━━━━━━━━━━━━━━━━\u001b[0m\u001b[37m\u001b[0m \u001b[1m0s\u001b[0m 53ms/step\n"
          ]
        },
        {
          "output_type": "stream",
          "name": "stderr",
          "text": [
            "\r 77%|███████▋  | 883/1141 [01:32<00:30,  8.41it/s]"
          ]
        },
        {
          "output_type": "stream",
          "name": "stdout",
          "text": [
            "Tr-gl_0967.jpg -> Class: glioma, Confidence: 1.00\n",
            "Moving Tr-gl_0967.jpg to BT100/Training/glioma/20250328_234154_Tr-gl_0967.jpg\n",
            "\u001b[1m1/1\u001b[0m \u001b[32m━━━━━━━━━━━━━━━━━━━━\u001b[0m\u001b[37m\u001b[0m \u001b[1m0s\u001b[0m 51ms/step\n"
          ]
        },
        {
          "output_type": "stream",
          "name": "stderr",
          "text": [
            "\r 77%|███████▋  | 884/1141 [01:32<00:32,  7.93it/s]"
          ]
        },
        {
          "output_type": "stream",
          "name": "stdout",
          "text": [
            "Tr-pi_0029.jpg -> Class: pituitary, Confidence: 1.00\n",
            "Moving Tr-pi_0029.jpg to BT100/Training/pituitary/20250328_234154_Tr-pi_0029.jpg\n",
            "\u001b[1m1/1\u001b[0m \u001b[32m━━━━━━━━━━━━━━━━━━━━\u001b[0m\u001b[37m\u001b[0m \u001b[1m0s\u001b[0m 72ms/step\n"
          ]
        },
        {
          "output_type": "stream",
          "name": "stderr",
          "text": [
            "\r 78%|███████▊  | 885/1141 [01:33<00:34,  7.52it/s]"
          ]
        },
        {
          "output_type": "stream",
          "name": "stdout",
          "text": [
            "Tr-no_1482.jpg -> Class: notumor, Confidence: 1.00\n",
            "Moving Tr-no_1482.jpg to BT100/Training/notumor/20250328_234155_Tr-no_1482.jpg\n",
            "\u001b[1m1/1\u001b[0m \u001b[32m━━━━━━━━━━━━━━━━━━━━\u001b[0m\u001b[37m\u001b[0m \u001b[1m0s\u001b[0m 78ms/step\n"
          ]
        },
        {
          "output_type": "stream",
          "name": "stderr",
          "text": [
            "\r 78%|███████▊  | 886/1141 [01:33<00:35,  7.14it/s]"
          ]
        },
        {
          "output_type": "stream",
          "name": "stdout",
          "text": [
            "Tr-no_1118.jpg -> Class: notumor, Confidence: 1.00\n",
            "Moving Tr-no_1118.jpg to BT100/Training/notumor/20250328_234155_Tr-no_1118.jpg\n",
            "\u001b[1m1/1\u001b[0m \u001b[32m━━━━━━━━━━━━━━━━━━━━\u001b[0m\u001b[37m\u001b[0m \u001b[1m0s\u001b[0m 56ms/step\n"
          ]
        },
        {
          "output_type": "stream",
          "name": "stderr",
          "text": [
            "\r 78%|███████▊  | 887/1141 [01:33<00:35,  7.19it/s]"
          ]
        },
        {
          "output_type": "stream",
          "name": "stdout",
          "text": [
            "Tr-gl_1013.jpg -> Class: glioma, Confidence: 1.00\n",
            "Moving Tr-gl_1013.jpg to BT100/Training/glioma/20250328_234155_Tr-gl_1013.jpg\n",
            "\u001b[1m1/1\u001b[0m \u001b[32m━━━━━━━━━━━━━━━━━━━━\u001b[0m\u001b[37m\u001b[0m \u001b[1m0s\u001b[0m 57ms/step\n"
          ]
        },
        {
          "output_type": "stream",
          "name": "stderr",
          "text": [
            "\r 78%|███████▊  | 888/1141 [01:33<00:35,  7.17it/s]"
          ]
        },
        {
          "output_type": "stream",
          "name": "stdout",
          "text": [
            "Tr-gl_0430.jpg -> Class: glioma, Confidence: 1.00\n",
            "Moving Tr-gl_0430.jpg to BT100/Training/glioma/20250328_234155_Tr-gl_0430.jpg\n",
            "\u001b[1m1/1\u001b[0m \u001b[32m━━━━━━━━━━━━━━━━━━━━\u001b[0m\u001b[37m\u001b[0m \u001b[1m0s\u001b[0m 58ms/step\n"
          ]
        },
        {
          "output_type": "stream",
          "name": "stderr",
          "text": [
            "\r 78%|███████▊  | 889/1141 [01:33<00:34,  7.39it/s]"
          ]
        },
        {
          "output_type": "stream",
          "name": "stdout",
          "text": [
            "Tr-no_0459.jpg -> Class: notumor, Confidence: 1.00\n",
            "Moving Tr-no_0459.jpg to BT100/Training/notumor/20250328_234155_Tr-no_0459.jpg\n",
            "\u001b[1m1/1\u001b[0m \u001b[32m━━━━━━━━━━━━━━━━━━━━\u001b[0m\u001b[37m\u001b[0m \u001b[1m0s\u001b[0m 53ms/step\n"
          ]
        },
        {
          "output_type": "stream",
          "name": "stderr",
          "text": [
            "\r 78%|███████▊  | 890/1141 [01:33<00:34,  7.21it/s]"
          ]
        },
        {
          "output_type": "stream",
          "name": "stdout",
          "text": [
            "Tr-no_1074.jpg -> Class: notumor, Confidence: 1.00\n",
            "Moving Tr-no_1074.jpg to BT100/Training/notumor/20250328_234155_Tr-no_1074.jpg\n",
            "\u001b[1m1/1\u001b[0m \u001b[32m━━━━━━━━━━━━━━━━━━━━\u001b[0m\u001b[37m\u001b[0m \u001b[1m0s\u001b[0m 49ms/step\n"
          ]
        },
        {
          "output_type": "stream",
          "name": "stderr",
          "text": [
            "\r 78%|███████▊  | 891/1141 [01:33<00:34,  7.28it/s]"
          ]
        },
        {
          "output_type": "stream",
          "name": "stdout",
          "text": [
            "Tr-no_0450.jpg -> Class: notumor, Confidence: 1.00\n",
            "Moving Tr-no_0450.jpg to BT100/Training/notumor/20250328_234155_Tr-no_0450.jpg\n",
            "\u001b[1m1/1\u001b[0m \u001b[32m━━━━━━━━━━━━━━━━━━━━\u001b[0m\u001b[37m\u001b[0m \u001b[1m0s\u001b[0m 51ms/step\n"
          ]
        },
        {
          "output_type": "stream",
          "name": "stderr",
          "text": [
            "\r 78%|███████▊  | 892/1141 [01:34<00:35,  7.09it/s]"
          ]
        },
        {
          "output_type": "stream",
          "name": "stdout",
          "text": [
            "Tr-no_0993.jpg -> Class: notumor, Confidence: 1.00\n",
            "Moving Tr-no_0993.jpg to BT100/Training/notumor/20250328_234156_Tr-no_0993.jpg\n",
            "\u001b[1m1/1\u001b[0m \u001b[32m━━━━━━━━━━━━━━━━━━━━\u001b[0m\u001b[37m\u001b[0m \u001b[1m0s\u001b[0m 71ms/step\n"
          ]
        },
        {
          "output_type": "stream",
          "name": "stderr",
          "text": [
            "\r 78%|███████▊  | 893/1141 [01:34<00:38,  6.44it/s]"
          ]
        },
        {
          "output_type": "stream",
          "name": "stdout",
          "text": [
            "Tr-me_1135.jpg -> Class: meningioma, Confidence: 1.00\n",
            "Moving Tr-me_1135.jpg to BT100/Training/meningioma/20250328_234156_Tr-me_1135.jpg\n",
            "\u001b[1m1/1\u001b[0m \u001b[32m━━━━━━━━━━━━━━━━━━━━\u001b[0m\u001b[37m\u001b[0m \u001b[1m0s\u001b[0m 64ms/step\n"
          ]
        },
        {
          "output_type": "stream",
          "name": "stderr",
          "text": [
            "\r 78%|███████▊  | 894/1141 [01:34<00:38,  6.39it/s]"
          ]
        },
        {
          "output_type": "stream",
          "name": "stdout",
          "text": [
            "Tr-me_0252.jpg -> Class: meningioma, Confidence: 1.00\n",
            "Moving Tr-me_0252.jpg to BT100/Training/meningioma/20250328_234156_Tr-me_0252.jpg\n",
            "\u001b[1m1/1\u001b[0m \u001b[32m━━━━━━━━━━━━━━━━━━━━\u001b[0m\u001b[37m\u001b[0m \u001b[1m0s\u001b[0m 52ms/step\n"
          ]
        },
        {
          "output_type": "stream",
          "name": "stderr",
          "text": [
            "\r 78%|███████▊  | 895/1141 [01:34<00:38,  6.46it/s]"
          ]
        },
        {
          "output_type": "stream",
          "name": "stdout",
          "text": [
            "Tr-me_0056.jpg -> Class: meningioma, Confidence: 1.00\n",
            "Moving Tr-me_0056.jpg to BT100/Training/meningioma/20250328_234156_Tr-me_0056.jpg\n",
            "\u001b[1m1/1\u001b[0m \u001b[32m━━━━━━━━━━━━━━━━━━━━\u001b[0m\u001b[37m\u001b[0m \u001b[1m0s\u001b[0m 62ms/step\n"
          ]
        },
        {
          "output_type": "stream",
          "name": "stderr",
          "text": [
            "\r 79%|███████▊  | 896/1141 [01:34<00:38,  6.37it/s]"
          ]
        },
        {
          "output_type": "stream",
          "name": "stdout",
          "text": [
            "Tr-no_1340.jpg -> Class: notumor, Confidence: 1.00\n",
            "Moving Tr-no_1340.jpg to BT100/Training/notumor/20250328_234156_Tr-no_1340.jpg\n",
            "\u001b[1m1/1\u001b[0m \u001b[32m━━━━━━━━━━━━━━━━━━━━\u001b[0m\u001b[37m\u001b[0m \u001b[1m0s\u001b[0m 53ms/step\n"
          ]
        },
        {
          "output_type": "stream",
          "name": "stderr",
          "text": [
            "\r 79%|███████▊  | 897/1141 [01:34<00:37,  6.47it/s]"
          ]
        },
        {
          "output_type": "stream",
          "name": "stdout",
          "text": [
            "Tr-no_1065.jpg -> Class: notumor, Confidence: 1.00\n",
            "Moving Tr-no_1065.jpg to BT100/Training/notumor/20250328_234156_Tr-no_1065.jpg\n",
            "\u001b[1m1/1\u001b[0m \u001b[32m━━━━━━━━━━━━━━━━━━━━\u001b[0m\u001b[37m\u001b[0m \u001b[1m0s\u001b[0m 55ms/step\n"
          ]
        },
        {
          "output_type": "stream",
          "name": "stderr",
          "text": [
            "\r 79%|███████▊  | 898/1141 [01:35<00:37,  6.54it/s]"
          ]
        },
        {
          "output_type": "stream",
          "name": "stdout",
          "text": [
            "Tr-pi_0723.jpg -> Class: pituitary, Confidence: 1.00\n",
            "Moving Tr-pi_0723.jpg to BT100/Training/pituitary/20250328_234156_Tr-pi_0723.jpg\n",
            "\u001b[1m1/1\u001b[0m \u001b[32m━━━━━━━━━━━━━━━━━━━━\u001b[0m\u001b[37m\u001b[0m \u001b[1m0s\u001b[0m 61ms/step\n"
          ]
        },
        {
          "output_type": "stream",
          "name": "stderr",
          "text": [
            "\r 79%|███████▉  | 899/1141 [01:35<00:37,  6.49it/s]"
          ]
        },
        {
          "output_type": "stream",
          "name": "stdout",
          "text": [
            "Tr-pi_1410.jpg -> Class: pituitary, Confidence: 1.00\n",
            "Moving Tr-pi_1410.jpg to BT100/Training/pituitary/20250328_234157_Tr-pi_1410.jpg\n",
            "\u001b[1m1/1\u001b[0m \u001b[32m━━━━━━━━━━━━━━━━━━━━\u001b[0m\u001b[37m\u001b[0m \u001b[1m0s\u001b[0m 58ms/step\n"
          ]
        },
        {
          "output_type": "stream",
          "name": "stderr",
          "text": [
            "\r 79%|███████▉  | 900/1141 [01:35<00:35,  6.82it/s]"
          ]
        },
        {
          "output_type": "stream",
          "name": "stdout",
          "text": [
            "Tr-pi_0954.jpg -> Class: pituitary, Confidence: 1.00\n",
            "Moving Tr-pi_0954.jpg to BT100/Training/pituitary/20250328_234157_Tr-pi_0954.jpg\n",
            "\u001b[1m1/1\u001b[0m \u001b[32m━━━━━━━━━━━━━━━━━━━━\u001b[0m\u001b[37m\u001b[0m \u001b[1m0s\u001b[0m 50ms/step\n"
          ]
        },
        {
          "output_type": "stream",
          "name": "stderr",
          "text": [
            "\r 79%|███████▉  | 901/1141 [01:35<00:35,  6.84it/s]"
          ]
        },
        {
          "output_type": "stream",
          "name": "stdout",
          "text": [
            "Tr-no_0792.jpg -> Class: notumor, Confidence: 1.00\n",
            "Moving Tr-no_0792.jpg to BT100/Training/notumor/20250328_234157_Tr-no_0792.jpg\n",
            "\u001b[1m1/1\u001b[0m \u001b[32m━━━━━━━━━━━━━━━━━━━━\u001b[0m\u001b[37m\u001b[0m \u001b[1m0s\u001b[0m 35ms/step\n"
          ]
        },
        {
          "output_type": "stream",
          "name": "stderr",
          "text": [
            "\r 79%|███████▉  | 902/1141 [01:35<00:33,  7.14it/s]"
          ]
        },
        {
          "output_type": "stream",
          "name": "stdout",
          "text": [
            "Tr-gl_0923.jpg -> Class: glioma, Confidence: 1.00\n",
            "Moving Tr-gl_0923.jpg to BT100/Training/glioma/20250328_234157_Tr-gl_0923.jpg\n",
            "\u001b[1m1/1\u001b[0m \u001b[32m━━━━━━━━━━━━━━━━━━━━\u001b[0m\u001b[37m\u001b[0m \u001b[1m0s\u001b[0m 36ms/step\n"
          ]
        },
        {
          "output_type": "stream",
          "name": "stderr",
          "text": [
            "\r 79%|███████▉  | 903/1141 [01:35<00:31,  7.50it/s]"
          ]
        },
        {
          "output_type": "stream",
          "name": "stdout",
          "text": [
            "Tr-gl_1271.jpg -> Class: glioma, Confidence: 0.81\n",
            "Moved low-confidence image Tr-gl_1271.jpg to BT100/low_confidence\n",
            "\u001b[1m1/1\u001b[0m \u001b[32m━━━━━━━━━━━━━━━━━━━━\u001b[0m\u001b[37m\u001b[0m \u001b[1m0s\u001b[0m 34ms/step\n",
            "Tr-pi_0328.jpg -> Class: pituitary, Confidence: 1.00\n",
            "Moving Tr-pi_0328.jpg to BT100/Training/pituitary/20250328_234157_Tr-pi_0328.jpg\n",
            "\u001b[1m1/1\u001b[0m \u001b[32m━━━━━━━━━━━━━━━━━━━━\u001b[0m\u001b[37m\u001b[0m \u001b[1m0s\u001b[0m 39ms/step\n"
          ]
        },
        {
          "output_type": "stream",
          "name": "stderr",
          "text": [
            "\r 79%|███████▉  | 905/1141 [01:35<00:26,  8.99it/s]"
          ]
        },
        {
          "output_type": "stream",
          "name": "stdout",
          "text": [
            "Tr-me_0422.jpg -> Class: meningioma, Confidence: 1.00\n",
            "Moving Tr-me_0422.jpg to BT100/Training/meningioma/20250328_234157_Tr-me_0422.jpg\n",
            "\u001b[1m1/1\u001b[0m \u001b[32m━━━━━━━━━━━━━━━━━━━━\u001b[0m\u001b[37m\u001b[0m \u001b[1m0s\u001b[0m 37ms/step\n",
            "Tr-no_0708.jpg -> Class: notumor, Confidence: 1.00\n",
            "Moving Tr-no_0708.jpg to BT100/Training/notumor/20250328_234157_Tr-no_0708.jpg\n",
            "\u001b[1m1/1\u001b[0m \u001b[32m━━━━━━━━━━━━━━━━━━━━\u001b[0m\u001b[37m\u001b[0m \u001b[1m0s\u001b[0m 36ms/step\n"
          ]
        },
        {
          "output_type": "stream",
          "name": "stderr",
          "text": [
            "\r 79%|███████▉  | 907/1141 [01:36<00:25,  9.20it/s]"
          ]
        },
        {
          "output_type": "stream",
          "name": "stdout",
          "text": [
            "Tr-gl_0591.jpg -> Class: glioma, Confidence: 1.00\n",
            "Moving Tr-gl_0591.jpg to BT100/Training/glioma/20250328_234158_Tr-gl_0591.jpg\n",
            "\u001b[1m1/1\u001b[0m \u001b[32m━━━━━━━━━━━━━━━━━━━━\u001b[0m\u001b[37m\u001b[0m \u001b[1m0s\u001b[0m 40ms/step\n",
            "Tr-no_0375.jpg -> Class: notumor, Confidence: 1.00\n",
            "Moving Tr-no_0375.jpg to BT100/Training/notumor/20250328_234158_Tr-no_0375.jpg\n",
            "\u001b[1m1/1\u001b[0m \u001b[32m━━━━━━━━━━━━━━━━━━━━\u001b[0m\u001b[37m\u001b[0m \u001b[1m0s\u001b[0m 40ms/step\n"
          ]
        },
        {
          "output_type": "stream",
          "name": "stderr",
          "text": [
            "\r 80%|███████▉  | 909/1141 [01:36<00:25,  9.26it/s]"
          ]
        },
        {
          "output_type": "stream",
          "name": "stdout",
          "text": [
            "Tr-gl_0897.jpg -> Class: glioma, Confidence: 1.00\n",
            "Moving Tr-gl_0897.jpg to BT100/Training/glioma/20250328_234158_Tr-gl_0897.jpg\n",
            "\u001b[1m1/1\u001b[0m \u001b[32m━━━━━━━━━━━━━━━━━━━━\u001b[0m\u001b[37m\u001b[0m \u001b[1m0s\u001b[0m 49ms/step\n"
          ]
        },
        {
          "output_type": "stream",
          "name": "stderr",
          "text": [
            "\r 80%|███████▉  | 910/1141 [01:36<00:26,  8.83it/s]"
          ]
        },
        {
          "output_type": "stream",
          "name": "stdout",
          "text": [
            "Tr-no_0578.jpg -> Class: notumor, Confidence: 1.00\n",
            "Moving Tr-no_0578.jpg to BT100/Training/notumor/20250328_234158_Tr-no_0578.jpg\n",
            "\u001b[1m1/1\u001b[0m \u001b[32m━━━━━━━━━━━━━━━━━━━━\u001b[0m\u001b[37m\u001b[0m \u001b[1m0s\u001b[0m 34ms/step\n"
          ]
        },
        {
          "output_type": "stream",
          "name": "stderr",
          "text": [
            "\r 80%|███████▉  | 911/1141 [01:36<00:26,  8.69it/s]"
          ]
        },
        {
          "output_type": "stream",
          "name": "stdout",
          "text": [
            "Tr-no_0594.jpg -> Class: notumor, Confidence: 1.00\n",
            "Moving Tr-no_0594.jpg to BT100/Training/notumor/20250328_234158_Tr-no_0594.jpg\n",
            "\u001b[1m1/1\u001b[0m \u001b[32m━━━━━━━━━━━━━━━━━━━━\u001b[0m\u001b[37m\u001b[0m \u001b[1m0s\u001b[0m 33ms/step\n"
          ]
        },
        {
          "output_type": "stream",
          "name": "stderr",
          "text": [
            "\r 80%|███████▉  | 912/1141 [01:36<00:26,  8.64it/s]"
          ]
        },
        {
          "output_type": "stream",
          "name": "stdout",
          "text": [
            "Tr-me_1061.jpg -> Class: meningioma, Confidence: 1.00\n",
            "Moving Tr-me_1061.jpg to BT100/Training/meningioma/20250328_234158_Tr-me_1061.jpg\n",
            "\u001b[1m1/1\u001b[0m \u001b[32m━━━━━━━━━━━━━━━━━━━━\u001b[0m\u001b[37m\u001b[0m \u001b[1m0s\u001b[0m 35ms/step\n",
            "Tr-no_0187.jpg -> Class: notumor, Confidence: 1.00\n",
            "Moving Tr-no_0187.jpg to BT100/Training/notumor/20250328_234158_Tr-no_0187.jpg\n",
            "\u001b[1m1/1\u001b[0m \u001b[32m━━━━━━━━━━━━━━━━━━━━\u001b[0m\u001b[37m\u001b[0m \u001b[1m0s\u001b[0m 35ms/step\n"
          ]
        },
        {
          "output_type": "stream",
          "name": "stderr",
          "text": [
            "\r 80%|████████  | 914/1141 [01:36<00:25,  9.04it/s]"
          ]
        },
        {
          "output_type": "stream",
          "name": "stdout",
          "text": [
            "Tr-gl_0310.jpg -> Class: glioma, Confidence: 1.00\n",
            "Moving Tr-gl_0310.jpg to BT100/Training/glioma/20250328_234158_Tr-gl_0310.jpg\n",
            "\u001b[1m1/1\u001b[0m \u001b[32m━━━━━━━━━━━━━━━━━━━━\u001b[0m\u001b[37m\u001b[0m \u001b[1m0s\u001b[0m 43ms/step\n"
          ]
        },
        {
          "output_type": "stream",
          "name": "stderr",
          "text": [
            "\r 80%|████████  | 915/1141 [01:37<00:25,  8.81it/s]"
          ]
        },
        {
          "output_type": "stream",
          "name": "stdout",
          "text": [
            "Tr-me_0843.jpg -> Class: meningioma, Confidence: 1.00\n",
            "Moving Tr-me_0843.jpg to BT100/Training/meningioma/20250328_234158_Tr-me_0843.jpg\n",
            "\u001b[1m1/1\u001b[0m \u001b[32m━━━━━━━━━━━━━━━━━━━━\u001b[0m\u001b[37m\u001b[0m \u001b[1m0s\u001b[0m 42ms/step\n",
            "Tr-pi_0525.jpg -> Class: pituitary, Confidence: 1.00\n",
            "Moving Tr-pi_0525.jpg to BT100/Training/pituitary/20250328_234159_Tr-pi_0525.jpg\n",
            "\u001b[1m1/1\u001b[0m \u001b[32m━━━━━━━━━━━━━━━━━━━━\u001b[0m\u001b[37m\u001b[0m \u001b[1m0s\u001b[0m 45ms/step\n"
          ]
        },
        {
          "output_type": "stream",
          "name": "stderr",
          "text": [
            "\r 80%|████████  | 917/1141 [01:37<00:24,  9.02it/s]"
          ]
        },
        {
          "output_type": "stream",
          "name": "stdout",
          "text": [
            "Tr-pi_0750.jpg -> Class: pituitary, Confidence: 1.00\n",
            "Moving Tr-pi_0750.jpg to BT100/Training/pituitary/20250328_234159_Tr-pi_0750.jpg\n",
            "\u001b[1m1/1\u001b[0m \u001b[32m━━━━━━━━━━━━━━━━━━━━\u001b[0m\u001b[37m\u001b[0m \u001b[1m0s\u001b[0m 45ms/step\n"
          ]
        },
        {
          "output_type": "stream",
          "name": "stderr",
          "text": [
            "\r 80%|████████  | 918/1141 [01:37<00:25,  8.64it/s]"
          ]
        },
        {
          "output_type": "stream",
          "name": "stdout",
          "text": [
            "Tr-me_1060.jpg -> Class: glioma, Confidence: 0.59\n",
            "Moved low-confidence image Tr-me_1060.jpg to BT100/low_confidence\n",
            "\u001b[1m1/1\u001b[0m \u001b[32m━━━━━━━━━━━━━━━━━━━━\u001b[0m\u001b[37m\u001b[0m \u001b[1m0s\u001b[0m 37ms/step\n"
          ]
        },
        {
          "output_type": "stream",
          "name": "stderr",
          "text": [
            "\r 81%|████████  | 919/1141 [01:37<00:26,  8.50it/s]"
          ]
        },
        {
          "output_type": "stream",
          "name": "stdout",
          "text": [
            "Tr-pi_1362.jpg -> Class: pituitary, Confidence: 1.00\n",
            "Moving Tr-pi_1362.jpg to BT100/Training/pituitary/20250328_234159_Tr-pi_1362.jpg\n",
            "\u001b[1m1/1\u001b[0m \u001b[32m━━━━━━━━━━━━━━━━━━━━\u001b[0m\u001b[37m\u001b[0m \u001b[1m0s\u001b[0m 35ms/step\n",
            "Tr-gl_1225.jpg -> Class: meningioma, Confidence: 0.87\n",
            "Moved low-confidence image Tr-gl_1225.jpg to BT100/low_confidence\n",
            "\u001b[1m1/1\u001b[0m \u001b[32m━━━━━━━━━━━━━━━━━━━━\u001b[0m\u001b[37m\u001b[0m \u001b[1m0s\u001b[0m 35ms/step\n"
          ]
        },
        {
          "output_type": "stream",
          "name": "stderr",
          "text": [
            "\r 81%|████████  | 921/1141 [01:37<00:22,  9.86it/s]"
          ]
        },
        {
          "output_type": "stream",
          "name": "stdout",
          "text": [
            "Tr-gl_1215.jpg -> Class: meningioma, Confidence: 1.00\n",
            "Moving Tr-gl_1215.jpg to BT100/Training/meningioma/20250328_234159_Tr-gl_1215.jpg\n",
            "\u001b[1m1/1\u001b[0m \u001b[32m━━━━━━━━━━━━━━━━━━━━\u001b[0m\u001b[37m\u001b[0m \u001b[1m0s\u001b[0m 33ms/step\n",
            "Tr-no_1373.jpg -> Class: notumor, Confidence: 1.00\n",
            "Moving Tr-no_1373.jpg to BT100/Training/notumor/20250328_234159_Tr-no_1373.jpg\n",
            "\u001b[1m1/1\u001b[0m \u001b[32m━━━━━━━━━━━━━━━━━━━━\u001b[0m\u001b[37m\u001b[0m \u001b[1m0s\u001b[0m 34ms/step\n",
            "Tr-no_1171.jpg -> Class: notumor, Confidence: 1.00"
          ]
        },
        {
          "output_type": "stream",
          "name": "stderr",
          "text": [
            "\r 81%|████████  | 923/1141 [01:37<00:22,  9.89it/s]"
          ]
        },
        {
          "output_type": "stream",
          "name": "stdout",
          "text": [
            "\n",
            "Moving Tr-no_1171.jpg to BT100/Training/notumor/20250328_234159_Tr-no_1171.jpg\n",
            "\u001b[1m1/1\u001b[0m \u001b[32m━━━━━━━━━━━━━━━━━━━━\u001b[0m\u001b[37m\u001b[0m \u001b[1m0s\u001b[0m 34ms/step\n"
          ]
        },
        {
          "output_type": "stream",
          "name": "stderr",
          "text": [
            "\r 81%|████████  | 924/1141 [01:37<00:22,  9.51it/s]"
          ]
        },
        {
          "output_type": "stream",
          "name": "stdout",
          "text": [
            "Tr-no_0344.jpg -> Class: notumor, Confidence: 1.00\n",
            "Moving Tr-no_0344.jpg to BT100/Training/notumor/20250328_234159_Tr-no_0344.jpg\n",
            "\u001b[1m1/1\u001b[0m \u001b[32m━━━━━━━━━━━━━━━━━━━━\u001b[0m\u001b[37m\u001b[0m \u001b[1m0s\u001b[0m 33ms/step\n"
          ]
        },
        {
          "output_type": "stream",
          "name": "stderr",
          "text": [
            "\r 81%|████████  | 925/1141 [01:38<00:23,  9.21it/s]"
          ]
        },
        {
          "output_type": "stream",
          "name": "stdout",
          "text": [
            "Tr-no_0971.jpg -> Class: notumor, Confidence: 1.00\n",
            "Moving Tr-no_0971.jpg to BT100/Training/notumor/20250328_234200_Tr-no_0971.jpg\n",
            "\u001b[1m1/1\u001b[0m \u001b[32m━━━━━━━━━━━━━━━━━━━━\u001b[0m\u001b[37m\u001b[0m \u001b[1m0s\u001b[0m 41ms/step\n",
            "Tr-me_0012.jpg -> Class: meningioma, Confidence: 1.00\n",
            "Moving Tr-me_0012.jpg to BT100/Training/meningioma/20250328_234200_Tr-me_0012.jpg\n",
            "\u001b[1m1/1\u001b[0m \u001b[32m━━━━━━━━━━━━━━━━━━━━\u001b[0m\u001b[37m\u001b[0m \u001b[1m0s\u001b[0m 41ms/step\n"
          ]
        },
        {
          "output_type": "stream",
          "name": "stderr",
          "text": [
            "\r 81%|████████  | 927/1141 [01:38<00:23,  9.18it/s]"
          ]
        },
        {
          "output_type": "stream",
          "name": "stdout",
          "text": [
            "Tr-no_1139.jpg -> Class: notumor, Confidence: 1.00\n",
            "Moving Tr-no_1139.jpg to BT100/Training/notumor/20250328_234200_Tr-no_1139.jpg\n",
            "\u001b[1m1/1\u001b[0m \u001b[32m━━━━━━━━━━━━━━━━━━━━\u001b[0m\u001b[37m\u001b[0m \u001b[1m0s\u001b[0m 46ms/step\n"
          ]
        },
        {
          "output_type": "stream",
          "name": "stderr",
          "text": [
            "\r 81%|████████▏ | 928/1141 [01:38<00:24,  8.68it/s]"
          ]
        },
        {
          "output_type": "stream",
          "name": "stdout",
          "text": [
            "Tr-pi_0797.jpg -> Class: pituitary, Confidence: 1.00\n",
            "Moving Tr-pi_0797.jpg to BT100/Training/pituitary/20250328_234200_Tr-pi_0797.jpg\n",
            "\u001b[1m1/1\u001b[0m \u001b[32m━━━━━━━━━━━━━━━━━━━━\u001b[0m\u001b[37m\u001b[0m \u001b[1m0s\u001b[0m 40ms/step\n",
            "Tr-pi_1053.jpg -> Class: pituitary, Confidence: 1.00\n",
            "Moving Tr-pi_1053.jpg to BT100/Training/pituitary/20250328_234200_Tr-pi_1053.jpg\n",
            "\u001b[1m1/1\u001b[0m \u001b[32m━━━━━━━━━━━━━━━━━━━━\u001b[0m\u001b[37m\u001b[0m \u001b[1m0s\u001b[0m 45ms/step\n"
          ]
        },
        {
          "output_type": "stream",
          "name": "stderr",
          "text": [
            "\r 82%|████████▏ | 930/1141 [01:38<00:23,  9.01it/s]"
          ]
        },
        {
          "output_type": "stream",
          "name": "stdout",
          "text": [
            "Tr-gl_0643.jpg -> Class: glioma, Confidence: 1.00\n",
            "Moving Tr-gl_0643.jpg to BT100/Training/glioma/20250328_234200_Tr-gl_0643.jpg\n",
            "\u001b[1m1/1\u001b[0m \u001b[32m━━━━━━━━━━━━━━━━━━━━\u001b[0m\u001b[37m\u001b[0m \u001b[1m0s\u001b[0m 36ms/step\n"
          ]
        },
        {
          "output_type": "stream",
          "name": "stderr",
          "text": [
            "\r 82%|████████▏ | 931/1141 [01:38<00:23,  8.98it/s]"
          ]
        },
        {
          "output_type": "stream",
          "name": "stdout",
          "text": [
            "Tr-pi_1408.jpg -> Class: pituitary, Confidence: 1.00\n",
            "Moving Tr-pi_1408.jpg to BT100/Training/pituitary/20250328_234200_Tr-pi_1408.jpg\n",
            "\u001b[1m1/1\u001b[0m \u001b[32m━━━━━━━━━━━━━━━━━━━━\u001b[0m\u001b[37m\u001b[0m \u001b[1m0s\u001b[0m 40ms/step\n",
            "Tr-no_0905.jpg -> Class: notumor, Confidence: 1.00\n",
            "Moving Tr-no_0905.jpg to BT100/Training/notumor/20250328_234200_Tr-no_0905.jpg\n",
            "\u001b[1m1/1\u001b[0m \u001b[32m━━━━━━━━━━━━━━━━━━━━\u001b[0m\u001b[37m\u001b[0m \u001b[1m0s\u001b[0m 36ms/step\n"
          ]
        },
        {
          "output_type": "stream",
          "name": "stderr",
          "text": [
            "\r 82%|████████▏ | 933/1141 [01:38<00:22,  9.29it/s]"
          ]
        },
        {
          "output_type": "stream",
          "name": "stdout",
          "text": [
            "Tr-pi_0904.jpg -> Class: pituitary, Confidence: 1.00\n",
            "Moving Tr-pi_0904.jpg to BT100/Training/pituitary/20250328_234200_Tr-pi_0904.jpg\n",
            "\u001b[1m1/1\u001b[0m \u001b[32m━━━━━━━━━━━━━━━━━━━━\u001b[0m\u001b[37m\u001b[0m \u001b[1m0s\u001b[0m 40ms/step\n",
            "Tr-pi_0018.jpg -> Class: pituitary, Confidence: 1.00\n",
            "Moving Tr-pi_0018.jpg to BT100/Training/pituitary/20250328_234200_Tr-pi_0018.jpg\n",
            "\u001b[1m1/1\u001b[0m \u001b[32m━━━━━━━━━━━━━━━━━━━━\u001b[0m\u001b[37m\u001b[0m \u001b[1m0s\u001b[0m 40ms/step\n"
          ]
        },
        {
          "output_type": "stream",
          "name": "stderr",
          "text": [
            "\r 82%|████████▏ | 935/1141 [01:39<00:21,  9.38it/s]"
          ]
        },
        {
          "output_type": "stream",
          "name": "stdout",
          "text": [
            "Tr-me_0110.jpg -> Class: meningioma, Confidence: 1.00\n",
            "Moving Tr-me_0110.jpg to BT100/Training/meningioma/20250328_234201_Tr-me_0110.jpg\n",
            "\u001b[1m1/1\u001b[0m \u001b[32m━━━━━━━━━━━━━━━━━━━━\u001b[0m\u001b[37m\u001b[0m \u001b[1m0s\u001b[0m 39ms/step\n",
            "Tr-gl_0745.jpg -> Class: glioma, Confidence: 1.00\n",
            "Moving Tr-gl_0745.jpg to BT100/Training/glioma/20250328_234201_Tr-gl_0745.jpg\n",
            "\u001b[1m1/1\u001b[0m \u001b[32m━━━━━━━━━━━━━━━━━━━━\u001b[0m\u001b[37m\u001b[0m \u001b[1m0s\u001b[0m 51ms/step\n"
          ]
        },
        {
          "output_type": "stream",
          "name": "stderr",
          "text": [
            "\r 82%|████████▏ | 937/1141 [01:39<00:21,  9.32it/s]"
          ]
        },
        {
          "output_type": "stream",
          "name": "stdout",
          "text": [
            "Tr-no_1100.jpg -> Class: notumor, Confidence: 1.00\n",
            "Moving Tr-no_1100.jpg to BT100/Training/notumor/20250328_234201_Tr-no_1100.jpg\n",
            "\u001b[1m1/1\u001b[0m \u001b[32m━━━━━━━━━━━━━━━━━━━━\u001b[0m\u001b[37m\u001b[0m \u001b[1m0s\u001b[0m 39ms/step\n"
          ]
        },
        {
          "output_type": "stream",
          "name": "stderr",
          "text": [
            "\r 82%|████████▏ | 938/1141 [01:39<00:22,  9.06it/s]"
          ]
        },
        {
          "output_type": "stream",
          "name": "stdout",
          "text": [
            "Tr-gl_0223.jpg -> Class: pituitary, Confidence: 0.79\n",
            "Moved low-confidence image Tr-gl_0223.jpg to BT100/low_confidence\n",
            "\u001b[1m1/1\u001b[0m \u001b[32m━━━━━━━━━━━━━━━━━━━━\u001b[0m\u001b[37m\u001b[0m \u001b[1m0s\u001b[0m 36ms/step\n"
          ]
        },
        {
          "output_type": "stream",
          "name": "stderr",
          "text": [
            "\r 82%|████████▏ | 939/1141 [01:39<00:22,  8.81it/s]"
          ]
        },
        {
          "output_type": "stream",
          "name": "stdout",
          "text": [
            "Tr-no_0158.jpg -> Class: notumor, Confidence: 1.00\n",
            "Moving Tr-no_0158.jpg to BT100/Training/notumor/20250328_234201_Tr-no_0158.jpg\n",
            "\u001b[1m1/1\u001b[0m \u001b[32m━━━━━━━━━━━━━━━━━━━━\u001b[0m\u001b[37m\u001b[0m \u001b[1m0s\u001b[0m 36ms/step\n"
          ]
        },
        {
          "output_type": "stream",
          "name": "stderr",
          "text": [
            "\r 82%|████████▏ | 940/1141 [01:39<00:23,  8.71it/s]"
          ]
        },
        {
          "output_type": "stream",
          "name": "stdout",
          "text": [
            "Tr-pi_1033.jpg -> Class: pituitary, Confidence: 1.00\n",
            "Moving Tr-pi_1033.jpg to BT100/Training/pituitary/20250328_234201_Tr-pi_1033.jpg\n",
            "\u001b[1m1/1\u001b[0m \u001b[32m━━━━━━━━━━━━━━━━━━━━\u001b[0m\u001b[37m\u001b[0m \u001b[1m0s\u001b[0m 36ms/step\n",
            "Tr-gl_0032.jpg -> Class: glioma, Confidence: 1.00\n",
            "Moving Tr-gl_0032.jpg to BT100/Training/glioma/20250328_234201_Tr-gl_0032.jpg\n",
            "\u001b[1m1/1\u001b[0m \u001b[32m━━━━━━━━━━━━━━━━━━━━\u001b[0m\u001b[37m\u001b[0m \u001b[1m0s\u001b[0m 37ms/step\n"
          ]
        },
        {
          "output_type": "stream",
          "name": "stderr",
          "text": [
            "\r 83%|████████▎ | 942/1141 [01:39<00:20,  9.84it/s]"
          ]
        },
        {
          "output_type": "stream",
          "name": "stdout",
          "text": [
            "Tr-no_0081.jpg -> Class: notumor, Confidence: 0.99\n",
            "Moving Tr-no_0081.jpg to BT100/Training/notumor/20250328_234201_Tr-no_0081.jpg\n",
            "\u001b[1m1/1\u001b[0m \u001b[32m━━━━━━━━━━━━━━━━━━━━\u001b[0m\u001b[37m\u001b[0m \u001b[1m0s\u001b[0m 44ms/step\n",
            "Tr-pi_0730.jpg -> Class: pituitary, Confidence: 1.00\n",
            "Moving Tr-pi_0730.jpg to BT100/Training/pituitary/20250328_234201_Tr-pi_0730.jpg\n",
            "\u001b[1m1/1\u001b[0m \u001b[32m━━━━━━━━━━━━━━━━━━━━\u001b[0m\u001b[37m\u001b[0m \u001b[1m0s\u001b[0m 37ms/step\n"
          ]
        },
        {
          "output_type": "stream",
          "name": "stderr",
          "text": [
            "\r 83%|████████▎ | 944/1141 [01:40<00:20,  9.57it/s]"
          ]
        },
        {
          "output_type": "stream",
          "name": "stdout",
          "text": [
            "Tr-no_0102.jpg -> Class: notumor, Confidence: 1.00\n",
            "Moving Tr-no_0102.jpg to BT100/Training/notumor/20250328_234202_Tr-no_0102.jpg\n",
            "\u001b[1m1/1\u001b[0m \u001b[32m━━━━━━━━━━━━━━━━━━━━\u001b[0m\u001b[37m\u001b[0m \u001b[1m0s\u001b[0m 40ms/step\n"
          ]
        },
        {
          "output_type": "stream",
          "name": "stderr",
          "text": [
            "\r 83%|████████▎ | 945/1141 [01:40<00:20,  9.38it/s]"
          ]
        },
        {
          "output_type": "stream",
          "name": "stdout",
          "text": [
            "Tr-no_0454.jpg -> Class: notumor, Confidence: 1.00\n",
            "Moving Tr-no_0454.jpg to BT100/Training/notumor/20250328_234202_Tr-no_0454.jpg\n",
            "\u001b[1m1/1\u001b[0m \u001b[32m━━━━━━━━━━━━━━━━━━━━\u001b[0m\u001b[37m\u001b[0m \u001b[1m0s\u001b[0m 52ms/step\n"
          ]
        },
        {
          "output_type": "stream",
          "name": "stderr",
          "text": [
            "\r 83%|████████▎ | 946/1141 [01:40<00:21,  9.08it/s]"
          ]
        },
        {
          "output_type": "stream",
          "name": "stdout",
          "text": [
            "Tr-gl_1106.jpg -> Class: glioma, Confidence: 1.00\n",
            "Moving Tr-gl_1106.jpg to BT100/Training/glioma/20250328_234202_Tr-gl_1106.jpg\n",
            "\u001b[1m1/1\u001b[0m \u001b[32m━━━━━━━━━━━━━━━━━━━━\u001b[0m\u001b[37m\u001b[0m \u001b[1m0s\u001b[0m 35ms/step\n",
            "Tr-me_0485.jpg -> Class: meningioma, Confidence: 1.00\n",
            "Moving Tr-me_0485.jpg to BT100/Training/meningioma/20250328_234202_Tr-me_0485.jpg\n",
            "\u001b[1m1/1\u001b[0m \u001b[32m━━━━━━━━━━━━━━━━━━━━\u001b[0m\u001b[37m\u001b[0m \u001b[1m0s\u001b[0m 35ms/step\n"
          ]
        },
        {
          "output_type": "stream",
          "name": "stderr",
          "text": [
            "\r 83%|████████▎ | 948/1141 [01:40<00:20,  9.41it/s]"
          ]
        },
        {
          "output_type": "stream",
          "name": "stdout",
          "text": [
            "Tr-me_0275.jpg -> Class: meningioma, Confidence: 1.00\n",
            "Moving Tr-me_0275.jpg to BT100/Training/meningioma/20250328_234202_Tr-me_0275.jpg\n",
            "\u001b[1m1/1\u001b[0m \u001b[32m━━━━━━━━━━━━━━━━━━━━\u001b[0m\u001b[37m\u001b[0m \u001b[1m0s\u001b[0m 39ms/step\n"
          ]
        },
        {
          "output_type": "stream",
          "name": "stderr",
          "text": [
            "\r 83%|████████▎ | 949/1141 [01:40<00:20,  9.18it/s]"
          ]
        },
        {
          "output_type": "stream",
          "name": "stdout",
          "text": [
            "Tr-pi_0286.jpg -> Class: pituitary, Confidence: 1.00\n",
            "Moving Tr-pi_0286.jpg to BT100/Training/pituitary/20250328_234202_Tr-pi_0286.jpg\n",
            "\u001b[1m1/1\u001b[0m \u001b[32m━━━━━━━━━━━━━━━━━━━━\u001b[0m\u001b[37m\u001b[0m \u001b[1m0s\u001b[0m 41ms/step\n"
          ]
        },
        {
          "output_type": "stream",
          "name": "stderr",
          "text": [
            "\r 83%|████████▎ | 950/1141 [01:40<00:21,  8.88it/s]"
          ]
        },
        {
          "output_type": "stream",
          "name": "stdout",
          "text": [
            "Tr-no_0700.jpg -> Class: notumor, Confidence: 1.00\n",
            "Moving Tr-no_0700.jpg to BT100/Training/notumor/20250328_234202_Tr-no_0700.jpg\n",
            "\u001b[1m1/1\u001b[0m \u001b[32m━━━━━━━━━━━━━━━━━━━━\u001b[0m\u001b[37m\u001b[0m \u001b[1m0s\u001b[0m 40ms/step\n",
            "Tr-pi_0802.jpg -> Class: pituitary, Confidence: 1.00\n",
            "Moving Tr-pi_0802.jpg to BT100/Training/pituitary/20250328_234202_Tr-pi_0802.jpg\n",
            "\u001b[1m1/1\u001b[0m \u001b[32m━━━━━━━━━━━━━━━━━━━━\u001b[0m\u001b[37m\u001b[0m \u001b[1m0s\u001b[0m 45ms/step\n"
          ]
        },
        {
          "output_type": "stream",
          "name": "stderr",
          "text": [
            "\r 83%|████████▎ | 952/1141 [01:41<00:19,  9.69it/s]"
          ]
        },
        {
          "output_type": "stream",
          "name": "stdout",
          "text": [
            "Tr-gl_0236.jpg -> Class: glioma, Confidence: 1.00\n",
            "Moving Tr-gl_0236.jpg to BT100/Training/glioma/20250328_234202_Tr-gl_0236.jpg\n",
            "\u001b[1m1/1\u001b[0m \u001b[32m━━━━━━━━━━━━━━━━━━━━\u001b[0m\u001b[37m\u001b[0m \u001b[1m0s\u001b[0m 40ms/step\n"
          ]
        },
        {
          "output_type": "stream",
          "name": "stderr",
          "text": [
            "\r 84%|████████▎ | 953/1141 [01:41<00:20,  9.17it/s]"
          ]
        },
        {
          "output_type": "stream",
          "name": "stdout",
          "text": [
            "Tr-gl_0987.jpg -> Class: glioma, Confidence: 1.00\n",
            "Moving Tr-gl_0987.jpg to BT100/Training/glioma/20250328_234203_Tr-gl_0987.jpg\n",
            "\u001b[1m1/1\u001b[0m \u001b[32m━━━━━━━━━━━━━━━━━━━━\u001b[0m\u001b[37m\u001b[0m \u001b[1m0s\u001b[0m 40ms/step\n"
          ]
        },
        {
          "output_type": "stream",
          "name": "stderr",
          "text": [
            "\r 84%|████████▎ | 954/1141 [01:41<00:21,  8.80it/s]"
          ]
        },
        {
          "output_type": "stream",
          "name": "stdout",
          "text": [
            "Tr-pi_0082.jpg -> Class: pituitary, Confidence: 1.00\n",
            "Moving Tr-pi_0082.jpg to BT100/Training/pituitary/20250328_234203_Tr-pi_0082.jpg\n",
            "\u001b[1m1/1\u001b[0m \u001b[32m━━━━━━━━━━━━━━━━━━━━\u001b[0m\u001b[37m\u001b[0m \u001b[1m0s\u001b[0m 43ms/step\n",
            "Tr-me_1318.jpg -> Class: meningioma, Confidence: 1.00\n",
            "Moving Tr-me_1318.jpg to BT100/Training/meningioma/20250328_234203_Tr-me_1318.jpg\n",
            "\u001b[1m1/1\u001b[0m \u001b[32m━━━━━━━━━━━━━━━━━━━━\u001b[0m\u001b[37m\u001b[0m \u001b[1m0s\u001b[0m 39ms/step\n"
          ]
        },
        {
          "output_type": "stream",
          "name": "stderr",
          "text": [
            "\r 84%|████████▍ | 956/1141 [01:41<00:21,  8.77it/s]"
          ]
        },
        {
          "output_type": "stream",
          "name": "stdout",
          "text": [
            "Tr-pi_1443.jpg -> Class: pituitary, Confidence: 1.00\n",
            "Moving Tr-pi_1443.jpg to BT100/Training/pituitary/20250328_234203_Tr-pi_1443.jpg\n",
            "\u001b[1m1/1\u001b[0m \u001b[32m━━━━━━━━━━━━━━━━━━━━\u001b[0m\u001b[37m\u001b[0m \u001b[1m0s\u001b[0m 40ms/step\n"
          ]
        },
        {
          "output_type": "stream",
          "name": "stderr",
          "text": [
            "\r 84%|████████▍ | 957/1141 [01:41<00:21,  8.63it/s]"
          ]
        },
        {
          "output_type": "stream",
          "name": "stdout",
          "text": [
            "Tr-me_0617.jpg -> Class: meningioma, Confidence: 1.00\n",
            "Moving Tr-me_0617.jpg to BT100/Training/meningioma/20250328_234203_Tr-me_0617.jpg\n",
            "\u001b[1m1/1\u001b[0m \u001b[32m━━━━━━━━━━━━━━━━━━━━\u001b[0m\u001b[37m\u001b[0m \u001b[1m0s\u001b[0m 35ms/step\n"
          ]
        },
        {
          "output_type": "stream",
          "name": "stderr",
          "text": [
            "\r 84%|████████▍ | 958/1141 [01:41<00:21,  8.53it/s]"
          ]
        },
        {
          "output_type": "stream",
          "name": "stdout",
          "text": [
            "Tr-me_0299.jpg -> Class: meningioma, Confidence: 0.96\n",
            "Moved low-confidence image Tr-me_0299.jpg to BT100/low_confidence\n",
            "\u001b[1m1/1\u001b[0m \u001b[32m━━━━━━━━━━━━━━━━━━━━\u001b[0m\u001b[37m\u001b[0m \u001b[1m0s\u001b[0m 35ms/step\n",
            "Tr-gl_0274.jpg -> Class: glioma, Confidence: 1.00\n",
            "Moving Tr-gl_0274.jpg to BT100/Training/glioma/20250328_234203_Tr-gl_0274.jpg\n",
            "\u001b[1m1/1\u001b[0m \u001b[32m━━━━━━━━━━━━━━━━━━━━\u001b[0m\u001b[37m\u001b[0m \u001b[1m0s\u001b[0m 37ms/step\n"
          ]
        },
        {
          "output_type": "stream",
          "name": "stderr",
          "text": [
            "\r 84%|████████▍ | 960/1141 [01:41<00:19,  9.11it/s]"
          ]
        },
        {
          "output_type": "stream",
          "name": "stdout",
          "text": [
            "Tr-gl_0706.jpg -> Class: glioma, Confidence: 1.00\n",
            "Moving Tr-gl_0706.jpg to BT100/Training/glioma/20250328_234203_Tr-gl_0706.jpg\n",
            "\u001b[1m1/1\u001b[0m \u001b[32m━━━━━━━━━━━━━━━━━━━━\u001b[0m\u001b[37m\u001b[0m \u001b[1m0s\u001b[0m 37ms/step\n",
            "Tr-gl_0446.jpg -> Class: glioma, Confidence: 1.00\n",
            "Moving Tr-gl_0446.jpg to BT100/Training/glioma/20250328_234203_Tr-gl_0446.jpg\n",
            "\u001b[1m1/1\u001b[0m \u001b[32m━━━━━━━━━━━━━━━━━━━━\u001b[0m\u001b[37m\u001b[0m \u001b[1m0s\u001b[0m 35ms/step\n"
          ]
        },
        {
          "output_type": "stream",
          "name": "stderr",
          "text": [
            "\r 84%|████████▍ | 962/1141 [01:42<00:17,  9.98it/s]"
          ]
        },
        {
          "output_type": "stream",
          "name": "stdout",
          "text": [
            "Tr-no_1299.jpg -> Class: notumor, Confidence: 1.00\n",
            "Moving Tr-no_1299.jpg to BT100/Training/notumor/20250328_234204_Tr-no_1299.jpg\n",
            "\u001b[1m1/1\u001b[0m \u001b[32m━━━━━━━━━━━━━━━━━━━━\u001b[0m\u001b[37m\u001b[0m \u001b[1m0s\u001b[0m 39ms/step\n"
          ]
        },
        {
          "output_type": "stream",
          "name": "stderr",
          "text": [
            "\r 84%|████████▍ | 963/1141 [01:42<00:18,  9.42it/s]"
          ]
        },
        {
          "output_type": "stream",
          "name": "stdout",
          "text": [
            "Tr-pi_0105.jpg -> Class: pituitary, Confidence: 1.00\n",
            "Moving Tr-pi_0105.jpg to BT100/Training/pituitary/20250328_234204_Tr-pi_0105.jpg\n",
            "\u001b[1m1/1\u001b[0m \u001b[32m━━━━━━━━━━━━━━━━━━━━\u001b[0m\u001b[37m\u001b[0m \u001b[1m0s\u001b[0m 42ms/step\n"
          ]
        },
        {
          "output_type": "stream",
          "name": "stderr",
          "text": [
            "\r 84%|████████▍ | 964/1141 [01:42<00:19,  9.04it/s]"
          ]
        },
        {
          "output_type": "stream",
          "name": "stdout",
          "text": [
            "Tr-me_0343.jpg -> Class: meningioma, Confidence: 1.00\n",
            "Moving Tr-me_0343.jpg to BT100/Training/meningioma/20250328_234204_Tr-me_0343.jpg\n",
            "\u001b[1m1/1\u001b[0m \u001b[32m━━━━━━━━━━━━━━━━━━━━\u001b[0m\u001b[37m\u001b[0m \u001b[1m0s\u001b[0m 44ms/step\n"
          ]
        },
        {
          "output_type": "stream",
          "name": "stderr",
          "text": [
            "\r 85%|████████▍ | 965/1141 [01:42<00:20,  8.54it/s]"
          ]
        },
        {
          "output_type": "stream",
          "name": "stdout",
          "text": [
            "Tr-gl_0065.jpg -> Class: glioma, Confidence: 1.00\n",
            "Moving Tr-gl_0065.jpg to BT100/Training/glioma/20250328_234204_Tr-gl_0065.jpg\n",
            "\u001b[1m1/1\u001b[0m \u001b[32m━━━━━━━━━━━━━━━━━━━━\u001b[0m\u001b[37m\u001b[0m \u001b[1m0s\u001b[0m 37ms/step\n",
            "Tr-gl_1229.jpg -> Class: glioma, Confidence: 1.00\n",
            "Moving Tr-gl_1229.jpg to BT100/Training/glioma/20250328_234204_Tr-gl_1229.jpg\n",
            "\u001b[1m1/1\u001b[0m \u001b[32m━━━━━━━━━━━━━━━━━━━━\u001b[0m\u001b[37m\u001b[0m \u001b[1m0s\u001b[0m 35ms/step\n"
          ]
        },
        {
          "output_type": "stream",
          "name": "stderr",
          "text": [
            "\r 85%|████████▍ | 967/1141 [01:42<00:19,  9.12it/s]"
          ]
        },
        {
          "output_type": "stream",
          "name": "stdout",
          "text": [
            "Tr-no_0245.jpg -> Class: notumor, Confidence: 1.00\n",
            "Moving Tr-no_0245.jpg to BT100/Training/notumor/20250328_234204_Tr-no_0245.jpg\n",
            "\u001b[1m1/1\u001b[0m \u001b[32m━━━━━━━━━━━━━━━━━━━━\u001b[0m\u001b[37m\u001b[0m \u001b[1m0s\u001b[0m 35ms/step\n"
          ]
        },
        {
          "output_type": "stream",
          "name": "stderr",
          "text": [
            "\r 85%|████████▍ | 968/1141 [01:42<00:19,  8.97it/s]"
          ]
        },
        {
          "output_type": "stream",
          "name": "stdout",
          "text": [
            "Tr-no_0710.jpg -> Class: notumor, Confidence: 1.00\n",
            "Moving Tr-no_0710.jpg to BT100/Training/notumor/20250328_234204_Tr-no_0710.jpg\n",
            "\u001b[1m1/1\u001b[0m \u001b[32m━━━━━━━━━━━━━━━━━━━━\u001b[0m\u001b[37m\u001b[0m \u001b[1m0s\u001b[0m 41ms/step\n",
            "Tr-no_1099.jpg -> Class: notumor, Confidence: 1.00\n",
            "Moving Tr-no_1099.jpg to BT100/Training/notumor/20250328_234204_Tr-no_1099.jpg\n",
            "\u001b[1m1/1\u001b[0m \u001b[32m━━━━━━━━━━━━━━━━━━━━\u001b[0m\u001b[37m\u001b[0m \u001b[1m0s\u001b[0m 33ms/step\n",
            "Tr-no_0768.jpg -> Class: notumor, Confidence: 1.00\n",
            "Moving Tr-no_0768.jpg to BT100/Training/notumor/20250328_234204_Tr-no_0768.jpg\n"
          ]
        },
        {
          "output_type": "stream",
          "name": "stderr",
          "text": [
            "\r 85%|████████▌ | 970/1141 [01:42<00:16, 10.10it/s]"
          ]
        },
        {
          "output_type": "stream",
          "name": "stdout",
          "text": [
            "\u001b[1m1/1\u001b[0m \u001b[32m━━━━━━━━━━━━━━━━━━━━\u001b[0m\u001b[37m\u001b[0m \u001b[1m0s\u001b[0m 35ms/step\n"
          ]
        },
        {
          "output_type": "stream",
          "name": "stderr",
          "text": [
            "\r 85%|████████▌ | 971/1141 [01:43<00:17,  9.54it/s]"
          ]
        },
        {
          "output_type": "stream",
          "name": "stdout",
          "text": [
            "Tr-gl_0408.jpg -> Class: glioma, Confidence: 1.00\n",
            "Moving Tr-gl_0408.jpg to BT100/Training/glioma/20250328_234205_Tr-gl_0408.jpg\n",
            "\u001b[1m1/1\u001b[0m \u001b[32m━━━━━━━━━━━━━━━━━━━━\u001b[0m\u001b[37m\u001b[0m \u001b[1m0s\u001b[0m 42ms/step\n"
          ]
        },
        {
          "output_type": "stream",
          "name": "stderr",
          "text": [
            "\r 85%|████████▌ | 972/1141 [01:43<00:18,  9.16it/s]"
          ]
        },
        {
          "output_type": "stream",
          "name": "stdout",
          "text": [
            "Tr-gl_0584.jpg -> Class: glioma, Confidence: 1.00\n",
            "Moving Tr-gl_0584.jpg to BT100/Training/glioma/20250328_234205_Tr-gl_0584.jpg\n",
            "\u001b[1m1/1\u001b[0m \u001b[32m━━━━━━━━━━━━━━━━━━━━\u001b[0m\u001b[37m\u001b[0m \u001b[1m0s\u001b[0m 34ms/step\n"
          ]
        },
        {
          "output_type": "stream",
          "name": "stderr",
          "text": [
            "\r 85%|████████▌ | 973/1141 [01:43<00:18,  8.91it/s]"
          ]
        },
        {
          "output_type": "stream",
          "name": "stdout",
          "text": [
            "Tr-me_0150.jpg -> Class: meningioma, Confidence: 1.00\n",
            "Moving Tr-me_0150.jpg to BT100/Training/meningioma/20250328_234205_Tr-me_0150.jpg\n",
            "\u001b[1m1/1\u001b[0m \u001b[32m━━━━━━━━━━━━━━━━━━━━\u001b[0m\u001b[37m\u001b[0m \u001b[1m0s\u001b[0m 38ms/step\n"
          ]
        },
        {
          "output_type": "stream",
          "name": "stderr",
          "text": [
            "\r 85%|████████▌ | 974/1141 [01:43<00:19,  8.48it/s]"
          ]
        },
        {
          "output_type": "stream",
          "name": "stdout",
          "text": [
            "Tr-pi_0084.jpg -> Class: pituitary, Confidence: 1.00\n",
            "Moving Tr-pi_0084.jpg to BT100/Training/pituitary/20250328_234205_Tr-pi_0084.jpg\n",
            "\u001b[1m1/1\u001b[0m \u001b[32m━━━━━━━━━━━━━━━━━━━━\u001b[0m\u001b[37m\u001b[0m \u001b[1m0s\u001b[0m 38ms/step\n",
            "Tr-no_1550.jpg -> Class: notumor, Confidence: 1.00\n",
            "Moving Tr-no_1550.jpg to BT100/Training/notumor/20250328_234205_Tr-no_1550.jpg\n",
            "\u001b[1m1/1\u001b[0m \u001b[32m━━━━━━━━━━━━━━━━━━━━\u001b[0m\u001b[37m\u001b[0m \u001b[1m0s\u001b[0m 38ms/step\n",
            "Tr-gl_1158.jpg -> Class: glioma, Confidence: 1.00\n",
            "Moving Tr-gl_1158.jpg to BT100/Training/glioma/20250328_234205_Tr-gl_1158.jpg\n"
          ]
        },
        {
          "output_type": "stream",
          "name": "stderr",
          "text": [
            "\r 86%|████████▌ | 976/1141 [01:43<00:18,  9.06it/s]"
          ]
        },
        {
          "output_type": "stream",
          "name": "stdout",
          "text": [
            "\u001b[1m1/1\u001b[0m \u001b[32m━━━━━━━━━━━━━━━━━━━━\u001b[0m\u001b[37m\u001b[0m \u001b[1m0s\u001b[0m 38ms/step\n"
          ]
        },
        {
          "output_type": "stream",
          "name": "stderr",
          "text": [
            "\r 86%|████████▌ | 977/1141 [01:43<00:18,  8.85it/s]"
          ]
        },
        {
          "output_type": "stream",
          "name": "stdout",
          "text": [
            "Tr-me_0476.jpg -> Class: meningioma, Confidence: 1.00\n",
            "Moving Tr-me_0476.jpg to BT100/Training/meningioma/20250328_234205_Tr-me_0476.jpg\n",
            "\u001b[1m1/1\u001b[0m \u001b[32m━━━━━━━━━━━━━━━━━━━━\u001b[0m\u001b[37m\u001b[0m \u001b[1m0s\u001b[0m 42ms/step\n",
            "Tr-me_0381.jpg -> Class: meningioma, Confidence: 1.00\n",
            "Moving Tr-me_0381.jpg to BT100/Training/meningioma/20250328_234205_Tr-me_0381.jpg\n",
            "\u001b[1m1/1\u001b[0m \u001b[32m━━━━━━━━━━━━━━━━━━━━\u001b[0m\u001b[37m\u001b[0m \u001b[1m0s\u001b[0m 41ms/step\n"
          ]
        },
        {
          "output_type": "stream",
          "name": "stderr",
          "text": [
            "\r 86%|████████▌ | 979/1141 [01:44<00:17,  9.23it/s]"
          ]
        },
        {
          "output_type": "stream",
          "name": "stdout",
          "text": [
            "Tr-me_1191.jpg -> Class: meningioma, Confidence: 1.00\n",
            "Moving Tr-me_1191.jpg to BT100/Training/meningioma/20250328_234205_Tr-me_1191.jpg\n",
            "\u001b[1m1/1\u001b[0m \u001b[32m━━━━━━━━━━━━━━━━━━━━\u001b[0m\u001b[37m\u001b[0m \u001b[1m0s\u001b[0m 42ms/step\n",
            "Tr-pi_0096.jpg -> Class: pituitary, Confidence: 1.00\n",
            "Moving Tr-pi_0096.jpg to BT100/Training/pituitary/20250328_234206_Tr-pi_0096.jpg\n",
            "\u001b[1m1/1\u001b[0m \u001b[32m━━━━━━━━━━━━━━━━━━━━\u001b[0m\u001b[37m\u001b[0m \u001b[1m0s\u001b[0m 45ms/step\n"
          ]
        },
        {
          "output_type": "stream",
          "name": "stderr",
          "text": [
            "\r 86%|████████▌ | 981/1141 [01:44<00:16,  9.42it/s]"
          ]
        },
        {
          "output_type": "stream",
          "name": "stdout",
          "text": [
            "Tr-pi_0181.jpg -> Class: pituitary, Confidence: 1.00\n",
            "Moving Tr-pi_0181.jpg to BT100/Training/pituitary/20250328_234206_Tr-pi_0181.jpg\n",
            "\u001b[1m1/1\u001b[0m \u001b[32m━━━━━━━━━━━━━━━━━━━━\u001b[0m\u001b[37m\u001b[0m \u001b[1m0s\u001b[0m 36ms/step\n"
          ]
        },
        {
          "output_type": "stream",
          "name": "stderr",
          "text": [
            "\r 86%|████████▌ | 982/1141 [01:44<00:17,  9.23it/s]"
          ]
        },
        {
          "output_type": "stream",
          "name": "stdout",
          "text": [
            "Tr-no_0031.jpg -> Class: notumor, Confidence: 1.00\n",
            "Moving Tr-no_0031.jpg to BT100/Training/notumor/20250328_234206_Tr-no_0031.jpg\n",
            "\u001b[1m1/1\u001b[0m \u001b[32m━━━━━━━━━━━━━━━━━━━━\u001b[0m\u001b[37m\u001b[0m \u001b[1m0s\u001b[0m 47ms/step\n"
          ]
        },
        {
          "output_type": "stream",
          "name": "stderr",
          "text": [
            "\r 86%|████████▌ | 983/1141 [01:44<00:18,  8.66it/s]"
          ]
        },
        {
          "output_type": "stream",
          "name": "stdout",
          "text": [
            "Tr-pi_0470.jpg -> Class: pituitary, Confidence: 1.00\n",
            "Moving Tr-pi_0470.jpg to BT100/Training/pituitary/20250328_234206_Tr-pi_0470.jpg\n",
            "\u001b[1m1/1\u001b[0m \u001b[32m━━━━━━━━━━━━━━━━━━━━\u001b[0m\u001b[37m\u001b[0m \u001b[1m0s\u001b[0m 38ms/step\n"
          ]
        },
        {
          "output_type": "stream",
          "name": "stderr",
          "text": [
            "\r 86%|████████▌ | 984/1141 [01:44<00:18,  8.44it/s]"
          ]
        },
        {
          "output_type": "stream",
          "name": "stdout",
          "text": [
            "Tr-me_0315.jpg -> Class: meningioma, Confidence: 1.00\n",
            "Moving Tr-me_0315.jpg to BT100/Training/meningioma/20250328_234206_Tr-me_0315.jpg\n",
            "\u001b[1m1/1\u001b[0m \u001b[32m━━━━━━━━━━━━━━━━━━━━\u001b[0m\u001b[37m\u001b[0m \u001b[1m0s\u001b[0m 35ms/step\n"
          ]
        },
        {
          "output_type": "stream",
          "name": "stderr",
          "text": [
            "\r 86%|████████▋ | 985/1141 [01:44<00:18,  8.37it/s]"
          ]
        },
        {
          "output_type": "stream",
          "name": "stdout",
          "text": [
            "Tr-me_0329.jpg -> Class: meningioma, Confidence: 1.00\n",
            "Moving Tr-me_0329.jpg to BT100/Training/meningioma/20250328_234206_Tr-me_0329.jpg\n",
            "\u001b[1m1/1\u001b[0m \u001b[32m━━━━━━━━━━━━━━━━━━━━\u001b[0m\u001b[37m\u001b[0m \u001b[1m0s\u001b[0m 38ms/step\n"
          ]
        },
        {
          "output_type": "stream",
          "name": "stderr",
          "text": [
            "\r 86%|████████▋ | 986/1141 [01:44<00:18,  8.20it/s]"
          ]
        },
        {
          "output_type": "stream",
          "name": "stdout",
          "text": [
            "Tr-gl_0716.jpg -> Class: glioma, Confidence: 1.00\n",
            "Moving Tr-gl_0716.jpg to BT100/Training/glioma/20250328_234206_Tr-gl_0716.jpg\n",
            "\u001b[1m1/1\u001b[0m \u001b[32m━━━━━━━━━━━━━━━━━━━━\u001b[0m\u001b[37m\u001b[0m \u001b[1m0s\u001b[0m 38ms/step\n",
            "Tr-me_1178.jpg -> Class: meningioma, Confidence: 1.00\n",
            "Moving Tr-me_1178.jpg to BT100/Training/meningioma/20250328_234206_Tr-me_1178.jpg\n",
            "\u001b[1m1/1\u001b[0m \u001b[32m━━━━━━━━━━━━━━━━━━━━\u001b[0m\u001b[37m\u001b[0m \u001b[1m0s\u001b[0m 42ms/step\n"
          ]
        },
        {
          "output_type": "stream",
          "name": "stderr",
          "text": [
            "\r 87%|████████▋ | 988/1141 [01:45<00:17,  8.87it/s]"
          ]
        },
        {
          "output_type": "stream",
          "name": "stdout",
          "text": [
            "Tr-no_0464.jpg -> Class: notumor, Confidence: 1.00\n",
            "Moving Tr-no_0464.jpg to BT100/Training/notumor/20250328_234206_Tr-no_0464.jpg\n",
            "\u001b[1m1/1\u001b[0m \u001b[32m━━━━━━━━━━━━━━━━━━━━\u001b[0m\u001b[37m\u001b[0m \u001b[1m0s\u001b[0m 38ms/step\n"
          ]
        },
        {
          "output_type": "stream",
          "name": "stderr",
          "text": [
            "\r 87%|████████▋ | 989/1141 [01:45<00:17,  8.81it/s]"
          ]
        },
        {
          "output_type": "stream",
          "name": "stdout",
          "text": [
            "Tr-gl_0717.jpg -> Class: glioma, Confidence: 1.00\n",
            "Moving Tr-gl_0717.jpg to BT100/Training/glioma/20250328_234207_Tr-gl_0717.jpg\n",
            "\u001b[1m1/1\u001b[0m \u001b[32m━━━━━━━━━━━━━━━━━━━━\u001b[0m\u001b[37m\u001b[0m \u001b[1m0s\u001b[0m 39ms/step\n"
          ]
        },
        {
          "output_type": "stream",
          "name": "stderr",
          "text": [
            "\r 87%|████████▋ | 990/1141 [01:45<00:17,  8.58it/s]"
          ]
        },
        {
          "output_type": "stream",
          "name": "stdout",
          "text": [
            "Tr-gl_1125.jpg -> Class: glioma, Confidence: 1.00\n",
            "Moving Tr-gl_1125.jpg to BT100/Training/glioma/20250328_234207_Tr-gl_1125.jpg\n",
            "\u001b[1m1/1\u001b[0m \u001b[32m━━━━━━━━━━━━━━━━━━━━\u001b[0m\u001b[37m\u001b[0m \u001b[1m0s\u001b[0m 47ms/step\n"
          ]
        },
        {
          "output_type": "stream",
          "name": "stderr",
          "text": [
            "\r 87%|████████▋ | 991/1141 [01:45<00:18,  8.28it/s]"
          ]
        },
        {
          "output_type": "stream",
          "name": "stdout",
          "text": [
            "Tr-no_1062.jpg -> Class: notumor, Confidence: 1.00\n",
            "Moving Tr-no_1062.jpg to BT100/Training/notumor/20250328_234207_Tr-no_1062.jpg\n",
            "\u001b[1m1/1\u001b[0m \u001b[32m━━━━━━━━━━━━━━━━━━━━\u001b[0m\u001b[37m\u001b[0m \u001b[1m0s\u001b[0m 56ms/step\n"
          ]
        },
        {
          "output_type": "stream",
          "name": "stderr",
          "text": [
            "\r 87%|████████▋ | 992/1141 [01:45<00:18,  8.11it/s]"
          ]
        },
        {
          "output_type": "stream",
          "name": "stdout",
          "text": [
            "Tr-gl_0089.jpg -> Class: glioma, Confidence: 1.00\n",
            "Moving Tr-gl_0089.jpg to BT100/Training/glioma/20250328_234207_Tr-gl_0089.jpg\n",
            "\u001b[1m1/1\u001b[0m \u001b[32m━━━━━━━━━━━━━━━━━━━━\u001b[0m\u001b[37m\u001b[0m \u001b[1m0s\u001b[0m 54ms/step\n"
          ]
        },
        {
          "output_type": "stream",
          "name": "stderr",
          "text": [
            "\r 87%|████████▋ | 993/1141 [01:45<00:19,  7.42it/s]"
          ]
        },
        {
          "output_type": "stream",
          "name": "stdout",
          "text": [
            "Tr-gl_0952.jpg -> Class: glioma, Confidence: 1.00\n",
            "Moving Tr-gl_0952.jpg to BT100/Training/glioma/20250328_234207_Tr-gl_0952.jpg\n",
            "\u001b[1m1/1\u001b[0m \u001b[32m━━━━━━━━━━━━━━━━━━━━\u001b[0m\u001b[37m\u001b[0m \u001b[1m0s\u001b[0m 48ms/step\n"
          ]
        },
        {
          "output_type": "stream",
          "name": "stderr",
          "text": [
            "\r 87%|████████▋ | 994/1141 [01:45<00:20,  7.33it/s]"
          ]
        },
        {
          "output_type": "stream",
          "name": "stdout",
          "text": [
            "Tr-no_0225.jpg -> Class: notumor, Confidence: 1.00\n",
            "Moving Tr-no_0225.jpg to BT100/Training/notumor/20250328_234207_Tr-no_0225.jpg\n",
            "\u001b[1m1/1\u001b[0m \u001b[32m━━━━━━━━━━━━━━━━━━━━\u001b[0m\u001b[37m\u001b[0m \u001b[1m0s\u001b[0m 60ms/step\n"
          ]
        },
        {
          "output_type": "stream",
          "name": "stderr",
          "text": [
            "\r 87%|████████▋ | 995/1141 [01:46<00:20,  7.01it/s]"
          ]
        },
        {
          "output_type": "stream",
          "name": "stdout",
          "text": [
            "Tr-no_0121.jpg -> Class: notumor, Confidence: 1.00\n",
            "Moving Tr-no_0121.jpg to BT100/Training/notumor/20250328_234207_Tr-no_0121.jpg\n",
            "\u001b[1m1/1\u001b[0m \u001b[32m━━━━━━━━━━━━━━━━━━━━\u001b[0m\u001b[37m\u001b[0m \u001b[1m0s\u001b[0m 54ms/step\n",
            "Tr-pi_0704.jpg -> Class: pituitary, Confidence: 1.00\n",
            "Moving Tr-pi_0704.jpg to BT100/Training/pituitary/20250328_234208_Tr-pi_0704.jpg\n"
          ]
        },
        {
          "output_type": "stream",
          "name": "stderr",
          "text": [
            "\r 87%|████████▋ | 996/1141 [01:46<00:20,  7.04it/s]"
          ]
        },
        {
          "output_type": "stream",
          "name": "stdout",
          "text": [
            "\u001b[1m1/1\u001b[0m \u001b[32m━━━━━━━━━━━━━━━━━━━━\u001b[0m\u001b[37m\u001b[0m \u001b[1m0s\u001b[0m 57ms/step\n"
          ]
        },
        {
          "output_type": "stream",
          "name": "stderr",
          "text": [
            "\r 87%|████████▋ | 997/1141 [01:46<00:19,  7.21it/s]"
          ]
        },
        {
          "output_type": "stream",
          "name": "stdout",
          "text": [
            "Tr-no_0991.jpg -> Class: notumor, Confidence: 1.00\n",
            "Moving Tr-no_0991.jpg to BT100/Training/notumor/20250328_234208_Tr-no_0991.jpg\n",
            "\u001b[1m1/1\u001b[0m \u001b[32m━━━━━━━━━━━━━━━━━━━━\u001b[0m\u001b[37m\u001b[0m \u001b[1m0s\u001b[0m 48ms/step\n"
          ]
        },
        {
          "output_type": "stream",
          "name": "stderr",
          "text": [
            "\r 87%|████████▋ | 998/1141 [01:46<00:20,  7.09it/s]"
          ]
        },
        {
          "output_type": "stream",
          "name": "stdout",
          "text": [
            "Tr-pi_0577.jpg -> Class: pituitary, Confidence: 1.00\n",
            "Moving Tr-pi_0577.jpg to BT100/Training/pituitary/20250328_234208_Tr-pi_0577.jpg\n",
            "\u001b[1m1/1\u001b[0m \u001b[32m━━━━━━━━━━━━━━━━━━━━\u001b[0m\u001b[37m\u001b[0m \u001b[1m0s\u001b[0m 50ms/step\n"
          ]
        },
        {
          "output_type": "stream",
          "name": "stderr",
          "text": [
            "\r 88%|████████▊ | 999/1141 [01:46<00:20,  7.02it/s]"
          ]
        },
        {
          "output_type": "stream",
          "name": "stdout",
          "text": [
            "Tr-gl_0846.jpg -> Class: glioma, Confidence: 0.99\n",
            "Moving Tr-gl_0846.jpg to BT100/Training/glioma/20250328_234208_Tr-gl_0846.jpg\n",
            "\u001b[1m1/1\u001b[0m \u001b[32m━━━━━━━━━━━━━━━━━━━━\u001b[0m\u001b[37m\u001b[0m \u001b[1m0s\u001b[0m 60ms/step\n"
          ]
        },
        {
          "output_type": "stream",
          "name": "stderr",
          "text": [
            "\r 88%|████████▊ | 1000/1141 [01:46<00:20,  6.96it/s]"
          ]
        },
        {
          "output_type": "stream",
          "name": "stdout",
          "text": [
            "Tr-no_0835.jpg -> Class: notumor, Confidence: 1.00\n",
            "Moving Tr-no_0835.jpg to BT100/Training/notumor/20250328_234208_Tr-no_0835.jpg\n",
            "\u001b[1m1/1\u001b[0m \u001b[32m━━━━━━━━━━━━━━━━━━━━\u001b[0m\u001b[37m\u001b[0m \u001b[1m0s\u001b[0m 45ms/step\n"
          ]
        },
        {
          "output_type": "stream",
          "name": "stderr",
          "text": [
            "\r 88%|████████▊ | 1001/1141 [01:46<00:19,  7.10it/s]"
          ]
        },
        {
          "output_type": "stream",
          "name": "stdout",
          "text": [
            "Tr-gl_1149.jpg -> Class: meningioma, Confidence: 0.72\n",
            "Moved low-confidence image Tr-gl_1149.jpg to BT100/low_confidence\n",
            "\u001b[1m1/1\u001b[0m \u001b[32m━━━━━━━━━━━━━━━━━━━━\u001b[0m\u001b[37m\u001b[0m \u001b[1m0s\u001b[0m 53ms/step\n",
            "Tr-me_0557.jpg -> Class: meningioma, Confidence: 1.00\n",
            "Moving Tr-me_0557.jpg to BT100/Training/meningioma/20250328_234208_Tr-me_0557.jpg\n"
          ]
        },
        {
          "output_type": "stream",
          "name": "stderr",
          "text": [
            "\r 88%|████████▊ | 1002/1141 [01:47<00:19,  7.09it/s]"
          ]
        },
        {
          "output_type": "stream",
          "name": "stdout",
          "text": [
            "\u001b[1m1/1\u001b[0m \u001b[32m━━━━━━━━━━━━━━━━━━━━\u001b[0m\u001b[37m\u001b[0m \u001b[1m0s\u001b[0m 53ms/step\n"
          ]
        },
        {
          "output_type": "stream",
          "name": "stderr",
          "text": [
            "\r 88%|████████▊ | 1003/1141 [01:47<00:19,  7.13it/s]"
          ]
        },
        {
          "output_type": "stream",
          "name": "stdout",
          "text": [
            "Tr-gl_1231.jpg -> Class: glioma, Confidence: 0.97\n",
            "Moved low-confidence image Tr-gl_1231.jpg to BT100/low_confidence\n",
            "\u001b[1m1/1\u001b[0m \u001b[32m━━━━━━━━━━━━━━━━━━━━\u001b[0m\u001b[37m\u001b[0m \u001b[1m0s\u001b[0m 54ms/step\n"
          ]
        },
        {
          "output_type": "stream",
          "name": "stderr",
          "text": [
            "\r 88%|████████▊ | 1004/1141 [01:47<00:19,  7.14it/s]"
          ]
        },
        {
          "output_type": "stream",
          "name": "stdout",
          "text": [
            "Tr-me_0391.jpg -> Class: meningioma, Confidence: 1.00\n",
            "Moving Tr-me_0391.jpg to BT100/Training/meningioma/20250328_234209_Tr-me_0391.jpg\n",
            "\u001b[1m1/1\u001b[0m \u001b[32m━━━━━━━━━━━━━━━━━━━━\u001b[0m\u001b[37m\u001b[0m \u001b[1m0s\u001b[0m 60ms/step\n"
          ]
        },
        {
          "output_type": "stream",
          "name": "stderr",
          "text": [
            "\r 88%|████████▊ | 1005/1141 [01:47<00:18,  7.27it/s]"
          ]
        },
        {
          "output_type": "stream",
          "name": "stdout",
          "text": [
            "Tr-me_0602.jpg -> Class: meningioma, Confidence: 1.00\n",
            "Moving Tr-me_0602.jpg to BT100/Training/meningioma/20250328_234209_Tr-me_0602.jpg\n",
            "\u001b[1m1/1\u001b[0m \u001b[32m━━━━━━━━━━━━━━━━━━━━\u001b[0m\u001b[37m\u001b[0m \u001b[1m0s\u001b[0m 51ms/step\n"
          ]
        },
        {
          "output_type": "stream",
          "name": "stderr",
          "text": [
            "\r 88%|████████▊ | 1006/1141 [01:47<00:19,  7.09it/s]"
          ]
        },
        {
          "output_type": "stream",
          "name": "stdout",
          "text": [
            "Tr-me_0042.jpg -> Class: meningioma, Confidence: 1.00\n",
            "Moving Tr-me_0042.jpg to BT100/Training/meningioma/20250328_234209_Tr-me_0042.jpg\n",
            "\u001b[1m1/1\u001b[0m \u001b[32m━━━━━━━━━━━━━━━━━━━━\u001b[0m\u001b[37m\u001b[0m \u001b[1m0s\u001b[0m 60ms/step\n"
          ]
        },
        {
          "output_type": "stream",
          "name": "stderr",
          "text": [
            "\r 88%|████████▊ | 1007/1141 [01:47<00:19,  6.88it/s]"
          ]
        },
        {
          "output_type": "stream",
          "name": "stdout",
          "text": [
            "Tr-me_1001.jpg -> Class: meningioma, Confidence: 1.00\n",
            "Moving Tr-me_1001.jpg to BT100/Training/meningioma/20250328_234209_Tr-me_1001.jpg\n",
            "\u001b[1m1/1\u001b[0m \u001b[32m━━━━━━━━━━━━━━━━━━━━\u001b[0m\u001b[37m\u001b[0m \u001b[1m0s\u001b[0m 53ms/step\n"
          ]
        },
        {
          "output_type": "stream",
          "name": "stderr",
          "text": [
            "\r 88%|████████▊ | 1008/1141 [01:47<00:19,  6.91it/s]"
          ]
        },
        {
          "output_type": "stream",
          "name": "stdout",
          "text": [
            "Tr-gl_1293.jpg -> Class: meningioma, Confidence: 0.84\n",
            "Moved low-confidence image Tr-gl_1293.jpg to BT100/low_confidence\n",
            "\u001b[1m1/1\u001b[0m \u001b[32m━━━━━━━━━━━━━━━━━━━━\u001b[0m\u001b[37m\u001b[0m \u001b[1m0s\u001b[0m 53ms/step\n"
          ]
        },
        {
          "output_type": "stream",
          "name": "stderr",
          "text": [
            "\r 88%|████████▊ | 1009/1141 [01:48<00:18,  6.98it/s]"
          ]
        },
        {
          "output_type": "stream",
          "name": "stdout",
          "text": [
            "Tr-gl_0549.jpg -> Class: glioma, Confidence: 1.00\n",
            "Moving Tr-gl_0549.jpg to BT100/Training/glioma/20250328_234209_Tr-gl_0549.jpg\n",
            "\u001b[1m1/1\u001b[0m \u001b[32m━━━━━━━━━━━━━━━━━━━━\u001b[0m\u001b[37m\u001b[0m \u001b[1m0s\u001b[0m 52ms/step\n"
          ]
        },
        {
          "output_type": "stream",
          "name": "stderr",
          "text": [
            "\r 89%|████████▊ | 1010/1141 [01:48<00:18,  7.02it/s]"
          ]
        },
        {
          "output_type": "stream",
          "name": "stdout",
          "text": [
            "Tr-noTr_0001.jpg -> Class: notumor, Confidence: 1.00\n",
            "Moving Tr-noTr_0001.jpg to BT100/Training/notumor/20250328_234210_Tr-noTr_0001.jpg\n",
            "\u001b[1m1/1\u001b[0m \u001b[32m━━━━━━━━━━━━━━━━━━━━\u001b[0m\u001b[37m\u001b[0m \u001b[1m0s\u001b[0m 58ms/step\n"
          ]
        },
        {
          "output_type": "stream",
          "name": "stderr",
          "text": [
            "\r 89%|████████▊ | 1011/1141 [01:48<00:19,  6.71it/s]"
          ]
        },
        {
          "output_type": "stream",
          "name": "stdout",
          "text": [
            "Tr-pi_0838.jpg -> Class: pituitary, Confidence: 1.00\n",
            "Moving Tr-pi_0838.jpg to BT100/Training/pituitary/20250328_234210_Tr-pi_0838.jpg\n",
            "\u001b[1m1/1\u001b[0m \u001b[32m━━━━━━━━━━━━━━━━━━━━\u001b[0m\u001b[37m\u001b[0m \u001b[1m0s\u001b[0m 47ms/step\n"
          ]
        },
        {
          "output_type": "stream",
          "name": "stderr",
          "text": [
            "\r 89%|████████▊ | 1012/1141 [01:48<00:18,  6.89it/s]"
          ]
        },
        {
          "output_type": "stream",
          "name": "stdout",
          "text": [
            "Tr-gl_1273.jpg -> Class: glioma, Confidence: 0.63\n",
            "Moved low-confidence image Tr-gl_1273.jpg to BT100/low_confidence\n",
            "\u001b[1m1/1\u001b[0m \u001b[32m━━━━━━━━━━━━━━━━━━━━\u001b[0m\u001b[37m\u001b[0m \u001b[1m0s\u001b[0m 36ms/step\n",
            "Tr-me_1179.jpg -> Class: meningioma, Confidence: 1.00\n",
            "Moving Tr-me_1179.jpg to BT100/Training/meningioma/20250328_234210_Tr-me_1179.jpg\n",
            "\u001b[1m1/1\u001b[0m \u001b[32m━━━━━━━━━━━━━━━━━━━━\u001b[0m\u001b[37m\u001b[0m \u001b[1m0s\u001b[0m 37ms/step\n"
          ]
        },
        {
          "output_type": "stream",
          "name": "stderr",
          "text": [
            "\r 89%|████████▉ | 1014/1141 [01:48<00:14,  8.63it/s]"
          ]
        },
        {
          "output_type": "stream",
          "name": "stdout",
          "text": [
            "Tr-me_0262.jpg -> Class: pituitary, Confidence: 1.00\n",
            "Moving Tr-me_0262.jpg to BT100/Training/pituitary/20250328_234210_Tr-me_0262.jpg\n",
            "\u001b[1m1/1\u001b[0m \u001b[32m━━━━━━━━━━━━━━━━━━━━\u001b[0m\u001b[37m\u001b[0m \u001b[1m0s\u001b[0m 45ms/step\n",
            "Tr-no_0419.jpg -> Class: notumor, Confidence: 1.00\n",
            "Moving Tr-no_0419.jpg to BT100/Training/notumor/20250328_234210_Tr-no_0419.jpg\n",
            "\u001b[1m1/1\u001b[0m \u001b[32m━━━━━━━━━━━━━━━━━━━━\u001b[0m\u001b[37m\u001b[0m \u001b[1m0s\u001b[0m 37ms/step\n"
          ]
        },
        {
          "output_type": "stream",
          "name": "stderr",
          "text": [
            "\r 89%|████████▉ | 1016/1141 [01:48<00:14,  8.83it/s]"
          ]
        },
        {
          "output_type": "stream",
          "name": "stdout",
          "text": [
            "Tr-pi_1146.jpg -> Class: pituitary, Confidence: 1.00\n",
            "Moving Tr-pi_1146.jpg to BT100/Training/pituitary/20250328_234210_Tr-pi_1146.jpg\n",
            "\u001b[1m1/1\u001b[0m \u001b[32m━━━━━━━━━━━━━━━━━━━━\u001b[0m\u001b[37m\u001b[0m \u001b[1m0s\u001b[0m 36ms/step\n"
          ]
        },
        {
          "output_type": "stream",
          "name": "stderr",
          "text": [
            "\r 89%|████████▉ | 1017/1141 [01:48<00:14,  8.79it/s]"
          ]
        },
        {
          "output_type": "stream",
          "name": "stdout",
          "text": [
            "Tr-no_1436.jpg -> Class: notumor, Confidence: 1.00\n",
            "Moving Tr-no_1436.jpg to BT100/Training/notumor/20250328_234210_Tr-no_1436.jpg\n",
            "\u001b[1m1/1\u001b[0m \u001b[32m━━━━━━━━━━━━━━━━━━━━\u001b[0m\u001b[37m\u001b[0m \u001b[1m0s\u001b[0m 34ms/step\n"
          ]
        },
        {
          "output_type": "stream",
          "name": "stderr",
          "text": [
            "\r 89%|████████▉ | 1018/1141 [01:49<00:14,  8.62it/s]"
          ]
        },
        {
          "output_type": "stream",
          "name": "stdout",
          "text": [
            "Tr-gl_1258.jpg -> Class: meningioma, Confidence: 0.96\n",
            "Moved low-confidence image Tr-gl_1258.jpg to BT100/low_confidence\n",
            "\u001b[1m1/1\u001b[0m \u001b[32m━━━━━━━━━━━━━━━━━━━━\u001b[0m\u001b[37m\u001b[0m \u001b[1m0s\u001b[0m 40ms/step\n"
          ]
        },
        {
          "output_type": "stream",
          "name": "stderr",
          "text": [
            "\r 89%|████████▉ | 1019/1141 [01:49<00:14,  8.53it/s]"
          ]
        },
        {
          "output_type": "stream",
          "name": "stdout",
          "text": [
            "Tr-no_0760.jpg -> Class: notumor, Confidence: 1.00\n",
            "Moving Tr-no_0760.jpg to BT100/Training/notumor/20250328_234211_Tr-no_0760.jpg\n",
            "\u001b[1m1/1\u001b[0m \u001b[32m━━━━━━━━━━━━━━━━━━━━\u001b[0m\u001b[37m\u001b[0m \u001b[1m0s\u001b[0m 36ms/step\n"
          ]
        },
        {
          "output_type": "stream",
          "name": "stderr",
          "text": [
            "\r 89%|████████▉ | 1020/1141 [01:49<00:14,  8.53it/s]"
          ]
        },
        {
          "output_type": "stream",
          "name": "stdout",
          "text": [
            "Tr-gl_0996.jpg -> Class: glioma, Confidence: 1.00\n",
            "Moving Tr-gl_0996.jpg to BT100/Training/glioma/20250328_234211_Tr-gl_0996.jpg\n",
            "\u001b[1m1/1\u001b[0m \u001b[32m━━━━━━━━━━━━━━━━━━━━\u001b[0m\u001b[37m\u001b[0m \u001b[1m0s\u001b[0m 38ms/step\n",
            "Tr-no_1397.jpg -> Class: notumor, Confidence: 1.00\n",
            "Moving Tr-no_1397.jpg to BT100/Training/notumor/20250328_234211_Tr-no_1397.jpg\n",
            "\u001b[1m1/1\u001b[0m \u001b[32m━━━━━━━━━━━━━━━━━━━━\u001b[0m\u001b[37m\u001b[0m \u001b[1m0s\u001b[0m 39ms/step\n"
          ]
        },
        {
          "output_type": "stream",
          "name": "stderr",
          "text": [
            "\r 90%|████████▉ | 1022/1141 [01:49<00:13,  8.92it/s]"
          ]
        },
        {
          "output_type": "stream",
          "name": "stdout",
          "text": [
            "Tr-gl_0647.jpg -> Class: glioma, Confidence: 1.00\n",
            "Moving Tr-gl_0647.jpg to BT100/Training/glioma/20250328_234211_Tr-gl_0647.jpg\n",
            "\u001b[1m1/1\u001b[0m \u001b[32m━━━━━━━━━━━━━━━━━━━━\u001b[0m\u001b[37m\u001b[0m \u001b[1m0s\u001b[0m 44ms/step\n"
          ]
        },
        {
          "output_type": "stream",
          "name": "stderr",
          "text": [
            "\r 90%|████████▉ | 1023/1141 [01:49<00:13,  8.74it/s]"
          ]
        },
        {
          "output_type": "stream",
          "name": "stdout",
          "text": [
            "Tr-gl_1109.jpg -> Class: glioma, Confidence: 1.00\n",
            "Moving Tr-gl_1109.jpg to BT100/Training/glioma/20250328_234211_Tr-gl_1109.jpg\n",
            "\u001b[1m1/1\u001b[0m \u001b[32m━━━━━━━━━━━━━━━━━━━━\u001b[0m\u001b[37m\u001b[0m \u001b[1m0s\u001b[0m 47ms/step\n"
          ]
        },
        {
          "output_type": "stream",
          "name": "stderr",
          "text": [
            "\r 90%|████████▉ | 1024/1141 [01:49<00:14,  8.27it/s]"
          ]
        },
        {
          "output_type": "stream",
          "name": "stdout",
          "text": [
            "Tr-me_1331.jpg -> Class: meningioma, Confidence: 1.00\n",
            "Moving Tr-me_1331.jpg to BT100/Training/meningioma/20250328_234211_Tr-me_1331.jpg\n",
            "\u001b[1m1/1\u001b[0m \u001b[32m━━━━━━━━━━━━━━━━━━━━\u001b[0m\u001b[37m\u001b[0m \u001b[1m0s\u001b[0m 40ms/step\n"
          ]
        },
        {
          "output_type": "stream",
          "name": "stderr",
          "text": [
            "\r 90%|████████▉ | 1025/1141 [01:49<00:14,  8.17it/s]"
          ]
        },
        {
          "output_type": "stream",
          "name": "stdout",
          "text": [
            "Tr-pi_0502.jpg -> Class: pituitary, Confidence: 1.00\n",
            "Moving Tr-pi_0502.jpg to BT100/Training/pituitary/20250328_234211_Tr-pi_0502.jpg\n",
            "\u001b[1m1/1\u001b[0m \u001b[32m━━━━━━━━━━━━━━━━━━━━\u001b[0m\u001b[37m\u001b[0m \u001b[1m0s\u001b[0m 40ms/step\n"
          ]
        },
        {
          "output_type": "stream",
          "name": "stderr",
          "text": [
            "\r 90%|████████▉ | 1026/1141 [01:50<00:14,  8.13it/s]"
          ]
        },
        {
          "output_type": "stream",
          "name": "stdout",
          "text": [
            "Tr-pi_1181.jpg -> Class: pituitary, Confidence: 1.00\n",
            "Moving Tr-pi_1181.jpg to BT100/Training/pituitary/20250328_234211_Tr-pi_1181.jpg\n",
            "\u001b[1m1/1\u001b[0m \u001b[32m━━━━━━━━━━━━━━━━━━━━\u001b[0m\u001b[37m\u001b[0m \u001b[1m0s\u001b[0m 35ms/step\n",
            "Tr-no_0458.jpg -> Class: notumor, Confidence: 1.00\n",
            "Moving Tr-no_0458.jpg to BT100/Training/notumor/20250328_234212_Tr-no_0458.jpg\n",
            "\u001b[1m1/1\u001b[0m \u001b[32m━━━━━━━━━━━━━━━━━━━━\u001b[0m\u001b[37m\u001b[0m \u001b[1m0s\u001b[0m 47ms/step\n"
          ]
        },
        {
          "output_type": "stream",
          "name": "stderr",
          "text": [
            "\r 90%|█████████ | 1028/1141 [01:50<00:12,  9.24it/s]"
          ]
        },
        {
          "output_type": "stream",
          "name": "stdout",
          "text": [
            "Tr-me_1013.jpg -> Class: meningioma, Confidence: 1.00\n",
            "Moving Tr-me_1013.jpg to BT100/Training/meningioma/20250328_234212_Tr-me_1013.jpg\n",
            "\u001b[1m1/1\u001b[0m \u001b[32m━━━━━━━━━━━━━━━━━━━━\u001b[0m\u001b[37m\u001b[0m \u001b[1m0s\u001b[0m 37ms/step\n",
            "Tr-gl_0604.jpg -> Class: glioma, Confidence: 1.00\n",
            "Moving Tr-gl_0604.jpg to BT100/Training/glioma/20250328_234212_Tr-gl_0604.jpg\n",
            "\u001b[1m1/1\u001b[0m \u001b[32m━━━━━━━━━━━━━━━━━━━━\u001b[0m\u001b[37m\u001b[0m \u001b[1m0s\u001b[0m 47ms/step\n"
          ]
        },
        {
          "output_type": "stream",
          "name": "stderr",
          "text": [
            "\r 90%|█████████ | 1030/1141 [01:50<00:12,  9.10it/s]"
          ]
        },
        {
          "output_type": "stream",
          "name": "stdout",
          "text": [
            "Tr-pi_0278.jpg -> Class: pituitary, Confidence: 1.00\n",
            "Moving Tr-pi_0278.jpg to BT100/Training/pituitary/20250328_234212_Tr-pi_0278.jpg\n",
            "\u001b[1m1/1\u001b[0m \u001b[32m━━━━━━━━━━━━━━━━━━━━\u001b[0m\u001b[37m\u001b[0m \u001b[1m0s\u001b[0m 41ms/step\n"
          ]
        },
        {
          "output_type": "stream",
          "name": "stderr",
          "text": [
            "\r 90%|█████████ | 1031/1141 [01:50<00:12,  8.84it/s]"
          ]
        },
        {
          "output_type": "stream",
          "name": "stdout",
          "text": [
            "Tr-me_1105.jpg -> Class: meningioma, Confidence: 1.00\n",
            "Moving Tr-me_1105.jpg to BT100/Training/meningioma/20250328_234212_Tr-me_1105.jpg\n",
            "\u001b[1m1/1\u001b[0m \u001b[32m━━━━━━━━━━━━━━━━━━━━\u001b[0m\u001b[37m\u001b[0m \u001b[1m0s\u001b[0m 40ms/step\n"
          ]
        },
        {
          "output_type": "stream",
          "name": "stderr",
          "text": [
            "\r 90%|█████████ | 1032/1141 [01:50<00:12,  8.66it/s]"
          ]
        },
        {
          "output_type": "stream",
          "name": "stdout",
          "text": [
            "Tr-me_0417.jpg -> Class: meningioma, Confidence: 1.00\n",
            "Moving Tr-me_0417.jpg to BT100/Training/meningioma/20250328_234212_Tr-me_0417.jpg\n",
            "\u001b[1m1/1\u001b[0m \u001b[32m━━━━━━━━━━━━━━━━━━━━\u001b[0m\u001b[37m\u001b[0m \u001b[1m0s\u001b[0m 37ms/step\n"
          ]
        },
        {
          "output_type": "stream",
          "name": "stderr",
          "text": [
            "\r 91%|█████████ | 1033/1141 [01:50<00:12,  8.41it/s]"
          ]
        },
        {
          "output_type": "stream",
          "name": "stdout",
          "text": [
            "Tr-no_1033.jpg -> Class: notumor, Confidence: 1.00\n",
            "Moving Tr-no_1033.jpg to BT100/Training/notumor/20250328_234212_Tr-no_1033.jpg\n",
            "\u001b[1m1/1\u001b[0m \u001b[32m━━━━━━━━━━━━━━━━━━━━\u001b[0m\u001b[37m\u001b[0m \u001b[1m0s\u001b[0m 35ms/step\n"
          ]
        },
        {
          "output_type": "stream",
          "name": "stderr",
          "text": [
            "\r 91%|█████████ | 1034/1141 [01:50<00:12,  8.33it/s]"
          ]
        },
        {
          "output_type": "stream",
          "name": "stdout",
          "text": [
            "Tr-pi_0799.jpg -> Class: pituitary, Confidence: 1.00\n",
            "Moving Tr-pi_0799.jpg to BT100/Training/pituitary/20250328_234212_Tr-pi_0799.jpg\n",
            "\u001b[1m1/1\u001b[0m \u001b[32m━━━━━━━━━━━━━━━━━━━━\u001b[0m\u001b[37m\u001b[0m \u001b[1m0s\u001b[0m 39ms/step\n"
          ]
        },
        {
          "output_type": "stream",
          "name": "stderr",
          "text": [
            "\r 91%|█████████ | 1035/1141 [01:51<00:13,  8.13it/s]"
          ]
        },
        {
          "output_type": "stream",
          "name": "stdout",
          "text": [
            "Tr-pi_0915.jpg -> Class: pituitary, Confidence: 1.00\n",
            "Moving Tr-pi_0915.jpg to BT100/Training/pituitary/20250328_234212_Tr-pi_0915.jpg\n",
            "\u001b[1m1/1\u001b[0m \u001b[32m━━━━━━━━━━━━━━━━━━━━\u001b[0m\u001b[37m\u001b[0m \u001b[1m0s\u001b[0m 34ms/step\n"
          ]
        },
        {
          "output_type": "stream",
          "name": "stderr",
          "text": [
            "\r 91%|█████████ | 1036/1141 [01:51<00:12,  8.22it/s]"
          ]
        },
        {
          "output_type": "stream",
          "name": "stdout",
          "text": [
            "Tr-gl_0903.jpg -> Class: glioma, Confidence: 1.00\n",
            "Moving Tr-gl_0903.jpg to BT100/Training/glioma/20250328_234213_Tr-gl_0903.jpg\n",
            "\u001b[1m1/1\u001b[0m \u001b[32m━━━━━━━━━━━━━━━━━━━━\u001b[0m\u001b[37m\u001b[0m \u001b[1m0s\u001b[0m 40ms/step\n"
          ]
        },
        {
          "output_type": "stream",
          "name": "stderr",
          "text": [
            "\r 91%|█████████ | 1037/1141 [01:51<00:12,  8.18it/s]"
          ]
        },
        {
          "output_type": "stream",
          "name": "stdout",
          "text": [
            "Tr-gl_0982.jpg -> Class: glioma, Confidence: 1.00\n",
            "Moving Tr-gl_0982.jpg to BT100/Training/glioma/20250328_234213_Tr-gl_0982.jpg\n",
            "\u001b[1m1/1\u001b[0m \u001b[32m━━━━━━━━━━━━━━━━━━━━\u001b[0m\u001b[37m\u001b[0m \u001b[1m0s\u001b[0m 46ms/step\n"
          ]
        },
        {
          "output_type": "stream",
          "name": "stderr",
          "text": [
            "\r 91%|█████████ | 1038/1141 [01:51<00:12,  8.05it/s]"
          ]
        },
        {
          "output_type": "stream",
          "name": "stdout",
          "text": [
            "Tr-gl_0457.jpg -> Class: glioma, Confidence: 1.00\n",
            "Moving Tr-gl_0457.jpg to BT100/Training/glioma/20250328_234213_Tr-gl_0457.jpg\n",
            "\u001b[1m1/1\u001b[0m \u001b[32m━━━━━━━━━━━━━━━━━━━━\u001b[0m\u001b[37m\u001b[0m \u001b[1m0s\u001b[0m 36ms/step\n",
            "Tr-me_0132.jpg -> Class: meningioma, Confidence: 1.00\n",
            "Moving Tr-me_0132.jpg to BT100/Training/meningioma/20250328_234213_Tr-me_0132.jpg\n",
            "\u001b[1m1/1\u001b[0m \u001b[32m━━━━━━━━━━━━━━━━━━━━\u001b[0m\u001b[37m\u001b[0m \u001b[1m0s\u001b[0m 37ms/step\n"
          ]
        },
        {
          "output_type": "stream",
          "name": "stderr",
          "text": [
            "\r 91%|█████████ | 1040/1141 [01:51<00:11,  8.83it/s]"
          ]
        },
        {
          "output_type": "stream",
          "name": "stdout",
          "text": [
            "Tr-no_0276.jpg -> Class: notumor, Confidence: 1.00\n",
            "Moving Tr-no_0276.jpg to BT100/Training/notumor/20250328_234213_Tr-no_0276.jpg\n",
            "\u001b[1m1/1\u001b[0m \u001b[32m━━━━━━━━━━━━━━━━━━━━\u001b[0m\u001b[37m\u001b[0m \u001b[1m0s\u001b[0m 34ms/step\n"
          ]
        },
        {
          "output_type": "stream",
          "name": "stderr",
          "text": [
            "\r 91%|█████████ | 1041/1141 [01:51<00:11,  8.74it/s]"
          ]
        },
        {
          "output_type": "stream",
          "name": "stdout",
          "text": [
            "Tr-gl_0759.jpg -> Class: glioma, Confidence: 1.00\n",
            "Moving Tr-gl_0759.jpg to BT100/Training/glioma/20250328_234213_Tr-gl_0759.jpg\n",
            "\u001b[1m1/1\u001b[0m \u001b[32m━━━━━━━━━━━━━━━━━━━━\u001b[0m\u001b[37m\u001b[0m \u001b[1m0s\u001b[0m 39ms/step\n",
            "Tr-no_1439.jpg -> Class: notumor, Confidence: 1.00\n",
            "Moving Tr-no_1439.jpg to BT100/Training/notumor/20250328_234213_Tr-no_1439.jpg\n",
            "\u001b[1m1/1\u001b[0m \u001b[32m━━━━━━━━━━━━━━━━━━━━\u001b[0m\u001b[37m\u001b[0m \u001b[1m0s\u001b[0m 35ms/step\n",
            "Tr-gl_0342.jpg -> Class: glioma, Confidence: 1.00"
          ]
        },
        {
          "output_type": "stream",
          "name": "stderr",
          "text": [
            "\r 91%|█████████▏| 1043/1141 [01:51<00:09,  9.95it/s]"
          ]
        },
        {
          "output_type": "stream",
          "name": "stdout",
          "text": [
            "\n",
            "Moving Tr-gl_0342.jpg to BT100/Training/glioma/20250328_234213_Tr-gl_0342.jpg\n",
            "\u001b[1m1/1\u001b[0m \u001b[32m━━━━━━━━━━━━━━━━━━━━\u001b[0m\u001b[37m\u001b[0m \u001b[1m0s\u001b[0m 40ms/step\n",
            "Tr-no_0034.jpg -> Class: notumor, Confidence: 1.00\n",
            "Moving Tr-no_0034.jpg to BT100/Training/notumor/20250328_234213_Tr-no_0034.jpg\n",
            "\u001b[1m1/1\u001b[0m \u001b[32m━━━━━━━━━━━━━━━━━━━━\u001b[0m\u001b[37m\u001b[0m \u001b[1m0s\u001b[0m 35ms/step\n"
          ]
        },
        {
          "output_type": "stream",
          "name": "stderr",
          "text": [
            "\r 92%|█████████▏| 1045/1141 [01:52<00:09,  9.81it/s]"
          ]
        },
        {
          "output_type": "stream",
          "name": "stdout",
          "text": [
            "Tr-no_0432.jpg -> Class: notumor, Confidence: 1.00\n",
            "Moving Tr-no_0432.jpg to BT100/Training/notumor/20250328_234214_Tr-no_0432.jpg\n",
            "\u001b[1m1/1\u001b[0m \u001b[32m━━━━━━━━━━━━━━━━━━━━\u001b[0m\u001b[37m\u001b[0m \u001b[1m0s\u001b[0m 38ms/step\n"
          ]
        },
        {
          "output_type": "stream",
          "name": "stderr",
          "text": [
            "\r 92%|█████████▏| 1046/1141 [01:52<00:09,  9.57it/s]"
          ]
        },
        {
          "output_type": "stream",
          "name": "stdout",
          "text": [
            "Tr-no_0183.jpg -> Class: notumor, Confidence: 1.00\n",
            "Moving Tr-no_0183.jpg to BT100/Training/notumor/20250328_234214_Tr-no_0183.jpg\n",
            "\u001b[1m1/1\u001b[0m \u001b[32m━━━━━━━━━━━━━━━━━━━━\u001b[0m\u001b[37m\u001b[0m \u001b[1m0s\u001b[0m 41ms/step\n"
          ]
        },
        {
          "output_type": "stream",
          "name": "stderr",
          "text": [
            "\r 92%|█████████▏| 1047/1141 [01:52<00:10,  9.01it/s]"
          ]
        },
        {
          "output_type": "stream",
          "name": "stdout",
          "text": [
            "Tr-no_0995.jpg -> Class: notumor, Confidence: 1.00\n",
            "Moving Tr-no_0995.jpg to BT100/Training/notumor/20250328_234214_Tr-no_0995.jpg\n",
            "\u001b[1m1/1\u001b[0m \u001b[32m━━━━━━━━━━━━━━━━━━━━\u001b[0m\u001b[37m\u001b[0m \u001b[1m0s\u001b[0m 35ms/step\n"
          ]
        },
        {
          "output_type": "stream",
          "name": "stderr",
          "text": [
            "\r 92%|█████████▏| 1048/1141 [01:52<00:10,  8.72it/s]"
          ]
        },
        {
          "output_type": "stream",
          "name": "stdout",
          "text": [
            "Tr-no_1014.jpg -> Class: notumor, Confidence: 1.00\n",
            "Moving Tr-no_1014.jpg to BT100/Training/notumor/20250328_234214_Tr-no_1014.jpg\n",
            "\u001b[1m1/1\u001b[0m \u001b[32m━━━━━━━━━━━━━━━━━━━━\u001b[0m\u001b[37m\u001b[0m \u001b[1m0s\u001b[0m 37ms/step\n",
            "Tr-gl_1160.jpg -> Class: glioma, Confidence: 1.00\n",
            "Moving Tr-gl_1160.jpg to BT100/Training/glioma/20250328_234214_Tr-gl_1160.jpg\n",
            "\u001b[1m1/1\u001b[0m \u001b[32m━━━━━━━━━━━━━━━━━━━━\u001b[0m\u001b[37m\u001b[0m \u001b[1m0s\u001b[0m 35ms/step\n"
          ]
        },
        {
          "output_type": "stream",
          "name": "stderr",
          "text": [
            "\r 92%|█████████▏| 1050/1141 [01:52<00:09,  9.87it/s]"
          ]
        },
        {
          "output_type": "stream",
          "name": "stdout",
          "text": [
            "Tr-gl_0699.jpg -> Class: glioma, Confidence: 1.00\n",
            "Moving Tr-gl_0699.jpg to BT100/Training/glioma/20250328_234214_Tr-gl_0699.jpg\n",
            "\u001b[1m1/1\u001b[0m \u001b[32m━━━━━━━━━━━━━━━━━━━━\u001b[0m\u001b[37m\u001b[0m \u001b[1m0s\u001b[0m 38ms/step\n"
          ]
        },
        {
          "output_type": "stream",
          "name": "stderr",
          "text": [
            "\r 92%|█████████▏| 1051/1141 [01:52<00:09,  9.33it/s]"
          ]
        },
        {
          "output_type": "stream",
          "name": "stdout",
          "text": [
            "Tr-me_0445.jpg -> Class: meningioma, Confidence: 1.00\n",
            "Moving Tr-me_0445.jpg to BT100/Training/meningioma/20250328_234214_Tr-me_0445.jpg\n",
            "\u001b[1m1/1\u001b[0m \u001b[32m━━━━━━━━━━━━━━━━━━━━\u001b[0m\u001b[37m\u001b[0m \u001b[1m0s\u001b[0m 39ms/step\n",
            "Tr-no_1237.jpg -> Class: notumor, Confidence: 1.00\n",
            "Moving Tr-no_1237.jpg to BT100/Training/notumor/20250328_234214_Tr-no_1237.jpg\n",
            "\u001b[1m1/1\u001b[0m \u001b[32m━━━━━━━━━━━━━━━━━━━━\u001b[0m\u001b[37m\u001b[0m \u001b[1m0s\u001b[0m 37ms/step\n"
          ]
        },
        {
          "output_type": "stream",
          "name": "stderr",
          "text": [
            "\r 92%|█████████▏| 1053/1141 [01:52<00:08, 10.21it/s]"
          ]
        },
        {
          "output_type": "stream",
          "name": "stdout",
          "text": [
            "Tr-me_0442.jpg -> Class: meningioma, Confidence: 1.00\n",
            "Moving Tr-me_0442.jpg to BT100/Training/meningioma/20250328_234214_Tr-me_0442.jpg\n",
            "\u001b[1m1/1\u001b[0m \u001b[32m━━━━━━━━━━━━━━━━━━━━\u001b[0m\u001b[37m\u001b[0m \u001b[1m0s\u001b[0m 45ms/step\n"
          ]
        },
        {
          "output_type": "stream",
          "name": "stderr",
          "text": [
            "\r 92%|█████████▏| 1054/1141 [01:53<00:09,  9.62it/s]"
          ]
        },
        {
          "output_type": "stream",
          "name": "stdout",
          "text": [
            "Tr-pi_1072.jpg -> Class: pituitary, Confidence: 1.00\n",
            "Moving Tr-pi_1072.jpg to BT100/Training/pituitary/20250328_234214_Tr-pi_1072.jpg\n",
            "\u001b[1m1/1\u001b[0m \u001b[32m━━━━━━━━━━━━━━━━━━━━\u001b[0m\u001b[37m\u001b[0m \u001b[1m0s\u001b[0m 37ms/step\n"
          ]
        },
        {
          "output_type": "stream",
          "name": "stderr",
          "text": [
            "\r 92%|█████████▏| 1055/1141 [01:53<00:09,  9.43it/s]"
          ]
        },
        {
          "output_type": "stream",
          "name": "stdout",
          "text": [
            "Tr-pi_1063.jpg -> Class: pituitary, Confidence: 1.00\n",
            "Moving Tr-pi_1063.jpg to BT100/Training/pituitary/20250328_234215_Tr-pi_1063.jpg\n",
            "\u001b[1m1/1\u001b[0m \u001b[32m━━━━━━━━━━━━━━━━━━━━\u001b[0m\u001b[37m\u001b[0m \u001b[1m0s\u001b[0m 37ms/step\n"
          ]
        },
        {
          "output_type": "stream",
          "name": "stderr",
          "text": [
            "\r 93%|█████████▎| 1056/1141 [01:53<00:09,  9.08it/s]"
          ]
        },
        {
          "output_type": "stream",
          "name": "stdout",
          "text": [
            "Tr-no_1543.jpg -> Class: notumor, Confidence: 1.00\n",
            "Moving Tr-no_1543.jpg to BT100/Training/notumor/20250328_234215_Tr-no_1543.jpg\n",
            "\u001b[1m1/1\u001b[0m \u001b[32m━━━━━━━━━━━━━━━━━━━━\u001b[0m\u001b[37m\u001b[0m \u001b[1m0s\u001b[0m 39ms/step\n"
          ]
        },
        {
          "output_type": "stream",
          "name": "stderr",
          "text": [
            "\r 93%|█████████▎| 1057/1141 [01:53<00:09,  8.69it/s]"
          ]
        },
        {
          "output_type": "stream",
          "name": "stdout",
          "text": [
            "Tr-no_1496.jpg -> Class: notumor, Confidence: 1.00\n",
            "Moving Tr-no_1496.jpg to BT100/Training/notumor/20250328_234215_Tr-no_1496.jpg\n",
            "\u001b[1m1/1\u001b[0m \u001b[32m━━━━━━━━━━━━━━━━━━━━\u001b[0m\u001b[37m\u001b[0m \u001b[1m0s\u001b[0m 34ms/step\n",
            "Tr-gl_0618.jpg -> Class: glioma, Confidence: 1.00\n",
            "Moving Tr-gl_0618.jpg to BT100/Training/glioma/20250328_234215_Tr-gl_0618.jpg\n",
            "\u001b[1m1/1\u001b[0m \u001b[32m━━━━━━━━━━━━━━━━━━━━\u001b[0m\u001b[37m\u001b[0m \u001b[1m0s\u001b[0m 37ms/step\n"
          ]
        },
        {
          "output_type": "stream",
          "name": "stderr",
          "text": [
            "\r 93%|█████████▎| 1059/1141 [01:53<00:08,  9.91it/s]"
          ]
        },
        {
          "output_type": "stream",
          "name": "stdout",
          "text": [
            "Tr-pi_0164.jpg -> Class: pituitary, Confidence: 1.00\n",
            "Moving Tr-pi_0164.jpg to BT100/Training/pituitary/20250328_234215_Tr-pi_0164.jpg\n",
            "\u001b[1m1/1\u001b[0m \u001b[32m━━━━━━━━━━━━━━━━━━━━\u001b[0m\u001b[37m\u001b[0m \u001b[1m0s\u001b[0m 39ms/step\n"
          ]
        },
        {
          "output_type": "stream",
          "name": "stderr",
          "text": [
            "\r 93%|█████████▎| 1060/1141 [01:53<00:08,  9.37it/s]"
          ]
        },
        {
          "output_type": "stream",
          "name": "stdout",
          "text": [
            "Tr-no_0531.jpg -> Class: notumor, Confidence: 1.00\n",
            "Moving Tr-no_0531.jpg to BT100/Training/notumor/20250328_234215_Tr-no_0531.jpg\n",
            "\u001b[1m1/1\u001b[0m \u001b[32m━━━━━━━━━━━━━━━━━━━━\u001b[0m\u001b[37m\u001b[0m \u001b[1m0s\u001b[0m 46ms/step\n",
            "Tr-no_0073.jpg -> Class: notumor, Confidence: 1.00\n",
            "Moving Tr-no_0073.jpg to BT100/Training/notumor/20250328_234215_Tr-no_0073.jpg\n",
            "\u001b[1m1/1\u001b[0m \u001b[32m━━━━━━━━━━━━━━━━━━━━\u001b[0m\u001b[37m\u001b[0m \u001b[1m0s\u001b[0m 45ms/step\n"
          ]
        },
        {
          "output_type": "stream",
          "name": "stderr",
          "text": [
            "\r 93%|█████████▎| 1062/1141 [01:53<00:08,  9.44it/s]"
          ]
        },
        {
          "output_type": "stream",
          "name": "stdout",
          "text": [
            "Tr-no_1573.jpg -> Class: notumor, Confidence: 1.00\n",
            "Moving Tr-no_1573.jpg to BT100/Training/notumor/20250328_234215_Tr-no_1573.jpg\n",
            "\u001b[1m1/1\u001b[0m \u001b[32m━━━━━━━━━━━━━━━━━━━━\u001b[0m\u001b[37m\u001b[0m \u001b[1m0s\u001b[0m 38ms/step\n"
          ]
        },
        {
          "output_type": "stream",
          "name": "stderr",
          "text": [
            "\r 93%|█████████▎| 1063/1141 [01:54<00:08,  9.19it/s]"
          ]
        },
        {
          "output_type": "stream",
          "name": "stdout",
          "text": [
            "Tr-pi_0461.jpg -> Class: pituitary, Confidence: 1.00\n",
            "Moving Tr-pi_0461.jpg to BT100/Training/pituitary/20250328_234215_Tr-pi_0461.jpg\n",
            "\u001b[1m1/1\u001b[0m \u001b[32m━━━━━━━━━━━━━━━━━━━━\u001b[0m\u001b[37m\u001b[0m \u001b[1m0s\u001b[0m 40ms/step\n"
          ]
        },
        {
          "output_type": "stream",
          "name": "stderr",
          "text": [
            "\r 93%|█████████▎| 1064/1141 [01:54<00:08,  8.95it/s]"
          ]
        },
        {
          "output_type": "stream",
          "name": "stdout",
          "text": [
            "Tr-pi_1385.jpg -> Class: pituitary, Confidence: 1.00\n",
            "Moving Tr-pi_1385.jpg to BT100/Training/pituitary/20250328_234216_Tr-pi_1385.jpg\n",
            "\u001b[1m1/1\u001b[0m \u001b[32m━━━━━━━━━━━━━━━━━━━━\u001b[0m\u001b[37m\u001b[0m \u001b[1m0s\u001b[0m 46ms/step\n"
          ]
        },
        {
          "output_type": "stream",
          "name": "stderr",
          "text": [
            "\r 93%|█████████▎| 1065/1141 [01:54<00:08,  8.55it/s]"
          ]
        },
        {
          "output_type": "stream",
          "name": "stdout",
          "text": [
            "Tr-pi_0534.jpg -> Class: pituitary, Confidence: 1.00\n",
            "Moving Tr-pi_0534.jpg to BT100/Training/pituitary/20250328_234216_Tr-pi_0534.jpg\n",
            "\u001b[1m1/1\u001b[0m \u001b[32m━━━━━━━━━━━━━━━━━━━━\u001b[0m\u001b[37m\u001b[0m \u001b[1m0s\u001b[0m 44ms/step\n"
          ]
        },
        {
          "output_type": "stream",
          "name": "stderr",
          "text": [
            "\r 93%|█████████▎| 1066/1141 [01:54<00:09,  8.29it/s]"
          ]
        },
        {
          "output_type": "stream",
          "name": "stdout",
          "text": [
            "Tr-no_0687.jpg -> Class: notumor, Confidence: 1.00\n",
            "Moving Tr-no_0687.jpg to BT100/Training/notumor/20250328_234216_Tr-no_0687.jpg\n",
            "\u001b[1m1/1\u001b[0m \u001b[32m━━━━━━━━━━━━━━━━━━━━\u001b[0m\u001b[37m\u001b[0m \u001b[1m0s\u001b[0m 38ms/step\n",
            "Tr-pi_0957.jpg -> Class: pituitary, Confidence: 0.96\n",
            "Moved low-confidence image Tr-pi_0957.jpg to BT100/low_confidence\n",
            "\u001b[1m1/1\u001b[0m \u001b[32m━━━━━━━━━━━━━━━━━━━━\u001b[0m\u001b[37m\u001b[0m \u001b[1m0s\u001b[0m 33ms/step\n"
          ]
        },
        {
          "output_type": "stream",
          "name": "stderr",
          "text": [
            "\r 94%|█████████▎| 1068/1141 [01:54<00:08,  9.04it/s]"
          ]
        },
        {
          "output_type": "stream",
          "name": "stdout",
          "text": [
            "Tr-no_0254.jpg -> Class: notumor, Confidence: 1.00\n",
            "Moving Tr-no_0254.jpg to BT100/Training/notumor/20250328_234216_Tr-no_0254.jpg\n",
            "\u001b[1m1/1\u001b[0m \u001b[32m━━━━━━━━━━━━━━━━━━━━\u001b[0m\u001b[37m\u001b[0m \u001b[1m0s\u001b[0m 36ms/step\n"
          ]
        },
        {
          "output_type": "stream",
          "name": "stderr",
          "text": [
            "\r 94%|█████████▎| 1069/1141 [01:54<00:08,  8.88it/s]"
          ]
        },
        {
          "output_type": "stream",
          "name": "stdout",
          "text": [
            "Tr-gl_1222.jpg -> Class: notumor, Confidence: 0.97\n",
            "Moved low-confidence image Tr-gl_1222.jpg to BT100/low_confidence\n",
            "\u001b[1m1/1\u001b[0m \u001b[32m━━━━━━━━━━━━━━━━━━━━\u001b[0m\u001b[37m\u001b[0m \u001b[1m0s\u001b[0m 56ms/step\n"
          ]
        },
        {
          "output_type": "stream",
          "name": "stderr",
          "text": [
            "\r 94%|█████████▍| 1070/1141 [01:54<00:08,  8.57it/s]"
          ]
        },
        {
          "output_type": "stream",
          "name": "stdout",
          "text": [
            "Tr-pi_1199.jpg -> Class: pituitary, Confidence: 1.00\n",
            "Moving Tr-pi_1199.jpg to BT100/Training/pituitary/20250328_234216_Tr-pi_1199.jpg\n",
            "\u001b[1m1/1\u001b[0m \u001b[32m━━━━━━━━━━━━━━━━━━━━\u001b[0m\u001b[37m\u001b[0m \u001b[1m0s\u001b[0m 47ms/step\n"
          ]
        },
        {
          "output_type": "stream",
          "name": "stderr",
          "text": [
            "\r 94%|█████████▍| 1071/1141 [01:55<00:08,  8.20it/s]"
          ]
        },
        {
          "output_type": "stream",
          "name": "stdout",
          "text": [
            "Tr-me_0720.jpg -> Class: meningioma, Confidence: 1.00\n",
            "Moving Tr-me_0720.jpg to BT100/Training/meningioma/20250328_234216_Tr-me_0720.jpg\n",
            "\u001b[1m1/1\u001b[0m \u001b[32m━━━━━━━━━━━━━━━━━━━━\u001b[0m\u001b[37m\u001b[0m \u001b[1m0s\u001b[0m 40ms/step\n"
          ]
        },
        {
          "output_type": "stream",
          "name": "stderr",
          "text": [
            "\r 94%|█████████▍| 1072/1141 [01:55<00:08,  8.09it/s]"
          ]
        },
        {
          "output_type": "stream",
          "name": "stdout",
          "text": [
            "Tr-pi_1310.jpg -> Class: pituitary, Confidence: 1.00\n",
            "Moving Tr-pi_1310.jpg to BT100/Training/pituitary/20250328_234217_Tr-pi_1310.jpg\n",
            "\u001b[1m1/1\u001b[0m \u001b[32m━━━━━━━━━━━━━━━━━━━━\u001b[0m\u001b[37m\u001b[0m \u001b[1m0s\u001b[0m 42ms/step\n"
          ]
        },
        {
          "output_type": "stream",
          "name": "stderr",
          "text": [
            "\r 94%|█████████▍| 1073/1141 [01:55<00:08,  8.04it/s]"
          ]
        },
        {
          "output_type": "stream",
          "name": "stdout",
          "text": [
            "Tr-me_0715.jpg -> Class: meningioma, Confidence: 0.95\n",
            "Moved low-confidence image Tr-me_0715.jpg to BT100/low_confidence\n",
            "\u001b[1m1/1\u001b[0m \u001b[32m━━━━━━━━━━━━━━━━━━━━\u001b[0m\u001b[37m\u001b[0m \u001b[1m0s\u001b[0m 51ms/step\n"
          ]
        },
        {
          "output_type": "stream",
          "name": "stderr",
          "text": [
            "\r 94%|█████████▍| 1074/1141 [01:55<00:08,  7.78it/s]"
          ]
        },
        {
          "output_type": "stream",
          "name": "stdout",
          "text": [
            "Tr-pi_1379.jpg -> Class: pituitary, Confidence: 1.00\n",
            "Moving Tr-pi_1379.jpg to BT100/Training/pituitary/20250328_234217_Tr-pi_1379.jpg\n",
            "\u001b[1m1/1\u001b[0m \u001b[32m━━━━━━━━━━━━━━━━━━━━\u001b[0m\u001b[37m\u001b[0m \u001b[1m0s\u001b[0m 40ms/step\n",
            "Tr-no_1444.jpg -> Class: notumor, Confidence: 1.00\n",
            "Moving Tr-no_1444.jpg to BT100/Training/notumor/20250328_234217_Tr-no_1444.jpg\n",
            "\u001b[1m1/1\u001b[0m \u001b[32m━━━━━━━━━━━━━━━━━━━━\u001b[0m\u001b[37m\u001b[0m \u001b[1m0s\u001b[0m 46ms/step\n"
          ]
        },
        {
          "output_type": "stream",
          "name": "stderr",
          "text": [
            "\r 94%|█████████▍| 1076/1141 [01:55<00:07,  8.92it/s]"
          ]
        },
        {
          "output_type": "stream",
          "name": "stdout",
          "text": [
            "Tr-pi_0587.jpg -> Class: pituitary, Confidence: 1.00\n",
            "Moving Tr-pi_0587.jpg to BT100/Training/pituitary/20250328_234217_Tr-pi_0587.jpg\n",
            "\u001b[1m1/1\u001b[0m \u001b[32m━━━━━━━━━━━━━━━━━━━━\u001b[0m\u001b[37m\u001b[0m \u001b[1m0s\u001b[0m 38ms/step\n",
            "Tr-me_1125.jpg -> Class: meningioma, Confidence: 0.99\n",
            "Moving Tr-me_1125.jpg to BT100/Training/meningioma/20250328_234217_Tr-me_1125.jpg\n",
            "\u001b[1m1/1\u001b[0m \u001b[32m━━━━━━━━━━━━━━━━━━━━\u001b[0m\u001b[37m\u001b[0m \u001b[1m0s\u001b[0m 36ms/step\n"
          ]
        },
        {
          "output_type": "stream",
          "name": "stderr",
          "text": [
            "\r 94%|█████████▍| 1078/1141 [01:55<00:06,  9.72it/s]"
          ]
        },
        {
          "output_type": "stream",
          "name": "stdout",
          "text": [
            "Tr-no_0676.jpg -> Class: notumor, Confidence: 1.00\n",
            "Moving Tr-no_0676.jpg to BT100/Training/notumor/20250328_234217_Tr-no_0676.jpg\n",
            "\u001b[1m1/1\u001b[0m \u001b[32m━━━━━━━━━━━━━━━━━━━━\u001b[0m\u001b[37m\u001b[0m \u001b[1m0s\u001b[0m 37ms/step\n",
            "Tr-me_0921.jpg -> Class: meningioma, Confidence: 0.98\n",
            "Moved low-confidence image Tr-me_0921.jpg to BT100/low_confidence\n",
            "\u001b[1m1/1\u001b[0m \u001b[32m━━━━━━━━━━━━━━━━━━━━\u001b[0m\u001b[37m\u001b[0m \u001b[1m0s\u001b[0m 38ms/step\n"
          ]
        },
        {
          "output_type": "stream",
          "name": "stderr",
          "text": [
            "\r 95%|█████████▍| 1080/1141 [01:55<00:06, 10.05it/s]"
          ]
        },
        {
          "output_type": "stream",
          "name": "stdout",
          "text": [
            "Tr-me_0564.jpg -> Class: meningioma, Confidence: 1.00\n",
            "Moving Tr-me_0564.jpg to BT100/Training/meningioma/20250328_234217_Tr-me_0564.jpg\n",
            "\u001b[1m1/1\u001b[0m \u001b[32m━━━━━━━━━━━━━━━━━━━━\u001b[0m\u001b[37m\u001b[0m \u001b[1m0s\u001b[0m 35ms/step\n"
          ]
        },
        {
          "output_type": "stream",
          "name": "stderr",
          "text": [
            "\r 95%|█████████▍| 1081/1141 [01:56<00:06,  9.54it/s]"
          ]
        },
        {
          "output_type": "stream",
          "name": "stdout",
          "text": [
            "Tr-gl_0856.jpg -> Class: glioma, Confidence: 1.00\n",
            "Moving Tr-gl_0856.jpg to BT100/Training/glioma/20250328_234217_Tr-gl_0856.jpg\n",
            "\u001b[1m1/1\u001b[0m \u001b[32m━━━━━━━━━━━━━━━━━━━━\u001b[0m\u001b[37m\u001b[0m \u001b[1m0s\u001b[0m 44ms/step\n"
          ]
        },
        {
          "output_type": "stream",
          "name": "stderr",
          "text": [
            "\r 95%|█████████▍| 1082/1141 [01:56<00:06,  9.18it/s]"
          ]
        },
        {
          "output_type": "stream",
          "name": "stdout",
          "text": [
            "Tr-no_0190.jpg -> Class: notumor, Confidence: 1.00\n",
            "Moving Tr-no_0190.jpg to BT100/Training/notumor/20250328_234218_Tr-no_0190.jpg\n",
            "\u001b[1m1/1\u001b[0m \u001b[32m━━━━━━━━━━━━━━━━━━━━\u001b[0m\u001b[37m\u001b[0m \u001b[1m0s\u001b[0m 38ms/step\n"
          ]
        },
        {
          "output_type": "stream",
          "name": "stderr",
          "text": [
            "\r 95%|█████████▍| 1083/1141 [01:56<00:06,  8.75it/s]"
          ]
        },
        {
          "output_type": "stream",
          "name": "stdout",
          "text": [
            "Tr-pi_1032.jpg -> Class: pituitary, Confidence: 1.00\n",
            "Moving Tr-pi_1032.jpg to BT100/Training/pituitary/20250328_234218_Tr-pi_1032.jpg\n",
            "\u001b[1m1/1\u001b[0m \u001b[32m━━━━━━━━━━━━━━━━━━━━\u001b[0m\u001b[37m\u001b[0m \u001b[1m0s\u001b[0m 43ms/step\n"
          ]
        },
        {
          "output_type": "stream",
          "name": "stderr",
          "text": [
            "\r 95%|█████████▌| 1084/1141 [01:56<00:06,  8.99it/s]"
          ]
        },
        {
          "output_type": "stream",
          "name": "stdout",
          "text": [
            "Tr-pi_0094.jpg -> Class: pituitary, Confidence: 1.00\n",
            "Moving Tr-pi_0094.jpg to BT100/Training/pituitary/20250328_234218_Tr-pi_0094.jpg\n",
            "\u001b[1m1/1\u001b[0m \u001b[32m━━━━━━━━━━━━━━━━━━━━\u001b[0m\u001b[37m\u001b[0m \u001b[1m0s\u001b[0m 43ms/step\n",
            "Tr-me_0256.jpg -> Class: meningioma, Confidence: 1.00\n",
            "Moving Tr-me_0256.jpg to BT100/Training/meningioma/20250328_234218_Tr-me_0256.jpg\n",
            "\u001b[1m1/1\u001b[0m \u001b[32m━━━━━━━━━━━━━━━━━━━━\u001b[0m\u001b[37m\u001b[0m \u001b[1m0s\u001b[0m 40ms/step\n"
          ]
        },
        {
          "output_type": "stream",
          "name": "stderr",
          "text": [
            "\r 95%|█████████▌| 1086/1141 [01:56<00:06,  9.14it/s]"
          ]
        },
        {
          "output_type": "stream",
          "name": "stdout",
          "text": [
            "Tr-no_0311.jpg -> Class: notumor, Confidence: 1.00\n",
            "Moving Tr-no_0311.jpg to BT100/Training/notumor/20250328_234218_Tr-no_0311.jpg\n",
            "\u001b[1m1/1\u001b[0m \u001b[32m━━━━━━━━━━━━━━━━━━━━\u001b[0m\u001b[37m\u001b[0m \u001b[1m0s\u001b[0m 42ms/step\n"
          ]
        },
        {
          "output_type": "stream",
          "name": "stderr",
          "text": [
            "\r 95%|█████████▌| 1087/1141 [01:56<00:06,  8.94it/s]"
          ]
        },
        {
          "output_type": "stream",
          "name": "stdout",
          "text": [
            "Tr-me_0976.jpg -> Class: meningioma, Confidence: 1.00\n",
            "Moving Tr-me_0976.jpg to BT100/Training/meningioma/20250328_234218_Tr-me_0976.jpg\n",
            "\u001b[1m1/1\u001b[0m \u001b[32m━━━━━━━━━━━━━━━━━━━━\u001b[0m\u001b[37m\u001b[0m \u001b[1m0s\u001b[0m 39ms/step\n"
          ]
        },
        {
          "output_type": "stream",
          "name": "stderr",
          "text": [
            "\r 95%|█████████▌| 1088/1141 [01:56<00:06,  8.65it/s]"
          ]
        },
        {
          "output_type": "stream",
          "name": "stdout",
          "text": [
            "Tr-gl_0677.jpg -> Class: glioma, Confidence: 1.00\n",
            "Moving Tr-gl_0677.jpg to BT100/Training/glioma/20250328_234218_Tr-gl_0677.jpg\n",
            "\u001b[1m1/1\u001b[0m \u001b[32m━━━━━━━━━━━━━━━━━━━━\u001b[0m\u001b[37m\u001b[0m \u001b[1m0s\u001b[0m 37ms/step\n"
          ]
        },
        {
          "output_type": "stream",
          "name": "stderr",
          "text": [
            "\r 95%|█████████▌| 1089/1141 [01:57<00:06,  8.29it/s]"
          ]
        },
        {
          "output_type": "stream",
          "name": "stdout",
          "text": [
            "Tr-pi_1254.jpg -> Class: pituitary, Confidence: 1.00\n",
            "Moving Tr-pi_1254.jpg to BT100/Training/pituitary/20250328_234218_Tr-pi_1254.jpg\n",
            "\u001b[1m1/1\u001b[0m \u001b[32m━━━━━━━━━━━━━━━━━━━━\u001b[0m\u001b[37m\u001b[0m \u001b[1m0s\u001b[0m 37ms/step\n"
          ]
        },
        {
          "output_type": "stream",
          "name": "stderr",
          "text": [
            "\r 96%|█████████▌| 1090/1141 [01:57<00:06,  8.26it/s]"
          ]
        },
        {
          "output_type": "stream",
          "name": "stdout",
          "text": [
            "Tr-pi_1412.jpg -> Class: pituitary, Confidence: 1.00\n",
            "Moving Tr-pi_1412.jpg to BT100/Training/pituitary/20250328_234219_Tr-pi_1412.jpg\n",
            "\u001b[1m1/1\u001b[0m \u001b[32m━━━━━━━━━━━━━━━━━━━━\u001b[0m\u001b[37m\u001b[0m \u001b[1m0s\u001b[0m 36ms/step\n",
            "Tr-no_1532.jpg -> Class: notumor, Confidence: 1.00\n",
            "Moving Tr-no_1532.jpg to BT100/Training/notumor/20250328_234219_Tr-no_1532.jpg\n",
            "\u001b[1m1/1\u001b[0m \u001b[32m━━━━━━━━━━━━━━━━━━━━\u001b[0m\u001b[37m\u001b[0m \u001b[1m0s\u001b[0m 43ms/step\n"
          ]
        },
        {
          "output_type": "stream",
          "name": "stderr",
          "text": [
            "\r 96%|█████████▌| 1092/1141 [01:57<00:05,  8.87it/s]"
          ]
        },
        {
          "output_type": "stream",
          "name": "stdout",
          "text": [
            "Tr-gl_0666.jpg -> Class: glioma, Confidence: 1.00\n",
            "Moving Tr-gl_0666.jpg to BT100/Training/glioma/20250328_234219_Tr-gl_0666.jpg\n",
            "\u001b[1m1/1\u001b[0m \u001b[32m━━━━━━━━━━━━━━━━━━━━\u001b[0m\u001b[37m\u001b[0m \u001b[1m0s\u001b[0m 36ms/step\n"
          ]
        },
        {
          "output_type": "stream",
          "name": "stderr",
          "text": [
            "\r 96%|█████████▌| 1093/1141 [01:57<00:05,  8.77it/s]"
          ]
        },
        {
          "output_type": "stream",
          "name": "stdout",
          "text": [
            "Tr-no_1315.jpg -> Class: notumor, Confidence: 1.00\n",
            "Moving Tr-no_1315.jpg to BT100/Training/notumor/20250328_234219_Tr-no_1315.jpg\n",
            "\u001b[1m1/1\u001b[0m \u001b[32m━━━━━━━━━━━━━━━━━━━━\u001b[0m\u001b[37m\u001b[0m \u001b[1m0s\u001b[0m 36ms/step\n"
          ]
        },
        {
          "output_type": "stream",
          "name": "stderr",
          "text": [
            "\r 96%|█████████▌| 1094/1141 [01:57<00:05,  8.60it/s]"
          ]
        },
        {
          "output_type": "stream",
          "name": "stdout",
          "text": [
            "Tr-pi_0827.jpg -> Class: pituitary, Confidence: 1.00\n",
            "Moving Tr-pi_0827.jpg to BT100/Training/pituitary/20250328_234219_Tr-pi_0827.jpg\n",
            "\u001b[1m1/1\u001b[0m \u001b[32m━━━━━━━━━━━━━━━━━━━━\u001b[0m\u001b[37m\u001b[0m \u001b[1m0s\u001b[0m 43ms/step\n",
            "Tr-pi_0803.jpg -> Class: pituitary, Confidence: 1.00\n",
            "Moving Tr-pi_0803.jpg to BT100/Training/pituitary/20250328_234219_Tr-pi_0803.jpg\n",
            "\u001b[1m1/1\u001b[0m \u001b[32m━━━━━━━━━━━━━━━━━━━━\u001b[0m\u001b[37m\u001b[0m \u001b[1m0s\u001b[0m 44ms/step\n"
          ]
        },
        {
          "output_type": "stream",
          "name": "stderr",
          "text": [
            "\r 96%|█████████▌| 1096/1141 [01:57<00:05,  8.89it/s]"
          ]
        },
        {
          "output_type": "stream",
          "name": "stdout",
          "text": [
            "Tr-me_0918.jpg -> Class: meningioma, Confidence: 1.00\n",
            "Moving Tr-me_0918.jpg to BT100/Training/meningioma/20250328_234219_Tr-me_0918.jpg\n",
            "\u001b[1m1/1\u001b[0m \u001b[32m━━━━━━━━━━━━━━━━━━━━\u001b[0m\u001b[37m\u001b[0m \u001b[1m0s\u001b[0m 43ms/step\n"
          ]
        },
        {
          "output_type": "stream",
          "name": "stderr",
          "text": [
            "\r 96%|█████████▌| 1097/1141 [01:57<00:05,  8.65it/s]"
          ]
        },
        {
          "output_type": "stream",
          "name": "stdout",
          "text": [
            "Tr-me_0023.jpg -> Class: meningioma, Confidence: 1.00\n",
            "Moving Tr-me_0023.jpg to BT100/Training/meningioma/20250328_234219_Tr-me_0023.jpg\n",
            "\u001b[1m1/1\u001b[0m \u001b[32m━━━━━━━━━━━━━━━━━━━━\u001b[0m\u001b[37m\u001b[0m \u001b[1m0s\u001b[0m 41ms/step\n"
          ]
        },
        {
          "output_type": "stream",
          "name": "stderr",
          "text": [
            "\r 96%|█████████▌| 1098/1141 [01:58<00:04,  8.78it/s]"
          ]
        },
        {
          "output_type": "stream",
          "name": "stdout",
          "text": [
            "Tr-gl_0819.jpg -> Class: glioma, Confidence: 1.00\n",
            "Moving Tr-gl_0819.jpg to BT100/Training/glioma/20250328_234219_Tr-gl_0819.jpg\n",
            "\u001b[1m1/1\u001b[0m \u001b[32m━━━━━━━━━━━━━━━━━━━━\u001b[0m\u001b[37m\u001b[0m \u001b[1m0s\u001b[0m 43ms/step\n"
          ]
        },
        {
          "output_type": "stream",
          "name": "stderr",
          "text": [
            "\r 96%|█████████▋| 1099/1141 [01:58<00:04,  8.46it/s]"
          ]
        },
        {
          "output_type": "stream",
          "name": "stdout",
          "text": [
            "Tr-pi_0846.jpg -> Class: pituitary, Confidence: 1.00\n",
            "Moving Tr-pi_0846.jpg to BT100/Training/pituitary/20250328_234220_Tr-pi_0846.jpg\n",
            "\u001b[1m1/1\u001b[0m \u001b[32m━━━━━━━━━━━━━━━━━━━━\u001b[0m\u001b[37m\u001b[0m \u001b[1m0s\u001b[0m 48ms/step\n"
          ]
        },
        {
          "output_type": "stream",
          "name": "stderr",
          "text": [
            "\r 96%|█████████▋| 1100/1141 [01:58<00:04,  8.21it/s]"
          ]
        },
        {
          "output_type": "stream",
          "name": "stdout",
          "text": [
            "Tr-me_0950.jpg -> Class: meningioma, Confidence: 1.00\n",
            "Moving Tr-me_0950.jpg to BT100/Training/meningioma/20250328_234220_Tr-me_0950.jpg\n",
            "\u001b[1m1/1\u001b[0m \u001b[32m━━━━━━━━━━━━━━━━━━━━\u001b[0m\u001b[37m\u001b[0m \u001b[1m0s\u001b[0m 56ms/step\n"
          ]
        },
        {
          "output_type": "stream",
          "name": "stderr",
          "text": [
            "\r 96%|█████████▋| 1101/1141 [01:58<00:05,  7.61it/s]"
          ]
        },
        {
          "output_type": "stream",
          "name": "stdout",
          "text": [
            "Tr-no_0799.jpg -> Class: notumor, Confidence: 1.00\n",
            "Moving Tr-no_0799.jpg to BT100/Training/notumor/20250328_234220_Tr-no_0799.jpg\n",
            "\u001b[1m1/1\u001b[0m \u001b[32m━━━━━━━━━━━━━━━━━━━━\u001b[0m\u001b[37m\u001b[0m \u001b[1m0s\u001b[0m 44ms/step\n"
          ]
        },
        {
          "output_type": "stream",
          "name": "stderr",
          "text": [
            "\r 97%|█████████▋| 1102/1141 [01:58<00:05,  7.48it/s]"
          ]
        },
        {
          "output_type": "stream",
          "name": "stdout",
          "text": [
            "Tr-me_0554.jpg -> Class: meningioma, Confidence: 1.00\n",
            "Moving Tr-me_0554.jpg to BT100/Training/meningioma/20250328_234220_Tr-me_0554.jpg\n",
            "\u001b[1m1/1\u001b[0m \u001b[32m━━━━━━━━━━━━━━━━━━━━\u001b[0m\u001b[37m\u001b[0m \u001b[1m0s\u001b[0m 55ms/step\n"
          ]
        },
        {
          "output_type": "stream",
          "name": "stderr",
          "text": [
            "\r 97%|█████████▋| 1103/1141 [01:58<00:05,  7.60it/s]"
          ]
        },
        {
          "output_type": "stream",
          "name": "stdout",
          "text": [
            "Tr-me_0782.jpg -> Class: meningioma, Confidence: 1.00\n",
            "Moving Tr-me_0782.jpg to BT100/Training/meningioma/20250328_234220_Tr-me_0782.jpg\n",
            "\u001b[1m1/1\u001b[0m \u001b[32m━━━━━━━━━━━━━━━━━━━━\u001b[0m\u001b[37m\u001b[0m \u001b[1m0s\u001b[0m 56ms/step\n"
          ]
        },
        {
          "output_type": "stream",
          "name": "stderr",
          "text": [
            "\r 97%|█████████▋| 1104/1141 [01:58<00:04,  7.43it/s]"
          ]
        },
        {
          "output_type": "stream",
          "name": "stdout",
          "text": [
            "Tr-me_1275.jpg -> Class: meningioma, Confidence: 1.00\n",
            "Moving Tr-me_1275.jpg to BT100/Training/meningioma/20250328_234220_Tr-me_1275.jpg\n",
            "\u001b[1m1/1\u001b[0m \u001b[32m━━━━━━━━━━━━━━━━━━━━\u001b[0m\u001b[37m\u001b[0m \u001b[1m0s\u001b[0m 59ms/step\n",
            "Tr-gl_0656.jpg -> Class: glioma, Confidence: 1.00"
          ]
        },
        {
          "output_type": "stream",
          "name": "stderr",
          "text": [
            "\r 97%|█████████▋| 1105/1141 [01:59<00:04,  7.26it/s]"
          ]
        },
        {
          "output_type": "stream",
          "name": "stdout",
          "text": [
            "\n",
            "Moving Tr-gl_0656.jpg to BT100/Training/glioma/20250328_234220_Tr-gl_0656.jpg\n",
            "\u001b[1m1/1\u001b[0m \u001b[32m━━━━━━━━━━━━━━━━━━━━\u001b[0m\u001b[37m\u001b[0m \u001b[1m0s\u001b[0m 69ms/step\n"
          ]
        },
        {
          "output_type": "stream",
          "name": "stderr",
          "text": [
            "\r 97%|█████████▋| 1106/1141 [01:59<00:05,  7.00it/s]"
          ]
        },
        {
          "output_type": "stream",
          "name": "stdout",
          "text": [
            "Tr-no_1192.jpg -> Class: notumor, Confidence: 1.00\n",
            "Moving Tr-no_1192.jpg to BT100/Training/notumor/20250328_234221_Tr-no_1192.jpg\n",
            "\u001b[1m1/1\u001b[0m \u001b[32m━━━━━━━━━━━━━━━━━━━━\u001b[0m\u001b[37m\u001b[0m \u001b[1m0s\u001b[0m 62ms/step\n"
          ]
        },
        {
          "output_type": "stream",
          "name": "stderr",
          "text": [
            "\r 97%|█████████▋| 1107/1141 [01:59<00:05,  6.79it/s]"
          ]
        },
        {
          "output_type": "stream",
          "name": "stdout",
          "text": [
            "Tr-me_1249.jpg -> Class: meningioma, Confidence: 1.00\n",
            "Moving Tr-me_1249.jpg to BT100/Training/meningioma/20250328_234221_Tr-me_1249.jpg\n",
            "\u001b[1m1/1\u001b[0m \u001b[32m━━━━━━━━━━━━━━━━━━━━\u001b[0m\u001b[37m\u001b[0m \u001b[1m0s\u001b[0m 68ms/step\n"
          ]
        },
        {
          "output_type": "stream",
          "name": "stderr",
          "text": [
            "\r 97%|█████████▋| 1108/1141 [01:59<00:05,  6.55it/s]"
          ]
        },
        {
          "output_type": "stream",
          "name": "stdout",
          "text": [
            "Tr-pi_0132.jpg -> Class: pituitary, Confidence: 1.00\n",
            "Moving Tr-pi_0132.jpg to BT100/Training/pituitary/20250328_234221_Tr-pi_0132.jpg\n",
            "\u001b[1m1/1\u001b[0m \u001b[32m━━━━━━━━━━━━━━━━━━━━\u001b[0m\u001b[37m\u001b[0m \u001b[1m0s\u001b[0m 54ms/step\n"
          ]
        },
        {
          "output_type": "stream",
          "name": "stderr",
          "text": [
            "\r 97%|█████████▋| 1109/1141 [01:59<00:04,  6.95it/s]"
          ]
        },
        {
          "output_type": "stream",
          "name": "stdout",
          "text": [
            "Tr-pi_0055.jpg -> Class: pituitary, Confidence: 1.00\n",
            "Moving Tr-pi_0055.jpg to BT100/Training/pituitary/20250328_234221_Tr-pi_0055.jpg\n",
            "\u001b[1m1/1\u001b[0m \u001b[32m━━━━━━━━━━━━━━━━━━━━\u001b[0m\u001b[37m\u001b[0m \u001b[1m0s\u001b[0m 48ms/step\n"
          ]
        },
        {
          "output_type": "stream",
          "name": "stderr",
          "text": [
            "\r 97%|█████████▋| 1110/1141 [01:59<00:04,  7.04it/s]"
          ]
        },
        {
          "output_type": "stream",
          "name": "stdout",
          "text": [
            "Tr-gl_0558.jpg -> Class: glioma, Confidence: 1.00\n",
            "Moving Tr-gl_0558.jpg to BT100/Training/glioma/20250328_234221_Tr-gl_0558.jpg\n",
            "\u001b[1m1/1\u001b[0m \u001b[32m━━━━━━━━━━━━━━━━━━━━\u001b[0m\u001b[37m\u001b[0m \u001b[1m0s\u001b[0m 52ms/step\n"
          ]
        },
        {
          "output_type": "stream",
          "name": "stderr",
          "text": [
            "\r 97%|█████████▋| 1111/1141 [01:59<00:04,  6.87it/s]"
          ]
        },
        {
          "output_type": "stream",
          "name": "stdout",
          "text": [
            "Tr-no_0325.jpg -> Class: notumor, Confidence: 1.00\n",
            "Moving Tr-no_0325.jpg to BT100/Training/notumor/20250328_234221_Tr-no_0325.jpg\n",
            "\u001b[1m1/1\u001b[0m \u001b[32m━━━━━━━━━━━━━━━━━━━━\u001b[0m\u001b[37m\u001b[0m \u001b[1m0s\u001b[0m 45ms/step\n"
          ]
        },
        {
          "output_type": "stream",
          "name": "stderr",
          "text": [
            "\r 97%|█████████▋| 1112/1141 [02:00<00:04,  7.03it/s]"
          ]
        },
        {
          "output_type": "stream",
          "name": "stdout",
          "text": [
            "Tr-me_1226.jpg -> Class: meningioma, Confidence: 1.00\n",
            "Moving Tr-me_1226.jpg to BT100/Training/meningioma/20250328_234221_Tr-me_1226.jpg\n",
            "\u001b[1m1/1\u001b[0m \u001b[32m━━━━━━━━━━━━━━━━━━━━\u001b[0m\u001b[37m\u001b[0m \u001b[1m0s\u001b[0m 98ms/step\n"
          ]
        },
        {
          "output_type": "stream",
          "name": "stderr",
          "text": [
            "\r 98%|█████████▊| 1113/1141 [02:00<00:04,  6.62it/s]"
          ]
        },
        {
          "output_type": "stream",
          "name": "stdout",
          "text": [
            "Tr-pi_0161.jpg -> Class: pituitary, Confidence: 1.00\n",
            "Moving Tr-pi_0161.jpg to BT100/Training/pituitary/20250328_234222_Tr-pi_0161.jpg\n",
            "\u001b[1m1/1\u001b[0m \u001b[32m━━━━━━━━━━━━━━━━━━━━\u001b[0m\u001b[37m\u001b[0m \u001b[1m0s\u001b[0m 55ms/step\n"
          ]
        },
        {
          "output_type": "stream",
          "name": "stderr",
          "text": [
            "\r 98%|█████████▊| 1114/1141 [02:00<00:04,  6.54it/s]"
          ]
        },
        {
          "output_type": "stream",
          "name": "stdout",
          "text": [
            "Tr-no_0994.jpg -> Class: notumor, Confidence: 1.00\n",
            "Moving Tr-no_0994.jpg to BT100/Training/notumor/20250328_234222_Tr-no_0994.jpg\n",
            "\u001b[1m1/1\u001b[0m \u001b[32m━━━━━━━━━━━━━━━━━━━━\u001b[0m\u001b[37m\u001b[0m \u001b[1m0s\u001b[0m 42ms/step\n"
          ]
        },
        {
          "output_type": "stream",
          "name": "stderr",
          "text": [
            "\r 98%|█████████▊| 1115/1141 [02:00<00:03,  6.66it/s]"
          ]
        },
        {
          "output_type": "stream",
          "name": "stdout",
          "text": [
            "Tr-no_0620.jpg -> Class: notumor, Confidence: 1.00\n",
            "Moving Tr-no_0620.jpg to BT100/Training/notumor/20250328_234222_Tr-no_0620.jpg\n",
            "\u001b[1m1/1\u001b[0m \u001b[32m━━━━━━━━━━━━━━━━━━━━\u001b[0m\u001b[37m\u001b[0m \u001b[1m0s\u001b[0m 55ms/step\n"
          ]
        },
        {
          "output_type": "stream",
          "name": "stderr",
          "text": [
            "\r 98%|█████████▊| 1116/1141 [02:00<00:03,  7.02it/s]"
          ]
        },
        {
          "output_type": "stream",
          "name": "stdout",
          "text": [
            "Tr-pi_1283.jpg -> Class: pituitary, Confidence: 1.00\n",
            "Moving Tr-pi_1283.jpg to BT100/Training/pituitary/20250328_234222_Tr-pi_1283.jpg\n",
            "\u001b[1m1/1\u001b[0m \u001b[32m━━━━━━━━━━━━━━━━━━━━\u001b[0m\u001b[37m\u001b[0m \u001b[1m0s\u001b[0m 55ms/step\n"
          ]
        },
        {
          "output_type": "stream",
          "name": "stderr",
          "text": [
            "\r 98%|█████████▊| 1117/1141 [02:00<00:03,  6.91it/s]"
          ]
        },
        {
          "output_type": "stream",
          "name": "stdout",
          "text": [
            "Tr-gl_0267.jpg -> Class: glioma, Confidence: 1.00\n",
            "Moving Tr-gl_0267.jpg to BT100/Training/glioma/20250328_234222_Tr-gl_0267.jpg\n",
            "\u001b[1m1/1\u001b[0m \u001b[32m━━━━━━━━━━━━━━━━━━━━\u001b[0m\u001b[37m\u001b[0m \u001b[1m0s\u001b[0m 55ms/step\n"
          ]
        },
        {
          "output_type": "stream",
          "name": "stderr",
          "text": [
            "\r 98%|█████████▊| 1118/1141 [02:00<00:03,  6.86it/s]"
          ]
        },
        {
          "output_type": "stream",
          "name": "stdout",
          "text": [
            "Tr-me_0192.jpg -> Class: pituitary, Confidence: 1.00\n",
            "Moving Tr-me_0192.jpg to BT100/Training/pituitary/20250328_234222_Tr-me_0192.jpg\n",
            "\u001b[1m1/1\u001b[0m \u001b[32m━━━━━━━━━━━━━━━━━━━━\u001b[0m\u001b[37m\u001b[0m \u001b[1m0s\u001b[0m 61ms/step\n"
          ]
        },
        {
          "output_type": "stream",
          "name": "stderr",
          "text": [
            "\r 98%|█████████▊| 1119/1141 [02:01<00:03,  6.64it/s]"
          ]
        },
        {
          "output_type": "stream",
          "name": "stdout",
          "text": [
            "Tr-pi_0823.jpg -> Class: pituitary, Confidence: 1.00\n",
            "Moving Tr-pi_0823.jpg to BT100/Training/pituitary/20250328_234223_Tr-pi_0823.jpg\n",
            "\u001b[1m1/1\u001b[0m \u001b[32m━━━━━━━━━━━━━━━━━━━━\u001b[0m\u001b[37m\u001b[0m \u001b[1m0s\u001b[0m 57ms/step\n"
          ]
        },
        {
          "output_type": "stream",
          "name": "stderr",
          "text": [
            "\r 98%|█████████▊| 1120/1141 [02:01<00:02,  7.01it/s]"
          ]
        },
        {
          "output_type": "stream",
          "name": "stdout",
          "text": [
            "Tr-gl_0182.jpg -> Class: glioma, Confidence: 1.00\n",
            "Moving Tr-gl_0182.jpg to BT100/Training/glioma/20250328_234223_Tr-gl_0182.jpg\n",
            "\u001b[1m1/1\u001b[0m \u001b[32m━━━━━━━━━━━━━━━━━━━━\u001b[0m\u001b[37m\u001b[0m \u001b[1m0s\u001b[0m 40ms/step\n"
          ]
        },
        {
          "output_type": "stream",
          "name": "stderr",
          "text": [
            "\r 98%|█████████▊| 1121/1141 [02:01<00:02,  7.16it/s]"
          ]
        },
        {
          "output_type": "stream",
          "name": "stdout",
          "text": [
            "Tr-me_1068.jpg -> Class: meningioma, Confidence: 1.00\n",
            "Moving Tr-me_1068.jpg to BT100/Training/meningioma/20250328_234223_Tr-me_1068.jpg\n",
            "\u001b[1m1/1\u001b[0m \u001b[32m━━━━━━━━━━━━━━━━━━━━\u001b[0m\u001b[37m\u001b[0m \u001b[1m0s\u001b[0m 44ms/step\n"
          ]
        },
        {
          "output_type": "stream",
          "name": "stderr",
          "text": [
            "\r 98%|█████████▊| 1122/1141 [02:01<00:02,  7.29it/s]"
          ]
        },
        {
          "output_type": "stream",
          "name": "stdout",
          "text": [
            "Tr-gl_0425.jpg -> Class: glioma, Confidence: 1.00\n",
            "Moving Tr-gl_0425.jpg to BT100/Training/glioma/20250328_234223_Tr-gl_0425.jpg\n",
            "\u001b[1m1/1\u001b[0m \u001b[32m━━━━━━━━━━━━━━━━━━━━\u001b[0m\u001b[37m\u001b[0m \u001b[1m0s\u001b[0m 38ms/step\n"
          ]
        },
        {
          "output_type": "stream",
          "name": "stderr",
          "text": [
            "\r 98%|█████████▊| 1123/1141 [02:01<00:02,  7.46it/s]"
          ]
        },
        {
          "output_type": "stream",
          "name": "stdout",
          "text": [
            "Tr-me_0030.jpg -> Class: meningioma, Confidence: 1.00\n",
            "Moving Tr-me_0030.jpg to BT100/Training/meningioma/20250328_234223_Tr-me_0030.jpg\n",
            "\u001b[1m1/1\u001b[0m \u001b[32m━━━━━━━━━━━━━━━━━━━━\u001b[0m\u001b[37m\u001b[0m \u001b[1m0s\u001b[0m 39ms/step\n"
          ]
        },
        {
          "output_type": "stream",
          "name": "stderr",
          "text": [
            "\r 99%|█████████▊| 1124/1141 [02:01<00:02,  7.65it/s]"
          ]
        },
        {
          "output_type": "stream",
          "name": "stdout",
          "text": [
            "Tr-me_0098.jpg -> Class: meningioma, Confidence: 1.00\n",
            "Moving Tr-me_0098.jpg to BT100/Training/meningioma/20250328_234223_Tr-me_0098.jpg\n",
            "\u001b[1m1/1\u001b[0m \u001b[32m━━━━━━━━━━━━━━━━━━━━\u001b[0m\u001b[37m\u001b[0m \u001b[1m0s\u001b[0m 39ms/step\n"
          ]
        },
        {
          "output_type": "stream",
          "name": "stderr",
          "text": [
            "\r 99%|█████████▊| 1125/1141 [02:01<00:02,  7.78it/s]"
          ]
        },
        {
          "output_type": "stream",
          "name": "stdout",
          "text": [
            "Tr-no_0199.jpg -> Class: notumor, Confidence: 1.00\n",
            "Moving Tr-no_0199.jpg to BT100/Training/notumor/20250328_234223_Tr-no_0199.jpg\n",
            "\u001b[1m1/1\u001b[0m \u001b[32m━━━━━━━━━━━━━━━━━━━━\u001b[0m\u001b[37m\u001b[0m \u001b[1m0s\u001b[0m 39ms/step\n",
            "Tr-no_0522.jpg -> Class: notumor, Confidence: 1.00\n",
            "Moving Tr-no_0522.jpg to BT100/Training/notumor/20250328_234223_Tr-no_0522.jpg\n",
            "\u001b[1m1/1\u001b[0m \u001b[32m━━━━━━━━━━━━━━━━━━━━\u001b[0m\u001b[37m\u001b[0m \u001b[1m0s\u001b[0m 34ms/step\n"
          ]
        },
        {
          "output_type": "stream",
          "name": "stderr",
          "text": [
            "\r 99%|█████████▉| 1127/1141 [02:02<00:01,  9.38it/s]"
          ]
        },
        {
          "output_type": "stream",
          "name": "stdout",
          "text": [
            "Tr-no_0065.jpg -> Class: notumor, Confidence: 0.93\n",
            "Moved low-confidence image Tr-no_0065.jpg to BT100/low_confidence\n",
            "\u001b[1m1/1\u001b[0m \u001b[32m━━━━━━━━━━━━━━━━━━━━\u001b[0m\u001b[37m\u001b[0m \u001b[1m0s\u001b[0m 37ms/step\n"
          ]
        },
        {
          "output_type": "stream",
          "name": "stderr",
          "text": [
            "\r 99%|█████████▉| 1128/1141 [02:02<00:01,  9.03it/s]"
          ]
        },
        {
          "output_type": "stream",
          "name": "stdout",
          "text": [
            "Tr-me_1247.jpg -> Class: meningioma, Confidence: 1.00\n",
            "Moving Tr-me_1247.jpg to BT100/Training/meningioma/20250328_234224_Tr-me_1247.jpg\n",
            "\u001b[1m1/1\u001b[0m \u001b[32m━━━━━━━━━━━━━━━━━━━━\u001b[0m\u001b[37m\u001b[0m \u001b[1m0s\u001b[0m 37ms/step\n"
          ]
        },
        {
          "output_type": "stream",
          "name": "stderr",
          "text": [
            "\r 99%|█████████▉| 1129/1141 [02:02<00:01,  8.55it/s]"
          ]
        },
        {
          "output_type": "stream",
          "name": "stdout",
          "text": [
            "Tr-pi_0301.jpg -> Class: pituitary, Confidence: 1.00\n",
            "Moving Tr-pi_0301.jpg to BT100/Training/pituitary/20250328_234224_Tr-pi_0301.jpg\n",
            "\u001b[1m1/1\u001b[0m \u001b[32m━━━━━━━━━━━━━━━━━━━━\u001b[0m\u001b[37m\u001b[0m \u001b[1m0s\u001b[0m 47ms/step\n"
          ]
        },
        {
          "output_type": "stream",
          "name": "stderr",
          "text": [
            "\r 99%|█████████▉| 1130/1141 [02:02<00:01,  8.36it/s]"
          ]
        },
        {
          "output_type": "stream",
          "name": "stdout",
          "text": [
            "Tr-no_0198.jpg -> Class: notumor, Confidence: 1.00\n",
            "Moving Tr-no_0198.jpg to BT100/Training/notumor/20250328_234224_Tr-no_0198.jpg\n",
            "\u001b[1m1/1\u001b[0m \u001b[32m━━━━━━━━━━━━━━━━━━━━\u001b[0m\u001b[37m\u001b[0m \u001b[1m0s\u001b[0m 38ms/step\n",
            "Tr-me_0353.jpg -> Class: meningioma, Confidence: 1.00\n",
            "Moving Tr-me_0353.jpg to BT100/Training/meningioma/20250328_234224_Tr-me_0353.jpg\n",
            "\u001b[1m1/1\u001b[0m \u001b[32m━━━━━━━━━━━━━━━━━━━━\u001b[0m\u001b[37m\u001b[0m \u001b[1m0s\u001b[0m 43ms/step\n"
          ]
        },
        {
          "output_type": "stream",
          "name": "stderr",
          "text": [
            "\r 99%|█████████▉| 1132/1141 [02:02<00:00,  9.39it/s]"
          ]
        },
        {
          "output_type": "stream",
          "name": "stdout",
          "text": [
            "Tr-pi_0196.jpg -> Class: pituitary, Confidence: 1.00\n",
            "Moving Tr-pi_0196.jpg to BT100/Training/pituitary/20250328_234224_Tr-pi_0196.jpg\n",
            "\u001b[1m1/1\u001b[0m \u001b[32m━━━━━━━━━━━━━━━━━━━━\u001b[0m\u001b[37m\u001b[0m \u001b[1m0s\u001b[0m 35ms/step\n"
          ]
        },
        {
          "output_type": "stream",
          "name": "stderr",
          "text": [
            "\r 99%|█████████▉| 1133/1141 [02:02<00:00,  9.02it/s]"
          ]
        },
        {
          "output_type": "stream",
          "name": "stdout",
          "text": [
            "Tr-no_0271.jpg -> Class: notumor, Confidence: 1.00\n",
            "Moving Tr-no_0271.jpg to BT100/Training/notumor/20250328_234224_Tr-no_0271.jpg\n",
            "\u001b[1m1/1\u001b[0m \u001b[32m━━━━━━━━━━━━━━━━━━━━\u001b[0m\u001b[37m\u001b[0m \u001b[1m0s\u001b[0m 39ms/step\n"
          ]
        },
        {
          "output_type": "stream",
          "name": "stderr",
          "text": [
            "\r 99%|█████████▉| 1134/1141 [02:02<00:00,  8.87it/s]"
          ]
        },
        {
          "output_type": "stream",
          "name": "stdout",
          "text": [
            "Tr-no_0191.jpg -> Class: notumor, Confidence: 1.00\n",
            "Moving Tr-no_0191.jpg to BT100/Training/notumor/20250328_234224_Tr-no_0191.jpg\n",
            "\u001b[1m1/1\u001b[0m \u001b[32m━━━━━━━━━━━━━━━━━━━━\u001b[0m\u001b[37m\u001b[0m \u001b[1m0s\u001b[0m 35ms/step\n",
            "Tr-pi_0912.jpg -> Class: pituitary, Confidence: 1.00\n",
            "Moving Tr-pi_0912.jpg to BT100/Training/pituitary/20250328_234224_Tr-pi_0912.jpg\n",
            "\u001b[1m1/1\u001b[0m \u001b[32m━━━━━━━━━━━━━━━━━━━━\u001b[0m\u001b[37m\u001b[0m \u001b[1m0s\u001b[0m 38ms/step\n"
          ]
        },
        {
          "output_type": "stream",
          "name": "stderr",
          "text": [
            "\r100%|█████████▉| 1136/1141 [02:03<00:00,  9.28it/s]"
          ]
        },
        {
          "output_type": "stream",
          "name": "stdout",
          "text": [
            "Tr-pi_0011.jpg -> Class: pituitary, Confidence: 1.00\n",
            "Moving Tr-pi_0011.jpg to BT100/Training/pituitary/20250328_234224_Tr-pi_0011.jpg\n",
            "\u001b[1m1/1\u001b[0m \u001b[32m━━━━━━━━━━━━━━━━━━━━\u001b[0m\u001b[37m\u001b[0m \u001b[1m0s\u001b[0m 37ms/step\n",
            "Tr-no_0976.jpg -> Class: notumor, Confidence: 1.00\n",
            "Moving Tr-no_0976.jpg to BT100/Training/notumor/20250328_234225_Tr-no_0976.jpg\n",
            "\u001b[1m1/1\u001b[0m \u001b[32m━━━━━━━━━━━━━━━━━━━━\u001b[0m\u001b[37m\u001b[0m \u001b[1m0s\u001b[0m 37ms/step\n"
          ]
        },
        {
          "output_type": "stream",
          "name": "stderr",
          "text": [
            "\r100%|█████████▉| 1138/1141 [02:03<00:00,  9.54it/s]"
          ]
        },
        {
          "output_type": "stream",
          "name": "stdout",
          "text": [
            "Tr-no_0686.jpg -> Class: notumor, Confidence: 1.00\n",
            "Moving Tr-no_0686.jpg to BT100/Training/notumor/20250328_234225_Tr-no_0686.jpg\n",
            "\u001b[1m1/1\u001b[0m \u001b[32m━━━━━━━━━━━━━━━━━━━━\u001b[0m\u001b[37m\u001b[0m \u001b[1m0s\u001b[0m 45ms/step\n",
            "Tr-me_0577.jpg -> Class: glioma, Confidence: 0.92\n",
            "Moved low-confidence image Tr-me_0577.jpg to BT100/low_confidence\n",
            "\u001b[1m1/1\u001b[0m \u001b[32m━━━━━━━━━━━━━━━━━━━━\u001b[0m\u001b[37m\u001b[0m \u001b[1m0s\u001b[0m 46ms/step\n"
          ]
        },
        {
          "output_type": "stream",
          "name": "stderr",
          "text": [
            "\r100%|█████████▉| 1140/1141 [02:03<00:00,  9.07it/s]"
          ]
        },
        {
          "output_type": "stream",
          "name": "stdout",
          "text": [
            "Tr-pi_1208.jpg -> Class: pituitary, Confidence: 1.00\n",
            "Moving Tr-pi_1208.jpg to BT100/Training/pituitary/20250328_234225_Tr-pi_1208.jpg\n",
            "\u001b[1m1/1\u001b[0m \u001b[32m━━━━━━━━━━━━━━━━━━━━\u001b[0m\u001b[37m\u001b[0m \u001b[1m0s\u001b[0m 36ms/step\n"
          ]
        },
        {
          "output_type": "stream",
          "name": "stderr",
          "text": [
            "\r100%|██████████| 1141/1141 [02:03<00:00,  9.23it/s]"
          ]
        },
        {
          "output_type": "stream",
          "name": "stdout",
          "text": [
            "Tr-no_0393.jpg -> Class: notumor, Confidence: 1.00\n",
            "Moving Tr-no_0393.jpg to BT100/Training/notumor/20250328_234225_Tr-no_0393.jpg\n",
            "✅ Pseudo-labeling completed. Check the output folder for labeled images and low-confidence images.\n"
          ]
        },
        {
          "output_type": "stream",
          "name": "stderr",
          "text": [
            "\n"
          ]
        }
      ]
    },
    {
      "cell_type": "code",
      "source": [
        "# Printing traing and testing sample sizes\n",
        "print('Training')\n",
        "# print(f'Number of Paths: {len(train_paths)}')\n",
        "print(f'Number of Labels: {len(train_index)}')\n",
        "print('\\nTesting')\n",
        "# print(f'Number of Paths: {len(test_paths)}')\n",
        "print(f'Number of Labels: {len(test_index)}')"
      ],
      "metadata": {
        "colab": {
          "base_uri": "https://localhost:8080/"
        },
        "id": "kRrqyl5nmt1t",
        "outputId": "295e9e95-9bc3-4f49-e874-3d8b202431e1"
      },
      "execution_count": 28,
      "outputs": [
        {
          "output_type": "stream",
          "name": "stdout",
          "text": [
            "Training\n",
            "Number of Labels: 4571\n",
            "\n",
            "Testing\n",
            "Number of Labels: 1311\n"
          ]
        }
      ]
    },
    {
      "cell_type": "code",
      "source": [
        "def count_files(folder_path):\n",
        "    if not os.path.exists(folder_path):\n",
        "        print(\"Folder does not exist.\")\n",
        "        return 0\n",
        "\n",
        "    file_count = len([f for f in os.listdir(folder_path) if os.path.isfile(os.path.join(folder_path, f))])\n",
        "    print(f\"Number of files in '{folder_path}': {file_count}\")\n",
        "    return file_count\n",
        "\n",
        "# Define the unlabelled folder path\n",
        "unlabelled_folder = \"BT100/low_confidence\"  # Update with the actual path\n",
        "count_files(unlabelled_folder)"
      ],
      "metadata": {
        "colab": {
          "base_uri": "https://localhost:8080/"
        },
        "id": "VbyBNCH5nZPk",
        "outputId": "fa20b56d-ae8a-4d74-ca05-99de0b1a8777"
      },
      "execution_count": 30,
      "outputs": [
        {
          "output_type": "stream",
          "name": "stdout",
          "text": [
            "Number of files in 'BT100/low_confidence': 40\n"
          ]
        },
        {
          "output_type": "execute_result",
          "data": {
            "text/plain": [
              "40"
            ]
          },
          "metadata": {},
          "execution_count": 30
        }
      ]
    },
    {
      "cell_type": "code",
      "source": [
        "import os\n",
        "\n",
        "# Define the path to the training folder\n",
        "TRAINING_FOLDER = \"BT100/Training\"  # Update with actual path if needed\n",
        "\n",
        "# Count total files\n",
        "total_files = sum(len(files) for _, _, files in os.walk(TRAINING_FOLDER))\n",
        "\n",
        "print(f\"Total number of files in the Training folder: {total_files}\")\n"
      ],
      "metadata": {
        "colab": {
          "base_uri": "https://localhost:8080/"
        },
        "id": "ew7Vqb3MrFZj",
        "outputId": "d9a7dfd2-1062-42bb-8020-3eacadb03fe9"
      },
      "execution_count": 29,
      "outputs": [
        {
          "output_type": "stream",
          "name": "stdout",
          "text": [
            "Total number of files in the Training folder: 5672\n"
          ]
        }
      ]
    },
    {
      "cell_type": "markdown",
      "source": [
        "# SSL"
      ],
      "metadata": {
        "id": "ZPWwwMA9zKYR"
      }
    },
    {
      "cell_type": "code",
      "source": [
        "import os\n",
        "import tensorflow as tf\n",
        "\n",
        "\n",
        "train_paths = 'BT100/Training'\n",
        "test_paths = 'BT100/Testing'\n",
        "\n",
        "\n",
        "train_image_paths, train_index = get_data_labels(train_paths)\n",
        "\n",
        "test_image_paths, test_index = get_data_labels(test_paths)\n",
        "\n",
        "\n",
        "batch_size = 32\n",
        "image_dim = (168, 168)\n",
        "train_ds = get_dataset(train_image_paths, train_index, image_dim, n_channels=1, num_classes=4, batch_size=batch_size)\n",
        "test_ds = get_dataset(test_image_paths, test_index, image_dim, n_channels=1, num_classes=4, batch_size=batch_size)\n"
      ],
      "metadata": {
        "id": "lxElrAwmsLBT"
      },
      "execution_count": 31,
      "outputs": []
    },
    {
      "cell_type": "code",
      "source": [
        "class_mappings = {'Glioma': 0, 'Meninigioma': 1, 'Notumor': 2, 'Pituitary': 3}\n",
        "inv_class_mappings = {v: k for k, v in class_mappings.items()}\n",
        "class_names = list(class_mappings.keys())"
      ],
      "metadata": {
        "id": "hjHzfo31zTvB"
      },
      "execution_count": 32,
      "outputs": []
    },
    {
      "cell_type": "code",
      "source": [
        "# Printing traing and testing sample sizes\n",
        "print('Training')\n",
        "# print(f'Number of Paths: {len(train_paths)}')\n",
        "print(f'Number of Labels: {len(train_index)}')\n",
        "print('\\nTesting')\n",
        "# print(f'Number of Paths: {len(test_paths)}')\n",
        "print(f'Number of Labels: {len(test_index)}')"
      ],
      "metadata": {
        "colab": {
          "base_uri": "https://localhost:8080/"
        },
        "id": "XYzapz8kzUCh",
        "outputId": "f9593f9b-e8cd-4061-f66b-e5d6d50ba2eb"
      },
      "execution_count": 33,
      "outputs": [
        {
          "output_type": "stream",
          "name": "stdout",
          "text": [
            "Training\n",
            "Number of Labels: 5672\n",
            "\n",
            "Testing\n",
            "Number of Labels: 1311\n"
          ]
        }
      ]
    },
    {
      "cell_type": "code",
      "source": [
        "# Dta augmentation sequential model\n",
        "data_augmentation = Sequential([\n",
        "    RandomFlip(\"horizontal\"),\n",
        "    RandomRotation(0.02, fill_mode='constant'),\n",
        "    RandomContrast(0.1),\n",
        "    RandomZoom(height_factor=0.01, width_factor=0.05),\n",
        "    RandomTranslation(height_factor=0.0015, width_factor=0.0015, fill_mode='constant'),\n",
        "])\n",
        "\n",
        "# Training augmentation and nornalization\n",
        "def preprocess_train(image, label):\n",
        "    # Apply data augmentation and Normalize\n",
        "    image = data_augmentation(image) / 255.0\n",
        "    return image, label\n",
        "\n",
        "\n",
        "\n",
        "\n",
        "# For test dataset only appying normalization\n",
        "def preprocess_test(image, label):\n",
        "    return image / 255.0, label\n",
        "\n",
        "\n",
        "\n",
        "\n",
        "# Apply transformation to training and testing datasets\n",
        "train_ds_preprocessed = train_ds.map(preprocess_train, num_parallel_calls=tf.data.AUTOTUNE)\n",
        "test_ds_preprocessed = test_ds.map(preprocess_test, num_parallel_calls=tf.data.AUTOTUNE)"
      ],
      "metadata": {
        "id": "NdkpmH6WzYNx"
      },
      "execution_count": 34,
      "outputs": []
    },
    {
      "cell_type": "code",
      "source": [
        "num_classes = len(class_mappings.keys())\n",
        "image_shape = (image_dim[0], image_dim[1], 1)\n",
        "\n",
        "# Training epochs and batch size\n",
        "epochs = 50\n",
        "print(f'Number of Classes: {num_classes}')\n",
        "print(f'Image shape: {image_shape}')\n",
        "print(f'Epochs: {epochs}')\n",
        "print(f'Batch size: {batch_size}')\n",
        "\n",
        "def encode_labels(image, label):\n",
        "    return image, tf.one_hot(label, depth=num_classes)\n",
        "\n",
        "train_ds_preprocessed = train_ds_preprocessed.map(encode_labels, num_parallel_calls=tf.data.AUTOTUNE)\n",
        "test_ds_preprocessed = test_ds_preprocessed.map(encode_labels, num_parallel_calls=tf.data.AUTOTUNE)\n"
      ],
      "metadata": {
        "colab": {
          "base_uri": "https://localhost:8080/"
        },
        "id": "og4FagUIzkiA",
        "outputId": "ad84cd95-2aa9-4458-fc45-4ddba70754d1"
      },
      "execution_count": 35,
      "outputs": [
        {
          "output_type": "stream",
          "name": "stdout",
          "text": [
            "Number of Classes: 4\n",
            "Image shape: (168, 168, 1)\n",
            "Epochs: 50\n",
            "Batch size: 32\n"
          ]
        }
      ]
    },
    {
      "cell_type": "code",
      "source": [
        "model_1 = Sequential([\n",
        "    # Input tensor shape\n",
        "    Input(shape=image_shape),\n",
        "\n",
        "    # Convolutional layer 1\n",
        "    Conv2D(64, (5, 5), activation=\"relu\"),\n",
        "    MaxPooling2D(pool_size=(3, 3)),\n",
        "\n",
        "    # Convolutional layer 2\n",
        "    Conv2D(64, (5, 5), activation=\"relu\"),\n",
        "    MaxPooling2D(pool_size=(3, 3)),\n",
        "\n",
        "    # Convolutional layer 3\n",
        "    Conv2D(128, (4, 4), activation=\"relu\"),\n",
        "    MaxPooling2D(pool_size=(2, 2)),\n",
        "\n",
        "    # Convolutional layer 4\n",
        "    Conv2D(128, (4, 4), activation=\"relu\"),\n",
        "    MaxPooling2D(pool_size=(2, 2)),\n",
        "    Flatten(),\n",
        "\n",
        "    # Dense layers\n",
        "    Dense(512, activation=\"relu\"),\n",
        "    Dense(num_classes, activation=\"softmax\")\n",
        "])\n",
        "\n",
        "# Model summary\n",
        "model_1.summary()\n",
        "\n",
        "# COompilng model with Adam optimizer\n",
        "optimizer = Adam(learning_rate=0.001, beta_1=0.85, beta_2=0.9925)\n",
        "model_1.compile(optimizer=optimizer, loss='categorical_crossentropy', metrics= ['accuracy'])"
      ],
      "metadata": {
        "colab": {
          "base_uri": "https://localhost:8080/",
          "height": 481
        },
        "id": "6q2Ey1X_zlGx",
        "outputId": "50152c77-80eb-4b6b-d27f-c2c390389651"
      },
      "execution_count": 36,
      "outputs": [
        {
          "output_type": "display_data",
          "data": {
            "text/plain": [
              "\u001b[1mModel: \"sequential_3\"\u001b[0m\n"
            ],
            "text/html": [
              "<pre style=\"white-space:pre;overflow-x:auto;line-height:normal;font-family:Menlo,'DejaVu Sans Mono',consolas,'Courier New',monospace\"><span style=\"font-weight: bold\">Model: \"sequential_3\"</span>\n",
              "</pre>\n"
            ]
          },
          "metadata": {}
        },
        {
          "output_type": "display_data",
          "data": {
            "text/plain": [
              "┏━━━━━━━━━━━━━━━━━━━━━━━━━━━━━━━━━━━━━━┳━━━━━━━━━━━━━━━━━━━━━━━━━━━━━┳━━━━━━━━━━━━━━━━━┓\n",
              "┃\u001b[1m \u001b[0m\u001b[1mLayer (type)                        \u001b[0m\u001b[1m \u001b[0m┃\u001b[1m \u001b[0m\u001b[1mOutput Shape               \u001b[0m\u001b[1m \u001b[0m┃\u001b[1m \u001b[0m\u001b[1m        Param #\u001b[0m\u001b[1m \u001b[0m┃\n",
              "┡━━━━━━━━━━━━━━━━━━━━━━━━━━━━━━━━━━━━━━╇━━━━━━━━━━━━━━━━━━━━━━━━━━━━━╇━━━━━━━━━━━━━━━━━┩\n",
              "│ conv2d_4 (\u001b[38;5;33mConv2D\u001b[0m)                    │ (\u001b[38;5;45mNone\u001b[0m, \u001b[38;5;34m164\u001b[0m, \u001b[38;5;34m164\u001b[0m, \u001b[38;5;34m64\u001b[0m)        │           \u001b[38;5;34m1,664\u001b[0m │\n",
              "├──────────────────────────────────────┼─────────────────────────────┼─────────────────┤\n",
              "│ max_pooling2d_4 (\u001b[38;5;33mMaxPooling2D\u001b[0m)       │ (\u001b[38;5;45mNone\u001b[0m, \u001b[38;5;34m54\u001b[0m, \u001b[38;5;34m54\u001b[0m, \u001b[38;5;34m64\u001b[0m)          │               \u001b[38;5;34m0\u001b[0m │\n",
              "├──────────────────────────────────────┼─────────────────────────────┼─────────────────┤\n",
              "│ conv2d_5 (\u001b[38;5;33mConv2D\u001b[0m)                    │ (\u001b[38;5;45mNone\u001b[0m, \u001b[38;5;34m50\u001b[0m, \u001b[38;5;34m50\u001b[0m, \u001b[38;5;34m64\u001b[0m)          │         \u001b[38;5;34m102,464\u001b[0m │\n",
              "├──────────────────────────────────────┼─────────────────────────────┼─────────────────┤\n",
              "│ max_pooling2d_5 (\u001b[38;5;33mMaxPooling2D\u001b[0m)       │ (\u001b[38;5;45mNone\u001b[0m, \u001b[38;5;34m16\u001b[0m, \u001b[38;5;34m16\u001b[0m, \u001b[38;5;34m64\u001b[0m)          │               \u001b[38;5;34m0\u001b[0m │\n",
              "├──────────────────────────────────────┼─────────────────────────────┼─────────────────┤\n",
              "│ conv2d_6 (\u001b[38;5;33mConv2D\u001b[0m)                    │ (\u001b[38;5;45mNone\u001b[0m, \u001b[38;5;34m13\u001b[0m, \u001b[38;5;34m13\u001b[0m, \u001b[38;5;34m128\u001b[0m)         │         \u001b[38;5;34m131,200\u001b[0m │\n",
              "├──────────────────────────────────────┼─────────────────────────────┼─────────────────┤\n",
              "│ max_pooling2d_6 (\u001b[38;5;33mMaxPooling2D\u001b[0m)       │ (\u001b[38;5;45mNone\u001b[0m, \u001b[38;5;34m6\u001b[0m, \u001b[38;5;34m6\u001b[0m, \u001b[38;5;34m128\u001b[0m)           │               \u001b[38;5;34m0\u001b[0m │\n",
              "├──────────────────────────────────────┼─────────────────────────────┼─────────────────┤\n",
              "│ conv2d_7 (\u001b[38;5;33mConv2D\u001b[0m)                    │ (\u001b[38;5;45mNone\u001b[0m, \u001b[38;5;34m3\u001b[0m, \u001b[38;5;34m3\u001b[0m, \u001b[38;5;34m128\u001b[0m)           │         \u001b[38;5;34m262,272\u001b[0m │\n",
              "├──────────────────────────────────────┼─────────────────────────────┼─────────────────┤\n",
              "│ max_pooling2d_7 (\u001b[38;5;33mMaxPooling2D\u001b[0m)       │ (\u001b[38;5;45mNone\u001b[0m, \u001b[38;5;34m1\u001b[0m, \u001b[38;5;34m1\u001b[0m, \u001b[38;5;34m128\u001b[0m)           │               \u001b[38;5;34m0\u001b[0m │\n",
              "├──────────────────────────────────────┼─────────────────────────────┼─────────────────┤\n",
              "│ flatten_1 (\u001b[38;5;33mFlatten\u001b[0m)                  │ (\u001b[38;5;45mNone\u001b[0m, \u001b[38;5;34m128\u001b[0m)                 │               \u001b[38;5;34m0\u001b[0m │\n",
              "├──────────────────────────────────────┼─────────────────────────────┼─────────────────┤\n",
              "│ dense_2 (\u001b[38;5;33mDense\u001b[0m)                      │ (\u001b[38;5;45mNone\u001b[0m, \u001b[38;5;34m512\u001b[0m)                 │          \u001b[38;5;34m66,048\u001b[0m │\n",
              "├──────────────────────────────────────┼─────────────────────────────┼─────────────────┤\n",
              "│ dense_3 (\u001b[38;5;33mDense\u001b[0m)                      │ (\u001b[38;5;45mNone\u001b[0m, \u001b[38;5;34m4\u001b[0m)                   │           \u001b[38;5;34m2,052\u001b[0m │\n",
              "└──────────────────────────────────────┴─────────────────────────────┴─────────────────┘\n"
            ],
            "text/html": [
              "<pre style=\"white-space:pre;overflow-x:auto;line-height:normal;font-family:Menlo,'DejaVu Sans Mono',consolas,'Courier New',monospace\">┏━━━━━━━━━━━━━━━━━━━━━━━━━━━━━━━━━━━━━━┳━━━━━━━━━━━━━━━━━━━━━━━━━━━━━┳━━━━━━━━━━━━━━━━━┓\n",
              "┃<span style=\"font-weight: bold\"> Layer (type)                         </span>┃<span style=\"font-weight: bold\"> Output Shape                </span>┃<span style=\"font-weight: bold\">         Param # </span>┃\n",
              "┡━━━━━━━━━━━━━━━━━━━━━━━━━━━━━━━━━━━━━━╇━━━━━━━━━━━━━━━━━━━━━━━━━━━━━╇━━━━━━━━━━━━━━━━━┩\n",
              "│ conv2d_4 (<span style=\"color: #0087ff; text-decoration-color: #0087ff\">Conv2D</span>)                    │ (<span style=\"color: #00d7ff; text-decoration-color: #00d7ff\">None</span>, <span style=\"color: #00af00; text-decoration-color: #00af00\">164</span>, <span style=\"color: #00af00; text-decoration-color: #00af00\">164</span>, <span style=\"color: #00af00; text-decoration-color: #00af00\">64</span>)        │           <span style=\"color: #00af00; text-decoration-color: #00af00\">1,664</span> │\n",
              "├──────────────────────────────────────┼─────────────────────────────┼─────────────────┤\n",
              "│ max_pooling2d_4 (<span style=\"color: #0087ff; text-decoration-color: #0087ff\">MaxPooling2D</span>)       │ (<span style=\"color: #00d7ff; text-decoration-color: #00d7ff\">None</span>, <span style=\"color: #00af00; text-decoration-color: #00af00\">54</span>, <span style=\"color: #00af00; text-decoration-color: #00af00\">54</span>, <span style=\"color: #00af00; text-decoration-color: #00af00\">64</span>)          │               <span style=\"color: #00af00; text-decoration-color: #00af00\">0</span> │\n",
              "├──────────────────────────────────────┼─────────────────────────────┼─────────────────┤\n",
              "│ conv2d_5 (<span style=\"color: #0087ff; text-decoration-color: #0087ff\">Conv2D</span>)                    │ (<span style=\"color: #00d7ff; text-decoration-color: #00d7ff\">None</span>, <span style=\"color: #00af00; text-decoration-color: #00af00\">50</span>, <span style=\"color: #00af00; text-decoration-color: #00af00\">50</span>, <span style=\"color: #00af00; text-decoration-color: #00af00\">64</span>)          │         <span style=\"color: #00af00; text-decoration-color: #00af00\">102,464</span> │\n",
              "├──────────────────────────────────────┼─────────────────────────────┼─────────────────┤\n",
              "│ max_pooling2d_5 (<span style=\"color: #0087ff; text-decoration-color: #0087ff\">MaxPooling2D</span>)       │ (<span style=\"color: #00d7ff; text-decoration-color: #00d7ff\">None</span>, <span style=\"color: #00af00; text-decoration-color: #00af00\">16</span>, <span style=\"color: #00af00; text-decoration-color: #00af00\">16</span>, <span style=\"color: #00af00; text-decoration-color: #00af00\">64</span>)          │               <span style=\"color: #00af00; text-decoration-color: #00af00\">0</span> │\n",
              "├──────────────────────────────────────┼─────────────────────────────┼─────────────────┤\n",
              "│ conv2d_6 (<span style=\"color: #0087ff; text-decoration-color: #0087ff\">Conv2D</span>)                    │ (<span style=\"color: #00d7ff; text-decoration-color: #00d7ff\">None</span>, <span style=\"color: #00af00; text-decoration-color: #00af00\">13</span>, <span style=\"color: #00af00; text-decoration-color: #00af00\">13</span>, <span style=\"color: #00af00; text-decoration-color: #00af00\">128</span>)         │         <span style=\"color: #00af00; text-decoration-color: #00af00\">131,200</span> │\n",
              "├──────────────────────────────────────┼─────────────────────────────┼─────────────────┤\n",
              "│ max_pooling2d_6 (<span style=\"color: #0087ff; text-decoration-color: #0087ff\">MaxPooling2D</span>)       │ (<span style=\"color: #00d7ff; text-decoration-color: #00d7ff\">None</span>, <span style=\"color: #00af00; text-decoration-color: #00af00\">6</span>, <span style=\"color: #00af00; text-decoration-color: #00af00\">6</span>, <span style=\"color: #00af00; text-decoration-color: #00af00\">128</span>)           │               <span style=\"color: #00af00; text-decoration-color: #00af00\">0</span> │\n",
              "├──────────────────────────────────────┼─────────────────────────────┼─────────────────┤\n",
              "│ conv2d_7 (<span style=\"color: #0087ff; text-decoration-color: #0087ff\">Conv2D</span>)                    │ (<span style=\"color: #00d7ff; text-decoration-color: #00d7ff\">None</span>, <span style=\"color: #00af00; text-decoration-color: #00af00\">3</span>, <span style=\"color: #00af00; text-decoration-color: #00af00\">3</span>, <span style=\"color: #00af00; text-decoration-color: #00af00\">128</span>)           │         <span style=\"color: #00af00; text-decoration-color: #00af00\">262,272</span> │\n",
              "├──────────────────────────────────────┼─────────────────────────────┼─────────────────┤\n",
              "│ max_pooling2d_7 (<span style=\"color: #0087ff; text-decoration-color: #0087ff\">MaxPooling2D</span>)       │ (<span style=\"color: #00d7ff; text-decoration-color: #00d7ff\">None</span>, <span style=\"color: #00af00; text-decoration-color: #00af00\">1</span>, <span style=\"color: #00af00; text-decoration-color: #00af00\">1</span>, <span style=\"color: #00af00; text-decoration-color: #00af00\">128</span>)           │               <span style=\"color: #00af00; text-decoration-color: #00af00\">0</span> │\n",
              "├──────────────────────────────────────┼─────────────────────────────┼─────────────────┤\n",
              "│ flatten_1 (<span style=\"color: #0087ff; text-decoration-color: #0087ff\">Flatten</span>)                  │ (<span style=\"color: #00d7ff; text-decoration-color: #00d7ff\">None</span>, <span style=\"color: #00af00; text-decoration-color: #00af00\">128</span>)                 │               <span style=\"color: #00af00; text-decoration-color: #00af00\">0</span> │\n",
              "├──────────────────────────────────────┼─────────────────────────────┼─────────────────┤\n",
              "│ dense_2 (<span style=\"color: #0087ff; text-decoration-color: #0087ff\">Dense</span>)                      │ (<span style=\"color: #00d7ff; text-decoration-color: #00d7ff\">None</span>, <span style=\"color: #00af00; text-decoration-color: #00af00\">512</span>)                 │          <span style=\"color: #00af00; text-decoration-color: #00af00\">66,048</span> │\n",
              "├──────────────────────────────────────┼─────────────────────────────┼─────────────────┤\n",
              "│ dense_3 (<span style=\"color: #0087ff; text-decoration-color: #0087ff\">Dense</span>)                      │ (<span style=\"color: #00d7ff; text-decoration-color: #00d7ff\">None</span>, <span style=\"color: #00af00; text-decoration-color: #00af00\">4</span>)                   │           <span style=\"color: #00af00; text-decoration-color: #00af00\">2,052</span> │\n",
              "└──────────────────────────────────────┴─────────────────────────────┴─────────────────┘\n",
              "</pre>\n"
            ]
          },
          "metadata": {}
        },
        {
          "output_type": "display_data",
          "data": {
            "text/plain": [
              "\u001b[1m Total params: \u001b[0m\u001b[38;5;34m565,700\u001b[0m (2.16 MB)\n"
            ],
            "text/html": [
              "<pre style=\"white-space:pre;overflow-x:auto;line-height:normal;font-family:Menlo,'DejaVu Sans Mono',consolas,'Courier New',monospace\"><span style=\"font-weight: bold\"> Total params: </span><span style=\"color: #00af00; text-decoration-color: #00af00\">565,700</span> (2.16 MB)\n",
              "</pre>\n"
            ]
          },
          "metadata": {}
        },
        {
          "output_type": "display_data",
          "data": {
            "text/plain": [
              "\u001b[1m Trainable params: \u001b[0m\u001b[38;5;34m565,700\u001b[0m (2.16 MB)\n"
            ],
            "text/html": [
              "<pre style=\"white-space:pre;overflow-x:auto;line-height:normal;font-family:Menlo,'DejaVu Sans Mono',consolas,'Courier New',monospace\"><span style=\"font-weight: bold\"> Trainable params: </span><span style=\"color: #00af00; text-decoration-color: #00af00\">565,700</span> (2.16 MB)\n",
              "</pre>\n"
            ]
          },
          "metadata": {}
        },
        {
          "output_type": "display_data",
          "data": {
            "text/plain": [
              "\u001b[1m Non-trainable params: \u001b[0m\u001b[38;5;34m0\u001b[0m (0.00 B)\n"
            ],
            "text/html": [
              "<pre style=\"white-space:pre;overflow-x:auto;line-height:normal;font-family:Menlo,'DejaVu Sans Mono',consolas,'Courier New',monospace\"><span style=\"font-weight: bold\"> Non-trainable params: </span><span style=\"color: #00af00; text-decoration-color: #00af00\">0</span> (0.00 B)\n",
              "</pre>\n"
            ]
          },
          "metadata": {}
        }
      ]
    },
    {
      "cell_type": "code",
      "source": [
        "class ReduceLROnMultipleAccuracies(tf.keras.callbacks.Callback):\n",
        "    def __init__(self, thresholds, factor, monitor='val_accuracy', verbose=1):\n",
        "        super(ReduceLROnMultipleAccuracies, self).__init__()\n",
        "        self.thresholds = thresholds  # List of accuracy thresholds\n",
        "        self.factor = factor  # Factor to reduce the learning rate\n",
        "        self.monitor = monitor\n",
        "        self.verbose = verbose\n",
        "        self.thresholds_reached = [False] * len(thresholds)  # Track each threshold\n",
        "\n",
        "    def on_epoch_end(self, epoch, logs=None):\n",
        "        current_accuracy = logs.get(self.monitor)\n",
        "        for i, threshold in enumerate(self.thresholds):\n",
        "            if current_accuracy >= threshold and not self.thresholds_reached[i]:\n",
        "                optimizer = self.model.optimizer\n",
        "                old_lr = optimizer.learning_rate.numpy()\n",
        "                new_lr = old_lr * self.factor\n",
        "                optimizer.learning_rate.assign(new_lr)\n",
        "                self.thresholds_reached[i] = True  # Mark this threshold as reached\n",
        "                if self.verbose > 0:\n",
        "                    print(f\"\\nEpoch {epoch+1}: {self.monitor} reached {threshold}. Reducing learning rate from {old_lr} to {new_lr}.\")\n",
        "\n",
        "# Try a custom callback\n",
        "thresholds = [0.96, 0.99, 0.9935]\n",
        "lr_callback = ReduceLROnMultipleAccuracies(thresholds=thresholds, factor=0.75, monitor='val_accuracy', verbose=False)"
      ],
      "metadata": {
        "id": "hxWXNw3NzrsC"
      },
      "execution_count": 37,
      "outputs": []
    },
    {
      "cell_type": "code",
      "source": [
        "model_rlr = ReduceLROnPlateau(monitor='val_loss', factor=0.8, min_lr=1e-4, patience=4, verbose=False)\n",
        "model_mc = ModelCheckpoint('model_1.keras', monitor='val_accuracy', mode='max', save_best_only=True, verbose=False)\n",
        "\n",
        "# Training the model\n",
        "history_1 = model_1.fit(\n",
        "    train_ds_preprocessed,\n",
        "    epochs=epochs,\n",
        "    validation_data=test_ds_preprocessed,\n",
        "    callbacks=[model_rlr, model_mc],\n",
        "    verbose=True\n",
        ")"
      ],
      "metadata": {
        "colab": {
          "base_uri": "https://localhost:8080/"
        },
        "id": "9VvsdcOozu6C",
        "outputId": "25f1cfd5-ab36-4797-bda9-b46fd1a722e9"
      },
      "execution_count": 38,
      "outputs": [
        {
          "output_type": "stream",
          "name": "stdout",
          "text": [
            "Epoch 1/50\n",
            "\u001b[1m178/178\u001b[0m \u001b[32m━━━━━━━━━━━━━━━━━━━━\u001b[0m\u001b[37m\u001b[0m \u001b[1m25s\u001b[0m 122ms/step - accuracy: 0.4808 - loss: 1.0871 - val_accuracy: 0.6369 - val_loss: 0.9610 - learning_rate: 0.0010\n",
            "Epoch 2/50\n",
            "\u001b[1m178/178\u001b[0m \u001b[32m━━━━━━━━━━━━━━━━━━━━\u001b[0m\u001b[37m\u001b[0m \u001b[1m19s\u001b[0m 103ms/step - accuracy: 0.7930 - loss: 0.5469 - val_accuracy: 0.7803 - val_loss: 0.5119 - learning_rate: 0.0010\n",
            "Epoch 3/50\n",
            "\u001b[1m178/178\u001b[0m \u001b[32m━━━━━━━━━━━━━━━━━━━━\u001b[0m\u001b[37m\u001b[0m \u001b[1m20s\u001b[0m 113ms/step - accuracy: 0.8579 - loss: 0.3705 - val_accuracy: 0.7727 - val_loss: 0.5646 - learning_rate: 0.0010\n",
            "Epoch 4/50\n",
            "\u001b[1m178/178\u001b[0m \u001b[32m━━━━━━━━━━━━━━━━━━━━\u001b[0m\u001b[37m\u001b[0m \u001b[1m19s\u001b[0m 107ms/step - accuracy: 0.8895 - loss: 0.3001 - val_accuracy: 0.9024 - val_loss: 0.2594 - learning_rate: 0.0010\n",
            "Epoch 5/50\n",
            "\u001b[1m178/178\u001b[0m \u001b[32m━━━━━━━━━━━━━━━━━━━━\u001b[0m\u001b[37m\u001b[0m \u001b[1m19s\u001b[0m 104ms/step - accuracy: 0.9286 - loss: 0.2106 - val_accuracy: 0.9169 - val_loss: 0.2522 - learning_rate: 0.0010\n",
            "Epoch 6/50\n",
            "\u001b[1m178/178\u001b[0m \u001b[32m━━━━━━━━━━━━━━━━━━━━\u001b[0m\u001b[37m\u001b[0m \u001b[1m19s\u001b[0m 106ms/step - accuracy: 0.9372 - loss: 0.1864 - val_accuracy: 0.9245 - val_loss: 0.2294 - learning_rate: 0.0010\n",
            "Epoch 7/50\n",
            "\u001b[1m178/178\u001b[0m \u001b[32m━━━━━━━━━━━━━━━━━━━━\u001b[0m\u001b[37m\u001b[0m \u001b[1m20s\u001b[0m 102ms/step - accuracy: 0.9580 - loss: 0.1296 - val_accuracy: 0.9252 - val_loss: 0.2351 - learning_rate: 0.0010\n",
            "Epoch 8/50\n",
            "\u001b[1m178/178\u001b[0m \u001b[32m━━━━━━━━━━━━━━━━━━━━\u001b[0m\u001b[37m\u001b[0m \u001b[1m22s\u001b[0m 109ms/step - accuracy: 0.9564 - loss: 0.1262 - val_accuracy: 0.8947 - val_loss: 0.3737 - learning_rate: 0.0010\n",
            "Epoch 9/50\n",
            "\u001b[1m178/178\u001b[0m \u001b[32m━━━━━━━━━━━━━━━━━━━━\u001b[0m\u001b[37m\u001b[0m \u001b[1m18s\u001b[0m 101ms/step - accuracy: 0.9497 - loss: 0.1312 - val_accuracy: 0.9108 - val_loss: 0.3133 - learning_rate: 0.0010\n",
            "Epoch 10/50\n",
            "\u001b[1m178/178\u001b[0m \u001b[32m━━━━━━━━━━━━━━━━━━━━\u001b[0m\u001b[37m\u001b[0m \u001b[1m20s\u001b[0m 110ms/step - accuracy: 0.9553 - loss: 0.1203 - val_accuracy: 0.9481 - val_loss: 0.2157 - learning_rate: 0.0010\n",
            "Epoch 11/50\n",
            "\u001b[1m178/178\u001b[0m \u001b[32m━━━━━━━━━━━━━━━━━━━━\u001b[0m\u001b[37m\u001b[0m \u001b[1m18s\u001b[0m 100ms/step - accuracy: 0.9710 - loss: 0.0832 - val_accuracy: 0.9314 - val_loss: 0.2408 - learning_rate: 0.0010\n",
            "Epoch 12/50\n",
            "\u001b[1m178/178\u001b[0m \u001b[32m━━━━━━━━━━━━━━━━━━━━\u001b[0m\u001b[37m\u001b[0m \u001b[1m22s\u001b[0m 107ms/step - accuracy: 0.9736 - loss: 0.0765 - val_accuracy: 0.9428 - val_loss: 0.2561 - learning_rate: 0.0010\n",
            "Epoch 13/50\n",
            "\u001b[1m178/178\u001b[0m \u001b[32m━━━━━━━━━━━━━━━━━━━━\u001b[0m\u001b[37m\u001b[0m \u001b[1m18s\u001b[0m 100ms/step - accuracy: 0.9714 - loss: 0.0892 - val_accuracy: 0.9558 - val_loss: 0.1775 - learning_rate: 0.0010\n",
            "Epoch 14/50\n",
            "\u001b[1m178/178\u001b[0m \u001b[32m━━━━━━━━━━━━━━━━━━━━\u001b[0m\u001b[37m\u001b[0m \u001b[1m20s\u001b[0m 108ms/step - accuracy: 0.9745 - loss: 0.0659 - val_accuracy: 0.9634 - val_loss: 0.1501 - learning_rate: 0.0010\n",
            "Epoch 15/50\n",
            "\u001b[1m178/178\u001b[0m \u001b[32m━━━━━━━━━━━━━━━━━━━━\u001b[0m\u001b[37m\u001b[0m \u001b[1m18s\u001b[0m 101ms/step - accuracy: 0.9824 - loss: 0.0566 - val_accuracy: 0.9550 - val_loss: 0.1591 - learning_rate: 0.0010\n",
            "Epoch 16/50\n",
            "\u001b[1m178/178\u001b[0m \u001b[32m━━━━━━━━━━━━━━━━━━━━\u001b[0m\u001b[37m\u001b[0m \u001b[1m19s\u001b[0m 107ms/step - accuracy: 0.9807 - loss: 0.0589 - val_accuracy: 0.9603 - val_loss: 0.1829 - learning_rate: 0.0010\n",
            "Epoch 17/50\n",
            "\u001b[1m178/178\u001b[0m \u001b[32m━━━━━━━━━━━━━━━━━━━━\u001b[0m\u001b[37m\u001b[0m \u001b[1m19s\u001b[0m 99ms/step - accuracy: 0.9819 - loss: 0.0518 - val_accuracy: 0.9481 - val_loss: 0.2215 - learning_rate: 0.0010\n",
            "Epoch 18/50\n",
            "\u001b[1m178/178\u001b[0m \u001b[32m━━━━━━━━━━━━━━━━━━━━\u001b[0m\u001b[37m\u001b[0m \u001b[1m21s\u001b[0m 102ms/step - accuracy: 0.9830 - loss: 0.0424 - val_accuracy: 0.9817 - val_loss: 0.1020 - learning_rate: 0.0010\n",
            "Epoch 19/50\n",
            "\u001b[1m178/178\u001b[0m \u001b[32m━━━━━━━━━━━━━━━━━━━━\u001b[0m\u001b[37m\u001b[0m \u001b[1m21s\u001b[0m 106ms/step - accuracy: 0.9811 - loss: 0.0607 - val_accuracy: 0.9710 - val_loss: 0.1361 - learning_rate: 0.0010\n",
            "Epoch 20/50\n",
            "\u001b[1m178/178\u001b[0m \u001b[32m━━━━━━━━━━━━━━━━━━━━\u001b[0m\u001b[37m\u001b[0m \u001b[1m19s\u001b[0m 99ms/step - accuracy: 0.9849 - loss: 0.0403 - val_accuracy: 0.9657 - val_loss: 0.1891 - learning_rate: 0.0010\n",
            "Epoch 21/50\n",
            "\u001b[1m178/178\u001b[0m \u001b[32m━━━━━━━━━━━━━━━━━━━━\u001b[0m\u001b[37m\u001b[0m \u001b[1m21s\u001b[0m 103ms/step - accuracy: 0.9852 - loss: 0.0439 - val_accuracy: 0.9649 - val_loss: 0.1391 - learning_rate: 0.0010\n",
            "Epoch 22/50\n",
            "\u001b[1m178/178\u001b[0m \u001b[32m━━━━━━━━━━━━━━━━━━━━\u001b[0m\u001b[37m\u001b[0m \u001b[1m21s\u001b[0m 106ms/step - accuracy: 0.9876 - loss: 0.0362 - val_accuracy: 0.9596 - val_loss: 0.1877 - learning_rate: 0.0010\n",
            "Epoch 23/50\n",
            "\u001b[1m178/178\u001b[0m \u001b[32m━━━━━━━━━━━━━━━━━━━━\u001b[0m\u001b[37m\u001b[0m \u001b[1m18s\u001b[0m 102ms/step - accuracy: 0.9933 - loss: 0.0251 - val_accuracy: 0.9687 - val_loss: 0.1698 - learning_rate: 8.0000e-04\n",
            "Epoch 24/50\n",
            "\u001b[1m178/178\u001b[0m \u001b[32m━━━━━━━━━━━━━━━━━━━━\u001b[0m\u001b[37m\u001b[0m \u001b[1m19s\u001b[0m 108ms/step - accuracy: 0.9908 - loss: 0.0284 - val_accuracy: 0.9809 - val_loss: 0.1269 - learning_rate: 8.0000e-04\n",
            "Epoch 25/50\n",
            "\u001b[1m178/178\u001b[0m \u001b[32m━━━━━━━━━━━━━━━━━━━━\u001b[0m\u001b[37m\u001b[0m \u001b[1m18s\u001b[0m 99ms/step - accuracy: 0.9923 - loss: 0.0241 - val_accuracy: 0.9603 - val_loss: 0.1956 - learning_rate: 8.0000e-04\n",
            "Epoch 26/50\n",
            "\u001b[1m178/178\u001b[0m \u001b[32m━━━━━━━━━━━━━━━━━━━━\u001b[0m\u001b[37m\u001b[0m \u001b[1m19s\u001b[0m 104ms/step - accuracy: 0.9939 - loss: 0.0223 - val_accuracy: 0.9764 - val_loss: 0.1271 - learning_rate: 8.0000e-04\n",
            "Epoch 27/50\n",
            "\u001b[1m178/178\u001b[0m \u001b[32m━━━━━━━━━━━━━━━━━━━━\u001b[0m\u001b[37m\u001b[0m \u001b[1m19s\u001b[0m 103ms/step - accuracy: 0.9941 - loss: 0.0223 - val_accuracy: 0.9832 - val_loss: 0.1102 - learning_rate: 6.4000e-04\n",
            "Epoch 28/50\n",
            "\u001b[1m178/178\u001b[0m \u001b[32m━━━━━━━━━━━━━━━━━━━━\u001b[0m\u001b[37m\u001b[0m \u001b[1m19s\u001b[0m 105ms/step - accuracy: 0.9948 - loss: 0.0135 - val_accuracy: 0.9802 - val_loss: 0.1482 - learning_rate: 6.4000e-04\n",
            "Epoch 29/50\n",
            "\u001b[1m178/178\u001b[0m \u001b[32m━━━━━━━━━━━━━━━━━━━━\u001b[0m\u001b[37m\u001b[0m \u001b[1m18s\u001b[0m 98ms/step - accuracy: 0.9940 - loss: 0.0162 - val_accuracy: 0.9817 - val_loss: 0.1418 - learning_rate: 6.4000e-04\n",
            "Epoch 30/50\n",
            "\u001b[1m178/178\u001b[0m \u001b[32m━━━━━━━━━━━━━━━━━━━━\u001b[0m\u001b[37m\u001b[0m \u001b[1m19s\u001b[0m 106ms/step - accuracy: 0.9945 - loss: 0.0144 - val_accuracy: 0.9779 - val_loss: 0.1217 - learning_rate: 6.4000e-04\n",
            "Epoch 31/50\n",
            "\u001b[1m178/178\u001b[0m \u001b[32m━━━━━━━━━━━━━━━━━━━━\u001b[0m\u001b[37m\u001b[0m \u001b[1m18s\u001b[0m 98ms/step - accuracy: 0.9934 - loss: 0.0221 - val_accuracy: 0.9863 - val_loss: 0.1227 - learning_rate: 5.1200e-04\n",
            "Epoch 32/50\n",
            "\u001b[1m178/178\u001b[0m \u001b[32m━━━━━━━━━━━━━━━━━━━━\u001b[0m\u001b[37m\u001b[0m \u001b[1m19s\u001b[0m 103ms/step - accuracy: 0.9984 - loss: 0.0049 - val_accuracy: 0.9847 - val_loss: 0.1471 - learning_rate: 5.1200e-04\n",
            "Epoch 33/50\n",
            "\u001b[1m178/178\u001b[0m \u001b[32m━━━━━━━━━━━━━━━━━━━━\u001b[0m\u001b[37m\u001b[0m \u001b[1m18s\u001b[0m 98ms/step - accuracy: 0.9963 - loss: 0.0105 - val_accuracy: 0.9840 - val_loss: 0.1158 - learning_rate: 5.1200e-04\n",
            "Epoch 34/50\n",
            "\u001b[1m178/178\u001b[0m \u001b[32m━━━━━━━━━━━━━━━━━━━━\u001b[0m\u001b[37m\u001b[0m \u001b[1m18s\u001b[0m 102ms/step - accuracy: 0.9942 - loss: 0.0245 - val_accuracy: 0.9771 - val_loss: 0.1744 - learning_rate: 5.1200e-04\n",
            "Epoch 35/50\n",
            "\u001b[1m178/178\u001b[0m \u001b[32m━━━━━━━━━━━━━━━━━━━━\u001b[0m\u001b[37m\u001b[0m \u001b[1m20s\u001b[0m 99ms/step - accuracy: 0.9973 - loss: 0.0056 - val_accuracy: 0.9809 - val_loss: 0.1211 - learning_rate: 4.0960e-04\n",
            "Epoch 36/50\n",
            "\u001b[1m178/178\u001b[0m \u001b[32m━━━━━━━━━━━━━━━━━━━━\u001b[0m\u001b[37m\u001b[0m \u001b[1m19s\u001b[0m 106ms/step - accuracy: 0.9970 - loss: 0.0065 - val_accuracy: 0.9794 - val_loss: 0.1946 - learning_rate: 4.0960e-04\n",
            "Epoch 37/50\n",
            "\u001b[1m178/178\u001b[0m \u001b[32m━━━━━━━━━━━━━━━━━━━━\u001b[0m\u001b[37m\u001b[0m \u001b[1m18s\u001b[0m 101ms/step - accuracy: 0.9976 - loss: 0.0051 - val_accuracy: 0.9641 - val_loss: 0.2243 - learning_rate: 4.0960e-04\n",
            "Epoch 38/50\n",
            "\u001b[1m178/178\u001b[0m \u001b[32m━━━━━━━━━━━━━━━━━━━━\u001b[0m\u001b[37m\u001b[0m \u001b[1m21s\u001b[0m 103ms/step - accuracy: 0.9977 - loss: 0.0153 - val_accuracy: 0.9825 - val_loss: 0.1754 - learning_rate: 4.0960e-04\n",
            "Epoch 39/50\n",
            "\u001b[1m178/178\u001b[0m \u001b[32m━━━━━━━━━━━━━━━━━━━━\u001b[0m\u001b[37m\u001b[0m \u001b[1m20s\u001b[0m 100ms/step - accuracy: 0.9986 - loss: 0.0033 - val_accuracy: 0.9779 - val_loss: 0.1809 - learning_rate: 3.2768e-04\n",
            "Epoch 40/50\n",
            "\u001b[1m178/178\u001b[0m \u001b[32m━━━━━━━━━━━━━━━━━━━━\u001b[0m\u001b[37m\u001b[0m \u001b[1m20s\u001b[0m 99ms/step - accuracy: 0.9966 - loss: 0.0068 - val_accuracy: 0.9794 - val_loss: 0.1937 - learning_rate: 3.2768e-04\n",
            "Epoch 41/50\n",
            "\u001b[1m178/178\u001b[0m \u001b[32m━━━━━━━━━━━━━━━━━━━━\u001b[0m\u001b[37m\u001b[0m \u001b[1m21s\u001b[0m 104ms/step - accuracy: 0.9983 - loss: 0.0032 - val_accuracy: 0.9771 - val_loss: 0.1905 - learning_rate: 3.2768e-04\n",
            "Epoch 42/50\n",
            "\u001b[1m178/178\u001b[0m \u001b[32m━━━━━━━━━━━━━━━━━━━━\u001b[0m\u001b[37m\u001b[0m \u001b[1m18s\u001b[0m 101ms/step - accuracy: 0.9977 - loss: 0.0062 - val_accuracy: 0.9794 - val_loss: 0.1794 - learning_rate: 3.2768e-04\n",
            "Epoch 43/50\n",
            "\u001b[1m178/178\u001b[0m \u001b[32m━━━━━━━━━━━━━━━━━━━━\u001b[0m\u001b[37m\u001b[0m \u001b[1m21s\u001b[0m 101ms/step - accuracy: 0.9980 - loss: 0.0038 - val_accuracy: 0.9809 - val_loss: 0.1982 - learning_rate: 2.6214e-04\n",
            "Epoch 44/50\n",
            "\u001b[1m178/178\u001b[0m \u001b[32m━━━━━━━━━━━━━━━━━━━━\u001b[0m\u001b[37m\u001b[0m \u001b[1m18s\u001b[0m 100ms/step - accuracy: 0.9993 - loss: 0.0013 - val_accuracy: 0.9786 - val_loss: 0.2099 - learning_rate: 2.6214e-04\n",
            "Epoch 45/50\n",
            "\u001b[1m178/178\u001b[0m \u001b[32m━━━━━━━━━━━━━━━━━━━━\u001b[0m\u001b[37m\u001b[0m \u001b[1m20s\u001b[0m 100ms/step - accuracy: 0.9979 - loss: 0.0056 - val_accuracy: 0.9786 - val_loss: 0.2062 - learning_rate: 2.6214e-04\n",
            "Epoch 46/50\n",
            "\u001b[1m178/178\u001b[0m \u001b[32m━━━━━━━━━━━━━━━━━━━━\u001b[0m\u001b[37m\u001b[0m \u001b[1m19s\u001b[0m 105ms/step - accuracy: 0.9967 - loss: 0.0084 - val_accuracy: 0.9809 - val_loss: 0.2085 - learning_rate: 2.6214e-04\n",
            "Epoch 47/50\n",
            "\u001b[1m178/178\u001b[0m \u001b[32m━━━━━━━━━━━━━━━━━━━━\u001b[0m\u001b[37m\u001b[0m \u001b[1m19s\u001b[0m 98ms/step - accuracy: 0.9980 - loss: 0.0031 - val_accuracy: 0.9817 - val_loss: 0.1858 - learning_rate: 2.0972e-04\n",
            "Epoch 48/50\n",
            "\u001b[1m178/178\u001b[0m \u001b[32m━━━━━━━━━━━━━━━━━━━━\u001b[0m\u001b[37m\u001b[0m \u001b[1m19s\u001b[0m 103ms/step - accuracy: 0.9996 - loss: 0.0012 - val_accuracy: 0.9863 - val_loss: 0.1660 - learning_rate: 2.0972e-04\n",
            "Epoch 49/50\n",
            "\u001b[1m178/178\u001b[0m \u001b[32m━━━━━━━━━━━━━━━━━━━━\u001b[0m\u001b[37m\u001b[0m \u001b[1m18s\u001b[0m 98ms/step - accuracy: 0.9990 - loss: 0.0016 - val_accuracy: 0.9809 - val_loss: 0.1909 - learning_rate: 2.0972e-04\n",
            "Epoch 50/50\n",
            "\u001b[1m178/178\u001b[0m \u001b[32m━━━━━━━━━━━━━━━━━━━━\u001b[0m\u001b[37m\u001b[0m \u001b[1m18s\u001b[0m 102ms/step - accuracy: 0.9987 - loss: 0.0027 - val_accuracy: 0.9825 - val_loss: 0.1936 - learning_rate: 2.0972e-04\n"
          ]
        }
      ]
    },
    {
      "cell_type": "code",
      "source": [
        "test_loss, test_acc = model_1.evaluate(test_ds_preprocessed)\n",
        "print(f\"Test accuracy: {test_acc*100:0.4f}%\")"
      ],
      "metadata": {
        "colab": {
          "base_uri": "https://localhost:8080/"
        },
        "id": "8jMSwaqD4nCO",
        "outputId": "adc89fb6-ec8b-45bf-d9d6-24203d44c873"
      },
      "execution_count": 39,
      "outputs": [
        {
          "output_type": "stream",
          "name": "stdout",
          "text": [
            "\u001b[1m41/41\u001b[0m \u001b[32m━━━━━━━━━━━━━━━━━━━━\u001b[0m\u001b[37m\u001b[0m \u001b[1m1s\u001b[0m 20ms/step - accuracy: 0.9856 - loss: 0.1951\n",
            "Test accuracy: 98.2456%\n"
          ]
        }
      ]
    },
    {
      "cell_type": "code",
      "source": [
        "from sklearn.metrics import classification_report\n",
        "\n",
        "y_pred = model_1.predict(test_ds_preprocessed)\n",
        "y_pred_classes = np.argmax(y_pred, axis=1)\n",
        "# Get true labels as class indices instead of one-hot encoded vectors\n",
        "true_labels = np.concatenate([np.argmax(y.numpy(), axis=-1) for x, y in test_ds_preprocessed], axis=0)\n",
        "print(classification_report(true_labels, y_pred_classes))"
      ],
      "metadata": {
        "colab": {
          "base_uri": "https://localhost:8080/"
        },
        "id": "Dp9pB_xr4q6v",
        "outputId": "f8440232-452b-4134-b47d-9a07b89358f1"
      },
      "execution_count": 40,
      "outputs": [
        {
          "output_type": "stream",
          "name": "stdout",
          "text": [
            "\u001b[1m41/41\u001b[0m \u001b[32m━━━━━━━━━━━━━━━━━━━━\u001b[0m\u001b[37m\u001b[0m \u001b[1m1s\u001b[0m 25ms/step\n",
            "              precision    recall  f1-score   support\n",
            "\n",
            "           0       0.99      0.98      0.98       300\n",
            "           1       0.97      0.95      0.96       306\n",
            "           2       0.99      1.00      1.00       405\n",
            "           3       0.97      1.00      0.98       300\n",
            "\n",
            "    accuracy                           0.98      1311\n",
            "   macro avg       0.98      0.98      0.98      1311\n",
            "weighted avg       0.98      0.98      0.98      1311\n",
            "\n"
          ]
        }
      ]
    },
    {
      "cell_type": "code",
      "source": [
        "from sklearn.metrics import confusion_matrix\n",
        "import seaborn as sns\n",
        "import matplotlib.pyplot as plt\n",
        "\n",
        "cm = confusion_matrix(true_labels, y_pred_classes)\n",
        "\n",
        "plt.figure(figsize=(8, 6))\n",
        "sns.heatmap(cm, annot=True, fmt='d', cmap='Blues', xticklabels=class_names, yticklabels=class_names)\n",
        "plt.xlabel('Predicted')\n",
        "plt.ylabel('True')\n",
        "plt.title('Confusion Matrix')\n",
        "plt.show()"
      ],
      "metadata": {
        "colab": {
          "base_uri": "https://localhost:8080/",
          "height": 564
        },
        "id": "SyCINt5s41bv",
        "outputId": "851b065d-32a9-4d3a-9139-56a183881681"
      },
      "execution_count": 41,
      "outputs": [
        {
          "output_type": "display_data",
          "data": {
            "text/plain": [
              "<Figure size 800x600 with 2 Axes>"
            ],
            "image/png": "[encoded data removed]"
          },
          "metadata": {}
        }
      ]
    },
    {
      "cell_type": "code",
      "source": [],
      "metadata": {
        "id": "v5tAMuiH41pA"
      },
      "execution_count": null,
      "outputs": []
    }
  ]
}