{
  "nbformat": 4,
  "nbformat_minor": 0,
  "metadata": {
    "colab": {
      "provenance": [],
      "gpuType": "T4"
    },
    "kernelspec": {
      "name": "python3",
      "display_name": "Python 3"
    },
    "language_info": {
      "name": "python"
    },
    "accelerator": "GPU"
  },
  "cells": [
    {
      "cell_type": "code",
      "execution_count": 18,
      "metadata": {
        "id": "g7oAnnlsgHJH"
      },
      "outputs": [],
      "source": [
        "# General Imports\n",
        "import matplotlib.pyplot as plt\n",
        "import seaborn as sns\n",
        "import numpy as np\n",
        "import os\n",
        "\n",
        "from sklearn.metrics import confusion_matrix"
      ]
    },
    {
      "cell_type": "code",
      "source": [
        "# Neural Network imports\n",
        "import tensorflow as tf\n",
        "from tensorflow.keras.models import Sequential\n",
        "from tensorflow.keras.models import load_model\n",
        "from tensorflow.keras.layers import MaxPooling2D\n",
        "from tensorflow.keras.layers import Conv2D\n",
        "from tensorflow.keras.layers import Dense\n",
        "from tensorflow.keras.layers import Dropout\n",
        "from tensorflow.keras.layers import Flatten\n",
        "from tensorflow.keras.layers import Input\n",
        "from tensorflow.keras.optimizers import Adam"
      ],
      "metadata": {
        "id": "NqgQc3QLihIj"
      },
      "execution_count": 19,
      "outputs": []
    },
    {
      "cell_type": "code",
      "source": [
        "# Image augmentation importrs\n",
        "from tensorflow.keras.utils import load_img\n",
        "from tensorflow.keras.preprocessing import image\n",
        "from tensorflow.keras.layers import RandomRotation\n",
        "from tensorflow.keras.layers import RandomContrast\n",
        "from tensorflow.keras.layers import RandomZoom\n",
        "from tensorflow.keras.layers import RandomFlip\n",
        "from tensorflow.keras.layers import RandomTranslation"
      ],
      "metadata": {
        "id": "KaS65eGeijRw"
      },
      "execution_count": 20,
      "outputs": []
    },
    {
      "cell_type": "code",
      "source": [
        "# Training Model callbacks\n",
        "from tensorflow.keras.callbacks import ReduceLROnPlateau\n",
        "from tensorflow.keras.callbacks import ModelCheckpoint"
      ],
      "metadata": {
        "id": "7C0R2HQomSfL"
      },
      "execution_count": 21,
      "outputs": []
    },
    {
      "cell_type": "markdown",
      "source": [
        "Data Pre-processing"
      ],
      "metadata": {
        "id": "KR2ut9TdjAc8"
      }
    },
    {
      "cell_type": "code",
      "source": [
        "def get_data_labels(directory, shuffle=True, random_state=0):\n",
        "    from sklearn.utils import shuffle\n",
        "    data_path = []\n",
        "    data_index = []\n",
        "    label_dict = {label: index for index, label in enumerate(sorted(os.listdir(directory)))}\n",
        "\n",
        "    for label, index in label_dict.items():\n",
        "        label_dir = os.path.join(directory, label)\n",
        "        for image in os.listdir(label_dir):\n",
        "            image_path = os.path.join(label_dir, image)\n",
        "            data_path.append(image_path)\n",
        "            data_index.append(index)\n",
        "\n",
        "    if shuffle:\n",
        "        data_path, data_index = shuffle(data_path, data_index, random_state=random_state)\n",
        "\n",
        "    return data_path, data_index\n",
        "\n",
        "def parse_function(filename, label, image_size, n_channels):\n",
        "    image_string = tf.io.read_file(filename)\n",
        "    image = tf.image.decode_jpeg(image_string, n_channels)\n",
        "    image = tf.image.resize(image, image_size)\n",
        "    return image, label\n",
        "\n",
        "def get_dataset(paths, labels, image_size, n_channels=1, num_classes=4, batch_size=32):\n",
        "    path_ds = tf.data.Dataset.from_tensor_slices((paths, labels))\n",
        "    image_label_ds = path_ds.map(lambda path, label: parse_function(path, label, image_size, n_channels),\n",
        "                                 num_parallel_calls=tf.data.AUTOTUNE)\n",
        "    return image_label_ds.batch(batch_size).prefetch(buffer_size=tf.data.AUTOTUNE)"
      ],
      "metadata": {
        "id": "ZQY0xWl6iyY_"
      },
      "execution_count": 22,
      "outputs": []
    },
    {
      "source": [
        "import os\n",
        "import tensorflow as tf\n",
        "\n",
        "\n",
        "train_paths = 'BT_50/Training'\n",
        "test_paths = 'BT_50/Testing'\n",
        "\n",
        "\n",
        "train_image_paths, train_index = get_data_labels(train_paths)\n",
        "\n",
        "\n",
        "test_image_paths, test_index = get_data_labels(test_paths)\n",
        "\n",
        "\n",
        "batch_size = 32\n",
        "image_dim = (168, 168)\n",
        "train_ds = get_dataset(train_image_paths, train_index, image_dim, n_channels=1, num_classes=4, batch_size=batch_size)\n",
        "test_ds = get_dataset(test_image_paths, test_index, image_dim, n_channels=1, num_classes=4, batch_size=batch_size)"
      ],
      "cell_type": "code",
      "metadata": {
        "id": "Kf-legcqjiAC"
      },
      "execution_count": 23,
      "outputs": []
    },
    {
      "cell_type": "code",
      "source": [
        "class_mappings = {'Glioma': 0, 'Meninigioma': 1, 'Notumor': 2, 'Pituitary': 3}\n",
        "inv_class_mappings = {v: k for k, v in class_mappings.items()}\n",
        "class_names = list(class_mappings.keys())"
      ],
      "metadata": {
        "id": "7fy6pZaPkCTv"
      },
      "execution_count": 24,
      "outputs": []
    },
    {
      "cell_type": "code",
      "source": [
        "# Printing traing and testing sample sizes\n",
        "print('Training')\n",
        "print(f'Number of Paths: {len(train_paths)}')\n",
        "print(f'Number of Labels: {len(train_index)}')\n",
        "print('\\nTesting')\n",
        "print(f'Number of Paths: {len(test_paths)}')\n",
        "print(f'Number of Labels: {len(test_index)}')"
      ],
      "metadata": {
        "colab": {
          "base_uri": "https://localhost:8080/"
        },
        "id": "F5naVrUkkF7O",
        "outputId": "120542b8-4139-46ca-bda2-9df891ac4ec3"
      },
      "execution_count": 25,
      "outputs": [
        {
          "output_type": "stream",
          "name": "stdout",
          "text": [
            "Training\n",
            "Number of Paths: 14\n",
            "Number of Labels: 2640\n",
            "\n",
            "Testing\n",
            "Number of Paths: 13\n",
            "Number of Labels: 600\n"
          ]
        }
      ]
    },
    {
      "cell_type": "code",
      "source": [
        "# Output to show datasets\n",
        "print(f\"\\nTraining dataset: {train_ds}\")\n",
        "print(f\"\\nTesting dataset: {test_ds}\")"
      ],
      "metadata": {
        "colab": {
          "base_uri": "https://localhost:8080/"
        },
        "id": "B83bhGIdkWz-",
        "outputId": "a72f9205-7943-48c6-cfe3-3144e0592ce3"
      },
      "execution_count": 26,
      "outputs": [
        {
          "output_type": "stream",
          "name": "stdout",
          "text": [
            "\n",
            "Training dataset: <_PrefetchDataset element_spec=(TensorSpec(shape=(None, 168, 168, 1), dtype=tf.float32, name=None), TensorSpec(shape=(None,), dtype=tf.int32, name=None))>\n",
            "\n",
            "Testing dataset: <_PrefetchDataset element_spec=(TensorSpec(shape=(None, 168, 168, 1), dtype=tf.float32, name=None), TensorSpec(shape=(None,), dtype=tf.int32, name=None))>\n"
          ]
        }
      ]
    },
    {
      "cell_type": "markdown",
      "source": [
        "Training Setup"
      ],
      "metadata": {
        "id": "cdrEILipkxTO"
      }
    },
    {
      "cell_type": "code",
      "source": [
        "# Dta augmentation sequential model\n",
        "data_augmentation = Sequential([\n",
        "    RandomFlip(\"horizontal\"),\n",
        "    RandomRotation(0.02, fill_mode='constant'),\n",
        "    RandomContrast(0.1),\n",
        "    RandomZoom(height_factor=0.01, width_factor=0.05),\n",
        "    RandomTranslation(height_factor=0.0015, width_factor=0.0015, fill_mode='constant'),\n",
        "])\n",
        "\n",
        "# Training augmentation and nornalization\n",
        "def preprocess_train(image, label):\n",
        "    # Apply data augmentation and Normalize\n",
        "    image = data_augmentation(image) / 255.0\n",
        "    return image, label\n",
        "\n",
        "\n",
        "\n",
        "\n",
        "# For test dataset only appying normalization\n",
        "def preprocess_test(image, label):\n",
        "    return image / 255.0, label\n",
        "\n",
        "\n",
        "\n",
        "\n",
        "# Apply transformation to training and testing datasets\n",
        "train_ds_preprocessed = train_ds.map(preprocess_train, num_parallel_calls=tf.data.AUTOTUNE)\n",
        "test_ds_preprocessed = test_ds.map(preprocess_test, num_parallel_calls=tf.data.AUTOTUNE)"
      ],
      "metadata": {
        "id": "RLZFYPKUkwv9"
      },
      "execution_count": 27,
      "outputs": []
    },
    {
      "cell_type": "code",
      "source": [
        "# Classes and Image shape: height, width, grayscale\n",
        "num_classes = len(class_mappings.keys())\n",
        "image_shape = (image_dim[0], image_dim[1], 1)\n",
        "\n",
        "# Training epochs and batch size\n",
        "epochs = 50\n",
        "print(f'Number of Classes: {num_classes}')\n",
        "print(f'Image shape: {image_shape}')\n",
        "print(f'Epochs: {epochs}')\n",
        "print(f'Batch size: {batch_size}')\n",
        "\n",
        "def encode_labels(image, label):\n",
        "    return image, tf.one_hot(label, depth=num_classes)\n",
        "\n",
        "train_ds_preprocessed = train_ds_preprocessed.map(encode_labels, num_parallel_calls=tf.data.AUTOTUNE)\n",
        "test_ds_preprocessed = test_ds_preprocessed.map(encode_labels, num_parallel_calls=tf.data.AUTOTUNE)"
      ],
      "metadata": {
        "colab": {
          "base_uri": "https://localhost:8080/"
        },
        "id": "7bVCCxi3lNa9",
        "outputId": "464650b3-5f3c-424f-a77a-4c8a5a4deec9"
      },
      "execution_count": 28,
      "outputs": [
        {
          "output_type": "stream",
          "name": "stdout",
          "text": [
            "Number of Classes: 4\n",
            "Image shape: (168, 168, 1)\n",
            "Epochs: 50\n",
            "Batch size: 32\n"
          ]
        }
      ]
    },
    {
      "cell_type": "markdown",
      "source": [
        "CNN Architecture"
      ],
      "metadata": {
        "id": "KBcGgrHql2Th"
      }
    },
    {
      "cell_type": "code",
      "source": [
        "# Building model\n",
        "model = Sequential([\n",
        "    # Input tensor shape\n",
        "    Input(shape=image_shape),\n",
        "\n",
        "    # Convolutional layer 1\n",
        "    Conv2D(64, (5, 5), activation=\"relu\"),\n",
        "    MaxPooling2D(pool_size=(3, 3)),\n",
        "\n",
        "    # Convolutional layer 2\n",
        "    Conv2D(64, (5, 5), activation=\"relu\"),\n",
        "    MaxPooling2D(pool_size=(3, 3)),\n",
        "\n",
        "    # Convolutional layer 3\n",
        "    Conv2D(128, (4, 4), activation=\"relu\"),\n",
        "    MaxPooling2D(pool_size=(2, 2)),\n",
        "\n",
        "    # Convolutional layer 4\n",
        "    Conv2D(128, (4, 4), activation=\"relu\"),\n",
        "    MaxPooling2D(pool_size=(2, 2)),\n",
        "    Flatten(),\n",
        "\n",
        "    # Dense layers\n",
        "    Dense(512, activation=\"relu\"),\n",
        "    Dense(num_classes, activation=\"softmax\")\n",
        "])\n",
        "\n",
        "# Model summary\n",
        "model.summary()\n",
        "\n",
        "# COompilng model with Adam optimizer\n",
        "optimizer = Adam(learning_rate=0.001, beta_1=0.85, beta_2=0.9925)\n",
        "model.compile(optimizer=optimizer, loss='categorical_crossentropy', metrics= ['accuracy'])"
      ],
      "metadata": {
        "colab": {
          "base_uri": "https://localhost:8080/",
          "height": 481
        },
        "id": "m3JG4J_ol03b",
        "outputId": "04441d7e-6ae0-4a9c-f157-54fe823cb711"
      },
      "execution_count": 29,
      "outputs": [
        {
          "output_type": "display_data",
          "data": {
            "text/plain": [
              "\u001b[1mModel: \"sequential_3\"\u001b[0m\n"
            ],
            "text/html": [
              "<pre style=\"white-space:pre;overflow-x:auto;line-height:normal;font-family:Menlo,'DejaVu Sans Mono',consolas,'Courier New',monospace\"><span style=\"font-weight: bold\">Model: \"sequential_3\"</span>\n",
              "</pre>\n"
            ]
          },
          "metadata": {}
        },
        {
          "output_type": "display_data",
          "data": {
            "text/plain": [
              "┏━━━━━━━━━━━━━━━━━━━━━━━━━━━━━━━━━━━━━━┳━━━━━━━━━━━━━━━━━━━━━━━━━━━━━┳━━━━━━━━━━━━━━━━━┓\n",
              "┃\u001b[1m \u001b[0m\u001b[1mLayer (type)                        \u001b[0m\u001b[1m \u001b[0m┃\u001b[1m \u001b[0m\u001b[1mOutput Shape               \u001b[0m\u001b[1m \u001b[0m┃\u001b[1m \u001b[0m\u001b[1m        Param #\u001b[0m\u001b[1m \u001b[0m┃\n",
              "┡━━━━━━━━━━━━━━━━━━━━━━━━━━━━━━━━━━━━━━╇━━━━━━━━━━━━━━━━━━━━━━━━━━━━━╇━━━━━━━━━━━━━━━━━┩\n",
              "│ conv2d_4 (\u001b[38;5;33mConv2D\u001b[0m)                    │ (\u001b[38;5;45mNone\u001b[0m, \u001b[38;5;34m164\u001b[0m, \u001b[38;5;34m164\u001b[0m, \u001b[38;5;34m64\u001b[0m)        │           \u001b[38;5;34m1,664\u001b[0m │\n",
              "├──────────────────────────────────────┼─────────────────────────────┼─────────────────┤\n",
              "│ max_pooling2d_4 (\u001b[38;5;33mMaxPooling2D\u001b[0m)       │ (\u001b[38;5;45mNone\u001b[0m, \u001b[38;5;34m54\u001b[0m, \u001b[38;5;34m54\u001b[0m, \u001b[38;5;34m64\u001b[0m)          │               \u001b[38;5;34m0\u001b[0m │\n",
              "├──────────────────────────────────────┼─────────────────────────────┼─────────────────┤\n",
              "│ conv2d_5 (\u001b[38;5;33mConv2D\u001b[0m)                    │ (\u001b[38;5;45mNone\u001b[0m, \u001b[38;5;34m50\u001b[0m, \u001b[38;5;34m50\u001b[0m, \u001b[38;5;34m64\u001b[0m)          │         \u001b[38;5;34m102,464\u001b[0m │\n",
              "├──────────────────────────────────────┼─────────────────────────────┼─────────────────┤\n",
              "│ max_pooling2d_5 (\u001b[38;5;33mMaxPooling2D\u001b[0m)       │ (\u001b[38;5;45mNone\u001b[0m, \u001b[38;5;34m16\u001b[0m, \u001b[38;5;34m16\u001b[0m, \u001b[38;5;34m64\u001b[0m)          │               \u001b[38;5;34m0\u001b[0m │\n",
              "├──────────────────────────────────────┼─────────────────────────────┼─────────────────┤\n",
              "│ conv2d_6 (\u001b[38;5;33mConv2D\u001b[0m)                    │ (\u001b[38;5;45mNone\u001b[0m, \u001b[38;5;34m13\u001b[0m, \u001b[38;5;34m13\u001b[0m, \u001b[38;5;34m128\u001b[0m)         │         \u001b[38;5;34m131,200\u001b[0m │\n",
              "├──────────────────────────────────────┼─────────────────────────────┼─────────────────┤\n",
              "│ max_pooling2d_6 (\u001b[38;5;33mMaxPooling2D\u001b[0m)       │ (\u001b[38;5;45mNone\u001b[0m, \u001b[38;5;34m6\u001b[0m, \u001b[38;5;34m6\u001b[0m, \u001b[38;5;34m128\u001b[0m)           │               \u001b[38;5;34m0\u001b[0m │\n",
              "├──────────────────────────────────────┼─────────────────────────────┼─────────────────┤\n",
              "│ conv2d_7 (\u001b[38;5;33mConv2D\u001b[0m)                    │ (\u001b[38;5;45mNone\u001b[0m, \u001b[38;5;34m3\u001b[0m, \u001b[38;5;34m3\u001b[0m, \u001b[38;5;34m128\u001b[0m)           │         \u001b[38;5;34m262,272\u001b[0m │\n",
              "├──────────────────────────────────────┼─────────────────────────────┼─────────────────┤\n",
              "│ max_pooling2d_7 (\u001b[38;5;33mMaxPooling2D\u001b[0m)       │ (\u001b[38;5;45mNone\u001b[0m, \u001b[38;5;34m1\u001b[0m, \u001b[38;5;34m1\u001b[0m, \u001b[38;5;34m128\u001b[0m)           │               \u001b[38;5;34m0\u001b[0m │\n",
              "├──────────────────────────────────────┼─────────────────────────────┼─────────────────┤\n",
              "│ flatten_1 (\u001b[38;5;33mFlatten\u001b[0m)                  │ (\u001b[38;5;45mNone\u001b[0m, \u001b[38;5;34m128\u001b[0m)                 │               \u001b[38;5;34m0\u001b[0m │\n",
              "├──────────────────────────────────────┼─────────────────────────────┼─────────────────┤\n",
              "│ dense_2 (\u001b[38;5;33mDense\u001b[0m)                      │ (\u001b[38;5;45mNone\u001b[0m, \u001b[38;5;34m512\u001b[0m)                 │          \u001b[38;5;34m66,048\u001b[0m │\n",
              "├──────────────────────────────────────┼─────────────────────────────┼─────────────────┤\n",
              "│ dense_3 (\u001b[38;5;33mDense\u001b[0m)                      │ (\u001b[38;5;45mNone\u001b[0m, \u001b[38;5;34m4\u001b[0m)                   │           \u001b[38;5;34m2,052\u001b[0m │\n",
              "└──────────────────────────────────────┴─────────────────────────────┴─────────────────┘\n"
            ],
            "text/html": [
              "<pre style=\"white-space:pre;overflow-x:auto;line-height:normal;font-family:Menlo,'DejaVu Sans Mono',consolas,'Courier New',monospace\">┏━━━━━━━━━━━━━━━━━━━━━━━━━━━━━━━━━━━━━━┳━━━━━━━━━━━━━━━━━━━━━━━━━━━━━┳━━━━━━━━━━━━━━━━━┓\n",
              "┃<span style=\"font-weight: bold\"> Layer (type)                         </span>┃<span style=\"font-weight: bold\"> Output Shape                </span>┃<span style=\"font-weight: bold\">         Param # </span>┃\n",
              "┡━━━━━━━━━━━━━━━━━━━━━━━━━━━━━━━━━━━━━━╇━━━━━━━━━━━━━━━━━━━━━━━━━━━━━╇━━━━━━━━━━━━━━━━━┩\n",
              "│ conv2d_4 (<span style=\"color: #0087ff; text-decoration-color: #0087ff\">Conv2D</span>)                    │ (<span style=\"color: #00d7ff; text-decoration-color: #00d7ff\">None</span>, <span style=\"color: #00af00; text-decoration-color: #00af00\">164</span>, <span style=\"color: #00af00; text-decoration-color: #00af00\">164</span>, <span style=\"color: #00af00; text-decoration-color: #00af00\">64</span>)        │           <span style=\"color: #00af00; text-decoration-color: #00af00\">1,664</span> │\n",
              "├──────────────────────────────────────┼─────────────────────────────┼─────────────────┤\n",
              "│ max_pooling2d_4 (<span style=\"color: #0087ff; text-decoration-color: #0087ff\">MaxPooling2D</span>)       │ (<span style=\"color: #00d7ff; text-decoration-color: #00d7ff\">None</span>, <span style=\"color: #00af00; text-decoration-color: #00af00\">54</span>, <span style=\"color: #00af00; text-decoration-color: #00af00\">54</span>, <span style=\"color: #00af00; text-decoration-color: #00af00\">64</span>)          │               <span style=\"color: #00af00; text-decoration-color: #00af00\">0</span> │\n",
              "├──────────────────────────────────────┼─────────────────────────────┼─────────────────┤\n",
              "│ conv2d_5 (<span style=\"color: #0087ff; text-decoration-color: #0087ff\">Conv2D</span>)                    │ (<span style=\"color: #00d7ff; text-decoration-color: #00d7ff\">None</span>, <span style=\"color: #00af00; text-decoration-color: #00af00\">50</span>, <span style=\"color: #00af00; text-decoration-color: #00af00\">50</span>, <span style=\"color: #00af00; text-decoration-color: #00af00\">64</span>)          │         <span style=\"color: #00af00; text-decoration-color: #00af00\">102,464</span> │\n",
              "├──────────────────────────────────────┼─────────────────────────────┼─────────────────┤\n",
              "│ max_pooling2d_5 (<span style=\"color: #0087ff; text-decoration-color: #0087ff\">MaxPooling2D</span>)       │ (<span style=\"color: #00d7ff; text-decoration-color: #00d7ff\">None</span>, <span style=\"color: #00af00; text-decoration-color: #00af00\">16</span>, <span style=\"color: #00af00; text-decoration-color: #00af00\">16</span>, <span style=\"color: #00af00; text-decoration-color: #00af00\">64</span>)          │               <span style=\"color: #00af00; text-decoration-color: #00af00\">0</span> │\n",
              "├──────────────────────────────────────┼─────────────────────────────┼─────────────────┤\n",
              "│ conv2d_6 (<span style=\"color: #0087ff; text-decoration-color: #0087ff\">Conv2D</span>)                    │ (<span style=\"color: #00d7ff; text-decoration-color: #00d7ff\">None</span>, <span style=\"color: #00af00; text-decoration-color: #00af00\">13</span>, <span style=\"color: #00af00; text-decoration-color: #00af00\">13</span>, <span style=\"color: #00af00; text-decoration-color: #00af00\">128</span>)         │         <span style=\"color: #00af00; text-decoration-color: #00af00\">131,200</span> │\n",
              "├──────────────────────────────────────┼─────────────────────────────┼─────────────────┤\n",
              "│ max_pooling2d_6 (<span style=\"color: #0087ff; text-decoration-color: #0087ff\">MaxPooling2D</span>)       │ (<span style=\"color: #00d7ff; text-decoration-color: #00d7ff\">None</span>, <span style=\"color: #00af00; text-decoration-color: #00af00\">6</span>, <span style=\"color: #00af00; text-decoration-color: #00af00\">6</span>, <span style=\"color: #00af00; text-decoration-color: #00af00\">128</span>)           │               <span style=\"color: #00af00; text-decoration-color: #00af00\">0</span> │\n",
              "├──────────────────────────────────────┼─────────────────────────────┼─────────────────┤\n",
              "│ conv2d_7 (<span style=\"color: #0087ff; text-decoration-color: #0087ff\">Conv2D</span>)                    │ (<span style=\"color: #00d7ff; text-decoration-color: #00d7ff\">None</span>, <span style=\"color: #00af00; text-decoration-color: #00af00\">3</span>, <span style=\"color: #00af00; text-decoration-color: #00af00\">3</span>, <span style=\"color: #00af00; text-decoration-color: #00af00\">128</span>)           │         <span style=\"color: #00af00; text-decoration-color: #00af00\">262,272</span> │\n",
              "├──────────────────────────────────────┼─────────────────────────────┼─────────────────┤\n",
              "│ max_pooling2d_7 (<span style=\"color: #0087ff; text-decoration-color: #0087ff\">MaxPooling2D</span>)       │ (<span style=\"color: #00d7ff; text-decoration-color: #00d7ff\">None</span>, <span style=\"color: #00af00; text-decoration-color: #00af00\">1</span>, <span style=\"color: #00af00; text-decoration-color: #00af00\">1</span>, <span style=\"color: #00af00; text-decoration-color: #00af00\">128</span>)           │               <span style=\"color: #00af00; text-decoration-color: #00af00\">0</span> │\n",
              "├──────────────────────────────────────┼─────────────────────────────┼─────────────────┤\n",
              "│ flatten_1 (<span style=\"color: #0087ff; text-decoration-color: #0087ff\">Flatten</span>)                  │ (<span style=\"color: #00d7ff; text-decoration-color: #00d7ff\">None</span>, <span style=\"color: #00af00; text-decoration-color: #00af00\">128</span>)                 │               <span style=\"color: #00af00; text-decoration-color: #00af00\">0</span> │\n",
              "├──────────────────────────────────────┼─────────────────────────────┼─────────────────┤\n",
              "│ dense_2 (<span style=\"color: #0087ff; text-decoration-color: #0087ff\">Dense</span>)                      │ (<span style=\"color: #00d7ff; text-decoration-color: #00d7ff\">None</span>, <span style=\"color: #00af00; text-decoration-color: #00af00\">512</span>)                 │          <span style=\"color: #00af00; text-decoration-color: #00af00\">66,048</span> │\n",
              "├──────────────────────────────────────┼─────────────────────────────┼─────────────────┤\n",
              "│ dense_3 (<span style=\"color: #0087ff; text-decoration-color: #0087ff\">Dense</span>)                      │ (<span style=\"color: #00d7ff; text-decoration-color: #00d7ff\">None</span>, <span style=\"color: #00af00; text-decoration-color: #00af00\">4</span>)                   │           <span style=\"color: #00af00; text-decoration-color: #00af00\">2,052</span> │\n",
              "└──────────────────────────────────────┴─────────────────────────────┴─────────────────┘\n",
              "</pre>\n"
            ]
          },
          "metadata": {}
        },
        {
          "output_type": "display_data",
          "data": {
            "text/plain": [
              "\u001b[1m Total params: \u001b[0m\u001b[38;5;34m565,700\u001b[0m (2.16 MB)\n"
            ],
            "text/html": [
              "<pre style=\"white-space:pre;overflow-x:auto;line-height:normal;font-family:Menlo,'DejaVu Sans Mono',consolas,'Courier New',monospace\"><span style=\"font-weight: bold\"> Total params: </span><span style=\"color: #00af00; text-decoration-color: #00af00\">565,700</span> (2.16 MB)\n",
              "</pre>\n"
            ]
          },
          "metadata": {}
        },
        {
          "output_type": "display_data",
          "data": {
            "text/plain": [
              "\u001b[1m Trainable params: \u001b[0m\u001b[38;5;34m565,700\u001b[0m (2.16 MB)\n"
            ],
            "text/html": [
              "<pre style=\"white-space:pre;overflow-x:auto;line-height:normal;font-family:Menlo,'DejaVu Sans Mono',consolas,'Courier New',monospace\"><span style=\"font-weight: bold\"> Trainable params: </span><span style=\"color: #00af00; text-decoration-color: #00af00\">565,700</span> (2.16 MB)\n",
              "</pre>\n"
            ]
          },
          "metadata": {}
        },
        {
          "output_type": "display_data",
          "data": {
            "text/plain": [
              "\u001b[1m Non-trainable params: \u001b[0m\u001b[38;5;34m0\u001b[0m (0.00 B)\n"
            ],
            "text/html": [
              "<pre style=\"white-space:pre;overflow-x:auto;line-height:normal;font-family:Menlo,'DejaVu Sans Mono',consolas,'Courier New',monospace\"><span style=\"font-weight: bold\"> Non-trainable params: </span><span style=\"color: #00af00; text-decoration-color: #00af00\">0</span> (0.00 B)\n",
              "</pre>\n"
            ]
          },
          "metadata": {}
        }
      ]
    },
    {
      "cell_type": "code",
      "source": [
        "# Custom callback for reducing learning rate at accuracy values\n",
        "class ReduceLROnMultipleAccuracies(tf.keras.callbacks.Callback):\n",
        "    def __init__(self, thresholds, factor, monitor='val_accuracy', verbose=1):\n",
        "        super(ReduceLROnMultipleAccuracies, self).__init__()\n",
        "        self.thresholds = thresholds  # List of accuracy thresholds\n",
        "        self.factor = factor  # Factor to reduce the learning rate\n",
        "        self.monitor = monitor\n",
        "        self.verbose = verbose\n",
        "        self.thresholds_reached = [False] * len(thresholds)  # Track each threshold\n",
        "\n",
        "    def on_epoch_end(self, epoch, logs=None):\n",
        "        current_accuracy = logs.get(self.monitor)\n",
        "        for i, threshold in enumerate(self.thresholds):\n",
        "            if current_accuracy >= threshold and not self.thresholds_reached[i]:\n",
        "                optimizer = self.model.optimizer\n",
        "                old_lr = optimizer.learning_rate.numpy()\n",
        "                new_lr = old_lr * self.factor\n",
        "                optimizer.learning_rate.assign(new_lr)\n",
        "                self.thresholds_reached[i] = True  # Mark this threshold as reached\n",
        "                if self.verbose > 0:\n",
        "                    print(f\"\\nEpoch {epoch+1}: {self.monitor} reached {threshold}. Reducing learning rate from {old_lr} to {new_lr}.\")\n",
        "\n",
        "# Try a custom callback\n",
        "thresholds = [0.96, 0.99, 0.9935]\n",
        "lr_callback = ReduceLROnMultipleAccuracies(thresholds=thresholds, factor=0.75, monitor='val_accuracy', verbose=False)"
      ],
      "metadata": {
        "id": "up8qYi3UmArr"
      },
      "execution_count": 30,
      "outputs": []
    },
    {
      "cell_type": "code",
      "source": [
        "# Callbacks for improved covergence of gradient and best test accuracy\n",
        "model_rlr = ReduceLROnPlateau(monitor='val_loss', factor=0.8, min_lr=1e-4, patience=4, verbose=False)\n",
        "model_mc = ModelCheckpoint('model.keras', monitor='val_accuracy', mode='max', save_best_only=True, verbose=False)\n",
        "\n",
        "# Training the model\n",
        "history = model.fit(\n",
        "    train_ds_preprocessed,\n",
        "    epochs=epochs,\n",
        "    validation_data=test_ds_preprocessed,\n",
        "    callbacks=[model_rlr, model_mc],\n",
        "    verbose=True\n",
        ")"
      ],
      "metadata": {
        "colab": {
          "base_uri": "https://localhost:8080/"
        },
        "id": "D_T33XJymEDL",
        "outputId": "f0db2af6-2688-4a8b-b154-e867b220a591"
      },
      "execution_count": 31,
      "outputs": [
        {
          "output_type": "stream",
          "name": "stdout",
          "text": [
            "Epoch 1/50\n",
            "\u001b[1m83/83\u001b[0m \u001b[32m━━━━━━━━━━━━━━━━━━━━\u001b[0m\u001b[37m\u001b[0m \u001b[1m14s\u001b[0m 117ms/step - accuracy: 0.3711 - loss: 1.2315 - val_accuracy: 0.5717 - val_loss: 1.1271 - learning_rate: 0.0010\n",
            "Epoch 2/50\n",
            "\u001b[1m83/83\u001b[0m \u001b[32m━━━━━━━━━━━━━━━━━━━━\u001b[0m\u001b[37m\u001b[0m \u001b[1m19s\u001b[0m 125ms/step - accuracy: 0.7030 - loss: 0.7211 - val_accuracy: 0.7117 - val_loss: 0.7145 - learning_rate: 0.0010\n",
            "Epoch 3/50\n",
            "\u001b[1m83/83\u001b[0m \u001b[32m━━━━━━━━━━━━━━━━━━━━\u001b[0m\u001b[37m\u001b[0m \u001b[1m9s\u001b[0m 106ms/step - accuracy: 0.7629 - loss: 0.5520 - val_accuracy: 0.8250 - val_loss: 0.5477 - learning_rate: 0.0010\n",
            "Epoch 4/50\n",
            "\u001b[1m83/83\u001b[0m \u001b[32m━━━━━━━━━━━━━━━━━━━━\u001b[0m\u001b[37m\u001b[0m \u001b[1m8s\u001b[0m 93ms/step - accuracy: 0.8304 - loss: 0.4136 - val_accuracy: 0.8567 - val_loss: 0.4445 - learning_rate: 0.0010\n",
            "Epoch 5/50\n",
            "\u001b[1m83/83\u001b[0m \u001b[32m━━━━━━━━━━━━━━━━━━━━\u001b[0m\u001b[37m\u001b[0m \u001b[1m9s\u001b[0m 104ms/step - accuracy: 0.8591 - loss: 0.3366 - val_accuracy: 0.8667 - val_loss: 0.4467 - learning_rate: 0.0010\n",
            "Epoch 6/50\n",
            "\u001b[1m83/83\u001b[0m \u001b[32m━━━━━━━━━━━━━━━━━━━━\u001b[0m\u001b[37m\u001b[0m \u001b[1m9s\u001b[0m 105ms/step - accuracy: 0.8924 - loss: 0.2791 - val_accuracy: 0.8617 - val_loss: 0.5340 - learning_rate: 0.0010\n",
            "Epoch 7/50\n",
            "\u001b[1m83/83\u001b[0m \u001b[32m━━━━━━━━━━━━━━━━━━━━\u001b[0m\u001b[37m\u001b[0m \u001b[1m8s\u001b[0m 98ms/step - accuracy: 0.9131 - loss: 0.2229 - val_accuracy: 0.9083 - val_loss: 0.4492 - learning_rate: 0.0010\n",
            "Epoch 8/50\n",
            "\u001b[1m83/83\u001b[0m \u001b[32m━━━━━━━━━━━━━━━━━━━━\u001b[0m\u001b[37m\u001b[0m \u001b[1m9s\u001b[0m 99ms/step - accuracy: 0.9369 - loss: 0.1781 - val_accuracy: 0.9033 - val_loss: 0.3888 - learning_rate: 0.0010\n",
            "Epoch 9/50\n",
            "\u001b[1m83/83\u001b[0m \u001b[32m━━━━━━━━━━━━━━━━━━━━\u001b[0m\u001b[37m\u001b[0m \u001b[1m11s\u001b[0m 105ms/step - accuracy: 0.9284 - loss: 0.1707 - val_accuracy: 0.9067 - val_loss: 0.4628 - learning_rate: 0.0010\n",
            "Epoch 10/50\n",
            "\u001b[1m83/83\u001b[0m \u001b[32m━━━━━━━━━━━━━━━━━━━━\u001b[0m\u001b[37m\u001b[0m \u001b[1m9s\u001b[0m 106ms/step - accuracy: 0.9517 - loss: 0.1368 - val_accuracy: 0.8983 - val_loss: 0.5030 - learning_rate: 0.0010\n",
            "Epoch 11/50\n",
            "\u001b[1m83/83\u001b[0m \u001b[32m━━━━━━━━━━━━━━━━━━━━\u001b[0m\u001b[37m\u001b[0m \u001b[1m9s\u001b[0m 90ms/step - accuracy: 0.9571 - loss: 0.1185 - val_accuracy: 0.8700 - val_loss: 0.5777 - learning_rate: 0.0010\n",
            "Epoch 12/50\n",
            "\u001b[1m83/83\u001b[0m \u001b[32m━━━━━━━━━━━━━━━━━━━━\u001b[0m\u001b[37m\u001b[0m \u001b[1m9s\u001b[0m 106ms/step - accuracy: 0.9548 - loss: 0.1226 - val_accuracy: 0.8800 - val_loss: 0.5740 - learning_rate: 0.0010\n",
            "Epoch 13/50\n",
            "\u001b[1m83/83\u001b[0m \u001b[32m━━━━━━━━━━━━━━━━━━━━\u001b[0m\u001b[37m\u001b[0m \u001b[1m10s\u001b[0m 104ms/step - accuracy: 0.9691 - loss: 0.1012 - val_accuracy: 0.9083 - val_loss: 0.4269 - learning_rate: 8.0000e-04\n",
            "Epoch 14/50\n",
            "\u001b[1m83/83\u001b[0m \u001b[32m━━━━━━━━━━━━━━━━━━━━\u001b[0m\u001b[37m\u001b[0m \u001b[1m9s\u001b[0m 105ms/step - accuracy: 0.9637 - loss: 0.0910 - val_accuracy: 0.9200 - val_loss: 0.4165 - learning_rate: 8.0000e-04\n",
            "Epoch 15/50\n",
            "\u001b[1m83/83\u001b[0m \u001b[32m━━━━━━━━━━━━━━━━━━━━\u001b[0m\u001b[37m\u001b[0m \u001b[1m8s\u001b[0m 94ms/step - accuracy: 0.9783 - loss: 0.0604 - val_accuracy: 0.9233 - val_loss: 0.4856 - learning_rate: 8.0000e-04\n",
            "Epoch 16/50\n",
            "\u001b[1m83/83\u001b[0m \u001b[32m━━━━━━━━━━━━━━━━━━━━\u001b[0m\u001b[37m\u001b[0m \u001b[1m11s\u001b[0m 99ms/step - accuracy: 0.9778 - loss: 0.0607 - val_accuracy: 0.9233 - val_loss: 0.5218 - learning_rate: 8.0000e-04\n",
            "Epoch 17/50\n",
            "\u001b[1m83/83\u001b[0m \u001b[32m━━━━━━━━━━━━━━━━━━━━\u001b[0m\u001b[37m\u001b[0m \u001b[1m10s\u001b[0m 103ms/step - accuracy: 0.9746 - loss: 0.0768 - val_accuracy: 0.9217 - val_loss: 0.5844 - learning_rate: 6.4000e-04\n",
            "Epoch 18/50\n",
            "\u001b[1m83/83\u001b[0m \u001b[32m━━━━━━━━━━━━━━━━━━━━\u001b[0m\u001b[37m\u001b[0m \u001b[1m9s\u001b[0m 105ms/step - accuracy: 0.9842 - loss: 0.0473 - val_accuracy: 0.9350 - val_loss: 0.4622 - learning_rate: 6.4000e-04\n",
            "Epoch 19/50\n",
            "\u001b[1m83/83\u001b[0m \u001b[32m━━━━━━━━━━━━━━━━━━━━\u001b[0m\u001b[37m\u001b[0m \u001b[1m8s\u001b[0m 92ms/step - accuracy: 0.9891 - loss: 0.0320 - val_accuracy: 0.9267 - val_loss: 0.4967 - learning_rate: 6.4000e-04\n",
            "Epoch 20/50\n",
            "\u001b[1m83/83\u001b[0m \u001b[32m━━━━━━━━━━━━━━━━━━━━\u001b[0m\u001b[37m\u001b[0m \u001b[1m10s\u001b[0m 94ms/step - accuracy: 0.9857 - loss: 0.0494 - val_accuracy: 0.9100 - val_loss: 0.5235 - learning_rate: 6.4000e-04\n",
            "Epoch 21/50\n",
            "\u001b[1m83/83\u001b[0m \u001b[32m━━━━━━━━━━━━━━━━━━━━\u001b[0m\u001b[37m\u001b[0m \u001b[1m9s\u001b[0m 107ms/step - accuracy: 0.9882 - loss: 0.0385 - val_accuracy: 0.9100 - val_loss: 0.6099 - learning_rate: 5.1200e-04\n",
            "Epoch 22/50\n",
            "\u001b[1m83/83\u001b[0m \u001b[32m━━━━━━━━━━━━━━━━━━━━\u001b[0m\u001b[37m\u001b[0m \u001b[1m9s\u001b[0m 106ms/step - accuracy: 0.9878 - loss: 0.0301 - val_accuracy: 0.9367 - val_loss: 0.4160 - learning_rate: 5.1200e-04\n",
            "Epoch 23/50\n",
            "\u001b[1m83/83\u001b[0m \u001b[32m━━━━━━━━━━━━━━━━━━━━\u001b[0m\u001b[37m\u001b[0m \u001b[1m8s\u001b[0m 93ms/step - accuracy: 0.9875 - loss: 0.0398 - val_accuracy: 0.9483 - val_loss: 0.4502 - learning_rate: 5.1200e-04\n",
            "Epoch 24/50\n",
            "\u001b[1m83/83\u001b[0m \u001b[32m━━━━━━━━━━━━━━━━━━━━\u001b[0m\u001b[37m\u001b[0m \u001b[1m10s\u001b[0m 95ms/step - accuracy: 0.9930 - loss: 0.0270 - val_accuracy: 0.9450 - val_loss: 0.5297 - learning_rate: 5.1200e-04\n",
            "Epoch 25/50\n",
            "\u001b[1m83/83\u001b[0m \u001b[32m━━━━━━━━━━━━━━━━━━━━\u001b[0m\u001b[37m\u001b[0m \u001b[1m9s\u001b[0m 105ms/step - accuracy: 0.9955 - loss: 0.0157 - val_accuracy: 0.9417 - val_loss: 0.6331 - learning_rate: 4.0960e-04\n",
            "Epoch 26/50\n",
            "\u001b[1m83/83\u001b[0m \u001b[32m━━━━━━━━━━━━━━━━━━━━\u001b[0m\u001b[37m\u001b[0m \u001b[1m9s\u001b[0m 104ms/step - accuracy: 0.9962 - loss: 0.0189 - val_accuracy: 0.9267 - val_loss: 0.5708 - learning_rate: 4.0960e-04\n",
            "Epoch 27/50\n",
            "\u001b[1m83/83\u001b[0m \u001b[32m━━━━━━━━━━━━━━━━━━━━\u001b[0m\u001b[37m\u001b[0m \u001b[1m8s\u001b[0m 95ms/step - accuracy: 0.9933 - loss: 0.0187 - val_accuracy: 0.9483 - val_loss: 0.5044 - learning_rate: 4.0960e-04\n",
            "Epoch 28/50\n",
            "\u001b[1m83/83\u001b[0m \u001b[32m━━━━━━━━━━━━━━━━━━━━\u001b[0m\u001b[37m\u001b[0m \u001b[1m9s\u001b[0m 105ms/step - accuracy: 0.9935 - loss: 0.0177 - val_accuracy: 0.9383 - val_loss: 0.4883 - learning_rate: 4.0960e-04\n",
            "Epoch 29/50\n",
            "\u001b[1m83/83\u001b[0m \u001b[32m━━━━━━━━━━━━━━━━━━━━\u001b[0m\u001b[37m\u001b[0m \u001b[1m9s\u001b[0m 104ms/step - accuracy: 0.9945 - loss: 0.0143 - val_accuracy: 0.9433 - val_loss: 0.5248 - learning_rate: 3.2768e-04\n",
            "Epoch 30/50\n",
            "\u001b[1m83/83\u001b[0m \u001b[32m━━━━━━━━━━━━━━━━━━━━\u001b[0m\u001b[37m\u001b[0m \u001b[1m9s\u001b[0m 94ms/step - accuracy: 0.9930 - loss: 0.0207 - val_accuracy: 0.9483 - val_loss: 0.5395 - learning_rate: 3.2768e-04\n",
            "Epoch 31/50\n",
            "\u001b[1m83/83\u001b[0m \u001b[32m━━━━━━━━━━━━━━━━━━━━\u001b[0m\u001b[37m\u001b[0m \u001b[1m10s\u001b[0m 93ms/step - accuracy: 0.9984 - loss: 0.0112 - val_accuracy: 0.9450 - val_loss: 0.5124 - learning_rate: 3.2768e-04\n",
            "Epoch 32/50\n",
            "\u001b[1m83/83\u001b[0m \u001b[32m━━━━━━━━━━━━━━━━━━━━\u001b[0m\u001b[37m\u001b[0m \u001b[1m9s\u001b[0m 106ms/step - accuracy: 0.9973 - loss: 0.0082 - val_accuracy: 0.9417 - val_loss: 0.5210 - learning_rate: 3.2768e-04\n",
            "Epoch 33/50\n",
            "\u001b[1m83/83\u001b[0m \u001b[32m━━━━━━━━━━━━━━━━━━━━\u001b[0m\u001b[37m\u001b[0m \u001b[1m9s\u001b[0m 103ms/step - accuracy: 0.9939 - loss: 0.0157 - val_accuracy: 0.9450 - val_loss: 0.5673 - learning_rate: 2.6214e-04\n",
            "Epoch 34/50\n",
            "\u001b[1m83/83\u001b[0m \u001b[32m━━━━━━━━━━━━━━━━━━━━\u001b[0m\u001b[37m\u001b[0m \u001b[1m8s\u001b[0m 92ms/step - accuracy: 0.9971 - loss: 0.0092 - val_accuracy: 0.9483 - val_loss: 0.4653 - learning_rate: 2.6214e-04\n",
            "Epoch 35/50\n",
            "\u001b[1m83/83\u001b[0m \u001b[32m━━━━━━━━━━━━━━━━━━━━\u001b[0m\u001b[37m\u001b[0m \u001b[1m10s\u001b[0m 93ms/step - accuracy: 0.9957 - loss: 0.0089 - val_accuracy: 0.9400 - val_loss: 0.5517 - learning_rate: 2.6214e-04\n",
            "Epoch 36/50\n",
            "\u001b[1m83/83\u001b[0m \u001b[32m━━━━━━━━━━━━━━━━━━━━\u001b[0m\u001b[37m\u001b[0m \u001b[1m9s\u001b[0m 107ms/step - accuracy: 0.9975 - loss: 0.0073 - val_accuracy: 0.9450 - val_loss: 0.6056 - learning_rate: 2.6214e-04\n",
            "Epoch 37/50\n",
            "\u001b[1m83/83\u001b[0m \u001b[32m━━━━━━━━━━━━━━━━━━━━\u001b[0m\u001b[37m\u001b[0m \u001b[1m9s\u001b[0m 105ms/step - accuracy: 0.9976 - loss: 0.0076 - val_accuracy: 0.9533 - val_loss: 0.5004 - learning_rate: 2.0972e-04\n",
            "Epoch 38/50\n",
            "\u001b[1m83/83\u001b[0m \u001b[32m━━━━━━━━━━━━━━━━━━━━\u001b[0m\u001b[37m\u001b[0m \u001b[1m8s\u001b[0m 97ms/step - accuracy: 0.9988 - loss: 0.0042 - val_accuracy: 0.9550 - val_loss: 0.5077 - learning_rate: 2.0972e-04\n",
            "Epoch 39/50\n",
            "\u001b[1m83/83\u001b[0m \u001b[32m━━━━━━━━━━━━━━━━━━━━\u001b[0m\u001b[37m\u001b[0m \u001b[1m9s\u001b[0m 104ms/step - accuracy: 0.9978 - loss: 0.0038 - val_accuracy: 0.9467 - val_loss: 0.5615 - learning_rate: 2.0972e-04\n",
            "Epoch 40/50\n",
            "\u001b[1m83/83\u001b[0m \u001b[32m━━━━━━━━━━━━━━━━━━━━\u001b[0m\u001b[37m\u001b[0m \u001b[1m9s\u001b[0m 104ms/step - accuracy: 0.9978 - loss: 0.0044 - val_accuracy: 0.9250 - val_loss: 0.6270 - learning_rate: 2.0972e-04\n",
            "Epoch 41/50\n",
            "\u001b[1m83/83\u001b[0m \u001b[32m━━━━━━━━━━━━━━━━━━━━\u001b[0m\u001b[37m\u001b[0m \u001b[1m11s\u001b[0m 108ms/step - accuracy: 0.9950 - loss: 0.0122 - val_accuracy: 0.9450 - val_loss: 0.5540 - learning_rate: 1.6777e-04\n",
            "Epoch 42/50\n",
            "\u001b[1m83/83\u001b[0m \u001b[32m━━━━━━━━━━━━━━━━━━━━\u001b[0m\u001b[37m\u001b[0m \u001b[1m8s\u001b[0m 96ms/step - accuracy: 0.9959 - loss: 0.0079 - val_accuracy: 0.9467 - val_loss: 0.5201 - learning_rate: 1.6777e-04\n",
            "Epoch 43/50\n",
            "\u001b[1m83/83\u001b[0m \u001b[32m━━━━━━━━━━━━━━━━━━━━\u001b[0m\u001b[37m\u001b[0m \u001b[1m9s\u001b[0m 106ms/step - accuracy: 0.9978 - loss: 0.0039 - val_accuracy: 0.9467 - val_loss: 0.5276 - learning_rate: 1.6777e-04\n",
            "Epoch 44/50\n",
            "\u001b[1m83/83\u001b[0m \u001b[32m━━━━━━━━━━━━━━━━━━━━\u001b[0m\u001b[37m\u001b[0m \u001b[1m9s\u001b[0m 106ms/step - accuracy: 0.9983 - loss: 0.0040 - val_accuracy: 0.9433 - val_loss: 0.5725 - learning_rate: 1.6777e-04\n",
            "Epoch 45/50\n",
            "\u001b[1m83/83\u001b[0m \u001b[32m━━━━━━━━━━━━━━━━━━━━\u001b[0m\u001b[37m\u001b[0m \u001b[1m9s\u001b[0m 101ms/step - accuracy: 0.9981 - loss: 0.0046 - val_accuracy: 0.9433 - val_loss: 0.6303 - learning_rate: 1.3422e-04\n",
            "Epoch 46/50\n",
            "\u001b[1m83/83\u001b[0m \u001b[32m━━━━━━━━━━━━━━━━━━━━\u001b[0m\u001b[37m\u001b[0m \u001b[1m10s\u001b[0m 94ms/step - accuracy: 0.9981 - loss: 0.0034 - val_accuracy: 0.9483 - val_loss: 0.5872 - learning_rate: 1.3422e-04\n",
            "Epoch 47/50\n",
            "\u001b[1m83/83\u001b[0m \u001b[32m━━━━━━━━━━━━━━━━━━━━\u001b[0m\u001b[37m\u001b[0m \u001b[1m9s\u001b[0m 104ms/step - accuracy: 0.9986 - loss: 0.0026 - val_accuracy: 0.9433 - val_loss: 0.6003 - learning_rate: 1.3422e-04\n",
            "Epoch 48/50\n",
            "\u001b[1m83/83\u001b[0m \u001b[32m━━━━━━━━━━━━━━━━━━━━\u001b[0m\u001b[37m\u001b[0m \u001b[1m9s\u001b[0m 103ms/step - accuracy: 0.9993 - loss: 0.0023 - val_accuracy: 0.9467 - val_loss: 0.6298 - learning_rate: 1.3422e-04\n",
            "Epoch 49/50\n",
            "\u001b[1m83/83\u001b[0m \u001b[32m━━━━━━━━━━━━━━━━━━━━\u001b[0m\u001b[37m\u001b[0m \u001b[1m10s\u001b[0m 103ms/step - accuracy: 0.9985 - loss: 0.0021 - val_accuracy: 0.9433 - val_loss: 0.6377 - learning_rate: 1.0737e-04\n",
            "Epoch 50/50\n",
            "\u001b[1m83/83\u001b[0m \u001b[32m━━━━━━━━━━━━━━━━━━━━\u001b[0m\u001b[37m\u001b[0m \u001b[1m10s\u001b[0m 95ms/step - accuracy: 0.9982 - loss: 0.0035 - val_accuracy: 0.9433 - val_loss: 0.6284 - learning_rate: 1.0737e-04\n"
          ]
        }
      ]
    },
    {
      "cell_type": "markdown",
      "source": [
        "### Model Evaluation"
      ],
      "metadata": {
        "id": "RzpqYkFQmhyK"
      }
    },
    {
      "cell_type": "code",
      "source": [
        "test_loss, test_acc = model.evaluate(test_ds_preprocessed)\n",
        "print(f\"Test accuracy: {test_acc*100:0.4f}%\")"
      ],
      "metadata": {
        "colab": {
          "base_uri": "https://localhost:8080/"
        },
        "id": "kImPdjGTmEYc",
        "outputId": "5003d496-746d-4a50-d35d-c93c66111c8f"
      },
      "execution_count": 32,
      "outputs": [
        {
          "output_type": "stream",
          "name": "stdout",
          "text": [
            "\u001b[1m19/19\u001b[0m \u001b[32m━━━━━━━━━━━━━━━━━━━━\u001b[0m\u001b[37m\u001b[0m \u001b[1m0s\u001b[0m 21ms/step - accuracy: 0.9270 - loss: 0.6214\n",
            "Test accuracy: 94.3333%\n"
          ]
        }
      ]
    },
    {
      "source": [
        "from sklearn.metrics import classification_report\n",
        "\n",
        "y_pred = model.predict(test_ds_preprocessed)\n",
        "y_pred_classes = np.argmax(y_pred, axis=1)\n",
        "# Get true labels as class indices instead of one-hot encoded vectors\n",
        "true_labels = np.concatenate([np.argmax(y.numpy(), axis=-1) for x, y in test_ds_preprocessed], axis=0)\n",
        "print(classification_report(true_labels, y_pred_classes))"
      ],
      "cell_type": "code",
      "metadata": {
        "colab": {
          "base_uri": "https://localhost:8080/"
        },
        "id": "lo81rWj8qgoG",
        "outputId": "2ecabd8b-c4d1-4017-ee21-5d3ee6c247a0"
      },
      "execution_count": 33,
      "outputs": [
        {
          "output_type": "stream",
          "name": "stdout",
          "text": [
            "\u001b[1m19/19\u001b[0m \u001b[32m━━━━━━━━━━━━━━━━━━━━\u001b[0m\u001b[37m\u001b[0m \u001b[1m2s\u001b[0m 68ms/step\n",
            "              precision    recall  f1-score   support\n",
            "\n",
            "           0       0.92      0.95      0.93       150\n",
            "           1       0.94      0.87      0.90       150\n",
            "           2       0.96      0.98      0.97       150\n",
            "           3       0.96      0.97      0.96       150\n",
            "\n",
            "    accuracy                           0.94       600\n",
            "   macro avg       0.94      0.94      0.94       600\n",
            "weighted avg       0.94      0.94      0.94       600\n",
            "\n"
          ]
        }
      ]
    },
    {
      "cell_type": "code",
      "source": [
        "plt.plot(history.history['accuracy'])\n",
        "plt.plot(history.history['val_accuracy'])\n",
        "plt.title('model accuracy')\n",
        "plt.ylabel('accuracy')\n",
        "plt.xlabel('epoch')\n",
        "plt.legend(['train', 'val'], loc='upper left')"
      ],
      "metadata": {
        "colab": {
          "base_uri": "https://localhost:8080/",
          "height": 490
        },
        "id": "6gSQMtiDqpMm",
        "outputId": "94f55916-8bd5-4376-b37a-26e300463d54"
      },
      "execution_count": 34,
      "outputs": [
        {
          "output_type": "execute_result",
          "data": {
            "text/plain": [
              "<matplotlib.legend.Legend at 0x7b886fff3350>"
            ]
          },
          "metadata": {},
          "execution_count": 34
        },
        {
          "output_type": "display_data",
          "data": {
            "text/plain": [
              "<Figure size 640x480 with 1 Axes>"
            ],
            "image/png": "[encoded data removed]"
          },
          "metadata": {}
        }
      ]
    },
    {
      "cell_type": "code",
      "source": [
        "plt.plot(history.history['loss'])\n",
        "plt.plot(history.history['val_loss'])\n",
        "plt.title('model loss')\n",
        "plt.ylabel('loss')\n",
        "plt.xlabel('epoch')\n",
        "plt.legend(['train', 'val'], loc='upper left')"
      ],
      "metadata": {
        "colab": {
          "base_uri": "https://localhost:8080/",
          "height": 490
        },
        "id": "VE612X8iqpqH",
        "outputId": "88913574-5461-499d-8a52-c8e756a4a6ed"
      },
      "execution_count": 35,
      "outputs": [
        {
          "output_type": "execute_result",
          "data": {
            "text/plain": [
              "<matplotlib.legend.Legend at 0x7b8820169d90>"
            ]
          },
          "metadata": {},
          "execution_count": 35
        },
        {
          "output_type": "display_data",
          "data": {
            "text/plain": [
              "<Figure size 640x480 with 1 Axes>"
            ],
            "image/png": "[encoded data removed]"
          },
          "metadata": {}
        }
      ]
    },
    {
      "cell_type": "code",
      "source": [
        "# prompt: I want confusion matrix\n",
        "\n",
        "from sklearn.metrics import confusion_matrix\n",
        "import seaborn as sns\n",
        "import matplotlib.pyplot as plt\n",
        "\n",
        "cm = confusion_matrix(true_labels, y_pred_classes)\n",
        "\n",
        "plt.figure(figsize=(8, 6))\n",
        "sns.heatmap(cm, annot=True, fmt='d', cmap='Blues', xticklabels=class_names, yticklabels=class_names)\n",
        "plt.xlabel('Predicted')\n",
        "plt.ylabel('True')\n",
        "plt.title('Confusion Matrix')\n",
        "plt.show()"
      ],
      "metadata": {
        "colab": {
          "base_uri": "https://localhost:8080/",
          "height": 564
        },
        "id": "YtXDiC7Nq4yG",
        "outputId": "3f1b40b5-6c9d-482d-ea88-45b1d763d14f"
      },
      "execution_count": 36,
      "outputs": [
        {
          "output_type": "display_data",
          "data": {
            "text/plain": [
              "<Figure size 800x600 with 2 Axes>"
            ],
            "image/png": "[encoded data removed]"
          },
          "metadata": {}
        }
      ]
    },
    {
      "cell_type": "code",
      "source": [
        "# prompt: write a program to predict on one image\n",
        "\n",
        "import numpy as np\n",
        "# Load the saved model\n",
        "model = load_model('model.keras')  # Replace 'your_model.h5' with the actual path\n",
        "\n",
        "# Function to predict on a single image\n",
        "def predict_on_image(image_path):\n",
        "    img = load_img(image_path, color_mode='grayscale', target_size=(168, 168))\n",
        "    img_array = image.img_to_array(img)\n",
        "    img_array = np.expand_dims(img_array, axis=0)\n",
        "    img_array /= 255.0  # Normalize\n",
        "\n",
        "    prediction = model.predict(img_array)\n",
        "    predicted_class = np.argmax(prediction)\n",
        "\n",
        "    return predicted_class, prediction\n",
        "\n",
        "# Example usage:\n",
        "image_path_to_predict = 'Tr-pi_0021.jpg'  # Replace with your image path\n",
        "predicted_class, prediction = predict_on_image(image_path_to_predict)\n",
        "\n",
        "print(f\"Predicted class index: {predicted_class}\")\n",
        "print(f\"Prediction probabilities: {prediction}\")\n",
        "\n",
        "# Map the predicted class index to the class label\n",
        "predicted_class_label = inv_class_mappings[predicted_class]\n",
        "print(f\"Predicted class label: {predicted_class_label}\")\n"
      ],
      "metadata": {
        "colab": {
          "base_uri": "https://localhost:8080/"
        },
        "id": "dJ5ee7EfrQPl",
        "outputId": "803eed73-f4a3-4553-ea6f-a37f1690e4f9"
      },
      "execution_count": null,
      "outputs": [
        {
          "output_type": "stream",
          "name": "stdout",
          "text": [
            "\u001b[1m1/1\u001b[0m \u001b[32m━━━━━━━━━━━━━━━━━━━━\u001b[0m\u001b[37m\u001b[0m \u001b[1m1s\u001b[0m 643ms/step\n",
            "Predicted class index: 3\n",
            "Prediction probabilities: [[2.7372141e-19 9.1810423e-14 2.6714243e-13 1.0000000e+00]]\n",
            "Predicted class label: Pituitary\n"
          ]
        }
      ]
    },
    {
      "cell_type": "code",
      "source": [
        "# prompt: save my model in .h5\n",
        "\n",
        "model.save('SL_50_model_94_acc.keras')\n"
      ],
      "metadata": {
        "id": "HTpREaZ1r1GW"
      },
      "execution_count": 38,
      "outputs": []
    },
    {
      "cell_type": "code",
      "source": [
        "!ls"
      ],
      "metadata": {
        "id": "zi97C1b-r-U2",
        "colab": {
          "base_uri": "https://localhost:8080/"
        },
        "outputId": "863145d6-3e62-4d0b-cd65-ab0abf60f8c5"
      },
      "execution_count": 39,
      "outputs": [
        {
          "output_type": "stream",
          "name": "stdout",
          "text": [
            "BT_50  BT_50.zip  model.keras  sample_data  SL_50_model_94_acc.h5  SL_50_model_94_acc.keras\n"
          ]
        }
      ]
    },
    {
      "cell_type": "code",
      "source": [],
      "metadata": {
        "id": "6IVIIgeaz15L"
      },
      "execution_count": null,
      "outputs": []
    }
  ]
}